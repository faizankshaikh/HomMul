{
  "nbformat": 4,
  "nbformat_minor": 0,
  "metadata": {
    "colab": {
      "provenance": [],
      "gpuType": "T4",
      "authorship_tag": "ABX9TyPKoiL8S+PvBQtRdVo2w1AW",
      "include_colab_link": true
    },
    "kernelspec": {
      "name": "python3",
      "display_name": "Python 3"
    },
    "language_info": {
      "name": "python"
    },
    "gpuClass": "standard"
  },
  "cells": [
    {
      "cell_type": "markdown",
      "metadata": {
        "id": "view-in-github",
        "colab_type": "text"
      },
      "source": [
        "<a href=\"https://colab.research.google.com/github/faizankshaikh/HomMul/blob/main/experiments/trial1.ipynb\" target=\"_parent\"><img src=\"https://colab.research.google.com/assets/colab-badge.svg\" alt=\"Open In Colab\"/></a>"
      ]
    },
    {
      "cell_type": "markdown",
      "source": [
        "# Experiments with Self-Playing Deep Reinforcement Learning\n"
      ],
      "metadata": {
        "id": "EG4U4ibl9Cnl"
      }
    },
    {
      "cell_type": "markdown",
      "source": [
        "## Initializing the game"
      ],
      "metadata": {
        "id": "TVyJ1rvE6_Gt"
      }
    },
    {
      "cell_type": "code",
      "execution_count": 1,
      "metadata": {
        "id": "V2BNDFAEr5fq",
        "cellView": "form",
        "outputId": "b6f8a37a-d4c6-4318-8e6d-bc831edb3d81",
        "colab": {
          "base_uri": "https://localhost:8080/"
        }
      },
      "outputs": [
        {
          "output_type": "stream",
          "name": "stdout",
          "text": [
            "\u001b[2K     \u001b[90m━━━━━━━━━━━━━━━━━━━━━━━━━━━━━━━━━━━━━━━━\u001b[0m \u001b[32m1.7/1.7 MB\u001b[0m \u001b[31m9.5 MB/s\u001b[0m eta \u001b[36m0:00:00\u001b[0m\n",
            "\u001b[2K     \u001b[90m━━━━━━━━━━━━━━━━━━━━━━━━━━━━━━━━━━━━━━\u001b[0m \u001b[32m925.5/925.5 kB\u001b[0m \u001b[31m28.5 MB/s\u001b[0m eta \u001b[36m0:00:00\u001b[0m\n",
            "\u001b[2K     \u001b[90m━━━━━━━━━━━━━━━━━━━━━━━━━━━━━━━━━━━━━━\u001b[0m \u001b[32m816.1/816.1 kB\u001b[0m \u001b[31m19.3 MB/s\u001b[0m eta \u001b[36m0:00:00\u001b[0m\n",
            "\u001b[2K     \u001b[90m━━━━━━━━━━━━━━━━━━━━━━━━━━━━━━━━━━━━━━━\u001b[0m \u001b[32m162.7/162.7 kB\u001b[0m \u001b[31m5.0 MB/s\u001b[0m eta \u001b[36m0:00:00\u001b[0m\n",
            "\u001b[?25hCloning into 'HomMul'...\n",
            "remote: Enumerating objects: 115, done.\u001b[K\n",
            "remote: Counting objects: 100% (115/115), done.\u001b[K\n",
            "remote: Compressing objects: 100% (85/85), done.\u001b[K\n",
            "remote: Total 115 (delta 38), reused 53 (delta 16), pack-reused 0\u001b[K\n",
            "Receiving objects: 100% (115/115), 4.84 MiB | 16.45 MiB/s, done.\n",
            "Resolving deltas: 100% (38/38), done.\n"
          ]
        }
      ],
      "source": [
        "#@title Required installation\n",
        "# !pip install -q black gymnasium pettingzoo==1.22.3 tianshou\n",
        "# !git clone https://github.com/faizankshaikh/HomMul.git"
      ]
    },
    {
      "cell_type": "code",
      "source": [
        "#@title Change working path\n",
        "%cd HomMul/"
      ],
      "metadata": {
        "colab": {
          "base_uri": "https://localhost:8080/"
        },
        "id": "NBShrrDlsJLP",
        "outputId": "b3653127-c53b-4f12-a43b-8dce3cfad383",
        "cellView": "form"
      },
      "execution_count": 2,
      "outputs": [
        {
          "output_type": "stream",
          "name": "stdout",
          "text": [
            "/content/HomMul\n"
          ]
        }
      ]
    },
    {
      "cell_type": "code",
      "source": [
        "#@title Import libraries and modules\n",
        "%load_ext tensorboard\n",
        "\n",
        "import os\n",
        "import torch\n",
        "import numpy as np\n",
        "import pandas as pd\n",
        "import matplotlib.pyplot as plt\n",
        "import matplotlib.patches as mpatches\n",
        "from sklearn.preprocessing import MinMaxScaler\n",
        "\n",
        "from hommul.envs.hommul_v0 import HomMul\n",
        "\n",
        "from torch.optim import Adam\n",
        "\n",
        "from tianshou.data import Batch\n",
        "from tianshou.utils.net.common import Net\n",
        "from tianshou.utils import TensorboardLogger\n",
        "from tianshou.trainer import offpolicy_trainer\n",
        "from tianshou.data import Collector, VectorReplayBuffer\n",
        "from tianshou.env import DummyVectorEnv, PettingZooEnv\n",
        "from tianshou.policy import BasePolicy, DQNPolicy, MultiAgentPolicyManager\n",
        "\n",
        "from pettingzoo.utils import parallel_to_aec\n",
        "\n",
        "from torch.utils.tensorboard import SummaryWriter"
      ],
      "metadata": {
        "id": "othtAUgWs8MA",
        "cellView": "form"
      },
      "execution_count": 3,
      "outputs": []
    },
    {
      "cell_type": "code",
      "source": [
        "#@title Setup Gymnasium environment\n",
        "env = HomMul(include_all_states=True)\n",
        "original_env = HomMul(include_all_states=True, render_mode=\"human\")"
      ],
      "metadata": {
        "colab": {
          "base_uri": "https://localhost:8080/"
        },
        "id": "ZkPx4nCOuhXX",
        "outputId": "6e523e4a-d85d-4c4c-979c-5740ff6a8dca",
        "cellView": "form"
      },
      "execution_count": 4,
      "outputs": [
        {
          "output_type": "stream",
          "name": "stderr",
          "text": [
            "/usr/local/lib/python3.10/dist-packages/ipykernel/ipkernel.py:283: DeprecationWarning: `should_run_async` will not call `transform_cell` automatically in the future. Please pass the result to `transformed_cell` argument and any exception that happen during thetransform in `preprocessing_exc_tuple` in IPython 7.17 and above.\n",
            "  and should_run_async(code)\n"
          ]
        }
      ]
    },
    {
      "cell_type": "code",
      "source": [
        "#@title Example of gameplay\n",
        "episodes = 2\n",
        "\n",
        "for episode in range(episodes):\n",
        "    print(f\"Episode #{episode+1}\")\n",
        "    print(\"=\" * 10)\n",
        "    obs = original_env.reset()\n",
        "    print()\n",
        "\n",
        "    while original_env.agents:\n",
        "        acts = {\n",
        "            \"player1\": np.random.choice([0, 1]),\n",
        "            \"player2\": np.random.choice([0, 1])\n",
        "        }\n",
        "        print(f\"--Action taken by player 1: {original_env.action_dict[acts['player1']]}\")\n",
        "        print(f\"--Action taken by player 2: {original_env.action_dict[acts['player2']]}\")\n",
        "        print()\n",
        "\n",
        "        obs, rews, terms, truncs, infos = original_env.step(acts)\n",
        "        print()"
      ],
      "metadata": {
        "colab": {
          "base_uri": "https://localhost:8080/"
        },
        "id": "ANr_Vc2ouvVJ",
        "outputId": "b5c61a3b-9f93-41ce-d086-b2046c088634",
        "cellView": "form"
      },
      "execution_count": 5,
      "outputs": [
        {
          "output_type": "stream",
          "name": "stdout",
          "text": [
            "Episode #1\n",
            "==========\n",
            "--Days left: 3\n",
            "--Current life of agent 1: 4\n",
            "--Current life of agent 2: 4\n",
            "--Probability of payoff for agent 1: 0.4\n",
            "--Probability of payoff for agent 2: 0.4\n",
            "\n",
            "--Action taken by player 1: play\n",
            "--Action taken by player 2: wait\n",
            "\n",
            "--Days left: 2\n",
            "--Current life of agent 1: 2\n",
            "--Current life of agent 2: 3\n",
            "--Probability of payoff for agent 1: 0.4\n",
            "--Probability of payoff for agent 2: 0.4\n",
            "--Previous action of agent 1: play\n",
            "--Previous action of agent 2: wait\n",
            "\n",
            "--Action taken by player 1: wait\n",
            "--Action taken by player 2: play\n",
            "\n",
            "--Days left: 1\n",
            "--Current life of agent 1: 1\n",
            "--Current life of agent 2: 1\n",
            "--Probability of payoff for agent 1: 0.4\n",
            "--Probability of payoff for agent 2: 0.4\n",
            "--Previous action of agent 1: wait\n",
            "--Previous action of agent 2: play\n",
            "\n",
            "--Action taken by player 1: play\n",
            "--Action taken by player 2: play\n",
            "\n",
            "--Days left: 0\n",
            "--Current life of agent 1: 2\n",
            "--Current life of agent 2: 2\n",
            "--Probability of payoff for agent 1: 0.2\n",
            "--Probability of payoff for agent 2: 0.2\n",
            "--Previous action of agent 1: play\n",
            "--Previous action of agent 2: play\n",
            "\n",
            "Episode #2\n",
            "==========\n",
            "--Days left: 5\n",
            "--Current life of agent 1: 4\n",
            "--Current life of agent 2: 4\n",
            "--Probability of payoff for agent 1: 0.4\n",
            "--Probability of payoff for agent 2: 0.4\n",
            "\n",
            "--Action taken by player 1: wait\n",
            "--Action taken by player 2: wait\n",
            "\n",
            "--Days left: 4\n",
            "--Current life of agent 1: 3\n",
            "--Current life of agent 2: 3\n",
            "--Probability of payoff for agent 1: 0.4\n",
            "--Probability of payoff for agent 2: 0.4\n",
            "--Previous action of agent 1: wait\n",
            "--Previous action of agent 2: wait\n",
            "\n",
            "--Action taken by player 1: wait\n",
            "--Action taken by player 2: play\n",
            "\n",
            "--Days left: 3\n",
            "--Current life of agent 1: 2\n",
            "--Current life of agent 2: 4\n",
            "--Probability of payoff for agent 1: 0.2\n",
            "--Probability of payoff for agent 2: 0.2\n",
            "--Previous action of agent 1: wait\n",
            "--Previous action of agent 2: play\n",
            "\n",
            "--Action taken by player 1: wait\n",
            "--Action taken by player 2: wait\n",
            "\n",
            "--Days left: 2\n",
            "--Current life of agent 1: 1\n",
            "--Current life of agent 2: 3\n",
            "--Probability of payoff for agent 1: 0.2\n",
            "--Probability of payoff for agent 2: 0.2\n",
            "--Previous action of agent 1: wait\n",
            "--Previous action of agent 2: wait\n",
            "\n",
            "--Action taken by player 1: play\n",
            "--Action taken by player 2: wait\n",
            "\n",
            "--Days left: 1\n",
            "--Current life of agent 1: 0\n",
            "--Current life of agent 2: 2\n",
            "--Probability of payoff for agent 1: 0.2\n",
            "--Probability of payoff for agent 2: 0.2\n",
            "--Previous action of agent 1: play\n",
            "--Previous action of agent 2: wait\n",
            "\n",
            "--Action taken by player 1: wait\n",
            "--Action taken by player 2: wait\n",
            "\n",
            "--Days left: 0\n",
            "--Current life of agent 1: 0\n",
            "--Current life of agent 2: 1\n",
            "--Probability of payoff for agent 1: 0.2\n",
            "--Probability of payoff for agent 2: 0.2\n",
            "--Previous action of agent 1: wait\n",
            "--Previous action of agent 2: wait\n",
            "\n"
          ]
        }
      ]
    },
    {
      "cell_type": "markdown",
      "source": [
        "## Heuristics Benchmarking\n"
      ],
      "metadata": {
        "id": "7QKl99aq9q4K"
      }
    },
    {
      "cell_type": "code",
      "source": [
        "#@title Case - both always play\n",
        "episodes = 1000\n",
        "\n",
        "episode_rews = []\n",
        "\n",
        "for _ in range(episodes):\n",
        "\n",
        "    obs = env.reset()\n",
        "    while env.agents:\n",
        "        acts = {\n",
        "            \"player1\": 1,\n",
        "            \"player2\": 1\n",
        "        }\n",
        "\n",
        "        obs, rews, terms, truncs, infos = env.step(acts)\n",
        "        # print(obs, rews)\n",
        "\n",
        "    episode_rews.append([rews['player1'], rews['player2']])\n",
        "\n",
        "arr = np.array(episode_rews)\n",
        "\n",
        "interval_size = 100\n",
        "num_intervals = episodes // interval_size\n",
        "\n",
        "means = []\n",
        "std_devs = []\n",
        "\n",
        "for i in range(0, episodes, interval_size):\n",
        "    interval_data = arr[i:i+interval_size]\n",
        "    mean = np.mean(interval_data, axis=0)\n",
        "    means.append(mean)\n",
        "\n",
        "for i in range(num_intervals - 1):\n",
        "    mean_diff = means[i+1] - means[i]\n",
        "    std_devs.append(mean_diff)\n",
        "\n",
        "avg = (np.mean(arr, axis=0)) * -100\n",
        "std_dev = np.std(std_devs, axis=0) * 100\n",
        "\n",
        "print(f\"death rate (in %) of player1: {avg[0]:.1f} +- {std_dev[0]:.3f}\")\n",
        "print(f\"death rate (in %) of player2: {avg[1]:.1f} +- {std_dev[1]:.3f}\")\n",
        "\n",
        "plt.plot(arr.cumsum(axis=0))\n",
        "plt.legend((\"player1\", \"player2\"))\n",
        "plt.show()"
      ],
      "metadata": {
        "colab": {
          "base_uri": "https://localhost:8080/",
          "height": 466
        },
        "id": "biogmPIWxNv3",
        "outputId": "f75006ac-1b66-482e-8168-66e34f19bdb8",
        "cellView": "form"
      },
      "execution_count": 6,
      "outputs": [
        {
          "output_type": "stream",
          "name": "stdout",
          "text": [
            "death rate (in %) of player1: 37.5 +- 5.033\n",
            "death rate (in %) of player2: 37.5 +- 5.033\n"
          ]
        },
        {
          "output_type": "display_data",
          "data": {
            "text/plain": [
              "<Figure size 640x480 with 1 Axes>"
            ],
            "image/png": "[encoded data removed]"
          },
          "metadata": {}
        }
      ]
    },
    {
      "cell_type": "code",
      "source": [
        "#@title Case - both always wait\n",
        "episodes = 1000\n",
        "\n",
        "episode_rews = []\n",
        "\n",
        "for _ in range(episodes):\n",
        "\n",
        "    obs = env.reset()\n",
        "    while env.agents:\n",
        "        acts = {\n",
        "            \"player1\": 0,\n",
        "            \"player2\": 0\n",
        "        }\n",
        "\n",
        "        obs, rews, terms, truncs, infos = env.step(acts)\n",
        "        # print(obs, rews)\n",
        "\n",
        "    episode_rews.append([rews['player1'], rews['player2']])\n",
        "\n",
        "arr = np.array(episode_rews)\n",
        "interval_size = 100\n",
        "num_intervals = episodes // interval_size\n",
        "\n",
        "means = []\n",
        "std_devs = []\n",
        "\n",
        "for i in range(0, episodes, interval_size):\n",
        "    interval_data = arr[i:i+interval_size]\n",
        "    mean = np.mean(interval_data, axis=0)\n",
        "    means.append(mean)\n",
        "\n",
        "for i in range(num_intervals - 1):\n",
        "    mean_diff = means[i+1] - means[i]\n",
        "    std_devs.append(mean_diff)\n",
        "\n",
        "avg = (np.mean(arr, axis=0)) * -100\n",
        "std_dev = np.std(std_devs, axis=0) * 100\n",
        "\n",
        "print(f\"death rate (in %) of player1: {avg[0]:.1f} +- {std_dev[0]:.3f}\")\n",
        "print(f\"death rate (in %) of player2: {avg[1]:.1f} +- {std_dev[1]:.3f}\")\n",
        "plt.plot(arr.cumsum(axis=0))\n",
        "plt.legend((\"player1\", \"player2\"))\n",
        "plt.show()"
      ],
      "metadata": {
        "colab": {
          "base_uri": "https://localhost:8080/",
          "height": 466
        },
        "id": "EpB7M86F3Nmk",
        "outputId": "ad60d749-7875-4b0f-8f1a-1728ba9e8780",
        "cellView": "form"
      },
      "execution_count": 7,
      "outputs": [
        {
          "output_type": "stream",
          "name": "stdout",
          "text": [
            "death rate (in %) of player1: 62.2 +- 3.784\n",
            "death rate (in %) of player2: 62.2 +- 3.784\n"
          ]
        },
        {
          "output_type": "display_data",
          "data": {
            "text/plain": [
              "<Figure size 640x480 with 1 Axes>"
            ],
            "image/png": "[encoded data removed]"
          },
          "metadata": {}
        }
      ]
    },
    {
      "cell_type": "code",
      "source": [
        "#@title Case - player1 waits, player2 plays\n",
        "episodes = 1000\n",
        "\n",
        "episode_rews = []\n",
        "\n",
        "for _ in range(episodes):\n",
        "\n",
        "    obs = env.reset()\n",
        "    while env.agents:\n",
        "        acts = {\n",
        "            \"player1\": 0,\n",
        "            \"player2\": 1\n",
        "        }\n",
        "\n",
        "        obs, rews, terms, truncs, infos = env.step(acts)\n",
        "        # print(obs, rews)\n",
        "\n",
        "    episode_rews.append([rews['player1'], rews['player2']])\n",
        "\n",
        "arr = np.array(episode_rews)\n",
        "interval_size = 100\n",
        "num_intervals = episodes // interval_size\n",
        "\n",
        "means = []\n",
        "std_devs = []\n",
        "\n",
        "for i in range(0, episodes, interval_size):\n",
        "    interval_data = arr[i:i+interval_size]\n",
        "    mean = np.mean(interval_data, axis=0)\n",
        "    means.append(mean)\n",
        "\n",
        "for i in range(num_intervals - 1):\n",
        "    mean_diff = means[i+1] - means[i]\n",
        "    std_devs.append(mean_diff)\n",
        "\n",
        "avg = (np.mean(arr, axis=0)) * -100\n",
        "std_dev = np.std(std_devs, axis=0) * 100\n",
        "\n",
        "print(f\"death rate (in %) of player1: {avg[0]:.1f} +- {std_dev[0]:.3f}\")\n",
        "print(f\"death rate (in %) of player2: {avg[1]:.1f} +- {std_dev[1]:.3f}\")\n",
        "plt.plot(arr.cumsum(axis=0))\n",
        "plt.legend((\"player1\", \"player2\"))\n",
        "plt.show()"
      ],
      "metadata": {
        "colab": {
          "base_uri": "https://localhost:8080/",
          "height": 466
        },
        "id": "O2wI3VsI3Tc8",
        "outputId": "6b2e74a7-b666-4342-d1e2-48e41013f267",
        "cellView": "form"
      },
      "execution_count": 8,
      "outputs": [
        {
          "output_type": "stream",
          "name": "stdout",
          "text": [
            "death rate (in %) of player1: 61.6 +- 4.400\n",
            "death rate (in %) of player2: 69.2 +- 4.570\n"
          ]
        },
        {
          "output_type": "display_data",
          "data": {
            "text/plain": [
              "<Figure size 640x480 with 1 Axes>"
            ],
            "image/png": "[encoded data removed]"
          },
          "metadata": {}
        }
      ]
    },
    {
      "cell_type": "code",
      "source": [
        "#@title Case - player1 plays, player2 waits\n",
        "episodes = 1000\n",
        "\n",
        "episode_rews = []\n",
        "\n",
        "for _ in range(episodes):\n",
        "\n",
        "    obs = env.reset()\n",
        "    while env.agents:\n",
        "        acts = {\n",
        "            \"player1\": 1,\n",
        "            \"player2\": 0\n",
        "        }\n",
        "\n",
        "        obs, rews, terms, truncs, infos = env.step(acts)\n",
        "        # print(obs, rews)\n",
        "\n",
        "    episode_rews.append([rews['player1'], rews['player2']])\n",
        "\n",
        "arr = np.array(episode_rews)\n",
        "interval_size = 100\n",
        "num_intervals = episodes // interval_size\n",
        "\n",
        "means = []\n",
        "std_devs = []\n",
        "\n",
        "for i in range(0, episodes, interval_size):\n",
        "    interval_data = arr[i:i+interval_size]\n",
        "    mean = np.mean(interval_data, axis=0)\n",
        "    means.append(mean)\n",
        "\n",
        "for i in range(num_intervals - 1):\n",
        "    mean_diff = means[i+1] - means[i]\n",
        "    std_devs.append(mean_diff)\n",
        "\n",
        "avg = (np.mean(arr, axis=0)) * -100\n",
        "std_dev = np.std(std_devs, axis=0) * 100\n",
        "\n",
        "print(f\"death rate (in %) of player1: {avg[0]:.1f} +- {std_dev[0]:.3f}\")\n",
        "print(f\"death rate (in %) of player2: {avg[1]:.1f} +- {std_dev[1]:.3f}\")\n",
        "plt.plot(arr.cumsum(axis=0))\n",
        "plt.legend((\"player1\", \"player2\"))\n",
        "plt.show()"
      ],
      "metadata": {
        "colab": {
          "base_uri": "https://localhost:8080/",
          "height": 466
        },
        "id": "9eJWcQqC3Z99",
        "outputId": "7fc69d67-1e32-4e13-8e9d-937bb15556ce",
        "cellView": "form"
      },
      "execution_count": 9,
      "outputs": [
        {
          "output_type": "stream",
          "name": "stdout",
          "text": [
            "death rate (in %) of player1: 69.2 +- 8.176\n",
            "death rate (in %) of player2: 60.8 +- 7.709\n"
          ]
        },
        {
          "output_type": "display_data",
          "data": {
            "text/plain": [
              "<Figure size 640x480 with 1 Axes>"
            ],
            "image/png": "[encoded data removed]"
          },
          "metadata": {}
        }
      ]
    },
    {
      "cell_type": "code",
      "source": [
        "#@title Case - Always play vs random agent\n",
        "episodes = 1000\n",
        "\n",
        "episode_rews = []\n",
        "\n",
        "for _ in range(episodes):\n",
        "\n",
        "    obs = env.reset()\n",
        "    while env.agents:\n",
        "        acts = {\n",
        "            \"player1\": 1,\n",
        "            \"player2\": np.random.choice([0, 1])\n",
        "        }\n",
        "\n",
        "        obs, rews, terms, truncs, infos = env.step(acts)\n",
        "        # print(obs, rews)\n",
        "\n",
        "    episode_rews.append([rews['player1'], rews['player2']])\n",
        "\n",
        "arr = np.array(episode_rews)\n",
        "interval_size = 100\n",
        "num_intervals = episodes // interval_size\n",
        "\n",
        "means = []\n",
        "std_devs = []\n",
        "\n",
        "for i in range(0, episodes, interval_size):\n",
        "    interval_data = arr[i:i+interval_size]\n",
        "    mean = np.mean(interval_data, axis=0)\n",
        "    means.append(mean)\n",
        "\n",
        "for i in range(num_intervals - 1):\n",
        "    mean_diff = means[i+1] - means[i]\n",
        "    std_devs.append(mean_diff)\n",
        "\n",
        "avg = (np.mean(arr, axis=0)) * -100\n",
        "std_dev = np.std(std_devs, axis=0) * 100\n",
        "\n",
        "print(f\"death rate (in %) of player1: {avg[0]:.1f} +- {std_dev[0]:.3f}\")\n",
        "print(f\"death rate (in %) of player2: {avg[1]:.1f} +- {std_dev[1]:.3f}\")\n",
        "plt.plot(arr.cumsum(axis=0))\n",
        "plt.legend((\"player1\", \"player2\"))\n",
        "plt.show()"
      ],
      "metadata": {
        "colab": {
          "base_uri": "https://localhost:8080/",
          "height": 466
        },
        "id": "FPLlpZUh3i8f",
        "outputId": "98913e71-5637-4939-d6ed-8bc9e5aea0a7",
        "cellView": "form"
      },
      "execution_count": 10,
      "outputs": [
        {
          "output_type": "stream",
          "name": "stdout",
          "text": [
            "death rate (in %) of player1: 56.9 +- 7.601\n",
            "death rate (in %) of player2: 49.1 +- 7.485\n"
          ]
        },
        {
          "output_type": "display_data",
          "data": {
            "text/plain": [
              "<Figure size 640x480 with 1 Axes>"
            ],
            "image/png": "[encoded data removed]"
          },
          "metadata": {}
        }
      ]
    },
    {
      "cell_type": "code",
      "source": [
        "#@title Case - Always wait vs random agent\n",
        "episodes = 1000\n",
        "\n",
        "episode_rews = []\n",
        "\n",
        "for _ in range(episodes):\n",
        "\n",
        "    obs = env.reset()\n",
        "    while env.agents:\n",
        "        acts = {\n",
        "            \"player1\": 0,\n",
        "            \"player2\": np.random.choice([0, 1])\n",
        "        }\n",
        "\n",
        "        obs, rews, terms, truncs, infos = env.step(acts)\n",
        "        # print(obs, rews)\n",
        "\n",
        "    episode_rews.append([rews['player1'], rews['player2']])\n",
        "\n",
        "arr = np.array(episode_rews)\n",
        "interval_size = 100\n",
        "num_intervals = episodes // interval_size\n",
        "\n",
        "means = []\n",
        "std_devs = []\n",
        "\n",
        "for i in range(0, episodes, interval_size):\n",
        "    interval_data = arr[i:i+interval_size]\n",
        "    mean = np.mean(interval_data, axis=0)\n",
        "    means.append(mean)\n",
        "\n",
        "for i in range(num_intervals - 1):\n",
        "    mean_diff = means[i+1] - means[i]\n",
        "    std_devs.append(mean_diff)\n",
        "\n",
        "avg = (np.mean(arr, axis=0)) * -100\n",
        "std_dev = np.std(std_devs, axis=0) * 100\n",
        "\n",
        "print(f\"death rate (in %) of player1: {avg[0]:.1f} +- {std_dev[0]:.3f}\")\n",
        "print(f\"death rate (in %) of player2: {avg[1]:.1f} +- {std_dev[1]:.3f}\")\n",
        "plt.plot(arr.cumsum(axis=0))\n",
        "plt.legend((\"player1\", \"player2\"))\n",
        "plt.show()"
      ],
      "metadata": {
        "colab": {
          "base_uri": "https://localhost:8080/",
          "height": 466
        },
        "id": "A2Ei4LU75us9",
        "outputId": "1a538e60-1f0f-4041-a79e-7451a0c4b541",
        "cellView": "form"
      },
      "execution_count": 11,
      "outputs": [
        {
          "output_type": "stream",
          "name": "stdout",
          "text": [
            "death rate (in %) of player1: 61.5 +- 4.332\n",
            "death rate (in %) of player2: 63.9 +- 6.471\n"
          ]
        },
        {
          "output_type": "display_data",
          "data": {
            "text/plain": [
              "<Figure size 640x480 with 1 Axes>"
            ],
            "image/png": "[encoded data removed]"
          },
          "metadata": {}
        }
      ]
    },
    {
      "cell_type": "code",
      "source": [
        "#@title Case - Always play vs hail mary\n",
        "episodes = 1000\n",
        "\n",
        "episode_rews = []\n",
        "\n",
        "for _ in range(episodes):\n",
        "\n",
        "    obs = env.reset()\n",
        "    while env.agents:\n",
        "        acts = {\n",
        "            \"player1\": 1,\n",
        "            \"player2\": 1 if obs[\"player2\"][\"observation\"][0, 2] <= 1 else 0\n",
        "        }\n",
        "\n",
        "        obs, rews, terms, truncs, infos = env.step(acts)\n",
        "        # print(obs, rews)\n",
        "\n",
        "    episode_rews.append([rews['player1'], rews['player2']])\n",
        "\n",
        "arr = np.array(episode_rews)\n",
        "interval_size = 100\n",
        "num_intervals = episodes // interval_size\n",
        "\n",
        "means = []\n",
        "std_devs = []\n",
        "\n",
        "for i in range(0, episodes, interval_size):\n",
        "    interval_data = arr[i:i+interval_size]\n",
        "    mean = np.mean(interval_data, axis=0)\n",
        "    means.append(mean)\n",
        "\n",
        "for i in range(num_intervals - 1):\n",
        "    mean_diff = means[i+1] - means[i]\n",
        "    std_devs.append(mean_diff)\n",
        "\n",
        "avg = (np.mean(arr, axis=0)) * -100\n",
        "std_dev = np.std(std_devs, axis=0) * 100\n",
        "\n",
        "print(f\"death rate (in %) of player1: {avg[0]:.1f} +- {std_dev[0]:.3f}\")\n",
        "print(f\"death rate (in %) of player2: {avg[1]:.1f} +- {std_dev[1]:.3f}\")\n",
        "plt.plot(arr.cumsum(axis=0))\n",
        "plt.legend((\"player1\", \"player2\"))\n",
        "plt.show()"
      ],
      "metadata": {
        "colab": {
          "base_uri": "https://localhost:8080/",
          "height": 466
        },
        "id": "onhvByjW51QN",
        "outputId": "52f84e5e-f10f-4e42-ceef-9ac4da22f330",
        "cellView": "form"
      },
      "execution_count": 12,
      "outputs": [
        {
          "output_type": "stream",
          "name": "stdout",
          "text": [
            "death rate (in %) of player1: 68.8 +- 8.975\n",
            "death rate (in %) of player2: 48.7 +- 7.674\n"
          ]
        },
        {
          "output_type": "display_data",
          "data": {
            "text/plain": [
              "<Figure size 640x480 with 1 Axes>"
            ],
            "image/png": "[encoded data removed]"
          },
          "metadata": {}
        }
      ]
    },
    {
      "cell_type": "code",
      "source": [
        "#@title Case - Always wait vs hail mary\n",
        "episodes = 1000\n",
        "\n",
        "episode_rews = []\n",
        "\n",
        "for _ in range(episodes):\n",
        "\n",
        "    obs = env.reset()\n",
        "    while env.agents:\n",
        "        acts = {\n",
        "            \"player1\": 0,\n",
        "            \"player2\": 1 if obs[\"player2\"][\"observation\"][0, 2] <= 1 else 0\n",
        "        }\n",
        "\n",
        "        obs, rews, terms, truncs, infos = env.step(acts)\n",
        "        # print(obs, rews)\n",
        "\n",
        "    episode_rews.append([rews['player1'], rews['player2']])\n",
        "\n",
        "arr = np.array(episode_rews)\n",
        "interval_size = 100\n",
        "num_intervals = episodes // interval_size\n",
        "\n",
        "means = []\n",
        "std_devs = []\n",
        "\n",
        "for i in range(0, episodes, interval_size):\n",
        "    interval_data = arr[i:i+interval_size]\n",
        "    mean = np.mean(interval_data, axis=0)\n",
        "    means.append(mean)\n",
        "\n",
        "for i in range(num_intervals - 1):\n",
        "    mean_diff = means[i+1] - means[i]\n",
        "    std_devs.append(mean_diff)\n",
        "\n",
        "avg = (np.mean(arr, axis=0)) * -100\n",
        "std_dev = np.std(std_devs, axis=0) * 100\n",
        "\n",
        "print(f\"death rate (in %) of player1: {avg[0]:.1f} +- {std_dev[0]:.3f}\")\n",
        "print(f\"death rate (in %) of player2: {avg[1]:.1f} +- {std_dev[1]:.3f}\")\n",
        "plt.plot(arr.cumsum(axis=0))\n",
        "plt.legend((\"player1\", \"player2\"))\n",
        "plt.show()"
      ],
      "metadata": {
        "colab": {
          "base_uri": "https://localhost:8080/",
          "height": 466
        },
        "id": "V8KQIrS76GRt",
        "outputId": "fff8cf13-3805-4e4b-f86b-0cdf36925ef5",
        "cellView": "form"
      },
      "execution_count": 13,
      "outputs": [
        {
          "output_type": "stream",
          "name": "stdout",
          "text": [
            "death rate (in %) of player1: 64.0 +- 7.832\n",
            "death rate (in %) of player2: 54.2 +- 7.992\n"
          ]
        },
        {
          "output_type": "display_data",
          "data": {
            "text/plain": [
              "<Figure size 640x480 with 1 Axes>"
            ],
            "image/png": "[encoded data removed]"
          },
          "metadata": {}
        }
      ]
    },
    {
      "cell_type": "code",
      "source": [
        "#@title Load optimal policy\n",
        "\n",
        "# def optimal(obs):\n",
        "#     df = pd.read_csv(\"models/optimal_policy.csv\")\n",
        "#     return df.loc[\n",
        "#         (df[\"days_left\"] == obs[\"player1\"][\"observation\"][0][0]) &\n",
        "#         (df[\"player1_life_points\"] == obs[\"player1\"][\"observation\"][0][1]) &\n",
        "#         (df[\"player2_life_points\"] == obs[\"player1\"][\"observation\"][0][2]) &\n",
        "#         (df[\"player1_prob_payoff\"] == obs[\"player1\"][\"observation\"][0][3])\n",
        "#     ][\"action\"].values[0] - 1"
      ],
      "metadata": {
        "id": "QBM2c6-kc-AP",
        "cellView": "form"
      },
      "execution_count": 14,
      "outputs": []
    },
    {
      "cell_type": "code",
      "source": [
        "#@title Visualize optimal policy\n",
        "\n",
        "# df = pd.read_csv(\"models/optimal_policy.csv\")\n",
        "\n",
        "# fig, ((ax1, ax2), (ax3, ax4)) = plt.subplots(2, 2)\n",
        "\n",
        "# arr = df.loc[(df[\"days_left\"] == 1) & \n",
        "#     (df[\"player1_life_points\"] > 0.5) & \n",
        "#     (df[\"player2_life_points\"] > 0.5) & (df[\"player1_prob_payoff\"] < 0.3), \"action\"].values\n",
        "\n",
        "# ax1.imshow(np.reshape(arr, (3, 3)), cmap='bwr')\n",
        "# ax1.set_title(\"Day->1 Env->Bad\")\n",
        "# ax1.set_xticks([0, 1, 2], [1, 2, 3])\n",
        "# ax1.set_yticks([0, 1, 2], [1, 2, 3])\n",
        "\n",
        "# arr = df.loc[(df[\"days_left\"] == 2) & \n",
        "#     (df[\"player1_life_points\"] > 0.5) & \n",
        "#     (df[\"player2_life_points\"] > 0.5) & (df[\"player1_prob_payoff\"] < 0.3), \"action\"].values\n",
        "\n",
        "# ax2.imshow(np.reshape(arr, (3, 3)), cmap='bwr')\n",
        "# ax2.set_title(\"Day->2 Env->Bad\")\n",
        "# ax2.set_xticks([0, 1, 2], [1, 2, 3])\n",
        "# ax2.set_yticks([0, 1, 2], [1, 2, 3])\n",
        "\n",
        "# arr = df.loc[(df[\"days_left\"] == 1) & \n",
        "#     (df[\"player1_life_points\"] > 0.5) & \n",
        "#     (df[\"player2_life_points\"] > 0.5) & (df[\"player1_prob_payoff\"] > 0.3), \"action\"].values\n",
        "\n",
        "# ax3.imshow(np.reshape(arr, (3, 3)), cmap='bwr')\n",
        "# ax3.set_title(\"Day->1 Env->Good\")\n",
        "# ax3.set_xticks([0, 1, 2], [1, 2, 3])\n",
        "# ax3.set_yticks([0, 1, 2], [1, 2, 3])\n",
        "\n",
        "# arr = df.loc[(df[\"days_left\"] == 2) & \n",
        "#     (df[\"player1_life_points\"] > 0.5) & \n",
        "#     (df[\"player2_life_points\"] > 0.5) & (df[\"player1_prob_payoff\"] > 0.3), \"action\"].values\n",
        "\n",
        "# ax = ax4.imshow(np.reshape(arr, (3, 3)), cmap='bwr')\n",
        "# ax4.set_title(\"Day->2 Env->Good\")\n",
        "# ax4.set_xticks([0, 1, 2], [1, 2, 3])\n",
        "# ax4.set_yticks([0, 1, 2], [1, 2, 3])\n",
        "# ax4.set_xlabel(\"player2_life_points\")\n",
        "# ax4.set_ylabel(\"player1_life_points\")\n",
        "\n",
        "# red_patch = mpatches.Patch(color='red', label='Play')\n",
        "# blue_patch = mpatches.Patch(color='blue', label='Wait')\n",
        "\n",
        "# plt.legend(handles=[red_patch, blue_patch])\n",
        "\n",
        "# fig.tight_layout()\n",
        "# plt.show()"
      ],
      "metadata": {
        "id": "xU7SS8kS8hlm",
        "cellView": "form"
      },
      "execution_count": 15,
      "outputs": []
    },
    {
      "cell_type": "code",
      "source": [
        "#@title Case - optimal vs Always wait\n",
        "# episodes = 1000\n",
        "\n",
        "# episode_rews = []\n",
        "\n",
        "# for _ in range(episodes):\n",
        "\n",
        "#     obs = env.reset()\n",
        "#     while env.agents:\n",
        "#         acts = {\n",
        "#             \"player1\": optimal(obs),\n",
        "#             \"player2\": 0\n",
        "#         }\n",
        "\n",
        "#         obs, rews, terms, truncs, infos = env.step(acts)\n",
        "#         # print(obs, rews)\n",
        "\n",
        "#     episode_rews.append([rews['player1'], rews['player2']])\n",
        "\n",
        "# arr = np.array(episode_rews)\n",
        "# interval_size = 100\n",
        "# num_intervals = episodes // interval_size\n",
        "\n",
        "# means = []\n",
        "# std_devs = []\n",
        "\n",
        "# for i in range(0, episodes, interval_size):\n",
        "#     interval_data = arr[i:i+interval_size]\n",
        "#     mean = np.mean(interval_data, axis=0)\n",
        "#     means.append(mean)\n",
        "\n",
        "# for i in range(num_intervals - 1):\n",
        "#     mean_diff = means[i+1] - means[i]\n",
        "#     std_devs.append(mean_diff)\n",
        "\n",
        "# avg = (np.mean(arr, axis=0)) * -100\n",
        "# std_dev = np.std(std_devs, axis=0) * 100\n",
        "\n",
        "# print(f\"death rate (in %) of player1: {avg[0]:.1f} +- {std_dev[0]:.3f}\")\n",
        "# print(f\"death rate (in %) of player2: {avg[1]:.1f} +- {std_dev[1]:.3f}\")\n",
        "# plt.plot(arr.cumsum(axis=0))\n",
        "# plt.legend((\"player1\", \"player2\"))\n",
        "# plt.show()"
      ],
      "metadata": {
        "id": "RL0wZWyMh7l9",
        "cellView": "form"
      },
      "execution_count": 16,
      "outputs": []
    },
    {
      "cell_type": "code",
      "source": [
        "#@title Case - optimal vs Always play\n",
        "# episodes = 1000\n",
        "\n",
        "# episode_rews = []\n",
        "\n",
        "# for _ in range(episodes):\n",
        "\n",
        "#     obs = env.reset()\n",
        "#     while env.agents:\n",
        "#         acts = {\n",
        "#             \"player1\": optimal(obs), \n",
        "#             \"player2\": 0\n",
        "#         }\n",
        "\n",
        "#         obs, rews, terms, truncs, infos = env.step(acts)\n",
        "#         # print(obs, rews)\n",
        "\n",
        "#     episode_rews.append([rews['player1'], rews['player2']])\n",
        "\n",
        "# arr = np.array(episode_rews)\n",
        "# interval_size = 100\n",
        "# num_intervals = episodes // interval_size\n",
        "\n",
        "# means = []\n",
        "# std_devs = []\n",
        "\n",
        "# for i in range(0, episodes, interval_size):\n",
        "#     interval_data = arr[i:i+interval_size]\n",
        "#     mean = np.mean(interval_data, axis=0)\n",
        "#     means.append(mean)\n",
        "\n",
        "# for i in range(num_intervals - 1):\n",
        "#     mean_diff = means[i+1] - means[i]\n",
        "#     std_devs.append(mean_diff)\n",
        "\n",
        "# avg = (np.mean(arr, axis=0)) * -100\n",
        "# std_dev = np.std(std_devs, axis=0) * 100\n",
        "\n",
        "# print(f\"death rate (in %) of player1: {avg[0]:.1f} +- {std_dev[0]:.3f}\")\n",
        "# print(f\"death rate (in %) of player2: {avg[1]:.1f} +- {std_dev[1]:.3f}\")\n",
        "# plt.plot(arr.cumsum(axis=0))\n",
        "# plt.legend((\"player1\", \"player2\"))\n",
        "# plt.show()"
      ],
      "metadata": {
        "id": "mUTFipKjh8O-",
        "cellView": "form"
      },
      "execution_count": 17,
      "outputs": []
    },
    {
      "cell_type": "code",
      "source": [
        "#@title Case - optimal vs hail mary\n",
        "# episodes = 1000\n",
        "\n",
        "# episode_rews = []\n",
        "\n",
        "# for _ in range(episodes):\n",
        "\n",
        "#     obs = env.reset()\n",
        "#     while env.agents:\n",
        "#         acts = {\n",
        "#             \"player1\": optimal(obs),\n",
        "#             \"player2\": 1 if obs[\"player2\"][\"observation\"][0, 2] <= 1 else 0\n",
        "#         }\n",
        "\n",
        "#         obs, rews, terms, truncs, infos = env.step(acts)\n",
        "#         # print(obs, rews)\n",
        "\n",
        "#     episode_rews.append([rews['player1'], rews['player2']])\n",
        "\n",
        "# arr = np.array(episode_rews)\n",
        "# interval_size = 100\n",
        "# num_intervals = episodes // interval_size\n",
        "\n",
        "# means = []\n",
        "# std_devs = []\n",
        "\n",
        "# for i in range(0, episodes, interval_size):\n",
        "#     interval_data = arr[i:i+interval_size]\n",
        "#     mean = np.mean(interval_data, axis=0)\n",
        "#     means.append(mean)\n",
        "\n",
        "# for i in range(num_intervals - 1):\n",
        "#     mean_diff = means[i+1] - means[i]\n",
        "#     std_devs.append(mean_diff)\n",
        "\n",
        "# avg = (np.mean(arr, axis=0)) * -100\n",
        "# std_dev = np.std(std_devs, axis=0) * 100\n",
        "\n",
        "# print(f\"death rate (in %) of player1: {avg[0]:.1f} +- {std_dev[0]:.3f}\")\n",
        "# print(f\"death rate (in %) of player2: {avg[1]:.1f} +- {std_dev[1]:.3f}\")\n",
        "# plt.plot(arr.cumsum(axis=0))\n",
        "# plt.legend((\"player1\", \"player2\"))\n",
        "# plt.show()"
      ],
      "metadata": {
        "id": "Rp5rTe78auBy",
        "cellView": "form"
      },
      "execution_count": 18,
      "outputs": []
    },
    {
      "cell_type": "code",
      "source": [
        "#@title Case - optimal vs optimal\n",
        "# episodes = 1000\n",
        "\n",
        "# episode_rews = []\n",
        "\n",
        "# for _ in range(episodes):\n",
        "\n",
        "#     obs = env.reset()\n",
        "#     while env.agents:\n",
        "#         acts = {\n",
        "#             \"player1\": optimal(obs),\n",
        "#             \"player2\": optimal(obs)\n",
        "#         }\n",
        "\n",
        "#         obs, rews, terms, truncs, infos = env.step(acts)\n",
        "#         # print(obs, rews)\n",
        "\n",
        "#     episode_rews.append([rews['player1'], rews['player2']])\n",
        "\n",
        "# arr = np.array(episode_rews)\n",
        "# interval_size = 100\n",
        "# num_intervals = episodes // interval_size\n",
        "\n",
        "# means = []\n",
        "# std_devs = []\n",
        "\n",
        "# for i in range(0, episodes, interval_size):\n",
        "#     interval_data = arr[i:i+interval_size]\n",
        "#     mean = np.mean(interval_data, axis=0)\n",
        "#     means.append(mean)\n",
        "\n",
        "# for i in range(num_intervals - 1):\n",
        "#     mean_diff = means[i+1] - means[i]\n",
        "#     std_devs.append(mean_diff)\n",
        "\n",
        "# avg = (np.mean(arr, axis=0)) * -100\n",
        "# std_dev = np.std(std_devs, axis=0) * 100\n",
        "\n",
        "# print(f\"death rate (in %) of player1: {avg[0]:.1f} +- {std_dev[0]:.3f}\")\n",
        "# print(f\"death rate (in %) of player2: {avg[1]:.1f} +- {std_dev[1]:.3f}\")\n",
        "# plt.plot(arr.cumsum(axis=0))\n",
        "# plt.legend((\"player1\", \"player2\"))\n",
        "# plt.show()"
      ],
      "metadata": {
        "cellView": "form",
        "id": "8BMrQiKfhbiK"
      },
      "execution_count": 19,
      "outputs": []
    },
    {
      "cell_type": "markdown",
      "source": [
        "## Deep RL training\n"
      ],
      "metadata": {
        "id": "dvS0OTb5-cW2"
      }
    },
    {
      "cell_type": "code",
      "source": [
        "#@title Define heuristic algos in Tianshou\n",
        "## agent that always plays\n",
        "class AlwaysPlay(BasePolicy):\n",
        "    def __init__(self, **kwargs):\n",
        "        self.nolearn = True\n",
        "        super().__init__(**kwargs)\n",
        "    \n",
        "    def forward(self, batch, state = None):\n",
        "        mask = batch.obs.mask\n",
        "        logits = np.zeros(mask.shape)\n",
        "        logits[:, 1] = 1\n",
        "        logits[~mask] = -np.inf\n",
        "        return Batch(act=logits.argmax(axis=-1))\n",
        "\n",
        "    def learn(self, batch):\n",
        "        return {}\n",
        "\n",
        "## agent that always waits\n",
        "class AlwaysWait(BasePolicy):\n",
        "    def __init__(self, **kwargs):\n",
        "        self.nolearn = True\n",
        "        super().__init__(**kwargs)\n",
        "\n",
        "    def forward(self, batch, state = None):\n",
        "        mask = batch.obs.mask\n",
        "        logits = np.zeros(mask.shape)\n",
        "        logits[:, 0] = 1\n",
        "        logits[~mask] = -np.inf\n",
        "        return Batch(act=logits.argmax(axis=-1))\n",
        "\n",
        "    def learn(self, batch):\n",
        "        return {}\n",
        "\n",
        "## agent that waits for low health to play\n",
        "class HailMary(BasePolicy):\n",
        "    def __init__(self, **kwargs):\n",
        "        self.nolearn = True\n",
        "        super().__init__(**kwargs)\n",
        "\n",
        "    def forward(self, batch, state = None):\n",
        "        mask = batch.obs.mask\n",
        "        logits = np.zeros(mask.shape)\n",
        "        obs = batch.obs.obs\n",
        "\n",
        "        for i in range(mask.shape[0]):\n",
        "            if obs[i, :, 2] <= 1:\n",
        "                logits[i, 1] = 1\n",
        "            else:\n",
        "                logits[i, 0] = 1\n",
        "        logits[~mask] = -np.inf\n",
        "        return Batch(act=logits.argmax(axis=-1))\n",
        "\n",
        "    def learn(self, batch):\n",
        "        return {}\n",
        "\n",
        "## optimal agent \n",
        "class OptimalPolicy(BasePolicy):\n",
        "    def __init__(self, **kwargs):\n",
        "        self.nolearn = True\n",
        "        super().__init__(**kwargs)\n",
        "\n",
        "    def forward(self, batch, state = None):\n",
        "        mask = batch.obs.mask\n",
        "        logits = np.zeros(mask.shape)\n",
        "        obs = batch.obs.obs\n",
        "\n",
        "        df = pd.read_csv(\"models/optimal_policy.csv\")\n",
        "\n",
        "        for i in range(mask.shape[0]):\n",
        "            action = df.loc[\n",
        "                (df[\"days_left\"] == obs[i, :, 0][0]) &\n",
        "                (df[\"player1_life_points\"] == obs[i, :, 1][0]) &\n",
        "                (df[\"player2_life_points\"] == obs[i, :, 2][0]) &\n",
        "                (df[\"player1_prob_payoff\"] == obs[i, :, 3][0])\n",
        "            ][\"action\"].values[0] - 1\n",
        "            if action:\n",
        "                logits[i, 1] = 1\n",
        "            else:\n",
        "                logits[i, 0] = 1\n",
        "        logits[~mask] = -np.inf\n",
        "        return Batch(act=logits.argmax(axis=-1))\n",
        "\n",
        "    def learn(self, batch):\n",
        "        return {}\n",
        "\n",
        "## random agent\n",
        "class RandomAgent(BasePolicy):\n",
        "    def __init__(self, **kwargs):\n",
        "        self.nolearn = True\n",
        "        super().__init__(**kwargs)\n",
        "\n",
        "    def forward(self, batch, state = None):\n",
        "        mask = batch.obs.mask\n",
        "        logits = np.zeros(mask.shape)\n",
        "        logits[:, np.random.choice([0, 1])] = 1\n",
        "        logits[~mask] = -np.inf\n",
        "        return Batch(act=logits.argmax(axis=-1))\n",
        "\n",
        "    def learn(self, batch):\n",
        "        return {}"
      ],
      "metadata": {
        "id": "n5nzTky1bTJk",
        "cellView": "form"
      },
      "execution_count": 20,
      "outputs": []
    },
    {
      "cell_type": "code",
      "source": [
        "#@title Prerequisites for training\n",
        "# Step 2: Wrap the environment for Tianshou interfacing\n",
        "def _get_env_train():\n",
        "    env = HomMul(include_all_states=True)\n",
        "    vec_env = parallel_to_aec(env)\n",
        "    return PettingZooEnv(vec_env)\n",
        "\n",
        "def _get_env_test():\n",
        "    env = HomMul(include_all_states=True)\n",
        "    vec_env = parallel_to_aec(env)\n",
        "    return PettingZooEnv(vec_env)\n",
        "\n",
        "# seed\n",
        "seed = 42\n",
        "np.random.seed(seed)\n",
        "torch.manual_seed(seed)\n",
        "\n",
        "env = HomMul()\n",
        "agents =  env.agents[:]\n",
        "\n",
        "# Step 3: Define policies for each agent\n",
        "## learning agent\n",
        "def _get_agent(pretrained=False):\n",
        "    vec_env = _get_env_train()\n",
        "    net = Net(\n",
        "        state_shape=vec_env.observation_space.shape,\n",
        "        action_shape=vec_env.action_space.n,\n",
        "        hidden_sizes=[128, 128],\n",
        "        # device=\"cuda\",\n",
        "    )#.to(\"cuda\")\n",
        "    optim = Adam(net.parameters(), lr=1e-4)\n",
        "    model = DQNPolicy(\n",
        "        model=net,\n",
        "        optim=optim,\n",
        "        discount_factor=0.9,\n",
        "        estimation_step=3,\n",
        "        target_update_freq=50,\n",
        "    )\n",
        "\n",
        "    if pretrained:\n",
        "        model_save_path = os.path.join(\"models\", \"vs_hail_mary.pth\")\n",
        "        model.load_state_dict(torch.load(model_save_path))\n",
        "    return model\n",
        "\n",
        "agent_learn1 = _get_agent(pretrained=False)\n",
        "agent_learn2 = _get_agent(pretrained=False)\n",
        "\n",
        "train_policies = MultiAgentPolicyManager([agent_learn1, agent_learn2],  _get_env_train())\n",
        "\n",
        "train_envs = DummyVectorEnv([_get_env_train for _ in range(10)])\n",
        "test_envs = DummyVectorEnv([_get_env_test for _ in range(2)])\n",
        "train_envs.seed(seed)\n",
        "test_envs.seed(seed)\n",
        "\n",
        "# Step 4: Collector setup\n",
        "train_collector = Collector(\n",
        "    train_policies,\n",
        "    train_envs,\n",
        "    VectorReplayBuffer(20_000, len(train_envs)),\n",
        "    exploration_noise=True,\n",
        ")\n",
        "\n",
        "test_policies = MultiAgentPolicyManager([agent_learn1, agent_learn2],  _get_env_test())\n",
        "test_collector = Collector(test_policies, test_envs, exploration_noise=True)\n",
        "\n",
        "train_collector.collect(n_episode=50)\n",
        "\n",
        "def save_best_fn(policy):\n",
        "    model_save_path1 = os.path.join(\"log\", \"hommul\", \"dqn\", \"policy1.pth\")\n",
        "    model_save_path2 = os.path.join(\"log\", \"hommul\", \"dqn\", \"policy2.pth\")\n",
        "    os.makedirs(os.path.join(\"log\", \"hommul\", \"dqn\"), exist_ok=True)\n",
        "    if not hasattr(train_policies.policies[agents[0]], 'nolearn'):\n",
        "        torch.save(train_policies.policies[agents[0]].state_dict(), model_save_path1)\n",
        "    if not hasattr(train_policies.policies[agents[1]], 'nolearn'):\n",
        "        torch.save(train_policies.policies[agents[1]].state_dict(), model_save_path2)\n",
        "\n",
        "def stop_fn(mean_rewards):\n",
        "    return mean_rewards >= -0.05\n",
        "\n",
        "def train_fn(epoch, env_step):\n",
        "    # freeze training for player1\n",
        "    if not hasattr(train_policies.policies[agents[0]], 'nolearn'):\n",
        "        train_policies.policies[agents[0]].set_eps(0.05)\n",
        "\n",
        "    if not hasattr(train_policies.policies[agents[1]], 'nolearn'):\n",
        "        train_policies.policies[agents[1]].set_eps(0.1)\n",
        "\n",
        "def test_fn(epoch, env_step):\n",
        "    if not hasattr(train_policies.policies[agents[0]], 'nolearn'):\n",
        "        train_policies.policies[agents[0]].set_eps(0.05)\n",
        "\n",
        "    if not hasattr(train_policies.policies[agents[1]], 'nolearn'):\n",
        "        train_policies.policies[agents[1]].set_eps(0.05)\n",
        "\n",
        "def reward_metric(rews):\n",
        "    return rews[:, 1]"
      ],
      "metadata": {
        "id": "Z-AOFEZAcNGV"
      },
      "execution_count": 24,
      "outputs": []
    },
    {
      "cell_type": "code",
      "source": [
        "#@title Clear logs and setup TensorBoard\n",
        "!rm -rf /content/HomMul/log\n",
        "\n",
        "log_path = os.path.join(\"log\", \"hommul\", \"dqn\")\n",
        "writer = SummaryWriter(log_path)\n",
        "logger = TensorboardLogger(writer)"
      ],
      "metadata": {
        "id": "t_dRm6ZTdV2v",
        "cellView": "form",
        "colab": {
          "base_uri": "https://localhost:8080/"
        },
        "outputId": "372c4bff-198d-4038-a936-eb83361399e2"
      },
      "execution_count": 25,
      "outputs": [
        {
          "output_type": "stream",
          "name": "stderr",
          "text": [
            "/usr/local/lib/python3.10/dist-packages/ipykernel/ipkernel.py:283: DeprecationWarning: `should_run_async` will not call `transform_cell` automatically in the future. Please pass the result to `transformed_cell` argument and any exception that happen during thetransform in `preprocessing_exc_tuple` in IPython 7.17 and above.\n",
            "  and should_run_async(code)\n"
          ]
        }
      ]
    },
    {
      "cell_type": "code",
      "source": [
        "#@title Training\n",
        "for evolution in range(1):\n",
        "    print(f\"#### Evolution {evolution+1}\")\n",
        "    result = offpolicy_trainer(\n",
        "        policy=train_policies,\n",
        "        train_collector=train_collector,\n",
        "        test_collector=test_collector,\n",
        "        max_epoch=20,\n",
        "        step_per_epoch=1000,\n",
        "        step_per_collect=50,\n",
        "        episode_per_test=100,\n",
        "        batch_size=64,\n",
        "        train_fn=train_fn,\n",
        "        test_fn=test_fn,\n",
        "        stop_fn=stop_fn,\n",
        "        save_best_fn=save_best_fn,\n",
        "        update_per_step=0.1,\n",
        "        test_in_train=False,\n",
        "        reward_metric=reward_metric,\n",
        "        logger=logger\n",
        "    )\n",
        "\n",
        "    model_save_path2 = os.path.join(\"log\", \"hommul\", \"dqn\", \"policy2.pth\")\n",
        "    if not hasattr(train_policies.policies[agents[0]], 'nolearn'):\n",
        "        train_policies.policies[agents[0]].load_state_dict(torch.load(model_save_path2))\n",
        "        train_policies.policies[agents[1]].load_state_dict(torch.load(model_save_path2))\n",
        "\n",
        "    result = test_collector.collect(n_episode=1000)\n",
        "    arr = result[\"rews\"]\n",
        "    interval_size = 100\n",
        "    num_intervals = episodes // interval_size\n",
        "\n",
        "    means = []\n",
        "    std_devs = []\n",
        "\n",
        "    for i in range(0, episodes, interval_size):\n",
        "        interval_data = arr[i:i+interval_size]\n",
        "        mean = np.mean(interval_data, axis=0)\n",
        "        means.append(mean)\n",
        "\n",
        "    for i in range(num_intervals - 1):\n",
        "        mean_diff = means[i+1] - means[i]\n",
        "        std_devs.append(mean_diff)\n",
        "\n",
        "    avg = (np.mean(arr, axis=0)) * -100\n",
        "    std_dev = np.std(std_devs, axis=0) * 100\n",
        "\n",
        "    print(\"#\"*10)\n",
        "    print()\n",
        "    print(f\"death rate (in %) of player1: {avg[0]:.1f} +- {std_dev[0]:.3f}\")\n",
        "    print(f\"death rate (in %) of player2: {avg[1]:.1f} +- {std_dev[1]:.3f}\")\n",
        "    plt.plot(arr.cumsum(axis=0))\n",
        "    plt.legend((\"player1\", \"player2\"))\n",
        "    plt.show()\n",
        "\n",
        "    print()"
      ],
      "metadata": {
        "colab": {
          "base_uri": "https://localhost:8080/",
          "height": 1000
        },
        "id": "69UICm9_dwdD",
        "outputId": "22991db8-e463-4ff6-ab60-864f9f696c62"
      },
      "execution_count": 26,
      "outputs": [
        {
          "output_type": "stream",
          "name": "stdout",
          "text": [
            "#### Evolution 1\n"
          ]
        },
        {
          "output_type": "stream",
          "name": "stderr",
          "text": [
            "Epoch #1: 1001it [00:02, 401.76it/s, env_step=1000, len=6, n/ep=7, n/st=50, player1/loss=0.118, player2/loss=0.280, rew=-0.43]                          \n"
          ]
        },
        {
          "output_type": "stream",
          "name": "stdout",
          "text": [
            "Epoch #1: test_reward: -0.560000 ± 0.496387, best_reward: -0.560000 ± 0.496387 in #1\n"
          ]
        },
        {
          "output_type": "stream",
          "name": "stderr",
          "text": [
            "Epoch #2: 1001it [00:01, 658.39it/s, env_step=2000, len=8, n/ep=8, n/st=50, player1/loss=0.099, player2/loss=0.187, rew=-0.75]                          \n"
          ]
        },
        {
          "output_type": "stream",
          "name": "stdout",
          "text": [
            "Epoch #2: test_reward: -0.580000 ± 0.493559, best_reward: -0.560000 ± 0.496387 in #1\n"
          ]
        },
        {
          "output_type": "stream",
          "name": "stderr",
          "text": [
            "Epoch #3: 1001it [00:01, 557.55it/s, env_step=3000, len=7, n/ep=10, n/st=50, player1/loss=0.089, player2/loss=0.177, rew=-0.70]                          \n"
          ]
        },
        {
          "output_type": "stream",
          "name": "stdout",
          "text": [
            "Epoch #3: test_reward: -0.550000 ± 0.497494, best_reward: -0.550000 ± 0.497494 in #3\n"
          ]
        },
        {
          "output_type": "stream",
          "name": "stderr",
          "text": [
            "Epoch #4: 1001it [00:01, 790.44it/s, env_step=4000, len=8, n/ep=12, n/st=50, player1/loss=0.078, player2/loss=0.189, rew=-0.58]                          \n"
          ]
        },
        {
          "output_type": "stream",
          "name": "stdout",
          "text": [
            "Epoch #4: test_reward: -0.550000 ± 0.497494, best_reward: -0.550000 ± 0.497494 in #3\n"
          ]
        },
        {
          "output_type": "stream",
          "name": "stderr",
          "text": [
            "Epoch #5: 1001it [00:01, 808.26it/s, env_step=5000, len=6, n/ep=7, n/st=50, player1/loss=0.094, player2/loss=0.183, rew=-0.57]                          \n"
          ]
        },
        {
          "output_type": "stream",
          "name": "stdout",
          "text": [
            "Epoch #5: test_reward: -0.450000 ± 0.497494, best_reward: -0.450000 ± 0.497494 in #5\n"
          ]
        },
        {
          "output_type": "stream",
          "name": "stderr",
          "text": [
            "Epoch #6: 1001it [00:01, 875.13it/s, env_step=6000, len=9, n/ep=7, n/st=50, player1/loss=0.099, player2/loss=0.198, rew=-0.71]                          \n"
          ]
        },
        {
          "output_type": "stream",
          "name": "stdout",
          "text": [
            "Epoch #6: test_reward: -0.510000 ± 0.499900, best_reward: -0.450000 ± 0.497494 in #5\n"
          ]
        },
        {
          "output_type": "stream",
          "name": "stderr",
          "text": [
            "Epoch #7: 1001it [00:01, 829.53it/s, env_step=7000, len=7, n/ep=10, n/st=50, player1/loss=0.099, player2/loss=0.220, rew=-0.60]                          \n"
          ]
        },
        {
          "output_type": "stream",
          "name": "stdout",
          "text": [
            "Epoch #7: test_reward: -0.440000 ± 0.496387, best_reward: -0.440000 ± 0.496387 in #7\n"
          ]
        },
        {
          "output_type": "stream",
          "name": "stderr",
          "text": [
            "Epoch #8: 1001it [00:01, 858.41it/s, env_step=8000, len=7, n/ep=10, n/st=50, player1/loss=0.112, player2/loss=0.215, rew=-0.60]                          \n"
          ]
        },
        {
          "output_type": "stream",
          "name": "stdout",
          "text": [
            "Epoch #8: test_reward: -0.520000 ± 0.499600, best_reward: -0.440000 ± 0.496387 in #7\n"
          ]
        },
        {
          "output_type": "stream",
          "name": "stderr",
          "text": [
            "Epoch #9: 1001it [00:01, 691.22it/s, env_step=9000, len=8, n/ep=4, n/st=50, player1/loss=0.121, player2/loss=0.234, rew=-0.75]                          \n"
          ]
        },
        {
          "output_type": "stream",
          "name": "stdout",
          "text": [
            "Epoch #9: test_reward: -0.580000 ± 0.493559, best_reward: -0.440000 ± 0.496387 in #7\n"
          ]
        },
        {
          "output_type": "stream",
          "name": "stderr",
          "text": [
            "Epoch #10: 1001it [00:01, 526.39it/s, env_step=10000, len=6, n/ep=5, n/st=50, player1/loss=0.118, player2/loss=0.243, rew=-0.60]                          \n"
          ]
        },
        {
          "output_type": "stream",
          "name": "stdout",
          "text": [
            "Epoch #10: test_reward: -0.470000 ± 0.499099, best_reward: -0.440000 ± 0.496387 in #7\n"
          ]
        },
        {
          "output_type": "stream",
          "name": "stderr",
          "text": [
            "Epoch #11: 1001it [00:01, 818.49it/s, env_step=11000, len=7, n/ep=10, n/st=50, player1/loss=0.127, player2/loss=0.267, rew=-0.40]                          \n"
          ]
        },
        {
          "output_type": "stream",
          "name": "stdout",
          "text": [
            "Epoch #11: test_reward: -0.460000 ± 0.498397, best_reward: -0.440000 ± 0.496387 in #7\n"
          ]
        },
        {
          "output_type": "stream",
          "name": "stderr",
          "text": [
            "Epoch #12: 1001it [00:01, 755.26it/s, env_step=12000, len=6, n/ep=8, n/st=50, player1/loss=0.145, player2/loss=0.277, rew=-0.62]                          \n"
          ]
        },
        {
          "output_type": "stream",
          "name": "stdout",
          "text": [
            "Epoch #12: test_reward: -0.600000 ± 0.489898, best_reward: -0.440000 ± 0.496387 in #7\n"
          ]
        },
        {
          "output_type": "stream",
          "name": "stderr",
          "text": [
            "Epoch #13: 1001it [00:01, 775.26it/s, env_step=13000, len=9, n/ep=10, n/st=50, player1/loss=0.148, player2/loss=0.264, rew=-0.60]                          \n"
          ]
        },
        {
          "output_type": "stream",
          "name": "stdout",
          "text": [
            "Epoch #13: test_reward: -0.490000 ± 0.499900, best_reward: -0.440000 ± 0.496387 in #7\n"
          ]
        },
        {
          "output_type": "stream",
          "name": "stderr",
          "text": [
            "Epoch #14: 1001it [00:01, 800.61it/s, env_step=14000, len=8, n/ep=9, n/st=50, player1/loss=0.164, player2/loss=0.297, rew=-0.67]                          \n"
          ]
        },
        {
          "output_type": "stream",
          "name": "stdout",
          "text": [
            "Epoch #14: test_reward: -0.510000 ± 0.499900, best_reward: -0.440000 ± 0.496387 in #7\n"
          ]
        },
        {
          "output_type": "stream",
          "name": "stderr",
          "text": [
            "Epoch #15: 1001it [00:01, 834.94it/s, env_step=15000, len=7, n/ep=9, n/st=50, player1/loss=0.155, player2/loss=0.304, rew=-0.44]                          \n"
          ]
        },
        {
          "output_type": "stream",
          "name": "stdout",
          "text": [
            "Epoch #15: test_reward: -0.580000 ± 0.493559, best_reward: -0.440000 ± 0.496387 in #7\n"
          ]
        },
        {
          "output_type": "stream",
          "name": "stderr",
          "text": [
            "Epoch #16: 1001it [00:01, 639.51it/s, env_step=16000, len=7, n/ep=8, n/st=50, player1/loss=0.177, player2/loss=0.295, rew=-0.62]                          \n"
          ]
        },
        {
          "output_type": "stream",
          "name": "stdout",
          "text": [
            "Epoch #16: test_reward: -0.410000 ± 0.491833, best_reward: -0.410000 ± 0.491833 in #16\n"
          ]
        },
        {
          "output_type": "stream",
          "name": "stderr",
          "text": [
            "Epoch #17: 1001it [00:01, 623.68it/s, env_step=17000, len=7, n/ep=8, n/st=50, player1/loss=0.168, player2/loss=0.319, rew=-0.62]                          \n"
          ]
        },
        {
          "output_type": "stream",
          "name": "stdout",
          "text": [
            "Epoch #17: test_reward: -0.490000 ± 0.499900, best_reward: -0.410000 ± 0.491833 in #16\n"
          ]
        },
        {
          "output_type": "stream",
          "name": "stderr",
          "text": [
            "Epoch #18: 1001it [00:01, 780.66it/s, env_step=18000, len=8, n/ep=7, n/st=50, player1/loss=0.194, player2/loss=0.327, rew=-0.57]                          \n"
          ]
        },
        {
          "output_type": "stream",
          "name": "stdout",
          "text": [
            "Epoch #18: test_reward: -0.450000 ± 0.497494, best_reward: -0.410000 ± 0.491833 in #16\n"
          ]
        },
        {
          "output_type": "stream",
          "name": "stderr",
          "text": [
            "Epoch #19: 1001it [00:01, 771.87it/s, env_step=19000, len=9, n/ep=7, n/st=50, player1/loss=0.199, player2/loss=0.346, rew=-0.71]                          \n"
          ]
        },
        {
          "output_type": "stream",
          "name": "stdout",
          "text": [
            "Epoch #19: test_reward: -0.580000 ± 0.493559, best_reward: -0.410000 ± 0.491833 in #16\n"
          ]
        },
        {
          "output_type": "stream",
          "name": "stderr",
          "text": [
            "Epoch #20: 1001it [00:01, 783.11it/s, env_step=20000, len=6, n/ep=10, n/st=50, player1/loss=0.197, player2/loss=0.349, rew=-0.50]                          \n"
          ]
        },
        {
          "output_type": "stream",
          "name": "stdout",
          "text": [
            "Epoch #20: test_reward: -0.480000 ± 0.499600, best_reward: -0.410000 ± 0.491833 in #16\n",
            "##########\n",
            "\n",
            "death rate (in %) of player1: 31.6 +- 4.040\n",
            "death rate (in %) of player2: 31.8 +- 3.843\n"
          ]
        },
        {
          "output_type": "display_data",
          "data": {
            "text/plain": [
              "<Figure size 640x480 with 1 Axes>"
            ],
            "image/png": "[encoded data removed]"
          },
          "metadata": {}
        },
        {
          "output_type": "stream",
          "name": "stdout",
          "text": [
            "\n"
          ]
        }
      ]
    },
    {
      "cell_type": "code",
      "source": [
        "#@title Save Policy as CSV\n",
        "\n",
        "df = []\n",
        "obs = []\n",
        "\n",
        "for days_left in range(1, env.num_days):\n",
        "    for player1_life_points in range(1, env.num_life_points):\n",
        "        for player2_life_points in range(1, env.num_life_points):\n",
        "            for payoff in [0.2, 0.4]:\n",
        "                curr_obs = [\n",
        "                    days_left, \n",
        "                    player1_life_points, \n",
        "                    player2_life_points, \n",
        "                    payoff,\n",
        "                    payoff\n",
        "                ]\n",
        "                obs.append({\n",
        "                    'agent_id': 'player2',\n",
        "                    'obs': np.array([curr_obs], dtype='float32'),\n",
        "                    'mask': [True, True, False]\n",
        "                })\n",
        "                df.append(curr_obs)\n",
        "\n",
        "cols = [\n",
        "    \"days_left\", \n",
        "    \"player1_life_points\", \n",
        "    \"player2_life_points\", \n",
        "    \"player1_prob_payoff\",\n",
        "    \"player2_prob_payoff\"\n",
        "]\n",
        "df = pd.DataFrame(df, columns=cols)\n",
        "\n",
        "scaler = MinMaxScaler(feature_range=(0, 1))\n",
        "\n",
        "df[\"player2_predicted_action\"] = train_policies.policies[agents[1]](Batch(obs=obs, info={})).act\n",
        "df[\"player2_logit_wait\"] = train_policies.policies[agents[1]](Batch(obs=obs, info={})).logits.detach().cpu().numpy()[:, 0]\n",
        "df[\"player2_logit_play\"] = train_policies.policies[agents[1]](Batch(obs=obs, info={})).logits.detach().cpu().numpy()[:, 1]\n",
        "df[\"player2_logit_diff\"] = scaler.fit_transform((df[\"player2_logit_play\"] - df[\"player2_logit_wait\"]).values[:, None])\n",
        "\n",
        "df[\"player2_predicted_action\"] = df[\"player2_predicted_action\"].map({0: \"wait\", 1: \"play\"})\n",
        "\n",
        "df.to_csv(\"outcome_table.csv\", index=False)\n",
        "\n",
        "df.head()"
      ],
      "metadata": {
        "colab": {
          "base_uri": "https://localhost:8080/",
          "height": 270
        },
        "id": "qqphMrZSd-JF",
        "outputId": "f4dc3d33-5be1-47f6-b510-ed9c07fe2f14",
        "cellView": "form"
      },
      "execution_count": 25,
      "outputs": [
        {
          "output_type": "execute_result",
          "data": {
            "text/plain": [
              "   days_left  player1_life_points  player2_life_points  player1_prob_payoff  \\\n",
              "0          1                    1                    1                  0.2   \n",
              "1          1                    1                    1                  0.4   \n",
              "2          1                    1                    2                  0.2   \n",
              "3          1                    1                    2                  0.4   \n",
              "4          1                    1                    3                  0.2   \n",
              "\n",
              "   player2_prob_payoff player2_predicted_action  player2_logit_wait  \\\n",
              "0                  0.2                     play          -13.306664   \n",
              "1                  0.4                     play          -13.752058   \n",
              "2                  0.2                     wait          -12.925547   \n",
              "3                  0.4                     wait          -13.200659   \n",
              "4                  0.2                     wait          -12.828230   \n",
              "\n",
              "   player2_logit_play  player2_logit_diff  \n",
              "0          -13.222314            0.635688  \n",
              "1          -13.681378            0.629523  \n",
              "2          -12.965901            0.579447  \n",
              "3          -13.291486            0.556685  \n",
              "4          -12.892140            0.568824  "
            ],
            "text/html": [
              "\n",
              "  <div id=\"df-039c8520-9a3c-46d6-9dde-624665accc2c\">\n",
              "    <div class=\"colab-df-container\">\n",
              "      <div>\n",
              "<style scoped>\n",
              "    .dataframe tbody tr th:only-of-type {\n",
              "        vertical-align: middle;\n",
              "    }\n",
              "\n",
              "    .dataframe tbody tr th {\n",
              "        vertical-align: top;\n",
              "    }\n",
              "\n",
              "    .dataframe thead th {\n",
              "        text-align: right;\n",
              "    }\n",
              "</style>\n",
              "<table border=\"1\" class=\"dataframe\">\n",
              "  <thead>\n",
              "    <tr style=\"text-align: right;\">\n",
              "      <th></th>\n",
              "      <th>days_left</th>\n",
              "      <th>player1_life_points</th>\n",
              "      <th>player2_life_points</th>\n",
              "      <th>player1_prob_payoff</th>\n",
              "      <th>player2_prob_payoff</th>\n",
              "      <th>player2_predicted_action</th>\n",
              "      <th>player2_logit_wait</th>\n",
              "      <th>player2_logit_play</th>\n",
              "      <th>player2_logit_diff</th>\n",
              "    </tr>\n",
              "  </thead>\n",
              "  <tbody>\n",
              "    <tr>\n",
              "      <th>0</th>\n",
              "      <td>1</td>\n",
              "      <td>1</td>\n",
              "      <td>1</td>\n",
              "      <td>0.2</td>\n",
              "      <td>0.2</td>\n",
              "      <td>play</td>\n",
              "      <td>-13.306664</td>\n",
              "      <td>-13.222314</td>\n",
              "      <td>0.635688</td>\n",
              "    </tr>\n",
              "    <tr>\n",
              "      <th>1</th>\n",
              "      <td>1</td>\n",
              "      <td>1</td>\n",
              "      <td>1</td>\n",
              "      <td>0.4</td>\n",
              "      <td>0.4</td>\n",
              "      <td>play</td>\n",
              "      <td>-13.752058</td>\n",
              "      <td>-13.681378</td>\n",
              "      <td>0.629523</td>\n",
              "    </tr>\n",
              "    <tr>\n",
              "      <th>2</th>\n",
              "      <td>1</td>\n",
              "      <td>1</td>\n",
              "      <td>2</td>\n",
              "      <td>0.2</td>\n",
              "      <td>0.2</td>\n",
              "      <td>wait</td>\n",
              "      <td>-12.925547</td>\n",
              "      <td>-12.965901</td>\n",
              "      <td>0.579447</td>\n",
              "    </tr>\n",
              "    <tr>\n",
              "      <th>3</th>\n",
              "      <td>1</td>\n",
              "      <td>1</td>\n",
              "      <td>2</td>\n",
              "      <td>0.4</td>\n",
              "      <td>0.4</td>\n",
              "      <td>wait</td>\n",
              "      <td>-13.200659</td>\n",
              "      <td>-13.291486</td>\n",
              "      <td>0.556685</td>\n",
              "    </tr>\n",
              "    <tr>\n",
              "      <th>4</th>\n",
              "      <td>1</td>\n",
              "      <td>1</td>\n",
              "      <td>3</td>\n",
              "      <td>0.2</td>\n",
              "      <td>0.2</td>\n",
              "      <td>wait</td>\n",
              "      <td>-12.828230</td>\n",
              "      <td>-12.892140</td>\n",
              "      <td>0.568824</td>\n",
              "    </tr>\n",
              "  </tbody>\n",
              "</table>\n",
              "</div>\n",
              "      <button class=\"colab-df-convert\" onclick=\"convertToInteractive('df-039c8520-9a3c-46d6-9dde-624665accc2c')\"\n",
              "              title=\"Convert this dataframe to an interactive table.\"\n",
              "              style=\"display:none;\">\n",
              "        \n",
              "  <svg xmlns=\"http://www.w3.org/2000/svg\" height=\"24px\"viewBox=\"0 0 24 24\"\n",
              "       width=\"24px\">\n",
              "    <path d=\"M0 0h24v24H0V0z\" fill=\"none\"/>\n",
              "    <path d=\"M18.56 5.44l.94 2.06.94-2.06 2.06-.94-2.06-.94-.94-2.06-.94 2.06-2.06.94zm-11 1L8.5 8.5l.94-2.06 2.06-.94-2.06-.94L8.5 2.5l-.94 2.06-2.06.94zm10 10l.94 2.06.94-2.06 2.06-.94-2.06-.94-.94-2.06-.94 2.06-2.06.94z\"/><path d=\"M17.41 7.96l-1.37-1.37c-.4-.4-.92-.59-1.43-.59-.52 0-1.04.2-1.43.59L10.3 9.45l-7.72 7.72c-.78.78-.78 2.05 0 2.83L4 21.41c.39.39.9.59 1.41.59.51 0 1.02-.2 1.41-.59l7.78-7.78 2.81-2.81c.8-.78.8-2.07 0-2.86zM5.41 20L4 18.59l7.72-7.72 1.47 1.35L5.41 20z\"/>\n",
              "  </svg>\n",
              "      </button>\n",
              "      \n",
              "  <style>\n",
              "    .colab-df-container {\n",
              "      display:flex;\n",
              "      flex-wrap:wrap;\n",
              "      gap: 12px;\n",
              "    }\n",
              "\n",
              "    .colab-df-convert {\n",
              "      background-color: #E8F0FE;\n",
              "      border: none;\n",
              "      border-radius: 50%;\n",
              "      cursor: pointer;\n",
              "      display: none;\n",
              "      fill: #1967D2;\n",
              "      height: 32px;\n",
              "      padding: 0 0 0 0;\n",
              "      width: 32px;\n",
              "    }\n",
              "\n",
              "    .colab-df-convert:hover {\n",
              "      background-color: #E2EBFA;\n",
              "      box-shadow: 0px 1px 2px rgba(60, 64, 67, 0.3), 0px 1px 3px 1px rgba(60, 64, 67, 0.15);\n",
              "      fill: #174EA6;\n",
              "    }\n",
              "\n",
              "    [theme=dark] .colab-df-convert {\n",
              "      background-color: #3B4455;\n",
              "      fill: #D2E3FC;\n",
              "    }\n",
              "\n",
              "    [theme=dark] .colab-df-convert:hover {\n",
              "      background-color: #434B5C;\n",
              "      box-shadow: 0px 1px 3px 1px rgba(0, 0, 0, 0.15);\n",
              "      filter: drop-shadow(0px 1px 2px rgba(0, 0, 0, 0.3));\n",
              "      fill: #FFFFFF;\n",
              "    }\n",
              "  </style>\n",
              "\n",
              "      <script>\n",
              "        const buttonEl =\n",
              "          document.querySelector('#df-039c8520-9a3c-46d6-9dde-624665accc2c button.colab-df-convert');\n",
              "        buttonEl.style.display =\n",
              "          google.colab.kernel.accessAllowed ? 'block' : 'none';\n",
              "\n",
              "        async function convertToInteractive(key) {\n",
              "          const element = document.querySelector('#df-039c8520-9a3c-46d6-9dde-624665accc2c');\n",
              "          const dataTable =\n",
              "            await google.colab.kernel.invokeFunction('convertToInteractive',\n",
              "                                                     [key], {});\n",
              "          if (!dataTable) return;\n",
              "\n",
              "          const docLinkHtml = 'Like what you see? Visit the ' +\n",
              "            '<a target=\"_blank\" href=https://colab.research.google.com/notebooks/data_table.ipynb>data table notebook</a>'\n",
              "            + ' to learn more about interactive tables.';\n",
              "          element.innerHTML = '';\n",
              "          dataTable['output_type'] = 'display_data';\n",
              "          await google.colab.output.renderOutput(dataTable, element);\n",
              "          const docLink = document.createElement('div');\n",
              "          docLink.innerHTML = docLinkHtml;\n",
              "          element.appendChild(docLink);\n",
              "        }\n",
              "      </script>\n",
              "    </div>\n",
              "  </div>\n",
              "  "
            ]
          },
          "metadata": {},
          "execution_count": 25
        }
      ]
    },
    {
      "cell_type": "code",
      "source": [
        "#@title Visualize policy (mean gameplay)\n",
        "(df[\"player2_predicted_action\"] == \"play\").mean()"
      ],
      "metadata": {
        "colab": {
          "base_uri": "https://localhost:8080/"
        },
        "id": "KxAabY2fo4OL",
        "outputId": "764edb00-eefc-4b52-c339-e3880b52d5e3",
        "cellView": "form"
      },
      "execution_count": 26,
      "outputs": [
        {
          "output_type": "stream",
          "name": "stderr",
          "text": [
            "/usr/local/lib/python3.10/dist-packages/ipykernel/ipkernel.py:283: DeprecationWarning: `should_run_async` will not call `transform_cell` automatically in the future. Please pass the result to `transformed_cell` argument and any exception that happen during thetransform in `preprocessing_exc_tuple` in IPython 7.17 and above.\n",
            "  and should_run_async(code)\n"
          ]
        },
        {
          "output_type": "execute_result",
          "data": {
            "text/plain": [
              "0.5859375"
            ]
          },
          "metadata": {},
          "execution_count": 26
        }
      ]
    },
    {
      "cell_type": "code",
      "source": [
        "#@title Visualize policy\n",
        "##TODO display logits instead\n",
        "fig, axes = plt.subplots(2, 8, figsize=(40, 20))\n",
        "\n",
        "def _get_im(ax, days_left, is_env_good):\n",
        "    if is_env_good:\n",
        "        prob_succ = 0.2\n",
        "    else:\n",
        "        prob_succ = 0.4\n",
        "\n",
        "    arr = df.loc[\n",
        "        (df[\"days_left\"] == days_left) & \n",
        "        (df[\"player1_prob_payoff\"] == prob_succ), \n",
        "        \"player2_predicted_action\"\n",
        "    ].map({\"wait\": 0, \"play\": 1}).values\n",
        "\n",
        "    ax.imshow(np.reshape(arr, (4, 4)), cmap='bwr')\n",
        "    ax.set_title(f\"Day->{days_left} GoodEnv->{is_env_good}\")\n",
        "    ax.set_xticks(np.arange(0, 4, 1), np.arange(1, 5, 1))\n",
        "    ax.set_yticks(np.arange(0, 4, 1), np.arange(1, 5, 1))\n",
        "\n",
        "for idx, ax in enumerate(np.ravel(axes)):\n",
        "    if idx < 8:\n",
        "        is_env_good=False\n",
        "    else:\n",
        "        is_env_good=True\n",
        "    days_left = idx%8 + 1\n",
        "    \n",
        "    _get_im(ax, days_left=days_left, is_env_good=is_env_good)\n",
        "\n",
        "ax.set_xlabel(\"player2_life_points\")\n",
        "ax.set_ylabel(\"player1_life_points\")\n",
        "\n",
        "red_patch = mpatches.Patch(color='red', label='Play')\n",
        "blue_patch = mpatches.Patch(color='blue', label='Wait')\n",
        "\n",
        "plt.legend(handles=[red_patch, blue_patch])\n",
        "\n",
        "fig.tight_layout()\n",
        "plt.show()"
      ],
      "metadata": {
        "colab": {
          "base_uri": "https://localhost:8080/",
          "height": 1000
        },
        "id": "YmNsJMKrpxVu",
        "outputId": "06739497-001e-4d43-a3e1-d8ee12d0afc5",
        "cellView": "form"
      },
      "execution_count": 28,
      "outputs": [
        {
          "output_type": "stream",
          "name": "stderr",
          "text": [
            "/usr/local/lib/python3.10/dist-packages/ipykernel/ipkernel.py:283: DeprecationWarning: `should_run_async` will not call `transform_cell` automatically in the future. Please pass the result to `transformed_cell` argument and any exception that happen during thetransform in `preprocessing_exc_tuple` in IPython 7.17 and above.\n",
            "  and should_run_async(code)\n"
          ]
        },
        {
          "output_type": "display_data",
          "data": {
            "text/plain": [
              "<Figure size 4000x2000 with 16 Axes>"
            ],
            "image/png": "[encoded data removed]"
          },
          "metadata": {}
        }
      ]
    },
    {
      "cell_type": "code",
      "source": [
        "from itertools import product\n",
        "\n",
        "algos = [AlwaysPlay(), AlwaysWait(), HailMary(), RandomAgent(), agent_learn2]\n",
        "df = []\n",
        "\n",
        "for algo1, algo2 in product(algos, repeat=2):\n",
        "    test_policies = MultiAgentPolicyManager([algo1, algo2],  _get_env_test())\n",
        "    test_collector = Collector(test_policies, test_envs, exploration_noise=True)\n",
        "    result = test_collector.collect(n_episode=1000)\n",
        "    arr = result[\"rews\"]\n",
        "    interval_size = 100\n",
        "    num_intervals = episodes // interval_size\n",
        "\n",
        "    means = []\n",
        "    std_devs = []\n",
        "\n",
        "    for i in range(0, episodes, interval_size):\n",
        "        interval_data = arr[i:i+interval_size]\n",
        "        mean = np.mean(interval_data, axis=0)\n",
        "        means.append(mean)\n",
        "\n",
        "    for i in range(num_intervals - 1):\n",
        "        mean_diff = means[i+1] - means[i]\n",
        "        std_devs.append(mean_diff)\n",
        "\n",
        "    avg = (np.mean(arr, axis=0)) * -100\n",
        "    std_dev = np.std(std_devs, axis=0) * 100\n",
        "\n",
        "    df.append([str(algo1).split('(')[0], str(algo2).split('(')[0], avg[0], std_dev[0], avg[1], std_dev[1]])\n",
        "\n",
        "    print(\"#\"*10)\n",
        "    print()\n",
        "    print(f\"death rate (in %) of {str(algo1).split('(')[0]} as player1: {avg[0]:.1f} +- {std_dev[0]:.3f}\")\n",
        "    print(f\"death rate (in %) of {str(algo2).split('(')[0]} as player2: {avg[1]:.1f} +- {std_dev[1]:.3f}\")\n",
        "\n",
        "    print()"
      ],
      "metadata": {
        "colab": {
          "base_uri": "https://localhost:8080/"
        },
        "id": "a_66Vm0WHsb6",
        "outputId": "b3641b1a-ef28-43a0-accc-7f355bee11bd"
      },
      "execution_count": 60,
      "outputs": [
        {
          "output_type": "stream",
          "name": "stdout",
          "text": [
            "##########\n",
            "\n",
            "death rate (in %) of AlwaysPlay as player1: 36.7 +- 2.973\n",
            "death rate (in %) of AlwaysPlay as player2: 36.7 +- 2.973\n",
            "\n",
            "##########\n",
            "\n",
            "death rate (in %) of AlwaysPlay as player1: 71.3 +- 8.829\n",
            "death rate (in %) of AlwaysWait as player2: 63.6 +- 7.490\n",
            "\n",
            "##########\n",
            "\n",
            "death rate (in %) of AlwaysPlay as player1: 67.8 +- 6.880\n",
            "death rate (in %) of HailMary as player2: 47.4 +- 5.573\n",
            "\n",
            "##########\n",
            "\n",
            "death rate (in %) of AlwaysPlay as player1: 56.5 +- 4.989\n",
            "death rate (in %) of RandomAgent as player2: 48.9 +- 4.190\n",
            "\n",
            "##########\n",
            "\n",
            "death rate (in %) of AlwaysPlay as player1: 66.0 +- 3.071\n",
            "death rate (in %) of DQNPolicy as player2: 47.0 +- 6.600\n",
            "\n",
            "##########\n",
            "\n",
            "death rate (in %) of AlwaysWait as player1: 63.7 +- 5.266\n",
            "death rate (in %) of AlwaysPlay as player2: 71.9 +- 4.725\n",
            "\n",
            "##########\n",
            "\n",
            "death rate (in %) of AlwaysWait as player1: 62.2 +- 8.176\n",
            "death rate (in %) of AlwaysWait as player2: 62.2 +- 8.176\n",
            "\n",
            "##########\n",
            "\n",
            "death rate (in %) of AlwaysWait as player1: 62.2 +- 4.055\n",
            "death rate (in %) of HailMary as player2: 52.1 +- 3.213\n",
            "\n",
            "##########\n",
            "\n",
            "death rate (in %) of AlwaysWait as player1: 63.2 +- 4.954\n",
            "death rate (in %) of RandomAgent as player2: 63.6 +- 5.506\n",
            "\n",
            "##########\n",
            "\n",
            "death rate (in %) of AlwaysWait as player1: 62.8 +- 9.126\n",
            "death rate (in %) of DQNPolicy as player2: 51.1 +- 8.987\n",
            "\n",
            "##########\n",
            "\n",
            "death rate (in %) of HailMary as player1: 60.5 +- 7.300\n",
            "death rate (in %) of AlwaysPlay as player2: 70.6 +- 7.365\n",
            "\n",
            "##########\n",
            "\n",
            "death rate (in %) of HailMary as player1: 56.9 +- 7.874\n",
            "death rate (in %) of AlwaysWait as player2: 63.9 +- 9.055\n",
            "\n",
            "##########\n",
            "\n",
            "death rate (in %) of HailMary as player1: 36.2 +- 6.946\n",
            "death rate (in %) of HailMary as player2: 36.2 +- 6.946\n",
            "\n",
            "##########\n",
            "\n",
            "death rate (in %) of HailMary as player1: 59.8 +- 7.455\n",
            "death rate (in %) of RandomAgent as player2: 63.2 +- 6.321\n",
            "\n",
            "##########\n",
            "\n",
            "death rate (in %) of HailMary as player1: 57.8 +- 6.724\n",
            "death rate (in %) of DQNPolicy as player2: 52.2 +- 8.171\n",
            "\n",
            "##########\n",
            "\n",
            "death rate (in %) of RandomAgent as player1: 47.4 +- 9.475\n",
            "death rate (in %) of AlwaysPlay as player2: 56.0 +- 8.212\n",
            "\n",
            "##########\n",
            "\n",
            "death rate (in %) of RandomAgent as player1: 65.5 +- 5.099\n",
            "death rate (in %) of AlwaysWait as player2: 63.6 +- 5.301\n",
            "\n",
            "##########\n",
            "\n",
            "death rate (in %) of RandomAgent as player1: 62.2 +- 5.101\n",
            "death rate (in %) of HailMary as player2: 50.5 +- 8.071\n",
            "\n",
            "##########\n",
            "\n",
            "death rate (in %) of RandomAgent as player1: 55.9 +- 3.771\n",
            "death rate (in %) of RandomAgent as player2: 56.2 +- 6.779\n",
            "\n",
            "##########\n",
            "\n",
            "death rate (in %) of RandomAgent as player1: 61.8 +- 6.303\n",
            "death rate (in %) of DQNPolicy as player2: 49.4 +- 7.880\n",
            "\n",
            "##########\n",
            "\n",
            "death rate (in %) of DQNPolicy as player1: 34.1 +- 6.773\n",
            "death rate (in %) of AlwaysPlay as player2: 61.4 +- 3.966\n",
            "\n",
            "##########\n",
            "\n",
            "death rate (in %) of DQNPolicy as player1: 53.0 +- 10.477\n",
            "death rate (in %) of AlwaysWait as player2: 63.9 +- 9.899\n",
            "\n",
            "##########\n",
            "\n",
            "death rate (in %) of DQNPolicy as player1: 49.9 +- 6.532\n",
            "death rate (in %) of HailMary as player2: 54.3 +- 6.562\n",
            "\n",
            "##########\n",
            "\n",
            "death rate (in %) of DQNPolicy as player1: 46.0 +- 4.613\n",
            "death rate (in %) of RandomAgent as player2: 60.2 +- 7.420\n",
            "\n",
            "##########\n",
            "\n",
            "death rate (in %) of DQNPolicy as player1: 33.4 +- 8.981\n",
            "death rate (in %) of DQNPolicy as player2: 35.1 +- 7.094\n",
            "\n"
          ]
        }
      ]
    },
    {
      "cell_type": "code",
      "source": [
        "df = pd.DataFrame(df, columns=[\"player1_name\", \"player2_name\", \"player1_mean_death_rate\", \"player1_std_dev_death_rate\", \"player2_mean_death_rate\", \"player2_std_dev_death_rate\"])\n",
        "df.head()"
      ],
      "metadata": {
        "colab": {
          "base_uri": "https://localhost:8080/",
          "height": 206
        },
        "id": "R8buOSnHYi1H",
        "outputId": "0e16d580-7a55-4b18-8381-22cf3b796001"
      },
      "execution_count": 61,
      "outputs": [
        {
          "output_type": "execute_result",
          "data": {
            "text/plain": [
              "  player1_name player2_name  player1_mean_death_rate  \\\n",
              "0   AlwaysPlay   AlwaysPlay                     36.7   \n",
              "1   AlwaysPlay   AlwaysWait                     71.3   \n",
              "2   AlwaysPlay     HailMary                     67.8   \n",
              "3   AlwaysPlay  RandomAgent                     56.5   \n",
              "4   AlwaysPlay    DQNPolicy                     66.0   \n",
              "\n",
              "   player1_std_dev_death_rate  player2_mean_death_rate  \\\n",
              "0                    2.973131                     36.7   \n",
              "1                    8.828965                     63.6   \n",
              "2                    6.879922                     47.4   \n",
              "3                    4.988877                     48.9   \n",
              "4                    3.071172                     47.0   \n",
              "\n",
              "   player2_std_dev_death_rate  \n",
              "0                    2.973131  \n",
              "1                    7.489911  \n",
              "2                    5.573305  \n",
              "3                    4.189935  \n",
              "4                    6.599663  "
            ],
            "text/html": [
              "\n",
              "  <div id=\"df-d9fe61b1-6fe6-464e-9930-c9d6dbd8206e\">\n",
              "    <div class=\"colab-df-container\">\n",
              "      <div>\n",
              "<style scoped>\n",
              "    .dataframe tbody tr th:only-of-type {\n",
              "        vertical-align: middle;\n",
              "    }\n",
              "\n",
              "    .dataframe tbody tr th {\n",
              "        vertical-align: top;\n",
              "    }\n",
              "\n",
              "    .dataframe thead th {\n",
              "        text-align: right;\n",
              "    }\n",
              "</style>\n",
              "<table border=\"1\" class=\"dataframe\">\n",
              "  <thead>\n",
              "    <tr style=\"text-align: right;\">\n",
              "      <th></th>\n",
              "      <th>player1_name</th>\n",
              "      <th>player2_name</th>\n",
              "      <th>player1_mean_death_rate</th>\n",
              "      <th>player1_std_dev_death_rate</th>\n",
              "      <th>player2_mean_death_rate</th>\n",
              "      <th>player2_std_dev_death_rate</th>\n",
              "    </tr>\n",
              "  </thead>\n",
              "  <tbody>\n",
              "    <tr>\n",
              "      <th>0</th>\n",
              "      <td>AlwaysPlay</td>\n",
              "      <td>AlwaysPlay</td>\n",
              "      <td>36.7</td>\n",
              "      <td>2.973131</td>\n",
              "      <td>36.7</td>\n",
              "      <td>2.973131</td>\n",
              "    </tr>\n",
              "    <tr>\n",
              "      <th>1</th>\n",
              "      <td>AlwaysPlay</td>\n",
              "      <td>AlwaysWait</td>\n",
              "      <td>71.3</td>\n",
              "      <td>8.828965</td>\n",
              "      <td>63.6</td>\n",
              "      <td>7.489911</td>\n",
              "    </tr>\n",
              "    <tr>\n",
              "      <th>2</th>\n",
              "      <td>AlwaysPlay</td>\n",
              "      <td>HailMary</td>\n",
              "      <td>67.8</td>\n",
              "      <td>6.879922</td>\n",
              "      <td>47.4</td>\n",
              "      <td>5.573305</td>\n",
              "    </tr>\n",
              "    <tr>\n",
              "      <th>3</th>\n",
              "      <td>AlwaysPlay</td>\n",
              "      <td>RandomAgent</td>\n",
              "      <td>56.5</td>\n",
              "      <td>4.988877</td>\n",
              "      <td>48.9</td>\n",
              "      <td>4.189935</td>\n",
              "    </tr>\n",
              "    <tr>\n",
              "      <th>4</th>\n",
              "      <td>AlwaysPlay</td>\n",
              "      <td>DQNPolicy</td>\n",
              "      <td>66.0</td>\n",
              "      <td>3.071172</td>\n",
              "      <td>47.0</td>\n",
              "      <td>6.599663</td>\n",
              "    </tr>\n",
              "  </tbody>\n",
              "</table>\n",
              "</div>\n",
              "      <button class=\"colab-df-convert\" onclick=\"convertToInteractive('df-d9fe61b1-6fe6-464e-9930-c9d6dbd8206e')\"\n",
              "              title=\"Convert this dataframe to an interactive table.\"\n",
              "              style=\"display:none;\">\n",
              "        \n",
              "  <svg xmlns=\"http://www.w3.org/2000/svg\" height=\"24px\"viewBox=\"0 0 24 24\"\n",
              "       width=\"24px\">\n",
              "    <path d=\"M0 0h24v24H0V0z\" fill=\"none\"/>\n",
              "    <path d=\"M18.56 5.44l.94 2.06.94-2.06 2.06-.94-2.06-.94-.94-2.06-.94 2.06-2.06.94zm-11 1L8.5 8.5l.94-2.06 2.06-.94-2.06-.94L8.5 2.5l-.94 2.06-2.06.94zm10 10l.94 2.06.94-2.06 2.06-.94-2.06-.94-.94-2.06-.94 2.06-2.06.94z\"/><path d=\"M17.41 7.96l-1.37-1.37c-.4-.4-.92-.59-1.43-.59-.52 0-1.04.2-1.43.59L10.3 9.45l-7.72 7.72c-.78.78-.78 2.05 0 2.83L4 21.41c.39.39.9.59 1.41.59.51 0 1.02-.2 1.41-.59l7.78-7.78 2.81-2.81c.8-.78.8-2.07 0-2.86zM5.41 20L4 18.59l7.72-7.72 1.47 1.35L5.41 20z\"/>\n",
              "  </svg>\n",
              "      </button>\n",
              "      \n",
              "  <style>\n",
              "    .colab-df-container {\n",
              "      display:flex;\n",
              "      flex-wrap:wrap;\n",
              "      gap: 12px;\n",
              "    }\n",
              "\n",
              "    .colab-df-convert {\n",
              "      background-color: #E8F0FE;\n",
              "      border: none;\n",
              "      border-radius: 50%;\n",
              "      cursor: pointer;\n",
              "      display: none;\n",
              "      fill: #1967D2;\n",
              "      height: 32px;\n",
              "      padding: 0 0 0 0;\n",
              "      width: 32px;\n",
              "    }\n",
              "\n",
              "    .colab-df-convert:hover {\n",
              "      background-color: #E2EBFA;\n",
              "      box-shadow: 0px 1px 2px rgba(60, 64, 67, 0.3), 0px 1px 3px 1px rgba(60, 64, 67, 0.15);\n",
              "      fill: #174EA6;\n",
              "    }\n",
              "\n",
              "    [theme=dark] .colab-df-convert {\n",
              "      background-color: #3B4455;\n",
              "      fill: #D2E3FC;\n",
              "    }\n",
              "\n",
              "    [theme=dark] .colab-df-convert:hover {\n",
              "      background-color: #434B5C;\n",
              "      box-shadow: 0px 1px 3px 1px rgba(0, 0, 0, 0.15);\n",
              "      filter: drop-shadow(0px 1px 2px rgba(0, 0, 0, 0.3));\n",
              "      fill: #FFFFFF;\n",
              "    }\n",
              "  </style>\n",
              "\n",
              "      <script>\n",
              "        const buttonEl =\n",
              "          document.querySelector('#df-d9fe61b1-6fe6-464e-9930-c9d6dbd8206e button.colab-df-convert');\n",
              "        buttonEl.style.display =\n",
              "          google.colab.kernel.accessAllowed ? 'block' : 'none';\n",
              "\n",
              "        async function convertToInteractive(key) {\n",
              "          const element = document.querySelector('#df-d9fe61b1-6fe6-464e-9930-c9d6dbd8206e');\n",
              "          const dataTable =\n",
              "            await google.colab.kernel.invokeFunction('convertToInteractive',\n",
              "                                                     [key], {});\n",
              "          if (!dataTable) return;\n",
              "\n",
              "          const docLinkHtml = 'Like what you see? Visit the ' +\n",
              "            '<a target=\"_blank\" href=https://colab.research.google.com/notebooks/data_table.ipynb>data table notebook</a>'\n",
              "            + ' to learn more about interactive tables.';\n",
              "          element.innerHTML = '';\n",
              "          dataTable['output_type'] = 'display_data';\n",
              "          await google.colab.output.renderOutput(dataTable, element);\n",
              "          const docLink = document.createElement('div');\n",
              "          docLink.innerHTML = docLinkHtml;\n",
              "          element.appendChild(docLink);\n",
              "        }\n",
              "      </script>\n",
              "    </div>\n",
              "  </div>\n",
              "  "
            ]
          },
          "metadata": {},
          "execution_count": 61
        }
      ]
    },
    {
      "cell_type": "code",
      "source": [
        "for idx, group in df.groupby(\"player1_name\"):\n",
        "    group = group.loc[~(group.player1_name == group.player2_name)]\n",
        "    wins = (group.player1_mean_death_rate < group.player2_mean_death_rate).sum()\n",
        "    print(idx, wins)"
      ],
      "metadata": {
        "colab": {
          "base_uri": "https://localhost:8080/"
        },
        "id": "cJKb-pORhSOx",
        "outputId": "530abfab-af73-45c0-8f42-4623b6286fff"
      },
      "execution_count": 118,
      "outputs": [
        {
          "output_type": "stream",
          "name": "stdout",
          "text": [
            "AlwaysPlay 0\n",
            "AlwaysWait 2\n",
            "DQNPolicy 4\n",
            "HailMary 3\n",
            "RandomAgent 1\n"
          ]
        }
      ]
    },
    {
      "cell_type": "code",
      "source": [
        "arr = [str(tuple(np.around(x, 2))) for x in df[[\"player1_mean_death_rate\", \"player2_mean_death_rate\"]].values]\n",
        "arr = np.reshape(arr, (5, 5))\n",
        "arr\n",
        "\n",
        "pd.DataFrame(arr, columns=df.player1_name.unique(), index=df.player1_name.unique())"
      ],
      "metadata": {
        "colab": {
          "base_uri": "https://localhost:8080/",
          "height": 206
        },
        "id": "9B8Jpxk6eiH3",
        "outputId": "ec4e826a-523e-4d2a-d4b2-bacb5f8a7624"
      },
      "execution_count": 105,
      "outputs": [
        {
          "output_type": "execute_result",
          "data": {
            "text/plain": [
              "               AlwaysPlay    AlwaysWait      HailMary   RandomAgent  \\\n",
              "AlwaysPlay   (36.7, 36.7)  (71.3, 63.6)  (67.8, 47.4)  (56.5, 48.9)   \n",
              "AlwaysWait   (63.7, 71.9)  (62.2, 62.2)  (62.2, 52.1)  (63.2, 63.6)   \n",
              "HailMary     (60.5, 70.6)  (56.9, 63.9)  (36.2, 36.2)  (59.8, 63.2)   \n",
              "RandomAgent  (47.4, 56.0)  (65.5, 63.6)  (62.2, 50.5)  (55.9, 56.2)   \n",
              "DQNPolicy    (34.1, 61.4)  (53.0, 63.9)  (49.9, 54.3)  (46.0, 60.2)   \n",
              "\n",
              "                DQNPolicy  \n",
              "AlwaysPlay   (66.0, 47.0)  \n",
              "AlwaysWait   (62.8, 51.1)  \n",
              "HailMary     (57.8, 52.2)  \n",
              "RandomAgent  (61.8, 49.4)  \n",
              "DQNPolicy    (33.4, 35.1)  "
            ],
            "text/html": [
              "\n",
              "  <div id=\"df-83d9b96e-459e-48b6-b95d-fdc9eaf76947\">\n",
              "    <div class=\"colab-df-container\">\n",
              "      <div>\n",
              "<style scoped>\n",
              "    .dataframe tbody tr th:only-of-type {\n",
              "        vertical-align: middle;\n",
              "    }\n",
              "\n",
              "    .dataframe tbody tr th {\n",
              "        vertical-align: top;\n",
              "    }\n",
              "\n",
              "    .dataframe thead th {\n",
              "        text-align: right;\n",
              "    }\n",
              "</style>\n",
              "<table border=\"1\" class=\"dataframe\">\n",
              "  <thead>\n",
              "    <tr style=\"text-align: right;\">\n",
              "      <th></th>\n",
              "      <th>AlwaysPlay</th>\n",
              "      <th>AlwaysWait</th>\n",
              "      <th>HailMary</th>\n",
              "      <th>RandomAgent</th>\n",
              "      <th>DQNPolicy</th>\n",
              "    </tr>\n",
              "  </thead>\n",
              "  <tbody>\n",
              "    <tr>\n",
              "      <th>AlwaysPlay</th>\n",
              "      <td>(36.7, 36.7)</td>\n",
              "      <td>(71.3, 63.6)</td>\n",
              "      <td>(67.8, 47.4)</td>\n",
              "      <td>(56.5, 48.9)</td>\n",
              "      <td>(66.0, 47.0)</td>\n",
              "    </tr>\n",
              "    <tr>\n",
              "      <th>AlwaysWait</th>\n",
              "      <td>(63.7, 71.9)</td>\n",
              "      <td>(62.2, 62.2)</td>\n",
              "      <td>(62.2, 52.1)</td>\n",
              "      <td>(63.2, 63.6)</td>\n",
              "      <td>(62.8, 51.1)</td>\n",
              "    </tr>\n",
              "    <tr>\n",
              "      <th>HailMary</th>\n",
              "      <td>(60.5, 70.6)</td>\n",
              "      <td>(56.9, 63.9)</td>\n",
              "      <td>(36.2, 36.2)</td>\n",
              "      <td>(59.8, 63.2)</td>\n",
              "      <td>(57.8, 52.2)</td>\n",
              "    </tr>\n",
              "    <tr>\n",
              "      <th>RandomAgent</th>\n",
              "      <td>(47.4, 56.0)</td>\n",
              "      <td>(65.5, 63.6)</td>\n",
              "      <td>(62.2, 50.5)</td>\n",
              "      <td>(55.9, 56.2)</td>\n",
              "      <td>(61.8, 49.4)</td>\n",
              "    </tr>\n",
              "    <tr>\n",
              "      <th>DQNPolicy</th>\n",
              "      <td>(34.1, 61.4)</td>\n",
              "      <td>(53.0, 63.9)</td>\n",
              "      <td>(49.9, 54.3)</td>\n",
              "      <td>(46.0, 60.2)</td>\n",
              "      <td>(33.4, 35.1)</td>\n",
              "    </tr>\n",
              "  </tbody>\n",
              "</table>\n",
              "</div>\n",
              "      <button class=\"colab-df-convert\" onclick=\"convertToInteractive('df-83d9b96e-459e-48b6-b95d-fdc9eaf76947')\"\n",
              "              title=\"Convert this dataframe to an interactive table.\"\n",
              "              style=\"display:none;\">\n",
              "        \n",
              "  <svg xmlns=\"http://www.w3.org/2000/svg\" height=\"24px\"viewBox=\"0 0 24 24\"\n",
              "       width=\"24px\">\n",
              "    <path d=\"M0 0h24v24H0V0z\" fill=\"none\"/>\n",
              "    <path d=\"M18.56 5.44l.94 2.06.94-2.06 2.06-.94-2.06-.94-.94-2.06-.94 2.06-2.06.94zm-11 1L8.5 8.5l.94-2.06 2.06-.94-2.06-.94L8.5 2.5l-.94 2.06-2.06.94zm10 10l.94 2.06.94-2.06 2.06-.94-2.06-.94-.94-2.06-.94 2.06-2.06.94z\"/><path d=\"M17.41 7.96l-1.37-1.37c-.4-.4-.92-.59-1.43-.59-.52 0-1.04.2-1.43.59L10.3 9.45l-7.72 7.72c-.78.78-.78 2.05 0 2.83L4 21.41c.39.39.9.59 1.41.59.51 0 1.02-.2 1.41-.59l7.78-7.78 2.81-2.81c.8-.78.8-2.07 0-2.86zM5.41 20L4 18.59l7.72-7.72 1.47 1.35L5.41 20z\"/>\n",
              "  </svg>\n",
              "      </button>\n",
              "      \n",
              "  <style>\n",
              "    .colab-df-container {\n",
              "      display:flex;\n",
              "      flex-wrap:wrap;\n",
              "      gap: 12px;\n",
              "    }\n",
              "\n",
              "    .colab-df-convert {\n",
              "      background-color: #E8F0FE;\n",
              "      border: none;\n",
              "      border-radius: 50%;\n",
              "      cursor: pointer;\n",
              "      display: none;\n",
              "      fill: #1967D2;\n",
              "      height: 32px;\n",
              "      padding: 0 0 0 0;\n",
              "      width: 32px;\n",
              "    }\n",
              "\n",
              "    .colab-df-convert:hover {\n",
              "      background-color: #E2EBFA;\n",
              "      box-shadow: 0px 1px 2px rgba(60, 64, 67, 0.3), 0px 1px 3px 1px rgba(60, 64, 67, 0.15);\n",
              "      fill: #174EA6;\n",
              "    }\n",
              "\n",
              "    [theme=dark] .colab-df-convert {\n",
              "      background-color: #3B4455;\n",
              "      fill: #D2E3FC;\n",
              "    }\n",
              "\n",
              "    [theme=dark] .colab-df-convert:hover {\n",
              "      background-color: #434B5C;\n",
              "      box-shadow: 0px 1px 3px 1px rgba(0, 0, 0, 0.15);\n",
              "      filter: drop-shadow(0px 1px 2px rgba(0, 0, 0, 0.3));\n",
              "      fill: #FFFFFF;\n",
              "    }\n",
              "  </style>\n",
              "\n",
              "      <script>\n",
              "        const buttonEl =\n",
              "          document.querySelector('#df-83d9b96e-459e-48b6-b95d-fdc9eaf76947 button.colab-df-convert');\n",
              "        buttonEl.style.display =\n",
              "          google.colab.kernel.accessAllowed ? 'block' : 'none';\n",
              "\n",
              "        async function convertToInteractive(key) {\n",
              "          const element = document.querySelector('#df-83d9b96e-459e-48b6-b95d-fdc9eaf76947');\n",
              "          const dataTable =\n",
              "            await google.colab.kernel.invokeFunction('convertToInteractive',\n",
              "                                                     [key], {});\n",
              "          if (!dataTable) return;\n",
              "\n",
              "          const docLinkHtml = 'Like what you see? Visit the ' +\n",
              "            '<a target=\"_blank\" href=https://colab.research.google.com/notebooks/data_table.ipynb>data table notebook</a>'\n",
              "            + ' to learn more about interactive tables.';\n",
              "          element.innerHTML = '';\n",
              "          dataTable['output_type'] = 'display_data';\n",
              "          await google.colab.output.renderOutput(dataTable, element);\n",
              "          const docLink = document.createElement('div');\n",
              "          docLink.innerHTML = docLinkHtml;\n",
              "          element.appendChild(docLink);\n",
              "        }\n",
              "      </script>\n",
              "    </div>\n",
              "  </div>\n",
              "  "
            ]
          },
          "metadata": {},
          "execution_count": 105
        }
      ]
    }
  ]
}