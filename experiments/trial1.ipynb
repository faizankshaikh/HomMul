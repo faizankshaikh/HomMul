{
  "nbformat": 4,
  "nbformat_minor": 0,
  "metadata": {
    "colab": {
      "provenance": [],
      "gpuType": "T4",
      "authorship_tag": "ABX9TyNdrhn+r210yTTzDZypF5LR",
      "include_colab_link": true
    },
    "kernelspec": {
      "name": "python3",
      "display_name": "Python 3"
    },
    "language_info": {
      "name": "python"
    },
    "accelerator": "GPU",
    "gpuClass": "standard"
  },
  "cells": [
    {
      "cell_type": "markdown",
      "metadata": {
        "id": "view-in-github",
        "colab_type": "text"
      },
      "source": [
        "<a href=\"https://colab.research.google.com/github/faizankshaikh/HomMul/blob/main/experiments/trial1.ipynb\" target=\"_parent\"><img src=\"https://colab.research.google.com/assets/colab-badge.svg\" alt=\"Open In Colab\"/></a>"
      ]
    },
    {
      "cell_type": "markdown",
      "source": [
        "# Experiments with Self-Playing Deep Reinforcement Learning\n"
      ],
      "metadata": {
        "id": "EG4U4ibl9Cnl"
      }
    },
    {
      "cell_type": "markdown",
      "source": [
        "## Initializing the game"
      ],
      "metadata": {
        "id": "TVyJ1rvE6_Gt"
      }
    },
    {
      "cell_type": "code",
      "execution_count": 1,
      "metadata": {
        "id": "V2BNDFAEr5fq",
        "cellView": "form"
      },
      "outputs": [],
      "source": [
        "#@title Required installation\n",
        "# !pip install -q black gymnasium pettingzoo==1.22.3 tianshou\n",
        "# !git clone https://github.com/faizankshaikh/HomMul.git"
      ]
    },
    {
      "cell_type": "code",
      "source": [
        "#@title Change working path\n",
        "%cd HomMul/"
      ],
      "metadata": {
        "colab": {
          "base_uri": "https://localhost:8080/"
        },
        "id": "NBShrrDlsJLP",
        "outputId": "397b4cc0-c57c-4327-b8bb-7f72ccf9338c",
        "cellView": "form"
      },
      "execution_count": 2,
      "outputs": [
        {
          "output_type": "stream",
          "name": "stdout",
          "text": [
            "/content/HomMul\n"
          ]
        }
      ]
    },
    {
      "cell_type": "code",
      "source": [
        "#@title Import libraries and modules\n",
        "%load_ext tensorboard\n",
        "\n",
        "import os\n",
        "import torch\n",
        "import numpy as np\n",
        "import pandas as pd\n",
        "import matplotlib.pyplot as plt\n",
        "import matplotlib.patches as mpatches\n",
        "from sklearn.preprocessing import MinMaxScaler\n",
        "\n",
        "from hommul.envs.hommul_v0 import HomMul\n",
        "\n",
        "from torch.optim import Adam\n",
        "\n",
        "from tianshou.data import Batch\n",
        "from tianshou.utils.net.common import Net\n",
        "from tianshou.utils import TensorboardLogger\n",
        "from tianshou.trainer import offpolicy_trainer\n",
        "from tianshou.data import Collector, VectorReplayBuffer\n",
        "from tianshou.env import DummyVectorEnv, PettingZooEnv\n",
        "from tianshou.policy import BasePolicy, DQNPolicy, MultiAgentPolicyManager\n",
        "\n",
        "from pettingzoo.utils import parallel_to_aec\n",
        "\n",
        "from torch.utils.tensorboard import SummaryWriter"
      ],
      "metadata": {
        "id": "othtAUgWs8MA",
        "cellView": "form"
      },
      "execution_count": 3,
      "outputs": []
    },
    {
      "cell_type": "code",
      "source": [
        "#@title Setup Gymnasium environment\n",
        "env = HomMul(include_all_states=True)\n",
        "original_env = HomMul(include_all_states=True, render_mode=\"human\")"
      ],
      "metadata": {
        "colab": {
          "base_uri": "https://localhost:8080/"
        },
        "id": "ZkPx4nCOuhXX",
        "outputId": "5f3c2bfd-06b5-4863-c28a-09c831063574",
        "cellView": "form"
      },
      "execution_count": 4,
      "outputs": [
        {
          "output_type": "stream",
          "name": "stderr",
          "text": [
            "/usr/local/lib/python3.10/dist-packages/ipykernel/ipkernel.py:283: DeprecationWarning: `should_run_async` will not call `transform_cell` automatically in the future. Please pass the result to `transformed_cell` argument and any exception that happen during thetransform in `preprocessing_exc_tuple` in IPython 7.17 and above.\n",
            "  and should_run_async(code)\n"
          ]
        }
      ]
    },
    {
      "cell_type": "code",
      "source": [
        "#@title Example of gameplay\n",
        "episodes = 2\n",
        "\n",
        "for episode in range(episodes):\n",
        "    print(f\"Episode #{episode+1}\")\n",
        "    print(\"=\" * 10)\n",
        "    obs = original_env.reset()\n",
        "    print()\n",
        "\n",
        "    while original_env.agents:\n",
        "        acts = {\n",
        "            \"player1\": np.random.choice([0, 1]),\n",
        "            \"player2\": np.random.choice([0, 1])\n",
        "        }\n",
        "        print(f\"--Action taken by player 1: {original_env.action_dict[acts['player1']]}\")\n",
        "        print(f\"--Action taken by player 2: {original_env.action_dict[acts['player2']]}\")\n",
        "        print()\n",
        "\n",
        "        obs, rews, terms, truncs, infos = original_env.step(acts)\n",
        "        print()"
      ],
      "metadata": {
        "colab": {
          "base_uri": "https://localhost:8080/"
        },
        "id": "ANr_Vc2ouvVJ",
        "outputId": "6c69eb18-b2c1-4687-a18f-c29f357774ba",
        "cellView": "form"
      },
      "execution_count": 5,
      "outputs": [
        {
          "output_type": "stream",
          "name": "stdout",
          "text": [
            "Episode #1\n",
            "==========\n",
            "--Days left: 3\n",
            "--Current life of agent 1: 4\n",
            "--Current life of agent 2: 4\n",
            "--Probability of payoff for agent 1: 0.2\n",
            "--Probability of payoff for agent 2: 0.2\n",
            "\n",
            "--Action taken by player 1: wait\n",
            "--Action taken by player 2: wait\n",
            "\n",
            "--Days left: 2\n",
            "--Current life of agent 1: 3\n",
            "--Current life of agent 2: 3\n",
            "--Probability of payoff for agent 1: 0.2\n",
            "--Probability of payoff for agent 2: 0.2\n",
            "--Previous action of agent 1: wait\n",
            "--Previous action of agent 2: wait\n",
            "\n",
            "--Action taken by player 1: play\n",
            "--Action taken by player 2: play\n",
            "\n",
            "--Days left: 1\n",
            "--Current life of agent 1: 1\n",
            "--Current life of agent 2: 1\n",
            "--Probability of payoff for agent 1: 0.2\n",
            "--Probability of payoff for agent 2: 0.2\n",
            "--Previous action of agent 1: play\n",
            "--Previous action of agent 2: play\n",
            "\n",
            "--Action taken by player 1: play\n",
            "--Action taken by player 2: wait\n",
            "\n",
            "--Days left: 0\n",
            "--Current life of agent 1: 2\n",
            "--Current life of agent 2: 0\n",
            "--Probability of payoff for agent 1: 0.4\n",
            "--Probability of payoff for agent 2: 0.4\n",
            "--Previous action of agent 1: play\n",
            "--Previous action of agent 2: wait\n",
            "\n",
            "Episode #2\n",
            "==========\n",
            "--Days left: 8\n",
            "--Current life of agent 1: 4\n",
            "--Current life of agent 2: 4\n",
            "--Probability of payoff for agent 1: 0.2\n",
            "--Probability of payoff for agent 2: 0.2\n",
            "\n",
            "--Action taken by player 1: wait\n",
            "--Action taken by player 2: wait\n",
            "\n",
            "--Days left: 7\n",
            "--Current life of agent 1: 3\n",
            "--Current life of agent 2: 3\n",
            "--Probability of payoff for agent 1: 0.2\n",
            "--Probability of payoff for agent 2: 0.2\n",
            "--Previous action of agent 1: wait\n",
            "--Previous action of agent 2: wait\n",
            "\n",
            "--Action taken by player 1: play\n",
            "--Action taken by player 2: wait\n",
            "\n",
            "--Days left: 6\n",
            "--Current life of agent 1: 4\n",
            "--Current life of agent 2: 2\n",
            "--Probability of payoff for agent 1: 0.4\n",
            "--Probability of payoff for agent 2: 0.4\n",
            "--Previous action of agent 1: play\n",
            "--Previous action of agent 2: wait\n",
            "\n",
            "--Action taken by player 1: play\n",
            "--Action taken by player 2: play\n",
            "\n",
            "--Days left: 5\n",
            "--Current life of agent 1: 2\n",
            "--Current life of agent 2: 0\n",
            "--Probability of payoff for agent 1: 0.4\n",
            "--Probability of payoff for agent 2: 0.4\n",
            "--Previous action of agent 1: play\n",
            "--Previous action of agent 2: play\n",
            "\n",
            "--Action taken by player 1: play\n",
            "--Action taken by player 2: play\n",
            "\n",
            "--Days left: 4\n",
            "--Current life of agent 1: 0\n",
            "--Current life of agent 2: 0\n",
            "--Probability of payoff for agent 1: 0.2\n",
            "--Probability of payoff for agent 2: 0.2\n",
            "--Previous action of agent 1: play\n",
            "--Previous action of agent 2: play\n",
            "\n"
          ]
        }
      ]
    },
    {
      "cell_type": "markdown",
      "source": [
        "## Heuristics Benchmarking\n"
      ],
      "metadata": {
        "id": "7QKl99aq9q4K"
      }
    },
    {
      "cell_type": "code",
      "source": [
        "#@title Case - both always play\n",
        "episodes = 1000\n",
        "\n",
        "episode_rews = []\n",
        "\n",
        "for _ in range(episodes):\n",
        "\n",
        "    obs = env.reset()\n",
        "    while env.agents:\n",
        "        acts = {\n",
        "            \"player1\": 1,\n",
        "            \"player2\": 1\n",
        "        }\n",
        "\n",
        "        obs, rews, terms, truncs, infos = env.step(acts)\n",
        "        # print(obs, rews)\n",
        "\n",
        "    episode_rews.append([rews['player1'], rews['player2']])\n",
        "\n",
        "arr = np.array(episode_rews)\n",
        "\n",
        "interval_size = 100\n",
        "num_intervals = episodes // interval_size\n",
        "\n",
        "means = []\n",
        "std_devs = []\n",
        "\n",
        "for i in range(0, episodes, interval_size):\n",
        "    interval_data = arr[i:i+interval_size]\n",
        "    mean = np.mean(interval_data, axis=0)\n",
        "    means.append(mean)\n",
        "\n",
        "for i in range(num_intervals - 1):\n",
        "    mean_diff = means[i+1] - means[i]\n",
        "    std_devs.append(mean_diff)\n",
        "\n",
        "avg = (np.mean(arr, axis=0)) * -100\n",
        "std_dev = np.std(std_devs, axis=0) * 100\n",
        "\n",
        "print(f\"death rate (in %) of player1: {avg[0]:.1f} +- {std_dev[0]:.3f}\")\n",
        "print(f\"death rate (in %) of player2: {avg[1]:.1f} +- {std_dev[1]:.3f}\")\n",
        "\n",
        "plt.plot(arr.cumsum(axis=0))\n",
        "plt.legend((\"player1\", \"player2\"))\n",
        "plt.show()"
      ],
      "metadata": {
        "colab": {
          "base_uri": "https://localhost:8080/",
          "height": 466
        },
        "id": "biogmPIWxNv3",
        "outputId": "8158640a-48ee-4f38-e3d3-ece1896b90dc",
        "cellView": "form"
      },
      "execution_count": 6,
      "outputs": [
        {
          "output_type": "stream",
          "name": "stdout",
          "text": [
            "death rate (in %) of player1: 35.0 +- 3.966\n",
            "death rate (in %) of player2: 35.0 +- 3.966\n"
          ]
        },
        {
          "output_type": "display_data",
          "data": {
            "text/plain": [
              "<Figure size 640x480 with 1 Axes>"
            ],
            "image/png": "[encoded data removed]"
          },
          "metadata": {}
        }
      ]
    },
    {
      "cell_type": "code",
      "source": [
        "#@title Case - both always wait\n",
        "episodes = 1000\n",
        "\n",
        "episode_rews = []\n",
        "\n",
        "for _ in range(episodes):\n",
        "\n",
        "    obs = env.reset()\n",
        "    while env.agents:\n",
        "        acts = {\n",
        "            \"player1\": 0,\n",
        "            \"player2\": 0\n",
        "        }\n",
        "\n",
        "        obs, rews, terms, truncs, infos = env.step(acts)\n",
        "        # print(obs, rews)\n",
        "\n",
        "    episode_rews.append([rews['player1'], rews['player2']])\n",
        "\n",
        "arr = np.array(episode_rews)\n",
        "interval_size = 100\n",
        "num_intervals = episodes // interval_size\n",
        "\n",
        "means = []\n",
        "std_devs = []\n",
        "\n",
        "for i in range(0, episodes, interval_size):\n",
        "    interval_data = arr[i:i+interval_size]\n",
        "    mean = np.mean(interval_data, axis=0)\n",
        "    means.append(mean)\n",
        "\n",
        "for i in range(num_intervals - 1):\n",
        "    mean_diff = means[i+1] - means[i]\n",
        "    std_devs.append(mean_diff)\n",
        "\n",
        "avg = (np.mean(arr, axis=0)) * -100\n",
        "std_dev = np.std(std_devs, axis=0) * 100\n",
        "\n",
        "print(f\"death rate (in %) of player1: {avg[0]:.1f} +- {std_dev[0]:.3f}\")\n",
        "print(f\"death rate (in %) of player2: {avg[1]:.1f} +- {std_dev[1]:.3f}\")\n",
        "plt.plot(arr.cumsum(axis=0))\n",
        "plt.legend((\"player1\", \"player2\"))\n",
        "plt.show()"
      ],
      "metadata": {
        "colab": {
          "base_uri": "https://localhost:8080/",
          "height": 466
        },
        "id": "EpB7M86F3Nmk",
        "outputId": "99db1bf4-ea35-406a-f6e6-70a264e4988e",
        "cellView": "form"
      },
      "execution_count": 7,
      "outputs": [
        {
          "output_type": "stream",
          "name": "stdout",
          "text": [
            "death rate (in %) of player1: 61.4 +- 5.965\n",
            "death rate (in %) of player2: 61.4 +- 5.965\n"
          ]
        },
        {
          "output_type": "display_data",
          "data": {
            "text/plain": [
              "<Figure size 640x480 with 1 Axes>"
            ],
            "image/png": "[encoded data removed]"
          },
          "metadata": {}
        }
      ]
    },
    {
      "cell_type": "code",
      "source": [
        "#@title Case - player1 waits, player2 plays\n",
        "episodes = 1000\n",
        "\n",
        "episode_rews = []\n",
        "\n",
        "for _ in range(episodes):\n",
        "\n",
        "    obs = env.reset()\n",
        "    while env.agents:\n",
        "        acts = {\n",
        "            \"player1\": 0,\n",
        "            \"player2\": 1\n",
        "        }\n",
        "\n",
        "        obs, rews, terms, truncs, infos = env.step(acts)\n",
        "        # print(obs, rews)\n",
        "\n",
        "    episode_rews.append([rews['player1'], rews['player2']])\n",
        "\n",
        "arr = np.array(episode_rews)\n",
        "interval_size = 100\n",
        "num_intervals = episodes // interval_size\n",
        "\n",
        "means = []\n",
        "std_devs = []\n",
        "\n",
        "for i in range(0, episodes, interval_size):\n",
        "    interval_data = arr[i:i+interval_size]\n",
        "    mean = np.mean(interval_data, axis=0)\n",
        "    means.append(mean)\n",
        "\n",
        "for i in range(num_intervals - 1):\n",
        "    mean_diff = means[i+1] - means[i]\n",
        "    std_devs.append(mean_diff)\n",
        "\n",
        "avg = (np.mean(arr, axis=0)) * -100\n",
        "std_dev = np.std(std_devs, axis=0) * 100\n",
        "\n",
        "print(f\"death rate (in %) of player1: {avg[0]:.1f} +- {std_dev[0]:.3f}\")\n",
        "print(f\"death rate (in %) of player2: {avg[1]:.1f} +- {std_dev[1]:.3f}\")\n",
        "plt.plot(arr.cumsum(axis=0))\n",
        "plt.legend((\"player1\", \"player2\"))\n",
        "plt.show()"
      ],
      "metadata": {
        "colab": {
          "base_uri": "https://localhost:8080/",
          "height": 466
        },
        "id": "O2wI3VsI3Tc8",
        "outputId": "0084acfa-86ee-4bf6-9a24-8b1bb4edba59",
        "cellView": "form"
      },
      "execution_count": 8,
      "outputs": [
        {
          "output_type": "stream",
          "name": "stdout",
          "text": [
            "death rate (in %) of player1: 64.2 +- 8.144\n",
            "death rate (in %) of player2: 71.3 +- 7.992\n"
          ]
        },
        {
          "output_type": "display_data",
          "data": {
            "text/plain": [
              "<Figure size 640x480 with 1 Axes>"
            ],
            "image/png": "[encoded data removed]"
          },
          "metadata": {}
        }
      ]
    },
    {
      "cell_type": "code",
      "source": [
        "#@title Case - player1 plays, player2 waits\n",
        "episodes = 1000\n",
        "\n",
        "episode_rews = []\n",
        "\n",
        "for _ in range(episodes):\n",
        "\n",
        "    obs = env.reset()\n",
        "    while env.agents:\n",
        "        acts = {\n",
        "            \"player1\": 1,\n",
        "            \"player2\": 0\n",
        "        }\n",
        "\n",
        "        obs, rews, terms, truncs, infos = env.step(acts)\n",
        "        # print(obs, rews)\n",
        "\n",
        "    episode_rews.append([rews['player1'], rews['player2']])\n",
        "\n",
        "arr = np.array(episode_rews)\n",
        "interval_size = 100\n",
        "num_intervals = episodes // interval_size\n",
        "\n",
        "means = []\n",
        "std_devs = []\n",
        "\n",
        "for i in range(0, episodes, interval_size):\n",
        "    interval_data = arr[i:i+interval_size]\n",
        "    mean = np.mean(interval_data, axis=0)\n",
        "    means.append(mean)\n",
        "\n",
        "for i in range(num_intervals - 1):\n",
        "    mean_diff = means[i+1] - means[i]\n",
        "    std_devs.append(mean_diff)\n",
        "\n",
        "avg = (np.mean(arr, axis=0)) * -100\n",
        "std_dev = np.std(std_devs, axis=0) * 100\n",
        "\n",
        "print(f\"death rate (in %) of player1: {avg[0]:.1f} +- {std_dev[0]:.3f}\")\n",
        "print(f\"death rate (in %) of player2: {avg[1]:.1f} +- {std_dev[1]:.3f}\")\n",
        "plt.plot(arr.cumsum(axis=0))\n",
        "plt.legend((\"player1\", \"player2\"))\n",
        "plt.show()"
      ],
      "metadata": {
        "colab": {
          "base_uri": "https://localhost:8080/",
          "height": 466
        },
        "id": "9eJWcQqC3Z99",
        "outputId": "ab79b216-2e74-46e1-9936-9320d29d765e",
        "cellView": "form"
      },
      "execution_count": 9,
      "outputs": [
        {
          "output_type": "stream",
          "name": "stdout",
          "text": [
            "death rate (in %) of player1: 68.2 +- 5.363\n",
            "death rate (in %) of player2: 60.3 +- 7.846\n"
          ]
        },
        {
          "output_type": "display_data",
          "data": {
            "text/plain": [
              "<Figure size 640x480 with 1 Axes>"
            ],
            "image/png": "[encoded data removed]"
          },
          "metadata": {}
        }
      ]
    },
    {
      "cell_type": "code",
      "source": [
        "#@title Case - Always play vs random agent\n",
        "episodes = 1000\n",
        "\n",
        "episode_rews = []\n",
        "\n",
        "for _ in range(episodes):\n",
        "\n",
        "    obs = env.reset()\n",
        "    while env.agents:\n",
        "        acts = {\n",
        "            \"player1\": 1,\n",
        "            \"player2\": np.random.choice([0, 1])\n",
        "        }\n",
        "\n",
        "        obs, rews, terms, truncs, infos = env.step(acts)\n",
        "        # print(obs, rews)\n",
        "\n",
        "    episode_rews.append([rews['player1'], rews['player2']])\n",
        "\n",
        "arr = np.array(episode_rews)\n",
        "interval_size = 100\n",
        "num_intervals = episodes // interval_size\n",
        "\n",
        "means = []\n",
        "std_devs = []\n",
        "\n",
        "for i in range(0, episodes, interval_size):\n",
        "    interval_data = arr[i:i+interval_size]\n",
        "    mean = np.mean(interval_data, axis=0)\n",
        "    means.append(mean)\n",
        "\n",
        "for i in range(num_intervals - 1):\n",
        "    mean_diff = means[i+1] - means[i]\n",
        "    std_devs.append(mean_diff)\n",
        "\n",
        "avg = (np.mean(arr, axis=0)) * -100\n",
        "std_dev = np.std(std_devs, axis=0) * 100\n",
        "\n",
        "print(f\"death rate (in %) of player1: {avg[0]:.1f} +- {std_dev[0]:.3f}\")\n",
        "print(f\"death rate (in %) of player2: {avg[1]:.1f} +- {std_dev[1]:.3f}\")\n",
        "plt.plot(arr.cumsum(axis=0))\n",
        "plt.legend((\"player1\", \"player2\"))\n",
        "plt.show()"
      ],
      "metadata": {
        "colab": {
          "base_uri": "https://localhost:8080/",
          "height": 466
        },
        "id": "FPLlpZUh3i8f",
        "outputId": "6b07d318-fecd-4fd9-c0b9-b6d2b1d503aa",
        "cellView": "form"
      },
      "execution_count": 10,
      "outputs": [
        {
          "output_type": "stream",
          "name": "stdout",
          "text": [
            "death rate (in %) of player1: 57.1 +- 6.000\n",
            "death rate (in %) of player2: 49.1 +- 3.232\n"
          ]
        },
        {
          "output_type": "display_data",
          "data": {
            "text/plain": [
              "<Figure size 640x480 with 1 Axes>"
            ],
            "image/png": "[encoded data removed]"
          },
          "metadata": {}
        }
      ]
    },
    {
      "cell_type": "code",
      "source": [
        "#@title Case - Always wait vs random agent\n",
        "episodes = 1000\n",
        "\n",
        "episode_rews = []\n",
        "\n",
        "for _ in range(episodes):\n",
        "\n",
        "    obs = env.reset()\n",
        "    while env.agents:\n",
        "        acts = {\n",
        "            \"player1\": 0,\n",
        "            \"player2\": np.random.choice([0, 1])\n",
        "        }\n",
        "\n",
        "        obs, rews, terms, truncs, infos = env.step(acts)\n",
        "        # print(obs, rews)\n",
        "\n",
        "    episode_rews.append([rews['player1'], rews['player2']])\n",
        "\n",
        "arr = np.array(episode_rews)\n",
        "interval_size = 100\n",
        "num_intervals = episodes // interval_size\n",
        "\n",
        "means = []\n",
        "std_devs = []\n",
        "\n",
        "for i in range(0, episodes, interval_size):\n",
        "    interval_data = arr[i:i+interval_size]\n",
        "    mean = np.mean(interval_data, axis=0)\n",
        "    means.append(mean)\n",
        "\n",
        "for i in range(num_intervals - 1):\n",
        "    mean_diff = means[i+1] - means[i]\n",
        "    std_devs.append(mean_diff)\n",
        "\n",
        "avg = (np.mean(arr, axis=0)) * -100\n",
        "std_dev = np.std(std_devs, axis=0) * 100\n",
        "\n",
        "print(f\"death rate (in %) of player1: {avg[0]:.1f} +- {std_dev[0]:.3f}\")\n",
        "print(f\"death rate (in %) of player2: {avg[1]:.1f} +- {std_dev[1]:.3f}\")\n",
        "plt.plot(arr.cumsum(axis=0))\n",
        "plt.legend((\"player1\", \"player2\"))\n",
        "plt.show()"
      ],
      "metadata": {
        "colab": {
          "base_uri": "https://localhost:8080/",
          "height": 466
        },
        "id": "A2Ei4LU75us9",
        "outputId": "3767c2c7-d89b-4f58-acee-6746e515a630",
        "cellView": "form"
      },
      "execution_count": 11,
      "outputs": [
        {
          "output_type": "stream",
          "name": "stdout",
          "text": [
            "death rate (in %) of player1: 62.1 +- 6.784\n",
            "death rate (in %) of player2: 66.1 +- 6.733\n"
          ]
        },
        {
          "output_type": "display_data",
          "data": {
            "text/plain": [
              "<Figure size 640x480 with 1 Axes>"
            ],
            "image/png": "[encoded data removed]"
          },
          "metadata": {}
        }
      ]
    },
    {
      "cell_type": "code",
      "source": [
        "#@title Case - Always play vs hail mary\n",
        "episodes = 1000\n",
        "\n",
        "episode_rews = []\n",
        "\n",
        "for _ in range(episodes):\n",
        "\n",
        "    obs = env.reset()\n",
        "    while env.agents:\n",
        "        acts = {\n",
        "            \"player1\": 1,\n",
        "            \"player2\": 1 if obs[\"player2\"][\"observation\"][0, 2] <= 1 else 0\n",
        "        }\n",
        "\n",
        "        obs, rews, terms, truncs, infos = env.step(acts)\n",
        "        # print(obs, rews)\n",
        "\n",
        "    episode_rews.append([rews['player1'], rews['player2']])\n",
        "\n",
        "arr = np.array(episode_rews)\n",
        "interval_size = 100\n",
        "num_intervals = episodes // interval_size\n",
        "\n",
        "means = []\n",
        "std_devs = []\n",
        "\n",
        "for i in range(0, episodes, interval_size):\n",
        "    interval_data = arr[i:i+interval_size]\n",
        "    mean = np.mean(interval_data, axis=0)\n",
        "    means.append(mean)\n",
        "\n",
        "for i in range(num_intervals - 1):\n",
        "    mean_diff = means[i+1] - means[i]\n",
        "    std_devs.append(mean_diff)\n",
        "\n",
        "avg = (np.mean(arr, axis=0)) * -100\n",
        "std_dev = np.std(std_devs, axis=0) * 100\n",
        "\n",
        "print(f\"death rate (in %) of player1: {avg[0]:.1f} +- {std_dev[0]:.3f}\")\n",
        "print(f\"death rate (in %) of player2: {avg[1]:.1f} +- {std_dev[1]:.3f}\")\n",
        "plt.plot(arr.cumsum(axis=0))\n",
        "plt.legend((\"player1\", \"player2\"))\n",
        "plt.show()"
      ],
      "metadata": {
        "colab": {
          "base_uri": "https://localhost:8080/",
          "height": 466
        },
        "id": "onhvByjW51QN",
        "outputId": "7870b209-e9e1-4947-f4ce-d24810ebb53b",
        "cellView": "form"
      },
      "execution_count": 12,
      "outputs": [
        {
          "output_type": "stream",
          "name": "stdout",
          "text": [
            "death rate (in %) of player1: 66.2 +- 7.885\n",
            "death rate (in %) of player2: 45.8 +- 5.021\n"
          ]
        },
        {
          "output_type": "display_data",
          "data": {
            "text/plain": [
              "<Figure size 640x480 with 1 Axes>"
            ],
            "image/png": "[encoded data removed]"
          },
          "metadata": {}
        }
      ]
    },
    {
      "cell_type": "code",
      "source": [
        "#@title Case - Always wait vs hail mary\n",
        "episodes = 1000\n",
        "\n",
        "episode_rews = []\n",
        "\n",
        "for _ in range(episodes):\n",
        "\n",
        "    obs = env.reset()\n",
        "    while env.agents:\n",
        "        acts = {\n",
        "            \"player1\": 0,\n",
        "            \"player2\": 1 if obs[\"player2\"][\"observation\"][0, 2] <= 1 else 0\n",
        "        }\n",
        "\n",
        "        obs, rews, terms, truncs, infos = env.step(acts)\n",
        "        # print(obs, rews)\n",
        "\n",
        "    episode_rews.append([rews['player1'], rews['player2']])\n",
        "\n",
        "arr = np.array(episode_rews)\n",
        "interval_size = 100\n",
        "num_intervals = episodes // interval_size\n",
        "\n",
        "means = []\n",
        "std_devs = []\n",
        "\n",
        "for i in range(0, episodes, interval_size):\n",
        "    interval_data = arr[i:i+interval_size]\n",
        "    mean = np.mean(interval_data, axis=0)\n",
        "    means.append(mean)\n",
        "\n",
        "for i in range(num_intervals - 1):\n",
        "    mean_diff = means[i+1] - means[i]\n",
        "    std_devs.append(mean_diff)\n",
        "\n",
        "avg = (np.mean(arr, axis=0)) * -100\n",
        "std_dev = np.std(std_devs, axis=0) * 100\n",
        "\n",
        "print(f\"death rate (in %) of player1: {avg[0]:.1f} +- {std_dev[0]:.3f}\")\n",
        "print(f\"death rate (in %) of player2: {avg[1]:.1f} +- {std_dev[1]:.3f}\")\n",
        "plt.plot(arr.cumsum(axis=0))\n",
        "plt.legend((\"player1\", \"player2\"))\n",
        "plt.show()"
      ],
      "metadata": {
        "colab": {
          "base_uri": "https://localhost:8080/",
          "height": 466
        },
        "id": "V8KQIrS76GRt",
        "outputId": "0da9d12f-d4f4-49e4-851b-2ad09ffbab1e",
        "cellView": "form"
      },
      "execution_count": 13,
      "outputs": [
        {
          "output_type": "stream",
          "name": "stdout",
          "text": [
            "death rate (in %) of player1: 61.9 +- 7.040\n",
            "death rate (in %) of player2: 52.8 +- 8.743\n"
          ]
        },
        {
          "output_type": "display_data",
          "data": {
            "text/plain": [
              "<Figure size 640x480 with 1 Axes>"
            ],
            "image/png": "[encoded data removed]"
          },
          "metadata": {}
        }
      ]
    },
    {
      "cell_type": "code",
      "source": [
        "#@title Load optimal policy\n",
        "\n",
        "# def optimal(obs):\n",
        "#     df = pd.read_csv(\"models/optimal_policy.csv\")\n",
        "#     return df.loc[\n",
        "#         (df[\"days_left\"] == obs[\"player1\"][\"observation\"][0][0]) &\n",
        "#         (df[\"player1_life_points\"] == obs[\"player1\"][\"observation\"][0][1]) &\n",
        "#         (df[\"player2_life_points\"] == obs[\"player1\"][\"observation\"][0][2]) &\n",
        "#         (df[\"player1_prob_payoff\"] == obs[\"player1\"][\"observation\"][0][3])\n",
        "#     ][\"action\"].values[0] - 1"
      ],
      "metadata": {
        "id": "QBM2c6-kc-AP",
        "cellView": "form"
      },
      "execution_count": 14,
      "outputs": []
    },
    {
      "cell_type": "code",
      "source": [
        "#@title Visualize optimal policy\n",
        "\n",
        "# df = pd.read_csv(\"models/optimal_policy.csv\")\n",
        "\n",
        "# fig, ((ax1, ax2), (ax3, ax4)) = plt.subplots(2, 2)\n",
        "\n",
        "# arr = df.loc[(df[\"days_left\"] == 1) & \n",
        "#     (df[\"player1_life_points\"] > 0.5) & \n",
        "#     (df[\"player2_life_points\"] > 0.5) & (df[\"player1_prob_payoff\"] < 0.3), \"action\"].values\n",
        "\n",
        "# ax1.imshow(np.reshape(arr, (3, 3)), cmap='bwr')\n",
        "# ax1.set_title(\"Day->1 Env->Bad\")\n",
        "# ax1.set_xticks([0, 1, 2], [1, 2, 3])\n",
        "# ax1.set_yticks([0, 1, 2], [1, 2, 3])\n",
        "\n",
        "# arr = df.loc[(df[\"days_left\"] == 2) & \n",
        "#     (df[\"player1_life_points\"] > 0.5) & \n",
        "#     (df[\"player2_life_points\"] > 0.5) & (df[\"player1_prob_payoff\"] < 0.3), \"action\"].values\n",
        "\n",
        "# ax2.imshow(np.reshape(arr, (3, 3)), cmap='bwr')\n",
        "# ax2.set_title(\"Day->2 Env->Bad\")\n",
        "# ax2.set_xticks([0, 1, 2], [1, 2, 3])\n",
        "# ax2.set_yticks([0, 1, 2], [1, 2, 3])\n",
        "\n",
        "# arr = df.loc[(df[\"days_left\"] == 1) & \n",
        "#     (df[\"player1_life_points\"] > 0.5) & \n",
        "#     (df[\"player2_life_points\"] > 0.5) & (df[\"player1_prob_payoff\"] > 0.3), \"action\"].values\n",
        "\n",
        "# ax3.imshow(np.reshape(arr, (3, 3)), cmap='bwr')\n",
        "# ax3.set_title(\"Day->1 Env->Good\")\n",
        "# ax3.set_xticks([0, 1, 2], [1, 2, 3])\n",
        "# ax3.set_yticks([0, 1, 2], [1, 2, 3])\n",
        "\n",
        "# arr = df.loc[(df[\"days_left\"] == 2) & \n",
        "#     (df[\"player1_life_points\"] > 0.5) & \n",
        "#     (df[\"player2_life_points\"] > 0.5) & (df[\"player1_prob_payoff\"] > 0.3), \"action\"].values\n",
        "\n",
        "# ax = ax4.imshow(np.reshape(arr, (3, 3)), cmap='bwr')\n",
        "# ax4.set_title(\"Day->2 Env->Good\")\n",
        "# ax4.set_xticks([0, 1, 2], [1, 2, 3])\n",
        "# ax4.set_yticks([0, 1, 2], [1, 2, 3])\n",
        "# ax4.set_xlabel(\"player2_life_points\")\n",
        "# ax4.set_ylabel(\"player1_life_points\")\n",
        "\n",
        "# red_patch = mpatches.Patch(color='red', label='Play')\n",
        "# blue_patch = mpatches.Patch(color='blue', label='Wait')\n",
        "\n",
        "# plt.legend(handles=[red_patch, blue_patch])\n",
        "\n",
        "# fig.tight_layout()\n",
        "# plt.show()"
      ],
      "metadata": {
        "id": "xU7SS8kS8hlm",
        "cellView": "form"
      },
      "execution_count": 15,
      "outputs": []
    },
    {
      "cell_type": "code",
      "source": [
        "#@title Case - optimal vs Always wait\n",
        "# episodes = 1000\n",
        "\n",
        "# episode_rews = []\n",
        "\n",
        "# for _ in range(episodes):\n",
        "\n",
        "#     obs = env.reset()\n",
        "#     while env.agents:\n",
        "#         acts = {\n",
        "#             \"player1\": optimal(obs),\n",
        "#             \"player2\": 0\n",
        "#         }\n",
        "\n",
        "#         obs, rews, terms, truncs, infos = env.step(acts)\n",
        "#         # print(obs, rews)\n",
        "\n",
        "#     episode_rews.append([rews['player1'], rews['player2']])\n",
        "\n",
        "# arr = np.array(episode_rews)\n",
        "# interval_size = 100\n",
        "# num_intervals = episodes // interval_size\n",
        "\n",
        "# means = []\n",
        "# std_devs = []\n",
        "\n",
        "# for i in range(0, episodes, interval_size):\n",
        "#     interval_data = arr[i:i+interval_size]\n",
        "#     mean = np.mean(interval_data, axis=0)\n",
        "#     means.append(mean)\n",
        "\n",
        "# for i in range(num_intervals - 1):\n",
        "#     mean_diff = means[i+1] - means[i]\n",
        "#     std_devs.append(mean_diff)\n",
        "\n",
        "# avg = (np.mean(arr, axis=0)) * -100\n",
        "# std_dev = np.std(std_devs, axis=0) * 100\n",
        "\n",
        "# print(f\"death rate (in %) of player1: {avg[0]:.1f} +- {std_dev[0]:.3f}\")\n",
        "# print(f\"death rate (in %) of player2: {avg[1]:.1f} +- {std_dev[1]:.3f}\")\n",
        "# plt.plot(arr.cumsum(axis=0))\n",
        "# plt.legend((\"player1\", \"player2\"))\n",
        "# plt.show()"
      ],
      "metadata": {
        "id": "RL0wZWyMh7l9",
        "cellView": "form"
      },
      "execution_count": 16,
      "outputs": []
    },
    {
      "cell_type": "code",
      "source": [
        "#@title Case - optimal vs Always play\n",
        "# episodes = 1000\n",
        "\n",
        "# episode_rews = []\n",
        "\n",
        "# for _ in range(episodes):\n",
        "\n",
        "#     obs = env.reset()\n",
        "#     while env.agents:\n",
        "#         acts = {\n",
        "#             \"player1\": optimal(obs), \n",
        "#             \"player2\": 0\n",
        "#         }\n",
        "\n",
        "#         obs, rews, terms, truncs, infos = env.step(acts)\n",
        "#         # print(obs, rews)\n",
        "\n",
        "#     episode_rews.append([rews['player1'], rews['player2']])\n",
        "\n",
        "# arr = np.array(episode_rews)\n",
        "# interval_size = 100\n",
        "# num_intervals = episodes // interval_size\n",
        "\n",
        "# means = []\n",
        "# std_devs = []\n",
        "\n",
        "# for i in range(0, episodes, interval_size):\n",
        "#     interval_data = arr[i:i+interval_size]\n",
        "#     mean = np.mean(interval_data, axis=0)\n",
        "#     means.append(mean)\n",
        "\n",
        "# for i in range(num_intervals - 1):\n",
        "#     mean_diff = means[i+1] - means[i]\n",
        "#     std_devs.append(mean_diff)\n",
        "\n",
        "# avg = (np.mean(arr, axis=0)) * -100\n",
        "# std_dev = np.std(std_devs, axis=0) * 100\n",
        "\n",
        "# print(f\"death rate (in %) of player1: {avg[0]:.1f} +- {std_dev[0]:.3f}\")\n",
        "# print(f\"death rate (in %) of player2: {avg[1]:.1f} +- {std_dev[1]:.3f}\")\n",
        "# plt.plot(arr.cumsum(axis=0))\n",
        "# plt.legend((\"player1\", \"player2\"))\n",
        "# plt.show()"
      ],
      "metadata": {
        "id": "mUTFipKjh8O-",
        "cellView": "form"
      },
      "execution_count": 17,
      "outputs": []
    },
    {
      "cell_type": "code",
      "source": [
        "#@title Case - optimal vs hail mary\n",
        "# episodes = 1000\n",
        "\n",
        "# episode_rews = []\n",
        "\n",
        "# for _ in range(episodes):\n",
        "\n",
        "#     obs = env.reset()\n",
        "#     while env.agents:\n",
        "#         acts = {\n",
        "#             \"player1\": optimal(obs),\n",
        "#             \"player2\": 1 if obs[\"player2\"][\"observation\"][0, 2] <= 1 else 0\n",
        "#         }\n",
        "\n",
        "#         obs, rews, terms, truncs, infos = env.step(acts)\n",
        "#         # print(obs, rews)\n",
        "\n",
        "#     episode_rews.append([rews['player1'], rews['player2']])\n",
        "\n",
        "# arr = np.array(episode_rews)\n",
        "# interval_size = 100\n",
        "# num_intervals = episodes // interval_size\n",
        "\n",
        "# means = []\n",
        "# std_devs = []\n",
        "\n",
        "# for i in range(0, episodes, interval_size):\n",
        "#     interval_data = arr[i:i+interval_size]\n",
        "#     mean = np.mean(interval_data, axis=0)\n",
        "#     means.append(mean)\n",
        "\n",
        "# for i in range(num_intervals - 1):\n",
        "#     mean_diff = means[i+1] - means[i]\n",
        "#     std_devs.append(mean_diff)\n",
        "\n",
        "# avg = (np.mean(arr, axis=0)) * -100\n",
        "# std_dev = np.std(std_devs, axis=0) * 100\n",
        "\n",
        "# print(f\"death rate (in %) of player1: {avg[0]:.1f} +- {std_dev[0]:.3f}\")\n",
        "# print(f\"death rate (in %) of player2: {avg[1]:.1f} +- {std_dev[1]:.3f}\")\n",
        "# plt.plot(arr.cumsum(axis=0))\n",
        "# plt.legend((\"player1\", \"player2\"))\n",
        "# plt.show()"
      ],
      "metadata": {
        "id": "Rp5rTe78auBy",
        "cellView": "form"
      },
      "execution_count": 18,
      "outputs": []
    },
    {
      "cell_type": "code",
      "source": [
        "#@title Case - optimal vs optimal\n",
        "# episodes = 1000\n",
        "\n",
        "# episode_rews = []\n",
        "\n",
        "# for _ in range(episodes):\n",
        "\n",
        "#     obs = env.reset()\n",
        "#     while env.agents:\n",
        "#         acts = {\n",
        "#             \"player1\": optimal(obs),\n",
        "#             \"player2\": optimal(obs)\n",
        "#         }\n",
        "\n",
        "#         obs, rews, terms, truncs, infos = env.step(acts)\n",
        "#         # print(obs, rews)\n",
        "\n",
        "#     episode_rews.append([rews['player1'], rews['player2']])\n",
        "\n",
        "# arr = np.array(episode_rews)\n",
        "# interval_size = 100\n",
        "# num_intervals = episodes // interval_size\n",
        "\n",
        "# means = []\n",
        "# std_devs = []\n",
        "\n",
        "# for i in range(0, episodes, interval_size):\n",
        "#     interval_data = arr[i:i+interval_size]\n",
        "#     mean = np.mean(interval_data, axis=0)\n",
        "#     means.append(mean)\n",
        "\n",
        "# for i in range(num_intervals - 1):\n",
        "#     mean_diff = means[i+1] - means[i]\n",
        "#     std_devs.append(mean_diff)\n",
        "\n",
        "# avg = (np.mean(arr, axis=0)) * -100\n",
        "# std_dev = np.std(std_devs, axis=0) * 100\n",
        "\n",
        "# print(f\"death rate (in %) of player1: {avg[0]:.1f} +- {std_dev[0]:.3f}\")\n",
        "# print(f\"death rate (in %) of player2: {avg[1]:.1f} +- {std_dev[1]:.3f}\")\n",
        "# plt.plot(arr.cumsum(axis=0))\n",
        "# plt.legend((\"player1\", \"player2\"))\n",
        "# plt.show()"
      ],
      "metadata": {
        "cellView": "form",
        "id": "8BMrQiKfhbiK"
      },
      "execution_count": 19,
      "outputs": []
    },
    {
      "cell_type": "markdown",
      "source": [
        "## Deep RL training\n"
      ],
      "metadata": {
        "id": "dvS0OTb5-cW2"
      }
    },
    {
      "cell_type": "code",
      "source": [
        "#@title Define heuristic algos in Tianshou\n",
        "## agent that always plays\n",
        "class AlwaysPlay(BasePolicy):\n",
        "    def __init__(self, **kwargs):\n",
        "        self.nolearn = True\n",
        "        super().__init__(**kwargs)\n",
        "    \n",
        "    def forward(self, batch, state = None):\n",
        "        mask = batch.obs.mask\n",
        "        logits = np.zeros(mask.shape)\n",
        "        logits[:, 1] = 1\n",
        "        logits[~mask] = -np.inf\n",
        "        return Batch(act=logits.argmax(axis=-1))\n",
        "\n",
        "    def learn(self, batch):\n",
        "        return {}\n",
        "\n",
        "## agent that always waits\n",
        "class AlwaysWait(BasePolicy):\n",
        "    def __init__(self, **kwargs):\n",
        "        self.nolearn = True\n",
        "        super().__init__(**kwargs)\n",
        "\n",
        "    def forward(self, batch, state = None):\n",
        "        mask = batch.obs.mask\n",
        "        logits = np.zeros(mask.shape)\n",
        "        logits[:, 0] = 1\n",
        "        logits[~mask] = -np.inf\n",
        "        return Batch(act=logits.argmax(axis=-1))\n",
        "\n",
        "    def learn(self, batch):\n",
        "        return {}\n",
        "\n",
        "## agent that waits for low health to play\n",
        "class HailMary(BasePolicy):\n",
        "    def __init__(self, **kwargs):\n",
        "        self.nolearn = True\n",
        "        super().__init__(**kwargs)\n",
        "\n",
        "    def forward(self, batch, state = None):\n",
        "        mask = batch.obs.mask\n",
        "        logits = np.zeros(mask.shape)\n",
        "        obs = batch.obs.obs\n",
        "\n",
        "        for i in range(mask.shape[0]):\n",
        "            if obs[i, :, 2] <= 1:\n",
        "                logits[i, 1] = 1\n",
        "            else:\n",
        "                logits[i, 0] = 1\n",
        "        logits[~mask] = -np.inf\n",
        "        return Batch(act=logits.argmax(axis=-1))\n",
        "\n",
        "    def learn(self, batch):\n",
        "        return {}\n",
        "\n",
        "## optimal agent \n",
        "class OptimalPolicy(BasePolicy):\n",
        "    def __init__(self, **kwargs):\n",
        "        self.nolearn = True\n",
        "        super().__init__(**kwargs)\n",
        "\n",
        "    def forward(self, batch, state = None):\n",
        "        mask = batch.obs.mask\n",
        "        logits = np.zeros(mask.shape)\n",
        "        obs = batch.obs.obs\n",
        "\n",
        "        df = pd.read_csv(\"models/optimal_policy.csv\")\n",
        "\n",
        "        for i in range(mask.shape[0]):\n",
        "            action = df.loc[\n",
        "                (df[\"days_left\"] == obs[i, :, 0][0]) &\n",
        "                (df[\"player1_life_points\"] == obs[i, :, 1][0]) &\n",
        "                (df[\"player2_life_points\"] == obs[i, :, 2][0]) &\n",
        "                (df[\"player1_prob_payoff\"] == obs[i, :, 3][0])\n",
        "            ][\"action\"].values[0] - 1\n",
        "            if action:\n",
        "                logits[i, 1] = 1\n",
        "            else:\n",
        "                logits[i, 0] = 1\n",
        "        logits[~mask] = -np.inf\n",
        "        return Batch(act=logits.argmax(axis=-1))\n",
        "\n",
        "    def learn(self, batch):\n",
        "        return {}\n",
        "\n",
        "## random agent\n",
        "class RandomAgent(BasePolicy):\n",
        "    def __init__(self, **kwargs):\n",
        "        self.nolearn = True\n",
        "        super().__init__(**kwargs)\n",
        "\n",
        "    def forward(self, batch, state = None):\n",
        "        mask = batch.obs.mask\n",
        "        logits = np.zeros(mask.shape)\n",
        "        logits[:, np.random.choice([0, 1])] = 1\n",
        "        logits[~mask] = -np.inf\n",
        "        return Batch(act=logits.argmax(axis=-1))\n",
        "\n",
        "    def learn(self, batch):\n",
        "        return {}"
      ],
      "metadata": {
        "id": "n5nzTky1bTJk",
        "cellView": "form"
      },
      "execution_count": 20,
      "outputs": []
    },
    {
      "cell_type": "code",
      "source": [
        "#@title Prerequisites for training\n",
        "# Step 2: Wrap the environment for Tianshou interfacing\n",
        "def _get_env_train():\n",
        "    env = HomMul(include_all_states=True)\n",
        "    vec_env = parallel_to_aec(env)\n",
        "    return PettingZooEnv(vec_env)\n",
        "\n",
        "def _get_env_test():\n",
        "    env = HomMul(include_all_states=True)\n",
        "    vec_env = parallel_to_aec(env)\n",
        "    return PettingZooEnv(vec_env)\n",
        "\n",
        "# seed\n",
        "seed = 42\n",
        "np.random.seed(seed)\n",
        "torch.manual_seed(seed)\n",
        "\n",
        "env = HomMul()\n",
        "agents =  env.agents[:]\n",
        "\n",
        "# Step 3: Define policies for each agent\n",
        "## learning agent\n",
        "def _get_agent(pretrained=False):\n",
        "    vec_env = _get_env_train()\n",
        "    net = Net(\n",
        "        state_shape=vec_env.observation_space.shape,\n",
        "        action_shape=vec_env.action_space.n,\n",
        "        hidden_sizes=[128, 128],\n",
        "        device=\"cuda\",\n",
        "    ).to(\"cuda\")\n",
        "    optim = Adam(net.parameters(), lr=1e-4)\n",
        "    model = DQNPolicy(\n",
        "        model=net,\n",
        "        optim=optim,\n",
        "        discount_factor=0.9,\n",
        "        estimation_step=3,\n",
        "        target_update_freq=50,\n",
        "    )\n",
        "\n",
        "    if pretrained:\n",
        "        model_save_path = os.path.join(\"models\", \"vs_hail_mary.pth\")\n",
        "        model.load_state_dict(torch.load(model_save_path))\n",
        "    return model\n",
        "\n",
        "agent_learn1 = _get_agent(pretrained=False)\n",
        "agent_learn2 = _get_agent(pretrained=False)\n",
        "\n",
        "train_policies = MultiAgentPolicyManager([agent_learn1, agent_learn2],  _get_env_train())\n",
        "\n",
        "train_envs = DummyVectorEnv([_get_env_train for _ in range(10)])\n",
        "test_envs = DummyVectorEnv([_get_env_test for _ in range(2)])\n",
        "train_envs.seed(seed)\n",
        "test_envs.seed(seed)\n",
        "\n",
        "# Step 4: Collector setup\n",
        "train_collector = Collector(\n",
        "    train_policies,\n",
        "    train_envs,\n",
        "    VectorReplayBuffer(20_000, len(train_envs)),\n",
        "    exploration_noise=True,\n",
        ")\n",
        "\n",
        "test_policies = MultiAgentPolicyManager([agent_learn1, agent_learn2],  _get_env_test())\n",
        "test_collector = Collector(test_policies, test_envs, exploration_noise=True)\n",
        "\n",
        "train_collector.collect(n_episode=50)\n",
        "\n",
        "def save_best_fn(policy):\n",
        "    model_save_path1 = os.path.join(\"log\", \"hommul\", \"dqn\", \"policy1.pth\")\n",
        "    model_save_path2 = os.path.join(\"log\", \"hommul\", \"dqn\", \"policy2.pth\")\n",
        "    os.makedirs(os.path.join(\"log\", \"hommul\", \"dqn\"), exist_ok=True)\n",
        "    if not hasattr(train_policies.policies[agents[0]], 'nolearn'):\n",
        "        torch.save(train_policies.policies[agents[0]].state_dict(), model_save_path1)\n",
        "    if not hasattr(train_policies.policies[agents[1]], 'nolearn'):\n",
        "        torch.save(train_policies.policies[agents[1]].state_dict(), model_save_path2)\n",
        "\n",
        "def stop_fn(mean_rewards):\n",
        "    return mean_rewards >= -0.05\n",
        "\n",
        "def train_fn(epoch, env_step):\n",
        "    # freeze training for player1\n",
        "    if not hasattr(train_policies.policies[agents[0]], 'nolearn'):\n",
        "        train_policies.policies[agents[0]].set_eps(0.05)\n",
        "\n",
        "    if not hasattr(train_policies.policies[agents[1]], 'nolearn'):\n",
        "        train_policies.policies[agents[1]].set_eps(0.1)\n",
        "\n",
        "def test_fn(epoch, env_step):\n",
        "    if not hasattr(train_policies.policies[agents[0]], 'nolearn'):\n",
        "        train_policies.policies[agents[0]].set_eps(0.05)\n",
        "\n",
        "    if not hasattr(train_policies.policies[agents[1]], 'nolearn'):\n",
        "        train_policies.policies[agents[1]].set_eps(0.05)\n",
        "\n",
        "def reward_metric(rews):\n",
        "    return rews[:, 1]"
      ],
      "metadata": {
        "id": "Z-AOFEZAcNGV",
        "cellView": "form"
      },
      "execution_count": 21,
      "outputs": []
    },
    {
      "cell_type": "code",
      "source": [
        "#@title Clear logs and setup TensorBoard\n",
        "!rm -rf /content/HomMul/log\n",
        "\n",
        "log_path = os.path.join(\"log\", \"hommul\", \"dqn\")\n",
        "writer = SummaryWriter(log_path)\n",
        "logger = TensorboardLogger(writer)"
      ],
      "metadata": {
        "id": "t_dRm6ZTdV2v",
        "cellView": "form",
        "outputId": "9468f1af-ee3b-48dd-b886-a8f87bd5a6e4",
        "colab": {
          "base_uri": "https://localhost:8080/"
        }
      },
      "execution_count": 22,
      "outputs": [
        {
          "output_type": "stream",
          "name": "stderr",
          "text": [
            "/usr/local/lib/python3.10/dist-packages/ipykernel/ipkernel.py:283: DeprecationWarning: `should_run_async` will not call `transform_cell` automatically in the future. Please pass the result to `transformed_cell` argument and any exception that happen during thetransform in `preprocessing_exc_tuple` in IPython 7.17 and above.\n",
            "  and should_run_async(code)\n"
          ]
        }
      ]
    },
    {
      "cell_type": "code",
      "source": [
        "#@title Training\n",
        "for evolution in range(10):\n",
        "    print(f\"#### Evolution {evolution+1}\")\n",
        "    result = offpolicy_trainer(\n",
        "        policy=train_policies,\n",
        "        train_collector=train_collector,\n",
        "        test_collector=test_collector,\n",
        "        max_epoch=20,\n",
        "        step_per_epoch=1000,\n",
        "        step_per_collect=50,\n",
        "        episode_per_test=100,\n",
        "        batch_size=64,\n",
        "        train_fn=train_fn,\n",
        "        test_fn=test_fn,\n",
        "        stop_fn=stop_fn,\n",
        "        save_best_fn=save_best_fn,\n",
        "        update_per_step=0.1,\n",
        "        test_in_train=False,\n",
        "        reward_metric=reward_metric,\n",
        "        logger=logger\n",
        "    )\n",
        "\n",
        "    model_save_path2 = os.path.join(\"log\", \"hommul\", \"dqn\", \"policy2.pth\")\n",
        "    if not hasattr(train_policies.policies[agents[0]], 'nolearn'):\n",
        "        train_policies.policies[agents[0]].load_state_dict(torch.load(model_save_path2))\n",
        "        train_policies.policies[agents[1]].load_state_dict(torch.load(model_save_path2))\n",
        "\n",
        "    result = test_collector.collect(n_episode=1000)\n",
        "    arr = result[\"rews\"]\n",
        "    interval_size = 100\n",
        "    num_intervals = episodes // interval_size\n",
        "\n",
        "    means = []\n",
        "    std_devs = []\n",
        "\n",
        "    for i in range(0, episodes, interval_size):\n",
        "        interval_data = arr[i:i+interval_size]\n",
        "        mean = np.mean(interval_data, axis=0)\n",
        "        means.append(mean)\n",
        "\n",
        "    for i in range(num_intervals - 1):\n",
        "        mean_diff = means[i+1] - means[i]\n",
        "        std_devs.append(mean_diff)\n",
        "\n",
        "    avg = (np.mean(arr, axis=0)) * -100\n",
        "    std_dev = np.std(std_devs, axis=0) * 100\n",
        "\n",
        "    print(\"#\"*10)\n",
        "    print()\n",
        "    print(f\"death rate (in %) of player1: {avg[0]:.1f} +- {std_dev[0]:.3f}\")\n",
        "    print(f\"death rate (in %) of player2: {avg[1]:.1f} +- {std_dev[1]:.3f}\")\n",
        "    plt.plot(arr.cumsum(axis=0))\n",
        "    plt.legend((\"player1\", \"player2\"))\n",
        "    plt.show()\n",
        "\n",
        "    print()"
      ],
      "metadata": {
        "colab": {
          "base_uri": "https://localhost:8080/",
          "height": 1000
        },
        "id": "69UICm9_dwdD",
        "outputId": "2da74459-c5c0-4813-90a5-40bd16784fc0",
        "cellView": "form"
      },
      "execution_count": 23,
      "outputs": [
        {
          "output_type": "stream",
          "name": "stdout",
          "text": [
            "#### Evolution 1\n"
          ]
        },
        {
          "output_type": "stream",
          "name": "stderr",
          "text": [
            "Epoch #1: 1001it [00:03, 305.48it/s, env_step=1000, len=6, n/ep=7, n/st=50, player1/loss=0.118, player2/loss=0.280, rew=-0.43]                          \n"
          ]
        },
        {
          "output_type": "stream",
          "name": "stdout",
          "text": [
            "Epoch #1: test_reward: -0.560000 ± 0.496387, best_reward: -0.560000 ± 0.496387 in #1\n"
          ]
        },
        {
          "output_type": "stream",
          "name": "stderr",
          "text": [
            "Epoch #2: 1001it [00:01, 885.26it/s, env_step=2000, len=8, n/ep=8, n/st=50, player1/loss=0.099, player2/loss=0.187, rew=-0.75]                          \n"
          ]
        },
        {
          "output_type": "stream",
          "name": "stdout",
          "text": [
            "Epoch #2: test_reward: -0.580000 ± 0.493559, best_reward: -0.560000 ± 0.496387 in #1\n"
          ]
        },
        {
          "output_type": "stream",
          "name": "stderr",
          "text": [
            "Epoch #3: 1001it [00:01, 907.01it/s, env_step=3000, len=7, n/ep=10, n/st=50, player1/loss=0.089, player2/loss=0.177, rew=-0.70]                          \n"
          ]
        },
        {
          "output_type": "stream",
          "name": "stdout",
          "text": [
            "Epoch #3: test_reward: -0.550000 ± 0.497494, best_reward: -0.550000 ± 0.497494 in #3\n"
          ]
        },
        {
          "output_type": "stream",
          "name": "stderr",
          "text": [
            "Epoch #4: 1001it [00:01, 905.05it/s, env_step=4000, len=8, n/ep=12, n/st=50, player1/loss=0.078, player2/loss=0.189, rew=-0.58]                          \n"
          ]
        },
        {
          "output_type": "stream",
          "name": "stdout",
          "text": [
            "Epoch #4: test_reward: -0.550000 ± 0.497494, best_reward: -0.550000 ± 0.497494 in #3\n"
          ]
        },
        {
          "output_type": "stream",
          "name": "stderr",
          "text": [
            "Epoch #5: 1001it [00:01, 907.80it/s, env_step=5000, len=6, n/ep=7, n/st=50, player1/loss=0.094, player2/loss=0.183, rew=-0.57]                          \n"
          ]
        },
        {
          "output_type": "stream",
          "name": "stdout",
          "text": [
            "Epoch #5: test_reward: -0.450000 ± 0.497494, best_reward: -0.450000 ± 0.497494 in #5\n"
          ]
        },
        {
          "output_type": "stream",
          "name": "stderr",
          "text": [
            "Epoch #6: 1001it [00:01, 903.25it/s, env_step=6000, len=9, n/ep=7, n/st=50, player1/loss=0.099, player2/loss=0.198, rew=-0.71]                          \n"
          ]
        },
        {
          "output_type": "stream",
          "name": "stdout",
          "text": [
            "Epoch #6: test_reward: -0.510000 ± 0.499900, best_reward: -0.450000 ± 0.497494 in #5\n"
          ]
        },
        {
          "output_type": "stream",
          "name": "stderr",
          "text": [
            "Epoch #7: 1001it [00:01, 681.39it/s, env_step=7000, len=7, n/ep=10, n/st=50, player1/loss=0.099, player2/loss=0.220, rew=-0.60]                          \n"
          ]
        },
        {
          "output_type": "stream",
          "name": "stdout",
          "text": [
            "Epoch #7: test_reward: -0.440000 ± 0.496387, best_reward: -0.440000 ± 0.496387 in #7\n"
          ]
        },
        {
          "output_type": "stream",
          "name": "stderr",
          "text": [
            "Epoch #8: 1001it [00:01, 820.69it/s, env_step=8000, len=7, n/ep=10, n/st=50, player1/loss=0.112, player2/loss=0.215, rew=-0.60]                          \n"
          ]
        },
        {
          "output_type": "stream",
          "name": "stdout",
          "text": [
            "Epoch #8: test_reward: -0.520000 ± 0.499600, best_reward: -0.440000 ± 0.496387 in #7\n"
          ]
        },
        {
          "output_type": "stream",
          "name": "stderr",
          "text": [
            "Epoch #9: 1001it [00:01, 908.27it/s, env_step=9000, len=8, n/ep=4, n/st=50, player1/loss=0.121, player2/loss=0.234, rew=-0.75]                          \n"
          ]
        },
        {
          "output_type": "stream",
          "name": "stdout",
          "text": [
            "Epoch #9: test_reward: -0.580000 ± 0.493559, best_reward: -0.440000 ± 0.496387 in #7\n"
          ]
        },
        {
          "output_type": "stream",
          "name": "stderr",
          "text": [
            "Epoch #10: 1001it [00:01, 883.42it/s, env_step=10000, len=6, n/ep=5, n/st=50, player1/loss=0.118, player2/loss=0.243, rew=-0.60]                          \n"
          ]
        },
        {
          "output_type": "stream",
          "name": "stdout",
          "text": [
            "Epoch #10: test_reward: -0.470000 ± 0.499099, best_reward: -0.440000 ± 0.496387 in #7\n"
          ]
        },
        {
          "output_type": "stream",
          "name": "stderr",
          "text": [
            "Epoch #11: 1001it [00:01, 867.37it/s, env_step=11000, len=7, n/ep=10, n/st=50, player1/loss=0.127, player2/loss=0.267, rew=-0.40]                          \n"
          ]
        },
        {
          "output_type": "stream",
          "name": "stdout",
          "text": [
            "Epoch #11: test_reward: -0.460000 ± 0.498397, best_reward: -0.440000 ± 0.496387 in #7\n"
          ]
        },
        {
          "output_type": "stream",
          "name": "stderr",
          "text": [
            "Epoch #12: 1001it [00:01, 913.41it/s, env_step=12000, len=6, n/ep=8, n/st=50, player1/loss=0.145, player2/loss=0.277, rew=-0.62]                          \n"
          ]
        },
        {
          "output_type": "stream",
          "name": "stdout",
          "text": [
            "Epoch #12: test_reward: -0.600000 ± 0.489898, best_reward: -0.440000 ± 0.496387 in #7\n"
          ]
        },
        {
          "output_type": "stream",
          "name": "stderr",
          "text": [
            "Epoch #13: 1001it [00:01, 919.71it/s, env_step=13000, len=9, n/ep=10, n/st=50, player1/loss=0.148, player2/loss=0.264, rew=-0.60]                          \n"
          ]
        },
        {
          "output_type": "stream",
          "name": "stdout",
          "text": [
            "Epoch #13: test_reward: -0.490000 ± 0.499900, best_reward: -0.440000 ± 0.496387 in #7\n"
          ]
        },
        {
          "output_type": "stream",
          "name": "stderr",
          "text": [
            "Epoch #14: 1001it [00:01, 727.69it/s, env_step=14000, len=8, n/ep=9, n/st=50, player1/loss=0.164, player2/loss=0.297, rew=-0.67]                          \n"
          ]
        },
        {
          "output_type": "stream",
          "name": "stdout",
          "text": [
            "Epoch #14: test_reward: -0.510000 ± 0.499900, best_reward: -0.440000 ± 0.496387 in #7\n"
          ]
        },
        {
          "output_type": "stream",
          "name": "stderr",
          "text": [
            "Epoch #15: 1001it [00:01, 710.80it/s, env_step=15000, len=7, n/ep=9, n/st=50, player1/loss=0.155, player2/loss=0.304, rew=-0.44]                          \n"
          ]
        },
        {
          "output_type": "stream",
          "name": "stdout",
          "text": [
            "Epoch #15: test_reward: -0.580000 ± 0.493559, best_reward: -0.440000 ± 0.496387 in #7\n"
          ]
        },
        {
          "output_type": "stream",
          "name": "stderr",
          "text": [
            "Epoch #16: 1001it [00:01, 904.92it/s, env_step=16000, len=7, n/ep=8, n/st=50, player1/loss=0.177, player2/loss=0.295, rew=-0.62]                          \n"
          ]
        },
        {
          "output_type": "stream",
          "name": "stdout",
          "text": [
            "Epoch #16: test_reward: -0.410000 ± 0.491833, best_reward: -0.410000 ± 0.491833 in #16\n"
          ]
        },
        {
          "output_type": "stream",
          "name": "stderr",
          "text": [
            "Epoch #17: 1001it [00:01, 870.75it/s, env_step=17000, len=7, n/ep=8, n/st=50, player1/loss=0.168, player2/loss=0.319, rew=-0.62]                          \n"
          ]
        },
        {
          "output_type": "stream",
          "name": "stdout",
          "text": [
            "Epoch #17: test_reward: -0.490000 ± 0.499900, best_reward: -0.410000 ± 0.491833 in #16\n"
          ]
        },
        {
          "output_type": "stream",
          "name": "stderr",
          "text": [
            "Epoch #18: 1001it [00:01, 883.50it/s, env_step=18000, len=8, n/ep=7, n/st=50, player1/loss=0.194, player2/loss=0.327, rew=-0.57]                          \n"
          ]
        },
        {
          "output_type": "stream",
          "name": "stdout",
          "text": [
            "Epoch #18: test_reward: -0.450000 ± 0.497494, best_reward: -0.410000 ± 0.491833 in #16\n"
          ]
        },
        {
          "output_type": "stream",
          "name": "stderr",
          "text": [
            "Epoch #19: 1001it [00:01, 854.12it/s, env_step=19000, len=7, n/ep=6, n/st=50, player1/loss=0.195, player2/loss=0.322, rew=-0.50]                          \n"
          ]
        },
        {
          "output_type": "stream",
          "name": "stdout",
          "text": [
            "Epoch #19: test_reward: -0.490000 ± 0.499900, best_reward: -0.410000 ± 0.491833 in #16\n"
          ]
        },
        {
          "output_type": "stream",
          "name": "stderr",
          "text": [
            "Epoch #20: 1001it [00:01, 854.42it/s, env_step=20000, len=7, n/ep=7, n/st=50, player1/loss=0.196, player2/loss=0.335, rew=-0.57]                          \n"
          ]
        },
        {
          "output_type": "stream",
          "name": "stdout",
          "text": [
            "Epoch #20: test_reward: -0.520000 ± 0.499600, best_reward: -0.410000 ± 0.491833 in #16\n",
            "##########\n",
            "\n",
            "death rate (in %) of player1: 31.5 +- 7.789\n",
            "death rate (in %) of player2: 31.2 +- 7.320\n"
          ]
        },
        {
          "output_type": "display_data",
          "data": {
            "text/plain": [
              "<Figure size 640x480 with 1 Axes>"
            ],
            "image/png": "[encoded data removed]"
          },
          "metadata": {}
        },
        {
          "output_type": "stream",
          "name": "stdout",
          "text": [
            "\n",
            "#### Evolution 2\n"
          ]
        },
        {
          "output_type": "stream",
          "name": "stderr",
          "text": [
            "Epoch #1: 1001it [00:01, 893.29it/s, env_step=1000, len=6, n/ep=9, n/st=50, player1/loss=0.177, player2/loss=0.314, rew=-0.11]                          \n"
          ]
        },
        {
          "output_type": "stream",
          "name": "stdout",
          "text": [
            "Epoch #1: test_reward: -0.570000 ± 0.495076, best_reward: -0.390000 ± 0.487750 in #0\n"
          ]
        },
        {
          "output_type": "stream",
          "name": "stderr",
          "text": [
            "Epoch #2: 1001it [00:01, 859.15it/s, env_step=2000, len=7, n/ep=5, n/st=50, player1/loss=0.121, player2/loss=0.302, rew=-0.60]                          \n"
          ]
        },
        {
          "output_type": "stream",
          "name": "stdout",
          "text": [
            "Epoch #2: test_reward: -0.370000 ± 0.482804, best_reward: -0.370000 ± 0.482804 in #2\n"
          ]
        },
        {
          "output_type": "stream",
          "name": "stderr",
          "text": [
            "Epoch #3: 1001it [00:01, 890.11it/s, env_step=3000, len=7, n/ep=11, n/st=50, player1/loss=0.124, player2/loss=0.310, rew=-0.36]                          \n"
          ]
        },
        {
          "output_type": "stream",
          "name": "stdout",
          "text": [
            "Epoch #3: test_reward: -0.510000 ± 0.499900, best_reward: -0.370000 ± 0.482804 in #2\n"
          ]
        },
        {
          "output_type": "stream",
          "name": "stderr",
          "text": [
            "Epoch #4: 1001it [00:01, 864.45it/s, env_step=4000, len=8, n/ep=9, n/st=50, player1/loss=0.124, player2/loss=0.353, rew=-0.56]                          \n"
          ]
        },
        {
          "output_type": "stream",
          "name": "stdout",
          "text": [
            "Epoch #4: test_reward: -0.530000 ± 0.499099, best_reward: -0.370000 ± 0.482804 in #2\n"
          ]
        },
        {
          "output_type": "stream",
          "name": "stderr",
          "text": [
            "Epoch #5: 1001it [00:01, 668.89it/s, env_step=5000, len=8, n/ep=5, n/st=50, player1/loss=0.113, player2/loss=0.350, rew=-0.60]                          \n"
          ]
        },
        {
          "output_type": "stream",
          "name": "stdout",
          "text": [
            "Epoch #5: test_reward: -0.530000 ± 0.499099, best_reward: -0.370000 ± 0.482804 in #2\n"
          ]
        },
        {
          "output_type": "stream",
          "name": "stderr",
          "text": [
            "Epoch #6: 1001it [00:01, 860.47it/s, env_step=6000, len=6, n/ep=11, n/st=50, player1/loss=0.111, player2/loss=0.363, rew=-0.36]                          \n"
          ]
        },
        {
          "output_type": "stream",
          "name": "stdout",
          "text": [
            "Epoch #6: test_reward: -0.480000 ± 0.499600, best_reward: -0.370000 ± 0.482804 in #2\n"
          ]
        },
        {
          "output_type": "stream",
          "name": "stderr",
          "text": [
            "Epoch #7: 1001it [00:01, 889.69it/s, env_step=7000, len=8, n/ep=8, n/st=50, player1/loss=0.117, player2/loss=0.348, rew=-0.50]                          \n"
          ]
        },
        {
          "output_type": "stream",
          "name": "stdout",
          "text": [
            "Epoch #7: test_reward: -0.460000 ± 0.498397, best_reward: -0.370000 ± 0.482804 in #2\n"
          ]
        },
        {
          "output_type": "stream",
          "name": "stderr",
          "text": [
            "Epoch #8: 1001it [00:01, 861.24it/s, env_step=8000, len=8, n/ep=7, n/st=50, player1/loss=0.128, player2/loss=0.353, rew=-0.57]                          \n"
          ]
        },
        {
          "output_type": "stream",
          "name": "stdout",
          "text": [
            "Epoch #8: test_reward: -0.630000 ± 0.482804, best_reward: -0.370000 ± 0.482804 in #2\n"
          ]
        },
        {
          "output_type": "stream",
          "name": "stderr",
          "text": [
            "Epoch #9: 1001it [00:01, 853.15it/s, env_step=9000, len=7, n/ep=8, n/st=50, player1/loss=0.138, player2/loss=0.384, rew=-0.62]                          \n"
          ]
        },
        {
          "output_type": "stream",
          "name": "stdout",
          "text": [
            "Epoch #9: test_reward: -0.530000 ± 0.499099, best_reward: -0.370000 ± 0.482804 in #2\n"
          ]
        },
        {
          "output_type": "stream",
          "name": "stderr",
          "text": [
            "Epoch #10: 1001it [00:01, 876.44it/s, env_step=10000, len=7, n/ep=8, n/st=50, player1/loss=0.140, player2/loss=0.402, rew=-0.38]                          \n"
          ]
        },
        {
          "output_type": "stream",
          "name": "stdout",
          "text": [
            "Epoch #10: test_reward: -0.550000 ± 0.497494, best_reward: -0.370000 ± 0.482804 in #2\n"
          ]
        },
        {
          "output_type": "stream",
          "name": "stderr",
          "text": [
            "Epoch #11: 1001it [00:01, 872.97it/s, env_step=11000, len=7, n/ep=6, n/st=50, player1/loss=0.117, player2/loss=0.376, rew=-0.33]                          \n"
          ]
        },
        {
          "output_type": "stream",
          "name": "stdout",
          "text": [
            "Epoch #11: test_reward: -0.570000 ± 0.495076, best_reward: -0.370000 ± 0.482804 in #2\n"
          ]
        },
        {
          "output_type": "stream",
          "name": "stderr",
          "text": [
            "Epoch #12: 1001it [00:01, 674.56it/s, env_step=12000, len=6, n/ep=8, n/st=50, player1/loss=0.131, player2/loss=0.386, rew=-0.38]                          \n"
          ]
        },
        {
          "output_type": "stream",
          "name": "stdout",
          "text": [
            "Epoch #12: test_reward: -0.450000 ± 0.497494, best_reward: -0.370000 ± 0.482804 in #2\n"
          ]
        },
        {
          "output_type": "stream",
          "name": "stderr",
          "text": [
            "Epoch #13: 1001it [00:01, 866.66it/s, env_step=13000, len=7, n/ep=9, n/st=50, player1/loss=0.132, player2/loss=0.384, rew=-0.44]                          \n"
          ]
        },
        {
          "output_type": "stream",
          "name": "stdout",
          "text": [
            "Epoch #13: test_reward: -0.430000 ± 0.495076, best_reward: -0.370000 ± 0.482804 in #2\n"
          ]
        },
        {
          "output_type": "stream",
          "name": "stderr",
          "text": [
            "Epoch #14: 1001it [00:01, 860.80it/s, env_step=14000, len=5, n/ep=6, n/st=50, player1/loss=0.129, player2/loss=0.395, rew=-0.17]                          \n"
          ]
        },
        {
          "output_type": "stream",
          "name": "stdout",
          "text": [
            "Epoch #14: test_reward: -0.350000 ± 0.476970, best_reward: -0.350000 ± 0.476970 in #14\n"
          ]
        },
        {
          "output_type": "stream",
          "name": "stderr",
          "text": [
            "Epoch #15: 1001it [00:01, 881.29it/s, env_step=15000, len=7, n/ep=5, n/st=50, player1/loss=0.137, player2/loss=0.415, rew=-0.60]                          \n"
          ]
        },
        {
          "output_type": "stream",
          "name": "stdout",
          "text": [
            "Epoch #15: test_reward: -0.470000 ± 0.499099, best_reward: -0.350000 ± 0.476970 in #14\n"
          ]
        },
        {
          "output_type": "stream",
          "name": "stderr",
          "text": [
            "Epoch #16: 1001it [00:01, 908.17it/s, env_step=16000, len=9, n/ep=11, n/st=50, player1/loss=0.136, player2/loss=0.427, rew=-0.82]                          \n"
          ]
        },
        {
          "output_type": "stream",
          "name": "stdout",
          "text": [
            "Epoch #16: test_reward: -0.400000 ± 0.489898, best_reward: -0.350000 ± 0.476970 in #14\n"
          ]
        },
        {
          "output_type": "stream",
          "name": "stderr",
          "text": [
            "Epoch #17: 1001it [00:01, 929.95it/s, env_step=17000, len=8, n/ep=9, n/st=50, player1/loss=0.139, player2/loss=0.415, rew=-0.44]                          \n"
          ]
        },
        {
          "output_type": "stream",
          "name": "stdout",
          "text": [
            "Epoch #17: test_reward: -0.550000 ± 0.497494, best_reward: -0.350000 ± 0.476970 in #14\n"
          ]
        },
        {
          "output_type": "stream",
          "name": "stderr",
          "text": [
            "Epoch #18: 1001it [00:01, 891.06it/s, env_step=18000, len=10, n/ep=6, n/st=50, player1/loss=0.136, player2/loss=0.431, rew=-0.83]                          \n"
          ]
        },
        {
          "output_type": "stream",
          "name": "stdout",
          "text": [
            "Epoch #18: test_reward: -0.420000 ± 0.493559, best_reward: -0.350000 ± 0.476970 in #14\n"
          ]
        },
        {
          "output_type": "stream",
          "name": "stderr",
          "text": [
            "Epoch #19: 1001it [00:01, 684.55it/s, env_step=19000, len=10, n/ep=6, n/st=50, player1/loss=0.158, player2/loss=0.464, rew=-1.00]                          \n"
          ]
        },
        {
          "output_type": "stream",
          "name": "stdout",
          "text": [
            "Epoch #19: test_reward: -0.450000 ± 0.497494, best_reward: -0.350000 ± 0.476970 in #14\n"
          ]
        },
        {
          "output_type": "stream",
          "name": "stderr",
          "text": [
            "Epoch #20: 1001it [00:01, 834.17it/s, env_step=20000, len=8, n/ep=7, n/st=50, player1/loss=0.124, player2/loss=0.425, rew=-0.14]                          \n"
          ]
        },
        {
          "output_type": "stream",
          "name": "stdout",
          "text": [
            "Epoch #20: test_reward: -0.450000 ± 0.497494, best_reward: -0.350000 ± 0.476970 in #14\n",
            "##########\n",
            "\n",
            "death rate (in %) of player1: 29.4 +- 7.608\n",
            "death rate (in %) of player2: 27.9 +- 8.324\n"
          ]
        },
        {
          "output_type": "display_data",
          "data": {
            "text/plain": [
              "<Figure size 640x480 with 1 Axes>"
            ],
            "image/png": "[encoded data removed]"
          },
          "metadata": {}
        },
        {
          "output_type": "stream",
          "name": "stdout",
          "text": [
            "\n",
            "#### Evolution 3\n"
          ]
        },
        {
          "output_type": "stream",
          "name": "stderr",
          "text": [
            "Epoch #1: 1001it [00:01, 860.57it/s, env_step=1000, len=7, n/ep=8, n/st=50, player1/loss=0.321, player2/loss=0.463, rew=-0.62]                          \n"
          ]
        },
        {
          "output_type": "stream",
          "name": "stdout",
          "text": [
            "Epoch #1: test_reward: -0.500000 ± 0.500000, best_reward: -0.300000 ± 0.458258 in #0\n"
          ]
        },
        {
          "output_type": "stream",
          "name": "stderr",
          "text": [
            "Epoch #2: 1001it [00:01, 550.00it/s, env_step=2000, len=8, n/ep=6, n/st=50, player1/loss=0.219, player2/loss=0.490, rew=-0.67]                          \n"
          ]
        },
        {
          "output_type": "stream",
          "name": "stdout",
          "text": [
            "Epoch #2: test_reward: -0.390000 ± 0.487750, best_reward: -0.300000 ± 0.458258 in #0\n"
          ]
        },
        {
          "output_type": "stream",
          "name": "stderr",
          "text": [
            "Epoch #3: 1001it [00:01, 785.98it/s, env_step=3000, len=10, n/ep=6, n/st=50, player1/loss=0.205, player2/loss=0.463, rew=-0.83]                          \n"
          ]
        },
        {
          "output_type": "stream",
          "name": "stdout",
          "text": [
            "Epoch #3: test_reward: -0.430000 ± 0.495076, best_reward: -0.300000 ± 0.458258 in #0\n"
          ]
        },
        {
          "output_type": "stream",
          "name": "stderr",
          "text": [
            "Epoch #4: 1001it [00:01, 886.93it/s, env_step=4000, len=7, n/ep=6, n/st=50, player1/loss=0.197, player2/loss=0.419, rew=-0.67]                          \n"
          ]
        },
        {
          "output_type": "stream",
          "name": "stdout",
          "text": [
            "Epoch #4: test_reward: -0.350000 ± 0.476970, best_reward: -0.300000 ± 0.458258 in #0\n"
          ]
        },
        {
          "output_type": "stream",
          "name": "stderr",
          "text": [
            "Epoch #5: 1001it [00:01, 853.53it/s, env_step=5000, len=9, n/ep=8, n/st=50, player1/loss=0.188, player2/loss=0.424, rew=-0.25]                          \n"
          ]
        },
        {
          "output_type": "stream",
          "name": "stdout",
          "text": [
            "Epoch #5: test_reward: -0.500000 ± 0.500000, best_reward: -0.300000 ± 0.458258 in #0\n"
          ]
        },
        {
          "output_type": "stream",
          "name": "stderr",
          "text": [
            "Epoch #6: 1001it [00:01, 872.87it/s, env_step=6000, len=5, n/ep=5, n/st=50, player1/loss=0.206, player2/loss=0.418, rew=-0.20]                          \n"
          ]
        },
        {
          "output_type": "stream",
          "name": "stdout",
          "text": [
            "Epoch #6: test_reward: -0.320000 ± 0.466476, best_reward: -0.300000 ± 0.458258 in #0\n"
          ]
        },
        {
          "output_type": "stream",
          "name": "stderr",
          "text": [
            "Epoch #7: 1001it [00:01, 886.89it/s, env_step=7000, len=9, n/ep=8, n/st=50, player1/loss=0.211, player2/loss=0.459, rew=-0.62]                          \n"
          ]
        },
        {
          "output_type": "stream",
          "name": "stdout",
          "text": [
            "Epoch #7: test_reward: -0.550000 ± 0.497494, best_reward: -0.300000 ± 0.458258 in #0\n"
          ]
        },
        {
          "output_type": "stream",
          "name": "stderr",
          "text": [
            "Epoch #8: 1001it [00:01, 888.65it/s, env_step=8000, len=8, n/ep=11, n/st=50, player1/loss=0.219, player2/loss=0.381, rew=-0.45]                          \n"
          ]
        },
        {
          "output_type": "stream",
          "name": "stdout",
          "text": [
            "Epoch #8: test_reward: -0.510000 ± 0.499900, best_reward: -0.300000 ± 0.458258 in #0\n"
          ]
        },
        {
          "output_type": "stream",
          "name": "stderr",
          "text": [
            "Epoch #9: 1001it [00:01, 714.31it/s, env_step=9000, len=10, n/ep=8, n/st=50, player1/loss=0.211, player2/loss=0.403, rew=-0.50]                          \n"
          ]
        },
        {
          "output_type": "stream",
          "name": "stdout",
          "text": [
            "Epoch #9: test_reward: -0.470000 ± 0.499099, best_reward: -0.300000 ± 0.458258 in #0\n"
          ]
        },
        {
          "output_type": "stream",
          "name": "stderr",
          "text": [
            "Epoch #10: 1001it [00:01, 727.60it/s, env_step=10000, len=6, n/ep=6, n/st=50, player1/loss=0.226, player2/loss=0.414, rew=-0.33]                          \n"
          ]
        },
        {
          "output_type": "stream",
          "name": "stdout",
          "text": [
            "Epoch #10: test_reward: -0.420000 ± 0.493559, best_reward: -0.300000 ± 0.458258 in #0\n"
          ]
        },
        {
          "output_type": "stream",
          "name": "stderr",
          "text": [
            "Epoch #11: 1001it [00:01, 875.42it/s, env_step=11000, len=6, n/ep=8, n/st=50, player1/loss=0.205, player2/loss=0.437, rew=-0.12]                          \n"
          ]
        },
        {
          "output_type": "stream",
          "name": "stdout",
          "text": [
            "Epoch #11: test_reward: -0.330000 ± 0.470213, best_reward: -0.300000 ± 0.458258 in #0\n"
          ]
        },
        {
          "output_type": "stream",
          "name": "stderr",
          "text": [
            "Epoch #12: 1001it [00:01, 881.70it/s, env_step=12000, len=7, n/ep=7, n/st=50, player1/loss=0.209, player2/loss=0.474, rew=-0.43]                          \n"
          ]
        },
        {
          "output_type": "stream",
          "name": "stdout",
          "text": [
            "Epoch #12: test_reward: -0.390000 ± 0.487750, best_reward: -0.300000 ± 0.458258 in #0\n"
          ]
        },
        {
          "output_type": "stream",
          "name": "stderr",
          "text": [
            "Epoch #13: 1001it [00:01, 886.35it/s, env_step=13000, len=5, n/ep=5, n/st=50, player1/loss=0.203, player2/loss=0.403, rew=-0.20]                          \n"
          ]
        },
        {
          "output_type": "stream",
          "name": "stdout",
          "text": [
            "Epoch #13: test_reward: -0.300000 ± 0.458258, best_reward: -0.300000 ± 0.458258 in #0\n"
          ]
        },
        {
          "output_type": "stream",
          "name": "stderr",
          "text": [
            "Epoch #14: 1001it [00:01, 891.86it/s, env_step=14000, len=10, n/ep=10, n/st=50, player1/loss=0.201, player2/loss=0.483, rew=-0.70]                          \n"
          ]
        },
        {
          "output_type": "stream",
          "name": "stdout",
          "text": [
            "Epoch #14: test_reward: -0.450000 ± 0.497494, best_reward: -0.300000 ± 0.458258 in #0\n"
          ]
        },
        {
          "output_type": "stream",
          "name": "stderr",
          "text": [
            "Epoch #15: 1001it [00:01, 901.55it/s, env_step=15000, len=4, n/ep=9, n/st=50, player1/loss=0.206, player2/loss=0.529, rew=-0.33]                          \n"
          ]
        },
        {
          "output_type": "stream",
          "name": "stdout",
          "text": [
            "Epoch #15: test_reward: -0.390000 ± 0.487750, best_reward: -0.300000 ± 0.458258 in #0\n"
          ]
        },
        {
          "output_type": "stream",
          "name": "stderr",
          "text": [
            "Epoch #16: 1001it [00:01, 781.14it/s, env_step=16000, len=8, n/ep=8, n/st=50, player1/loss=0.221, player2/loss=0.500, rew=-0.50]                          \n"
          ]
        },
        {
          "output_type": "stream",
          "name": "stdout",
          "text": [
            "Epoch #16: test_reward: -0.530000 ± 0.499099, best_reward: -0.300000 ± 0.458258 in #0\n"
          ]
        },
        {
          "output_type": "stream",
          "name": "stderr",
          "text": [
            "Epoch #17: 1001it [00:01, 704.30it/s, env_step=17000, len=6, n/ep=12, n/st=50, player1/loss=0.236, player2/loss=0.613, rew=-0.42]                          \n"
          ]
        },
        {
          "output_type": "stream",
          "name": "stdout",
          "text": [
            "Epoch #17: test_reward: -0.510000 ± 0.499900, best_reward: -0.300000 ± 0.458258 in #0\n"
          ]
        },
        {
          "output_type": "stream",
          "name": "stderr",
          "text": [
            "Epoch #18: 1001it [00:01, 848.26it/s, env_step=18000, len=9, n/ep=9, n/st=50, player1/loss=0.223, player2/loss=0.595, rew=-0.78]                          \n"
          ]
        },
        {
          "output_type": "stream",
          "name": "stdout",
          "text": [
            "Epoch #18: test_reward: -0.450000 ± 0.497494, best_reward: -0.300000 ± 0.458258 in #0\n"
          ]
        },
        {
          "output_type": "stream",
          "name": "stderr",
          "text": [
            "Epoch #19: 1001it [00:01, 852.88it/s, env_step=19000, len=7, n/ep=7, n/st=50, player1/loss=0.212, player2/loss=0.617, rew=-0.14]                          \n"
          ]
        },
        {
          "output_type": "stream",
          "name": "stdout",
          "text": [
            "Epoch #19: test_reward: -0.390000 ± 0.487750, best_reward: -0.300000 ± 0.458258 in #0\n"
          ]
        },
        {
          "output_type": "stream",
          "name": "stderr",
          "text": [
            "Epoch #20: 1001it [00:01, 866.29it/s, env_step=20000, len=7, n/ep=10, n/st=50, player1/loss=0.211, player2/loss=0.672, rew=-0.50]                          \n"
          ]
        },
        {
          "output_type": "stream",
          "name": "stdout",
          "text": [
            "Epoch #20: test_reward: -0.270000 ± 0.443959, best_reward: -0.270000 ± 0.443959 in #20\n",
            "##########\n",
            "\n",
            "death rate (in %) of player1: 29.1 +- 8.116\n",
            "death rate (in %) of player2: 27.9 +- 7.379\n"
          ]
        },
        {
          "output_type": "display_data",
          "data": {
            "text/plain": [
              "<Figure size 640x480 with 1 Axes>"
            ],
            "image/png": "[encoded data removed]"
          },
          "metadata": {}
        },
        {
          "output_type": "stream",
          "name": "stdout",
          "text": [
            "\n",
            "#### Evolution 4\n"
          ]
        },
        {
          "output_type": "stream",
          "name": "stderr",
          "text": [
            "Epoch #1: 1001it [00:01, 868.24it/s, env_step=1000, len=6, n/ep=8, n/st=50, player1/loss=0.381, player2/loss=0.596, rew=-0.25]                          \n"
          ]
        },
        {
          "output_type": "stream",
          "name": "stdout",
          "text": [
            "Epoch #1: test_reward: -0.560000 ± 0.496387, best_reward: -0.320000 ± 0.466476 in #0\n"
          ]
        },
        {
          "output_type": "stream",
          "name": "stderr",
          "text": [
            "Epoch #2: 1001it [00:01, 855.55it/s, env_step=2000, len=5, n/ep=11, n/st=50, player1/loss=0.300, player2/loss=0.548, rew=-0.18]                          \n"
          ]
        },
        {
          "output_type": "stream",
          "name": "stdout",
          "text": [
            "Epoch #2: test_reward: -0.570000 ± 0.495076, best_reward: -0.320000 ± 0.466476 in #0\n"
          ]
        },
        {
          "output_type": "stream",
          "name": "stderr",
          "text": [
            "Epoch #3: 1001it [00:01, 876.14it/s, env_step=3000, len=6, n/ep=9, n/st=50, player1/loss=0.261, player2/loss=0.539, rew=-0.22]                          \n"
          ]
        },
        {
          "output_type": "stream",
          "name": "stdout",
          "text": [
            "Epoch #3: test_reward: -0.410000 ± 0.491833, best_reward: -0.320000 ± 0.466476 in #0\n"
          ]
        },
        {
          "output_type": "stream",
          "name": "stderr",
          "text": [
            "Epoch #4: 1001it [00:01, 895.59it/s, env_step=4000, len=8, n/ep=7, n/st=50, player1/loss=0.292, player2/loss=0.616, rew=-0.43]                          \n"
          ]
        },
        {
          "output_type": "stream",
          "name": "stdout",
          "text": [
            "Epoch #4: test_reward: -0.530000 ± 0.499099, best_reward: -0.320000 ± 0.466476 in #0\n"
          ]
        },
        {
          "output_type": "stream",
          "name": "stderr",
          "text": [
            "Epoch #5: 1001it [00:01, 904.76it/s, env_step=5000, len=9, n/ep=4, n/st=50, player1/loss=0.271, player2/loss=0.588, rew=-0.50]                          \n"
          ]
        },
        {
          "output_type": "stream",
          "name": "stdout",
          "text": [
            "Epoch #5: test_reward: -0.460000 ± 0.498397, best_reward: -0.320000 ± 0.466476 in #0\n"
          ]
        },
        {
          "output_type": "stream",
          "name": "stderr",
          "text": [
            "Epoch #6: 1001it [00:01, 707.65it/s, env_step=6000, len=7, n/ep=8, n/st=50, player1/loss=0.255, player2/loss=0.698, rew=-0.62]                          \n"
          ]
        },
        {
          "output_type": "stream",
          "name": "stdout",
          "text": [
            "Epoch #6: test_reward: -0.420000 ± 0.493559, best_reward: -0.320000 ± 0.466476 in #0\n"
          ]
        },
        {
          "output_type": "stream",
          "name": "stderr",
          "text": [
            "Epoch #7: 1001it [00:01, 745.34it/s, env_step=7000, len=8, n/ep=8, n/st=50, player1/loss=0.242, player2/loss=0.626, rew=-0.50]                          \n"
          ]
        },
        {
          "output_type": "stream",
          "name": "stdout",
          "text": [
            "Epoch #7: test_reward: -0.450000 ± 0.497494, best_reward: -0.320000 ± 0.466476 in #0\n"
          ]
        },
        {
          "output_type": "stream",
          "name": "stderr",
          "text": [
            "Epoch #8: 1001it [00:01, 879.38it/s, env_step=8000, len=8, n/ep=9, n/st=50, player1/loss=0.227, player2/loss=0.683, rew=-0.33]                          \n"
          ]
        },
        {
          "output_type": "stream",
          "name": "stdout",
          "text": [
            "Epoch #8: test_reward: -0.400000 ± 0.489898, best_reward: -0.320000 ± 0.466476 in #0\n"
          ]
        },
        {
          "output_type": "stream",
          "name": "stderr",
          "text": [
            "Epoch #9: 1001it [00:01, 872.02it/s, env_step=9000, len=8, n/ep=5, n/st=50, player1/loss=0.226, player2/loss=0.663, rew=-0.80]                          \n"
          ]
        },
        {
          "output_type": "stream",
          "name": "stdout",
          "text": [
            "Epoch #9: test_reward: -0.480000 ± 0.499600, best_reward: -0.320000 ± 0.466476 in #0\n"
          ]
        },
        {
          "output_type": "stream",
          "name": "stderr",
          "text": [
            "Epoch #10: 1001it [00:01, 840.06it/s, env_step=10000, len=8, n/ep=10, n/st=50, player1/loss=0.231, player2/loss=0.664, rew=-0.50]                          \n"
          ]
        },
        {
          "output_type": "stream",
          "name": "stdout",
          "text": [
            "Epoch #10: test_reward: -0.540000 ± 0.498397, best_reward: -0.320000 ± 0.466476 in #0\n"
          ]
        },
        {
          "output_type": "stream",
          "name": "stderr",
          "text": [
            "Epoch #11: 1001it [00:01, 833.00it/s, env_step=11000, len=9, n/ep=7, n/st=50, player1/loss=0.238, player2/loss=0.670, rew=-0.57]                          \n"
          ]
        },
        {
          "output_type": "stream",
          "name": "stdout",
          "text": [
            "Epoch #11: test_reward: -0.350000 ± 0.476970, best_reward: -0.320000 ± 0.466476 in #0\n"
          ]
        },
        {
          "output_type": "stream",
          "name": "stderr",
          "text": [
            "Epoch #12: 1001it [00:01, 896.27it/s, env_step=12000, len=8, n/ep=8, n/st=50, player1/loss=0.228, player2/loss=0.712, rew=-0.75]                          \n"
          ]
        },
        {
          "output_type": "stream",
          "name": "stdout",
          "text": [
            "Epoch #12: test_reward: -0.330000 ± 0.470213, best_reward: -0.320000 ± 0.466476 in #0\n"
          ]
        },
        {
          "output_type": "stream",
          "name": "stderr",
          "text": [
            "Epoch #13: 1001it [00:01, 743.97it/s, env_step=13000, len=5, n/ep=9, n/st=50, player1/loss=0.230, player2/loss=0.753, rew=-0.67]                          \n"
          ]
        },
        {
          "output_type": "stream",
          "name": "stdout",
          "text": [
            "Epoch #13: test_reward: -0.490000 ± 0.499900, best_reward: -0.320000 ± 0.466476 in #0\n"
          ]
        },
        {
          "output_type": "stream",
          "name": "stderr",
          "text": [
            "Epoch #14: 1001it [00:01, 695.32it/s, env_step=14000, len=8, n/ep=6, n/st=50, player1/loss=0.226, player2/loss=0.652, rew=-0.50]                          \n"
          ]
        },
        {
          "output_type": "stream",
          "name": "stdout",
          "text": [
            "Epoch #14: test_reward: -0.410000 ± 0.491833, best_reward: -0.320000 ± 0.466476 in #0\n"
          ]
        },
        {
          "output_type": "stream",
          "name": "stderr",
          "text": [
            "Epoch #15: 1001it [00:01, 877.65it/s, env_step=15000, len=7, n/ep=8, n/st=50, player1/loss=0.211, player2/loss=0.606, rew=-0.62]                          \n"
          ]
        },
        {
          "output_type": "stream",
          "name": "stdout",
          "text": [
            "Epoch #15: test_reward: -0.510000 ± 0.499900, best_reward: -0.320000 ± 0.466476 in #0\n"
          ]
        },
        {
          "output_type": "stream",
          "name": "stderr",
          "text": [
            "Epoch #16: 1001it [00:01, 907.57it/s, env_step=16000, len=6, n/ep=5, n/st=50, player1/loss=0.198, player2/loss=0.675, rew=-0.40]                          \n"
          ]
        },
        {
          "output_type": "stream",
          "name": "stdout",
          "text": [
            "Epoch #16: test_reward: -0.370000 ± 0.482804, best_reward: -0.320000 ± 0.466476 in #0\n"
          ]
        },
        {
          "output_type": "stream",
          "name": "stderr",
          "text": [
            "Epoch #17: 1001it [00:01, 902.56it/s, env_step=17000, len=8, n/ep=9, n/st=50, player1/loss=0.206, player2/loss=0.684, rew=-0.56]                          \n"
          ]
        },
        {
          "output_type": "stream",
          "name": "stdout",
          "text": [
            "Epoch #17: test_reward: -0.350000 ± 0.476970, best_reward: -0.320000 ± 0.466476 in #0\n"
          ]
        },
        {
          "output_type": "stream",
          "name": "stderr",
          "text": [
            "Epoch #18: 1001it [00:01, 884.45it/s, env_step=18000, len=6, n/ep=6, n/st=50, player1/loss=0.214, player2/loss=0.557, rew=-0.50]                          \n"
          ]
        },
        {
          "output_type": "stream",
          "name": "stdout",
          "text": [
            "Epoch #18: test_reward: -0.490000 ± 0.499900, best_reward: -0.320000 ± 0.466476 in #0\n"
          ]
        },
        {
          "output_type": "stream",
          "name": "stderr",
          "text": [
            "Epoch #19: 1001it [00:01, 883.92it/s, env_step=19000, len=7, n/ep=7, n/st=50, player1/loss=0.236, player2/loss=0.560, rew=-0.43]                          \n"
          ]
        },
        {
          "output_type": "stream",
          "name": "stdout",
          "text": [
            "Epoch #19: test_reward: -0.510000 ± 0.499900, best_reward: -0.320000 ± 0.466476 in #0\n"
          ]
        },
        {
          "output_type": "stream",
          "name": "stderr",
          "text": [
            "Epoch #20: 1001it [00:01, 762.97it/s, env_step=20000, len=9, n/ep=6, n/st=50, player1/loss=0.222, player2/loss=0.569, rew=-0.50]                          \n"
          ]
        },
        {
          "output_type": "stream",
          "name": "stdout",
          "text": [
            "Epoch #20: test_reward: -0.520000 ± 0.499600, best_reward: -0.320000 ± 0.466476 in #0\n",
            "##########\n",
            "\n",
            "death rate (in %) of player1: 30.3 +- 6.018\n",
            "death rate (in %) of player2: 28.3 +- 4.522\n"
          ]
        },
        {
          "output_type": "display_data",
          "data": {
            "text/plain": [
              "<Figure size 640x480 with 1 Axes>"
            ],
            "image/png": "[encoded data removed]"
          },
          "metadata": {}
        },
        {
          "output_type": "stream",
          "name": "stdout",
          "text": [
            "\n",
            "#### Evolution 5\n"
          ]
        },
        {
          "output_type": "stream",
          "name": "stderr",
          "text": [
            "Epoch #1: 1001it [00:01, 870.69it/s, env_step=1000, len=7, n/ep=7, n/st=50, player1/loss=0.335, player2/loss=0.495, rew=-0.86]                          \n"
          ]
        },
        {
          "output_type": "stream",
          "name": "stdout",
          "text": [
            "Epoch #1: test_reward: -0.640000 ± 0.480000, best_reward: -0.330000 ± 0.470213 in #0\n"
          ]
        },
        {
          "output_type": "stream",
          "name": "stderr",
          "text": [
            "Epoch #2: 1001it [00:01, 881.91it/s, env_step=2000, len=8, n/ep=5, n/st=50, player1/loss=0.258, player2/loss=0.428, rew=-0.40]                          \n"
          ]
        },
        {
          "output_type": "stream",
          "name": "stdout",
          "text": [
            "Epoch #2: test_reward: -0.470000 ± 0.499099, best_reward: -0.330000 ± 0.470213 in #0\n"
          ]
        },
        {
          "output_type": "stream",
          "name": "stderr",
          "text": [
            "Epoch #3: 1001it [00:01, 881.31it/s, env_step=3000, len=8, n/ep=9, n/st=50, player1/loss=0.235, player2/loss=0.464, rew=-0.44]                          \n"
          ]
        },
        {
          "output_type": "stream",
          "name": "stdout",
          "text": [
            "Epoch #3: test_reward: -0.380000 ± 0.485386, best_reward: -0.330000 ± 0.470213 in #0\n"
          ]
        },
        {
          "output_type": "stream",
          "name": "stderr",
          "text": [
            "Epoch #4: 1001it [00:01, 652.99it/s, env_step=4000, len=5, n/ep=10, n/st=50, player1/loss=0.217, player2/loss=0.481, rew=-0.10]                          \n"
          ]
        },
        {
          "output_type": "stream",
          "name": "stdout",
          "text": [
            "Epoch #4: test_reward: -0.400000 ± 0.489898, best_reward: -0.330000 ± 0.470213 in #0\n"
          ]
        },
        {
          "output_type": "stream",
          "name": "stderr",
          "text": [
            "Epoch #5: 1001it [00:01, 877.57it/s, env_step=5000, len=6, n/ep=8, n/st=50, player1/loss=0.193, player2/loss=0.441, rew=-0.25]                          \n"
          ]
        },
        {
          "output_type": "stream",
          "name": "stdout",
          "text": [
            "Epoch #5: test_reward: -0.460000 ± 0.498397, best_reward: -0.330000 ± 0.470213 in #0\n"
          ]
        },
        {
          "output_type": "stream",
          "name": "stderr",
          "text": [
            "Epoch #6: 1001it [00:01, 862.67it/s, env_step=6000, len=8, n/ep=6, n/st=50, player1/loss=0.200, player2/loss=0.420, rew=-0.50]                          \n"
          ]
        },
        {
          "output_type": "stream",
          "name": "stdout",
          "text": [
            "Epoch #6: test_reward: -0.430000 ± 0.495076, best_reward: -0.330000 ± 0.470213 in #0\n"
          ]
        },
        {
          "output_type": "stream",
          "name": "stderr",
          "text": [
            "Epoch #7: 1001it [00:01, 846.39it/s, env_step=7000, len=5, n/ep=4, n/st=50, player1/loss=0.190, player2/loss=0.473, rew=-0.25]                          \n"
          ]
        },
        {
          "output_type": "stream",
          "name": "stdout",
          "text": [
            "Epoch #7: test_reward: -0.450000 ± 0.497494, best_reward: -0.330000 ± 0.470213 in #0\n"
          ]
        },
        {
          "output_type": "stream",
          "name": "stderr",
          "text": [
            "Epoch #8: 1001it [00:01, 861.79it/s, env_step=8000, len=6, n/ep=7, n/st=50, player1/loss=0.211, player2/loss=0.477, rew=-0.14]                          \n"
          ]
        },
        {
          "output_type": "stream",
          "name": "stdout",
          "text": [
            "Epoch #8: test_reward: -0.440000 ± 0.496387, best_reward: -0.330000 ± 0.470213 in #0\n"
          ]
        },
        {
          "output_type": "stream",
          "name": "stderr",
          "text": [
            "Epoch #9: 1001it [00:01, 865.67it/s, env_step=9000, len=5, n/ep=6, n/st=50, player1/loss=0.212, player2/loss=0.491, rew=-0.50]                          \n"
          ]
        },
        {
          "output_type": "stream",
          "name": "stdout",
          "text": [
            "Epoch #9: test_reward: -0.420000 ± 0.493559, best_reward: -0.330000 ± 0.470213 in #0\n"
          ]
        },
        {
          "output_type": "stream",
          "name": "stderr",
          "text": [
            "Epoch #10: 1001it [00:01, 842.04it/s, env_step=10000, len=6, n/ep=7, n/st=50, player1/loss=0.216, player2/loss=0.472, rew=-0.43]                          \n"
          ]
        },
        {
          "output_type": "stream",
          "name": "stdout",
          "text": [
            "Epoch #10: test_reward: -0.370000 ± 0.482804, best_reward: -0.330000 ± 0.470213 in #0\n"
          ]
        },
        {
          "output_type": "stream",
          "name": "stderr",
          "text": [
            "Epoch #11: 1001it [00:01, 684.09it/s, env_step=11000, len=7, n/ep=8, n/st=50, player1/loss=0.195, player2/loss=0.452, rew=-0.12]                          \n"
          ]
        },
        {
          "output_type": "stream",
          "name": "stdout",
          "text": [
            "Epoch #11: test_reward: -0.430000 ± 0.495076, best_reward: -0.330000 ± 0.470213 in #0\n"
          ]
        },
        {
          "output_type": "stream",
          "name": "stderr",
          "text": [
            "Epoch #12: 1001it [00:01, 856.16it/s, env_step=12000, len=7, n/ep=9, n/st=50, player1/loss=0.192, player2/loss=0.481, rew=-0.22]                          \n"
          ]
        },
        {
          "output_type": "stream",
          "name": "stdout",
          "text": [
            "Epoch #12: test_reward: -0.460000 ± 0.498397, best_reward: -0.330000 ± 0.470213 in #0\n"
          ]
        },
        {
          "output_type": "stream",
          "name": "stderr",
          "text": [
            "Epoch #13: 1001it [00:01, 874.86it/s, env_step=13000, len=6, n/ep=7, n/st=50, player1/loss=0.198, player2/loss=0.467, rew=0.00]                          \n"
          ]
        },
        {
          "output_type": "stream",
          "name": "stdout",
          "text": [
            "Epoch #13: test_reward: -0.290000 ± 0.453762, best_reward: -0.290000 ± 0.453762 in #13\n"
          ]
        },
        {
          "output_type": "stream",
          "name": "stderr",
          "text": [
            "Epoch #14: 1001it [00:01, 888.84it/s, env_step=14000, len=6, n/ep=9, n/st=50, player1/loss=0.201, player2/loss=0.507, rew=-0.44]                          \n"
          ]
        },
        {
          "output_type": "stream",
          "name": "stdout",
          "text": [
            "Epoch #14: test_reward: -0.280000 ± 0.448999, best_reward: -0.280000 ± 0.448999 in #14\n"
          ]
        },
        {
          "output_type": "stream",
          "name": "stderr",
          "text": [
            "Epoch #15: 1001it [00:01, 862.52it/s, env_step=15000, len=8, n/ep=7, n/st=50, player1/loss=0.205, player2/loss=0.493, rew=-0.29]                          \n"
          ]
        },
        {
          "output_type": "stream",
          "name": "stdout",
          "text": [
            "Epoch #15: test_reward: -0.540000 ± 0.498397, best_reward: -0.280000 ± 0.448999 in #14\n"
          ]
        },
        {
          "output_type": "stream",
          "name": "stderr",
          "text": [
            "Epoch #16: 1001it [00:01, 884.30it/s, env_step=16000, len=7, n/ep=5, n/st=50, player1/loss=0.197, player2/loss=0.499, rew=-0.40]                          \n"
          ]
        },
        {
          "output_type": "stream",
          "name": "stdout",
          "text": [
            "Epoch #16: test_reward: -0.550000 ± 0.497494, best_reward: -0.280000 ± 0.448999 in #14\n"
          ]
        },
        {
          "output_type": "stream",
          "name": "stderr",
          "text": [
            "Epoch #17: 1001it [00:01, 889.01it/s, env_step=17000, len=6, n/ep=7, n/st=50, player1/loss=0.194, player2/loss=0.483, rew=-0.43]                          \n"
          ]
        },
        {
          "output_type": "stream",
          "name": "stdout",
          "text": [
            "Epoch #17: test_reward: -0.380000 ± 0.485386, best_reward: -0.280000 ± 0.448999 in #14\n"
          ]
        },
        {
          "output_type": "stream",
          "name": "stderr",
          "text": [
            "Epoch #18: 1001it [00:01, 716.47it/s, env_step=18000, len=7, n/ep=9, n/st=50, player1/loss=0.197, player2/loss=0.514, rew=-0.33]                          \n"
          ]
        },
        {
          "output_type": "stream",
          "name": "stdout",
          "text": [
            "Epoch #18: test_reward: -0.330000 ± 0.470213, best_reward: -0.280000 ± 0.448999 in #14\n"
          ]
        },
        {
          "output_type": "stream",
          "name": "stderr",
          "text": [
            "Epoch #19: 1001it [00:01, 866.05it/s, env_step=19000, len=10, n/ep=7, n/st=50, player1/loss=0.185, player2/loss=0.458, rew=-0.43]                          \n"
          ]
        },
        {
          "output_type": "stream",
          "name": "stdout",
          "text": [
            "Epoch #19: test_reward: -0.540000 ± 0.498397, best_reward: -0.280000 ± 0.448999 in #14\n"
          ]
        },
        {
          "output_type": "stream",
          "name": "stderr",
          "text": [
            "Epoch #20: 1001it [00:01, 886.10it/s, env_step=20000, len=6, n/ep=11, n/st=50, player1/loss=0.177, player2/loss=0.569, rew=-0.45]                          \n"
          ]
        },
        {
          "output_type": "stream",
          "name": "stdout",
          "text": [
            "Epoch #20: test_reward: -0.440000 ± 0.496387, best_reward: -0.280000 ± 0.448999 in #14\n",
            "##########\n",
            "\n",
            "death rate (in %) of player1: 30.8 +- 6.773\n",
            "death rate (in %) of player2: 29.4 +- 5.043\n"
          ]
        },
        {
          "output_type": "display_data",
          "data": {
            "text/plain": [
              "<Figure size 640x480 with 1 Axes>"
            ],
            "image/png": "[encoded data removed]"
          },
          "metadata": {}
        },
        {
          "output_type": "stream",
          "name": "stdout",
          "text": [
            "\n",
            "#### Evolution 6\n"
          ]
        },
        {
          "output_type": "stream",
          "name": "stderr",
          "text": [
            "Epoch #1: 1001it [00:01, 728.83it/s, env_step=1000, len=9, n/ep=6, n/st=50, player1/loss=0.368, player2/loss=0.448, rew=-0.50]                          \n"
          ]
        },
        {
          "output_type": "stream",
          "name": "stdout",
          "text": [
            "Epoch #1: test_reward: -0.450000 ± 0.497494, best_reward: -0.350000 ± 0.476970 in #0\n"
          ]
        },
        {
          "output_type": "stream",
          "name": "stderr",
          "text": [
            "Epoch #2: 1001it [00:01, 701.70it/s, env_step=2000, len=8, n/ep=4, n/st=50, player1/loss=0.304, player2/loss=0.454, rew=-0.50]                          \n"
          ]
        },
        {
          "output_type": "stream",
          "name": "stdout",
          "text": [
            "Epoch #2: test_reward: -0.450000 ± 0.497494, best_reward: -0.350000 ± 0.476970 in #0\n"
          ]
        },
        {
          "output_type": "stream",
          "name": "stderr",
          "text": [
            "Epoch #3: 1001it [00:01, 867.18it/s, env_step=3000, len=6, n/ep=8, n/st=50, player1/loss=0.240, player2/loss=0.465, rew=-0.25]                          \n"
          ]
        },
        {
          "output_type": "stream",
          "name": "stdout",
          "text": [
            "Epoch #3: test_reward: -0.580000 ± 0.493559, best_reward: -0.350000 ± 0.476970 in #0\n"
          ]
        },
        {
          "output_type": "stream",
          "name": "stderr",
          "text": [
            "Epoch #4: 1001it [00:01, 874.87it/s, env_step=4000, len=8, n/ep=7, n/st=50, player1/loss=0.225, player2/loss=0.496, rew=-0.57]                          \n"
          ]
        },
        {
          "output_type": "stream",
          "name": "stdout",
          "text": [
            "Epoch #4: test_reward: -0.400000 ± 0.489898, best_reward: -0.350000 ± 0.476970 in #0\n"
          ]
        },
        {
          "output_type": "stream",
          "name": "stderr",
          "text": [
            "Epoch #5: 1001it [00:01, 886.90it/s, env_step=5000, len=9, n/ep=12, n/st=50, player1/loss=0.247, player2/loss=0.456, rew=-0.42]                          \n"
          ]
        },
        {
          "output_type": "stream",
          "name": "stdout",
          "text": [
            "Epoch #5: test_reward: -0.540000 ± 0.498397, best_reward: -0.350000 ± 0.476970 in #0\n"
          ]
        },
        {
          "output_type": "stream",
          "name": "stderr",
          "text": [
            "Epoch #6: 1001it [00:01, 836.96it/s, env_step=6000, len=5, n/ep=5, n/st=50, player1/loss=0.196, player2/loss=0.530, rew=-0.60]                          \n"
          ]
        },
        {
          "output_type": "stream",
          "name": "stdout",
          "text": [
            "Epoch #6: test_reward: -0.390000 ± 0.487750, best_reward: -0.350000 ± 0.476970 in #0\n"
          ]
        },
        {
          "output_type": "stream",
          "name": "stderr",
          "text": [
            "Epoch #7: 1001it [00:01, 844.46it/s, env_step=7000, len=5, n/ep=6, n/st=50, player1/loss=0.182, player2/loss=0.530, rew=-0.33]                          \n"
          ]
        },
        {
          "output_type": "stream",
          "name": "stdout",
          "text": [
            "Epoch #7: test_reward: -0.490000 ± 0.499900, best_reward: -0.350000 ± 0.476970 in #0\n"
          ]
        },
        {
          "output_type": "stream",
          "name": "stderr",
          "text": [
            "Epoch #8: 1001it [00:01, 760.18it/s, env_step=8000, len=7, n/ep=8, n/st=50, player1/loss=0.192, player2/loss=0.480, rew=-0.62]                          \n"
          ]
        },
        {
          "output_type": "stream",
          "name": "stdout",
          "text": [
            "Epoch #8: test_reward: -0.620000 ± 0.485386, best_reward: -0.350000 ± 0.476970 in #0\n"
          ]
        },
        {
          "output_type": "stream",
          "name": "stderr",
          "text": [
            "Epoch #9: 1001it [00:01, 661.66it/s, env_step=9000, len=8, n/ep=9, n/st=50, player1/loss=0.233, player2/loss=0.510, rew=-0.78]                          \n"
          ]
        },
        {
          "output_type": "stream",
          "name": "stdout",
          "text": [
            "Epoch #9: test_reward: -0.470000 ± 0.499099, best_reward: -0.350000 ± 0.476970 in #0\n"
          ]
        },
        {
          "output_type": "stream",
          "name": "stderr",
          "text": [
            "Epoch #10: 1001it [00:01, 829.11it/s, env_step=10000, len=4, n/ep=8, n/st=50, player1/loss=0.219, player2/loss=0.471, rew=-0.25]                          \n"
          ]
        },
        {
          "output_type": "stream",
          "name": "stdout",
          "text": [
            "Epoch #10: test_reward: -0.540000 ± 0.498397, best_reward: -0.350000 ± 0.476970 in #0\n"
          ]
        },
        {
          "output_type": "stream",
          "name": "stderr",
          "text": [
            "Epoch #11: 1001it [00:01, 844.40it/s, env_step=11000, len=7, n/ep=9, n/st=50, player1/loss=0.187, player2/loss=0.498, rew=-0.67]                          \n"
          ]
        },
        {
          "output_type": "stream",
          "name": "stdout",
          "text": [
            "Epoch #11: test_reward: -0.540000 ± 0.498397, best_reward: -0.350000 ± 0.476970 in #0\n"
          ]
        },
        {
          "output_type": "stream",
          "name": "stderr",
          "text": [
            "Epoch #12: 1001it [00:01, 872.05it/s, env_step=12000, len=8, n/ep=8, n/st=50, player1/loss=0.202, player2/loss=0.473, rew=-0.50]                          \n"
          ]
        },
        {
          "output_type": "stream",
          "name": "stdout",
          "text": [
            "Epoch #12: test_reward: -0.460000 ± 0.498397, best_reward: -0.350000 ± 0.476970 in #0\n"
          ]
        },
        {
          "output_type": "stream",
          "name": "stderr",
          "text": [
            "Epoch #13: 1001it [00:01, 872.39it/s, env_step=13000, len=7, n/ep=8, n/st=50, player1/loss=0.209, player2/loss=0.530, rew=-0.62]                          \n"
          ]
        },
        {
          "output_type": "stream",
          "name": "stdout",
          "text": [
            "Epoch #13: test_reward: -0.490000 ± 0.499900, best_reward: -0.350000 ± 0.476970 in #0\n"
          ]
        },
        {
          "output_type": "stream",
          "name": "stderr",
          "text": [
            "Epoch #14: 1001it [00:01, 836.23it/s, env_step=14000, len=7, n/ep=8, n/st=50, player1/loss=0.215, player2/loss=0.529, rew=-0.50]                          \n"
          ]
        },
        {
          "output_type": "stream",
          "name": "stdout",
          "text": [
            "Epoch #14: test_reward: -0.530000 ± 0.499099, best_reward: -0.350000 ± 0.476970 in #0\n"
          ]
        },
        {
          "output_type": "stream",
          "name": "stderr",
          "text": [
            "Epoch #15: 1001it [00:01, 785.90it/s, env_step=15000, len=6, n/ep=5, n/st=50, player1/loss=0.195, player2/loss=0.527, rew=-0.20]                          \n"
          ]
        },
        {
          "output_type": "stream",
          "name": "stdout",
          "text": [
            "Epoch #15: test_reward: -0.280000 ± 0.448999, best_reward: -0.280000 ± 0.448999 in #15\n"
          ]
        },
        {
          "output_type": "stream",
          "name": "stderr",
          "text": [
            "Epoch #16: 1001it [00:01, 647.79it/s, env_step=16000, len=7, n/ep=4, n/st=50, player1/loss=0.190, player2/loss=0.510, rew=-0.25]                          \n"
          ]
        },
        {
          "output_type": "stream",
          "name": "stdout",
          "text": [
            "Epoch #16: test_reward: -0.440000 ± 0.496387, best_reward: -0.280000 ± 0.448999 in #15\n"
          ]
        },
        {
          "output_type": "stream",
          "name": "stderr",
          "text": [
            "Epoch #17: 1001it [00:01, 839.88it/s, env_step=17000, len=7, n/ep=10, n/st=50, player1/loss=0.175, player2/loss=0.496, rew=-0.50]                          \n"
          ]
        },
        {
          "output_type": "stream",
          "name": "stdout",
          "text": [
            "Epoch #17: test_reward: -0.420000 ± 0.493559, best_reward: -0.280000 ± 0.448999 in #15\n"
          ]
        },
        {
          "output_type": "stream",
          "name": "stderr",
          "text": [
            "Epoch #18: 1001it [00:01, 885.56it/s, env_step=18000, len=6, n/ep=8, n/st=50, player1/loss=0.179, player2/loss=0.525, rew=-0.50]                          \n"
          ]
        },
        {
          "output_type": "stream",
          "name": "stdout",
          "text": [
            "Epoch #18: test_reward: -0.360000 ± 0.480000, best_reward: -0.280000 ± 0.448999 in #15\n"
          ]
        },
        {
          "output_type": "stream",
          "name": "stderr",
          "text": [
            "Epoch #19: 1001it [00:01, 866.51it/s, env_step=19000, len=6, n/ep=7, n/st=50, player1/loss=0.193, player2/loss=0.619, rew=-0.29]                          \n"
          ]
        },
        {
          "output_type": "stream",
          "name": "stdout",
          "text": [
            "Epoch #19: test_reward: -0.490000 ± 0.499900, best_reward: -0.280000 ± 0.448999 in #15\n"
          ]
        },
        {
          "output_type": "stream",
          "name": "stderr",
          "text": [
            "Epoch #20: 1001it [00:01, 867.26it/s, env_step=20000, len=7, n/ep=5, n/st=50, player1/loss=0.208, player2/loss=0.571, rew=-0.20]                          \n"
          ]
        },
        {
          "output_type": "stream",
          "name": "stdout",
          "text": [
            "Epoch #20: test_reward: -0.420000 ± 0.493559, best_reward: -0.280000 ± 0.448999 in #15\n",
            "##########\n",
            "\n",
            "death rate (in %) of player1: 29.4 +- 5.312\n",
            "death rate (in %) of player2: 27.8 +- 5.617\n"
          ]
        },
        {
          "output_type": "display_data",
          "data": {
            "text/plain": [
              "<Figure size 640x480 with 1 Axes>"
            ],
            "image/png": "[encoded data removed]"
          },
          "metadata": {}
        },
        {
          "output_type": "stream",
          "name": "stdout",
          "text": [
            "\n",
            "#### Evolution 7\n"
          ]
        },
        {
          "output_type": "stream",
          "name": "stderr",
          "text": [
            "Epoch #1: 1001it [00:01, 846.25it/s, env_step=1000, len=6, n/ep=9, n/st=50, player1/loss=0.473, player2/loss=0.532, rew=-0.44]                          \n"
          ]
        },
        {
          "output_type": "stream",
          "name": "stdout",
          "text": [
            "Epoch #1: test_reward: -0.620000 ± 0.485386, best_reward: -0.230000 ± 0.420833 in #0\n"
          ]
        },
        {
          "output_type": "stream",
          "name": "stderr",
          "text": [
            "Epoch #2: 1001it [00:01, 860.07it/s, env_step=2000, len=6, n/ep=5, n/st=50, player1/loss=0.294, player2/loss=0.564, rew=-0.20]                          \n"
          ]
        },
        {
          "output_type": "stream",
          "name": "stdout",
          "text": [
            "Epoch #2: test_reward: -0.340000 ± 0.473709, best_reward: -0.230000 ± 0.420833 in #0\n"
          ]
        },
        {
          "output_type": "stream",
          "name": "stderr",
          "text": [
            "Epoch #3: 1001it [00:01, 844.05it/s, env_step=3000, len=6, n/ep=8, n/st=50, player1/loss=0.258, player2/loss=0.520, rew=-0.25]                          \n"
          ]
        },
        {
          "output_type": "stream",
          "name": "stdout",
          "text": [
            "Epoch #3: test_reward: -0.490000 ± 0.499900, best_reward: -0.230000 ± 0.420833 in #0\n"
          ]
        },
        {
          "output_type": "stream",
          "name": "stderr",
          "text": [
            "Epoch #4: 1001it [00:01, 861.05it/s, env_step=4000, len=6, n/ep=8, n/st=50, player1/loss=0.263, player2/loss=0.534, rew=-0.25]                          \n"
          ]
        },
        {
          "output_type": "stream",
          "name": "stdout",
          "text": [
            "Epoch #4: test_reward: -0.470000 ± 0.499099, best_reward: -0.230000 ± 0.420833 in #0\n"
          ]
        },
        {
          "output_type": "stream",
          "name": "stderr",
          "text": [
            "Epoch #5: 1001it [00:01, 852.29it/s, env_step=5000, len=10, n/ep=4, n/st=50, player1/loss=0.243, player2/loss=0.499, rew=-0.75]                          \n"
          ]
        },
        {
          "output_type": "stream",
          "name": "stdout",
          "text": [
            "Epoch #5: test_reward: -0.530000 ± 0.499099, best_reward: -0.230000 ± 0.420833 in #0\n"
          ]
        },
        {
          "output_type": "stream",
          "name": "stderr",
          "text": [
            "Epoch #6: 1001it [00:01, 699.18it/s, env_step=6000, len=7, n/ep=7, n/st=50, player1/loss=0.238, player2/loss=0.513, rew=-0.29]                          \n"
          ]
        },
        {
          "output_type": "stream",
          "name": "stdout",
          "text": [
            "Epoch #6: test_reward: -0.680000 ± 0.466476, best_reward: -0.230000 ± 0.420833 in #0\n"
          ]
        },
        {
          "output_type": "stream",
          "name": "stderr",
          "text": [
            "Epoch #7: 1001it [00:01, 852.96it/s, env_step=7000, len=8, n/ep=6, n/st=50, player1/loss=0.204, player2/loss=0.510, rew=-0.83]                          \n"
          ]
        },
        {
          "output_type": "stream",
          "name": "stdout",
          "text": [
            "Epoch #7: test_reward: -0.530000 ± 0.499099, best_reward: -0.230000 ± 0.420833 in #0\n"
          ]
        },
        {
          "output_type": "stream",
          "name": "stderr",
          "text": [
            "Epoch #8: 1001it [00:01, 858.23it/s, env_step=8000, len=8, n/ep=6, n/st=50, player1/loss=0.216, player2/loss=0.561, rew=-0.83]                          \n"
          ]
        },
        {
          "output_type": "stream",
          "name": "stdout",
          "text": [
            "Epoch #8: test_reward: -0.440000 ± 0.496387, best_reward: -0.230000 ± 0.420833 in #0\n"
          ]
        },
        {
          "output_type": "stream",
          "name": "stderr",
          "text": [
            "Epoch #9: 1001it [00:01, 858.53it/s, env_step=9000, len=10, n/ep=8, n/st=50, player1/loss=0.216, player2/loss=0.567, rew=-0.62]                          \n"
          ]
        },
        {
          "output_type": "stream",
          "name": "stdout",
          "text": [
            "Epoch #9: test_reward: -0.430000 ± 0.495076, best_reward: -0.230000 ± 0.420833 in #0\n"
          ]
        },
        {
          "output_type": "stream",
          "name": "stderr",
          "text": [
            "Epoch #10: 1001it [00:01, 824.86it/s, env_step=10000, len=5, n/ep=10, n/st=50, player1/loss=0.236, player2/loss=0.584, rew=-0.40]                          \n"
          ]
        },
        {
          "output_type": "stream",
          "name": "stdout",
          "text": [
            "Epoch #10: test_reward: -0.560000 ± 0.496387, best_reward: -0.230000 ± 0.420833 in #0\n"
          ]
        },
        {
          "output_type": "stream",
          "name": "stderr",
          "text": [
            "Epoch #11: 1001it [00:01, 818.28it/s, env_step=11000, len=7, n/ep=11, n/st=50, player1/loss=0.213, player2/loss=0.596, rew=-0.55]                          \n"
          ]
        },
        {
          "output_type": "stream",
          "name": "stdout",
          "text": [
            "Epoch #11: test_reward: -0.590000 ± 0.491833, best_reward: -0.230000 ± 0.420833 in #0\n"
          ]
        },
        {
          "output_type": "stream",
          "name": "stderr",
          "text": [
            "Epoch #12: 1001it [00:01, 828.03it/s, env_step=12000, len=10, n/ep=3, n/st=50, player1/loss=0.223, player2/loss=0.587, rew=-1.00]                          \n"
          ]
        },
        {
          "output_type": "stream",
          "name": "stdout",
          "text": [
            "Epoch #12: test_reward: -0.500000 ± 0.500000, best_reward: -0.230000 ± 0.420833 in #0\n"
          ]
        },
        {
          "output_type": "stream",
          "name": "stderr",
          "text": [
            "Epoch #13: 1001it [00:01, 662.01it/s, env_step=13000, len=7, n/ep=9, n/st=50, player1/loss=0.226, player2/loss=0.621, rew=-0.22]                          \n"
          ]
        },
        {
          "output_type": "stream",
          "name": "stdout",
          "text": [
            "Epoch #13: test_reward: -0.450000 ± 0.497494, best_reward: -0.230000 ± 0.420833 in #0\n"
          ]
        },
        {
          "output_type": "stream",
          "name": "stderr",
          "text": [
            "Epoch #14: 1001it [00:01, 853.94it/s, env_step=14000, len=7, n/ep=7, n/st=50, player1/loss=0.217, player2/loss=0.631, rew=-0.57]                          \n"
          ]
        },
        {
          "output_type": "stream",
          "name": "stdout",
          "text": [
            "Epoch #14: test_reward: -0.410000 ± 0.491833, best_reward: -0.230000 ± 0.420833 in #0\n"
          ]
        },
        {
          "output_type": "stream",
          "name": "stderr",
          "text": [
            "Epoch #15: 1001it [00:01, 845.91it/s, env_step=15000, len=7, n/ep=12, n/st=50, player1/loss=0.234, player2/loss=0.561, rew=-0.58]                          \n"
          ]
        },
        {
          "output_type": "stream",
          "name": "stdout",
          "text": [
            "Epoch #15: test_reward: -0.540000 ± 0.498397, best_reward: -0.230000 ± 0.420833 in #0\n"
          ]
        },
        {
          "output_type": "stream",
          "name": "stderr",
          "text": [
            "Epoch #16: 1001it [00:01, 837.02it/s, env_step=16000, len=7, n/ep=8, n/st=50, player1/loss=0.255, player2/loss=0.548, rew=-0.62]                          \n"
          ]
        },
        {
          "output_type": "stream",
          "name": "stdout",
          "text": [
            "Epoch #16: test_reward: -0.610000 ± 0.487750, best_reward: -0.230000 ± 0.420833 in #0\n"
          ]
        },
        {
          "output_type": "stream",
          "name": "stderr",
          "text": [
            "Epoch #17: 1001it [00:01, 849.16it/s, env_step=17000, len=7, n/ep=8, n/st=50, player1/loss=0.224, player2/loss=0.584, rew=-0.75]                          \n"
          ]
        },
        {
          "output_type": "stream",
          "name": "stdout",
          "text": [
            "Epoch #17: test_reward: -0.590000 ± 0.491833, best_reward: -0.230000 ± 0.420833 in #0\n"
          ]
        },
        {
          "output_type": "stream",
          "name": "stderr",
          "text": [
            "Epoch #18: 1001it [00:01, 842.89it/s, env_step=18000, len=10, n/ep=5, n/st=50, player1/loss=0.244, player2/loss=0.600, rew=-0.80]                          \n"
          ]
        },
        {
          "output_type": "stream",
          "name": "stdout",
          "text": [
            "Epoch #18: test_reward: -0.530000 ± 0.499099, best_reward: -0.230000 ± 0.420833 in #0\n"
          ]
        },
        {
          "output_type": "stream",
          "name": "stderr",
          "text": [
            "Epoch #19: 1001it [00:01, 834.53it/s, env_step=19000, len=7, n/ep=8, n/st=50, player1/loss=0.218, player2/loss=0.660, rew=-0.12]                          \n"
          ]
        },
        {
          "output_type": "stream",
          "name": "stdout",
          "text": [
            "Epoch #19: test_reward: -0.600000 ± 0.489898, best_reward: -0.230000 ± 0.420833 in #0\n"
          ]
        },
        {
          "output_type": "stream",
          "name": "stderr",
          "text": [
            "Epoch #20: 1001it [00:01, 630.54it/s, env_step=20000, len=7, n/ep=8, n/st=50, player1/loss=0.225, player2/loss=0.631, rew=-0.62]                          \n"
          ]
        },
        {
          "output_type": "stream",
          "name": "stdout",
          "text": [
            "Epoch #20: test_reward: -0.620000 ± 0.485386, best_reward: -0.230000 ± 0.420833 in #0\n",
            "##########\n",
            "\n",
            "death rate (in %) of player1: 29.2 +- 9.141\n",
            "death rate (in %) of player2: 28.2 +- 6.356\n"
          ]
        },
        {
          "output_type": "display_data",
          "data": {
            "text/plain": [
              "<Figure size 640x480 with 1 Axes>"
            ],
            "image/png": "[encoded data removed]"
          },
          "metadata": {}
        },
        {
          "output_type": "stream",
          "name": "stdout",
          "text": [
            "\n",
            "#### Evolution 8\n"
          ]
        },
        {
          "output_type": "stream",
          "name": "stderr",
          "text": [
            "Epoch #1: 1001it [00:01, 807.07it/s, env_step=1000, len=9, n/ep=8, n/st=50, player1/loss=0.514, player2/loss=0.557, rew=-0.62]                          \n"
          ]
        },
        {
          "output_type": "stream",
          "name": "stdout",
          "text": [
            "Epoch #1: test_reward: -0.580000 ± 0.493559, best_reward: -0.190000 ± 0.392301 in #0\n"
          ]
        },
        {
          "output_type": "stream",
          "name": "stderr",
          "text": [
            "Epoch #2: 1001it [00:01, 849.29it/s, env_step=2000, len=10, n/ep=9, n/st=50, player1/loss=0.355, player2/loss=0.540, rew=-0.56]                          \n"
          ]
        },
        {
          "output_type": "stream",
          "name": "stdout",
          "text": [
            "Epoch #2: test_reward: -0.510000 ± 0.499900, best_reward: -0.190000 ± 0.392301 in #0\n"
          ]
        },
        {
          "output_type": "stream",
          "name": "stderr",
          "text": [
            "Epoch #3: 1001it [00:01, 665.15it/s, env_step=3000, len=6, n/ep=8, n/st=50, player1/loss=0.284, player2/loss=0.539, rew=-0.38]                          \n"
          ]
        },
        {
          "output_type": "stream",
          "name": "stdout",
          "text": [
            "Epoch #3: test_reward: -0.530000 ± 0.499099, best_reward: -0.190000 ± 0.392301 in #0\n"
          ]
        },
        {
          "output_type": "stream",
          "name": "stderr",
          "text": [
            "Epoch #4: 1001it [00:01, 819.36it/s, env_step=4000, len=10, n/ep=4, n/st=50, player1/loss=0.267, player2/loss=0.537, rew=-0.50]                          \n"
          ]
        },
        {
          "output_type": "stream",
          "name": "stdout",
          "text": [
            "Epoch #4: test_reward: -0.580000 ± 0.493559, best_reward: -0.190000 ± 0.392301 in #0\n"
          ]
        },
        {
          "output_type": "stream",
          "name": "stderr",
          "text": [
            "Epoch #5: 1001it [00:01, 850.17it/s, env_step=5000, len=7, n/ep=8, n/st=50, player1/loss=0.274, player2/loss=0.566, rew=-0.75]                          \n"
          ]
        },
        {
          "output_type": "stream",
          "name": "stdout",
          "text": [
            "Epoch #5: test_reward: -0.460000 ± 0.498397, best_reward: -0.190000 ± 0.392301 in #0\n"
          ]
        },
        {
          "output_type": "stream",
          "name": "stderr",
          "text": [
            "Epoch #6: 1001it [00:01, 856.20it/s, env_step=6000, len=8, n/ep=8, n/st=50, player1/loss=0.252, player2/loss=0.532, rew=-0.38]                          \n"
          ]
        },
        {
          "output_type": "stream",
          "name": "stdout",
          "text": [
            "Epoch #6: test_reward: -0.470000 ± 0.499099, best_reward: -0.190000 ± 0.392301 in #0\n"
          ]
        },
        {
          "output_type": "stream",
          "name": "stderr",
          "text": [
            "Epoch #7: 1001it [00:01, 846.92it/s, env_step=7000, len=7, n/ep=12, n/st=50, player1/loss=0.261, player2/loss=0.522, rew=-0.42]                          \n"
          ]
        },
        {
          "output_type": "stream",
          "name": "stdout",
          "text": [
            "Epoch #7: test_reward: -0.520000 ± 0.499600, best_reward: -0.190000 ± 0.392301 in #0\n"
          ]
        },
        {
          "output_type": "stream",
          "name": "stderr",
          "text": [
            "Epoch #8: 1001it [00:01, 834.20it/s, env_step=8000, len=9, n/ep=9, n/st=50, player1/loss=0.247, player2/loss=0.491, rew=-0.78]                          \n"
          ]
        },
        {
          "output_type": "stream",
          "name": "stdout",
          "text": [
            "Epoch #8: test_reward: -0.520000 ± 0.499600, best_reward: -0.190000 ± 0.392301 in #0\n"
          ]
        },
        {
          "output_type": "stream",
          "name": "stderr",
          "text": [
            "Epoch #9: 1001it [00:01, 835.03it/s, env_step=9000, len=8, n/ep=7, n/st=50, player1/loss=0.233, player2/loss=0.554, rew=-0.86]                          \n"
          ]
        },
        {
          "output_type": "stream",
          "name": "stdout",
          "text": [
            "Epoch #9: test_reward: -0.560000 ± 0.496387, best_reward: -0.190000 ± 0.392301 in #0\n"
          ]
        },
        {
          "output_type": "stream",
          "name": "stderr",
          "text": [
            "Epoch #10: 1001it [00:01, 651.07it/s, env_step=10000, len=9, n/ep=8, n/st=50, player1/loss=0.223, player2/loss=0.530, rew=-0.75]                          \n"
          ]
        },
        {
          "output_type": "stream",
          "name": "stdout",
          "text": [
            "Epoch #10: test_reward: -0.480000 ± 0.499600, best_reward: -0.190000 ± 0.392301 in #0\n"
          ]
        },
        {
          "output_type": "stream",
          "name": "stderr",
          "text": [
            "Epoch #11: 1001it [00:01, 863.33it/s, env_step=11000, len=7, n/ep=4, n/st=50, player1/loss=0.229, player2/loss=0.586, rew=0.00]                          \n"
          ]
        },
        {
          "output_type": "stream",
          "name": "stdout",
          "text": [
            "Epoch #11: test_reward: -0.460000 ± 0.498397, best_reward: -0.190000 ± 0.392301 in #0\n"
          ]
        },
        {
          "output_type": "stream",
          "name": "stderr",
          "text": [
            "Epoch #12: 1001it [00:01, 876.63it/s, env_step=12000, len=8, n/ep=5, n/st=50, player1/loss=0.258, player2/loss=0.563, rew=-0.80]                          \n"
          ]
        },
        {
          "output_type": "stream",
          "name": "stdout",
          "text": [
            "Epoch #12: test_reward: -0.500000 ± 0.500000, best_reward: -0.190000 ± 0.392301 in #0\n"
          ]
        },
        {
          "output_type": "stream",
          "name": "stderr",
          "text": [
            "Epoch #13: 1001it [00:01, 838.92it/s, env_step=13000, len=6, n/ep=8, n/st=50, player1/loss=0.234, player2/loss=0.675, rew=-0.25]                          \n"
          ]
        },
        {
          "output_type": "stream",
          "name": "stdout",
          "text": [
            "Epoch #13: test_reward: -0.500000 ± 0.500000, best_reward: -0.190000 ± 0.392301 in #0\n"
          ]
        },
        {
          "output_type": "stream",
          "name": "stderr",
          "text": [
            "Epoch #14: 1001it [00:01, 834.55it/s, env_step=14000, len=7, n/ep=8, n/st=50, player1/loss=0.230, player2/loss=0.614, rew=-0.38]                          \n"
          ]
        },
        {
          "output_type": "stream",
          "name": "stdout",
          "text": [
            "Epoch #14: test_reward: -0.600000 ± 0.489898, best_reward: -0.190000 ± 0.392301 in #0\n"
          ]
        },
        {
          "output_type": "stream",
          "name": "stderr",
          "text": [
            "Epoch #15: 1001it [00:01, 836.67it/s, env_step=15000, len=6, n/ep=4, n/st=50, player1/loss=0.226, player2/loss=0.629, rew=-0.25]                          \n"
          ]
        },
        {
          "output_type": "stream",
          "name": "stdout",
          "text": [
            "Epoch #15: test_reward: -0.370000 ± 0.482804, best_reward: -0.190000 ± 0.392301 in #0\n"
          ]
        },
        {
          "output_type": "stream",
          "name": "stderr",
          "text": [
            "Epoch #16: 1001it [00:01, 839.58it/s, env_step=16000, len=7, n/ep=8, n/st=50, player1/loss=0.249, player2/loss=0.646, rew=-0.50]                          \n"
          ]
        },
        {
          "output_type": "stream",
          "name": "stdout",
          "text": [
            "Epoch #16: test_reward: -0.400000 ± 0.489898, best_reward: -0.190000 ± 0.392301 in #0\n"
          ]
        },
        {
          "output_type": "stream",
          "name": "stderr",
          "text": [
            "Epoch #17: 1001it [00:01, 676.40it/s, env_step=17000, len=9, n/ep=7, n/st=50, player1/loss=0.249, player2/loss=0.619, rew=-0.57]                          \n"
          ]
        },
        {
          "output_type": "stream",
          "name": "stdout",
          "text": [
            "Epoch #17: test_reward: -0.550000 ± 0.497494, best_reward: -0.190000 ± 0.392301 in #0\n"
          ]
        },
        {
          "output_type": "stream",
          "name": "stderr",
          "text": [
            "Epoch #18: 1001it [00:01, 831.60it/s, env_step=18000, len=7, n/ep=10, n/st=50, player1/loss=0.257, player2/loss=0.688, rew=-0.60]                          \n"
          ]
        },
        {
          "output_type": "stream",
          "name": "stdout",
          "text": [
            "Epoch #18: test_reward: -0.540000 ± 0.498397, best_reward: -0.190000 ± 0.392301 in #0\n"
          ]
        },
        {
          "output_type": "stream",
          "name": "stderr",
          "text": [
            "Epoch #19: 1001it [00:01, 850.26it/s, env_step=19000, len=9, n/ep=6, n/st=50, player1/loss=0.244, player2/loss=0.687, rew=-0.83]                          \n"
          ]
        },
        {
          "output_type": "stream",
          "name": "stdout",
          "text": [
            "Epoch #19: test_reward: -0.440000 ± 0.496387, best_reward: -0.190000 ± 0.392301 in #0\n"
          ]
        },
        {
          "output_type": "stream",
          "name": "stderr",
          "text": [
            "Epoch #20: 1001it [00:01, 834.84it/s, env_step=20000, len=5, n/ep=14, n/st=50, player1/loss=0.231, player2/loss=0.695, rew=-0.43]                          \n"
          ]
        },
        {
          "output_type": "stream",
          "name": "stdout",
          "text": [
            "Epoch #20: test_reward: -0.540000 ± 0.498397, best_reward: -0.190000 ± 0.392301 in #0\n",
            "##########\n",
            "\n",
            "death rate (in %) of player1: 28.0 +- 8.524\n",
            "death rate (in %) of player2: 26.4 +- 5.692\n"
          ]
        },
        {
          "output_type": "display_data",
          "data": {
            "text/plain": [
              "<Figure size 640x480 with 1 Axes>"
            ],
            "image/png": "[encoded data removed]"
          },
          "metadata": {}
        },
        {
          "output_type": "stream",
          "name": "stdout",
          "text": [
            "\n",
            "#### Evolution 9\n"
          ]
        },
        {
          "output_type": "stream",
          "name": "stderr",
          "text": [
            "Epoch #1: 1001it [00:01, 745.11it/s, env_step=1000, len=9, n/ep=8, n/st=50, player1/loss=0.523, player2/loss=0.564, rew=-0.62]                          \n"
          ]
        },
        {
          "output_type": "stream",
          "name": "stdout",
          "text": [
            "Epoch #1: test_reward: -0.540000 ± 0.498397, best_reward: -0.290000 ± 0.453762 in #0\n"
          ]
        },
        {
          "output_type": "stream",
          "name": "stderr",
          "text": [
            "Epoch #2: 1001it [00:01, 830.78it/s, env_step=2000, len=8, n/ep=8, n/st=50, player1/loss=0.388, player2/loss=0.591, rew=-0.50]                          \n"
          ]
        },
        {
          "output_type": "stream",
          "name": "stdout",
          "text": [
            "Epoch #2: test_reward: -0.420000 ± 0.493559, best_reward: -0.290000 ± 0.453762 in #0\n"
          ]
        },
        {
          "output_type": "stream",
          "name": "stderr",
          "text": [
            "Epoch #3: 1001it [00:01, 837.02it/s, env_step=3000, len=8, n/ep=7, n/st=50, player1/loss=0.362, player2/loss=0.598, rew=-0.43]                          \n"
          ]
        },
        {
          "output_type": "stream",
          "name": "stdout",
          "text": [
            "Epoch #3: test_reward: -0.510000 ± 0.499900, best_reward: -0.290000 ± 0.453762 in #0\n"
          ]
        },
        {
          "output_type": "stream",
          "name": "stderr",
          "text": [
            "Epoch #4: 1001it [00:01, 868.87it/s, env_step=4000, len=7, n/ep=9, n/st=50, player1/loss=0.273, player2/loss=0.521, rew=-0.56]                          \n"
          ]
        },
        {
          "output_type": "stream",
          "name": "stdout",
          "text": [
            "Epoch #4: test_reward: -0.500000 ± 0.500000, best_reward: -0.290000 ± 0.453762 in #0\n"
          ]
        },
        {
          "output_type": "stream",
          "name": "stderr",
          "text": [
            "Epoch #5: 1001it [00:01, 839.56it/s, env_step=5000, len=9, n/ep=6, n/st=50, player1/loss=0.283, player2/loss=0.585, rew=-0.50]                          \n"
          ]
        },
        {
          "output_type": "stream",
          "name": "stdout",
          "text": [
            "Epoch #5: test_reward: -0.520000 ± 0.499600, best_reward: -0.290000 ± 0.453762 in #0\n"
          ]
        },
        {
          "output_type": "stream",
          "name": "stderr",
          "text": [
            "Epoch #6: 1001it [00:01, 874.32it/s, env_step=6000, len=8, n/ep=9, n/st=50, player1/loss=0.257, player2/loss=0.649, rew=-0.78]                          \n"
          ]
        },
        {
          "output_type": "stream",
          "name": "stdout",
          "text": [
            "Epoch #6: test_reward: -0.510000 ± 0.499900, best_reward: -0.290000 ± 0.453762 in #0\n"
          ]
        },
        {
          "output_type": "stream",
          "name": "stderr",
          "text": [
            "Epoch #7: 1001it [00:01, 659.94it/s, env_step=7000, len=11, n/ep=7, n/st=50, player1/loss=0.248, player2/loss=0.621, rew=-0.71]                          \n"
          ]
        },
        {
          "output_type": "stream",
          "name": "stdout",
          "text": [
            "Epoch #7: test_reward: -0.550000 ± 0.497494, best_reward: -0.290000 ± 0.453762 in #0\n"
          ]
        },
        {
          "output_type": "stream",
          "name": "stderr",
          "text": [
            "Epoch #8: 1001it [00:01, 728.63it/s, env_step=8000, len=6, n/ep=10, n/st=50, player1/loss=0.241, player2/loss=0.705, rew=-0.50]                          \n"
          ]
        },
        {
          "output_type": "stream",
          "name": "stdout",
          "text": [
            "Epoch #8: test_reward: -0.570000 ± 0.495076, best_reward: -0.290000 ± 0.453762 in #0\n"
          ]
        },
        {
          "output_type": "stream",
          "name": "stderr",
          "text": [
            "Epoch #9: 1001it [00:01, 854.97it/s, env_step=9000, len=8, n/ep=8, n/st=50, player1/loss=0.245, player2/loss=0.786, rew=-0.62]                          \n"
          ]
        },
        {
          "output_type": "stream",
          "name": "stdout",
          "text": [
            "Epoch #9: test_reward: -0.620000 ± 0.485386, best_reward: -0.290000 ± 0.453762 in #0\n"
          ]
        },
        {
          "output_type": "stream",
          "name": "stderr",
          "text": [
            "Epoch #10: 1001it [00:01, 818.34it/s, env_step=10000, len=7, n/ep=12, n/st=50, player1/loss=0.237, player2/loss=0.633, rew=-0.42]                          \n"
          ]
        },
        {
          "output_type": "stream",
          "name": "stdout",
          "text": [
            "Epoch #10: test_reward: -0.620000 ± 0.485386, best_reward: -0.290000 ± 0.453762 in #0\n"
          ]
        },
        {
          "output_type": "stream",
          "name": "stderr",
          "text": [
            "Epoch #11: 1001it [00:01, 845.14it/s, env_step=11000, len=8, n/ep=7, n/st=50, player1/loss=0.214, player2/loss=0.666, rew=-0.43]                          \n"
          ]
        },
        {
          "output_type": "stream",
          "name": "stdout",
          "text": [
            "Epoch #11: test_reward: -0.510000 ± 0.499900, best_reward: -0.290000 ± 0.453762 in #0\n"
          ]
        },
        {
          "output_type": "stream",
          "name": "stderr",
          "text": [
            "Epoch #12: 1001it [00:01, 866.69it/s, env_step=12000, len=10, n/ep=8, n/st=50, player1/loss=0.262, player2/loss=0.704, rew=-0.38]                          \n"
          ]
        },
        {
          "output_type": "stream",
          "name": "stdout",
          "text": [
            "Epoch #12: test_reward: -0.590000 ± 0.491833, best_reward: -0.290000 ± 0.453762 in #0\n"
          ]
        },
        {
          "output_type": "stream",
          "name": "stderr",
          "text": [
            "Epoch #13: 1001it [00:01, 831.02it/s, env_step=13000, len=8, n/ep=8, n/st=50, player1/loss=0.265, player2/loss=0.748, rew=-0.50]                          \n"
          ]
        },
        {
          "output_type": "stream",
          "name": "stdout",
          "text": [
            "Epoch #13: test_reward: -0.580000 ± 0.493559, best_reward: -0.290000 ± 0.453762 in #0\n"
          ]
        },
        {
          "output_type": "stream",
          "name": "stderr",
          "text": [
            "Epoch #14: 1001it [00:01, 695.77it/s, env_step=14000, len=9, n/ep=5, n/st=50, player1/loss=0.249, player2/loss=0.676, rew=-0.80]                          \n"
          ]
        },
        {
          "output_type": "stream",
          "name": "stdout",
          "text": [
            "Epoch #14: test_reward: -0.470000 ± 0.499099, best_reward: -0.290000 ± 0.453762 in #0\n"
          ]
        },
        {
          "output_type": "stream",
          "name": "stderr",
          "text": [
            "Epoch #15: 1001it [00:01, 795.27it/s, env_step=15000, len=8, n/ep=9, n/st=50, player1/loss=0.255, player2/loss=0.692, rew=-0.56]                          \n"
          ]
        },
        {
          "output_type": "stream",
          "name": "stdout",
          "text": [
            "Epoch #15: test_reward: -0.440000 ± 0.496387, best_reward: -0.290000 ± 0.453762 in #0\n"
          ]
        },
        {
          "output_type": "stream",
          "name": "stderr",
          "text": [
            "Epoch #16: 1001it [00:01, 830.77it/s, env_step=16000, len=7, n/ep=4, n/st=50, player1/loss=0.258, player2/loss=0.704, rew=-0.50]                          \n"
          ]
        },
        {
          "output_type": "stream",
          "name": "stdout",
          "text": [
            "Epoch #16: test_reward: -0.520000 ± 0.499600, best_reward: -0.290000 ± 0.453762 in #0\n"
          ]
        },
        {
          "output_type": "stream",
          "name": "stderr",
          "text": [
            "Epoch #17: 1001it [00:01, 839.41it/s, env_step=17000, len=9, n/ep=6, n/st=50, player1/loss=0.241, player2/loss=0.663, rew=-0.50]                          \n"
          ]
        },
        {
          "output_type": "stream",
          "name": "stdout",
          "text": [
            "Epoch #17: test_reward: -0.570000 ± 0.495076, best_reward: -0.290000 ± 0.453762 in #0\n"
          ]
        },
        {
          "output_type": "stream",
          "name": "stderr",
          "text": [
            "Epoch #18: 1001it [00:01, 852.67it/s, env_step=18000, len=6, n/ep=9, n/st=50, player1/loss=0.242, player2/loss=0.731, rew=-0.33]                          \n"
          ]
        },
        {
          "output_type": "stream",
          "name": "stdout",
          "text": [
            "Epoch #18: test_reward: -0.690000 ± 0.462493, best_reward: -0.290000 ± 0.453762 in #0\n"
          ]
        },
        {
          "output_type": "stream",
          "name": "stderr",
          "text": [
            "Epoch #19: 1001it [00:01, 824.64it/s, env_step=19000, len=8, n/ep=8, n/st=50, player1/loss=0.228, player2/loss=0.748, rew=-0.75]                          \n"
          ]
        },
        {
          "output_type": "stream",
          "name": "stdout",
          "text": [
            "Epoch #19: test_reward: -0.570000 ± 0.495076, best_reward: -0.290000 ± 0.453762 in #0\n"
          ]
        },
        {
          "output_type": "stream",
          "name": "stderr",
          "text": [
            "Epoch #20: 1001it [00:01, 852.12it/s, env_step=20000, len=9, n/ep=6, n/st=50, player1/loss=0.265, player2/loss=0.743, rew=-0.50]                          \n"
          ]
        },
        {
          "output_type": "stream",
          "name": "stdout",
          "text": [
            "Epoch #20: test_reward: -0.560000 ± 0.496387, best_reward: -0.290000 ± 0.453762 in #0\n",
            "##########\n",
            "\n",
            "death rate (in %) of player1: 28.3 +- 5.477\n",
            "death rate (in %) of player2: 26.1 +- 6.967\n"
          ]
        },
        {
          "output_type": "display_data",
          "data": {
            "text/plain": [
              "<Figure size 640x480 with 1 Axes>"
            ],
            "image/png": "[encoded data removed]"
          },
          "metadata": {}
        },
        {
          "output_type": "stream",
          "name": "stdout",
          "text": [
            "\n",
            "#### Evolution 10\n"
          ]
        },
        {
          "output_type": "stream",
          "name": "stderr",
          "text": [
            "Epoch #1: 1001it [00:01, 830.87it/s, env_step=1000, len=8, n/ep=7, n/st=50, player1/loss=0.540, player2/loss=0.647, rew=-0.57]                          \n"
          ]
        },
        {
          "output_type": "stream",
          "name": "stdout",
          "text": [
            "Epoch #1: test_reward: -0.460000 ± 0.498397, best_reward: -0.210000 ± 0.407308 in #0\n"
          ]
        },
        {
          "output_type": "stream",
          "name": "stderr",
          "text": [
            "Epoch #2: 1001it [00:01, 833.41it/s, env_step=2000, len=7, n/ep=7, n/st=50, player1/loss=0.389, player2/loss=0.680, rew=-0.57]                          \n"
          ]
        },
        {
          "output_type": "stream",
          "name": "stdout",
          "text": [
            "Epoch #2: test_reward: -0.670000 ± 0.470213, best_reward: -0.210000 ± 0.407308 in #0\n"
          ]
        },
        {
          "output_type": "stream",
          "name": "stderr",
          "text": [
            "Epoch #3: 1001it [00:01, 800.65it/s, env_step=3000, len=8, n/ep=9, n/st=50, player1/loss=0.331, player2/loss=0.571, rew=-0.33]                          \n"
          ]
        },
        {
          "output_type": "stream",
          "name": "stdout",
          "text": [
            "Epoch #3: test_reward: -0.480000 ± 0.499600, best_reward: -0.210000 ± 0.407308 in #0\n"
          ]
        },
        {
          "output_type": "stream",
          "name": "stderr",
          "text": [
            "Epoch #4: 1001it [00:01, 656.40it/s, env_step=4000, len=7, n/ep=10, n/st=50, player1/loss=0.286, player2/loss=0.632, rew=-0.60]                          \n"
          ]
        },
        {
          "output_type": "stream",
          "name": "stdout",
          "text": [
            "Epoch #4: test_reward: -0.480000 ± 0.499600, best_reward: -0.210000 ± 0.407308 in #0\n"
          ]
        },
        {
          "output_type": "stream",
          "name": "stderr",
          "text": [
            "Epoch #5: 1001it [00:01, 714.07it/s, env_step=5000, len=8, n/ep=10, n/st=50, player1/loss=0.289, player2/loss=0.565, rew=-0.50]                          \n"
          ]
        },
        {
          "output_type": "stream",
          "name": "stdout",
          "text": [
            "Epoch #5: test_reward: -0.510000 ± 0.499900, best_reward: -0.210000 ± 0.407308 in #0\n"
          ]
        },
        {
          "output_type": "stream",
          "name": "stderr",
          "text": [
            "Epoch #6: 1001it [00:01, 818.85it/s, env_step=6000, len=6, n/ep=9, n/st=50, player1/loss=0.250, player2/loss=0.547, rew=-0.56]                          \n"
          ]
        },
        {
          "output_type": "stream",
          "name": "stdout",
          "text": [
            "Epoch #6: test_reward: -0.590000 ± 0.491833, best_reward: -0.210000 ± 0.407308 in #0\n"
          ]
        },
        {
          "output_type": "stream",
          "name": "stderr",
          "text": [
            "Epoch #7: 1001it [00:01, 845.72it/s, env_step=7000, len=6, n/ep=5, n/st=50, player1/loss=0.221, player2/loss=0.497, rew=-0.20]                          \n"
          ]
        },
        {
          "output_type": "stream",
          "name": "stdout",
          "text": [
            "Epoch #7: test_reward: -0.550000 ± 0.497494, best_reward: -0.210000 ± 0.407308 in #0\n"
          ]
        },
        {
          "output_type": "stream",
          "name": "stderr",
          "text": [
            "Epoch #8: 1001it [00:01, 847.72it/s, env_step=8000, len=9, n/ep=9, n/st=50, player1/loss=0.242, player2/loss=0.567, rew=-0.67]                          \n"
          ]
        },
        {
          "output_type": "stream",
          "name": "stdout",
          "text": [
            "Epoch #8: test_reward: -0.520000 ± 0.499600, best_reward: -0.210000 ± 0.407308 in #0\n"
          ]
        },
        {
          "output_type": "stream",
          "name": "stderr",
          "text": [
            "Epoch #9: 1001it [00:01, 837.60it/s, env_step=9000, len=7, n/ep=7, n/st=50, player1/loss=0.231, player2/loss=0.578, rew=-0.57]                          \n"
          ]
        },
        {
          "output_type": "stream",
          "name": "stdout",
          "text": [
            "Epoch #9: test_reward: -0.510000 ± 0.499900, best_reward: -0.210000 ± 0.407308 in #0\n"
          ]
        },
        {
          "output_type": "stream",
          "name": "stderr",
          "text": [
            "Epoch #10: 1001it [00:01, 838.09it/s, env_step=10000, len=8, n/ep=9, n/st=50, player1/loss=0.239, player2/loss=0.556, rew=-0.56]                          \n"
          ]
        },
        {
          "output_type": "stream",
          "name": "stdout",
          "text": [
            "Epoch #10: test_reward: -0.570000 ± 0.495076, best_reward: -0.210000 ± 0.407308 in #0\n"
          ]
        },
        {
          "output_type": "stream",
          "name": "stderr",
          "text": [
            "Epoch #11: 1001it [00:01, 651.05it/s, env_step=11000, len=7, n/ep=5, n/st=50, player1/loss=0.224, player2/loss=0.540, rew=-0.80]                          \n"
          ]
        },
        {
          "output_type": "stream",
          "name": "stdout",
          "text": [
            "Epoch #11: test_reward: -0.600000 ± 0.489898, best_reward: -0.210000 ± 0.407308 in #0\n"
          ]
        },
        {
          "output_type": "stream",
          "name": "stderr",
          "text": [
            "Epoch #12: 1001it [00:01, 712.51it/s, env_step=12000, len=9, n/ep=6, n/st=50, player1/loss=0.203, player2/loss=0.587, rew=-0.50]                          \n"
          ]
        },
        {
          "output_type": "stream",
          "name": "stdout",
          "text": [
            "Epoch #12: test_reward: -0.590000 ± 0.491833, best_reward: -0.210000 ± 0.407308 in #0\n"
          ]
        },
        {
          "output_type": "stream",
          "name": "stderr",
          "text": [
            "Epoch #13: 1001it [00:01, 839.20it/s, env_step=13000, len=7, n/ep=8, n/st=50, player1/loss=0.229, player2/loss=0.621, rew=-0.38]                          \n"
          ]
        },
        {
          "output_type": "stream",
          "name": "stdout",
          "text": [
            "Epoch #13: test_reward: -0.610000 ± 0.487750, best_reward: -0.210000 ± 0.407308 in #0\n"
          ]
        },
        {
          "output_type": "stream",
          "name": "stderr",
          "text": [
            "Epoch #14: 1001it [00:01, 839.29it/s, env_step=14000, len=8, n/ep=7, n/st=50, player1/loss=0.236, player2/loss=0.590, rew=-0.86]                          \n"
          ]
        },
        {
          "output_type": "stream",
          "name": "stdout",
          "text": [
            "Epoch #14: test_reward: -0.630000 ± 0.482804, best_reward: -0.210000 ± 0.407308 in #0\n"
          ]
        },
        {
          "output_type": "stream",
          "name": "stderr",
          "text": [
            "Epoch #15: 1001it [00:01, 861.90it/s, env_step=15000, len=6, n/ep=6, n/st=50, player1/loss=0.231, player2/loss=0.547, rew=-0.50]                          \n"
          ]
        },
        {
          "output_type": "stream",
          "name": "stdout",
          "text": [
            "Epoch #15: test_reward: -0.510000 ± 0.499900, best_reward: -0.210000 ± 0.407308 in #0\n"
          ]
        },
        {
          "output_type": "stream",
          "name": "stderr",
          "text": [
            "Epoch #16: 1001it [00:01, 848.21it/s, env_step=16000, len=9, n/ep=9, n/st=50, player1/loss=0.232, player2/loss=0.583, rew=-0.89]                          \n"
          ]
        },
        {
          "output_type": "stream",
          "name": "stdout",
          "text": [
            "Epoch #16: test_reward: -0.460000 ± 0.498397, best_reward: -0.210000 ± 0.407308 in #0\n"
          ]
        },
        {
          "output_type": "stream",
          "name": "stderr",
          "text": [
            "Epoch #17: 1001it [00:01, 840.45it/s, env_step=17000, len=6, n/ep=6, n/st=50, player1/loss=0.236, player2/loss=0.558, rew=-0.50]                          \n"
          ]
        },
        {
          "output_type": "stream",
          "name": "stdout",
          "text": [
            "Epoch #17: test_reward: -0.530000 ± 0.499099, best_reward: -0.210000 ± 0.407308 in #0\n"
          ]
        },
        {
          "output_type": "stream",
          "name": "stderr",
          "text": [
            "Epoch #18: 1001it [00:01, 686.33it/s, env_step=18000, len=6, n/ep=6, n/st=50, player1/loss=0.222, player2/loss=0.641, rew=-0.17]                          \n"
          ]
        },
        {
          "output_type": "stream",
          "name": "stdout",
          "text": [
            "Epoch #18: test_reward: -0.630000 ± 0.482804, best_reward: -0.210000 ± 0.407308 in #0\n"
          ]
        },
        {
          "output_type": "stream",
          "name": "stderr",
          "text": [
            "Epoch #19: 1001it [00:01, 730.21it/s, env_step=19000, len=5, n/ep=10, n/st=50, player1/loss=0.234, player2/loss=0.621, rew=-0.40]                          \n"
          ]
        },
        {
          "output_type": "stream",
          "name": "stdout",
          "text": [
            "Epoch #19: test_reward: -0.530000 ± 0.499099, best_reward: -0.210000 ± 0.407308 in #0\n"
          ]
        },
        {
          "output_type": "stream",
          "name": "stderr",
          "text": [
            "Epoch #20: 1001it [00:01, 842.16it/s, env_step=20000, len=8, n/ep=5, n/st=50, player1/loss=0.200, player2/loss=0.592, rew=-0.60]                          \n"
          ]
        },
        {
          "output_type": "stream",
          "name": "stdout",
          "text": [
            "Epoch #20: test_reward: -0.560000 ± 0.496387, best_reward: -0.210000 ± 0.407308 in #0\n",
            "##########\n",
            "\n",
            "death rate (in %) of player1: 25.0 +- 5.754\n",
            "death rate (in %) of player2: 23.2 +- 6.967\n"
          ]
        },
        {
          "output_type": "display_data",
          "data": {
            "text/plain": [
              "<Figure size 640x480 with 1 Axes>"
            ],
            "image/png": "[encoded data removed]"
          },
          "metadata": {}
        },
        {
          "output_type": "stream",
          "name": "stdout",
          "text": [
            "\n"
          ]
        }
      ]
    },
    {
      "cell_type": "code",
      "source": [
        "#@title Save Policy as CSV\n",
        "\n",
        "df = []\n",
        "obs = []\n",
        "\n",
        "for days_left in range(1, env.num_days):\n",
        "    for player1_life_points in range(1, env.num_life_points):\n",
        "        for player2_life_points in range(1, env.num_life_points):\n",
        "            for payoff in [0.2, 0.4]:\n",
        "                curr_obs = [\n",
        "                    days_left, \n",
        "                    player1_life_points, \n",
        "                    player2_life_points, \n",
        "                    payoff,\n",
        "                    payoff\n",
        "                ]\n",
        "                obs.append({\n",
        "                    'agent_id': 'player2',\n",
        "                    'obs': np.array([curr_obs], dtype='float32'),\n",
        "                    'mask': [True, True, False]\n",
        "                })\n",
        "                df.append(curr_obs)\n",
        "\n",
        "cols = [\n",
        "    \"days_left\", \n",
        "    \"player1_life_points\", \n",
        "    \"player2_life_points\", \n",
        "    \"player1_prob_payoff\",\n",
        "    \"player2_prob_payoff\"\n",
        "]\n",
        "df = pd.DataFrame(df, columns=cols)\n",
        "\n",
        "scaler = MinMaxScaler(feature_range=(0, 1))\n",
        "\n",
        "df[\"player2_predicted_action\"] = train_policies.policies[agents[1]](Batch(obs=obs, info={})).act\n",
        "df[\"player2_logit_wait\"] = train_policies.policies[agents[1]](Batch(obs=obs, info={})).logits.detach().cpu().numpy()[:, 0]\n",
        "df[\"player2_logit_play\"] = train_policies.policies[agents[1]](Batch(obs=obs, info={})).logits.detach().cpu().numpy()[:, 1]\n",
        "df[\"player2_logit_diff\"] = scaler.fit_transform((df[\"player2_logit_play\"] - df[\"player2_logit_wait\"]).values[:, None])\n",
        "\n",
        "df[\"player2_predicted_action\"] = df[\"player2_predicted_action\"].map({0: \"wait\", 1: \"play\"})\n",
        "\n",
        "df.to_csv(\"outcome_table.csv\", index=False)\n",
        "\n",
        "df.head()"
      ],
      "metadata": {
        "colab": {
          "base_uri": "https://localhost:8080/",
          "height": 270
        },
        "id": "qqphMrZSd-JF",
        "outputId": "f4dc3d33-5be1-47f6-b510-ed9c07fe2f14",
        "cellView": "form"
      },
      "execution_count": 25,
      "outputs": [
        {
          "output_type": "execute_result",
          "data": {
            "text/plain": [
              "   days_left  player1_life_points  player2_life_points  player1_prob_payoff  \\\n",
              "0          1                    1                    1                  0.2   \n",
              "1          1                    1                    1                  0.4   \n",
              "2          1                    1                    2                  0.2   \n",
              "3          1                    1                    2                  0.4   \n",
              "4          1                    1                    3                  0.2   \n",
              "\n",
              "   player2_prob_payoff player2_predicted_action  player2_logit_wait  \\\n",
              "0                  0.2                     play          -13.306664   \n",
              "1                  0.4                     play          -13.752058   \n",
              "2                  0.2                     wait          -12.925547   \n",
              "3                  0.4                     wait          -13.200659   \n",
              "4                  0.2                     wait          -12.828230   \n",
              "\n",
              "   player2_logit_play  player2_logit_diff  \n",
              "0          -13.222314            0.635688  \n",
              "1          -13.681378            0.629523  \n",
              "2          -12.965901            0.579447  \n",
              "3          -13.291486            0.556685  \n",
              "4          -12.892140            0.568824  "
            ],
            "text/html": [
              "\n",
              "  <div id=\"df-039c8520-9a3c-46d6-9dde-624665accc2c\">\n",
              "    <div class=\"colab-df-container\">\n",
              "      <div>\n",
              "<style scoped>\n",
              "    .dataframe tbody tr th:only-of-type {\n",
              "        vertical-align: middle;\n",
              "    }\n",
              "\n",
              "    .dataframe tbody tr th {\n",
              "        vertical-align: top;\n",
              "    }\n",
              "\n",
              "    .dataframe thead th {\n",
              "        text-align: right;\n",
              "    }\n",
              "</style>\n",
              "<table border=\"1\" class=\"dataframe\">\n",
              "  <thead>\n",
              "    <tr style=\"text-align: right;\">\n",
              "      <th></th>\n",
              "      <th>days_left</th>\n",
              "      <th>player1_life_points</th>\n",
              "      <th>player2_life_points</th>\n",
              "      <th>player1_prob_payoff</th>\n",
              "      <th>player2_prob_payoff</th>\n",
              "      <th>player2_predicted_action</th>\n",
              "      <th>player2_logit_wait</th>\n",
              "      <th>player2_logit_play</th>\n",
              "      <th>player2_logit_diff</th>\n",
              "    </tr>\n",
              "  </thead>\n",
              "  <tbody>\n",
              "    <tr>\n",
              "      <th>0</th>\n",
              "      <td>1</td>\n",
              "      <td>1</td>\n",
              "      <td>1</td>\n",
              "      <td>0.2</td>\n",
              "      <td>0.2</td>\n",
              "      <td>play</td>\n",
              "      <td>-13.306664</td>\n",
              "      <td>-13.222314</td>\n",
              "      <td>0.635688</td>\n",
              "    </tr>\n",
              "    <tr>\n",
              "      <th>1</th>\n",
              "      <td>1</td>\n",
              "      <td>1</td>\n",
              "      <td>1</td>\n",
              "      <td>0.4</td>\n",
              "      <td>0.4</td>\n",
              "      <td>play</td>\n",
              "      <td>-13.752058</td>\n",
              "      <td>-13.681378</td>\n",
              "      <td>0.629523</td>\n",
              "    </tr>\n",
              "    <tr>\n",
              "      <th>2</th>\n",
              "      <td>1</td>\n",
              "      <td>1</td>\n",
              "      <td>2</td>\n",
              "      <td>0.2</td>\n",
              "      <td>0.2</td>\n",
              "      <td>wait</td>\n",
              "      <td>-12.925547</td>\n",
              "      <td>-12.965901</td>\n",
              "      <td>0.579447</td>\n",
              "    </tr>\n",
              "    <tr>\n",
              "      <th>3</th>\n",
              "      <td>1</td>\n",
              "      <td>1</td>\n",
              "      <td>2</td>\n",
              "      <td>0.4</td>\n",
              "      <td>0.4</td>\n",
              "      <td>wait</td>\n",
              "      <td>-13.200659</td>\n",
              "      <td>-13.291486</td>\n",
              "      <td>0.556685</td>\n",
              "    </tr>\n",
              "    <tr>\n",
              "      <th>4</th>\n",
              "      <td>1</td>\n",
              "      <td>1</td>\n",
              "      <td>3</td>\n",
              "      <td>0.2</td>\n",
              "      <td>0.2</td>\n",
              "      <td>wait</td>\n",
              "      <td>-12.828230</td>\n",
              "      <td>-12.892140</td>\n",
              "      <td>0.568824</td>\n",
              "    </tr>\n",
              "  </tbody>\n",
              "</table>\n",
              "</div>\n",
              "      <button class=\"colab-df-convert\" onclick=\"convertToInteractive('df-039c8520-9a3c-46d6-9dde-624665accc2c')\"\n",
              "              title=\"Convert this dataframe to an interactive table.\"\n",
              "              style=\"display:none;\">\n",
              "        \n",
              "  <svg xmlns=\"http://www.w3.org/2000/svg\" height=\"24px\"viewBox=\"0 0 24 24\"\n",
              "       width=\"24px\">\n",
              "    <path d=\"M0 0h24v24H0V0z\" fill=\"none\"/>\n",
              "    <path d=\"M18.56 5.44l.94 2.06.94-2.06 2.06-.94-2.06-.94-.94-2.06-.94 2.06-2.06.94zm-11 1L8.5 8.5l.94-2.06 2.06-.94-2.06-.94L8.5 2.5l-.94 2.06-2.06.94zm10 10l.94 2.06.94-2.06 2.06-.94-2.06-.94-.94-2.06-.94 2.06-2.06.94z\"/><path d=\"M17.41 7.96l-1.37-1.37c-.4-.4-.92-.59-1.43-.59-.52 0-1.04.2-1.43.59L10.3 9.45l-7.72 7.72c-.78.78-.78 2.05 0 2.83L4 21.41c.39.39.9.59 1.41.59.51 0 1.02-.2 1.41-.59l7.78-7.78 2.81-2.81c.8-.78.8-2.07 0-2.86zM5.41 20L4 18.59l7.72-7.72 1.47 1.35L5.41 20z\"/>\n",
              "  </svg>\n",
              "      </button>\n",
              "      \n",
              "  <style>\n",
              "    .colab-df-container {\n",
              "      display:flex;\n",
              "      flex-wrap:wrap;\n",
              "      gap: 12px;\n",
              "    }\n",
              "\n",
              "    .colab-df-convert {\n",
              "      background-color: #E8F0FE;\n",
              "      border: none;\n",
              "      border-radius: 50%;\n",
              "      cursor: pointer;\n",
              "      display: none;\n",
              "      fill: #1967D2;\n",
              "      height: 32px;\n",
              "      padding: 0 0 0 0;\n",
              "      width: 32px;\n",
              "    }\n",
              "\n",
              "    .colab-df-convert:hover {\n",
              "      background-color: #E2EBFA;\n",
              "      box-shadow: 0px 1px 2px rgba(60, 64, 67, 0.3), 0px 1px 3px 1px rgba(60, 64, 67, 0.15);\n",
              "      fill: #174EA6;\n",
              "    }\n",
              "\n",
              "    [theme=dark] .colab-df-convert {\n",
              "      background-color: #3B4455;\n",
              "      fill: #D2E3FC;\n",
              "    }\n",
              "\n",
              "    [theme=dark] .colab-df-convert:hover {\n",
              "      background-color: #434B5C;\n",
              "      box-shadow: 0px 1px 3px 1px rgba(0, 0, 0, 0.15);\n",
              "      filter: drop-shadow(0px 1px 2px rgba(0, 0, 0, 0.3));\n",
              "      fill: #FFFFFF;\n",
              "    }\n",
              "  </style>\n",
              "\n",
              "      <script>\n",
              "        const buttonEl =\n",
              "          document.querySelector('#df-039c8520-9a3c-46d6-9dde-624665accc2c button.colab-df-convert');\n",
              "        buttonEl.style.display =\n",
              "          google.colab.kernel.accessAllowed ? 'block' : 'none';\n",
              "\n",
              "        async function convertToInteractive(key) {\n",
              "          const element = document.querySelector('#df-039c8520-9a3c-46d6-9dde-624665accc2c');\n",
              "          const dataTable =\n",
              "            await google.colab.kernel.invokeFunction('convertToInteractive',\n",
              "                                                     [key], {});\n",
              "          if (!dataTable) return;\n",
              "\n",
              "          const docLinkHtml = 'Like what you see? Visit the ' +\n",
              "            '<a target=\"_blank\" href=https://colab.research.google.com/notebooks/data_table.ipynb>data table notebook</a>'\n",
              "            + ' to learn more about interactive tables.';\n",
              "          element.innerHTML = '';\n",
              "          dataTable['output_type'] = 'display_data';\n",
              "          await google.colab.output.renderOutput(dataTable, element);\n",
              "          const docLink = document.createElement('div');\n",
              "          docLink.innerHTML = docLinkHtml;\n",
              "          element.appendChild(docLink);\n",
              "        }\n",
              "      </script>\n",
              "    </div>\n",
              "  </div>\n",
              "  "
            ]
          },
          "metadata": {},
          "execution_count": 25
        }
      ]
    },
    {
      "cell_type": "code",
      "source": [
        "#@title Visualize policy (mean gameplay)\n",
        "(df[\"player2_predicted_action\"] == \"play\").mean()"
      ],
      "metadata": {
        "colab": {
          "base_uri": "https://localhost:8080/"
        },
        "id": "KxAabY2fo4OL",
        "outputId": "764edb00-eefc-4b52-c339-e3880b52d5e3",
        "cellView": "form"
      },
      "execution_count": 26,
      "outputs": [
        {
          "output_type": "stream",
          "name": "stderr",
          "text": [
            "/usr/local/lib/python3.10/dist-packages/ipykernel/ipkernel.py:283: DeprecationWarning: `should_run_async` will not call `transform_cell` automatically in the future. Please pass the result to `transformed_cell` argument and any exception that happen during thetransform in `preprocessing_exc_tuple` in IPython 7.17 and above.\n",
            "  and should_run_async(code)\n"
          ]
        },
        {
          "output_type": "execute_result",
          "data": {
            "text/plain": [
              "0.5859375"
            ]
          },
          "metadata": {},
          "execution_count": 26
        }
      ]
    },
    {
      "cell_type": "code",
      "source": [
        "#@title Visualize policy\n",
        "##TODO display logits instead\n",
        "fig, axes = plt.subplots(2, 8, figsize=(40, 20))\n",
        "\n",
        "def _get_im(ax, days_left, is_env_good):\n",
        "    if is_env_good:\n",
        "        prob_succ = 0.2\n",
        "    else:\n",
        "        prob_succ = 0.4\n",
        "\n",
        "    arr = df.loc[\n",
        "        (df[\"days_left\"] == days_left) & \n",
        "        (df[\"player1_prob_payoff\"] == prob_succ), \n",
        "        \"player2_predicted_action\"\n",
        "    ].map({\"wait\": 0, \"play\": 1}).values\n",
        "\n",
        "    ax.imshow(np.reshape(arr, (4, 4)), cmap='bwr')\n",
        "    ax.set_title(f\"Day->{days_left} GoodEnv->{is_env_good}\")\n",
        "    ax.set_xticks(np.arange(0, 4, 1), np.arange(1, 5, 1))\n",
        "    ax.set_yticks(np.arange(0, 4, 1), np.arange(1, 5, 1))\n",
        "\n",
        "for idx, ax in enumerate(np.ravel(axes)):\n",
        "    if idx < 8:\n",
        "        is_env_good=False\n",
        "    else:\n",
        "        is_env_good=True\n",
        "    days_left = idx%8 + 1\n",
        "    \n",
        "    _get_im(ax, days_left=days_left, is_env_good=is_env_good)\n",
        "\n",
        "ax.set_xlabel(\"player2_life_points\")\n",
        "ax.set_ylabel(\"player1_life_points\")\n",
        "\n",
        "red_patch = mpatches.Patch(color='red', label='Play')\n",
        "blue_patch = mpatches.Patch(color='blue', label='Wait')\n",
        "\n",
        "plt.legend(handles=[red_patch, blue_patch])\n",
        "\n",
        "fig.tight_layout()\n",
        "plt.show()"
      ],
      "metadata": {
        "colab": {
          "base_uri": "https://localhost:8080/",
          "height": 517
        },
        "id": "YmNsJMKrpxVu",
        "outputId": "06739497-001e-4d43-a3e1-d8ee12d0afc5",
        "cellView": "form"
      },
      "execution_count": 28,
      "outputs": [
        {
          "output_type": "stream",
          "name": "stderr",
          "text": [
            "/usr/local/lib/python3.10/dist-packages/ipykernel/ipkernel.py:283: DeprecationWarning: `should_run_async` will not call `transform_cell` automatically in the future. Please pass the result to `transformed_cell` argument and any exception that happen during thetransform in `preprocessing_exc_tuple` in IPython 7.17 and above.\n",
            "  and should_run_async(code)\n"
          ]
        },
        {
          "output_type": "display_data",
          "data": {
            "text/plain": [
              "<Figure size 4000x2000 with 16 Axes>"
            ],
            "image/png": "[encoded data removed]"
          },
          "metadata": {}
        }
      ]
    },
    {
      "cell_type": "code",
      "source": [],
      "metadata": {
        "id": "a_66Vm0WHsb6"
      },
      "execution_count": null,
      "outputs": []
    }
  ]
}