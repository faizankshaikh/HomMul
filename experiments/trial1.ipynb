{
  "nbformat": 4,
  "nbformat_minor": 0,
  "metadata": {
    "colab": {
      "provenance": [],
      "gpuType": "T4",
      "authorship_tag": "ABX9TyNq4nRhaQAQJug+PUutmMMI",
      "include_colab_link": true
    },
    "kernelspec": {
      "name": "python3",
      "display_name": "Python 3"
    },
    "language_info": {
      "name": "python"
    },
    "accelerator": "GPU",
    "gpuClass": "standard"
  },
  "cells": [
    {
      "cell_type": "markdown",
      "metadata": {
        "id": "view-in-github",
        "colab_type": "text"
      },
      "source": [
        "<a href=\"https://colab.research.google.com/github/faizankshaikh/HomMul/blob/main/experiments/trial1.ipynb\" target=\"_parent\"><img src=\"https://colab.research.google.com/assets/colab-badge.svg\" alt=\"Open In Colab\"/></a>"
      ]
    },
    {
      "cell_type": "code",
      "execution_count": 1,
      "metadata": {
        "id": "V2BNDFAEr5fq"
      },
      "outputs": [],
      "source": [
        "# !pip install -q black gymnasium pettingzoo tianshou\n",
        "# !git clone https://github.com/faizankshaikh/HomMul.git"
      ]
    },
    {
      "cell_type": "code",
      "source": [
        "%cd HomMul/"
      ],
      "metadata": {
        "colab": {
          "base_uri": "https://localhost:8080/"
        },
        "id": "NBShrrDlsJLP",
        "outputId": "f947d3a3-6184-49fe-eb6e-afccbf4f76a4"
      },
      "execution_count": 2,
      "outputs": [
        {
          "output_type": "stream",
          "name": "stdout",
          "text": [
            "/content/HomMul\n"
          ]
        }
      ]
    },
    {
      "cell_type": "code",
      "source": [
        "%load_ext tensorboard\n",
        "\n",
        "import os\n",
        "import torch\n",
        "import numpy as np\n",
        "import pandas as pd\n",
        "import matplotlib.pyplot as plt\n",
        "\n",
        "from hommul.envs.hommul_v0 import HomMul\n",
        "\n",
        "from torch.optim import Adam\n",
        "\n",
        "from tianshou.data import Batch\n",
        "from tianshou.utils.net.common import Net\n",
        "from tianshou.utils import TensorboardLogger\n",
        "from tianshou.trainer import offpolicy_trainer\n",
        "from tianshou.data import Collector, VectorReplayBuffer\n",
        "from tianshou.env import DummyVectorEnv, PettingZooEnv\n",
        "from tianshou.policy import BasePolicy, DQNPolicy, MultiAgentPolicyManager\n",
        "\n",
        "from pettingzoo.utils import parallel_to_aec\n",
        "\n",
        "from torch.utils.tensorboard import SummaryWriter"
      ],
      "metadata": {
        "id": "othtAUgWs8MA"
      },
      "execution_count": 3,
      "outputs": []
    },
    {
      "cell_type": "code",
      "source": [
        "env = HomMul()\n",
        "original_env = HomMul(render_mode=\"human\")"
      ],
      "metadata": {
        "colab": {
          "base_uri": "https://localhost:8080/"
        },
        "id": "ZkPx4nCOuhXX",
        "outputId": "4002970d-7532-455a-9cab-3e2c2b2688ec"
      },
      "execution_count": 4,
      "outputs": [
        {
          "output_type": "stream",
          "name": "stderr",
          "text": [
            "/usr/local/lib/python3.10/dist-packages/ipykernel/ipkernel.py:283: DeprecationWarning: `should_run_async` will not call `transform_cell` automatically in the future. Please pass the result to `transformed_cell` argument and any exception that happen during thetransform in `preprocessing_exc_tuple` in IPython 7.17 and above.\n",
            "  and should_run_async(code)\n"
          ]
        }
      ]
    },
    {
      "cell_type": "code",
      "source": [
        "# example of gameplay\n",
        "episodes = 1\n",
        "\n",
        "for episode in range(episodes):\n",
        "    print(f\"Episode #{episode+1}\")\n",
        "    print(\"=\" * 10)\n",
        "    obs = original_env.reset()\n",
        "    print()\n",
        "\n",
        "    while original_env.agents:\n",
        "        acts = {\n",
        "            \"player1\": np.random.choice([0, 1]),\n",
        "            \"player2\": np.random.choice([0, 1])\n",
        "        }\n",
        "        print(f\"--Action taken by player 1: {original_env.action_dict[acts['player1']]}\")\n",
        "        print(f\"--Action taken by player 2: {original_env.action_dict[acts['player2']]}\")\n",
        "        print()\n",
        "\n",
        "        obs, rews, terms, truncs, infos = original_env.step(acts)\n",
        "        print()"
      ],
      "metadata": {
        "colab": {
          "base_uri": "https://localhost:8080/"
        },
        "id": "ANr_Vc2ouvVJ",
        "outputId": "4b66b7d9-69b5-449b-d31c-081aa0e55b9d"
      },
      "execution_count": 5,
      "outputs": [
        {
          "output_type": "stream",
          "name": "stdout",
          "text": [
            "Episode #1\n",
            "==========\n",
            "--Days left: 1\n",
            "--Current life of agent 1: 1\n",
            "--Current life of agent 2: 3\n",
            "--Probability of payoff for agent 1: 0.2\n",
            "--Probability of payoff for agent 2: 0.2\n",
            "\n",
            "--Action taken by player 1: wait\n",
            "--Action taken by player 2: wait\n",
            "\n",
            "--Days left: 0\n",
            "--Current life of agent 1: 0\n",
            "--Current life of agent 2: 2\n",
            "--Probability of payoff for agent 1: 0.2\n",
            "--Probability of payoff for agent 2: 0.2\n",
            "--Previous action of agent 1: wait\n",
            "--Previous action of agent 2: wait\n",
            "\n"
          ]
        }
      ]
    },
    {
      "cell_type": "code",
      "source": [
        "# both always play\n",
        "episodes = 1000\n",
        "\n",
        "episode_rews = []\n",
        "\n",
        "for _ in range(episodes):\n",
        "\n",
        "    obs = env.reset()\n",
        "    while env.agents:\n",
        "        acts = {\n",
        "            \"player1\": 1,\n",
        "            \"player2\": 1\n",
        "        }\n",
        "\n",
        "        obs, rews, terms, truncs, infos = env.step(acts)\n",
        "        # print(obs, rews)\n",
        "\n",
        "    episode_rews.append([rews['player1'], rews['player2']])\n",
        "\n",
        "arr = np.array(episode_rews)\n",
        "death_rates = np.sum(arr, axis=0) / np.sum(arr, axis=0)[0]\n",
        "print(f\"death rate of player2: {(np.sum(arr, axis=0) / arr.shape[0])[-1] * -1:.3f}\")\n",
        "print(f\"ratio of death rate of player2 with respect to player1: {death_rates[-1]:.3f}\")\n",
        "plt.plot(arr.cumsum(axis=0))\n",
        "plt.legend((\"player1\", \"player2\"))\n",
        "plt.show()"
      ],
      "metadata": {
        "colab": {
          "base_uri": "https://localhost:8080/",
          "height": 466
        },
        "id": "biogmPIWxNv3",
        "outputId": "67177a70-bb46-4e5c-f6a1-ab39bb5da8b9"
      },
      "execution_count": 6,
      "outputs": [
        {
          "output_type": "stream",
          "name": "stdout",
          "text": [
            "death rate of player2: 0.345\n",
            "ratio of death rate of player2 with respect to player1: 0.891\n"
          ]
        },
        {
          "output_type": "display_data",
          "data": {
            "text/plain": [
              "<Figure size 640x480 with 1 Axes>"
            ],
            "image/png": "[encoded data removed]"
          },
          "metadata": {}
        }
      ]
    },
    {
      "cell_type": "code",
      "source": [
        "# both always wait\n",
        "episodes = 1000\n",
        "\n",
        "episode_rews = []\n",
        "\n",
        "for _ in range(episodes):\n",
        "\n",
        "    obs = env.reset()\n",
        "    while env.agents:\n",
        "        acts = {\n",
        "            \"player1\": 0,\n",
        "            \"player2\": 0\n",
        "        }\n",
        "\n",
        "        obs, rews, terms, truncs, infos = env.step(acts)\n",
        "        # print(obs, rews)\n",
        "\n",
        "    episode_rews.append([rews['player1'], rews['player2']])\n",
        "\n",
        "arr = np.array(episode_rews)\n",
        "death_rates = np.sum(arr, axis=0) / np.sum(arr, axis=0)[0]\n",
        "print(f\"death rate of player2: {(np.sum(arr, axis=0) / arr.shape[0])[-1] * -1:.3f}\")\n",
        "print(f\"ratio of death rate of player2 with respect to player1: {death_rates[-1]:.3f}\")\n",
        "plt.plot(arr.cumsum(axis=0))\n",
        "plt.legend((\"player1\", \"player2\"))\n",
        "plt.show()"
      ],
      "metadata": {
        "colab": {
          "base_uri": "https://localhost:8080/",
          "height": 466
        },
        "id": "EpB7M86F3Nmk",
        "outputId": "84da6296-2173-49b6-b6a8-085a090ecd05"
      },
      "execution_count": 7,
      "outputs": [
        {
          "output_type": "stream",
          "name": "stdout",
          "text": [
            "death rate of player2: 0.420\n",
            "ratio of death rate of player2 with respect to player1: 0.674\n"
          ]
        },
        {
          "output_type": "display_data",
          "data": {
            "text/plain": [
              "<Figure size 640x480 with 1 Axes>"
            ],
            "image/png": "[encoded data removed]"
          },
          "metadata": {}
        }
      ]
    },
    {
      "cell_type": "code",
      "source": [
        "# player1 waits, player2 plays\n",
        "episodes = 1000\n",
        "\n",
        "episode_rews = []\n",
        "\n",
        "for _ in range(episodes):\n",
        "\n",
        "    obs = env.reset()\n",
        "    while env.agents:\n",
        "        acts = {\n",
        "            \"player1\": 0,\n",
        "            \"player2\": 1\n",
        "        }\n",
        "\n",
        "        obs, rews, terms, truncs, infos = env.step(acts)\n",
        "        # print(obs, rews)\n",
        "\n",
        "    episode_rews.append([rews['player1'], rews['player2']])\n",
        "\n",
        "arr = np.array(episode_rews)\n",
        "death_rates = np.sum(arr, axis=0) / np.sum(arr, axis=0)[0]\n",
        "print(f\"death rate of player2: {(np.sum(arr, axis=0) / arr.shape[0])[-1] * -1:.3f}\")\n",
        "print(f\"ratio of death rate of player2 with respect to player1: {death_rates[-1]:.3f}\")\n",
        "plt.plot(arr.cumsum(axis=0))\n",
        "plt.legend((\"player1\", \"player2\"))\n",
        "plt.show()"
      ],
      "metadata": {
        "colab": {
          "base_uri": "https://localhost:8080/",
          "height": 466
        },
        "id": "O2wI3VsI3Tc8",
        "outputId": "ccfce1fe-5ce4-4e48-df77-5c4a1843e889"
      },
      "execution_count": 8,
      "outputs": [
        {
          "output_type": "stream",
          "name": "stdout",
          "text": [
            "death rate of player2: 0.561\n",
            "ratio of death rate of player2 with respect to player1: 0.858\n"
          ]
        },
        {
          "output_type": "display_data",
          "data": {
            "text/plain": [
              "<Figure size 640x480 with 1 Axes>"
            ],
            "image/png": "[encoded data removed]"
          },
          "metadata": {}
        }
      ]
    },
    {
      "cell_type": "code",
      "source": [
        "# player1 plays, player2 waits\n",
        "episodes = 1000\n",
        "\n",
        "episode_rews = []\n",
        "\n",
        "for _ in range(episodes):\n",
        "\n",
        "    obs = env.reset()\n",
        "    while env.agents:\n",
        "        acts = {\n",
        "            \"player1\": 1,\n",
        "            \"player2\": 0\n",
        "        }\n",
        "\n",
        "        obs, rews, terms, truncs, infos = env.step(acts)\n",
        "        # print(obs, rews)\n",
        "\n",
        "    episode_rews.append([rews['player1'], rews['player2']])\n",
        "\n",
        "arr = np.array(episode_rews)\n",
        "death_rates = np.sum(arr, axis=0) / np.sum(arr, axis=0)[0]\n",
        "print(f\"death rate of player2: {(np.sum(arr, axis=0) / arr.shape[0])[-1] * -1:.3f}\")\n",
        "print(f\"ratio of death rate of player2 with respect to player1: {death_rates[-1]:.3f}\")\n",
        "plt.plot(arr.cumsum(axis=0))\n",
        "plt.legend((\"player1\", \"player2\"))\n",
        "plt.show()"
      ],
      "metadata": {
        "colab": {
          "base_uri": "https://localhost:8080/",
          "height": 466
        },
        "id": "9eJWcQqC3Z99",
        "outputId": "9d05ef42-3714-4060-ea1c-b70ec4b51ec9"
      },
      "execution_count": 9,
      "outputs": [
        {
          "output_type": "stream",
          "name": "stdout",
          "text": [
            "death rate of player2: 0.442\n",
            "ratio of death rate of player2 with respect to player1: 0.682\n"
          ]
        },
        {
          "output_type": "display_data",
          "data": {
            "text/plain": [
              "<Figure size 640x480 with 1 Axes>"
            ],
            "image/png": "[encoded data removed]"
          },
          "metadata": {}
        }
      ]
    },
    {
      "cell_type": "code",
      "source": [
        "# Always plays vs random agent\n",
        "episodes = 1000\n",
        "\n",
        "episode_rews = []\n",
        "\n",
        "for _ in range(episodes):\n",
        "\n",
        "    obs = env.reset()\n",
        "    while env.agents:\n",
        "        acts = {\n",
        "            \"player1\": 1,\n",
        "            \"player2\": np.random.choice([0, 1])\n",
        "        }\n",
        "\n",
        "        obs, rews, terms, truncs, infos = env.step(acts)\n",
        "        # print(obs, rews)\n",
        "\n",
        "    episode_rews.append([rews['player1'], rews['player2']])\n",
        "\n",
        "arr = np.array(episode_rews)\n",
        "death_rates = np.sum(arr, axis=0) / np.sum(arr, axis=0)[0]\n",
        "print(f\"death rate of player2: {(np.sum(arr, axis=0) / arr.shape[0])[-1] * -1:.3f}\")\n",
        "print(f\"ratio of death rate of player2 with respect to player1: {death_rates[-1]:.3f}\")\n",
        "plt.plot(arr.cumsum(axis=0))\n",
        "plt.legend((\"player1\", \"player2\"))\n",
        "plt.show()"
      ],
      "metadata": {
        "colab": {
          "base_uri": "https://localhost:8080/",
          "height": 466
        },
        "id": "FPLlpZUh3i8f",
        "outputId": "3e2e7a90-a426-4628-af4d-b867f6aabb91"
      },
      "execution_count": 10,
      "outputs": [
        {
          "output_type": "stream",
          "name": "stdout",
          "text": [
            "death rate of player2: 0.353\n",
            "ratio of death rate of player2 with respect to player1: 0.740\n"
          ]
        },
        {
          "output_type": "display_data",
          "data": {
            "text/plain": [
              "<Figure size 640x480 with 1 Axes>"
            ],
            "image/png": "[encoded data removed]"
          },
          "metadata": {}
        }
      ]
    },
    {
      "cell_type": "code",
      "source": [
        "# Always waits vs random agent\n",
        "episodes = 1000\n",
        "\n",
        "episode_rews = []\n",
        "\n",
        "for _ in range(episodes):\n",
        "\n",
        "    obs = env.reset()\n",
        "    while env.agents:\n",
        "        acts = {\n",
        "            \"player1\": 0,\n",
        "            \"player2\": np.random.choice([0, 1])\n",
        "        }\n",
        "\n",
        "        obs, rews, terms, truncs, infos = env.step(acts)\n",
        "        # print(obs, rews)\n",
        "\n",
        "    episode_rews.append([rews['player1'], rews['player2']])\n",
        "\n",
        "arr = np.array(episode_rews)\n",
        "death_rates = np.sum(arr, axis=0) / np.sum(arr, axis=0)[0]\n",
        "print(f\"death rate of player2: {(np.sum(arr, axis=0) / arr.shape[0])[-1] * -1:.3f}\")\n",
        "print(f\"ratio of death rate of player2 with respect to player1: {death_rates[-1]:.3f}\")\n",
        "plt.plot(arr.cumsum(axis=0))\n",
        "plt.legend((\"player1\", \"player2\"))\n",
        "plt.show()"
      ],
      "metadata": {
        "colab": {
          "base_uri": "https://localhost:8080/",
          "height": 466
        },
        "id": "A2Ei4LU75us9",
        "outputId": "fe4cb0ef-7bdc-4a3d-a739-2ff27a281a93"
      },
      "execution_count": 11,
      "outputs": [
        {
          "output_type": "stream",
          "name": "stdout",
          "text": [
            "death rate of player2: 0.517\n",
            "ratio of death rate of player2 with respect to player1: 0.779\n"
          ]
        },
        {
          "output_type": "display_data",
          "data": {
            "text/plain": [
              "<Figure size 640x480 with 1 Axes>"
            ],
            "image/png": "[encoded data removed]"
          },
          "metadata": {}
        }
      ]
    },
    {
      "cell_type": "code",
      "source": [
        "# Always plays vs hail mary\n",
        "episodes = 1000\n",
        "\n",
        "episode_rews = []\n",
        "\n",
        "for _ in range(episodes):\n",
        "\n",
        "    obs = env.reset()\n",
        "    while env.agents:\n",
        "        acts = {\n",
        "            \"player1\": 1,\n",
        "            \"player2\": 1 if obs[\"player2\"][\"observation\"][0, 2] <= 1 else 0\n",
        "        }\n",
        "\n",
        "        obs, rews, terms, truncs, infos = env.step(acts)\n",
        "        # print(obs, rews)\n",
        "\n",
        "    episode_rews.append([rews['player1'], rews['player2']])\n",
        "\n",
        "arr = np.array(episode_rews)\n",
        "death_rates = np.sum(arr, axis=0) / np.sum(arr, axis=0)[0]\n",
        "print(f\"death rate of player2: {(np.sum(arr, axis=0) / arr.shape[0])[-1] * -1:.3f}\")\n",
        "print(f\"ratio of death rate of player2 with respect to player1: {death_rates[-1]:.3f}\")\n",
        "plt.plot(arr.cumsum(axis=0))\n",
        "plt.legend((\"player1\", \"player2\"))\n",
        "plt.show()"
      ],
      "metadata": {
        "colab": {
          "base_uri": "https://localhost:8080/",
          "height": 466
        },
        "id": "onhvByjW51QN",
        "outputId": "e7d315ec-0bfd-4527-f237-16a4a528f932"
      },
      "execution_count": 12,
      "outputs": [
        {
          "output_type": "stream",
          "name": "stdout",
          "text": [
            "death rate of player2: 0.204\n",
            "ratio of death rate of player2 with respect to player1: 0.364\n"
          ]
        },
        {
          "output_type": "display_data",
          "data": {
            "text/plain": [
              "<Figure size 640x480 with 1 Axes>"
            ],
            "image/png": "[encoded data removed]"
          },
          "metadata": {}
        }
      ]
    },
    {
      "cell_type": "code",
      "source": [
        "# Always waits vs hail mary\n",
        "episodes = 1000\n",
        "\n",
        "episode_rews = []\n",
        "\n",
        "for _ in range(episodes):\n",
        "\n",
        "    obs = env.reset()\n",
        "    while env.agents:\n",
        "        acts = {\n",
        "            \"player1\": 0,\n",
        "            \"player2\": 1 if obs[\"player2\"][\"observation\"][0, 2] <= 1 else 0\n",
        "        }\n",
        "\n",
        "        obs, rews, terms, truncs, infos = env.step(acts)\n",
        "        # print(obs, rews)\n",
        "\n",
        "    episode_rews.append([rews['player1'], rews['player2']])\n",
        "\n",
        "arr = np.array(episode_rews)\n",
        "death_rates = np.sum(arr, axis=0) / np.sum(arr, axis=0)[0]\n",
        "print(f\"death rate of player2: {(np.sum(arr, axis=0) / arr.shape[0])[-1] * -1:.3f}\")\n",
        "print(f\"ratio of death rate of player2 with respect to player1: {death_rates[-1]:.3f}\")\n",
        "plt.plot(arr.cumsum(axis=0))\n",
        "plt.legend((\"player1\", \"player2\"))\n",
        "plt.show()"
      ],
      "metadata": {
        "colab": {
          "base_uri": "https://localhost:8080/",
          "height": 466
        },
        "id": "V8KQIrS76GRt",
        "outputId": "c2fa2697-1c95-4ab4-f6e1-fafb791e8be6"
      },
      "execution_count": 13,
      "outputs": [
        {
          "output_type": "stream",
          "name": "stdout",
          "text": [
            "death rate of player2: 0.288\n",
            "ratio of death rate of player2 with respect to player1: 0.455\n"
          ]
        },
        {
          "output_type": "display_data",
          "data": {
            "text/plain": [
              "<Figure size 640x480 with 1 Axes>"
            ],
            "image/png": "[encoded data removed]"
          },
          "metadata": {}
        }
      ]
    },
    {
      "cell_type": "code",
      "source": [
        "## agent that always plays\n",
        "class AlwaysPlay(BasePolicy):\n",
        "    def __init__(self, **kwargs):\n",
        "        self.nolearn = True\n",
        "        super().__init__(**kwargs)\n",
        "    \n",
        "    def forward(self, batch, state = None):\n",
        "        mask = batch.obs.mask\n",
        "        logits = np.zeros(mask.shape)\n",
        "        logits[:, 1] = 1\n",
        "        logits[~mask] = -np.inf\n",
        "        return Batch(act=logits.argmax(axis=-1))\n",
        "\n",
        "    def learn(self, batch):\n",
        "        return {}\n",
        "\n",
        "## agent that always waits\n",
        "class AlwaysWait(BasePolicy):\n",
        "    def __init__(self, **kwargs):\n",
        "        self.nolearn = True\n",
        "        super().__init__(**kwargs)\n",
        "\n",
        "    def forward(self, batch, state = None):\n",
        "        mask = batch.obs.mask\n",
        "        logits = np.zeros(mask.shape)\n",
        "        logits[:, 0] = 1\n",
        "        logits[~mask] = -np.inf\n",
        "        return Batch(act=logits.argmax(axis=-1))\n",
        "\n",
        "    def learn(self, batch):\n",
        "        return {}\n",
        "\n",
        "## agent that waits for low health to play\n",
        "class HailMary(BasePolicy):\n",
        "    def __init__(self, **kwargs):\n",
        "        self.nolearn = True\n",
        "        super().__init__(**kwargs)\n",
        "\n",
        "    def forward(self, batch, state = None):\n",
        "        mask = batch.obs.mask\n",
        "        logits = np.zeros(mask.shape)\n",
        "        obs = batch.obs.obs\n",
        "\n",
        "        for i in range(mask.shape[0]):\n",
        "            if obs[i, :, 1] <= 1:\n",
        "                logits[i, 1] = 1\n",
        "            else:\n",
        "                logits[i, 0] = 1\n",
        "        logits[~mask] = -np.inf\n",
        "        return Batch(act=logits.argmax(axis=-1))\n",
        "\n",
        "    def learn(self, batch):\n",
        "        return {}\n",
        "\n",
        "## random agent\n",
        "class RandomAgent(BasePolicy):\n",
        "    def __init__(self, **kwargs):\n",
        "        self.nolearn = True\n",
        "        super().__init__(**kwargs)\n",
        "\n",
        "    def forward(self, batch, state = None):\n",
        "        mask = batch.obs.mask\n",
        "        logits = np.zeros(mask.shape)\n",
        "        logits[:, np.random.choice([0, 1])] = 1\n",
        "        logits[~mask] = -np.inf\n",
        "        return Batch(act=logits.argmax(axis=-1))\n",
        "\n",
        "    def learn(self, batch):\n",
        "        return {}"
      ],
      "metadata": {
        "id": "n5nzTky1bTJk"
      },
      "execution_count": 14,
      "outputs": []
    },
    {
      "cell_type": "code",
      "source": [
        "# Step 2: Wrap the environment for Tianshou interfacing\n",
        "def _get_env():\n",
        "    env = HomMul()\n",
        "    vec_env = parallel_to_aec(env)\n",
        "    return PettingZooEnv(vec_env)\n",
        "\n",
        "# seed\n",
        "seed = 42\n",
        "np.random.seed(seed)\n",
        "torch.manual_seed(seed)\n",
        "\n",
        "env = HomMul()\n",
        "agents =  env.agents[:]\n",
        "\n",
        "# Step 3: Define policies for each agent\n",
        "## learning agent\n",
        "def _get_agent(pretrained=False):\n",
        "    vec_env = _get_env()\n",
        "    net = Net(\n",
        "        state_shape=vec_env.observation_space.shape,\n",
        "        action_shape=vec_env.action_space.n,\n",
        "        hidden_sizes=[128, 128],\n",
        "        device=\"cuda\",\n",
        "    ).to(\"cuda\")\n",
        "    optim = Adam(net.parameters(), lr=1e-4)\n",
        "    model = DQNPolicy(\n",
        "        model=net,\n",
        "        optim=optim,\n",
        "        discount_factor=0.9,\n",
        "        estimation_step=3,\n",
        "        target_update_freq=50,\n",
        "    )\n",
        "\n",
        "    # if pretrained:\n",
        "    #     model_save_path = os.path.join(\"models\", \"vs_hail_mary.pth\")\n",
        "    #     model.load_state_dict(torch.load(model_save_path))\n",
        "    return model\n",
        "\n",
        "agent_learn1 = _get_agent()\n",
        "agent_learn2 = _get_agent()\n",
        "\n",
        "policy = MultiAgentPolicyManager([AlwaysPlay(), agent_learn2],  _get_env())\n",
        "\n",
        "train_envs = DummyVectorEnv([_get_env for _ in range(5)])\n",
        "test_envs = DummyVectorEnv([_get_env for _ in range(2)])\n",
        "train_envs.seed(seed)\n",
        "test_envs.seed(seed)\n",
        "\n",
        "# Step 4: Collector setup\n",
        "train_collector = Collector(\n",
        "    policy,\n",
        "    train_envs,\n",
        "    VectorReplayBuffer(20_000, len(train_envs)),\n",
        "    exploration_noise=True,\n",
        ")\n",
        "test_collector = Collector(policy, test_envs, exploration_noise=True)\n",
        "\n",
        "train_collector.collect(n_step=50)\n",
        "\n",
        "def save_best_fn(policy):\n",
        "    model_save_path1 = os.path.join(\"log\", \"hommul\", \"dqn\", \"policy1.pth\")\n",
        "    model_save_path2 = os.path.join(\"log\", \"hommul\", \"dqn\", \"policy2.pth\")\n",
        "    os.makedirs(os.path.join(\"log\", \"hommul\", \"dqn\"), exist_ok=True)\n",
        "    if not hasattr(policy.policies[agents[0]], 'nolearn'):\n",
        "        torch.save(policy.policies[agents[0]].state_dict(), model_save_path1)\n",
        "    if not hasattr(policy.policies[agents[1]], 'nolearn'):\n",
        "        torch.save(policy.policies[agents[1]].state_dict(), model_save_path2)\n",
        "\n",
        "def stop_fn(mean_rewards):\n",
        "    return mean_rewards >= 10\n",
        "\n",
        "def train_fn(epoch, env_step):\n",
        "    if not hasattr(policy.policies[agents[0]], 'nolearn'):\n",
        "        policy.policies[agents[0]].set_eps(0.1)\n",
        "\n",
        "    if not hasattr(policy.policies[agents[1]], 'nolearn'):\n",
        "        policy.policies[agents[1]].set_eps(0.1)\n",
        "\n",
        "def test_fn(epoch, env_step):\n",
        "    if not hasattr(policy.policies[agents[0]], 'nolearn'):\n",
        "        policy.policies[agents[0]].set_eps(0.05)\n",
        "\n",
        "    if not hasattr(policy.policies[agents[1]], 'nolearn'):\n",
        "        policy.policies[agents[1]].set_eps(0.05)\n",
        "\n",
        "def reward_metric(rews):\n",
        "    return rews[:, 1]"
      ],
      "metadata": {
        "id": "Z-AOFEZAcNGV"
      },
      "execution_count": 15,
      "outputs": []
    },
    {
      "cell_type": "code",
      "source": [
        "# clear logs and setup TBoard\n",
        "!rm -rf /content/HomMul/log\n",
        "\n",
        "log_path = os.path.join(\"log\", \"hommul\", \"dqn\")\n",
        "writer = SummaryWriter(log_path)\n",
        "logger = TensorboardLogger(writer)"
      ],
      "metadata": {
        "id": "t_dRm6ZTdV2v",
        "outputId": "a9538763-ca18-4697-be2c-a3feedf175bf",
        "colab": {
          "base_uri": "https://localhost:8080/"
        }
      },
      "execution_count": 16,
      "outputs": [
        {
          "output_type": "stream",
          "name": "stderr",
          "text": [
            "/usr/local/lib/python3.10/dist-packages/ipykernel/ipkernel.py:283: DeprecationWarning: `should_run_async` will not call `transform_cell` automatically in the future. Please pass the result to `transformed_cell` argument and any exception that happen during thetransform in `preprocessing_exc_tuple` in IPython 7.17 and above.\n",
            "  and should_run_async(code)\n"
          ]
        }
      ]
    },
    {
      "cell_type": "code",
      "source": [
        "# Step 5: Run trainer\n",
        "result = offpolicy_trainer(\n",
        "    policy=policy,\n",
        "    train_collector=train_collector,\n",
        "    test_collector=test_collector,\n",
        "    max_epoch=100,\n",
        "    step_per_epoch=1000,\n",
        "    step_per_collect=50,\n",
        "    episode_per_test=100,\n",
        "    batch_size=64,\n",
        "    train_fn=train_fn,\n",
        "    test_fn=test_fn,\n",
        "    stop_fn=stop_fn,\n",
        "    save_best_fn=save_best_fn,\n",
        "    update_per_step=0.1,\n",
        "    test_in_train=False,\n",
        "    reward_metric=reward_metric,\n",
        "    logger=logger\n",
        ")\n",
        "result"
      ],
      "metadata": {
        "id": "69UICm9_dwdD",
        "outputId": "8db178b5-dafb-4fc2-e6c5-6e6207e98b7e",
        "colab": {
          "base_uri": "https://localhost:8080/"
        }
      },
      "execution_count": 17,
      "outputs": [
        {
          "output_type": "stream",
          "name": "stderr",
          "text": [
            "Epoch #1: 1001it [00:01, 512.08it/s, env_step=1000, len=2, n/ep=17, n/st=50, player2/loss=0.296, rew=-0.47]                          \n"
          ]
        },
        {
          "output_type": "stream",
          "name": "stdout",
          "text": [
            "Epoch #1: test_reward: -0.300000 ± 0.458258, best_reward: -0.300000 ± 0.458258 in #1\n"
          ]
        },
        {
          "output_type": "stream",
          "name": "stderr",
          "text": [
            "Epoch #2: 1001it [00:00, 1168.43it/s, env_step=2000, len=3, n/ep=18, n/st=50, player2/loss=0.310, rew=-0.22]                          \n"
          ]
        },
        {
          "output_type": "stream",
          "name": "stdout",
          "text": [
            "Epoch #2: test_reward: -0.340000 ± 0.473709, best_reward: -0.300000 ± 0.458258 in #1\n"
          ]
        },
        {
          "output_type": "stream",
          "name": "stderr",
          "text": [
            "Epoch #3: 1001it [00:00, 1012.40it/s, env_step=3000, len=3, n/ep=16, n/st=50, player2/loss=0.368, rew=-0.31]\n"
          ]
        },
        {
          "output_type": "stream",
          "name": "stdout",
          "text": [
            "Epoch #3: test_reward: -0.310000 ± 0.462493, best_reward: -0.300000 ± 0.458258 in #1\n"
          ]
        },
        {
          "output_type": "stream",
          "name": "stderr",
          "text": [
            "Epoch #4: 1001it [00:01, 872.37it/s, env_step=4000, len=3, n/ep=18, n/st=50, player2/loss=0.449, rew=-0.22]                          \n"
          ]
        },
        {
          "output_type": "stream",
          "name": "stdout",
          "text": [
            "Epoch #4: test_reward: -0.300000 ± 0.458258, best_reward: -0.300000 ± 0.458258 in #1\n"
          ]
        },
        {
          "output_type": "stream",
          "name": "stderr",
          "text": [
            "Epoch #5: 1001it [00:01, 994.11it/s, env_step=5000, len=2, n/ep=17, n/st=50, player2/loss=0.518, rew=-0.24]                           \n"
          ]
        },
        {
          "output_type": "stream",
          "name": "stdout",
          "text": [
            "Epoch #5: test_reward: -0.330000 ± 0.470213, best_reward: -0.300000 ± 0.458258 in #1\n"
          ]
        },
        {
          "output_type": "stream",
          "name": "stderr",
          "text": [
            "Epoch #6: 1001it [00:00, 1190.86it/s, env_step=6000, len=2, n/ep=17, n/st=50, player2/loss=0.620, rew=-0.53]                          \n"
          ]
        },
        {
          "output_type": "stream",
          "name": "stdout",
          "text": [
            "Epoch #6: test_reward: -0.320000 ± 0.466476, best_reward: -0.300000 ± 0.458258 in #1\n"
          ]
        },
        {
          "output_type": "stream",
          "name": "stderr",
          "text": [
            "Epoch #7: 1001it [00:00, 1203.71it/s, env_step=7000, len=3, n/ep=18, n/st=50, player2/loss=0.761, rew=-0.39]                          \n"
          ]
        },
        {
          "output_type": "stream",
          "name": "stdout",
          "text": [
            "Epoch #7: test_reward: -0.380000 ± 0.485386, best_reward: -0.300000 ± 0.458258 in #1\n"
          ]
        },
        {
          "output_type": "stream",
          "name": "stderr",
          "text": [
            "Epoch #8: 1001it [00:00, 1195.46it/s, env_step=8000, len=3, n/ep=16, n/st=50, player2/loss=0.798, rew=-0.44]                          \n"
          ]
        },
        {
          "output_type": "stream",
          "name": "stdout",
          "text": [
            "Epoch #8: test_reward: -0.300000 ± 0.458258, best_reward: -0.300000 ± 0.458258 in #1\n"
          ]
        },
        {
          "output_type": "stream",
          "name": "stderr",
          "text": [
            "Epoch #9: 1001it [00:00, 1188.19it/s, env_step=9000, len=2, n/ep=17, n/st=50, player2/loss=0.943, rew=-0.35]                          \n"
          ]
        },
        {
          "output_type": "stream",
          "name": "stdout",
          "text": [
            "Epoch #9: test_reward: -0.340000 ± 0.473709, best_reward: -0.300000 ± 0.458258 in #1\n"
          ]
        },
        {
          "output_type": "stream",
          "name": "stderr",
          "text": [
            "Epoch #10: 1001it [00:00, 1179.72it/s, env_step=10000, len=2, n/ep=19, n/st=50, player2/loss=1.014, rew=-0.26]                          \n"
          ]
        },
        {
          "output_type": "stream",
          "name": "stdout",
          "text": [
            "Epoch #10: test_reward: -0.340000 ± 0.473709, best_reward: -0.300000 ± 0.458258 in #1\n"
          ]
        },
        {
          "output_type": "stream",
          "name": "stderr",
          "text": [
            "Epoch #11: 1001it [00:00, 1164.32it/s, env_step=11000, len=3, n/ep=16, n/st=50, player2/loss=1.155, rew=-0.56]                          \n"
          ]
        },
        {
          "output_type": "stream",
          "name": "stdout",
          "text": [
            "Epoch #11: test_reward: -0.380000 ± 0.485386, best_reward: -0.300000 ± 0.458258 in #1\n"
          ]
        },
        {
          "output_type": "stream",
          "name": "stderr",
          "text": [
            "Epoch #12: 1001it [00:00, 1158.51it/s, env_step=12000, len=2, n/ep=17, n/st=50, player2/loss=1.129, rew=-0.24]                          \n"
          ]
        },
        {
          "output_type": "stream",
          "name": "stdout",
          "text": [
            "Epoch #12: test_reward: -0.330000 ± 0.470213, best_reward: -0.300000 ± 0.458258 in #1\n"
          ]
        },
        {
          "output_type": "stream",
          "name": "stderr",
          "text": [
            "Epoch #13: 1001it [00:00, 1202.62it/s, env_step=13000, len=3, n/ep=16, n/st=50, player2/loss=1.285, rew=-0.31]                          \n"
          ]
        },
        {
          "output_type": "stream",
          "name": "stdout",
          "text": [
            "Epoch #13: test_reward: -0.350000 ± 0.476970, best_reward: -0.300000 ± 0.458258 in #1\n"
          ]
        },
        {
          "output_type": "stream",
          "name": "stderr",
          "text": [
            "Epoch #14: 1001it [00:00, 1162.14it/s, env_step=14000, len=2, n/ep=17, n/st=50, player2/loss=1.210, rew=-0.24]                          \n"
          ]
        },
        {
          "output_type": "stream",
          "name": "stdout",
          "text": [
            "Epoch #14: test_reward: -0.310000 ± 0.462493, best_reward: -0.300000 ± 0.458258 in #1\n"
          ]
        },
        {
          "output_type": "stream",
          "name": "stderr",
          "text": [
            "Epoch #15: 1001it [00:01, 881.66it/s, env_step=15000, len=3, n/ep=14, n/st=50, player2/loss=1.289, rew=-0.50]                          \n"
          ]
        },
        {
          "output_type": "stream",
          "name": "stdout",
          "text": [
            "Epoch #15: test_reward: -0.350000 ± 0.476970, best_reward: -0.300000 ± 0.458258 in #1\n"
          ]
        },
        {
          "output_type": "stream",
          "name": "stderr",
          "text": [
            "Epoch #16: 1001it [00:01, 859.81it/s, env_step=16000, len=3, n/ep=15, n/st=50, player2/loss=1.311, rew=-0.47]                          \n"
          ]
        },
        {
          "output_type": "stream",
          "name": "stdout",
          "text": [
            "Epoch #16: test_reward: -0.390000 ± 0.487750, best_reward: -0.300000 ± 0.458258 in #1\n"
          ]
        },
        {
          "output_type": "stream",
          "name": "stderr",
          "text": [
            "Epoch #17: 1001it [00:00, 1174.03it/s, env_step=17000, len=2, n/ep=18, n/st=50, player2/loss=1.394, rew=-0.17]                          \n"
          ]
        },
        {
          "output_type": "stream",
          "name": "stdout",
          "text": [
            "Epoch #17: test_reward: -0.370000 ± 0.482804, best_reward: -0.300000 ± 0.458258 in #1\n"
          ]
        },
        {
          "output_type": "stream",
          "name": "stderr",
          "text": [
            "Epoch #18: 1001it [00:00, 1192.22it/s, env_step=18000, len=2, n/ep=16, n/st=50, player2/loss=1.258, rew=-0.44]                          \n"
          ]
        },
        {
          "output_type": "stream",
          "name": "stdout",
          "text": [
            "Epoch #18: test_reward: -0.280000 ± 0.448999, best_reward: -0.280000 ± 0.448999 in #18\n"
          ]
        },
        {
          "output_type": "stream",
          "name": "stderr",
          "text": [
            "Epoch #19: 1001it [00:00, 1163.97it/s, env_step=19000, len=2, n/ep=17, n/st=50, player2/loss=1.394, rew=-0.18]                          \n"
          ]
        },
        {
          "output_type": "stream",
          "name": "stdout",
          "text": [
            "Epoch #19: test_reward: -0.350000 ± 0.476970, best_reward: -0.280000 ± 0.448999 in #18\n"
          ]
        },
        {
          "output_type": "stream",
          "name": "stderr",
          "text": [
            "Epoch #20: 1001it [00:00, 1175.36it/s, env_step=20000, len=3, n/ep=16, n/st=50, player2/loss=1.386, rew=-0.38]                          \n"
          ]
        },
        {
          "output_type": "stream",
          "name": "stdout",
          "text": [
            "Epoch #20: test_reward: -0.350000 ± 0.476970, best_reward: -0.280000 ± 0.448999 in #18\n"
          ]
        },
        {
          "output_type": "stream",
          "name": "stderr",
          "text": [
            "Epoch #21: 1001it [00:00, 1180.31it/s, env_step=21000, len=3, n/ep=17, n/st=50, player2/loss=1.450, rew=-0.29]                          \n"
          ]
        },
        {
          "output_type": "stream",
          "name": "stdout",
          "text": [
            "Epoch #21: test_reward: -0.420000 ± 0.493559, best_reward: -0.280000 ± 0.448999 in #18\n"
          ]
        },
        {
          "output_type": "stream",
          "name": "stderr",
          "text": [
            "Epoch #22: 1001it [00:00, 1169.25it/s, env_step=22000, len=3, n/ep=16, n/st=50, player2/loss=1.637, rew=-0.38]                          \n"
          ]
        },
        {
          "output_type": "stream",
          "name": "stdout",
          "text": [
            "Epoch #22: test_reward: -0.390000 ± 0.487750, best_reward: -0.280000 ± 0.448999 in #18\n"
          ]
        },
        {
          "output_type": "stream",
          "name": "stderr",
          "text": [
            "Epoch #23: 1001it [00:00, 1148.15it/s, env_step=23000, len=3, n/ep=16, n/st=50, player2/loss=1.605, rew=-0.38]                          \n"
          ]
        },
        {
          "output_type": "stream",
          "name": "stdout",
          "text": [
            "Epoch #23: test_reward: -0.410000 ± 0.491833, best_reward: -0.280000 ± 0.448999 in #18\n"
          ]
        },
        {
          "output_type": "stream",
          "name": "stderr",
          "text": [
            "Epoch #24: 1001it [00:00, 1201.15it/s, env_step=24000, len=3, n/ep=16, n/st=50, player2/loss=1.590, rew=-0.31]                          \n"
          ]
        },
        {
          "output_type": "stream",
          "name": "stdout",
          "text": [
            "Epoch #24: test_reward: -0.300000 ± 0.458258, best_reward: -0.280000 ± 0.448999 in #18\n"
          ]
        },
        {
          "output_type": "stream",
          "name": "stderr",
          "text": [
            "Epoch #25: 1001it [00:00, 1177.29it/s, env_step=25000, len=2, n/ep=18, n/st=50, player2/loss=1.471, rew=-0.17]                          \n"
          ]
        },
        {
          "output_type": "stream",
          "name": "stdout",
          "text": [
            "Epoch #25: test_reward: -0.340000 ± 0.473709, best_reward: -0.280000 ± 0.448999 in #18\n"
          ]
        },
        {
          "output_type": "stream",
          "name": "stderr",
          "text": [
            "Epoch #26: 1001it [00:01, 991.39it/s, env_step=26000, len=3, n/ep=15, n/st=50, player2/loss=1.484, rew=-0.13]                          \n"
          ]
        },
        {
          "output_type": "stream",
          "name": "stdout",
          "text": [
            "Epoch #26: test_reward: -0.360000 ± 0.480000, best_reward: -0.280000 ± 0.448999 in #18\n"
          ]
        },
        {
          "output_type": "stream",
          "name": "stderr",
          "text": [
            "Epoch #27: 1001it [00:01, 862.42it/s, env_step=27000, len=2, n/ep=18, n/st=50, player2/loss=1.460, rew=-0.39]                          \n"
          ]
        },
        {
          "output_type": "stream",
          "name": "stdout",
          "text": [
            "Epoch #27: test_reward: -0.330000 ± 0.470213, best_reward: -0.280000 ± 0.448999 in #18\n"
          ]
        },
        {
          "output_type": "stream",
          "name": "stderr",
          "text": [
            "Epoch #28: 1001it [00:00, 1008.70it/s, env_step=28000, len=3, n/ep=17, n/st=50, player2/loss=1.543, rew=-0.29]                          \n"
          ]
        },
        {
          "output_type": "stream",
          "name": "stdout",
          "text": [
            "Epoch #28: test_reward: -0.330000 ± 0.470213, best_reward: -0.280000 ± 0.448999 in #18\n"
          ]
        },
        {
          "output_type": "stream",
          "name": "stderr",
          "text": [
            "Epoch #29: 1001it [00:00, 1179.24it/s, env_step=29000, len=2, n/ep=16, n/st=50, player2/loss=1.429, rew=-0.31]                          \n"
          ]
        },
        {
          "output_type": "stream",
          "name": "stdout",
          "text": [
            "Epoch #29: test_reward: -0.300000 ± 0.458258, best_reward: -0.280000 ± 0.448999 in #18\n"
          ]
        },
        {
          "output_type": "stream",
          "name": "stderr",
          "text": [
            "Epoch #30: 1001it [00:00, 1159.34it/s, env_step=30000, len=2, n/ep=19, n/st=50, player2/loss=1.445, rew=-0.53]                          \n"
          ]
        },
        {
          "output_type": "stream",
          "name": "stdout",
          "text": [
            "Epoch #30: test_reward: -0.310000 ± 0.462493, best_reward: -0.280000 ± 0.448999 in #18\n"
          ]
        },
        {
          "output_type": "stream",
          "name": "stderr",
          "text": [
            "Epoch #31: 1001it [00:00, 1185.05it/s, env_step=31000, len=3, n/ep=15, n/st=50, player2/loss=1.425, rew=-0.47]                          \n"
          ]
        },
        {
          "output_type": "stream",
          "name": "stdout",
          "text": [
            "Epoch #31: test_reward: -0.330000 ± 0.470213, best_reward: -0.280000 ± 0.448999 in #18\n"
          ]
        },
        {
          "output_type": "stream",
          "name": "stderr",
          "text": [
            "Epoch #32: 1001it [00:00, 1164.73it/s, env_step=32000, len=2, n/ep=17, n/st=50, player2/loss=1.372, rew=-0.29]                          \n"
          ]
        },
        {
          "output_type": "stream",
          "name": "stdout",
          "text": [
            "Epoch #32: test_reward: -0.300000 ± 0.458258, best_reward: -0.280000 ± 0.448999 in #18\n"
          ]
        },
        {
          "output_type": "stream",
          "name": "stderr",
          "text": [
            "Epoch #33: 1001it [00:00, 1184.06it/s, env_step=33000, len=2, n/ep=18, n/st=50, player2/loss=1.338, rew=-0.17]                          \n"
          ]
        },
        {
          "output_type": "stream",
          "name": "stdout",
          "text": [
            "Epoch #33: test_reward: -0.400000 ± 0.489898, best_reward: -0.280000 ± 0.448999 in #18\n"
          ]
        },
        {
          "output_type": "stream",
          "name": "stderr",
          "text": [
            "Epoch #34: 1001it [00:00, 1183.04it/s, env_step=34000, len=3, n/ep=15, n/st=50, player2/loss=1.456, rew=-0.47]                          \n"
          ]
        },
        {
          "output_type": "stream",
          "name": "stdout",
          "text": [
            "Epoch #34: test_reward: -0.450000 ± 0.497494, best_reward: -0.280000 ± 0.448999 in #18\n"
          ]
        },
        {
          "output_type": "stream",
          "name": "stderr",
          "text": [
            "Epoch #35: 1001it [00:00, 1175.99it/s, env_step=35000, len=3, n/ep=15, n/st=50, player2/loss=1.486, rew=-0.40]                          \n"
          ]
        },
        {
          "output_type": "stream",
          "name": "stdout",
          "text": [
            "Epoch #35: test_reward: -0.330000 ± 0.470213, best_reward: -0.280000 ± 0.448999 in #18\n"
          ]
        },
        {
          "output_type": "stream",
          "name": "stderr",
          "text": [
            "Epoch #36: 1001it [00:00, 1179.56it/s, env_step=36000, len=2, n/ep=17, n/st=50, player2/loss=1.412, rew=-0.24]                          \n"
          ]
        },
        {
          "output_type": "stream",
          "name": "stdout",
          "text": [
            "Epoch #36: test_reward: -0.280000 ± 0.448999, best_reward: -0.280000 ± 0.448999 in #18\n"
          ]
        },
        {
          "output_type": "stream",
          "name": "stderr",
          "text": [
            "Epoch #37: 1001it [00:00, 1230.67it/s, env_step=37000, len=3, n/ep=17, n/st=50, player2/loss=1.543, rew=-0.18]                          \n"
          ]
        },
        {
          "output_type": "stream",
          "name": "stdout",
          "text": [
            "Epoch #37: test_reward: -0.340000 ± 0.473709, best_reward: -0.280000 ± 0.448999 in #18\n"
          ]
        },
        {
          "output_type": "stream",
          "name": "stderr",
          "text": [
            "Epoch #38: 1001it [00:01, 907.35it/s, env_step=38000, len=3, n/ep=16, n/st=50, player2/loss=1.490, rew=-0.62]                          \n"
          ]
        },
        {
          "output_type": "stream",
          "name": "stdout",
          "text": [
            "Epoch #38: test_reward: -0.370000 ± 0.482804, best_reward: -0.280000 ± 0.448999 in #18\n"
          ]
        },
        {
          "output_type": "stream",
          "name": "stderr",
          "text": [
            "Epoch #39: 1001it [00:01, 865.28it/s, env_step=39000, len=2, n/ep=18, n/st=50, player2/loss=1.466, rew=-0.17]                          \n"
          ]
        },
        {
          "output_type": "stream",
          "name": "stdout",
          "text": [
            "Epoch #39: test_reward: -0.360000 ± 0.480000, best_reward: -0.280000 ± 0.448999 in #18\n"
          ]
        },
        {
          "output_type": "stream",
          "name": "stderr",
          "text": [
            "Epoch #40: 1001it [00:00, 1172.40it/s, env_step=40000, len=3, n/ep=17, n/st=50, player2/loss=1.467, rew=-0.29]                          \n"
          ]
        },
        {
          "output_type": "stream",
          "name": "stdout",
          "text": [
            "Epoch #40: test_reward: -0.340000 ± 0.473709, best_reward: -0.280000 ± 0.448999 in #18\n"
          ]
        },
        {
          "output_type": "stream",
          "name": "stderr",
          "text": [
            "Epoch #41: 1001it [00:00, 1158.70it/s, env_step=41000, len=2, n/ep=18, n/st=50, player2/loss=1.696, rew=-0.33]                          \n"
          ]
        },
        {
          "output_type": "stream",
          "name": "stdout",
          "text": [
            "Epoch #41: test_reward: -0.350000 ± 0.476970, best_reward: -0.280000 ± 0.448999 in #18\n"
          ]
        },
        {
          "output_type": "stream",
          "name": "stderr",
          "text": [
            "Epoch #42: 1001it [00:00, 1192.48it/s, env_step=42000, len=3, n/ep=15, n/st=50, player2/loss=1.447, rew=-0.07]                          \n"
          ]
        },
        {
          "output_type": "stream",
          "name": "stdout",
          "text": [
            "Epoch #42: test_reward: -0.390000 ± 0.487750, best_reward: -0.280000 ± 0.448999 in #18\n"
          ]
        },
        {
          "output_type": "stream",
          "name": "stderr",
          "text": [
            "Epoch #43: 1001it [00:00, 1155.68it/s, env_step=43000, len=3, n/ep=18, n/st=50, player2/loss=1.432, rew=-0.33]                          \n"
          ]
        },
        {
          "output_type": "stream",
          "name": "stdout",
          "text": [
            "Epoch #43: test_reward: -0.290000 ± 0.453762, best_reward: -0.280000 ± 0.448999 in #18\n"
          ]
        },
        {
          "output_type": "stream",
          "name": "stderr",
          "text": [
            "Epoch #44: 1001it [00:00, 1173.17it/s, env_step=44000, len=3, n/ep=14, n/st=50, player2/loss=1.422, rew=-0.50]                          \n"
          ]
        },
        {
          "output_type": "stream",
          "name": "stdout",
          "text": [
            "Epoch #44: test_reward: -0.330000 ± 0.470213, best_reward: -0.280000 ± 0.448999 in #18\n"
          ]
        },
        {
          "output_type": "stream",
          "name": "stderr",
          "text": [
            "Epoch #45: 1001it [00:00, 1176.62it/s, env_step=45000, len=3, n/ep=18, n/st=50, player2/loss=1.484, rew=-0.39]                          \n"
          ]
        },
        {
          "output_type": "stream",
          "name": "stdout",
          "text": [
            "Epoch #45: test_reward: -0.290000 ± 0.453762, best_reward: -0.280000 ± 0.448999 in #18\n"
          ]
        },
        {
          "output_type": "stream",
          "name": "stderr",
          "text": [
            "Epoch #46: 1001it [00:00, 1150.64it/s, env_step=46000, len=3, n/ep=16, n/st=50, player2/loss=1.480, rew=-0.31]                          \n"
          ]
        },
        {
          "output_type": "stream",
          "name": "stdout",
          "text": [
            "Epoch #46: test_reward: -0.320000 ± 0.466476, best_reward: -0.280000 ± 0.448999 in #18\n"
          ]
        },
        {
          "output_type": "stream",
          "name": "stderr",
          "text": [
            "Epoch #47: 1001it [00:00, 1199.15it/s, env_step=47000, len=3, n/ep=13, n/st=50, player2/loss=1.508, rew=-0.38]                          \n"
          ]
        },
        {
          "output_type": "stream",
          "name": "stdout",
          "text": [
            "Epoch #47: test_reward: -0.380000 ± 0.485386, best_reward: -0.280000 ± 0.448999 in #18\n"
          ]
        },
        {
          "output_type": "stream",
          "name": "stderr",
          "text": [
            "Epoch #48: 1001it [00:00, 1191.68it/s, env_step=48000, len=3, n/ep=15, n/st=50, player2/loss=1.511, rew=-0.47]                          \n"
          ]
        },
        {
          "output_type": "stream",
          "name": "stdout",
          "text": [
            "Epoch #48: test_reward: -0.320000 ± 0.466476, best_reward: -0.280000 ± 0.448999 in #18\n"
          ]
        },
        {
          "output_type": "stream",
          "name": "stderr",
          "text": [
            "Epoch #49: 1001it [00:00, 1020.58it/s, env_step=49000, len=3, n/ep=17, n/st=50, player2/loss=1.385, rew=-0.41]                         \n"
          ]
        },
        {
          "output_type": "stream",
          "name": "stdout",
          "text": [
            "Epoch #49: test_reward: -0.330000 ± 0.470213, best_reward: -0.280000 ± 0.448999 in #18\n"
          ]
        },
        {
          "output_type": "stream",
          "name": "stderr",
          "text": [
            "Epoch #50: 1001it [00:01, 882.04it/s, env_step=50000, len=2, n/ep=17, n/st=50, player2/loss=1.397, rew=-0.29]                          \n"
          ]
        },
        {
          "output_type": "stream",
          "name": "stdout",
          "text": [
            "Epoch #50: test_reward: -0.340000 ± 0.473709, best_reward: -0.280000 ± 0.448999 in #18\n"
          ]
        },
        {
          "output_type": "stream",
          "name": "stderr",
          "text": [
            "Epoch #51: 1001it [00:01, 979.57it/s, env_step=51000, len=3, n/ep=15, n/st=50, player2/loss=1.403, rew=-0.47]                           \n"
          ]
        },
        {
          "output_type": "stream",
          "name": "stdout",
          "text": [
            "Epoch #51: test_reward: -0.300000 ± 0.458258, best_reward: -0.280000 ± 0.448999 in #18\n"
          ]
        },
        {
          "output_type": "stream",
          "name": "stderr",
          "text": [
            "Epoch #52: 1001it [00:00, 1184.20it/s, env_step=52000, len=3, n/ep=18, n/st=50, player2/loss=1.449, rew=-0.33]                          \n"
          ]
        },
        {
          "output_type": "stream",
          "name": "stdout",
          "text": [
            "Epoch #52: test_reward: -0.300000 ± 0.458258, best_reward: -0.280000 ± 0.448999 in #18\n"
          ]
        },
        {
          "output_type": "stream",
          "name": "stderr",
          "text": [
            "Epoch #53: 1001it [00:00, 1160.15it/s, env_step=53000, len=3, n/ep=18, n/st=50, player2/loss=1.510, rew=-0.33]                          \n"
          ]
        },
        {
          "output_type": "stream",
          "name": "stdout",
          "text": [
            "Epoch #53: test_reward: -0.350000 ± 0.476970, best_reward: -0.280000 ± 0.448999 in #18\n"
          ]
        },
        {
          "output_type": "stream",
          "name": "stderr",
          "text": [
            "Epoch #54: 1001it [00:00, 1138.84it/s, env_step=54000, len=2, n/ep=17, n/st=50, player2/loss=1.440, rew=-0.18]                          \n"
          ]
        },
        {
          "output_type": "stream",
          "name": "stdout",
          "text": [
            "Epoch #54: test_reward: -0.410000 ± 0.491833, best_reward: -0.280000 ± 0.448999 in #18\n"
          ]
        },
        {
          "output_type": "stream",
          "name": "stderr",
          "text": [
            "Epoch #55: 1001it [00:01, 875.73it/s, env_step=55000, len=3, n/ep=15, n/st=50, player2/loss=1.467, rew=-0.40]\n"
          ]
        },
        {
          "output_type": "stream",
          "name": "stdout",
          "text": [
            "Epoch #55: test_reward: -0.320000 ± 0.466476, best_reward: -0.280000 ± 0.448999 in #18\n"
          ]
        },
        {
          "output_type": "stream",
          "name": "stderr",
          "text": [
            "Epoch #56: 1001it [00:01, 833.71it/s, env_step=56000, len=2, n/ep=18, n/st=50, player2/loss=1.381, rew=-0.56]\n"
          ]
        },
        {
          "output_type": "stream",
          "name": "stdout",
          "text": [
            "Epoch #56: test_reward: -0.370000 ± 0.482804, best_reward: -0.280000 ± 0.448999 in #18\n"
          ]
        },
        {
          "output_type": "stream",
          "name": "stderr",
          "text": [
            "Epoch #57: 1001it [00:01, 948.15it/s, env_step=57000, len=3, n/ep=16, n/st=50, player2/loss=1.407, rew=-0.56]                           \n"
          ]
        },
        {
          "output_type": "stream",
          "name": "stdout",
          "text": [
            "Epoch #57: test_reward: -0.270000 ± 0.443959, best_reward: -0.270000 ± 0.443959 in #57\n"
          ]
        },
        {
          "output_type": "stream",
          "name": "stderr",
          "text": [
            "Epoch #58: 1001it [00:00, 1165.96it/s, env_step=58000, len=2, n/ep=16, n/st=50, player2/loss=1.430, rew=-0.19]                          \n"
          ]
        },
        {
          "output_type": "stream",
          "name": "stdout",
          "text": [
            "Epoch #58: test_reward: -0.440000 ± 0.496387, best_reward: -0.270000 ± 0.443959 in #57\n"
          ]
        },
        {
          "output_type": "stream",
          "name": "stderr",
          "text": [
            "Epoch #59: 1001it [00:00, 1168.78it/s, env_step=59000, len=3, n/ep=16, n/st=50, player2/loss=1.339, rew=-0.25]                          \n"
          ]
        },
        {
          "output_type": "stream",
          "name": "stdout",
          "text": [
            "Epoch #59: test_reward: -0.300000 ± 0.458258, best_reward: -0.270000 ± 0.443959 in #57\n"
          ]
        },
        {
          "output_type": "stream",
          "name": "stderr",
          "text": [
            "Epoch #60: 1001it [00:01, 885.12it/s, env_step=60000, len=2, n/ep=14, n/st=50, player2/loss=1.271, rew=-0.21]                          \n"
          ]
        },
        {
          "output_type": "stream",
          "name": "stdout",
          "text": [
            "Epoch #60: test_reward: -0.290000 ± 0.453762, best_reward: -0.270000 ± 0.443959 in #57\n"
          ]
        },
        {
          "output_type": "stream",
          "name": "stderr",
          "text": [
            "Epoch #61: 1001it [00:01, 845.22it/s, env_step=61000, len=3, n/ep=16, n/st=50, player2/loss=1.263, rew=-0.19]                          \n"
          ]
        },
        {
          "output_type": "stream",
          "name": "stdout",
          "text": [
            "Epoch #61: test_reward: -0.260000 ± 0.438634, best_reward: -0.260000 ± 0.438634 in #61\n"
          ]
        },
        {
          "output_type": "stream",
          "name": "stderr",
          "text": [
            "Epoch #62: 1001it [00:00, 1187.66it/s, env_step=62000, len=3, n/ep=14, n/st=50, player2/loss=1.232, rew=-0.21]                          \n"
          ]
        },
        {
          "output_type": "stream",
          "name": "stdout",
          "text": [
            "Epoch #62: test_reward: -0.360000 ± 0.480000, best_reward: -0.260000 ± 0.438634 in #61\n"
          ]
        },
        {
          "output_type": "stream",
          "name": "stderr",
          "text": [
            "Epoch #63: 1001it [00:00, 1197.53it/s, env_step=63000, len=2, n/ep=16, n/st=50, player2/loss=1.228, rew=-0.19]                          \n"
          ]
        },
        {
          "output_type": "stream",
          "name": "stdout",
          "text": [
            "Epoch #63: test_reward: -0.270000 ± 0.443959, best_reward: -0.260000 ± 0.438634 in #61\n"
          ]
        },
        {
          "output_type": "stream",
          "name": "stderr",
          "text": [
            "Epoch #64: 1001it [00:00, 1177.89it/s, env_step=64000, len=3, n/ep=16, n/st=50, player2/loss=1.254, rew=-0.25]                          \n"
          ]
        },
        {
          "output_type": "stream",
          "name": "stdout",
          "text": [
            "Epoch #64: test_reward: -0.300000 ± 0.458258, best_reward: -0.260000 ± 0.438634 in #61\n"
          ]
        },
        {
          "output_type": "stream",
          "name": "stderr",
          "text": [
            "Epoch #65: 1001it [00:00, 1182.40it/s, env_step=65000, len=3, n/ep=15, n/st=50, player2/loss=1.192, rew=-0.20]                          \n"
          ]
        },
        {
          "output_type": "stream",
          "name": "stdout",
          "text": [
            "Epoch #65: test_reward: -0.210000 ± 0.407308, best_reward: -0.210000 ± 0.407308 in #65\n"
          ]
        },
        {
          "output_type": "stream",
          "name": "stderr",
          "text": [
            "Epoch #66: 1001it [00:00, 1190.02it/s, env_step=66000, len=3, n/ep=15, n/st=50, player2/loss=1.107, rew=-0.40]                          \n"
          ]
        },
        {
          "output_type": "stream",
          "name": "stdout",
          "text": [
            "Epoch #66: test_reward: -0.260000 ± 0.438634, best_reward: -0.210000 ± 0.407308 in #65\n"
          ]
        },
        {
          "output_type": "stream",
          "name": "stderr",
          "text": [
            "Epoch #67: 1001it [00:00, 1207.60it/s, env_step=67000, len=3, n/ep=14, n/st=50, player2/loss=1.035, rew=-0.29]                          \n"
          ]
        },
        {
          "output_type": "stream",
          "name": "stdout",
          "text": [
            "Epoch #67: test_reward: -0.330000 ± 0.470213, best_reward: -0.210000 ± 0.407308 in #65\n"
          ]
        },
        {
          "output_type": "stream",
          "name": "stderr",
          "text": [
            "Epoch #68: 1001it [00:00, 1181.55it/s, env_step=68000, len=2, n/ep=18, n/st=50, player2/loss=1.031, rew=-0.22]                          \n"
          ]
        },
        {
          "output_type": "stream",
          "name": "stdout",
          "text": [
            "Epoch #68: test_reward: -0.300000 ± 0.458258, best_reward: -0.210000 ± 0.407308 in #65\n"
          ]
        },
        {
          "output_type": "stream",
          "name": "stderr",
          "text": [
            "Epoch #69: 1001it [00:00, 1189.71it/s, env_step=69000, len=3, n/ep=15, n/st=50, player2/loss=1.083, rew=-0.40]                          \n"
          ]
        },
        {
          "output_type": "stream",
          "name": "stdout",
          "text": [
            "Epoch #69: test_reward: -0.300000 ± 0.458258, best_reward: -0.210000 ± 0.407308 in #65\n"
          ]
        },
        {
          "output_type": "stream",
          "name": "stderr",
          "text": [
            "Epoch #70: 1001it [00:00, 1198.83it/s, env_step=70000, len=2, n/ep=20, n/st=50, player2/loss=1.104, rew=-0.20]                          \n"
          ]
        },
        {
          "output_type": "stream",
          "name": "stdout",
          "text": [
            "Epoch #70: test_reward: -0.300000 ± 0.458258, best_reward: -0.210000 ± 0.407308 in #65\n"
          ]
        },
        {
          "output_type": "stream",
          "name": "stderr",
          "text": [
            "Epoch #71: 1001it [00:00, 1042.78it/s, env_step=71000, len=3, n/ep=15, n/st=50, player2/loss=1.054, rew=-0.20]                         \n"
          ]
        },
        {
          "output_type": "stream",
          "name": "stdout",
          "text": [
            "Epoch #71: test_reward: -0.280000 ± 0.448999, best_reward: -0.210000 ± 0.407308 in #65\n"
          ]
        },
        {
          "output_type": "stream",
          "name": "stderr",
          "text": [
            "Epoch #72: 1001it [00:01, 863.41it/s, env_step=72000, len=2, n/ep=19, n/st=50, player2/loss=1.079, rew=-0.11]                          \n"
          ]
        },
        {
          "output_type": "stream",
          "name": "stdout",
          "text": [
            "Epoch #72: test_reward: -0.220000 ± 0.414246, best_reward: -0.210000 ± 0.407308 in #65\n"
          ]
        },
        {
          "output_type": "stream",
          "name": "stderr",
          "text": [
            "Epoch #73: 1001it [00:01, 956.44it/s, env_step=73000, len=3, n/ep=16, n/st=50, player2/loss=1.097, rew=-0.12]                           \n"
          ]
        },
        {
          "output_type": "stream",
          "name": "stdout",
          "text": [
            "Epoch #73: test_reward: -0.320000 ± 0.466476, best_reward: -0.210000 ± 0.407308 in #65\n"
          ]
        },
        {
          "output_type": "stream",
          "name": "stderr",
          "text": [
            "Epoch #74: 1001it [00:00, 1188.54it/s, env_step=74000, len=3, n/ep=17, n/st=50, player2/loss=1.112, rew=-0.24]                          \n"
          ]
        },
        {
          "output_type": "stream",
          "name": "stdout",
          "text": [
            "Epoch #74: test_reward: -0.320000 ± 0.466476, best_reward: -0.210000 ± 0.407308 in #65\n"
          ]
        },
        {
          "output_type": "stream",
          "name": "stderr",
          "text": [
            "Epoch #75: 1001it [00:00, 1135.49it/s, env_step=75000, len=2, n/ep=16, n/st=50, player2/loss=1.107, rew=-0.12]                          \n"
          ]
        },
        {
          "output_type": "stream",
          "name": "stdout",
          "text": [
            "Epoch #75: test_reward: -0.310000 ± 0.462493, best_reward: -0.210000 ± 0.407308 in #65\n"
          ]
        },
        {
          "output_type": "stream",
          "name": "stderr",
          "text": [
            "Epoch #76: 1001it [00:00, 1162.90it/s, env_step=76000, len=3, n/ep=17, n/st=50, player2/loss=1.058, rew=-0.18]                          \n"
          ]
        },
        {
          "output_type": "stream",
          "name": "stdout",
          "text": [
            "Epoch #76: test_reward: -0.270000 ± 0.443959, best_reward: -0.210000 ± 0.407308 in #65\n"
          ]
        },
        {
          "output_type": "stream",
          "name": "stderr",
          "text": [
            "Epoch #77: 1001it [00:00, 1167.42it/s, env_step=77000, len=3, n/ep=18, n/st=50, player2/loss=1.076, rew=-0.22]                          \n"
          ]
        },
        {
          "output_type": "stream",
          "name": "stdout",
          "text": [
            "Epoch #77: test_reward: -0.210000 ± 0.407308, best_reward: -0.210000 ± 0.407308 in #65\n"
          ]
        },
        {
          "output_type": "stream",
          "name": "stderr",
          "text": [
            "Epoch #78: 1001it [00:00, 1169.54it/s, env_step=78000, len=3, n/ep=15, n/st=50, player2/loss=1.094, rew=-0.33]                          \n"
          ]
        },
        {
          "output_type": "stream",
          "name": "stdout",
          "text": [
            "Epoch #78: test_reward: -0.300000 ± 0.458258, best_reward: -0.210000 ± 0.407308 in #65\n"
          ]
        },
        {
          "output_type": "stream",
          "name": "stderr",
          "text": [
            "Epoch #79: 1001it [00:00, 1152.61it/s, env_step=79000, len=3, n/ep=14, n/st=50, player2/loss=1.073, rew=-0.29]                          \n"
          ]
        },
        {
          "output_type": "stream",
          "name": "stdout",
          "text": [
            "Epoch #79: test_reward: -0.260000 ± 0.438634, best_reward: -0.210000 ± 0.407308 in #65\n"
          ]
        },
        {
          "output_type": "stream",
          "name": "stderr",
          "text": [
            "Epoch #80: 1001it [00:00, 1173.74it/s, env_step=80000, len=2, n/ep=16, n/st=50, player2/loss=1.113, rew=-0.25]                          \n"
          ]
        },
        {
          "output_type": "stream",
          "name": "stdout",
          "text": [
            "Epoch #80: test_reward: -0.240000 ± 0.427083, best_reward: -0.210000 ± 0.407308 in #65\n"
          ]
        },
        {
          "output_type": "stream",
          "name": "stderr",
          "text": [
            "Epoch #81: 1001it [00:00, 1173.83it/s, env_step=81000, len=2, n/ep=19, n/st=50, player2/loss=1.060, rew=-0.11]                          \n"
          ]
        },
        {
          "output_type": "stream",
          "name": "stdout",
          "text": [
            "Epoch #81: test_reward: -0.240000 ± 0.427083, best_reward: -0.210000 ± 0.407308 in #65\n"
          ]
        },
        {
          "output_type": "stream",
          "name": "stderr",
          "text": [
            "Epoch #82: 1001it [00:00, 1182.16it/s, env_step=82000, len=3, n/ep=15, n/st=50, player2/loss=1.030, rew=-0.27]                          \n"
          ]
        },
        {
          "output_type": "stream",
          "name": "stdout",
          "text": [
            "Epoch #82: test_reward: -0.230000 ± 0.420833, best_reward: -0.210000 ± 0.407308 in #65\n"
          ]
        },
        {
          "output_type": "stream",
          "name": "stderr",
          "text": [
            "Epoch #83: 1001it [00:01, 814.92it/s, env_step=83000, len=3, n/ep=17, n/st=50, player2/loss=1.062, rew=-0.24]                          \n"
          ]
        },
        {
          "output_type": "stream",
          "name": "stdout",
          "text": [
            "Epoch #83: test_reward: -0.280000 ± 0.448999, best_reward: -0.210000 ± 0.407308 in #65\n"
          ]
        },
        {
          "output_type": "stream",
          "name": "stderr",
          "text": [
            "Epoch #84: 1001it [00:01, 828.52it/s, env_step=84000, len=2, n/ep=17, n/st=50, player2/loss=1.085, rew=-0.41]                          \n"
          ]
        },
        {
          "output_type": "stream",
          "name": "stdout",
          "text": [
            "Epoch #84: test_reward: -0.300000 ± 0.458258, best_reward: -0.210000 ± 0.407308 in #65\n"
          ]
        },
        {
          "output_type": "stream",
          "name": "stderr",
          "text": [
            "Epoch #85: 1001it [00:00, 1148.25it/s, env_step=85000, len=2, n/ep=18, n/st=50, player2/loss=1.055, rew=-0.28]                          \n"
          ]
        },
        {
          "output_type": "stream",
          "name": "stdout",
          "text": [
            "Epoch #85: test_reward: -0.340000 ± 0.473709, best_reward: -0.210000 ± 0.407308 in #65\n"
          ]
        },
        {
          "output_type": "stream",
          "name": "stderr",
          "text": [
            "Epoch #86: 1001it [00:00, 1191.07it/s, env_step=86000, len=3, n/ep=16, n/st=50, player2/loss=1.131, rew=-0.31]                          \n"
          ]
        },
        {
          "output_type": "stream",
          "name": "stdout",
          "text": [
            "Epoch #86: test_reward: -0.230000 ± 0.420833, best_reward: -0.210000 ± 0.407308 in #65\n"
          ]
        },
        {
          "output_type": "stream",
          "name": "stderr",
          "text": [
            "Epoch #87: 1001it [00:00, 1172.77it/s, env_step=87000, len=3, n/ep=15, n/st=50, player2/loss=1.115, rew=-0.27]                          \n"
          ]
        },
        {
          "output_type": "stream",
          "name": "stdout",
          "text": [
            "Epoch #87: test_reward: -0.290000 ± 0.453762, best_reward: -0.210000 ± 0.407308 in #65\n"
          ]
        },
        {
          "output_type": "stream",
          "name": "stderr",
          "text": [
            "Epoch #88: 1001it [00:00, 1187.08it/s, env_step=88000, len=2, n/ep=18, n/st=50, player2/loss=1.195, rew=-0.28]                          \n"
          ]
        },
        {
          "output_type": "stream",
          "name": "stdout",
          "text": [
            "Epoch #88: test_reward: -0.280000 ± 0.448999, best_reward: -0.210000 ± 0.407308 in #65\n"
          ]
        },
        {
          "output_type": "stream",
          "name": "stderr",
          "text": [
            "Epoch #89: 1001it [00:00, 1163.32it/s, env_step=89000, len=2, n/ep=17, n/st=50, player2/loss=1.145, rew=-0.41]                          \n"
          ]
        },
        {
          "output_type": "stream",
          "name": "stdout",
          "text": [
            "Epoch #89: test_reward: -0.240000 ± 0.427083, best_reward: -0.210000 ± 0.407308 in #65\n"
          ]
        },
        {
          "output_type": "stream",
          "name": "stderr",
          "text": [
            "Epoch #90: 1001it [00:00, 1190.13it/s, env_step=90000, len=2, n/ep=18, n/st=50, player2/loss=1.140, rew=-0.11]                          \n"
          ]
        },
        {
          "output_type": "stream",
          "name": "stdout",
          "text": [
            "Epoch #90: test_reward: -0.260000 ± 0.438634, best_reward: -0.210000 ± 0.407308 in #65\n"
          ]
        },
        {
          "output_type": "stream",
          "name": "stderr",
          "text": [
            "Epoch #91: 1001it [00:00, 1172.77it/s, env_step=91000, len=2, n/ep=19, n/st=50, player2/loss=1.202, rew=-0.26]                          \n"
          ]
        },
        {
          "output_type": "stream",
          "name": "stdout",
          "text": [
            "Epoch #91: test_reward: -0.180000 ± 0.384187, best_reward: -0.180000 ± 0.384187 in #91\n"
          ]
        },
        {
          "output_type": "stream",
          "name": "stderr",
          "text": [
            "Epoch #92: 1001it [00:00, 1147.23it/s, env_step=92000, len=3, n/ep=16, n/st=50, player2/loss=1.153, rew=-0.06]                          \n"
          ]
        },
        {
          "output_type": "stream",
          "name": "stdout",
          "text": [
            "Epoch #92: test_reward: -0.240000 ± 0.427083, best_reward: -0.180000 ± 0.384187 in #91\n"
          ]
        },
        {
          "output_type": "stream",
          "name": "stderr",
          "text": [
            "Epoch #93: 1001it [00:00, 1177.74it/s, env_step=93000, len=2, n/ep=17, n/st=50, player2/loss=1.187, rew=-0.06]                          \n"
          ]
        },
        {
          "output_type": "stream",
          "name": "stdout",
          "text": [
            "Epoch #93: test_reward: -0.240000 ± 0.427083, best_reward: -0.180000 ± 0.384187 in #91\n"
          ]
        },
        {
          "output_type": "stream",
          "name": "stderr",
          "text": [
            "Epoch #94: 1001it [00:01, 956.96it/s, env_step=94000, len=3, n/ep=17, n/st=50, player2/loss=1.129, rew=-0.06]                          \n"
          ]
        },
        {
          "output_type": "stream",
          "name": "stdout",
          "text": [
            "Epoch #94: test_reward: -0.230000 ± 0.420833, best_reward: -0.180000 ± 0.384187 in #91\n"
          ]
        },
        {
          "output_type": "stream",
          "name": "stderr",
          "text": [
            "Epoch #95: 1001it [00:01, 854.79it/s, env_step=95000, len=3, n/ep=15, n/st=50, player2/loss=1.133, rew=-0.40]                          \n"
          ]
        },
        {
          "output_type": "stream",
          "name": "stdout",
          "text": [
            "Epoch #95: test_reward: -0.190000 ± 0.392301, best_reward: -0.180000 ± 0.384187 in #91\n"
          ]
        },
        {
          "output_type": "stream",
          "name": "stderr",
          "text": [
            "Epoch #96: 1001it [00:00, 1009.01it/s, env_step=96000, len=3, n/ep=15, n/st=50, player2/loss=1.173, rew=-0.40]                          \n"
          ]
        },
        {
          "output_type": "stream",
          "name": "stdout",
          "text": [
            "Epoch #96: test_reward: -0.200000 ± 0.400000, best_reward: -0.180000 ± 0.384187 in #91\n"
          ]
        },
        {
          "output_type": "stream",
          "name": "stderr",
          "text": [
            "Epoch #97: 1001it [00:00, 1159.58it/s, env_step=97000, len=3, n/ep=15, n/st=50, player2/loss=1.126, rew=-0.20]                          \n"
          ]
        },
        {
          "output_type": "stream",
          "name": "stdout",
          "text": [
            "Epoch #97: test_reward: -0.280000 ± 0.448999, best_reward: -0.180000 ± 0.384187 in #91\n"
          ]
        },
        {
          "output_type": "stream",
          "name": "stderr",
          "text": [
            "Epoch #98: 1001it [00:00, 1167.18it/s, env_step=98000, len=3, n/ep=16, n/st=50, player2/loss=1.122, rew=-0.06]                          \n"
          ]
        },
        {
          "output_type": "stream",
          "name": "stdout",
          "text": [
            "Epoch #98: test_reward: -0.290000 ± 0.453762, best_reward: -0.180000 ± 0.384187 in #91\n"
          ]
        },
        {
          "output_type": "stream",
          "name": "stderr",
          "text": [
            "Epoch #99: 1001it [00:00, 1137.76it/s, env_step=99000, len=2, n/ep=18, n/st=50, player2/loss=1.114, rew=-0.17]                          \n"
          ]
        },
        {
          "output_type": "stream",
          "name": "stdout",
          "text": [
            "Epoch #99: test_reward: -0.230000 ± 0.420833, best_reward: -0.180000 ± 0.384187 in #91\n"
          ]
        },
        {
          "output_type": "stream",
          "name": "stderr",
          "text": [
            "Epoch #100: 1001it [00:00, 1177.28it/s, env_step=100000, len=3, n/ep=15, n/st=50, player2/loss=1.043, rew=-0.20]                          \n"
          ]
        },
        {
          "output_type": "stream",
          "name": "stdout",
          "text": [
            "Epoch #100: test_reward: -0.320000 ± 0.466476, best_reward: -0.180000 ± 0.384187 in #91\n"
          ]
        },
        {
          "output_type": "execute_result",
          "data": {
            "text/plain": [
              "{'duration': '114.46s',\n",
              " 'train_time/model': '53.44s',\n",
              " 'test_step': 30298,\n",
              " 'test_episode': 10100,\n",
              " 'test_time': '20.70s',\n",
              " 'test_speed': '1463.86 step/s',\n",
              " 'best_reward': -0.18,\n",
              " 'best_result': '-0.18 ± 0.38',\n",
              " 'train_step': 100000,\n",
              " 'train_episode': 33323,\n",
              " 'train_time/collector': '40.33s',\n",
              " 'train_speed': '1066.48 step/s'}"
            ]
          },
          "metadata": {},
          "execution_count": 17
        }
      ]
    },
    {
      "cell_type": "code",
      "source": [
        "result = test_collector.collect(n_step=5000)\n",
        "arr = result[\"rews\"]\n",
        "death_rates = np.sum(arr, axis=0) / np.sum(arr, axis=0)[0]\n",
        "print(f\"death rate of player2: {(np.sum(arr, axis=0) / arr.shape[0])[-1] * -1:.3f}\")\n",
        "print(f\"ratio of death rate of player2 with respect to player1: {death_rates[-1]:.3f}\")\n",
        "plt.plot(arr.cumsum(axis=0))\n",
        "plt.legend((\"player1\", \"player2\"))\n",
        "plt.show()"
      ],
      "metadata": {
        "id": "kQ5-2veCd5ZV",
        "outputId": "ec9b4752-aeb3-4f22-c505-379e968f71a7",
        "colab": {
          "base_uri": "https://localhost:8080/",
          "height": 522
        }
      },
      "execution_count": 18,
      "outputs": [
        {
          "output_type": "stream",
          "name": "stderr",
          "text": [
            "/usr/local/lib/python3.10/dist-packages/ipykernel/ipkernel.py:283: DeprecationWarning: `should_run_async` will not call `transform_cell` automatically in the future. Please pass the result to `transformed_cell` argument and any exception that happen during thetransform in `preprocessing_exc_tuple` in IPython 7.17 and above.\n",
            "  and should_run_async(code)\n"
          ]
        },
        {
          "output_type": "stream",
          "name": "stdout",
          "text": [
            "death rate of player2: 0.251\n",
            "ratio of death rate of player2 with respect to player1: 0.606\n"
          ]
        },
        {
          "output_type": "display_data",
          "data": {
            "text/plain": [
              "<Figure size 640x480 with 1 Axes>"
            ],
            "image/png": "[encoded data removed]"
          },
          "metadata": {}
        }
      ]
    },
    {
      "cell_type": "code",
      "source": [
        "model_save_path1 = os.path.join(\"log\", \"hommul\", \"dqn\", \"policy1.pth\")\n",
        "model_save_path2 = os.path.join(\"log\", \"hommul\", \"dqn\", \"policy2.pth\")\n",
        "if not hasattr(policy.policies[agents[0]], 'nolearn'):\n",
        "    policy.policies[agents[0]].load_state_dict(torch.load(model_save_path1))\n",
        "if not hasattr(policy.policies[agents[1]], 'nolearn'):\n",
        "    policy.policies[agents[1]].load_state_dict(torch.load(model_save_path2))"
      ],
      "metadata": {
        "id": "Wplc3x6cfEBz"
      },
      "execution_count": 19,
      "outputs": []
    },
    {
      "cell_type": "code",
      "source": [
        "result = test_collector.collect(n_step=5000)\n",
        "arr = result[\"rews\"]\n",
        "death_rates = np.sum(arr, axis=0) / np.sum(arr, axis=0)[0]\n",
        "print(f\"death rate of player2: {(np.sum(arr, axis=0) / arr.shape[0])[-1] * -1:.3f}\")\n",
        "print(f\"ratio of death rate of player2 with respect to player1: {death_rates[-1]:.3f}\")\n",
        "plt.plot(arr.cumsum(axis=0))\n",
        "plt.legend((\"player1\", \"player2\"))\n",
        "plt.show()"
      ],
      "metadata": {
        "id": "zxXP-sbofD9M",
        "outputId": "14b0397d-f7d9-4c14-a0b6-3f30890584f2",
        "colab": {
          "base_uri": "https://localhost:8080/",
          "height": 466
        }
      },
      "execution_count": 20,
      "outputs": [
        {
          "output_type": "stream",
          "name": "stdout",
          "text": [
            "death rate of player2: 0.249\n",
            "ratio of death rate of player2 with respect to player1: 0.595\n"
          ]
        },
        {
          "output_type": "display_data",
          "data": {
            "text/plain": [
              "<Figure size 640x480 with 1 Axes>"
            ],
            "image/png": "[encoded data removed]"
          },
          "metadata": {}
        }
      ]
    },
    {
      "cell_type": "code",
      "source": [
        "df = []\n",
        "obs = []\n",
        "\n",
        "for days_left in range(1, 3):\n",
        "    for player1_life_points in range(4):\n",
        "        for player2_life_points in range(4):\n",
        "            for payoff in [0.2, 0.4]:\n",
        "                for player1_action in range(0, 3):\n",
        "                    for player2_action in range(0, 3):\n",
        "                        curr_obs = [\n",
        "                            days_left, \n",
        "                            player1_life_points, \n",
        "                            player2_life_points, \n",
        "                            payoff,\n",
        "                            payoff,\n",
        "                            player1_action, \n",
        "                            player2_action\n",
        "                        ]\n",
        "                        obs.append({\n",
        "                            'agent_id': 'player2',\n",
        "                            'obs': np.array([curr_obs], dtype='float32'),\n",
        "                            'mask': [True, True, False]\n",
        "                        })\n",
        "                        df.append(curr_obs)\n",
        "\n",
        "cols = [\n",
        "    \"days_left\", \n",
        "    \"player1_life_points\", \n",
        "    \"player2_life_points\", \n",
        "    \"player1_prob_payoff\",\n",
        "    \"player2_prob_payoff\",\n",
        "    \"player1_previous_action\", \n",
        "    \"player2_previous_action\"\n",
        "]\n",
        "df = pd.DataFrame(df, columns=cols)\n",
        "\n",
        "df[\"player2_predicted_action\"] = policy.policies[agents[1]](Batch(obs=obs, info={})).act\n",
        "df[\"player2_logit_wait\"] = policy.policies[agents[1]](Batch(obs=obs, info={})).logits.detach().cpu().numpy()[:, 0]\n",
        "df[\"player2_logit_play\"] = policy.policies[agents[1]](Batch(obs=obs, info={})).logits.detach().cpu().numpy()[:, 1]\n",
        "\n",
        "df[\"player1_previous_action\"] = df[\"player1_previous_action\"].map({0: \"wait\", 1: \"play\", 2: \"none\"})\n",
        "df[\"player2_previous_action\"] = df[\"player2_previous_action\"].map({0: \"wait\", 1: \"play\", 2: \"none\"})\n",
        "df[\"player2_predicted_action\"] = df[\"player2_predicted_action\"].map({0: \"wait\", 1: \"play\"})\n",
        "\n",
        "df.to_csv(\"outcome_table.csv\", index=False)\n",
        "\n",
        "df.head()"
      ],
      "metadata": {
        "id": "qqphMrZSd-JF",
        "outputId": "ee40c7bc-72b7-4e4a-ba90-e846ee7dcd39",
        "colab": {
          "base_uri": "https://localhost:8080/",
          "height": 270
        }
      },
      "execution_count": 21,
      "outputs": [
        {
          "output_type": "execute_result",
          "data": {
            "text/plain": [
              "   days_left  player1_life_points  player2_life_points  player1_prob_payoff  \\\n",
              "0          1                    0                    0                  0.2   \n",
              "1          1                    0                    0                  0.2   \n",
              "2          1                    0                    0                  0.2   \n",
              "3          1                    0                    0                  0.2   \n",
              "4          1                    0                    0                  0.2   \n",
              "\n",
              "   player2_prob_payoff player1_previous_action player2_previous_action  \\\n",
              "0                  0.2                    wait                    wait   \n",
              "1                  0.2                    wait                    play   \n",
              "2                  0.2                    wait                    none   \n",
              "3                  0.2                    play                    wait   \n",
              "4                  0.2                    play                    play   \n",
              "\n",
              "  player2_predicted_action  player2_logit_wait  player2_logit_play  \n",
              "0                     wait           -4.772681           -5.132059  \n",
              "1                     wait           -5.245391           -5.901261  \n",
              "2                     wait           -5.887375           -6.596521  \n",
              "3                     play           -5.147863           -4.952644  \n",
              "4                     play           -5.131122           -4.994402  "
            ],
            "text/html": [
              "\n",
              "  <div id=\"df-e5d3930a-5ef9-4cbc-9f42-d9c01c4e98ac\">\n",
              "    <div class=\"colab-df-container\">\n",
              "      <div>\n",
              "<style scoped>\n",
              "    .dataframe tbody tr th:only-of-type {\n",
              "        vertical-align: middle;\n",
              "    }\n",
              "\n",
              "    .dataframe tbody tr th {\n",
              "        vertical-align: top;\n",
              "    }\n",
              "\n",
              "    .dataframe thead th {\n",
              "        text-align: right;\n",
              "    }\n",
              "</style>\n",
              "<table border=\"1\" class=\"dataframe\">\n",
              "  <thead>\n",
              "    <tr style=\"text-align: right;\">\n",
              "      <th></th>\n",
              "      <th>days_left</th>\n",
              "      <th>player1_life_points</th>\n",
              "      <th>player2_life_points</th>\n",
              "      <th>player1_prob_payoff</th>\n",
              "      <th>player2_prob_payoff</th>\n",
              "      <th>player1_previous_action</th>\n",
              "      <th>player2_previous_action</th>\n",
              "      <th>player2_predicted_action</th>\n",
              "      <th>player2_logit_wait</th>\n",
              "      <th>player2_logit_play</th>\n",
              "    </tr>\n",
              "  </thead>\n",
              "  <tbody>\n",
              "    <tr>\n",
              "      <th>0</th>\n",
              "      <td>1</td>\n",
              "      <td>0</td>\n",
              "      <td>0</td>\n",
              "      <td>0.2</td>\n",
              "      <td>0.2</td>\n",
              "      <td>wait</td>\n",
              "      <td>wait</td>\n",
              "      <td>wait</td>\n",
              "      <td>-4.772681</td>\n",
              "      <td>-5.132059</td>\n",
              "    </tr>\n",
              "    <tr>\n",
              "      <th>1</th>\n",
              "      <td>1</td>\n",
              "      <td>0</td>\n",
              "      <td>0</td>\n",
              "      <td>0.2</td>\n",
              "      <td>0.2</td>\n",
              "      <td>wait</td>\n",
              "      <td>play</td>\n",
              "      <td>wait</td>\n",
              "      <td>-5.245391</td>\n",
              "      <td>-5.901261</td>\n",
              "    </tr>\n",
              "    <tr>\n",
              "      <th>2</th>\n",
              "      <td>1</td>\n",
              "      <td>0</td>\n",
              "      <td>0</td>\n",
              "      <td>0.2</td>\n",
              "      <td>0.2</td>\n",
              "      <td>wait</td>\n",
              "      <td>none</td>\n",
              "      <td>wait</td>\n",
              "      <td>-5.887375</td>\n",
              "      <td>-6.596521</td>\n",
              "    </tr>\n",
              "    <tr>\n",
              "      <th>3</th>\n",
              "      <td>1</td>\n",
              "      <td>0</td>\n",
              "      <td>0</td>\n",
              "      <td>0.2</td>\n",
              "      <td>0.2</td>\n",
              "      <td>play</td>\n",
              "      <td>wait</td>\n",
              "      <td>play</td>\n",
              "      <td>-5.147863</td>\n",
              "      <td>-4.952644</td>\n",
              "    </tr>\n",
              "    <tr>\n",
              "      <th>4</th>\n",
              "      <td>1</td>\n",
              "      <td>0</td>\n",
              "      <td>0</td>\n",
              "      <td>0.2</td>\n",
              "      <td>0.2</td>\n",
              "      <td>play</td>\n",
              "      <td>play</td>\n",
              "      <td>play</td>\n",
              "      <td>-5.131122</td>\n",
              "      <td>-4.994402</td>\n",
              "    </tr>\n",
              "  </tbody>\n",
              "</table>\n",
              "</div>\n",
              "      <button class=\"colab-df-convert\" onclick=\"convertToInteractive('df-e5d3930a-5ef9-4cbc-9f42-d9c01c4e98ac')\"\n",
              "              title=\"Convert this dataframe to an interactive table.\"\n",
              "              style=\"display:none;\">\n",
              "        \n",
              "  <svg xmlns=\"http://www.w3.org/2000/svg\" height=\"24px\"viewBox=\"0 0 24 24\"\n",
              "       width=\"24px\">\n",
              "    <path d=\"M0 0h24v24H0V0z\" fill=\"none\"/>\n",
              "    <path d=\"M18.56 5.44l.94 2.06.94-2.06 2.06-.94-2.06-.94-.94-2.06-.94 2.06-2.06.94zm-11 1L8.5 8.5l.94-2.06 2.06-.94-2.06-.94L8.5 2.5l-.94 2.06-2.06.94zm10 10l.94 2.06.94-2.06 2.06-.94-2.06-.94-.94-2.06-.94 2.06-2.06.94z\"/><path d=\"M17.41 7.96l-1.37-1.37c-.4-.4-.92-.59-1.43-.59-.52 0-1.04.2-1.43.59L10.3 9.45l-7.72 7.72c-.78.78-.78 2.05 0 2.83L4 21.41c.39.39.9.59 1.41.59.51 0 1.02-.2 1.41-.59l7.78-7.78 2.81-2.81c.8-.78.8-2.07 0-2.86zM5.41 20L4 18.59l7.72-7.72 1.47 1.35L5.41 20z\"/>\n",
              "  </svg>\n",
              "      </button>\n",
              "      \n",
              "  <style>\n",
              "    .colab-df-container {\n",
              "      display:flex;\n",
              "      flex-wrap:wrap;\n",
              "      gap: 12px;\n",
              "    }\n",
              "\n",
              "    .colab-df-convert {\n",
              "      background-color: #E8F0FE;\n",
              "      border: none;\n",
              "      border-radius: 50%;\n",
              "      cursor: pointer;\n",
              "      display: none;\n",
              "      fill: #1967D2;\n",
              "      height: 32px;\n",
              "      padding: 0 0 0 0;\n",
              "      width: 32px;\n",
              "    }\n",
              "\n",
              "    .colab-df-convert:hover {\n",
              "      background-color: #E2EBFA;\n",
              "      box-shadow: 0px 1px 2px rgba(60, 64, 67, 0.3), 0px 1px 3px 1px rgba(60, 64, 67, 0.15);\n",
              "      fill: #174EA6;\n",
              "    }\n",
              "\n",
              "    [theme=dark] .colab-df-convert {\n",
              "      background-color: #3B4455;\n",
              "      fill: #D2E3FC;\n",
              "    }\n",
              "\n",
              "    [theme=dark] .colab-df-convert:hover {\n",
              "      background-color: #434B5C;\n",
              "      box-shadow: 0px 1px 3px 1px rgba(0, 0, 0, 0.15);\n",
              "      filter: drop-shadow(0px 1px 2px rgba(0, 0, 0, 0.3));\n",
              "      fill: #FFFFFF;\n",
              "    }\n",
              "  </style>\n",
              "\n",
              "      <script>\n",
              "        const buttonEl =\n",
              "          document.querySelector('#df-e5d3930a-5ef9-4cbc-9f42-d9c01c4e98ac button.colab-df-convert');\n",
              "        buttonEl.style.display =\n",
              "          google.colab.kernel.accessAllowed ? 'block' : 'none';\n",
              "\n",
              "        async function convertToInteractive(key) {\n",
              "          const element = document.querySelector('#df-e5d3930a-5ef9-4cbc-9f42-d9c01c4e98ac');\n",
              "          const dataTable =\n",
              "            await google.colab.kernel.invokeFunction('convertToInteractive',\n",
              "                                                     [key], {});\n",
              "          if (!dataTable) return;\n",
              "\n",
              "          const docLinkHtml = 'Like what you see? Visit the ' +\n",
              "            '<a target=\"_blank\" href=https://colab.research.google.com/notebooks/data_table.ipynb>data table notebook</a>'\n",
              "            + ' to learn more about interactive tables.';\n",
              "          element.innerHTML = '';\n",
              "          dataTable['output_type'] = 'display_data';\n",
              "          await google.colab.output.renderOutput(dataTable, element);\n",
              "          const docLink = document.createElement('div');\n",
              "          docLink.innerHTML = docLinkHtml;\n",
              "          element.appendChild(docLink);\n",
              "        }\n",
              "      </script>\n",
              "    </div>\n",
              "  </div>\n",
              "  "
            ]
          },
          "metadata": {},
          "execution_count": 21
        }
      ]
    },
    {
      "cell_type": "code",
      "source": [
        "(df[\"player2_predicted_action\"] == \"play\").mean()"
      ],
      "metadata": {
        "id": "KxAabY2fo4OL",
        "outputId": "fa5d5a98-65a8-4656-bf6b-c2b06ea994a1",
        "colab": {
          "base_uri": "https://localhost:8080/"
        }
      },
      "execution_count": 22,
      "outputs": [
        {
          "output_type": "stream",
          "name": "stderr",
          "text": [
            "/usr/local/lib/python3.10/dist-packages/ipykernel/ipkernel.py:283: DeprecationWarning: `should_run_async` will not call `transform_cell` automatically in the future. Please pass the result to `transformed_cell` argument and any exception that happen during thetransform in `preprocessing_exc_tuple` in IPython 7.17 and above.\n",
            "  and should_run_async(code)\n"
          ]
        },
        {
          "output_type": "execute_result",
          "data": {
            "text/plain": [
              "0.4895833333333333"
            ]
          },
          "metadata": {},
          "execution_count": 22
        }
      ]
    },
    {
      "cell_type": "code",
      "source": [
        "df[df[\"player2_predicted_action\"] == \"play\"].tail(15)"
      ],
      "metadata": {
        "id": "YmNsJMKrpxVu",
        "outputId": "0fd6b9f4-fc07-43cd-d3ec-a4ac41dc505b",
        "colab": {
          "base_uri": "https://localhost:8080/",
          "height": 584
        }
      },
      "execution_count": 23,
      "outputs": [
        {
          "output_type": "execute_result",
          "data": {
            "text/plain": [
              "     days_left  player1_life_points  player2_life_points  player1_prob_payoff  \\\n",
              "549          2                    3                    2                  0.4   \n",
              "550          2                    3                    2                  0.4   \n",
              "552          2                    3                    2                  0.4   \n",
              "553          2                    3                    2                  0.4   \n",
              "554          2                    3                    2                  0.4   \n",
              "555          2                    3                    2                  0.4   \n",
              "556          2                    3                    2                  0.4   \n",
              "557          2                    3                    2                  0.4   \n",
              "564          2                    3                    3                  0.2   \n",
              "567          2                    3                    3                  0.4   \n",
              "570          2                    3                    3                  0.4   \n",
              "571          2                    3                    3                  0.4   \n",
              "573          2                    3                    3                  0.4   \n",
              "574          2                    3                    3                  0.4   \n",
              "575          2                    3                    3                  0.4   \n",
              "\n",
              "     player2_prob_payoff player1_previous_action player2_previous_action  \\\n",
              "549                  0.4                    wait                    wait   \n",
              "550                  0.4                    wait                    play   \n",
              "552                  0.4                    play                    wait   \n",
              "553                  0.4                    play                    play   \n",
              "554                  0.4                    play                    none   \n",
              "555                  0.4                    none                    wait   \n",
              "556                  0.4                    none                    play   \n",
              "557                  0.4                    none                    none   \n",
              "564                  0.2                    none                    wait   \n",
              "567                  0.4                    wait                    wait   \n",
              "570                  0.4                    play                    wait   \n",
              "571                  0.4                    play                    play   \n",
              "573                  0.4                    none                    wait   \n",
              "574                  0.4                    none                    play   \n",
              "575                  0.4                    none                    none   \n",
              "\n",
              "    player2_predicted_action  player2_logit_wait  player2_logit_play  \n",
              "549                     play           -3.259136           -2.688664  \n",
              "550                     play           -3.234160           -3.150015  \n",
              "552                     play           -3.007194           -2.206390  \n",
              "553                     play           -2.762999           -2.281574  \n",
              "554                     play           -2.700697           -2.331025  \n",
              "555                     play           -3.313978           -2.104050  \n",
              "556                     play           -2.785404           -2.009682  \n",
              "557                     play           -2.613736           -1.944121  \n",
              "564                     play           -2.577781           -2.327942  \n",
              "567                     play           -2.287101           -2.022887  \n",
              "570                     play           -2.228148           -1.779442  \n",
              "571                     play           -1.994223           -1.926791  \n",
              "573                     play           -2.433571           -1.523065  \n",
              "574                     play           -2.068222           -1.649196  \n",
              "575                     play           -1.729657           -1.523321  "
            ],
            "text/html": [
              "\n",
              "  <div id=\"df-f6d24261-4151-4266-be30-cb3092ef366f\">\n",
              "    <div class=\"colab-df-container\">\n",
              "      <div>\n",
              "<style scoped>\n",
              "    .dataframe tbody tr th:only-of-type {\n",
              "        vertical-align: middle;\n",
              "    }\n",
              "\n",
              "    .dataframe tbody tr th {\n",
              "        vertical-align: top;\n",
              "    }\n",
              "\n",
              "    .dataframe thead th {\n",
              "        text-align: right;\n",
              "    }\n",
              "</style>\n",
              "<table border=\"1\" class=\"dataframe\">\n",
              "  <thead>\n",
              "    <tr style=\"text-align: right;\">\n",
              "      <th></th>\n",
              "      <th>days_left</th>\n",
              "      <th>player1_life_points</th>\n",
              "      <th>player2_life_points</th>\n",
              "      <th>player1_prob_payoff</th>\n",
              "      <th>player2_prob_payoff</th>\n",
              "      <th>player1_previous_action</th>\n",
              "      <th>player2_previous_action</th>\n",
              "      <th>player2_predicted_action</th>\n",
              "      <th>player2_logit_wait</th>\n",
              "      <th>player2_logit_play</th>\n",
              "    </tr>\n",
              "  </thead>\n",
              "  <tbody>\n",
              "    <tr>\n",
              "      <th>549</th>\n",
              "      <td>2</td>\n",
              "      <td>3</td>\n",
              "      <td>2</td>\n",
              "      <td>0.4</td>\n",
              "      <td>0.4</td>\n",
              "      <td>wait</td>\n",
              "      <td>wait</td>\n",
              "      <td>play</td>\n",
              "      <td>-3.259136</td>\n",
              "      <td>-2.688664</td>\n",
              "    </tr>\n",
              "    <tr>\n",
              "      <th>550</th>\n",
              "      <td>2</td>\n",
              "      <td>3</td>\n",
              "      <td>2</td>\n",
              "      <td>0.4</td>\n",
              "      <td>0.4</td>\n",
              "      <td>wait</td>\n",
              "      <td>play</td>\n",
              "      <td>play</td>\n",
              "      <td>-3.234160</td>\n",
              "      <td>-3.150015</td>\n",
              "    </tr>\n",
              "    <tr>\n",
              "      <th>552</th>\n",
              "      <td>2</td>\n",
              "      <td>3</td>\n",
              "      <td>2</td>\n",
              "      <td>0.4</td>\n",
              "      <td>0.4</td>\n",
              "      <td>play</td>\n",
              "      <td>wait</td>\n",
              "      <td>play</td>\n",
              "      <td>-3.007194</td>\n",
              "      <td>-2.206390</td>\n",
              "    </tr>\n",
              "    <tr>\n",
              "      <th>553</th>\n",
              "      <td>2</td>\n",
              "      <td>3</td>\n",
              "      <td>2</td>\n",
              "      <td>0.4</td>\n",
              "      <td>0.4</td>\n",
              "      <td>play</td>\n",
              "      <td>play</td>\n",
              "      <td>play</td>\n",
              "      <td>-2.762999</td>\n",
              "      <td>-2.281574</td>\n",
              "    </tr>\n",
              "    <tr>\n",
              "      <th>554</th>\n",
              "      <td>2</td>\n",
              "      <td>3</td>\n",
              "      <td>2</td>\n",
              "      <td>0.4</td>\n",
              "      <td>0.4</td>\n",
              "      <td>play</td>\n",
              "      <td>none</td>\n",
              "      <td>play</td>\n",
              "      <td>-2.700697</td>\n",
              "      <td>-2.331025</td>\n",
              "    </tr>\n",
              "    <tr>\n",
              "      <th>555</th>\n",
              "      <td>2</td>\n",
              "      <td>3</td>\n",
              "      <td>2</td>\n",
              "      <td>0.4</td>\n",
              "      <td>0.4</td>\n",
              "      <td>none</td>\n",
              "      <td>wait</td>\n",
              "      <td>play</td>\n",
              "      <td>-3.313978</td>\n",
              "      <td>-2.104050</td>\n",
              "    </tr>\n",
              "    <tr>\n",
              "      <th>556</th>\n",
              "      <td>2</td>\n",
              "      <td>3</td>\n",
              "      <td>2</td>\n",
              "      <td>0.4</td>\n",
              "      <td>0.4</td>\n",
              "      <td>none</td>\n",
              "      <td>play</td>\n",
              "      <td>play</td>\n",
              "      <td>-2.785404</td>\n",
              "      <td>-2.009682</td>\n",
              "    </tr>\n",
              "    <tr>\n",
              "      <th>557</th>\n",
              "      <td>2</td>\n",
              "      <td>3</td>\n",
              "      <td>2</td>\n",
              "      <td>0.4</td>\n",
              "      <td>0.4</td>\n",
              "      <td>none</td>\n",
              "      <td>none</td>\n",
              "      <td>play</td>\n",
              "      <td>-2.613736</td>\n",
              "      <td>-1.944121</td>\n",
              "    </tr>\n",
              "    <tr>\n",
              "      <th>564</th>\n",
              "      <td>2</td>\n",
              "      <td>3</td>\n",
              "      <td>3</td>\n",
              "      <td>0.2</td>\n",
              "      <td>0.2</td>\n",
              "      <td>none</td>\n",
              "      <td>wait</td>\n",
              "      <td>play</td>\n",
              "      <td>-2.577781</td>\n",
              "      <td>-2.327942</td>\n",
              "    </tr>\n",
              "    <tr>\n",
              "      <th>567</th>\n",
              "      <td>2</td>\n",
              "      <td>3</td>\n",
              "      <td>3</td>\n",
              "      <td>0.4</td>\n",
              "      <td>0.4</td>\n",
              "      <td>wait</td>\n",
              "      <td>wait</td>\n",
              "      <td>play</td>\n",
              "      <td>-2.287101</td>\n",
              "      <td>-2.022887</td>\n",
              "    </tr>\n",
              "    <tr>\n",
              "      <th>570</th>\n",
              "      <td>2</td>\n",
              "      <td>3</td>\n",
              "      <td>3</td>\n",
              "      <td>0.4</td>\n",
              "      <td>0.4</td>\n",
              "      <td>play</td>\n",
              "      <td>wait</td>\n",
              "      <td>play</td>\n",
              "      <td>-2.228148</td>\n",
              "      <td>-1.779442</td>\n",
              "    </tr>\n",
              "    <tr>\n",
              "      <th>571</th>\n",
              "      <td>2</td>\n",
              "      <td>3</td>\n",
              "      <td>3</td>\n",
              "      <td>0.4</td>\n",
              "      <td>0.4</td>\n",
              "      <td>play</td>\n",
              "      <td>play</td>\n",
              "      <td>play</td>\n",
              "      <td>-1.994223</td>\n",
              "      <td>-1.926791</td>\n",
              "    </tr>\n",
              "    <tr>\n",
              "      <th>573</th>\n",
              "      <td>2</td>\n",
              "      <td>3</td>\n",
              "      <td>3</td>\n",
              "      <td>0.4</td>\n",
              "      <td>0.4</td>\n",
              "      <td>none</td>\n",
              "      <td>wait</td>\n",
              "      <td>play</td>\n",
              "      <td>-2.433571</td>\n",
              "      <td>-1.523065</td>\n",
              "    </tr>\n",
              "    <tr>\n",
              "      <th>574</th>\n",
              "      <td>2</td>\n",
              "      <td>3</td>\n",
              "      <td>3</td>\n",
              "      <td>0.4</td>\n",
              "      <td>0.4</td>\n",
              "      <td>none</td>\n",
              "      <td>play</td>\n",
              "      <td>play</td>\n",
              "      <td>-2.068222</td>\n",
              "      <td>-1.649196</td>\n",
              "    </tr>\n",
              "    <tr>\n",
              "      <th>575</th>\n",
              "      <td>2</td>\n",
              "      <td>3</td>\n",
              "      <td>3</td>\n",
              "      <td>0.4</td>\n",
              "      <td>0.4</td>\n",
              "      <td>none</td>\n",
              "      <td>none</td>\n",
              "      <td>play</td>\n",
              "      <td>-1.729657</td>\n",
              "      <td>-1.523321</td>\n",
              "    </tr>\n",
              "  </tbody>\n",
              "</table>\n",
              "</div>\n",
              "      <button class=\"colab-df-convert\" onclick=\"convertToInteractive('df-f6d24261-4151-4266-be30-cb3092ef366f')\"\n",
              "              title=\"Convert this dataframe to an interactive table.\"\n",
              "              style=\"display:none;\">\n",
              "        \n",
              "  <svg xmlns=\"http://www.w3.org/2000/svg\" height=\"24px\"viewBox=\"0 0 24 24\"\n",
              "       width=\"24px\">\n",
              "    <path d=\"M0 0h24v24H0V0z\" fill=\"none\"/>\n",
              "    <path d=\"M18.56 5.44l.94 2.06.94-2.06 2.06-.94-2.06-.94-.94-2.06-.94 2.06-2.06.94zm-11 1L8.5 8.5l.94-2.06 2.06-.94-2.06-.94L8.5 2.5l-.94 2.06-2.06.94zm10 10l.94 2.06.94-2.06 2.06-.94-2.06-.94-.94-2.06-.94 2.06-2.06.94z\"/><path d=\"M17.41 7.96l-1.37-1.37c-.4-.4-.92-.59-1.43-.59-.52 0-1.04.2-1.43.59L10.3 9.45l-7.72 7.72c-.78.78-.78 2.05 0 2.83L4 21.41c.39.39.9.59 1.41.59.51 0 1.02-.2 1.41-.59l7.78-7.78 2.81-2.81c.8-.78.8-2.07 0-2.86zM5.41 20L4 18.59l7.72-7.72 1.47 1.35L5.41 20z\"/>\n",
              "  </svg>\n",
              "      </button>\n",
              "      \n",
              "  <style>\n",
              "    .colab-df-container {\n",
              "      display:flex;\n",
              "      flex-wrap:wrap;\n",
              "      gap: 12px;\n",
              "    }\n",
              "\n",
              "    .colab-df-convert {\n",
              "      background-color: #E8F0FE;\n",
              "      border: none;\n",
              "      border-radius: 50%;\n",
              "      cursor: pointer;\n",
              "      display: none;\n",
              "      fill: #1967D2;\n",
              "      height: 32px;\n",
              "      padding: 0 0 0 0;\n",
              "      width: 32px;\n",
              "    }\n",
              "\n",
              "    .colab-df-convert:hover {\n",
              "      background-color: #E2EBFA;\n",
              "      box-shadow: 0px 1px 2px rgba(60, 64, 67, 0.3), 0px 1px 3px 1px rgba(60, 64, 67, 0.15);\n",
              "      fill: #174EA6;\n",
              "    }\n",
              "\n",
              "    [theme=dark] .colab-df-convert {\n",
              "      background-color: #3B4455;\n",
              "      fill: #D2E3FC;\n",
              "    }\n",
              "\n",
              "    [theme=dark] .colab-df-convert:hover {\n",
              "      background-color: #434B5C;\n",
              "      box-shadow: 0px 1px 3px 1px rgba(0, 0, 0, 0.15);\n",
              "      filter: drop-shadow(0px 1px 2px rgba(0, 0, 0, 0.3));\n",
              "      fill: #FFFFFF;\n",
              "    }\n",
              "  </style>\n",
              "\n",
              "      <script>\n",
              "        const buttonEl =\n",
              "          document.querySelector('#df-f6d24261-4151-4266-be30-cb3092ef366f button.colab-df-convert');\n",
              "        buttonEl.style.display =\n",
              "          google.colab.kernel.accessAllowed ? 'block' : 'none';\n",
              "\n",
              "        async function convertToInteractive(key) {\n",
              "          const element = document.querySelector('#df-f6d24261-4151-4266-be30-cb3092ef366f');\n",
              "          const dataTable =\n",
              "            await google.colab.kernel.invokeFunction('convertToInteractive',\n",
              "                                                     [key], {});\n",
              "          if (!dataTable) return;\n",
              "\n",
              "          const docLinkHtml = 'Like what you see? Visit the ' +\n",
              "            '<a target=\"_blank\" href=https://colab.research.google.com/notebooks/data_table.ipynb>data table notebook</a>'\n",
              "            + ' to learn more about interactive tables.';\n",
              "          element.innerHTML = '';\n",
              "          dataTable['output_type'] = 'display_data';\n",
              "          await google.colab.output.renderOutput(dataTable, element);\n",
              "          const docLink = document.createElement('div');\n",
              "          docLink.innerHTML = docLinkHtml;\n",
              "          element.appendChild(docLink);\n",
              "        }\n",
              "      </script>\n",
              "    </div>\n",
              "  </div>\n",
              "  "
            ]
          },
          "metadata": {},
          "execution_count": 23
        }
      ]
    }
  ]
}