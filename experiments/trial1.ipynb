{
  "nbformat": 4,
  "nbformat_minor": 0,
  "metadata": {
    "colab": {
      "provenance": [],
      "gpuType": "T4",
      "authorship_tag": "ABX9TyO3TPI423YgDAiboNH0zTEh",
      "include_colab_link": true
    },
    "kernelspec": {
      "name": "python3",
      "display_name": "Python 3"
    },
    "language_info": {
      "name": "python"
    },
    "accelerator": "GPU",
    "gpuClass": "standard"
  },
  "cells": [
    {
      "cell_type": "markdown",
      "metadata": {
        "id": "view-in-github",
        "colab_type": "text"
      },
      "source": [
        "<a href=\"https://colab.research.google.com/github/faizankshaikh/HomMul/blob/main/experiments/trial1.ipynb\" target=\"_parent\"><img src=\"https://colab.research.google.com/assets/colab-badge.svg\" alt=\"Open In Colab\"/></a>"
      ]
    },
    {
      "cell_type": "code",
      "execution_count": 1,
      "metadata": {
        "colab": {
          "base_uri": "https://localhost:8080/"
        },
        "id": "V2BNDFAEr5fq",
        "outputId": "40e4b14b-8ce9-4f4a-ebf4-bee73e7eaa18"
      },
      "outputs": [
        {
          "output_type": "stream",
          "name": "stdout",
          "text": [
            "\u001b[2K     \u001b[90m━━━━━━━━━━━━━━━━━━━━━━━━━━━━━━━━━━━━━━━━\u001b[0m \u001b[32m1.7/1.7 MB\u001b[0m \u001b[31m18.4 MB/s\u001b[0m eta \u001b[36m0:00:00\u001b[0m\n",
            "\u001b[2K     \u001b[90m━━━━━━━━━━━━━━━━━━━━━━━━━━━━━━━━━━━━━━\u001b[0m \u001b[32m925.5/925.5 kB\u001b[0m \u001b[31m53.0 MB/s\u001b[0m eta \u001b[36m0:00:00\u001b[0m\n",
            "\u001b[2K     \u001b[90m━━━━━━━━━━━━━━━━━━━━━━━━━━━━━━━━━━━━━━\u001b[0m \u001b[32m816.1/816.1 kB\u001b[0m \u001b[31m71.5 MB/s\u001b[0m eta \u001b[36m0:00:00\u001b[0m\n",
            "\u001b[2K     \u001b[90m━━━━━━━━━━━━━━━━━━━━━━━━━━━━━━━━━━━━━━\u001b[0m \u001b[32m162.7/162.7 kB\u001b[0m \u001b[31m22.2 MB/s\u001b[0m eta \u001b[36m0:00:00\u001b[0m\n",
            "\u001b[?25hCloning into 'HomMul'...\n",
            "remote: Enumerating objects: 54, done.\u001b[K\n",
            "remote: Counting objects: 100% (54/54), done.\u001b[K\n",
            "remote: Compressing objects: 100% (43/43), done.\u001b[K\n",
            "remote: Total 54 (delta 18), reused 31 (delta 7), pack-reused 0\u001b[K\n",
            "Unpacking objects: 100% (54/54), 503.26 KiB | 9.15 MiB/s, done.\n"
          ]
        }
      ],
      "source": [
        "# !pip install -q black gymnasium pettingzoo tianshou\n",
        "# !git clone https://github.com/faizankshaikh/HomMul.git"
      ]
    },
    {
      "cell_type": "code",
      "source": [
        "%cd HomMul/"
      ],
      "metadata": {
        "colab": {
          "base_uri": "https://localhost:8080/"
        },
        "id": "NBShrrDlsJLP",
        "outputId": "55951c24-0155-4360-debd-4e2a4644958d"
      },
      "execution_count": 1,
      "outputs": [
        {
          "output_type": "stream",
          "name": "stdout",
          "text": [
            "/content/HomMul\n"
          ]
        }
      ]
    },
    {
      "cell_type": "code",
      "source": [
        "%load_ext tensorboard\n",
        "\n",
        "import os\n",
        "import torch\n",
        "import numpy as np\n",
        "import pandas as pd\n",
        "import matplotlib.pyplot as plt\n",
        "\n",
        "from hommul.envs.hommul_v0 import HomMul\n",
        "\n",
        "from torch.optim import Adam\n",
        "\n",
        "from tianshou.data import Batch\n",
        "from tianshou.utils.net.common import Net\n",
        "from tianshou.utils import TensorboardLogger\n",
        "from tianshou.trainer import offpolicy_trainer\n",
        "from tianshou.data import Collector, VectorReplayBuffer\n",
        "from tianshou.env import DummyVectorEnv, PettingZooEnv\n",
        "from tianshou.policy import BasePolicy, DQNPolicy, MultiAgentPolicyManager\n",
        "\n",
        "from pettingzoo.utils import parallel_to_aec\n",
        "\n",
        "from torch.utils.tensorboard import SummaryWriter"
      ],
      "metadata": {
        "id": "othtAUgWs8MA"
      },
      "execution_count": 2,
      "outputs": []
    },
    {
      "cell_type": "code",
      "source": [
        "env = HomMul()\n",
        "original_env = HomMul(render_mode=\"human\")"
      ],
      "metadata": {
        "colab": {
          "base_uri": "https://localhost:8080/"
        },
        "id": "ZkPx4nCOuhXX",
        "outputId": "5d65d2e2-b54e-4ce4-9dc3-f53f1a3ecb35"
      },
      "execution_count": 3,
      "outputs": [
        {
          "output_type": "stream",
          "name": "stderr",
          "text": [
            "/usr/local/lib/python3.10/dist-packages/ipykernel/ipkernel.py:283: DeprecationWarning: `should_run_async` will not call `transform_cell` automatically in the future. Please pass the result to `transformed_cell` argument and any exception that happen during thetransform in `preprocessing_exc_tuple` in IPython 7.17 and above.\n",
            "  and should_run_async(code)\n"
          ]
        }
      ]
    },
    {
      "cell_type": "code",
      "source": [
        "# example of gameplay\n",
        "episodes = 1\n",
        "\n",
        "for episode in range(episodes):\n",
        "    print(f\"Episode #{episode+1}\")\n",
        "    print(\"=\" * 10)\n",
        "    obs = original_env.reset()\n",
        "    print()\n",
        "\n",
        "    while original_env.agents:\n",
        "        acts = {\n",
        "            \"player1\": np.random.choice([0, 1]),\n",
        "            \"player2\": np.random.choice([0, 1])\n",
        "        }\n",
        "        print(f\"--Action taken by player 1: {original_env.action_dict[acts['player1']]}\")\n",
        "        print(f\"--Action taken by player 2: {original_env.action_dict[acts['player2']]}\")\n",
        "        print()\n",
        "\n",
        "        obs, rews, terms, truncs, infos = original_env.step(acts)\n",
        "        print()"
      ],
      "metadata": {
        "colab": {
          "base_uri": "https://localhost:8080/"
        },
        "id": "ANr_Vc2ouvVJ",
        "outputId": "90e3def7-6b93-4826-edec-3b482cb8818c"
      },
      "execution_count": 4,
      "outputs": [
        {
          "output_type": "stream",
          "name": "stdout",
          "text": [
            "Episode #1\n",
            "==========\n",
            "--Days left: 2\n",
            "--Current life of agent 1: 2\n",
            "--Current life of agent 2: 2\n",
            "--Probability of payoff for agent 1: 0.2\n",
            "--Probability of payoff for agent 2: 0.2\n",
            "\n",
            "--Action taken by player 1: wait\n",
            "--Action taken by player 2: wait\n",
            "\n",
            "--Days left: 1\n",
            "--Current life of agent 1: 1\n",
            "--Current life of agent 2: 1\n",
            "--Probability of payoff for agent 1: 0.4\n",
            "--Probability of payoff for agent 2: 0.4\n",
            "--Previous action of agent 1: wait\n",
            "--Previous action of agent 2: wait\n",
            "\n",
            "--Action taken by player 1: play\n",
            "--Action taken by player 2: wait\n",
            "\n",
            "--Days left: 0\n",
            "--Current life of agent 1: 0\n",
            "--Current life of agent 2: 0\n",
            "--Probability of payoff for agent 1: 0.4\n",
            "--Probability of payoff for agent 2: 0.4\n",
            "--Previous action of agent 1: play\n",
            "--Previous action of agent 2: wait\n",
            "\n"
          ]
        }
      ]
    },
    {
      "cell_type": "code",
      "source": [
        "# both always play\n",
        "episodes = 1000\n",
        "\n",
        "episode_rews = []\n",
        "\n",
        "for _ in range(episodes):\n",
        "\n",
        "    obs = env.reset()\n",
        "    while env.agents:\n",
        "        acts = {\n",
        "            \"player1\": 1,\n",
        "            \"player2\": 1\n",
        "        }\n",
        "\n",
        "        obs, rews, terms, truncs, infos = env.step(acts)\n",
        "        # print(obs, rews)\n",
        "\n",
        "    episode_rews.append([rews['player1'], rews['player2']])\n",
        "\n",
        "arr = np.array(episode_rews)\n",
        "death_rates = np.sum(arr, axis=0) / np.sum(arr, axis=0)[0]\n",
        "print(f\"death rate of player2: {(np.sum(arr, axis=0) / arr.shape[0])[-1] * -1:.3f}\")\n",
        "print(f\"ratio of death rate of player2 with respect to player1: {death_rates[-1]:.3f}\")\n",
        "plt.plot(arr.cumsum(axis=0))\n",
        "plt.legend((\"player1\", \"player2\"))\n",
        "plt.show()"
      ],
      "metadata": {
        "colab": {
          "base_uri": "https://localhost:8080/",
          "height": 466
        },
        "id": "biogmPIWxNv3",
        "outputId": "024e6a04-3929-403d-bb3a-c088c2c78306"
      },
      "execution_count": 5,
      "outputs": [
        {
          "output_type": "stream",
          "name": "stdout",
          "text": [
            "death rate of player2: 0.329\n",
            "ratio of death rate of player2 with respect to player1: 0.892\n"
          ]
        },
        {
          "output_type": "display_data",
          "data": {
            "text/plain": [
              "<Figure size 640x480 with 1 Axes>"
            ],
            "image/png": "[encoded data removed]"
          },
          "metadata": {}
        }
      ]
    },
    {
      "cell_type": "code",
      "source": [
        "# both always wait\n",
        "episodes = 1000\n",
        "\n",
        "episode_rews = []\n",
        "\n",
        "for _ in range(episodes):\n",
        "\n",
        "    obs = env.reset()\n",
        "    while env.agents:\n",
        "        acts = {\n",
        "            \"player1\": 0,\n",
        "            \"player2\": 0\n",
        "        }\n",
        "\n",
        "        obs, rews, terms, truncs, infos = env.step(acts)\n",
        "        # print(obs, rews)\n",
        "\n",
        "    episode_rews.append([rews['player1'], rews['player2']])\n",
        "\n",
        "arr = np.array(episode_rews)\n",
        "death_rates = np.sum(arr, axis=0) / np.sum(arr, axis=0)[0]\n",
        "print(f\"death rate of player2: {(np.sum(arr, axis=0) / arr.shape[0])[-1] * -1:.3f}\")\n",
        "print(f\"ratio of death rate of player2 with respect to player1: {death_rates[-1]:.3f}\")\n",
        "plt.plot(arr.cumsum(axis=0))\n",
        "plt.legend((\"player1\", \"player2\"))\n",
        "plt.show()"
      ],
      "metadata": {
        "colab": {
          "base_uri": "https://localhost:8080/",
          "height": 466
        },
        "id": "EpB7M86F3Nmk",
        "outputId": "ddcaec6c-c001-48bb-a8c7-ce2eb1b213ec"
      },
      "execution_count": 6,
      "outputs": [
        {
          "output_type": "stream",
          "name": "stdout",
          "text": [
            "death rate of player2: 0.449\n",
            "ratio of death rate of player2 with respect to player1: 0.720\n"
          ]
        },
        {
          "output_type": "display_data",
          "data": {
            "text/plain": [
              "<Figure size 640x480 with 1 Axes>"
            ],
            "image/png": "[encoded data removed]"
          },
          "metadata": {}
        }
      ]
    },
    {
      "cell_type": "code",
      "source": [
        "# player1 waits, player2 plays\n",
        "episodes = 1000\n",
        "\n",
        "episode_rews = []\n",
        "\n",
        "for _ in range(episodes):\n",
        "\n",
        "    obs = env.reset()\n",
        "    while env.agents:\n",
        "        acts = {\n",
        "            \"player1\": 0,\n",
        "            \"player2\": 1\n",
        "        }\n",
        "\n",
        "        obs, rews, terms, truncs, infos = env.step(acts)\n",
        "        # print(obs, rews)\n",
        "\n",
        "    episode_rews.append([rews['player1'], rews['player2']])\n",
        "\n",
        "arr = np.array(episode_rews)\n",
        "death_rates = np.sum(arr, axis=0) / np.sum(arr, axis=0)[0]\n",
        "print(f\"death rate of player2: {(np.sum(arr, axis=0) / arr.shape[0])[-1] * -1:.3f}\")\n",
        "print(f\"ratio of death rate of player2 with respect to player1: {death_rates[-1]:.3f}\")\n",
        "plt.plot(arr.cumsum(axis=0))\n",
        "plt.legend((\"player1\", \"player2\"))\n",
        "plt.show()"
      ],
      "metadata": {
        "colab": {
          "base_uri": "https://localhost:8080/",
          "height": 466
        },
        "id": "O2wI3VsI3Tc8",
        "outputId": "872dbce1-5ed2-46f5-c8f2-0be2526a2656"
      },
      "execution_count": 7,
      "outputs": [
        {
          "output_type": "stream",
          "name": "stdout",
          "text": [
            "death rate of player2: 0.563\n",
            "ratio of death rate of player2 with respect to player1: 0.860\n"
          ]
        },
        {
          "output_type": "display_data",
          "data": {
            "text/plain": [
              "<Figure size 640x480 with 1 Axes>"
            ],
            "image/png": "[encoded data removed]"
          },
          "metadata": {}
        }
      ]
    },
    {
      "cell_type": "code",
      "source": [
        "# player1 plays, player2 waits\n",
        "episodes = 1000\n",
        "\n",
        "episode_rews = []\n",
        "\n",
        "for _ in range(episodes):\n",
        "\n",
        "    obs = env.reset()\n",
        "    while env.agents:\n",
        "        acts = {\n",
        "            \"player1\": 1,\n",
        "            \"player2\": 0\n",
        "        }\n",
        "\n",
        "        obs, rews, terms, truncs, infos = env.step(acts)\n",
        "        # print(obs, rews)\n",
        "\n",
        "    episode_rews.append([rews['player1'], rews['player2']])\n",
        "\n",
        "arr = np.array(episode_rews)\n",
        "death_rates = np.sum(arr, axis=0) / np.sum(arr, axis=0)[0]\n",
        "print(f\"death rate of player2: {(np.sum(arr, axis=0) / arr.shape[0])[-1] * -1:.3f}\")\n",
        "print(f\"ratio of death rate of player2 with respect to player1: {death_rates[-1]:.3f}\")\n",
        "plt.plot(arr.cumsum(axis=0))\n",
        "plt.legend((\"player1\", \"player2\"))\n",
        "plt.show()"
      ],
      "metadata": {
        "colab": {
          "base_uri": "https://localhost:8080/",
          "height": 466
        },
        "id": "9eJWcQqC3Z99",
        "outputId": "f44d28fd-6752-4b87-b42d-a961d461223d"
      },
      "execution_count": 8,
      "outputs": [
        {
          "output_type": "stream",
          "name": "stdout",
          "text": [
            "death rate of player2: 0.426\n",
            "ratio of death rate of player2 with respect to player1: 0.690\n"
          ]
        },
        {
          "output_type": "display_data",
          "data": {
            "text/plain": [
              "<Figure size 640x480 with 1 Axes>"
            ],
            "image/png": "[encoded data removed]"
          },
          "metadata": {}
        }
      ]
    },
    {
      "cell_type": "code",
      "source": [
        "# Always play vs random agent\n",
        "episodes = 1000\n",
        "\n",
        "episode_rews = []\n",
        "\n",
        "for _ in range(episodes):\n",
        "\n",
        "    obs = env.reset()\n",
        "    while env.agents:\n",
        "        acts = {\n",
        "            \"player1\": 1,\n",
        "            \"player2\": np.random.choice([0, 1])\n",
        "        }\n",
        "\n",
        "        obs, rews, terms, truncs, infos = env.step(acts)\n",
        "        # print(obs, rews)\n",
        "\n",
        "    episode_rews.append([rews['player1'], rews['player2']])\n",
        "\n",
        "arr = np.array(episode_rews)\n",
        "death_rates = np.sum(arr, axis=0) / np.sum(arr, axis=0)[0]\n",
        "print(f\"death rate of player2: {(np.sum(arr, axis=0) / arr.shape[0])[-1] * -1:.3f}\")\n",
        "print(f\"ratio of death rate of player2 with respect to player1: {death_rates[-1]:.3f}\")\n",
        "plt.plot(arr.cumsum(axis=0))\n",
        "plt.legend((\"player1\", \"player2\"))\n",
        "plt.show()"
      ],
      "metadata": {
        "colab": {
          "base_uri": "https://localhost:8080/",
          "height": 466
        },
        "id": "FPLlpZUh3i8f",
        "outputId": "916b43f9-93fe-4dc6-d1c0-8f679e9ff3c0"
      },
      "execution_count": 9,
      "outputs": [
        {
          "output_type": "stream",
          "name": "stdout",
          "text": [
            "death rate of player2: 0.391\n",
            "ratio of death rate of player2 with respect to player1: 0.784\n"
          ]
        },
        {
          "output_type": "display_data",
          "data": {
            "text/plain": [
              "<Figure size 640x480 with 1 Axes>"
            ],
            "image/png": "[encoded data removed]"
          },
          "metadata": {}
        }
      ]
    },
    {
      "cell_type": "code",
      "source": [
        "# Always wait vs random agent\n",
        "episodes = 1000\n",
        "\n",
        "episode_rews = []\n",
        "\n",
        "for _ in range(episodes):\n",
        "\n",
        "    obs = env.reset()\n",
        "    while env.agents:\n",
        "        acts = {\n",
        "            \"player1\": 0,\n",
        "            \"player2\": np.random.choice([0, 1])\n",
        "        }\n",
        "\n",
        "        obs, rews, terms, truncs, infos = env.step(acts)\n",
        "        # print(obs, rews)\n",
        "\n",
        "    episode_rews.append([rews['player1'], rews['player2']])\n",
        "\n",
        "arr = np.array(episode_rews)\n",
        "death_rates = np.sum(arr, axis=0) / np.sum(arr, axis=0)[0]\n",
        "print(f\"death rate of player2: {(np.sum(arr, axis=0) / arr.shape[0])[-1] * -1:.3f}\")\n",
        "print(f\"ratio of death rate of player2 with respect to player1: {death_rates[-1]:.3f}\")\n",
        "plt.plot(arr.cumsum(axis=0))\n",
        "plt.legend((\"player1\", \"player2\"))\n",
        "plt.show()"
      ],
      "metadata": {
        "colab": {
          "base_uri": "https://localhost:8080/",
          "height": 466
        },
        "id": "A2Ei4LU75us9",
        "outputId": "d76717ff-bbc9-47e8-a8d2-0862810773cb"
      },
      "execution_count": 10,
      "outputs": [
        {
          "output_type": "stream",
          "name": "stdout",
          "text": [
            "death rate of player2: 0.516\n",
            "ratio of death rate of player2 with respect to player1: 0.805\n"
          ]
        },
        {
          "output_type": "display_data",
          "data": {
            "text/plain": [
              "<Figure size 640x480 with 1 Axes>"
            ],
            "image/png": "[encoded data removed]"
          },
          "metadata": {}
        }
      ]
    },
    {
      "cell_type": "code",
      "source": [
        "# Always play vs hail mary\n",
        "episodes = 1000\n",
        "\n",
        "episode_rews = []\n",
        "\n",
        "for _ in range(episodes):\n",
        "\n",
        "    obs = env.reset()\n",
        "    while env.agents:\n",
        "        acts = {\n",
        "            \"player1\": 1,\n",
        "            \"player2\": 1 if obs[\"player2\"][\"observation\"][0, 2] <= 1 else 0\n",
        "        }\n",
        "\n",
        "        obs, rews, terms, truncs, infos = env.step(acts)\n",
        "        # print(obs, rews)\n",
        "\n",
        "    episode_rews.append([rews['player1'], rews['player2']])\n",
        "\n",
        "arr = np.array(episode_rews)\n",
        "death_rates = np.sum(arr, axis=0) / np.sum(arr, axis=0)[0]\n",
        "print(f\"death rate of player2: {(np.sum(arr, axis=0) / arr.shape[0])[-1] * -1:.3f}\")\n",
        "print(f\"ratio of death rate of player2 with respect to player1: {death_rates[-1]:.3f}\")\n",
        "plt.plot(arr.cumsum(axis=0))\n",
        "plt.legend((\"player1\", \"player2\"))\n",
        "plt.show()"
      ],
      "metadata": {
        "colab": {
          "base_uri": "https://localhost:8080/",
          "height": 466
        },
        "id": "onhvByjW51QN",
        "outputId": "47b91624-8dff-45c8-ea1e-2362d67bfc48"
      },
      "execution_count": 11,
      "outputs": [
        {
          "output_type": "stream",
          "name": "stdout",
          "text": [
            "death rate of player2: 0.214\n",
            "ratio of death rate of player2 with respect to player1: 0.380\n"
          ]
        },
        {
          "output_type": "display_data",
          "data": {
            "text/plain": [
              "<Figure size 640x480 with 1 Axes>"
            ],
            "image/png": "[encoded data removed]"
          },
          "metadata": {}
        }
      ]
    },
    {
      "cell_type": "code",
      "source": [
        "# Always wait vs hail mary\n",
        "episodes = 1000\n",
        "\n",
        "episode_rews = []\n",
        "\n",
        "for _ in range(episodes):\n",
        "\n",
        "    obs = env.reset()\n",
        "    while env.agents:\n",
        "        acts = {\n",
        "            \"player1\": 0,\n",
        "            \"player2\": 1 if obs[\"player2\"][\"observation\"][0, 2] <= 1 else 0\n",
        "        }\n",
        "\n",
        "        obs, rews, terms, truncs, infos = env.step(acts)\n",
        "        # print(obs, rews)\n",
        "\n",
        "    episode_rews.append([rews['player1'], rews['player2']])\n",
        "\n",
        "arr = np.array(episode_rews)\n",
        "death_rates = np.sum(arr, axis=0) / np.sum(arr, axis=0)[0]\n",
        "print(f\"death rate of player2: {(np.sum(arr, axis=0) / arr.shape[0])[-1] * -1:.3f}\")\n",
        "print(f\"ratio of death rate of player2 with respect to player1: {death_rates[-1]:.3f}\")\n",
        "plt.plot(arr.cumsum(axis=0))\n",
        "plt.legend((\"player1\", \"player2\"))\n",
        "plt.show()"
      ],
      "metadata": {
        "colab": {
          "base_uri": "https://localhost:8080/",
          "height": 466
        },
        "id": "V8KQIrS76GRt",
        "outputId": "8e215467-de94-4125-d105-fb07cf174cf8"
      },
      "execution_count": 12,
      "outputs": [
        {
          "output_type": "stream",
          "name": "stdout",
          "text": [
            "death rate of player2: 0.314\n",
            "ratio of death rate of player2 with respect to player1: 0.486\n"
          ]
        },
        {
          "output_type": "display_data",
          "data": {
            "text/plain": [
              "<Figure size 640x480 with 1 Axes>"
            ],
            "image/png": "[encoded data removed]"
          },
          "metadata": {}
        }
      ]
    },
    {
      "cell_type": "code",
      "source": [],
      "metadata": {
        "id": "CN1O0NBCbaVX"
      },
      "execution_count": 12,
      "outputs": []
    },
    {
      "cell_type": "code",
      "source": [
        "def optimal(obs):\n",
        "    df = pd.read_csv(\"models/optimal_policy.csv\")\n",
        "    return df.loc[\n",
        "        (df[\"days_left\"] == obs[\"player1\"][\"observation\"][0][0]) &\n",
        "        (df[\"player1_life_points\"] == obs[\"player1\"][\"observation\"][0][1]) &\n",
        "        (df[\"player2_life_points\"] == obs[\"player1\"][\"observation\"][0][2]) &\n",
        "        (df[\"player1_prob_payoff\"] == obs[\"player1\"][\"observation\"][0][3])\n",
        "    ][\"action\"].values[0] - 1"
      ],
      "metadata": {
        "id": "QBM2c6-kc-AP"
      },
      "execution_count": 13,
      "outputs": []
    },
    {
      "cell_type": "code",
      "source": [
        "# hail mary vs optimal\n",
        "episodes = 1000\n",
        "\n",
        "episode_rews = []\n",
        "\n",
        "for _ in range(episodes):\n",
        "\n",
        "    obs = env.reset()\n",
        "    while env.agents:\n",
        "        acts = {\n",
        "            \"player1\": 1 if obs[\"player2\"][\"observation\"][0, 2] <= 1 else 0,\n",
        "            \"player2\": optimal(obs)\n",
        "        }\n",
        "\n",
        "        obs, rews, terms, truncs, infos = env.step(acts)\n",
        "        # print(obs, rews)\n",
        "\n",
        "    episode_rews.append([rews['player1'], rews['player2']])\n",
        "\n",
        "arr = np.array(episode_rews)\n",
        "death_rates = np.sum(arr, axis=0) / np.sum(arr, axis=0)[0]\n",
        "print(f\"death rate of player2: {(np.sum(arr, axis=0) / arr.shape[0])[-1] * -1:.3f}\")\n",
        "print(f\"ratio of death rate of player2 with respect to player1: {death_rates[-1]:.3f}\")\n",
        "plt.plot(arr.cumsum(axis=0))\n",
        "plt.legend((\"player1\", \"player2\"))\n",
        "plt.show()"
      ],
      "metadata": {
        "id": "Rp5rTe78auBy",
        "outputId": "e155b998-aa9a-411b-bfc5-ff31ca35ed4f",
        "colab": {
          "base_uri": "https://localhost:8080/",
          "height": 466
        }
      },
      "execution_count": 14,
      "outputs": [
        {
          "output_type": "stream",
          "name": "stdout",
          "text": [
            "death rate of player2: 0.293\n",
            "ratio of death rate of player2 with respect to player1: 0.539\n"
          ]
        },
        {
          "output_type": "display_data",
          "data": {
            "text/plain": [
              "<Figure size 640x480 with 1 Axes>"
            ],
            "image/png": "[encoded data removed]"
          },
          "metadata": {}
        }
      ]
    },
    {
      "cell_type": "code",
      "source": [
        "# Always wait vs optimal\n",
        "episodes = 1000\n",
        "\n",
        "episode_rews = []\n",
        "\n",
        "for _ in range(episodes):\n",
        "\n",
        "    obs = env.reset()\n",
        "    while env.agents:\n",
        "        acts = {\n",
        "            \"player1\": 0,\n",
        "            \"player2\": optimal(obs)\n",
        "        }\n",
        "\n",
        "        obs, rews, terms, truncs, infos = env.step(acts)\n",
        "        # print(obs, rews)\n",
        "\n",
        "    episode_rews.append([rews['player1'], rews['player2']])\n",
        "\n",
        "arr = np.array(episode_rews)\n",
        "death_rates = np.sum(arr, axis=0) / np.sum(arr, axis=0)[0]\n",
        "print(f\"death rate of player2: {(np.sum(arr, axis=0) / arr.shape[0])[-1] * -1:.3f}\")\n",
        "print(f\"ratio of death rate of player2 with respect to player1: {death_rates[-1]:.3f}\")\n",
        "plt.plot(arr.cumsum(axis=0))\n",
        "plt.legend((\"player1\", \"player2\"))\n",
        "plt.show()"
      ],
      "metadata": {
        "id": "RL0wZWyMh7l9",
        "outputId": "498c8154-5d3e-4f56-b404-87f2242cf7e2",
        "colab": {
          "base_uri": "https://localhost:8080/",
          "height": 466
        }
      },
      "execution_count": 15,
      "outputs": [
        {
          "output_type": "stream",
          "name": "stdout",
          "text": [
            "death rate of player2: 0.346\n",
            "ratio of death rate of player2 with respect to player1: 0.546\n"
          ]
        },
        {
          "output_type": "display_data",
          "data": {
            "text/plain": [
              "<Figure size 640x480 with 1 Axes>"
            ],
            "image/png": "[encoded data removed]"
          },
          "metadata": {}
        }
      ]
    },
    {
      "cell_type": "code",
      "source": [
        "# Always play vs optimal\n",
        "episodes = 1000\n",
        "\n",
        "episode_rews = []\n",
        "\n",
        "for _ in range(episodes):\n",
        "\n",
        "    obs = env.reset()\n",
        "    while env.agents:\n",
        "        acts = {\n",
        "            \"player1\": 1,\n",
        "            \"player2\": optimal(obs)\n",
        "        }\n",
        "\n",
        "        obs, rews, terms, truncs, infos = env.step(acts)\n",
        "        # print(obs, rews)\n",
        "\n",
        "    episode_rews.append([rews['player1'], rews['player2']])\n",
        "\n",
        "arr = np.array(episode_rews)\n",
        "death_rates = np.sum(arr, axis=0) / np.sum(arr, axis=0)[0]\n",
        "print(f\"death rate of player2: {(np.sum(arr, axis=0) / arr.shape[0])[-1] * -1:.3f}\")\n",
        "print(f\"ratio of death rate of player2 with respect to player1: {death_rates[-1]:.3f}\")\n",
        "plt.plot(arr.cumsum(axis=0))\n",
        "plt.legend((\"player1\", \"player2\"))\n",
        "plt.show()"
      ],
      "metadata": {
        "id": "mUTFipKjh8O-",
        "outputId": "1bbb75db-fa58-43b0-83c6-4cedc767c645",
        "colab": {
          "base_uri": "https://localhost:8080/",
          "height": 522
        }
      },
      "execution_count": 16,
      "outputs": [
        {
          "output_type": "stream",
          "name": "stderr",
          "text": [
            "/usr/local/lib/python3.10/dist-packages/ipykernel/ipkernel.py:283: DeprecationWarning: `should_run_async` will not call `transform_cell` automatically in the future. Please pass the result to `transformed_cell` argument and any exception that happen during thetransform in `preprocessing_exc_tuple` in IPython 7.17 and above.\n",
            "  and should_run_async(code)\n"
          ]
        },
        {
          "output_type": "stream",
          "name": "stdout",
          "text": [
            "death rate of player2: 0.197\n",
            "ratio of death rate of player2 with respect to player1: 0.416\n"
          ]
        },
        {
          "output_type": "display_data",
          "data": {
            "text/plain": [
              "<Figure size 640x480 with 1 Axes>"
            ],
            "image/png": "[encoded data removed]"
          },
          "metadata": {}
        }
      ]
    },
    {
      "cell_type": "code",
      "source": [],
      "metadata": {
        "id": "euvYVO0DaucW"
      },
      "execution_count": null,
      "outputs": []
    },
    {
      "cell_type": "code",
      "source": [
        "## agent that always plays\n",
        "class AlwaysPlay(BasePolicy):\n",
        "    def __init__(self, **kwargs):\n",
        "        self.nolearn = True\n",
        "        super().__init__(**kwargs)\n",
        "    \n",
        "    def forward(self, batch, state = None):\n",
        "        mask = batch.obs.mask\n",
        "        logits = np.zeros(mask.shape)\n",
        "        logits[:, 1] = 1\n",
        "        logits[~mask] = -np.inf\n",
        "        return Batch(act=logits.argmax(axis=-1))\n",
        "\n",
        "    def learn(self, batch):\n",
        "        return {}\n",
        "\n",
        "## agent that always waits\n",
        "class AlwaysWait(BasePolicy):\n",
        "    def __init__(self, **kwargs):\n",
        "        self.nolearn = True\n",
        "        super().__init__(**kwargs)\n",
        "\n",
        "    def forward(self, batch, state = None):\n",
        "        mask = batch.obs.mask\n",
        "        logits = np.zeros(mask.shape)\n",
        "        logits[:, 0] = 1\n",
        "        logits[~mask] = -np.inf\n",
        "        return Batch(act=logits.argmax(axis=-1))\n",
        "\n",
        "    def learn(self, batch):\n",
        "        return {}\n",
        "\n",
        "## agent that waits for low health to play\n",
        "class HailMary(BasePolicy):\n",
        "    def __init__(self, **kwargs):\n",
        "        self.nolearn = True\n",
        "        super().__init__(**kwargs)\n",
        "\n",
        "    def forward(self, batch, state = None):\n",
        "        mask = batch.obs.mask\n",
        "        logits = np.zeros(mask.shape)\n",
        "        obs = batch.obs.obs\n",
        "\n",
        "        for i in range(mask.shape[0]):\n",
        "            if obs[i, :, 1] <= 1:\n",
        "                logits[i, 1] = 1\n",
        "            else:\n",
        "                logits[i, 0] = 1\n",
        "        logits[~mask] = -np.inf\n",
        "        return Batch(act=logits.argmax(axis=-1))\n",
        "\n",
        "    def learn(self, batch):\n",
        "        return {}\n",
        "\n",
        "## random agent\n",
        "class RandomAgent(BasePolicy):\n",
        "    def __init__(self, **kwargs):\n",
        "        self.nolearn = True\n",
        "        super().__init__(**kwargs)\n",
        "\n",
        "    def forward(self, batch, state = None):\n",
        "        mask = batch.obs.mask\n",
        "        logits = np.zeros(mask.shape)\n",
        "        logits[:, np.random.choice([0, 1])] = 1\n",
        "        logits[~mask] = -np.inf\n",
        "        return Batch(act=logits.argmax(axis=-1))\n",
        "\n",
        "    def learn(self, batch):\n",
        "        return {}"
      ],
      "metadata": {
        "id": "n5nzTky1bTJk"
      },
      "execution_count": 14,
      "outputs": []
    },
    {
      "cell_type": "code",
      "source": [
        "# Step 2: Wrap the environment for Tianshou interfacing\n",
        "def _get_env():\n",
        "    env = HomMul()\n",
        "    vec_env = parallel_to_aec(env)\n",
        "    return PettingZooEnv(vec_env)\n",
        "\n",
        "# seed\n",
        "seed = 42\n",
        "np.random.seed(seed)\n",
        "torch.manual_seed(seed)\n",
        "\n",
        "env = HomMul()\n",
        "agents =  env.agents[:]\n",
        "\n",
        "# Step 3: Define policies for each agent\n",
        "## learning agent\n",
        "def _get_agent(pretrained=False):\n",
        "    vec_env = _get_env()\n",
        "    net = Net(\n",
        "        state_shape=vec_env.observation_space.shape,\n",
        "        action_shape=vec_env.action_space.n,\n",
        "        hidden_sizes=[128, 128],\n",
        "        device=\"cuda\",\n",
        "    ).to(\"cuda\")\n",
        "    optim = Adam(net.parameters(), lr=1e-4)\n",
        "    model = DQNPolicy(\n",
        "        model=net,\n",
        "        optim=optim,\n",
        "        discount_factor=0.9,\n",
        "        estimation_step=3,\n",
        "        target_update_freq=50,\n",
        "    )\n",
        "\n",
        "    # if pretrained:\n",
        "    #     model_save_path = os.path.join(\"models\", \"vs_hail_mary.pth\")\n",
        "    #     model.load_state_dict(torch.load(model_save_path))\n",
        "    return model\n",
        "\n",
        "agent_learn1 = _get_agent()\n",
        "agent_learn2 = _get_agent()\n",
        "\n",
        "policy = MultiAgentPolicyManager([AlwaysPlay(), agent_learn2],  _get_env())\n",
        "\n",
        "train_envs = DummyVectorEnv([_get_env for _ in range(5)])\n",
        "test_envs = DummyVectorEnv([_get_env for _ in range(2)])\n",
        "train_envs.seed(seed)\n",
        "test_envs.seed(seed)\n",
        "\n",
        "# Step 4: Collector setup\n",
        "train_collector = Collector(\n",
        "    policy,\n",
        "    train_envs,\n",
        "    VectorReplayBuffer(20_000, len(train_envs)),\n",
        "    exploration_noise=True,\n",
        ")\n",
        "test_collector = Collector(policy, test_envs, exploration_noise=True)\n",
        "\n",
        "train_collector.collect(n_step=50)\n",
        "\n",
        "def save_best_fn(policy):\n",
        "    model_save_path1 = os.path.join(\"log\", \"hommul\", \"dqn\", \"policy1.pth\")\n",
        "    model_save_path2 = os.path.join(\"log\", \"hommul\", \"dqn\", \"policy2.pth\")\n",
        "    os.makedirs(os.path.join(\"log\", \"hommul\", \"dqn\"), exist_ok=True)\n",
        "    if not hasattr(policy.policies[agents[0]], 'nolearn'):\n",
        "        torch.save(policy.policies[agents[0]].state_dict(), model_save_path1)\n",
        "    if not hasattr(policy.policies[agents[1]], 'nolearn'):\n",
        "        torch.save(policy.policies[agents[1]].state_dict(), model_save_path2)\n",
        "\n",
        "def stop_fn(mean_rewards):\n",
        "    return mean_rewards >= 10\n",
        "\n",
        "def train_fn(epoch, env_step):\n",
        "    if not hasattr(policy.policies[agents[0]], 'nolearn'):\n",
        "        policy.policies[agents[0]].set_eps(0.1)\n",
        "\n",
        "    if not hasattr(policy.policies[agents[1]], 'nolearn'):\n",
        "        policy.policies[agents[1]].set_eps(0.1)\n",
        "\n",
        "def test_fn(epoch, env_step):\n",
        "    if not hasattr(policy.policies[agents[0]], 'nolearn'):\n",
        "        policy.policies[agents[0]].set_eps(0.05)\n",
        "\n",
        "    if not hasattr(policy.policies[agents[1]], 'nolearn'):\n",
        "        policy.policies[agents[1]].set_eps(0.05)\n",
        "\n",
        "def reward_metric(rews):\n",
        "    return rews[:, 1]"
      ],
      "metadata": {
        "id": "Z-AOFEZAcNGV"
      },
      "execution_count": 15,
      "outputs": []
    },
    {
      "cell_type": "code",
      "source": [
        "# clear logs and setup TBoard\n",
        "!rm -rf /content/HomMul/log\n",
        "\n",
        "log_path = os.path.join(\"log\", \"hommul\", \"dqn\")\n",
        "writer = SummaryWriter(log_path)\n",
        "logger = TensorboardLogger(writer)"
      ],
      "metadata": {
        "colab": {
          "base_uri": "https://localhost:8080/"
        },
        "id": "t_dRm6ZTdV2v",
        "outputId": "34821d00-ffb5-45b1-f0fb-873201d1509c"
      },
      "execution_count": 16,
      "outputs": [
        {
          "output_type": "stream",
          "name": "stderr",
          "text": [
            "/usr/local/lib/python3.10/dist-packages/ipykernel/ipkernel.py:283: DeprecationWarning: `should_run_async` will not call `transform_cell` automatically in the future. Please pass the result to `transformed_cell` argument and any exception that happen during thetransform in `preprocessing_exc_tuple` in IPython 7.17 and above.\n",
            "  and should_run_async(code)\n"
          ]
        }
      ]
    },
    {
      "cell_type": "code",
      "source": [
        "# Step 5: Run trainer\n",
        "result = offpolicy_trainer(\n",
        "    policy=policy,\n",
        "    train_collector=train_collector,\n",
        "    test_collector=test_collector,\n",
        "    max_epoch=100,\n",
        "    step_per_epoch=1000,\n",
        "    step_per_collect=50,\n",
        "    episode_per_test=100,\n",
        "    batch_size=64,\n",
        "    train_fn=train_fn,\n",
        "    test_fn=test_fn,\n",
        "    stop_fn=stop_fn,\n",
        "    save_best_fn=save_best_fn,\n",
        "    update_per_step=0.1,\n",
        "    test_in_train=False,\n",
        "    reward_metric=reward_metric,\n",
        "    logger=logger\n",
        ")\n",
        "result"
      ],
      "metadata": {
        "colab": {
          "base_uri": "https://localhost:8080/"
        },
        "id": "69UICm9_dwdD",
        "outputId": "549d0be0-15a4-4b55-d04a-f694c1cb1596"
      },
      "execution_count": 17,
      "outputs": [
        {
          "output_type": "stream",
          "name": "stderr",
          "text": [
            "Epoch #1: 1001it [00:02, 482.30it/s, env_step=1000, len=2, n/ep=17, n/st=50, player2/loss=0.298, rew=-0.41]                          \n"
          ]
        },
        {
          "output_type": "stream",
          "name": "stdout",
          "text": [
            "Epoch #1: test_reward: -0.280000 ± 0.448999, best_reward: -0.280000 ± 0.448999 in #1\n"
          ]
        },
        {
          "output_type": "stream",
          "name": "stderr",
          "text": [
            "Epoch #2: 1001it [00:00, 1186.29it/s, env_step=2000, len=3, n/ep=18, n/st=50, player2/loss=0.303, rew=-0.33]                          \n"
          ]
        },
        {
          "output_type": "stream",
          "name": "stdout",
          "text": [
            "Epoch #2: test_reward: -0.310000 ± 0.462493, best_reward: -0.280000 ± 0.448999 in #1\n"
          ]
        },
        {
          "output_type": "stream",
          "name": "stderr",
          "text": [
            "Epoch #3: 1001it [00:00, 1169.41it/s, env_step=3000, len=3, n/ep=16, n/st=50, player2/loss=0.368, rew=-0.31]                          \n"
          ]
        },
        {
          "output_type": "stream",
          "name": "stdout",
          "text": [
            "Epoch #3: test_reward: -0.350000 ± 0.476970, best_reward: -0.280000 ± 0.448999 in #1\n"
          ]
        },
        {
          "output_type": "stream",
          "name": "stderr",
          "text": [
            "Epoch #4: 1001it [00:00, 1173.30it/s, env_step=4000, len=3, n/ep=18, n/st=50, player2/loss=0.435, rew=-0.33]                          \n"
          ]
        },
        {
          "output_type": "stream",
          "name": "stdout",
          "text": [
            "Epoch #4: test_reward: -0.370000 ± 0.482804, best_reward: -0.280000 ± 0.448999 in #1\n"
          ]
        },
        {
          "output_type": "stream",
          "name": "stderr",
          "text": [
            "Epoch #5: 1001it [00:00, 1108.09it/s, env_step=5000, len=2, n/ep=17, n/st=50, player2/loss=0.505, rew=-0.18]                          \n"
          ]
        },
        {
          "output_type": "stream",
          "name": "stdout",
          "text": [
            "Epoch #5: test_reward: -0.290000 ± 0.453762, best_reward: -0.280000 ± 0.448999 in #1\n"
          ]
        },
        {
          "output_type": "stream",
          "name": "stderr",
          "text": [
            "Epoch #6: 1001it [00:01, 869.73it/s, env_step=6000, len=2, n/ep=17, n/st=50, player2/loss=0.638, rew=-0.53]                          \n"
          ]
        },
        {
          "output_type": "stream",
          "name": "stdout",
          "text": [
            "Epoch #6: test_reward: -0.310000 ± 0.462493, best_reward: -0.280000 ± 0.448999 in #1\n"
          ]
        },
        {
          "output_type": "stream",
          "name": "stderr",
          "text": [
            "Epoch #7: 1001it [00:01, 940.37it/s, env_step=7000, len=3, n/ep=18, n/st=50, player2/loss=0.765, rew=-0.50]                          \n"
          ]
        },
        {
          "output_type": "stream",
          "name": "stdout",
          "text": [
            "Epoch #7: test_reward: -0.300000 ± 0.458258, best_reward: -0.280000 ± 0.448999 in #1\n"
          ]
        },
        {
          "output_type": "stream",
          "name": "stderr",
          "text": [
            "Epoch #8: 1001it [00:00, 1194.52it/s, env_step=8000, len=3, n/ep=16, n/st=50, player2/loss=0.789, rew=-0.38]                          \n"
          ]
        },
        {
          "output_type": "stream",
          "name": "stdout",
          "text": [
            "Epoch #8: test_reward: -0.260000 ± 0.438634, best_reward: -0.260000 ± 0.438634 in #8\n"
          ]
        },
        {
          "output_type": "stream",
          "name": "stderr",
          "text": [
            "Epoch #9: 1001it [00:00, 1218.42it/s, env_step=9000, len=2, n/ep=17, n/st=50, player2/loss=0.925, rew=-0.29]                          \n"
          ]
        },
        {
          "output_type": "stream",
          "name": "stdout",
          "text": [
            "Epoch #9: test_reward: -0.380000 ± 0.485386, best_reward: -0.260000 ± 0.438634 in #8\n"
          ]
        },
        {
          "output_type": "stream",
          "name": "stderr",
          "text": [
            "Epoch #10: 1001it [00:00, 1198.93it/s, env_step=10000, len=2, n/ep=19, n/st=50, player2/loss=0.978, rew=-0.32]                          \n"
          ]
        },
        {
          "output_type": "stream",
          "name": "stdout",
          "text": [
            "Epoch #10: test_reward: -0.380000 ± 0.485386, best_reward: -0.260000 ± 0.438634 in #8\n"
          ]
        },
        {
          "output_type": "stream",
          "name": "stderr",
          "text": [
            "Epoch #11: 1001it [00:00, 1143.30it/s, env_step=11000, len=3, n/ep=16, n/st=50, player2/loss=1.119, rew=-0.56]                          \n"
          ]
        },
        {
          "output_type": "stream",
          "name": "stdout",
          "text": [
            "Epoch #11: test_reward: -0.370000 ± 0.482804, best_reward: -0.260000 ± 0.438634 in #8\n"
          ]
        },
        {
          "output_type": "stream",
          "name": "stderr",
          "text": [
            "Epoch #12: 1001it [00:00, 1213.07it/s, env_step=12000, len=2, n/ep=17, n/st=50, player2/loss=1.044, rew=-0.24]                          \n"
          ]
        },
        {
          "output_type": "stream",
          "name": "stdout",
          "text": [
            "Epoch #12: test_reward: -0.330000 ± 0.470213, best_reward: -0.260000 ± 0.438634 in #8\n"
          ]
        },
        {
          "output_type": "stream",
          "name": "stderr",
          "text": [
            "Epoch #13: 1001it [00:00, 1179.71it/s, env_step=13000, len=3, n/ep=16, n/st=50, player2/loss=1.215, rew=-0.19]                          \n"
          ]
        },
        {
          "output_type": "stream",
          "name": "stdout",
          "text": [
            "Epoch #13: test_reward: -0.380000 ± 0.485386, best_reward: -0.260000 ± 0.438634 in #8\n"
          ]
        },
        {
          "output_type": "stream",
          "name": "stderr",
          "text": [
            "Epoch #14: 1001it [00:00, 1218.93it/s, env_step=14000, len=2, n/ep=17, n/st=50, player2/loss=1.176, rew=-0.24]                          \n"
          ]
        },
        {
          "output_type": "stream",
          "name": "stdout",
          "text": [
            "Epoch #14: test_reward: -0.260000 ± 0.438634, best_reward: -0.260000 ± 0.438634 in #8\n"
          ]
        },
        {
          "output_type": "stream",
          "name": "stderr",
          "text": [
            "Epoch #15: 1001it [00:00, 1254.17it/s, env_step=15000, len=3, n/ep=14, n/st=50, player2/loss=1.263, rew=-0.43]                          \n"
          ]
        },
        {
          "output_type": "stream",
          "name": "stdout",
          "text": [
            "Epoch #15: test_reward: -0.340000 ± 0.473709, best_reward: -0.260000 ± 0.438634 in #8\n"
          ]
        },
        {
          "output_type": "stream",
          "name": "stderr",
          "text": [
            "Epoch #16: 1001it [00:00, 1153.16it/s, env_step=16000, len=3, n/ep=15, n/st=50, player2/loss=1.291, rew=-0.40]                          \n"
          ]
        },
        {
          "output_type": "stream",
          "name": "stdout",
          "text": [
            "Epoch #16: test_reward: -0.430000 ± 0.495076, best_reward: -0.260000 ± 0.438634 in #8\n"
          ]
        },
        {
          "output_type": "stream",
          "name": "stderr",
          "text": [
            "Epoch #17: 1001it [00:01, 982.60it/s, env_step=17000, len=2, n/ep=18, n/st=50, player2/loss=1.324, rew=-0.11]                          \n"
          ]
        },
        {
          "output_type": "stream",
          "name": "stdout",
          "text": [
            "Epoch #17: test_reward: -0.310000 ± 0.462493, best_reward: -0.260000 ± 0.438634 in #8\n"
          ]
        },
        {
          "output_type": "stream",
          "name": "stderr",
          "text": [
            "Epoch #18: 1001it [00:01, 892.86it/s, env_step=18000, len=2, n/ep=16, n/st=50, player2/loss=1.250, rew=-0.31]                          \n"
          ]
        },
        {
          "output_type": "stream",
          "name": "stdout",
          "text": [
            "Epoch #18: test_reward: -0.270000 ± 0.443959, best_reward: -0.260000 ± 0.438634 in #8\n"
          ]
        },
        {
          "output_type": "stream",
          "name": "stderr",
          "text": [
            "Epoch #19: 1001it [00:00, 1094.70it/s, env_step=19000, len=2, n/ep=17, n/st=50, player2/loss=1.361, rew=-0.24]                          \n"
          ]
        },
        {
          "output_type": "stream",
          "name": "stdout",
          "text": [
            "Epoch #19: test_reward: -0.340000 ± 0.473709, best_reward: -0.260000 ± 0.438634 in #8\n"
          ]
        },
        {
          "output_type": "stream",
          "name": "stderr",
          "text": [
            "Epoch #20: 1001it [00:00, 1221.75it/s, env_step=20000, len=3, n/ep=16, n/st=50, player2/loss=1.414, rew=-0.31]                          \n"
          ]
        },
        {
          "output_type": "stream",
          "name": "stdout",
          "text": [
            "Epoch #20: test_reward: -0.390000 ± 0.487750, best_reward: -0.260000 ± 0.438634 in #8\n"
          ]
        },
        {
          "output_type": "stream",
          "name": "stderr",
          "text": [
            "Epoch #21: 1001it [00:00, 1222.28it/s, env_step=21000, len=3, n/ep=17, n/st=50, player2/loss=1.505, rew=-0.35]                          \n"
          ]
        },
        {
          "output_type": "stream",
          "name": "stdout",
          "text": [
            "Epoch #21: test_reward: -0.380000 ± 0.485386, best_reward: -0.260000 ± 0.438634 in #8\n"
          ]
        },
        {
          "output_type": "stream",
          "name": "stderr",
          "text": [
            "Epoch #22: 1001it [00:01, 874.58it/s, env_step=22000, len=3, n/ep=16, n/st=50, player2/loss=1.658, rew=-0.31]                           \n"
          ]
        },
        {
          "output_type": "stream",
          "name": "stdout",
          "text": [
            "Epoch #22: test_reward: -0.380000 ± 0.485386, best_reward: -0.260000 ± 0.438634 in #8\n"
          ]
        },
        {
          "output_type": "stream",
          "name": "stderr",
          "text": [
            "Epoch #23: 1001it [00:00, 1217.27it/s, env_step=23000, len=3, n/ep=16, n/st=50, player2/loss=1.695, rew=-0.44]                          \n"
          ]
        },
        {
          "output_type": "stream",
          "name": "stdout",
          "text": [
            "Epoch #23: test_reward: -0.360000 ± 0.480000, best_reward: -0.260000 ± 0.438634 in #8\n"
          ]
        },
        {
          "output_type": "stream",
          "name": "stderr",
          "text": [
            "Epoch #24: 1001it [00:01, 584.22it/s, env_step=24000, len=3, n/ep=16, n/st=50, player2/loss=1.652, rew=-0.38]                          \n"
          ]
        },
        {
          "output_type": "stream",
          "name": "stdout",
          "text": [
            "Epoch #24: test_reward: -0.300000 ± 0.458258, best_reward: -0.260000 ± 0.438634 in #8\n"
          ]
        },
        {
          "output_type": "stream",
          "name": "stderr",
          "text": [
            "Epoch #25: 1001it [00:01, 723.75it/s, env_step=25000, len=2, n/ep=18, n/st=50, player2/loss=1.482, rew=-0.17]                          \n"
          ]
        },
        {
          "output_type": "stream",
          "name": "stdout",
          "text": [
            "Epoch #25: test_reward: -0.410000 ± 0.491833, best_reward: -0.260000 ± 0.438634 in #8\n"
          ]
        },
        {
          "output_type": "stream",
          "name": "stderr",
          "text": [
            "Epoch #26: 1001it [00:01, 770.72it/s, env_step=26000, len=3, n/ep=15, n/st=50, player2/loss=1.528, rew=-0.13]                          \n"
          ]
        },
        {
          "output_type": "stream",
          "name": "stdout",
          "text": [
            "Epoch #26: test_reward: -0.320000 ± 0.466476, best_reward: -0.260000 ± 0.438634 in #8\n"
          ]
        },
        {
          "output_type": "stream",
          "name": "stderr",
          "text": [
            "Epoch #27: 1001it [00:01, 938.04it/s, env_step=27000, len=2, n/ep=18, n/st=50, player2/loss=1.491, rew=-0.17]                          \n"
          ]
        },
        {
          "output_type": "stream",
          "name": "stdout",
          "text": [
            "Epoch #27: test_reward: -0.340000 ± 0.473709, best_reward: -0.260000 ± 0.438634 in #8\n"
          ]
        },
        {
          "output_type": "stream",
          "name": "stderr",
          "text": [
            "Epoch #28: 1001it [00:01, 970.39it/s, env_step=28000, len=3, n/ep=17, n/st=50, player2/loss=1.638, rew=-0.29]                           \n"
          ]
        },
        {
          "output_type": "stream",
          "name": "stdout",
          "text": [
            "Epoch #28: test_reward: -0.300000 ± 0.458258, best_reward: -0.260000 ± 0.438634 in #8\n"
          ]
        },
        {
          "output_type": "stream",
          "name": "stderr",
          "text": [
            "Epoch #29: 1001it [00:00, 1197.75it/s, env_step=29000, len=2, n/ep=16, n/st=50, player2/loss=1.562, rew=-0.31]                          \n"
          ]
        },
        {
          "output_type": "stream",
          "name": "stdout",
          "text": [
            "Epoch #29: test_reward: -0.270000 ± 0.443959, best_reward: -0.260000 ± 0.438634 in #8\n"
          ]
        },
        {
          "output_type": "stream",
          "name": "stderr",
          "text": [
            "Epoch #30: 1001it [00:00, 1212.57it/s, env_step=30000, len=2, n/ep=19, n/st=50, player2/loss=1.530, rew=-0.53]                          \n"
          ]
        },
        {
          "output_type": "stream",
          "name": "stdout",
          "text": [
            "Epoch #30: test_reward: -0.320000 ± 0.466476, best_reward: -0.260000 ± 0.438634 in #8\n"
          ]
        },
        {
          "output_type": "stream",
          "name": "stderr",
          "text": [
            "Epoch #31: 1001it [00:00, 1190.31it/s, env_step=31000, len=3, n/ep=15, n/st=50, player2/loss=1.573, rew=-0.47]                          \n"
          ]
        },
        {
          "output_type": "stream",
          "name": "stdout",
          "text": [
            "Epoch #31: test_reward: -0.340000 ± 0.473709, best_reward: -0.260000 ± 0.438634 in #8\n"
          ]
        },
        {
          "output_type": "stream",
          "name": "stderr",
          "text": [
            "Epoch #32: 1001it [00:00, 1192.36it/s, env_step=32000, len=2, n/ep=17, n/st=50, player2/loss=1.517, rew=-0.35]                          \n"
          ]
        },
        {
          "output_type": "stream",
          "name": "stdout",
          "text": [
            "Epoch #32: test_reward: -0.290000 ± 0.453762, best_reward: -0.260000 ± 0.438634 in #8\n"
          ]
        },
        {
          "output_type": "stream",
          "name": "stderr",
          "text": [
            "Epoch #33: 1001it [00:00, 1209.27it/s, env_step=33000, len=2, n/ep=18, n/st=50, player2/loss=1.475, rew=-0.17]                          \n"
          ]
        },
        {
          "output_type": "stream",
          "name": "stdout",
          "text": [
            "Epoch #33: test_reward: -0.370000 ± 0.482804, best_reward: -0.260000 ± 0.438634 in #8\n"
          ]
        },
        {
          "output_type": "stream",
          "name": "stderr",
          "text": [
            "Epoch #34: 1001it [00:00, 1197.50it/s, env_step=34000, len=3, n/ep=15, n/st=50, player2/loss=1.605, rew=-0.47]                          \n"
          ]
        },
        {
          "output_type": "stream",
          "name": "stdout",
          "text": [
            "Epoch #34: test_reward: -0.470000 ± 0.499099, best_reward: -0.260000 ± 0.438634 in #8\n"
          ]
        },
        {
          "output_type": "stream",
          "name": "stderr",
          "text": [
            "Epoch #35: 1001it [00:00, 1173.83it/s, env_step=35000, len=3, n/ep=15, n/st=50, player2/loss=1.652, rew=-0.40]                          \n"
          ]
        },
        {
          "output_type": "stream",
          "name": "stdout",
          "text": [
            "Epoch #35: test_reward: -0.330000 ± 0.470213, best_reward: -0.260000 ± 0.438634 in #8\n"
          ]
        },
        {
          "output_type": "stream",
          "name": "stderr",
          "text": [
            "Epoch #36: 1001it [00:01, 925.50it/s, env_step=36000, len=2, n/ep=17, n/st=50, player2/loss=1.540, rew=-0.29]                          \n"
          ]
        },
        {
          "output_type": "stream",
          "name": "stdout",
          "text": [
            "Epoch #36: test_reward: -0.270000 ± 0.443959, best_reward: -0.260000 ± 0.438634 in #8\n"
          ]
        },
        {
          "output_type": "stream",
          "name": "stderr",
          "text": [
            "Epoch #37: 1001it [00:01, 897.47it/s, env_step=37000, len=3, n/ep=17, n/st=50, player2/loss=1.706, rew=-0.18]                          \n"
          ]
        },
        {
          "output_type": "stream",
          "name": "stdout",
          "text": [
            "Epoch #37: test_reward: -0.410000 ± 0.491833, best_reward: -0.260000 ± 0.438634 in #8\n"
          ]
        },
        {
          "output_type": "stream",
          "name": "stderr",
          "text": [
            "Epoch #38: 1001it [00:01, 505.21it/s, env_step=38000, len=3, n/ep=16, n/st=50, player2/loss=1.661, rew=-0.62]                          \n"
          ]
        },
        {
          "output_type": "stream",
          "name": "stdout",
          "text": [
            "Epoch #38: test_reward: -0.320000 ± 0.466476, best_reward: -0.260000 ± 0.438634 in #8\n"
          ]
        },
        {
          "output_type": "stream",
          "name": "stderr",
          "text": [
            "Epoch #39: 1001it [00:01, 660.44it/s, env_step=39000, len=2, n/ep=18, n/st=50, player2/loss=1.602, rew=-0.28]                          \n"
          ]
        },
        {
          "output_type": "stream",
          "name": "stdout",
          "text": [
            "Epoch #39: test_reward: -0.390000 ± 0.487750, best_reward: -0.260000 ± 0.438634 in #8\n"
          ]
        },
        {
          "output_type": "stream",
          "name": "stderr",
          "text": [
            "Epoch #40: 1001it [00:01, 752.14it/s, env_step=40000, len=3, n/ep=17, n/st=50, player2/loss=1.588, rew=-0.35]                          \n"
          ]
        },
        {
          "output_type": "stream",
          "name": "stdout",
          "text": [
            "Epoch #40: test_reward: -0.340000 ± 0.473709, best_reward: -0.260000 ± 0.438634 in #8\n"
          ]
        },
        {
          "output_type": "stream",
          "name": "stderr",
          "text": [
            "Epoch #41: 1001it [00:00, 1151.84it/s, env_step=41000, len=2, n/ep=18, n/st=50, player2/loss=1.828, rew=-0.39]                          \n"
          ]
        },
        {
          "output_type": "stream",
          "name": "stdout",
          "text": [
            "Epoch #41: test_reward: -0.340000 ± 0.473709, best_reward: -0.260000 ± 0.438634 in #8\n"
          ]
        },
        {
          "output_type": "stream",
          "name": "stderr",
          "text": [
            "Epoch #42: 1001it [00:00, 1213.99it/s, env_step=42000, len=3, n/ep=15, n/st=50, player2/loss=1.644, rew=-0.07]                          \n"
          ]
        },
        {
          "output_type": "stream",
          "name": "stdout",
          "text": [
            "Epoch #42: test_reward: -0.400000 ± 0.489898, best_reward: -0.260000 ± 0.438634 in #8\n"
          ]
        },
        {
          "output_type": "stream",
          "name": "stderr",
          "text": [
            "Epoch #43: 1001it [00:01, 728.74it/s, env_step=43000, len=3, n/ep=18, n/st=50, player2/loss=1.669, rew=-0.28]                          \n"
          ]
        },
        {
          "output_type": "stream",
          "name": "stdout",
          "text": [
            "Epoch #43: test_reward: -0.300000 ± 0.458258, best_reward: -0.260000 ± 0.438634 in #8\n"
          ]
        },
        {
          "output_type": "stream",
          "name": "stderr",
          "text": [
            "Epoch #44: 1001it [00:01, 753.96it/s, env_step=44000, len=3, n/ep=14, n/st=50, player2/loss=1.676, rew=-0.43]                          \n"
          ]
        },
        {
          "output_type": "stream",
          "name": "stdout",
          "text": [
            "Epoch #44: test_reward: -0.330000 ± 0.470213, best_reward: -0.260000 ± 0.438634 in #8\n"
          ]
        },
        {
          "output_type": "stream",
          "name": "stderr",
          "text": [
            "Epoch #45: 1001it [00:00, 1133.94it/s, env_step=45000, len=3, n/ep=18, n/st=50, player2/loss=1.767, rew=-0.50]                          \n"
          ]
        },
        {
          "output_type": "stream",
          "name": "stdout",
          "text": [
            "Epoch #45: test_reward: -0.280000 ± 0.448999, best_reward: -0.260000 ± 0.438634 in #8\n"
          ]
        },
        {
          "output_type": "stream",
          "name": "stderr",
          "text": [
            "Epoch #46: 1001it [00:01, 919.69it/s, env_step=46000, len=3, n/ep=16, n/st=50, player2/loss=1.786, rew=-0.44]                          \n"
          ]
        },
        {
          "output_type": "stream",
          "name": "stdout",
          "text": [
            "Epoch #46: test_reward: -0.350000 ± 0.476970, best_reward: -0.260000 ± 0.438634 in #8\n"
          ]
        },
        {
          "output_type": "stream",
          "name": "stderr",
          "text": [
            "Epoch #47: 1001it [00:01, 888.40it/s, env_step=47000, len=3, n/ep=13, n/st=50, player2/loss=1.865, rew=-0.38]                          \n"
          ]
        },
        {
          "output_type": "stream",
          "name": "stdout",
          "text": [
            "Epoch #47: test_reward: -0.350000 ± 0.476970, best_reward: -0.260000 ± 0.438634 in #8\n"
          ]
        },
        {
          "output_type": "stream",
          "name": "stderr",
          "text": [
            "Epoch #48: 1001it [00:01, 973.42it/s, env_step=48000, len=3, n/ep=15, n/st=50, player2/loss=1.864, rew=-0.47]                           \n"
          ]
        },
        {
          "output_type": "stream",
          "name": "stdout",
          "text": [
            "Epoch #48: test_reward: -0.270000 ± 0.443959, best_reward: -0.260000 ± 0.438634 in #8\n"
          ]
        },
        {
          "output_type": "stream",
          "name": "stderr",
          "text": [
            "Epoch #49: 1001it [00:00, 1193.89it/s, env_step=49000, len=3, n/ep=17, n/st=50, player2/loss=1.687, rew=-0.41]                          \n"
          ]
        },
        {
          "output_type": "stream",
          "name": "stdout",
          "text": [
            "Epoch #49: test_reward: -0.330000 ± 0.470213, best_reward: -0.260000 ± 0.438634 in #8\n"
          ]
        },
        {
          "output_type": "stream",
          "name": "stderr",
          "text": [
            "Epoch #50: 1001it [00:00, 1223.31it/s, env_step=50000, len=2, n/ep=17, n/st=50, player2/loss=1.719, rew=-0.29]                          \n"
          ]
        },
        {
          "output_type": "stream",
          "name": "stdout",
          "text": [
            "Epoch #50: test_reward: -0.370000 ± 0.482804, best_reward: -0.260000 ± 0.438634 in #8\n"
          ]
        },
        {
          "output_type": "stream",
          "name": "stderr",
          "text": [
            "Epoch #51: 1001it [00:00, 1200.83it/s, env_step=51000, len=3, n/ep=15, n/st=50, player2/loss=1.747, rew=-0.47]                          \n"
          ]
        },
        {
          "output_type": "stream",
          "name": "stdout",
          "text": [
            "Epoch #51: test_reward: -0.330000 ± 0.470213, best_reward: -0.260000 ± 0.438634 in #8\n"
          ]
        },
        {
          "output_type": "stream",
          "name": "stderr",
          "text": [
            "Epoch #52: 1001it [00:00, 1223.94it/s, env_step=52000, len=3, n/ep=18, n/st=50, player2/loss=1.631, rew=-0.33]                          \n"
          ]
        },
        {
          "output_type": "stream",
          "name": "stdout",
          "text": [
            "Epoch #52: test_reward: -0.350000 ± 0.476970, best_reward: -0.260000 ± 0.438634 in #8\n"
          ]
        },
        {
          "output_type": "stream",
          "name": "stderr",
          "text": [
            "Epoch #53: 1001it [00:00, 1203.07it/s, env_step=53000, len=3, n/ep=18, n/st=50, player2/loss=1.794, rew=-0.22]                          \n"
          ]
        },
        {
          "output_type": "stream",
          "name": "stdout",
          "text": [
            "Epoch #53: test_reward: -0.300000 ± 0.458258, best_reward: -0.260000 ± 0.438634 in #8\n"
          ]
        },
        {
          "output_type": "stream",
          "name": "stderr",
          "text": [
            "Epoch #54: 1001it [00:00, 1198.39it/s, env_step=54000, len=2, n/ep=17, n/st=50, player2/loss=1.694, rew=-0.29]                          \n"
          ]
        },
        {
          "output_type": "stream",
          "name": "stdout",
          "text": [
            "Epoch #54: test_reward: -0.380000 ± 0.485386, best_reward: -0.260000 ± 0.438634 in #8\n"
          ]
        },
        {
          "output_type": "stream",
          "name": "stderr",
          "text": [
            "Epoch #55: 1001it [00:00, 1157.12it/s, env_step=55000, len=3, n/ep=15, n/st=50, player2/loss=1.706, rew=-0.40]                          \n"
          ]
        },
        {
          "output_type": "stream",
          "name": "stdout",
          "text": [
            "Epoch #55: test_reward: -0.340000 ± 0.473709, best_reward: -0.260000 ± 0.438634 in #8\n"
          ]
        },
        {
          "output_type": "stream",
          "name": "stderr",
          "text": [
            "Epoch #56: 1001it [00:00, 1175.13it/s, env_step=56000, len=2, n/ep=18, n/st=50, player2/loss=1.660, rew=-0.39]                          \n"
          ]
        },
        {
          "output_type": "stream",
          "name": "stdout",
          "text": [
            "Epoch #56: test_reward: -0.400000 ± 0.489898, best_reward: -0.260000 ± 0.438634 in #8\n"
          ]
        },
        {
          "output_type": "stream",
          "name": "stderr",
          "text": [
            "Epoch #57: 1001it [00:00, 1194.77it/s, env_step=57000, len=3, n/ep=16, n/st=50, player2/loss=1.702, rew=-0.44]                          \n"
          ]
        },
        {
          "output_type": "stream",
          "name": "stdout",
          "text": [
            "Epoch #57: test_reward: -0.290000 ± 0.453762, best_reward: -0.260000 ± 0.438634 in #8\n"
          ]
        },
        {
          "output_type": "stream",
          "name": "stderr",
          "text": [
            "Epoch #58: 1001it [00:01, 871.20it/s, env_step=58000, len=2, n/ep=16, n/st=50, player2/loss=1.628, rew=-0.19]                          \n"
          ]
        },
        {
          "output_type": "stream",
          "name": "stdout",
          "text": [
            "Epoch #58: test_reward: -0.460000 ± 0.498397, best_reward: -0.260000 ± 0.438634 in #8\n"
          ]
        },
        {
          "output_type": "stream",
          "name": "stderr",
          "text": [
            "Epoch #59: 1001it [00:01, 871.35it/s, env_step=59000, len=3, n/ep=16, n/st=50, player2/loss=1.615, rew=-0.25]                          \n"
          ]
        },
        {
          "output_type": "stream",
          "name": "stdout",
          "text": [
            "Epoch #59: test_reward: -0.320000 ± 0.466476, best_reward: -0.260000 ± 0.438634 in #8\n"
          ]
        },
        {
          "output_type": "stream",
          "name": "stderr",
          "text": [
            "Epoch #60: 1001it [00:00, 1141.26it/s, env_step=60000, len=2, n/ep=14, n/st=50, player2/loss=1.543, rew=-0.21]                          \n"
          ]
        },
        {
          "output_type": "stream",
          "name": "stdout",
          "text": [
            "Epoch #60: test_reward: -0.230000 ± 0.420833, best_reward: -0.230000 ± 0.420833 in #60\n"
          ]
        },
        {
          "output_type": "stream",
          "name": "stderr",
          "text": [
            "Epoch #61: 1001it [00:00, 1198.72it/s, env_step=61000, len=3, n/ep=16, n/st=50, player2/loss=1.584, rew=-0.38]                          \n"
          ]
        },
        {
          "output_type": "stream",
          "name": "stdout",
          "text": [
            "Epoch #61: test_reward: -0.270000 ± 0.443959, best_reward: -0.230000 ± 0.420833 in #60\n"
          ]
        },
        {
          "output_type": "stream",
          "name": "stderr",
          "text": [
            "Epoch #62: 1001it [00:00, 1201.28it/s, env_step=62000, len=3, n/ep=14, n/st=50, player2/loss=1.529, rew=-0.36]                          \n"
          ]
        },
        {
          "output_type": "stream",
          "name": "stdout",
          "text": [
            "Epoch #62: test_reward: -0.400000 ± 0.489898, best_reward: -0.230000 ± 0.420833 in #60\n"
          ]
        },
        {
          "output_type": "stream",
          "name": "stderr",
          "text": [
            "Epoch #63: 1001it [00:00, 1198.54it/s, env_step=63000, len=2, n/ep=16, n/st=50, player2/loss=1.566, rew=-0.19]                          \n"
          ]
        },
        {
          "output_type": "stream",
          "name": "stdout",
          "text": [
            "Epoch #63: test_reward: -0.300000 ± 0.458258, best_reward: -0.230000 ± 0.420833 in #60\n"
          ]
        },
        {
          "output_type": "stream",
          "name": "stderr",
          "text": [
            "Epoch #64: 1001it [00:00, 1166.60it/s, env_step=64000, len=3, n/ep=16, n/st=50, player2/loss=1.577, rew=-0.19]                          \n"
          ]
        },
        {
          "output_type": "stream",
          "name": "stdout",
          "text": [
            "Epoch #64: test_reward: -0.340000 ± 0.473709, best_reward: -0.230000 ± 0.420833 in #60\n"
          ]
        },
        {
          "output_type": "stream",
          "name": "stderr",
          "text": [
            "Epoch #65: 1001it [00:00, 1171.04it/s, env_step=65000, len=3, n/ep=15, n/st=50, player2/loss=1.564, rew=-0.27]                          \n"
          ]
        },
        {
          "output_type": "stream",
          "name": "stdout",
          "text": [
            "Epoch #65: test_reward: -0.270000 ± 0.443959, best_reward: -0.230000 ± 0.420833 in #60\n"
          ]
        },
        {
          "output_type": "stream",
          "name": "stderr",
          "text": [
            "Epoch #66: 1001it [00:00, 1201.83it/s, env_step=66000, len=3, n/ep=15, n/st=50, player2/loss=1.434, rew=-0.53]                          \n"
          ]
        },
        {
          "output_type": "stream",
          "name": "stdout",
          "text": [
            "Epoch #66: test_reward: -0.330000 ± 0.470213, best_reward: -0.230000 ± 0.420833 in #60\n"
          ]
        },
        {
          "output_type": "stream",
          "name": "stderr",
          "text": [
            "Epoch #67: 1001it [00:00, 1174.51it/s, env_step=67000, len=3, n/ep=14, n/st=50, player2/loss=1.299, rew=-0.43]                          \n"
          ]
        },
        {
          "output_type": "stream",
          "name": "stdout",
          "text": [
            "Epoch #67: test_reward: -0.440000 ± 0.496387, best_reward: -0.230000 ± 0.420833 in #60\n"
          ]
        },
        {
          "output_type": "stream",
          "name": "stderr",
          "text": [
            "Epoch #68: 1001it [00:00, 1184.45it/s, env_step=68000, len=2, n/ep=18, n/st=50, player2/loss=1.308, rew=-0.17]                          \n"
          ]
        },
        {
          "output_type": "stream",
          "name": "stdout",
          "text": [
            "Epoch #68: test_reward: -0.360000 ± 0.480000, best_reward: -0.230000 ± 0.420833 in #60\n"
          ]
        },
        {
          "output_type": "stream",
          "name": "stderr",
          "text": [
            "Epoch #69: 1001it [00:00, 1064.99it/s, env_step=69000, len=3, n/ep=15, n/st=50, player2/loss=1.405, rew=-0.40]                          \n"
          ]
        },
        {
          "output_type": "stream",
          "name": "stdout",
          "text": [
            "Epoch #69: test_reward: -0.330000 ± 0.470213, best_reward: -0.230000 ± 0.420833 in #60\n"
          ]
        },
        {
          "output_type": "stream",
          "name": "stderr",
          "text": [
            "Epoch #70: 1001it [00:01, 875.10it/s, env_step=70000, len=2, n/ep=20, n/st=50, player2/loss=1.368, rew=-0.25]                          \n"
          ]
        },
        {
          "output_type": "stream",
          "name": "stdout",
          "text": [
            "Epoch #70: test_reward: -0.400000 ± 0.489898, best_reward: -0.230000 ± 0.420833 in #60\n"
          ]
        },
        {
          "output_type": "stream",
          "name": "stderr",
          "text": [
            "Epoch #71: 1001it [00:01, 920.38it/s, env_step=71000, len=3, n/ep=15, n/st=50, player2/loss=1.369, rew=-0.20]                           \n"
          ]
        },
        {
          "output_type": "stream",
          "name": "stdout",
          "text": [
            "Epoch #71: test_reward: -0.280000 ± 0.448999, best_reward: -0.230000 ± 0.420833 in #60\n"
          ]
        },
        {
          "output_type": "stream",
          "name": "stderr",
          "text": [
            "Epoch #72: 1001it [00:00, 1190.41it/s, env_step=72000, len=2, n/ep=19, n/st=50, player2/loss=1.290, rew=-0.11]                          \n"
          ]
        },
        {
          "output_type": "stream",
          "name": "stdout",
          "text": [
            "Epoch #72: test_reward: -0.220000 ± 0.414246, best_reward: -0.220000 ± 0.414246 in #72\n"
          ]
        },
        {
          "output_type": "stream",
          "name": "stderr",
          "text": [
            "Epoch #73: 1001it [00:00, 1152.31it/s, env_step=73000, len=3, n/ep=16, n/st=50, player2/loss=1.339, rew=-0.12]                          \n"
          ]
        },
        {
          "output_type": "stream",
          "name": "stdout",
          "text": [
            "Epoch #73: test_reward: -0.320000 ± 0.466476, best_reward: -0.220000 ± 0.414246 in #72\n"
          ]
        },
        {
          "output_type": "stream",
          "name": "stderr",
          "text": [
            "Epoch #74: 1001it [00:00, 1148.01it/s, env_step=74000, len=3, n/ep=17, n/st=50, player2/loss=1.368, rew=-0.35]                          \n"
          ]
        },
        {
          "output_type": "stream",
          "name": "stdout",
          "text": [
            "Epoch #74: test_reward: -0.340000 ± 0.473709, best_reward: -0.220000 ± 0.414246 in #72\n"
          ]
        },
        {
          "output_type": "stream",
          "name": "stderr",
          "text": [
            "Epoch #75: 1001it [00:00, 1196.39it/s, env_step=75000, len=2, n/ep=16, n/st=50, player2/loss=1.407, rew=-0.31]                          \n"
          ]
        },
        {
          "output_type": "stream",
          "name": "stdout",
          "text": [
            "Epoch #75: test_reward: -0.240000 ± 0.427083, best_reward: -0.220000 ± 0.414246 in #72\n"
          ]
        },
        {
          "output_type": "stream",
          "name": "stderr",
          "text": [
            "Epoch #76: 1001it [00:00, 1183.86it/s, env_step=76000, len=3, n/ep=17, n/st=50, player2/loss=1.318, rew=-0.12]                          \n"
          ]
        },
        {
          "output_type": "stream",
          "name": "stdout",
          "text": [
            "Epoch #76: test_reward: -0.250000 ± 0.433013, best_reward: -0.220000 ± 0.414246 in #72\n"
          ]
        },
        {
          "output_type": "stream",
          "name": "stderr",
          "text": [
            "Epoch #77: 1001it [00:00, 1208.66it/s, env_step=77000, len=3, n/ep=18, n/st=50, player2/loss=1.275, rew=-0.33]                          \n"
          ]
        },
        {
          "output_type": "stream",
          "name": "stdout",
          "text": [
            "Epoch #77: test_reward: -0.230000 ± 0.420833, best_reward: -0.220000 ± 0.414246 in #72\n"
          ]
        },
        {
          "output_type": "stream",
          "name": "stderr",
          "text": [
            "Epoch #78: 1001it [00:00, 1178.96it/s, env_step=78000, len=3, n/ep=15, n/st=50, player2/loss=1.313, rew=-0.27]                          \n"
          ]
        },
        {
          "output_type": "stream",
          "name": "stdout",
          "text": [
            "Epoch #78: test_reward: -0.330000 ± 0.470213, best_reward: -0.220000 ± 0.414246 in #72\n"
          ]
        },
        {
          "output_type": "stream",
          "name": "stderr",
          "text": [
            "Epoch #79: 1001it [00:00, 1193.72it/s, env_step=79000, len=3, n/ep=14, n/st=50, player2/loss=1.249, rew=-0.29]                          \n"
          ]
        },
        {
          "output_type": "stream",
          "name": "stdout",
          "text": [
            "Epoch #79: test_reward: -0.230000 ± 0.420833, best_reward: -0.220000 ± 0.414246 in #72\n"
          ]
        },
        {
          "output_type": "stream",
          "name": "stderr",
          "text": [
            "Epoch #80: 1001it [00:00, 1172.68it/s, env_step=80000, len=2, n/ep=16, n/st=50, player2/loss=1.300, rew=-0.25]                          \n"
          ]
        },
        {
          "output_type": "stream",
          "name": "stdout",
          "text": [
            "Epoch #80: test_reward: -0.260000 ± 0.438634, best_reward: -0.220000 ± 0.414246 in #72\n"
          ]
        },
        {
          "output_type": "stream",
          "name": "stderr",
          "text": [
            "Epoch #81: 1001it [00:01, 792.01it/s, env_step=81000, len=2, n/ep=19, n/st=50, player2/loss=1.294, rew=-0.26]                          \n"
          ]
        },
        {
          "output_type": "stream",
          "name": "stdout",
          "text": [
            "Epoch #81: test_reward: -0.270000 ± 0.443959, best_reward: -0.220000 ± 0.414246 in #72\n"
          ]
        },
        {
          "output_type": "stream",
          "name": "stderr",
          "text": [
            "Epoch #82: 1001it [00:02, 444.28it/s, env_step=82000, len=3, n/ep=15, n/st=50, player2/loss=1.223, rew=-0.13]                          \n"
          ]
        },
        {
          "output_type": "stream",
          "name": "stdout",
          "text": [
            "Epoch #82: test_reward: -0.190000 ± 0.392301, best_reward: -0.190000 ± 0.392301 in #82\n"
          ]
        },
        {
          "output_type": "stream",
          "name": "stderr",
          "text": [
            "Epoch #83: 1001it [00:01, 615.06it/s, env_step=83000, len=3, n/ep=17, n/st=50, player2/loss=1.243, rew=-0.24]                          \n"
          ]
        },
        {
          "output_type": "stream",
          "name": "stdout",
          "text": [
            "Epoch #83: test_reward: -0.330000 ± 0.470213, best_reward: -0.190000 ± 0.392301 in #82\n"
          ]
        },
        {
          "output_type": "stream",
          "name": "stderr",
          "text": [
            "Epoch #84: 1001it [00:01, 617.21it/s, env_step=84000, len=2, n/ep=17, n/st=50, player2/loss=1.285, rew=-0.35]                          \n"
          ]
        },
        {
          "output_type": "stream",
          "name": "stdout",
          "text": [
            "Epoch #84: test_reward: -0.310000 ± 0.462493, best_reward: -0.190000 ± 0.392301 in #82\n"
          ]
        },
        {
          "output_type": "stream",
          "name": "stderr",
          "text": [
            "Epoch #85: 1001it [00:01, 750.20it/s, env_step=85000, len=2, n/ep=18, n/st=50, player2/loss=1.237, rew=-0.28]                          \n"
          ]
        },
        {
          "output_type": "stream",
          "name": "stdout",
          "text": [
            "Epoch #85: test_reward: -0.320000 ± 0.466476, best_reward: -0.190000 ± 0.392301 in #82\n"
          ]
        },
        {
          "output_type": "stream",
          "name": "stderr",
          "text": [
            "Epoch #86: 1001it [00:00, 1178.49it/s, env_step=86000, len=3, n/ep=16, n/st=50, player2/loss=1.359, rew=-0.31]                          \n"
          ]
        },
        {
          "output_type": "stream",
          "name": "stdout",
          "text": [
            "Epoch #86: test_reward: -0.220000 ± 0.414246, best_reward: -0.190000 ± 0.392301 in #82\n"
          ]
        },
        {
          "output_type": "stream",
          "name": "stderr",
          "text": [
            "Epoch #87: 1001it [00:00, 1172.69it/s, env_step=87000, len=3, n/ep=15, n/st=50, player2/loss=1.313, rew=-0.27]                          \n"
          ]
        },
        {
          "output_type": "stream",
          "name": "stdout",
          "text": [
            "Epoch #87: test_reward: -0.350000 ± 0.476970, best_reward: -0.190000 ± 0.392301 in #82\n"
          ]
        },
        {
          "output_type": "stream",
          "name": "stderr",
          "text": [
            "Epoch #88: 1001it [00:00, 1195.72it/s, env_step=88000, len=2, n/ep=18, n/st=50, player2/loss=1.344, rew=-0.28]                          \n"
          ]
        },
        {
          "output_type": "stream",
          "name": "stdout",
          "text": [
            "Epoch #88: test_reward: -0.240000 ± 0.427083, best_reward: -0.190000 ± 0.392301 in #82\n"
          ]
        },
        {
          "output_type": "stream",
          "name": "stderr",
          "text": [
            "Epoch #89: 1001it [00:01, 900.24it/s, env_step=89000, len=2, n/ep=17, n/st=50, player2/loss=1.333, rew=-0.35]                          \n"
          ]
        },
        {
          "output_type": "stream",
          "name": "stdout",
          "text": [
            "Epoch #89: test_reward: -0.210000 ± 0.407308, best_reward: -0.190000 ± 0.392301 in #82\n"
          ]
        },
        {
          "output_type": "stream",
          "name": "stderr",
          "text": [
            "Epoch #90: 1001it [00:01, 850.07it/s, env_step=90000, len=2, n/ep=18, n/st=50, player2/loss=1.400, rew=-0.17]                          \n"
          ]
        },
        {
          "output_type": "stream",
          "name": "stdout",
          "text": [
            "Epoch #90: test_reward: -0.290000 ± 0.453762, best_reward: -0.190000 ± 0.392301 in #82\n"
          ]
        },
        {
          "output_type": "stream",
          "name": "stderr",
          "text": [
            "Epoch #91: 1001it [00:00, 1195.86it/s, env_step=91000, len=2, n/ep=19, n/st=50, player2/loss=1.472, rew=-0.32]                          \n"
          ]
        },
        {
          "output_type": "stream",
          "name": "stdout",
          "text": [
            "Epoch #91: test_reward: -0.210000 ± 0.407308, best_reward: -0.190000 ± 0.392301 in #82\n"
          ]
        },
        {
          "output_type": "stream",
          "name": "stderr",
          "text": [
            "Epoch #92: 1001it [00:00, 1164.92it/s, env_step=92000, len=3, n/ep=16, n/st=50, player2/loss=1.477, rew=-0.06]                          \n"
          ]
        },
        {
          "output_type": "stream",
          "name": "stdout",
          "text": [
            "Epoch #92: test_reward: -0.210000 ± 0.407308, best_reward: -0.190000 ± 0.392301 in #82\n"
          ]
        },
        {
          "output_type": "stream",
          "name": "stderr",
          "text": [
            "Epoch #93: 1001it [00:00, 1178.00it/s, env_step=93000, len=2, n/ep=17, n/st=50, player2/loss=1.470, rew=-0.06]                          \n"
          ]
        },
        {
          "output_type": "stream",
          "name": "stdout",
          "text": [
            "Epoch #93: test_reward: -0.170000 ± 0.375633, best_reward: -0.170000 ± 0.375633 in #93\n"
          ]
        },
        {
          "output_type": "stream",
          "name": "stderr",
          "text": [
            "Epoch #94: 1001it [00:00, 1172.57it/s, env_step=94000, len=3, n/ep=17, n/st=50, player2/loss=1.501, rew=-0.18]                          \n"
          ]
        },
        {
          "output_type": "stream",
          "name": "stdout",
          "text": [
            "Epoch #94: test_reward: -0.210000 ± 0.407308, best_reward: -0.170000 ± 0.375633 in #93\n"
          ]
        },
        {
          "output_type": "stream",
          "name": "stderr",
          "text": [
            "Epoch #95: 1001it [00:00, 1208.76it/s, env_step=95000, len=3, n/ep=15, n/st=50, player2/loss=1.447, rew=-0.47]                          \n"
          ]
        },
        {
          "output_type": "stream",
          "name": "stdout",
          "text": [
            "Epoch #95: test_reward: -0.230000 ± 0.420833, best_reward: -0.170000 ± 0.375633 in #93\n"
          ]
        },
        {
          "output_type": "stream",
          "name": "stderr",
          "text": [
            "Epoch #96: 1001it [00:00, 1197.71it/s, env_step=96000, len=3, n/ep=15, n/st=50, player2/loss=1.475, rew=-0.33]                          \n"
          ]
        },
        {
          "output_type": "stream",
          "name": "stdout",
          "text": [
            "Epoch #96: test_reward: -0.220000 ± 0.414246, best_reward: -0.170000 ± 0.375633 in #93\n"
          ]
        },
        {
          "output_type": "stream",
          "name": "stderr",
          "text": [
            "Epoch #97: 1001it [00:00, 1151.14it/s, env_step=97000, len=3, n/ep=15, n/st=50, player2/loss=1.513, rew=-0.27]                          \n"
          ]
        },
        {
          "output_type": "stream",
          "name": "stdout",
          "text": [
            "Epoch #97: test_reward: -0.330000 ± 0.470213, best_reward: -0.170000 ± 0.375633 in #93\n"
          ]
        },
        {
          "output_type": "stream",
          "name": "stderr",
          "text": [
            "Epoch #98: 1001it [00:00, 1204.84it/s, env_step=98000, len=3, n/ep=16, n/st=50, player2/loss=1.605, rew=-0.06]                          \n"
          ]
        },
        {
          "output_type": "stream",
          "name": "stdout",
          "text": [
            "Epoch #98: test_reward: -0.270000 ± 0.443959, best_reward: -0.170000 ± 0.375633 in #93\n"
          ]
        },
        {
          "output_type": "stream",
          "name": "stderr",
          "text": [
            "Epoch #99: 1001it [00:00, 1189.22it/s, env_step=99000, len=2, n/ep=18, n/st=50, player2/loss=1.583, rew=-0.33]                          \n"
          ]
        },
        {
          "output_type": "stream",
          "name": "stdout",
          "text": [
            "Epoch #99: test_reward: -0.220000 ± 0.414246, best_reward: -0.170000 ± 0.375633 in #93\n"
          ]
        },
        {
          "output_type": "stream",
          "name": "stderr",
          "text": [
            "Epoch #100: 1001it [00:01, 742.34it/s, env_step=100000, len=3, n/ep=15, n/st=50, player2/loss=1.579, rew=-0.13]                          \n"
          ]
        },
        {
          "output_type": "stream",
          "name": "stdout",
          "text": [
            "Epoch #100: test_reward: -0.330000 ± 0.470213, best_reward: -0.170000 ± 0.375633 in #93\n"
          ]
        },
        {
          "output_type": "execute_result",
          "data": {
            "text/plain": [
              "{'duration': '123.82s',\n",
              " 'train_time/model': '57.67s',\n",
              " 'test_step': 30298,\n",
              " 'test_episode': 10100,\n",
              " 'test_time': '22.63s',\n",
              " 'test_speed': '1339.03 step/s',\n",
              " 'best_reward': -0.17,\n",
              " 'best_result': '-0.17 ± 0.38',\n",
              " 'train_step': 100000,\n",
              " 'train_episode': 33323,\n",
              " 'train_time/collector': '43.52s',\n",
              " 'train_speed': '988.22 step/s'}"
            ]
          },
          "metadata": {},
          "execution_count": 17
        }
      ]
    },
    {
      "cell_type": "code",
      "source": [
        "result = test_collector.collect(n_step=5000)\n",
        "arr = result[\"rews\"]\n",
        "death_rates = np.sum(arr, axis=0) / np.sum(arr, axis=0)[0]\n",
        "print(f\"death rate of player2: {(np.sum(arr, axis=0) / arr.shape[0])[-1] * -1:.3f}\")\n",
        "print(f\"ratio of death rate of player2 with respect to player1: {death_rates[-1]:.3f}\")\n",
        "plt.plot(arr.cumsum(axis=0))\n",
        "plt.legend((\"player1\", \"player2\"))\n",
        "plt.show()"
      ],
      "metadata": {
        "colab": {
          "base_uri": "https://localhost:8080/",
          "height": 522
        },
        "id": "kQ5-2veCd5ZV",
        "outputId": "96187476-3293-4fdf-9fc3-6ce719d10341"
      },
      "execution_count": 18,
      "outputs": [
        {
          "output_type": "stream",
          "name": "stderr",
          "text": [
            "/usr/local/lib/python3.10/dist-packages/ipykernel/ipkernel.py:283: DeprecationWarning: `should_run_async` will not call `transform_cell` automatically in the future. Please pass the result to `transformed_cell` argument and any exception that happen during thetransform in `preprocessing_exc_tuple` in IPython 7.17 and above.\n",
            "  and should_run_async(code)\n"
          ]
        },
        {
          "output_type": "stream",
          "name": "stdout",
          "text": [
            "death rate of player2: 0.251\n",
            "ratio of death rate of player2 with respect to player1: 0.605\n"
          ]
        },
        {
          "output_type": "display_data",
          "data": {
            "text/plain": [
              "<Figure size 640x480 with 1 Axes>"
            ],
            "image/png": "[encoded data removed]"
          },
          "metadata": {}
        }
      ]
    },
    {
      "cell_type": "code",
      "source": [
        "model_save_path1 = os.path.join(\"log\", \"hommul\", \"dqn\", \"policy1.pth\")\n",
        "model_save_path2 = os.path.join(\"log\", \"hommul\", \"dqn\", \"policy2.pth\")\n",
        "if not hasattr(policy.policies[agents[0]], 'nolearn'):\n",
        "    policy.policies[agents[0]].load_state_dict(torch.load(model_save_path1))\n",
        "if not hasattr(policy.policies[agents[1]], 'nolearn'):\n",
        "    policy.policies[agents[1]].load_state_dict(torch.load(model_save_path2))"
      ],
      "metadata": {
        "id": "Wplc3x6cfEBz"
      },
      "execution_count": 19,
      "outputs": []
    },
    {
      "cell_type": "code",
      "source": [
        "result = test_collector.collect(n_step=5000)\n",
        "arr = result[\"rews\"]\n",
        "death_rates = np.sum(arr, axis=0) / np.sum(arr, axis=0)[0]\n",
        "print(f\"death rate of player2: {(np.sum(arr, axis=0) / arr.shape[0])[-1] * -1:.3f}\")\n",
        "print(f\"ratio of death rate of player2 with respect to player1: {death_rates[-1]:.3f}\")\n",
        "plt.plot(arr.cumsum(axis=0))\n",
        "plt.legend((\"player1\", \"player2\"))\n",
        "plt.show()"
      ],
      "metadata": {
        "colab": {
          "base_uri": "https://localhost:8080/",
          "height": 466
        },
        "id": "zxXP-sbofD9M",
        "outputId": "45982a87-a6da-4076-a8c3-90d16ae7b9fe"
      },
      "execution_count": 20,
      "outputs": [
        {
          "output_type": "stream",
          "name": "stdout",
          "text": [
            "death rate of player2: 0.248\n",
            "ratio of death rate of player2 with respect to player1: 0.585\n"
          ]
        },
        {
          "output_type": "display_data",
          "data": {
            "text/plain": [
              "<Figure size 640x480 with 1 Axes>"
            ],
            "image/png": "[encoded data removed]"
          },
          "metadata": {}
        }
      ]
    },
    {
      "cell_type": "code",
      "source": [
        "df = []\n",
        "obs = []\n",
        "\n",
        "for days_left in range(1, 3):\n",
        "    for player1_life_points in range(4):\n",
        "        for player2_life_points in range(4):\n",
        "            for payoff in [0.2, 0.4]:\n",
        "                for player1_action in range(0, 3):\n",
        "                    for player2_action in range(0, 3):\n",
        "                        curr_obs = [\n",
        "                            days_left, \n",
        "                            player1_life_points, \n",
        "                            player2_life_points, \n",
        "                            payoff,\n",
        "                            payoff,\n",
        "                            player1_action, \n",
        "                            player2_action\n",
        "                        ]\n",
        "                        obs.append({\n",
        "                            'agent_id': 'player2',\n",
        "                            'obs': np.array([curr_obs], dtype='float32'),\n",
        "                            'mask': [True, True, False]\n",
        "                        })\n",
        "                        df.append(curr_obs)\n",
        "\n",
        "cols = [\n",
        "    \"days_left\", \n",
        "    \"player1_life_points\", \n",
        "    \"player2_life_points\", \n",
        "    \"player1_prob_payoff\",\n",
        "    \"player2_prob_payoff\",\n",
        "    \"player1_previous_action\", \n",
        "    \"player2_previous_action\"\n",
        "]\n",
        "df = pd.DataFrame(df, columns=cols)\n",
        "\n",
        "df[\"player2_predicted_action\"] = policy.policies[agents[1]](Batch(obs=obs, info={})).act\n",
        "df[\"player2_logit_wait\"] = policy.policies[agents[1]](Batch(obs=obs, info={})).logits.detach().cpu().numpy()[:, 0]\n",
        "df[\"player2_logit_play\"] = policy.policies[agents[1]](Batch(obs=obs, info={})).logits.detach().cpu().numpy()[:, 1]\n",
        "\n",
        "df[\"player1_previous_action\"] = df[\"player1_previous_action\"].map({0: \"wait\", 1: \"play\", 2: \"none\"})\n",
        "df[\"player2_previous_action\"] = df[\"player2_previous_action\"].map({0: \"wait\", 1: \"play\", 2: \"none\"})\n",
        "df[\"player2_predicted_action\"] = df[\"player2_predicted_action\"].map({0: \"wait\", 1: \"play\"})\n",
        "\n",
        "df.to_csv(\"outcome_table.csv\", index=False)\n",
        "\n",
        "df.head()"
      ],
      "metadata": {
        "colab": {
          "base_uri": "https://localhost:8080/",
          "height": 270
        },
        "id": "qqphMrZSd-JF",
        "outputId": "7dfd2beb-935b-449b-8499-5a251eb71338"
      },
      "execution_count": 21,
      "outputs": [
        {
          "output_type": "execute_result",
          "data": {
            "text/plain": [
              "   days_left  player1_life_points  player2_life_points  player1_prob_payoff  \\\n",
              "0          1                    0                    0                  0.2   \n",
              "1          1                    0                    0                  0.2   \n",
              "2          1                    0                    0                  0.2   \n",
              "3          1                    0                    0                  0.2   \n",
              "4          1                    0                    0                  0.2   \n",
              "\n",
              "   player2_prob_payoff player1_previous_action player2_previous_action  \\\n",
              "0                  0.2                    wait                    wait   \n",
              "1                  0.2                    wait                    play   \n",
              "2                  0.2                    wait                    none   \n",
              "3                  0.2                    play                    wait   \n",
              "4                  0.2                    play                    play   \n",
              "\n",
              "  player2_predicted_action  player2_logit_wait  player2_logit_play  \n",
              "0                     wait           -5.144244           -5.966360  \n",
              "1                     wait           -5.583667           -6.855631  \n",
              "2                     wait           -6.302387           -7.897372  \n",
              "3                     wait           -5.281620           -5.558662  \n",
              "4                     wait           -5.213724           -5.900920  "
            ],
            "text/html": [
              "\n",
              "  <div id=\"df-9773dc63-bf86-4ff0-a93f-f926211da06f\">\n",
              "    <div class=\"colab-df-container\">\n",
              "      <div>\n",
              "<style scoped>\n",
              "    .dataframe tbody tr th:only-of-type {\n",
              "        vertical-align: middle;\n",
              "    }\n",
              "\n",
              "    .dataframe tbody tr th {\n",
              "        vertical-align: top;\n",
              "    }\n",
              "\n",
              "    .dataframe thead th {\n",
              "        text-align: right;\n",
              "    }\n",
              "</style>\n",
              "<table border=\"1\" class=\"dataframe\">\n",
              "  <thead>\n",
              "    <tr style=\"text-align: right;\">\n",
              "      <th></th>\n",
              "      <th>days_left</th>\n",
              "      <th>player1_life_points</th>\n",
              "      <th>player2_life_points</th>\n",
              "      <th>player1_prob_payoff</th>\n",
              "      <th>player2_prob_payoff</th>\n",
              "      <th>player1_previous_action</th>\n",
              "      <th>player2_previous_action</th>\n",
              "      <th>player2_predicted_action</th>\n",
              "      <th>player2_logit_wait</th>\n",
              "      <th>player2_logit_play</th>\n",
              "    </tr>\n",
              "  </thead>\n",
              "  <tbody>\n",
              "    <tr>\n",
              "      <th>0</th>\n",
              "      <td>1</td>\n",
              "      <td>0</td>\n",
              "      <td>0</td>\n",
              "      <td>0.2</td>\n",
              "      <td>0.2</td>\n",
              "      <td>wait</td>\n",
              "      <td>wait</td>\n",
              "      <td>wait</td>\n",
              "      <td>-5.144244</td>\n",
              "      <td>-5.966360</td>\n",
              "    </tr>\n",
              "    <tr>\n",
              "      <th>1</th>\n",
              "      <td>1</td>\n",
              "      <td>0</td>\n",
              "      <td>0</td>\n",
              "      <td>0.2</td>\n",
              "      <td>0.2</td>\n",
              "      <td>wait</td>\n",
              "      <td>play</td>\n",
              "      <td>wait</td>\n",
              "      <td>-5.583667</td>\n",
              "      <td>-6.855631</td>\n",
              "    </tr>\n",
              "    <tr>\n",
              "      <th>2</th>\n",
              "      <td>1</td>\n",
              "      <td>0</td>\n",
              "      <td>0</td>\n",
              "      <td>0.2</td>\n",
              "      <td>0.2</td>\n",
              "      <td>wait</td>\n",
              "      <td>none</td>\n",
              "      <td>wait</td>\n",
              "      <td>-6.302387</td>\n",
              "      <td>-7.897372</td>\n",
              "    </tr>\n",
              "    <tr>\n",
              "      <th>3</th>\n",
              "      <td>1</td>\n",
              "      <td>0</td>\n",
              "      <td>0</td>\n",
              "      <td>0.2</td>\n",
              "      <td>0.2</td>\n",
              "      <td>play</td>\n",
              "      <td>wait</td>\n",
              "      <td>wait</td>\n",
              "      <td>-5.281620</td>\n",
              "      <td>-5.558662</td>\n",
              "    </tr>\n",
              "    <tr>\n",
              "      <th>4</th>\n",
              "      <td>1</td>\n",
              "      <td>0</td>\n",
              "      <td>0</td>\n",
              "      <td>0.2</td>\n",
              "      <td>0.2</td>\n",
              "      <td>play</td>\n",
              "      <td>play</td>\n",
              "      <td>wait</td>\n",
              "      <td>-5.213724</td>\n",
              "      <td>-5.900920</td>\n",
              "    </tr>\n",
              "  </tbody>\n",
              "</table>\n",
              "</div>\n",
              "      <button class=\"colab-df-convert\" onclick=\"convertToInteractive('df-9773dc63-bf86-4ff0-a93f-f926211da06f')\"\n",
              "              title=\"Convert this dataframe to an interactive table.\"\n",
              "              style=\"display:none;\">\n",
              "        \n",
              "  <svg xmlns=\"http://www.w3.org/2000/svg\" height=\"24px\"viewBox=\"0 0 24 24\"\n",
              "       width=\"24px\">\n",
              "    <path d=\"M0 0h24v24H0V0z\" fill=\"none\"/>\n",
              "    <path d=\"M18.56 5.44l.94 2.06.94-2.06 2.06-.94-2.06-.94-.94-2.06-.94 2.06-2.06.94zm-11 1L8.5 8.5l.94-2.06 2.06-.94-2.06-.94L8.5 2.5l-.94 2.06-2.06.94zm10 10l.94 2.06.94-2.06 2.06-.94-2.06-.94-.94-2.06-.94 2.06-2.06.94z\"/><path d=\"M17.41 7.96l-1.37-1.37c-.4-.4-.92-.59-1.43-.59-.52 0-1.04.2-1.43.59L10.3 9.45l-7.72 7.72c-.78.78-.78 2.05 0 2.83L4 21.41c.39.39.9.59 1.41.59.51 0 1.02-.2 1.41-.59l7.78-7.78 2.81-2.81c.8-.78.8-2.07 0-2.86zM5.41 20L4 18.59l7.72-7.72 1.47 1.35L5.41 20z\"/>\n",
              "  </svg>\n",
              "      </button>\n",
              "      \n",
              "  <style>\n",
              "    .colab-df-container {\n",
              "      display:flex;\n",
              "      flex-wrap:wrap;\n",
              "      gap: 12px;\n",
              "    }\n",
              "\n",
              "    .colab-df-convert {\n",
              "      background-color: #E8F0FE;\n",
              "      border: none;\n",
              "      border-radius: 50%;\n",
              "      cursor: pointer;\n",
              "      display: none;\n",
              "      fill: #1967D2;\n",
              "      height: 32px;\n",
              "      padding: 0 0 0 0;\n",
              "      width: 32px;\n",
              "    }\n",
              "\n",
              "    .colab-df-convert:hover {\n",
              "      background-color: #E2EBFA;\n",
              "      box-shadow: 0px 1px 2px rgba(60, 64, 67, 0.3), 0px 1px 3px 1px rgba(60, 64, 67, 0.15);\n",
              "      fill: #174EA6;\n",
              "    }\n",
              "\n",
              "    [theme=dark] .colab-df-convert {\n",
              "      background-color: #3B4455;\n",
              "      fill: #D2E3FC;\n",
              "    }\n",
              "\n",
              "    [theme=dark] .colab-df-convert:hover {\n",
              "      background-color: #434B5C;\n",
              "      box-shadow: 0px 1px 3px 1px rgba(0, 0, 0, 0.15);\n",
              "      filter: drop-shadow(0px 1px 2px rgba(0, 0, 0, 0.3));\n",
              "      fill: #FFFFFF;\n",
              "    }\n",
              "  </style>\n",
              "\n",
              "      <script>\n",
              "        const buttonEl =\n",
              "          document.querySelector('#df-9773dc63-bf86-4ff0-a93f-f926211da06f button.colab-df-convert');\n",
              "        buttonEl.style.display =\n",
              "          google.colab.kernel.accessAllowed ? 'block' : 'none';\n",
              "\n",
              "        async function convertToInteractive(key) {\n",
              "          const element = document.querySelector('#df-9773dc63-bf86-4ff0-a93f-f926211da06f');\n",
              "          const dataTable =\n",
              "            await google.colab.kernel.invokeFunction('convertToInteractive',\n",
              "                                                     [key], {});\n",
              "          if (!dataTable) return;\n",
              "\n",
              "          const docLinkHtml = 'Like what you see? Visit the ' +\n",
              "            '<a target=\"_blank\" href=https://colab.research.google.com/notebooks/data_table.ipynb>data table notebook</a>'\n",
              "            + ' to learn more about interactive tables.';\n",
              "          element.innerHTML = '';\n",
              "          dataTable['output_type'] = 'display_data';\n",
              "          await google.colab.output.renderOutput(dataTable, element);\n",
              "          const docLink = document.createElement('div');\n",
              "          docLink.innerHTML = docLinkHtml;\n",
              "          element.appendChild(docLink);\n",
              "        }\n",
              "      </script>\n",
              "    </div>\n",
              "  </div>\n",
              "  "
            ]
          },
          "metadata": {},
          "execution_count": 21
        }
      ]
    },
    {
      "cell_type": "code",
      "source": [
        "(df[\"player2_predicted_action\"] == \"play\").mean()"
      ],
      "metadata": {
        "colab": {
          "base_uri": "https://localhost:8080/"
        },
        "id": "KxAabY2fo4OL",
        "outputId": "d45da42a-9abf-4674-dab9-c8747fb2e31f"
      },
      "execution_count": 22,
      "outputs": [
        {
          "output_type": "stream",
          "name": "stderr",
          "text": [
            "/usr/local/lib/python3.10/dist-packages/ipykernel/ipkernel.py:283: DeprecationWarning: `should_run_async` will not call `transform_cell` automatically in the future. Please pass the result to `transformed_cell` argument and any exception that happen during thetransform in `preprocessing_exc_tuple` in IPython 7.17 and above.\n",
            "  and should_run_async(code)\n"
          ]
        },
        {
          "output_type": "execute_result",
          "data": {
            "text/plain": [
              "0.4947916666666667"
            ]
          },
          "metadata": {},
          "execution_count": 22
        }
      ]
    },
    {
      "cell_type": "code",
      "source": [
        "df[df[\"player2_predicted_action\"] == \"play\"].tail(15)"
      ],
      "metadata": {
        "colab": {
          "base_uri": "https://localhost:8080/",
          "height": 584
        },
        "id": "YmNsJMKrpxVu",
        "outputId": "e16f72ac-de6a-496f-ff12-1c11857c0061"
      },
      "execution_count": 23,
      "outputs": [
        {
          "output_type": "execute_result",
          "data": {
            "text/plain": [
              "     days_left  player1_life_points  player2_life_points  player1_prob_payoff  \\\n",
              "554          2                    3                    2                  0.4   \n",
              "555          2                    3                    2                  0.4   \n",
              "556          2                    3                    2                  0.4   \n",
              "557          2                    3                    2                  0.4   \n",
              "558          2                    3                    3                  0.2   \n",
              "561          2                    3                    3                  0.2   \n",
              "564          2                    3                    3                  0.2   \n",
              "567          2                    3                    3                  0.4   \n",
              "568          2                    3                    3                  0.4   \n",
              "570          2                    3                    3                  0.4   \n",
              "571          2                    3                    3                  0.4   \n",
              "572          2                    3                    3                  0.4   \n",
              "573          2                    3                    3                  0.4   \n",
              "574          2                    3                    3                  0.4   \n",
              "575          2                    3                    3                  0.4   \n",
              "\n",
              "     player2_prob_payoff player1_previous_action player2_previous_action  \\\n",
              "554                  0.4                    play                    none   \n",
              "555                  0.4                    none                    wait   \n",
              "556                  0.4                    none                    play   \n",
              "557                  0.4                    none                    none   \n",
              "558                  0.2                    wait                    wait   \n",
              "561                  0.2                    play                    wait   \n",
              "564                  0.2                    none                    wait   \n",
              "567                  0.4                    wait                    wait   \n",
              "568                  0.4                    wait                    play   \n",
              "570                  0.4                    play                    wait   \n",
              "571                  0.4                    play                    play   \n",
              "572                  0.4                    play                    none   \n",
              "573                  0.4                    none                    wait   \n",
              "574                  0.4                    none                    play   \n",
              "575                  0.4                    none                    none   \n",
              "\n",
              "    player2_predicted_action  player2_logit_wait  player2_logit_play  \n",
              "554                     play           -2.855327           -2.346450  \n",
              "555                     play           -3.717653           -2.277382  \n",
              "556                     play           -3.089209           -2.065479  \n",
              "557                     play           -2.741291           -1.909339  \n",
              "558                     play           -2.697010           -2.652858  \n",
              "561                     play           -2.737608           -2.594360  \n",
              "564                     play           -2.883074           -2.512215  \n",
              "567                     play           -2.422704           -1.831681  \n",
              "568                     play           -2.573875           -2.462578  \n",
              "570                     play           -2.459017           -1.761881  \n",
              "571                     play           -2.148365           -1.908582  \n",
              "572                     play           -2.019079           -1.959433  \n",
              "573                     play           -2.660869           -1.669704  \n",
              "574                     play           -2.252943           -1.689819  \n",
              "575                     play           -1.817335           -1.473903  "
            ],
            "text/html": [
              "\n",
              "  <div id=\"df-a2d4fa15-f70b-4e86-97cf-5e9bff83b97f\">\n",
              "    <div class=\"colab-df-container\">\n",
              "      <div>\n",
              "<style scoped>\n",
              "    .dataframe tbody tr th:only-of-type {\n",
              "        vertical-align: middle;\n",
              "    }\n",
              "\n",
              "    .dataframe tbody tr th {\n",
              "        vertical-align: top;\n",
              "    }\n",
              "\n",
              "    .dataframe thead th {\n",
              "        text-align: right;\n",
              "    }\n",
              "</style>\n",
              "<table border=\"1\" class=\"dataframe\">\n",
              "  <thead>\n",
              "    <tr style=\"text-align: right;\">\n",
              "      <th></th>\n",
              "      <th>days_left</th>\n",
              "      <th>player1_life_points</th>\n",
              "      <th>player2_life_points</th>\n",
              "      <th>player1_prob_payoff</th>\n",
              "      <th>player2_prob_payoff</th>\n",
              "      <th>player1_previous_action</th>\n",
              "      <th>player2_previous_action</th>\n",
              "      <th>player2_predicted_action</th>\n",
              "      <th>player2_logit_wait</th>\n",
              "      <th>player2_logit_play</th>\n",
              "    </tr>\n",
              "  </thead>\n",
              "  <tbody>\n",
              "    <tr>\n",
              "      <th>554</th>\n",
              "      <td>2</td>\n",
              "      <td>3</td>\n",
              "      <td>2</td>\n",
              "      <td>0.4</td>\n",
              "      <td>0.4</td>\n",
              "      <td>play</td>\n",
              "      <td>none</td>\n",
              "      <td>play</td>\n",
              "      <td>-2.855327</td>\n",
              "      <td>-2.346450</td>\n",
              "    </tr>\n",
              "    <tr>\n",
              "      <th>555</th>\n",
              "      <td>2</td>\n",
              "      <td>3</td>\n",
              "      <td>2</td>\n",
              "      <td>0.4</td>\n",
              "      <td>0.4</td>\n",
              "      <td>none</td>\n",
              "      <td>wait</td>\n",
              "      <td>play</td>\n",
              "      <td>-3.717653</td>\n",
              "      <td>-2.277382</td>\n",
              "    </tr>\n",
              "    <tr>\n",
              "      <th>556</th>\n",
              "      <td>2</td>\n",
              "      <td>3</td>\n",
              "      <td>2</td>\n",
              "      <td>0.4</td>\n",
              "      <td>0.4</td>\n",
              "      <td>none</td>\n",
              "      <td>play</td>\n",
              "      <td>play</td>\n",
              "      <td>-3.089209</td>\n",
              "      <td>-2.065479</td>\n",
              "    </tr>\n",
              "    <tr>\n",
              "      <th>557</th>\n",
              "      <td>2</td>\n",
              "      <td>3</td>\n",
              "      <td>2</td>\n",
              "      <td>0.4</td>\n",
              "      <td>0.4</td>\n",
              "      <td>none</td>\n",
              "      <td>none</td>\n",
              "      <td>play</td>\n",
              "      <td>-2.741291</td>\n",
              "      <td>-1.909339</td>\n",
              "    </tr>\n",
              "    <tr>\n",
              "      <th>558</th>\n",
              "      <td>2</td>\n",
              "      <td>3</td>\n",
              "      <td>3</td>\n",
              "      <td>0.2</td>\n",
              "      <td>0.2</td>\n",
              "      <td>wait</td>\n",
              "      <td>wait</td>\n",
              "      <td>play</td>\n",
              "      <td>-2.697010</td>\n",
              "      <td>-2.652858</td>\n",
              "    </tr>\n",
              "    <tr>\n",
              "      <th>561</th>\n",
              "      <td>2</td>\n",
              "      <td>3</td>\n",
              "      <td>3</td>\n",
              "      <td>0.2</td>\n",
              "      <td>0.2</td>\n",
              "      <td>play</td>\n",
              "      <td>wait</td>\n",
              "      <td>play</td>\n",
              "      <td>-2.737608</td>\n",
              "      <td>-2.594360</td>\n",
              "    </tr>\n",
              "    <tr>\n",
              "      <th>564</th>\n",
              "      <td>2</td>\n",
              "      <td>3</td>\n",
              "      <td>3</td>\n",
              "      <td>0.2</td>\n",
              "      <td>0.2</td>\n",
              "      <td>none</td>\n",
              "      <td>wait</td>\n",
              "      <td>play</td>\n",
              "      <td>-2.883074</td>\n",
              "      <td>-2.512215</td>\n",
              "    </tr>\n",
              "    <tr>\n",
              "      <th>567</th>\n",
              "      <td>2</td>\n",
              "      <td>3</td>\n",
              "      <td>3</td>\n",
              "      <td>0.4</td>\n",
              "      <td>0.4</td>\n",
              "      <td>wait</td>\n",
              "      <td>wait</td>\n",
              "      <td>play</td>\n",
              "      <td>-2.422704</td>\n",
              "      <td>-1.831681</td>\n",
              "    </tr>\n",
              "    <tr>\n",
              "      <th>568</th>\n",
              "      <td>2</td>\n",
              "      <td>3</td>\n",
              "      <td>3</td>\n",
              "      <td>0.4</td>\n",
              "      <td>0.4</td>\n",
              "      <td>wait</td>\n",
              "      <td>play</td>\n",
              "      <td>play</td>\n",
              "      <td>-2.573875</td>\n",
              "      <td>-2.462578</td>\n",
              "    </tr>\n",
              "    <tr>\n",
              "      <th>570</th>\n",
              "      <td>2</td>\n",
              "      <td>3</td>\n",
              "      <td>3</td>\n",
              "      <td>0.4</td>\n",
              "      <td>0.4</td>\n",
              "      <td>play</td>\n",
              "      <td>wait</td>\n",
              "      <td>play</td>\n",
              "      <td>-2.459017</td>\n",
              "      <td>-1.761881</td>\n",
              "    </tr>\n",
              "    <tr>\n",
              "      <th>571</th>\n",
              "      <td>2</td>\n",
              "      <td>3</td>\n",
              "      <td>3</td>\n",
              "      <td>0.4</td>\n",
              "      <td>0.4</td>\n",
              "      <td>play</td>\n",
              "      <td>play</td>\n",
              "      <td>play</td>\n",
              "      <td>-2.148365</td>\n",
              "      <td>-1.908582</td>\n",
              "    </tr>\n",
              "    <tr>\n",
              "      <th>572</th>\n",
              "      <td>2</td>\n",
              "      <td>3</td>\n",
              "      <td>3</td>\n",
              "      <td>0.4</td>\n",
              "      <td>0.4</td>\n",
              "      <td>play</td>\n",
              "      <td>none</td>\n",
              "      <td>play</td>\n",
              "      <td>-2.019079</td>\n",
              "      <td>-1.959433</td>\n",
              "    </tr>\n",
              "    <tr>\n",
              "      <th>573</th>\n",
              "      <td>2</td>\n",
              "      <td>3</td>\n",
              "      <td>3</td>\n",
              "      <td>0.4</td>\n",
              "      <td>0.4</td>\n",
              "      <td>none</td>\n",
              "      <td>wait</td>\n",
              "      <td>play</td>\n",
              "      <td>-2.660869</td>\n",
              "      <td>-1.669704</td>\n",
              "    </tr>\n",
              "    <tr>\n",
              "      <th>574</th>\n",
              "      <td>2</td>\n",
              "      <td>3</td>\n",
              "      <td>3</td>\n",
              "      <td>0.4</td>\n",
              "      <td>0.4</td>\n",
              "      <td>none</td>\n",
              "      <td>play</td>\n",
              "      <td>play</td>\n",
              "      <td>-2.252943</td>\n",
              "      <td>-1.689819</td>\n",
              "    </tr>\n",
              "    <tr>\n",
              "      <th>575</th>\n",
              "      <td>2</td>\n",
              "      <td>3</td>\n",
              "      <td>3</td>\n",
              "      <td>0.4</td>\n",
              "      <td>0.4</td>\n",
              "      <td>none</td>\n",
              "      <td>none</td>\n",
              "      <td>play</td>\n",
              "      <td>-1.817335</td>\n",
              "      <td>-1.473903</td>\n",
              "    </tr>\n",
              "  </tbody>\n",
              "</table>\n",
              "</div>\n",
              "      <button class=\"colab-df-convert\" onclick=\"convertToInteractive('df-a2d4fa15-f70b-4e86-97cf-5e9bff83b97f')\"\n",
              "              title=\"Convert this dataframe to an interactive table.\"\n",
              "              style=\"display:none;\">\n",
              "        \n",
              "  <svg xmlns=\"http://www.w3.org/2000/svg\" height=\"24px\"viewBox=\"0 0 24 24\"\n",
              "       width=\"24px\">\n",
              "    <path d=\"M0 0h24v24H0V0z\" fill=\"none\"/>\n",
              "    <path d=\"M18.56 5.44l.94 2.06.94-2.06 2.06-.94-2.06-.94-.94-2.06-.94 2.06-2.06.94zm-11 1L8.5 8.5l.94-2.06 2.06-.94-2.06-.94L8.5 2.5l-.94 2.06-2.06.94zm10 10l.94 2.06.94-2.06 2.06-.94-2.06-.94-.94-2.06-.94 2.06-2.06.94z\"/><path d=\"M17.41 7.96l-1.37-1.37c-.4-.4-.92-.59-1.43-.59-.52 0-1.04.2-1.43.59L10.3 9.45l-7.72 7.72c-.78.78-.78 2.05 0 2.83L4 21.41c.39.39.9.59 1.41.59.51 0 1.02-.2 1.41-.59l7.78-7.78 2.81-2.81c.8-.78.8-2.07 0-2.86zM5.41 20L4 18.59l7.72-7.72 1.47 1.35L5.41 20z\"/>\n",
              "  </svg>\n",
              "      </button>\n",
              "      \n",
              "  <style>\n",
              "    .colab-df-container {\n",
              "      display:flex;\n",
              "      flex-wrap:wrap;\n",
              "      gap: 12px;\n",
              "    }\n",
              "\n",
              "    .colab-df-convert {\n",
              "      background-color: #E8F0FE;\n",
              "      border: none;\n",
              "      border-radius: 50%;\n",
              "      cursor: pointer;\n",
              "      display: none;\n",
              "      fill: #1967D2;\n",
              "      height: 32px;\n",
              "      padding: 0 0 0 0;\n",
              "      width: 32px;\n",
              "    }\n",
              "\n",
              "    .colab-df-convert:hover {\n",
              "      background-color: #E2EBFA;\n",
              "      box-shadow: 0px 1px 2px rgba(60, 64, 67, 0.3), 0px 1px 3px 1px rgba(60, 64, 67, 0.15);\n",
              "      fill: #174EA6;\n",
              "    }\n",
              "\n",
              "    [theme=dark] .colab-df-convert {\n",
              "      background-color: #3B4455;\n",
              "      fill: #D2E3FC;\n",
              "    }\n",
              "\n",
              "    [theme=dark] .colab-df-convert:hover {\n",
              "      background-color: #434B5C;\n",
              "      box-shadow: 0px 1px 3px 1px rgba(0, 0, 0, 0.15);\n",
              "      filter: drop-shadow(0px 1px 2px rgba(0, 0, 0, 0.3));\n",
              "      fill: #FFFFFF;\n",
              "    }\n",
              "  </style>\n",
              "\n",
              "      <script>\n",
              "        const buttonEl =\n",
              "          document.querySelector('#df-a2d4fa15-f70b-4e86-97cf-5e9bff83b97f button.colab-df-convert');\n",
              "        buttonEl.style.display =\n",
              "          google.colab.kernel.accessAllowed ? 'block' : 'none';\n",
              "\n",
              "        async function convertToInteractive(key) {\n",
              "          const element = document.querySelector('#df-a2d4fa15-f70b-4e86-97cf-5e9bff83b97f');\n",
              "          const dataTable =\n",
              "            await google.colab.kernel.invokeFunction('convertToInteractive',\n",
              "                                                     [key], {});\n",
              "          if (!dataTable) return;\n",
              "\n",
              "          const docLinkHtml = 'Like what you see? Visit the ' +\n",
              "            '<a target=\"_blank\" href=https://colab.research.google.com/notebooks/data_table.ipynb>data table notebook</a>'\n",
              "            + ' to learn more about interactive tables.';\n",
              "          element.innerHTML = '';\n",
              "          dataTable['output_type'] = 'display_data';\n",
              "          await google.colab.output.renderOutput(dataTable, element);\n",
              "          const docLink = document.createElement('div');\n",
              "          docLink.innerHTML = docLinkHtml;\n",
              "          element.appendChild(docLink);\n",
              "        }\n",
              "      </script>\n",
              "    </div>\n",
              "  </div>\n",
              "  "
            ]
          },
          "metadata": {},
          "execution_count": 23
        }
      ]
    },
    {
      "cell_type": "code",
      "source": [],
      "metadata": {
        "id": "e_mt1J_xiv3y"
      },
      "execution_count": null,
      "outputs": []
    }
  ]
}