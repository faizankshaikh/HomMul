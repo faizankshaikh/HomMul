{
  "nbformat": 4,
  "nbformat_minor": 0,
  "metadata": {
    "colab": {
      "provenance": [],
      "gpuType": "T4",
      "authorship_tag": "ABX9TyOQngH4SlxicqtfofN7u4DH",
      "include_colab_link": true
    },
    "kernelspec": {
      "name": "python3",
      "display_name": "Python 3"
    },
    "language_info": {
      "name": "python"
    },
    "accelerator": "GPU",
    "gpuClass": "standard"
  },
  "cells": [
    {
      "cell_type": "markdown",
      "metadata": {
        "id": "view-in-github",
        "colab_type": "text"
      },
      "source": [
        "<a href=\"https://colab.research.google.com/github/faizankshaikh/HomMul/blob/main/experiments/trial1.ipynb\" target=\"_parent\"><img src=\"https://colab.research.google.com/assets/colab-badge.svg\" alt=\"Open In Colab\"/></a>"
      ]
    },
    {
      "cell_type": "markdown",
      "source": [
        "# Experiments with Self-Playing Deep Reinforcement Learning\n"
      ],
      "metadata": {
        "id": "EG4U4ibl9Cnl"
      }
    },
    {
      "cell_type": "code",
      "execution_count": 1,
      "metadata": {
        "id": "V2BNDFAEr5fq"
      },
      "outputs": [],
      "source": [
        "#@title Required installation\n",
        "# !pip install -q black gymnasium pettingzoo==1.22.3 tianshou\n",
        "# !git clone https://github.com/faizankshaikh/HomMul.git"
      ]
    },
    {
      "cell_type": "code",
      "source": [
        "#@title Change working path\n",
        "%cd HomMul/"
      ],
      "metadata": {
        "colab": {
          "base_uri": "https://localhost:8080/"
        },
        "id": "NBShrrDlsJLP",
        "outputId": "678e2d5e-e7fa-4fe6-d32c-f5c7b1b473ad",
        "cellView": "form"
      },
      "execution_count": 2,
      "outputs": [
        {
          "output_type": "stream",
          "name": "stdout",
          "text": [
            "/content/HomMul\n"
          ]
        }
      ]
    },
    {
      "cell_type": "code",
      "source": [
        "#@title Import libraries and modules\n",
        "%load_ext tensorboard\n",
        "\n",
        "import os\n",
        "import torch\n",
        "import numpy as np\n",
        "import pandas as pd\n",
        "import matplotlib.pyplot as plt\n",
        "\n",
        "from hommul.envs.hommul_v0 import HomMul\n",
        "\n",
        "from torch.optim import Adam\n",
        "\n",
        "from tianshou.data import Batch\n",
        "from tianshou.utils.net.common import Net\n",
        "from tianshou.utils import TensorboardLogger\n",
        "from tianshou.trainer import offpolicy_trainer\n",
        "from tianshou.data import Collector, VectorReplayBuffer\n",
        "from tianshou.env import DummyVectorEnv, PettingZooEnv\n",
        "from tianshou.policy import BasePolicy, DQNPolicy, MultiAgentPolicyManager\n",
        "\n",
        "from pettingzoo.utils import parallel_to_aec\n",
        "\n",
        "from torch.utils.tensorboard import SummaryWriter"
      ],
      "metadata": {
        "id": "othtAUgWs8MA",
        "cellView": "form"
      },
      "execution_count": 3,
      "outputs": []
    },
    {
      "cell_type": "code",
      "source": [
        "#@title Setup Gymnasium environment\n",
        "env = HomMul()\n",
        "original_env = HomMul(render_mode=\"human\")"
      ],
      "metadata": {
        "colab": {
          "base_uri": "https://localhost:8080/"
        },
        "id": "ZkPx4nCOuhXX",
        "outputId": "3adc6ab0-9ff3-44f6-b181-0fd7efa0c274",
        "cellView": "form"
      },
      "execution_count": 4,
      "outputs": [
        {
          "output_type": "stream",
          "name": "stderr",
          "text": [
            "/usr/local/lib/python3.10/dist-packages/ipykernel/ipkernel.py:283: DeprecationWarning: `should_run_async` will not call `transform_cell` automatically in the future. Please pass the result to `transformed_cell` argument and any exception that happen during thetransform in `preprocessing_exc_tuple` in IPython 7.17 and above.\n",
            "  and should_run_async(code)\n"
          ]
        }
      ]
    },
    {
      "cell_type": "code",
      "source": [
        "#@title Example of gameplay\n",
        "episodes = 2\n",
        "\n",
        "for episode in range(episodes):\n",
        "    print(f\"Episode #{episode+1}\")\n",
        "    print(\"=\" * 10)\n",
        "    obs = original_env.reset()\n",
        "    print()\n",
        "\n",
        "    while original_env.agents:\n",
        "        acts = {\n",
        "            \"player1\": np.random.choice([0, 1]),\n",
        "            \"player2\": np.random.choice([0, 1])\n",
        "        }\n",
        "        print(f\"--Action taken by player 1: {original_env.action_dict[acts['player1']]}\")\n",
        "        print(f\"--Action taken by player 2: {original_env.action_dict[acts['player2']]}\")\n",
        "        print()\n",
        "\n",
        "        obs, rews, terms, truncs, infos = original_env.step(acts)\n",
        "        print()"
      ],
      "metadata": {
        "colab": {
          "base_uri": "https://localhost:8080/"
        },
        "id": "ANr_Vc2ouvVJ",
        "outputId": "4ed8f4c0-1334-4d88-8022-973075cc2770",
        "cellView": "form"
      },
      "execution_count": 5,
      "outputs": [
        {
          "output_type": "stream",
          "name": "stdout",
          "text": [
            "Episode #1\n",
            "==========\n",
            "--Days left: 1\n",
            "--Current life of agent 1: 1\n",
            "--Current life of agent 2: 2\n",
            "--Probability of payoff for agent 1: 0.4\n",
            "--Probability of payoff for agent 2: 0.4\n",
            "\n",
            "--Action taken by player 1: wait\n",
            "--Action taken by player 2: wait\n",
            "\n",
            "--Days left: 0\n",
            "--Current life of agent 1: 0\n",
            "--Current life of agent 2: 1\n",
            "--Probability of payoff for agent 1: 0.4\n",
            "--Probability of payoff for agent 2: 0.4\n",
            "--Previous action of agent 1: wait\n",
            "--Previous action of agent 2: wait\n",
            "\n",
            "Episode #2\n",
            "==========\n",
            "--Days left: 1\n",
            "--Current life of agent 1: 1\n",
            "--Current life of agent 2: 2\n",
            "--Probability of payoff for agent 1: 0.2\n",
            "--Probability of payoff for agent 2: 0.2\n",
            "\n",
            "--Action taken by player 1: play\n",
            "--Action taken by player 2: play\n",
            "\n",
            "--Days left: 0\n",
            "--Current life of agent 1: 0\n",
            "--Current life of agent 2: 0\n",
            "--Probability of payoff for agent 1: 0.2\n",
            "--Probability of payoff for agent 2: 0.2\n",
            "--Previous action of agent 1: play\n",
            "--Previous action of agent 2: play\n",
            "\n"
          ]
        }
      ]
    },
    {
      "cell_type": "markdown",
      "source": [
        "## Heuristics Benchmarking\n"
      ],
      "metadata": {
        "id": "7QKl99aq9q4K"
      }
    },
    {
      "cell_type": "code",
      "source": [
        "#@title Case - both always play\n",
        "episodes = 1000\n",
        "\n",
        "episode_rews = []\n",
        "\n",
        "for _ in range(episodes):\n",
        "\n",
        "    obs = env.reset()\n",
        "    while env.agents:\n",
        "        acts = {\n",
        "            \"player1\": 1,\n",
        "            \"player2\": 1\n",
        "        }\n",
        "\n",
        "        obs, rews, terms, truncs, infos = env.step(acts)\n",
        "        # print(obs, rews)\n",
        "\n",
        "    episode_rews.append([rews['player1'], rews['player2']])\n",
        "\n",
        "arr = np.array(episode_rews)\n",
        "death_rates = np.sum(arr, axis=0) / np.sum(arr, axis=0)[0]\n",
        "print(f\"death rate of player2: {(np.sum(arr, axis=0) / arr.shape[0])[-1] * -1:.3f}\")\n",
        "print(f\"ratio of death rate of player2 with respect to player1: {death_rates[-1]:.3f}\")\n",
        "plt.plot(arr.cumsum(axis=0))\n",
        "plt.legend((\"player1\", \"player2\"))\n",
        "plt.show()"
      ],
      "metadata": {
        "colab": {
          "base_uri": "https://localhost:8080/",
          "height": 466
        },
        "id": "biogmPIWxNv3",
        "outputId": "d4db1b3a-db6b-4d04-d0dd-401504c5812e",
        "cellView": "form"
      },
      "execution_count": 6,
      "outputs": [
        {
          "output_type": "stream",
          "name": "stdout",
          "text": [
            "death rate of player2: 0.351\n",
            "ratio of death rate of player2 with respect to player1: 0.900\n"
          ]
        },
        {
          "output_type": "display_data",
          "data": {
            "text/plain": [
              "<Figure size 640x480 with 1 Axes>"
            ],
            "image/png": "[encoded data removed]"
          },
          "metadata": {}
        }
      ]
    },
    {
      "cell_type": "code",
      "source": [
        "#@title Case - both always wait\n",
        "episodes = 1000\n",
        "\n",
        "episode_rews = []\n",
        "\n",
        "for _ in range(episodes):\n",
        "\n",
        "    obs = env.reset()\n",
        "    while env.agents:\n",
        "        acts = {\n",
        "            \"player1\": 0,\n",
        "            \"player2\": 0\n",
        "        }\n",
        "\n",
        "        obs, rews, terms, truncs, infos = env.step(acts)\n",
        "        # print(obs, rews)\n",
        "\n",
        "    episode_rews.append([rews['player1'], rews['player2']])\n",
        "\n",
        "arr = np.array(episode_rews)\n",
        "death_rates = np.sum(arr, axis=0) / np.sum(arr, axis=0)[0]\n",
        "print(f\"death rate of player2: {(np.sum(arr, axis=0) / arr.shape[0])[-1] * -1:.3f}\")\n",
        "print(f\"ratio of death rate of player2 with respect to player1: {death_rates[-1]:.3f}\")\n",
        "plt.plot(arr.cumsum(axis=0))\n",
        "plt.legend((\"player1\", \"player2\"))\n",
        "plt.show()"
      ],
      "metadata": {
        "colab": {
          "base_uri": "https://localhost:8080/",
          "height": 466
        },
        "id": "EpB7M86F3Nmk",
        "outputId": "443485ab-fe3a-49b4-b30c-b5372e57d41d",
        "cellView": "form"
      },
      "execution_count": 7,
      "outputs": [
        {
          "output_type": "stream",
          "name": "stdout",
          "text": [
            "death rate of player2: 0.426\n",
            "ratio of death rate of player2 with respect to player1: 0.683\n"
          ]
        },
        {
          "output_type": "display_data",
          "data": {
            "text/plain": [
              "<Figure size 640x480 with 1 Axes>"
            ],
            "image/png": "[encoded data removed]"
          },
          "metadata": {}
        }
      ]
    },
    {
      "cell_type": "code",
      "source": [
        "#@title Case - player1 waits, player2 plays\n",
        "episodes = 1000\n",
        "\n",
        "episode_rews = []\n",
        "\n",
        "for _ in range(episodes):\n",
        "\n",
        "    obs = env.reset()\n",
        "    while env.agents:\n",
        "        acts = {\n",
        "            \"player1\": 0,\n",
        "            \"player2\": 1\n",
        "        }\n",
        "\n",
        "        obs, rews, terms, truncs, infos = env.step(acts)\n",
        "        # print(obs, rews)\n",
        "\n",
        "    episode_rews.append([rews['player1'], rews['player2']])\n",
        "\n",
        "arr = np.array(episode_rews)\n",
        "death_rates = np.sum(arr, axis=0) / np.sum(arr, axis=0)[0]\n",
        "print(f\"death rate of player2: {(np.sum(arr, axis=0) / arr.shape[0])[-1] * -1:.3f}\")\n",
        "print(f\"ratio of death rate of player2 with respect to player1: {death_rates[-1]:.3f}\")\n",
        "plt.plot(arr.cumsum(axis=0))\n",
        "plt.legend((\"player1\", \"player2\"))\n",
        "plt.show()"
      ],
      "metadata": {
        "colab": {
          "base_uri": "https://localhost:8080/",
          "height": 466
        },
        "id": "O2wI3VsI3Tc8",
        "outputId": "234dfdaa-de37-4517-9560-ec3144ec307d",
        "cellView": "form"
      },
      "execution_count": 8,
      "outputs": [
        {
          "output_type": "stream",
          "name": "stdout",
          "text": [
            "death rate of player2: 0.566\n",
            "ratio of death rate of player2 with respect to player1: 0.906\n"
          ]
        },
        {
          "output_type": "display_data",
          "data": {
            "text/plain": [
              "<Figure size 640x480 with 1 Axes>"
            ],
            "image/png": "[encoded data removed]"
          },
          "metadata": {}
        }
      ]
    },
    {
      "cell_type": "code",
      "source": [
        "#@title Case - player1 plays, player2 waits\n",
        "episodes = 1000\n",
        "\n",
        "episode_rews = []\n",
        "\n",
        "for _ in range(episodes):\n",
        "\n",
        "    obs = env.reset()\n",
        "    while env.agents:\n",
        "        acts = {\n",
        "            \"player1\": 1,\n",
        "            \"player2\": 0\n",
        "        }\n",
        "\n",
        "        obs, rews, terms, truncs, infos = env.step(acts)\n",
        "        # print(obs, rews)\n",
        "\n",
        "    episode_rews.append([rews['player1'], rews['player2']])\n",
        "\n",
        "arr = np.array(episode_rews)\n",
        "death_rates = np.sum(arr, axis=0) / np.sum(arr, axis=0)[0]\n",
        "print(f\"death rate of player2: {(np.sum(arr, axis=0) / arr.shape[0])[-1] * -1:.3f}\")\n",
        "print(f\"ratio of death rate of player2 with respect to player1: {death_rates[-1]:.3f}\")\n",
        "plt.plot(arr.cumsum(axis=0))\n",
        "plt.legend((\"player1\", \"player2\"))\n",
        "plt.show()"
      ],
      "metadata": {
        "colab": {
          "base_uri": "https://localhost:8080/",
          "height": 466
        },
        "id": "9eJWcQqC3Z99",
        "outputId": "c8e46afe-f381-4fd9-beae-2e49e3e28aea",
        "cellView": "form"
      },
      "execution_count": 9,
      "outputs": [
        {
          "output_type": "stream",
          "name": "stdout",
          "text": [
            "death rate of player2: 0.421\n",
            "ratio of death rate of player2 with respect to player1: 0.690\n"
          ]
        },
        {
          "output_type": "display_data",
          "data": {
            "text/plain": [
              "<Figure size 640x480 with 1 Axes>"
            ],
            "image/png": "[encoded data removed]"
          },
          "metadata": {}
        }
      ]
    },
    {
      "cell_type": "code",
      "source": [
        "#@title Case - Always play vs random agent\n",
        "episodes = 1000\n",
        "\n",
        "episode_rews = []\n",
        "\n",
        "for _ in range(episodes):\n",
        "\n",
        "    obs = env.reset()\n",
        "    while env.agents:\n",
        "        acts = {\n",
        "            \"player1\": 1,\n",
        "            \"player2\": np.random.choice([0, 1])\n",
        "        }\n",
        "\n",
        "        obs, rews, terms, truncs, infos = env.step(acts)\n",
        "        # print(obs, rews)\n",
        "\n",
        "    episode_rews.append([rews['player1'], rews['player2']])\n",
        "\n",
        "arr = np.array(episode_rews)\n",
        "death_rates = np.sum(arr, axis=0) / np.sum(arr, axis=0)[0]\n",
        "print(f\"death rate of player2: {(np.sum(arr, axis=0) / arr.shape[0])[-1] * -1:.3f}\")\n",
        "print(f\"ratio of death rate of player2 with respect to player1: {death_rates[-1]:.3f}\")\n",
        "plt.plot(arr.cumsum(axis=0))\n",
        "plt.legend((\"player1\", \"player2\"))\n",
        "plt.show()"
      ],
      "metadata": {
        "colab": {
          "base_uri": "https://localhost:8080/",
          "height": 466
        },
        "id": "FPLlpZUh3i8f",
        "outputId": "f257e90e-bdcf-44b0-cab1-f8b5deb194a4",
        "cellView": "form"
      },
      "execution_count": 10,
      "outputs": [
        {
          "output_type": "stream",
          "name": "stdout",
          "text": [
            "death rate of player2: 0.397\n",
            "ratio of death rate of player2 with respect to player1: 0.748\n"
          ]
        },
        {
          "output_type": "display_data",
          "data": {
            "text/plain": [
              "<Figure size 640x480 with 1 Axes>"
            ],
            "image/png": "[encoded data removed]"
          },
          "metadata": {}
        }
      ]
    },
    {
      "cell_type": "code",
      "source": [
        "#@title Case - Always wait vs random agent\n",
        "episodes = 1000\n",
        "\n",
        "episode_rews = []\n",
        "\n",
        "for _ in range(episodes):\n",
        "\n",
        "    obs = env.reset()\n",
        "    while env.agents:\n",
        "        acts = {\n",
        "            \"player1\": 0,\n",
        "            \"player2\": np.random.choice([0, 1])\n",
        "        }\n",
        "\n",
        "        obs, rews, terms, truncs, infos = env.step(acts)\n",
        "        # print(obs, rews)\n",
        "\n",
        "    episode_rews.append([rews['player1'], rews['player2']])\n",
        "\n",
        "arr = np.array(episode_rews)\n",
        "death_rates = np.sum(arr, axis=0) / np.sum(arr, axis=0)[0]\n",
        "print(f\"death rate of player2: {(np.sum(arr, axis=0) / arr.shape[0])[-1] * -1:.3f}\")\n",
        "print(f\"ratio of death rate of player2 with respect to player1: {death_rates[-1]:.3f}\")\n",
        "plt.plot(arr.cumsum(axis=0))\n",
        "plt.legend((\"player1\", \"player2\"))\n",
        "plt.show()"
      ],
      "metadata": {
        "colab": {
          "base_uri": "https://localhost:8080/",
          "height": 466
        },
        "id": "A2Ei4LU75us9",
        "outputId": "c5ae6e86-1d56-4ef7-a402-78b7c2a44d6f",
        "cellView": "form"
      },
      "execution_count": 11,
      "outputs": [
        {
          "output_type": "stream",
          "name": "stdout",
          "text": [
            "death rate of player2: 0.528\n",
            "ratio of death rate of player2 with respect to player1: 0.873\n"
          ]
        },
        {
          "output_type": "display_data",
          "data": {
            "text/plain": [
              "<Figure size 640x480 with 1 Axes>"
            ],
            "image/png": "[encoded data removed]"
          },
          "metadata": {}
        }
      ]
    },
    {
      "cell_type": "code",
      "source": [
        "#@title Case - Always play vs hail mary\n",
        "episodes = 1000\n",
        "\n",
        "episode_rews = []\n",
        "\n",
        "for _ in range(episodes):\n",
        "\n",
        "    obs = env.reset()\n",
        "    while env.agents:\n",
        "        acts = {\n",
        "            \"player1\": 1,\n",
        "            \"player2\": 1 if obs[\"player2\"][\"observation\"][0, 2] <= 1 else 0\n",
        "        }\n",
        "\n",
        "        obs, rews, terms, truncs, infos = env.step(acts)\n",
        "        # print(obs, rews)\n",
        "\n",
        "    episode_rews.append([rews['player1'], rews['player2']])\n",
        "\n",
        "arr = np.array(episode_rews)\n",
        "death_rates = np.sum(arr, axis=0) / np.sum(arr, axis=0)[0]\n",
        "print(f\"death rate of player2: {(np.sum(arr, axis=0) / arr.shape[0])[-1] * -1:.3f}\")\n",
        "print(f\"ratio of death rate of player2 with respect to player1: {death_rates[-1]:.3f}\")\n",
        "plt.plot(arr.cumsum(axis=0))\n",
        "plt.legend((\"player1\", \"player2\"))\n",
        "plt.show()"
      ],
      "metadata": {
        "colab": {
          "base_uri": "https://localhost:8080/",
          "height": 466
        },
        "id": "onhvByjW51QN",
        "outputId": "561e587b-a4d9-48be-8da2-33de1ce90e50",
        "cellView": "form"
      },
      "execution_count": 12,
      "outputs": [
        {
          "output_type": "stream",
          "name": "stdout",
          "text": [
            "death rate of player2: 0.206\n",
            "ratio of death rate of player2 with respect to player1: 0.365\n"
          ]
        },
        {
          "output_type": "display_data",
          "data": {
            "text/plain": [
              "<Figure size 640x480 with 1 Axes>"
            ],
            "image/png": "[encoded data removed]"
          },
          "metadata": {}
        }
      ]
    },
    {
      "cell_type": "code",
      "source": [
        "#@title Case - Always wait vs hail mary\n",
        "episodes = 1000\n",
        "\n",
        "episode_rews = []\n",
        "\n",
        "for _ in range(episodes):\n",
        "\n",
        "    obs = env.reset()\n",
        "    while env.agents:\n",
        "        acts = {\n",
        "            \"player1\": 0,\n",
        "            \"player2\": 1 if obs[\"player2\"][\"observation\"][0, 2] <= 1 else 0\n",
        "        }\n",
        "\n",
        "        obs, rews, terms, truncs, infos = env.step(acts)\n",
        "        # print(obs, rews)\n",
        "\n",
        "    episode_rews.append([rews['player1'], rews['player2']])\n",
        "\n",
        "arr = np.array(episode_rews)\n",
        "death_rates = np.sum(arr, axis=0) / np.sum(arr, axis=0)[0]\n",
        "print(f\"death rate of player2: {(np.sum(arr, axis=0) / arr.shape[0])[-1] * -1:.3f}\")\n",
        "print(f\"ratio of death rate of player2 with respect to player1: {death_rates[-1]:.3f}\")\n",
        "plt.plot(arr.cumsum(axis=0))\n",
        "plt.legend((\"player1\", \"player2\"))\n",
        "plt.show()"
      ],
      "metadata": {
        "colab": {
          "base_uri": "https://localhost:8080/",
          "height": 466
        },
        "id": "V8KQIrS76GRt",
        "outputId": "5ec7fcf5-019e-4a9b-c608-dcf612408438",
        "cellView": "form"
      },
      "execution_count": 13,
      "outputs": [
        {
          "output_type": "stream",
          "name": "stdout",
          "text": [
            "death rate of player2: 0.306\n",
            "ratio of death rate of player2 with respect to player1: 0.498\n"
          ]
        },
        {
          "output_type": "display_data",
          "data": {
            "text/plain": [
              "<Figure size 640x480 with 1 Axes>"
            ],
            "image/png": "[encoded data removed]"
          },
          "metadata": {}
        }
      ]
    },
    {
      "cell_type": "code",
      "source": [
        "#@title Load optimal policy\n",
        "\n",
        "def optimal(obs):\n",
        "    df = pd.read_csv(\"models/optimal_policy.csv\")\n",
        "    return df.loc[\n",
        "        (df[\"days_left\"] == obs[\"player1\"][\"observation\"][0][0]) &\n",
        "        (df[\"player1_life_points\"] == obs[\"player1\"][\"observation\"][0][1]) &\n",
        "        (df[\"player2_life_points\"] == obs[\"player1\"][\"observation\"][0][2]) &\n",
        "        (df[\"player1_prob_payoff\"] == obs[\"player1\"][\"observation\"][0][3])\n",
        "    ][\"action\"].values[0] - 1"
      ],
      "metadata": {
        "id": "QBM2c6-kc-AP",
        "cellView": "form"
      },
      "execution_count": 14,
      "outputs": []
    },
    {
      "cell_type": "code",
      "source": [
        "#@title Case - hail mary vs optimal\n",
        "episodes = 1000\n",
        "\n",
        "episode_rews = []\n",
        "\n",
        "for _ in range(episodes):\n",
        "\n",
        "    obs = env.reset()\n",
        "    while env.agents:\n",
        "        acts = {\n",
        "            \"player1\": 1 if obs[\"player2\"][\"observation\"][0, 2] <= 1 else 0,\n",
        "            \"player2\": optimal(obs)\n",
        "        }\n",
        "\n",
        "        obs, rews, terms, truncs, infos = env.step(acts)\n",
        "        # print(obs, rews)\n",
        "\n",
        "    episode_rews.append([rews['player1'], rews['player2']])\n",
        "\n",
        "arr = np.array(episode_rews)\n",
        "death_rates = np.sum(arr, axis=0) / np.sum(arr, axis=0)[0]\n",
        "print(f\"death rate of player2: {(np.sum(arr, axis=0) / arr.shape[0])[-1] * -1:.3f}\")\n",
        "print(f\"ratio of death rate of player2 with respect to player1: {death_rates[-1]:.3f}\")\n",
        "plt.plot(arr.cumsum(axis=0))\n",
        "plt.legend((\"player1\", \"player2\"))\n",
        "plt.show()"
      ],
      "metadata": {
        "id": "Rp5rTe78auBy",
        "outputId": "2296fb8a-c354-4e27-af9e-9cf3ef25e92d",
        "colab": {
          "base_uri": "https://localhost:8080/",
          "height": 466
        },
        "cellView": "form"
      },
      "execution_count": 15,
      "outputs": [
        {
          "output_type": "stream",
          "name": "stdout",
          "text": [
            "death rate of player2: 0.241\n",
            "ratio of death rate of player2 with respect to player1: 0.480\n"
          ]
        },
        {
          "output_type": "display_data",
          "data": {
            "text/plain": [
              "<Figure size 640x480 with 1 Axes>"
            ],
            "image/png": "[encoded data removed]"
          },
          "metadata": {}
        }
      ]
    },
    {
      "cell_type": "code",
      "source": [
        "#@title Case - Always wait vs optimal\n",
        "episodes = 1000\n",
        "\n",
        "episode_rews = []\n",
        "\n",
        "for _ in range(episodes):\n",
        "\n",
        "    obs = env.reset()\n",
        "    while env.agents:\n",
        "        acts = {\n",
        "            \"player1\": 0,\n",
        "            \"player2\": optimal(obs)\n",
        "        }\n",
        "\n",
        "        obs, rews, terms, truncs, infos = env.step(acts)\n",
        "        # print(obs, rews)\n",
        "\n",
        "    episode_rews.append([rews['player1'], rews['player2']])\n",
        "\n",
        "arr = np.array(episode_rews)\n",
        "death_rates = np.sum(arr, axis=0) / np.sum(arr, axis=0)[0]\n",
        "print(f\"death rate of player2: {(np.sum(arr, axis=0) / arr.shape[0])[-1] * -1:.3f}\")\n",
        "print(f\"ratio of death rate of player2 with respect to player1: {death_rates[-1]:.3f}\")\n",
        "plt.plot(arr.cumsum(axis=0))\n",
        "plt.legend((\"player1\", \"player2\"))\n",
        "plt.show()"
      ],
      "metadata": {
        "id": "RL0wZWyMh7l9",
        "outputId": "f60851c0-b4cb-413b-eab4-1f278f1c08d1",
        "colab": {
          "base_uri": "https://localhost:8080/",
          "height": 522
        },
        "cellView": "form"
      },
      "execution_count": 16,
      "outputs": [
        {
          "output_type": "stream",
          "name": "stderr",
          "text": [
            "/usr/local/lib/python3.10/dist-packages/ipykernel/ipkernel.py:283: DeprecationWarning: `should_run_async` will not call `transform_cell` automatically in the future. Please pass the result to `transformed_cell` argument and any exception that happen during thetransform in `preprocessing_exc_tuple` in IPython 7.17 and above.\n",
            "  and should_run_async(code)\n"
          ]
        },
        {
          "output_type": "stream",
          "name": "stdout",
          "text": [
            "death rate of player2: 0.354\n",
            "ratio of death rate of player2 with respect to player1: 0.561\n"
          ]
        },
        {
          "output_type": "display_data",
          "data": {
            "text/plain": [
              "<Figure size 640x480 with 1 Axes>"
            ],
            "image/png": "[encoded data removed]"
          },
          "metadata": {}
        }
      ]
    },
    {
      "cell_type": "code",
      "source": [
        "#@title Case - Always play vs optimal\n",
        "episodes = 1000\n",
        "\n",
        "episode_rews = []\n",
        "\n",
        "for _ in range(episodes):\n",
        "\n",
        "    obs = env.reset()\n",
        "    while env.agents:\n",
        "        acts = {\n",
        "            \"player1\": 1,\n",
        "            \"player2\": optimal(obs)\n",
        "        }\n",
        "\n",
        "        obs, rews, terms, truncs, infos = env.step(acts)\n",
        "        # print(obs, rews)\n",
        "\n",
        "    episode_rews.append([rews['player1'], rews['player2']])\n",
        "\n",
        "arr = np.array(episode_rews)\n",
        "death_rates = np.sum(arr, axis=0) / np.sum(arr, axis=0)[0]\n",
        "print(f\"death rate of player2: {(np.sum(arr, axis=0) / arr.shape[0])[-1] * -1:.3f}\")\n",
        "print(f\"ratio of death rate of player2 with respect to player1: {death_rates[-1]:.3f}\")\n",
        "plt.plot(arr.cumsum(axis=0))\n",
        "plt.legend((\"player1\", \"player2\"))\n",
        "plt.show()"
      ],
      "metadata": {
        "id": "mUTFipKjh8O-",
        "outputId": "598e3261-c46d-47ff-c7b0-45d44b8350c7",
        "colab": {
          "base_uri": "https://localhost:8080/",
          "height": 522
        },
        "cellView": "form"
      },
      "execution_count": 17,
      "outputs": [
        {
          "output_type": "stream",
          "name": "stderr",
          "text": [
            "/usr/local/lib/python3.10/dist-packages/ipykernel/ipkernel.py:283: DeprecationWarning: `should_run_async` will not call `transform_cell` automatically in the future. Please pass the result to `transformed_cell` argument and any exception that happen during thetransform in `preprocessing_exc_tuple` in IPython 7.17 and above.\n",
            "  and should_run_async(code)\n"
          ]
        },
        {
          "output_type": "stream",
          "name": "stdout",
          "text": [
            "death rate of player2: 0.183\n",
            "ratio of death rate of player2 with respect to player1: 0.381\n"
          ]
        },
        {
          "output_type": "display_data",
          "data": {
            "text/plain": [
              "<Figure size 640x480 with 1 Axes>"
            ],
            "image/png": "[encoded data removed]"
          },
          "metadata": {}
        }
      ]
    },
    {
      "cell_type": "markdown",
      "source": [
        "## Deep RL training\n"
      ],
      "metadata": {
        "id": "dvS0OTb5-cW2"
      }
    },
    {
      "cell_type": "code",
      "source": [
        "#@title Define heuristic algos in Tianshou\n",
        "## agent that always plays\n",
        "class AlwaysPlay(BasePolicy):\n",
        "    def __init__(self, **kwargs):\n",
        "        self.nolearn = True\n",
        "        super().__init__(**kwargs)\n",
        "    \n",
        "    def forward(self, batch, state = None):\n",
        "        mask = batch.obs.mask\n",
        "        logits = np.zeros(mask.shape)\n",
        "        logits[:, 1] = 1\n",
        "        logits[~mask] = -np.inf\n",
        "        return Batch(act=logits.argmax(axis=-1))\n",
        "\n",
        "    def learn(self, batch):\n",
        "        return {}\n",
        "\n",
        "## agent that always waits\n",
        "class AlwaysWait(BasePolicy):\n",
        "    def __init__(self, **kwargs):\n",
        "        self.nolearn = True\n",
        "        super().__init__(**kwargs)\n",
        "\n",
        "    def forward(self, batch, state = None):\n",
        "        mask = batch.obs.mask\n",
        "        logits = np.zeros(mask.shape)\n",
        "        logits[:, 0] = 1\n",
        "        logits[~mask] = -np.inf\n",
        "        return Batch(act=logits.argmax(axis=-1))\n",
        "\n",
        "    def learn(self, batch):\n",
        "        return {}\n",
        "\n",
        "## agent that waits for low health to play\n",
        "class HailMary(BasePolicy):\n",
        "    def __init__(self, **kwargs):\n",
        "        self.nolearn = True\n",
        "        super().__init__(**kwargs)\n",
        "\n",
        "    def forward(self, batch, state = None):\n",
        "        mask = batch.obs.mask\n",
        "        logits = np.zeros(mask.shape)\n",
        "        obs = batch.obs.obs\n",
        "\n",
        "        for i in range(mask.shape[0]):\n",
        "            if obs[i, :, 1] <= 1:\n",
        "                logits[i, 1] = 1\n",
        "            else:\n",
        "                logits[i, 0] = 1\n",
        "        logits[~mask] = -np.inf\n",
        "        return Batch(act=logits.argmax(axis=-1))\n",
        "\n",
        "    def learn(self, batch):\n",
        "        return {}\n",
        "\n",
        "## optimal agent \n",
        "class OptimalPolicy(BasePolicy):\n",
        "    def __init__(self, **kwargs):\n",
        "        self.nolearn = True\n",
        "        super().__init__(**kwargs)\n",
        "\n",
        "    def forward(self, batch, state = None):\n",
        "        mask = batch.obs.mask\n",
        "        logits = np.zeros(mask.shape)\n",
        "        obs = batch.obs.obs\n",
        "\n",
        "        df = pd.read_csv(\"models/optimal_policy.csv\")\n",
        "\n",
        "        for i in range(mask.shape[0]):\n",
        "            action = df.loc[\n",
        "                (df[\"days_left\"] == obs[i, :, 0][0]) &\n",
        "                (df[\"player1_life_points\"] == obs[i, :, 1][0]) &\n",
        "                (df[\"player2_life_points\"] == obs[i, :, 2][0]) &\n",
        "                (df[\"player1_prob_payoff\"] == obs[i, :, 3][0])\n",
        "            ][\"action\"].values[0] - 1\n",
        "            if action:\n",
        "                logits[i, 1] = 1\n",
        "            else:\n",
        "                logits[i, 0] = 1\n",
        "        logits[~mask] = -np.inf\n",
        "        return Batch(act=logits.argmax(axis=-1))\n",
        "\n",
        "    def learn(self, batch):\n",
        "        return {}\n",
        "\n",
        "## random agent\n",
        "class RandomAgent(BasePolicy):\n",
        "    def __init__(self, **kwargs):\n",
        "        self.nolearn = True\n",
        "        super().__init__(**kwargs)\n",
        "\n",
        "    def forward(self, batch, state = None):\n",
        "        mask = batch.obs.mask\n",
        "        logits = np.zeros(mask.shape)\n",
        "        logits[:, np.random.choice([0, 1])] = 1\n",
        "        logits[~mask] = -np.inf\n",
        "        return Batch(act=logits.argmax(axis=-1))\n",
        "\n",
        "    def learn(self, batch):\n",
        "        return {}"
      ],
      "metadata": {
        "id": "n5nzTky1bTJk",
        "cellView": "form"
      },
      "execution_count": 19,
      "outputs": []
    },
    {
      "cell_type": "code",
      "source": [
        "#@title Prerequisites for training\n",
        "# Step 2: Wrap the environment for Tianshou interfacing\n",
        "def _get_env():\n",
        "    env = HomMul()\n",
        "    vec_env = parallel_to_aec(env)\n",
        "    return PettingZooEnv(vec_env)\n",
        "\n",
        "# seed\n",
        "seed = 42\n",
        "np.random.seed(seed)\n",
        "torch.manual_seed(seed)\n",
        "\n",
        "env = HomMul()\n",
        "agents =  env.agents[:]\n",
        "\n",
        "# Step 3: Define policies for each agent\n",
        "## learning agent\n",
        "def _get_agent(pretrained=False):\n",
        "    vec_env = _get_env()\n",
        "    net = Net(\n",
        "        state_shape=vec_env.observation_space.shape,\n",
        "        action_shape=vec_env.action_space.n,\n",
        "        hidden_sizes=[128, 128],\n",
        "        device=\"cuda\",\n",
        "    ).to(\"cuda\")\n",
        "    optim = Adam(net.parameters(), lr=1e-4)\n",
        "    model = DQNPolicy(\n",
        "        model=net,\n",
        "        optim=optim,\n",
        "        discount_factor=0.9,\n",
        "        estimation_step=3,\n",
        "        target_update_freq=50,\n",
        "    )\n",
        "\n",
        "    # if pretrained:\n",
        "    #     model_save_path = os.path.join(\"models\", \"vs_hail_mary.pth\")\n",
        "    #     model.load_state_dict(torch.load(model_save_path))\n",
        "    return model\n",
        "\n",
        "agent_learn1 = _get_agent(pretrained=True)\n",
        "agent_learn2 = _get_agent(pretrained=True)\n",
        "\n",
        "policy = MultiAgentPolicyManager([agent_learn1, agent_learn2],  _get_env())\n",
        "\n",
        "train_envs = DummyVectorEnv([_get_env for _ in range(5)])\n",
        "test_envs = DummyVectorEnv([_get_env for _ in range(2)])\n",
        "train_envs.seed(seed)\n",
        "test_envs.seed(seed)\n",
        "\n",
        "# Step 4: Collector setup\n",
        "train_collector = Collector(\n",
        "    policy,\n",
        "    train_envs,\n",
        "    VectorReplayBuffer(20_000, len(train_envs)),\n",
        "    exploration_noise=True,\n",
        ")\n",
        "test_collector = Collector(policy, test_envs, exploration_noise=True)\n",
        "\n",
        "train_collector.collect(n_step=50)\n",
        "\n",
        "def save_best_fn(policy):\n",
        "    model_save_path1 = os.path.join(\"log\", \"hommul\", \"dqn\", \"policy1.pth\")\n",
        "    model_save_path2 = os.path.join(\"log\", \"hommul\", \"dqn\", \"policy2.pth\")\n",
        "    os.makedirs(os.path.join(\"log\", \"hommul\", \"dqn\"), exist_ok=True)\n",
        "    if not hasattr(policy.policies[agents[0]], 'nolearn'):\n",
        "        torch.save(policy.policies[agents[0]].state_dict(), model_save_path1)\n",
        "    if not hasattr(policy.policies[agents[1]], 'nolearn'):\n",
        "        torch.save(policy.policies[agents[1]].state_dict(), model_save_path2)\n",
        "\n",
        "def stop_fn(mean_rewards):\n",
        "    return mean_rewards >= 10\n",
        "\n",
        "def train_fn(epoch, env_step):\n",
        "    # freeze training for player1\n",
        "    if not hasattr(policy.policies[agents[0]], 'nolearn'):\n",
        "        policy.policies[agents[0]].set_eps(0.05)\n",
        "\n",
        "    if not hasattr(policy.policies[agents[1]], 'nolearn'):\n",
        "        policy.policies[agents[1]].set_eps(0.1)\n",
        "\n",
        "def test_fn(epoch, env_step):\n",
        "    if not hasattr(policy.policies[agents[0]], 'nolearn'):\n",
        "        policy.policies[agents[0]].set_eps(0.05)\n",
        "\n",
        "    if not hasattr(policy.policies[agents[1]], 'nolearn'):\n",
        "        policy.policies[agents[1]].set_eps(0.05)\n",
        "\n",
        "def reward_metric(rews):\n",
        "    return rews[:, 1]"
      ],
      "metadata": {
        "id": "Z-AOFEZAcNGV",
        "cellView": "form"
      },
      "execution_count": 20,
      "outputs": []
    },
    {
      "cell_type": "code",
      "source": [
        "#@title Clear logs and setup TensorBoard\n",
        "!rm -rf /content/HomMul/log\n",
        "\n",
        "log_path = os.path.join(\"log\", \"hommul\", \"dqn\")\n",
        "writer = SummaryWriter(log_path)\n",
        "logger = TensorboardLogger(writer)"
      ],
      "metadata": {
        "id": "t_dRm6ZTdV2v",
        "cellView": "form",
        "outputId": "4f7c2816-3096-442a-cf7e-c9c2600f9fce",
        "colab": {
          "base_uri": "https://localhost:8080/"
        }
      },
      "execution_count": 21,
      "outputs": [
        {
          "output_type": "stream",
          "name": "stderr",
          "text": [
            "/usr/local/lib/python3.10/dist-packages/ipykernel/ipkernel.py:283: DeprecationWarning: `should_run_async` will not call `transform_cell` automatically in the future. Please pass the result to `transformed_cell` argument and any exception that happen during thetransform in `preprocessing_exc_tuple` in IPython 7.17 and above.\n",
            "  and should_run_async(code)\n"
          ]
        }
      ]
    },
    {
      "cell_type": "code",
      "source": [
        "#@title Training\n",
        "# Step 5: Run trainer\n",
        "result = offpolicy_trainer(\n",
        "    policy=policy,\n",
        "    train_collector=train_collector,\n",
        "    test_collector=test_collector,\n",
        "    max_epoch=100,\n",
        "    step_per_epoch=1000,\n",
        "    step_per_collect=50,\n",
        "    episode_per_test=100,\n",
        "    batch_size=64,\n",
        "    train_fn=train_fn,\n",
        "    test_fn=test_fn,\n",
        "    stop_fn=stop_fn,\n",
        "    save_best_fn=save_best_fn,\n",
        "    update_per_step=0.1,\n",
        "    test_in_train=False,\n",
        "    reward_metric=reward_metric,\n",
        "    logger=logger\n",
        ")\n",
        "result"
      ],
      "metadata": {
        "colab": {
          "base_uri": "https://localhost:8080/"
        },
        "id": "69UICm9_dwdD",
        "outputId": "b05f9d66-ed6c-4c40-f9ad-3fb8fb1bb917",
        "cellView": "form"
      },
      "execution_count": 22,
      "outputs": [
        {
          "output_type": "stream",
          "name": "stderr",
          "text": [
            "Epoch #1: 1001it [00:02, 365.07it/s, env_step=1000, len=2, n/ep=16, n/st=50, player1/loss=0.227, player2/loss=0.354, rew=-0.31]                          \n"
          ]
        },
        {
          "output_type": "stream",
          "name": "stdout",
          "text": [
            "Epoch #1: test_reward: -0.340000 ± 0.473709, best_reward: -0.340000 ± 0.473709 in #1\n"
          ]
        },
        {
          "output_type": "stream",
          "name": "stderr",
          "text": [
            "Epoch #2: 1001it [00:01, 744.54it/s, env_step=2000, len=3, n/ep=16, n/st=50, player1/loss=0.183, player2/loss=0.217, rew=-0.25]                          \n"
          ]
        },
        {
          "output_type": "stream",
          "name": "stdout",
          "text": [
            "Epoch #2: test_reward: -0.220000 ± 0.414246, best_reward: -0.220000 ± 0.414246 in #2\n"
          ]
        },
        {
          "output_type": "stream",
          "name": "stderr",
          "text": [
            "Epoch #3: 1001it [00:01, 754.65it/s, env_step=3000, len=2, n/ep=17, n/st=50, player1/loss=0.169, player2/loss=0.182, rew=-0.29]                          \n"
          ]
        },
        {
          "output_type": "stream",
          "name": "stdout",
          "text": [
            "Epoch #3: test_reward: -0.220000 ± 0.414246, best_reward: -0.220000 ± 0.414246 in #2\n"
          ]
        },
        {
          "output_type": "stream",
          "name": "stderr",
          "text": [
            "Epoch #4: 1001it [00:01, 729.20it/s, env_step=4000, len=3, n/ep=17, n/st=50, player1/loss=0.165, player2/loss=0.203, rew=-0.29]                          \n"
          ]
        },
        {
          "output_type": "stream",
          "name": "stdout",
          "text": [
            "Epoch #4: test_reward: -0.390000 ± 0.487750, best_reward: -0.220000 ± 0.414246 in #2\n"
          ]
        },
        {
          "output_type": "stream",
          "name": "stderr",
          "text": [
            "Epoch #5: 1001it [00:01, 576.29it/s, env_step=5000, len=2, n/ep=18, n/st=50, player1/loss=0.191, player2/loss=0.252, rew=-0.06]                          \n"
          ]
        },
        {
          "output_type": "stream",
          "name": "stdout",
          "text": [
            "Epoch #5: test_reward: -0.300000 ± 0.458258, best_reward: -0.220000 ± 0.414246 in #2\n"
          ]
        },
        {
          "output_type": "stream",
          "name": "stderr",
          "text": [
            "Epoch #6: 1001it [00:01, 694.82it/s, env_step=6000, len=2, n/ep=19, n/st=50, player1/loss=0.192, player2/loss=0.284, rew=-0.37]                          \n"
          ]
        },
        {
          "output_type": "stream",
          "name": "stdout",
          "text": [
            "Epoch #6: test_reward: -0.290000 ± 0.453762, best_reward: -0.220000 ± 0.414246 in #2\n"
          ]
        },
        {
          "output_type": "stream",
          "name": "stderr",
          "text": [
            "Epoch #7: 1001it [00:01, 777.25it/s, env_step=7000, len=2, n/ep=19, n/st=50, player1/loss=0.234, player2/loss=0.328, rew=-0.26]                          \n"
          ]
        },
        {
          "output_type": "stream",
          "name": "stdout",
          "text": [
            "Epoch #7: test_reward: -0.280000 ± 0.448999, best_reward: -0.220000 ± 0.414246 in #2\n"
          ]
        },
        {
          "output_type": "stream",
          "name": "stderr",
          "text": [
            "Epoch #8: 1001it [00:01, 760.12it/s, env_step=8000, len=3, n/ep=13, n/st=50, player1/loss=0.267, player2/loss=0.362, rew=-0.08]                          \n"
          ]
        },
        {
          "output_type": "stream",
          "name": "stdout",
          "text": [
            "Epoch #8: test_reward: -0.210000 ± 0.407308, best_reward: -0.210000 ± 0.407308 in #8\n"
          ]
        },
        {
          "output_type": "stream",
          "name": "stderr",
          "text": [
            "Epoch #9: 1001it [00:01, 755.98it/s, env_step=9000, len=3, n/ep=15, n/st=50, player1/loss=0.305, player2/loss=0.387, rew=-0.13]                          \n"
          ]
        },
        {
          "output_type": "stream",
          "name": "stdout",
          "text": [
            "Epoch #9: test_reward: -0.260000 ± 0.438634, best_reward: -0.210000 ± 0.407308 in #8\n"
          ]
        },
        {
          "output_type": "stream",
          "name": "stderr",
          "text": [
            "Epoch #10: 1001it [00:01, 753.11it/s, env_step=10000, len=2, n/ep=19, n/st=50, player1/loss=0.310, player2/loss=0.415, rew=-0.26]                          \n"
          ]
        },
        {
          "output_type": "stream",
          "name": "stdout",
          "text": [
            "Epoch #10: test_reward: -0.270000 ± 0.443959, best_reward: -0.210000 ± 0.407308 in #8\n"
          ]
        },
        {
          "output_type": "stream",
          "name": "stderr",
          "text": [
            "Epoch #11: 1001it [00:01, 736.64it/s, env_step=11000, len=2, n/ep=19, n/st=50, player1/loss=0.302, player2/loss=0.449, rew=-0.21]                          \n"
          ]
        },
        {
          "output_type": "stream",
          "name": "stdout",
          "text": [
            "Epoch #11: test_reward: -0.250000 ± 0.433013, best_reward: -0.210000 ± 0.407308 in #8\n"
          ]
        },
        {
          "output_type": "stream",
          "name": "stderr",
          "text": [
            "Epoch #12: 1001it [00:01, 625.57it/s, env_step=12000, len=2, n/ep=18, n/st=50, player1/loss=0.293, player2/loss=0.476, rew=-0.44]                          \n"
          ]
        },
        {
          "output_type": "stream",
          "name": "stdout",
          "text": [
            "Epoch #12: test_reward: -0.320000 ± 0.466476, best_reward: -0.210000 ± 0.407308 in #8\n"
          ]
        },
        {
          "output_type": "stream",
          "name": "stderr",
          "text": [
            "Epoch #13: 1001it [00:01, 547.04it/s, env_step=13000, len=3, n/ep=16, n/st=50, player1/loss=0.264, player2/loss=0.496, rew=-0.31]                          \n"
          ]
        },
        {
          "output_type": "stream",
          "name": "stdout",
          "text": [
            "Epoch #13: test_reward: -0.280000 ± 0.448999, best_reward: -0.210000 ± 0.407308 in #8\n"
          ]
        },
        {
          "output_type": "stream",
          "name": "stderr",
          "text": [
            "Epoch #14: 1001it [00:01, 746.28it/s, env_step=14000, len=3, n/ep=17, n/st=50, player1/loss=0.261, player2/loss=0.554, rew=-0.24]                          \n"
          ]
        },
        {
          "output_type": "stream",
          "name": "stdout",
          "text": [
            "Epoch #14: test_reward: -0.340000 ± 0.473709, best_reward: -0.210000 ± 0.407308 in #8\n"
          ]
        },
        {
          "output_type": "stream",
          "name": "stderr",
          "text": [
            "Epoch #15: 1001it [00:01, 756.56it/s, env_step=15000, len=2, n/ep=17, n/st=50, player1/loss=0.263, player2/loss=0.653, rew=-0.24]                          \n"
          ]
        },
        {
          "output_type": "stream",
          "name": "stdout",
          "text": [
            "Epoch #15: test_reward: -0.220000 ± 0.414246, best_reward: -0.210000 ± 0.407308 in #8\n"
          ]
        },
        {
          "output_type": "stream",
          "name": "stderr",
          "text": [
            "Epoch #16: 1001it [00:01, 765.67it/s, env_step=16000, len=2, n/ep=18, n/st=50, player1/loss=0.273, player2/loss=0.698, rew=-0.28]                          \n"
          ]
        },
        {
          "output_type": "stream",
          "name": "stdout",
          "text": [
            "Epoch #16: test_reward: -0.270000 ± 0.443959, best_reward: -0.210000 ± 0.407308 in #8\n"
          ]
        },
        {
          "output_type": "stream",
          "name": "stderr",
          "text": [
            "Epoch #17: 1001it [00:01, 755.40it/s, env_step=17000, len=3, n/ep=16, n/st=50, player1/loss=0.244, player2/loss=0.764, rew=-0.19]                          \n"
          ]
        },
        {
          "output_type": "stream",
          "name": "stdout",
          "text": [
            "Epoch #17: test_reward: -0.250000 ± 0.433013, best_reward: -0.210000 ± 0.407308 in #8\n"
          ]
        },
        {
          "output_type": "stream",
          "name": "stderr",
          "text": [
            "Epoch #18: 1001it [00:01, 753.67it/s, env_step=18000, len=3, n/ep=17, n/st=50, player1/loss=0.275, player2/loss=0.784, rew=-0.35]                          \n"
          ]
        },
        {
          "output_type": "stream",
          "name": "stdout",
          "text": [
            "Epoch #18: test_reward: -0.330000 ± 0.470213, best_reward: -0.210000 ± 0.407308 in #8\n"
          ]
        },
        {
          "output_type": "stream",
          "name": "stderr",
          "text": [
            "Epoch #19: 1001it [00:01, 774.04it/s, env_step=19000, len=2, n/ep=17, n/st=50, player1/loss=0.269, player2/loss=0.834, rew=-0.24]                          \n"
          ]
        },
        {
          "output_type": "stream",
          "name": "stdout",
          "text": [
            "Epoch #19: test_reward: -0.250000 ± 0.433013, best_reward: -0.210000 ± 0.407308 in #8\n"
          ]
        },
        {
          "output_type": "stream",
          "name": "stderr",
          "text": [
            "Epoch #20: 1001it [00:01, 598.14it/s, env_step=20000, len=2, n/ep=17, n/st=50, player1/loss=0.258, player2/loss=0.849, rew=-0.24]                          \n"
          ]
        },
        {
          "output_type": "stream",
          "name": "stdout",
          "text": [
            "Epoch #20: test_reward: -0.200000 ± 0.400000, best_reward: -0.200000 ± 0.400000 in #20\n"
          ]
        },
        {
          "output_type": "stream",
          "name": "stderr",
          "text": [
            "Epoch #21: 1001it [00:01, 610.05it/s, env_step=21000, len=2, n/ep=20, n/st=50, player1/loss=0.247, player2/loss=0.824, rew=-0.35]                          \n"
          ]
        },
        {
          "output_type": "stream",
          "name": "stdout",
          "text": [
            "Epoch #21: test_reward: -0.280000 ± 0.448999, best_reward: -0.200000 ± 0.400000 in #20\n"
          ]
        },
        {
          "output_type": "stream",
          "name": "stderr",
          "text": [
            "Epoch #22: 1001it [00:01, 773.86it/s, env_step=22000, len=2, n/ep=18, n/st=50, player1/loss=0.234, player2/loss=0.898, rew=-0.28]                          \n"
          ]
        },
        {
          "output_type": "stream",
          "name": "stdout",
          "text": [
            "Epoch #22: test_reward: -0.340000 ± 0.473709, best_reward: -0.200000 ± 0.400000 in #20\n"
          ]
        },
        {
          "output_type": "stream",
          "name": "stderr",
          "text": [
            "Epoch #23: 1001it [00:01, 770.03it/s, env_step=23000, len=2, n/ep=18, n/st=50, player1/loss=0.250, player2/loss=0.943, rew=-0.11]                          \n"
          ]
        },
        {
          "output_type": "stream",
          "name": "stdout",
          "text": [
            "Epoch #23: test_reward: -0.240000 ± 0.427083, best_reward: -0.200000 ± 0.400000 in #20\n"
          ]
        },
        {
          "output_type": "stream",
          "name": "stderr",
          "text": [
            "Epoch #24: 1001it [00:01, 784.19it/s, env_step=24000, len=3, n/ep=16, n/st=50, player1/loss=0.236, player2/loss=0.985, rew=-0.25]                          \n"
          ]
        },
        {
          "output_type": "stream",
          "name": "stdout",
          "text": [
            "Epoch #24: test_reward: -0.220000 ± 0.414246, best_reward: -0.200000 ± 0.400000 in #20\n"
          ]
        },
        {
          "output_type": "stream",
          "name": "stderr",
          "text": [
            "Epoch #25: 1001it [00:01, 790.66it/s, env_step=25000, len=3, n/ep=15, n/st=50, player1/loss=0.216, player2/loss=0.996, rew=-0.20]                          \n"
          ]
        },
        {
          "output_type": "stream",
          "name": "stdout",
          "text": [
            "Epoch #25: test_reward: -0.190000 ± 0.392301, best_reward: -0.190000 ± 0.392301 in #25\n"
          ]
        },
        {
          "output_type": "stream",
          "name": "stderr",
          "text": [
            "Epoch #26: 1001it [00:01, 769.78it/s, env_step=26000, len=2, n/ep=15, n/st=50, player1/loss=0.223, player2/loss=1.020, rew=-0.27]                          \n"
          ]
        },
        {
          "output_type": "stream",
          "name": "stdout",
          "text": [
            "Epoch #26: test_reward: -0.190000 ± 0.392301, best_reward: -0.190000 ± 0.392301 in #25\n"
          ]
        },
        {
          "output_type": "stream",
          "name": "stderr",
          "text": [
            "Epoch #27: 1001it [00:01, 780.08it/s, env_step=27000, len=2, n/ep=17, n/st=50, player1/loss=0.227, player2/loss=0.927, rew=-0.06]                          \n"
          ]
        },
        {
          "output_type": "stream",
          "name": "stdout",
          "text": [
            "Epoch #27: test_reward: -0.210000 ± 0.407308, best_reward: -0.190000 ± 0.392301 in #25\n"
          ]
        },
        {
          "output_type": "stream",
          "name": "stderr",
          "text": [
            "Epoch #28: 1001it [00:01, 611.08it/s, env_step=28000, len=2, n/ep=17, n/st=50, player1/loss=0.211, player2/loss=1.023, rew=-0.18]                          \n"
          ]
        },
        {
          "output_type": "stream",
          "name": "stdout",
          "text": [
            "Epoch #28: test_reward: -0.300000 ± 0.458258, best_reward: -0.190000 ± 0.392301 in #25\n"
          ]
        },
        {
          "output_type": "stream",
          "name": "stderr",
          "text": [
            "Epoch #29: 1001it [00:01, 636.31it/s, env_step=29000, len=2, n/ep=18, n/st=50, player1/loss=0.226, player2/loss=1.037, rew=-0.17]                          \n"
          ]
        },
        {
          "output_type": "stream",
          "name": "stdout",
          "text": [
            "Epoch #29: test_reward: -0.270000 ± 0.443959, best_reward: -0.190000 ± 0.392301 in #25\n"
          ]
        },
        {
          "output_type": "stream",
          "name": "stderr",
          "text": [
            "Epoch #30: 1001it [00:01, 776.77it/s, env_step=30000, len=2, n/ep=20, n/st=50, player1/loss=0.223, player2/loss=1.016, rew=-0.35]                          \n"
          ]
        },
        {
          "output_type": "stream",
          "name": "stdout",
          "text": [
            "Epoch #30: test_reward: -0.250000 ± 0.433013, best_reward: -0.190000 ± 0.392301 in #25\n"
          ]
        },
        {
          "output_type": "stream",
          "name": "stderr",
          "text": [
            "Epoch #31: 1001it [00:01, 776.18it/s, env_step=31000, len=2, n/ep=17, n/st=50, player1/loss=0.228, player2/loss=1.008, rew=-0.24]                          \n"
          ]
        },
        {
          "output_type": "stream",
          "name": "stdout",
          "text": [
            "Epoch #31: test_reward: -0.240000 ± 0.427083, best_reward: -0.190000 ± 0.392301 in #25\n"
          ]
        },
        {
          "output_type": "stream",
          "name": "stderr",
          "text": [
            "Epoch #32: 1001it [00:01, 772.90it/s, env_step=32000, len=2, n/ep=18, n/st=50, player1/loss=0.230, player2/loss=1.004, rew=-0.44]                          \n"
          ]
        },
        {
          "output_type": "stream",
          "name": "stdout",
          "text": [
            "Epoch #32: test_reward: -0.310000 ± 0.462493, best_reward: -0.190000 ± 0.392301 in #25\n"
          ]
        },
        {
          "output_type": "stream",
          "name": "stderr",
          "text": [
            "Epoch #33: 1001it [00:01, 783.21it/s, env_step=33000, len=2, n/ep=16, n/st=50, player1/loss=0.244, player2/loss=0.965, rew=-0.38]                          \n"
          ]
        },
        {
          "output_type": "stream",
          "name": "stdout",
          "text": [
            "Epoch #33: test_reward: -0.310000 ± 0.462493, best_reward: -0.190000 ± 0.392301 in #25\n"
          ]
        },
        {
          "output_type": "stream",
          "name": "stderr",
          "text": [
            "Epoch #34: 1001it [00:01, 795.79it/s, env_step=34000, len=3, n/ep=16, n/st=50, player1/loss=0.234, player2/loss=0.890, rew=-0.12]                          \n"
          ]
        },
        {
          "output_type": "stream",
          "name": "stdout",
          "text": [
            "Epoch #34: test_reward: -0.250000 ± 0.433013, best_reward: -0.190000 ± 0.392301 in #25\n"
          ]
        },
        {
          "output_type": "stream",
          "name": "stderr",
          "text": [
            "Epoch #35: 1001it [00:01, 775.97it/s, env_step=35000, len=2, n/ep=18, n/st=50, player1/loss=0.245, player2/loss=0.896, rew=-0.28]                          \n"
          ]
        },
        {
          "output_type": "stream",
          "name": "stdout",
          "text": [
            "Epoch #35: test_reward: -0.220000 ± 0.414246, best_reward: -0.190000 ± 0.392301 in #25\n"
          ]
        },
        {
          "output_type": "stream",
          "name": "stderr",
          "text": [
            "Epoch #36: 1001it [00:01, 598.69it/s, env_step=36000, len=3, n/ep=17, n/st=50, player1/loss=0.247, player2/loss=1.029, rew=-0.06]                          \n"
          ]
        },
        {
          "output_type": "stream",
          "name": "stdout",
          "text": [
            "Epoch #36: test_reward: -0.220000 ± 0.414246, best_reward: -0.190000 ± 0.392301 in #25\n"
          ]
        },
        {
          "output_type": "stream",
          "name": "stderr",
          "text": [
            "Epoch #37: 1001it [00:01, 661.11it/s, env_step=37000, len=2, n/ep=20, n/st=50, player1/loss=0.239, player2/loss=1.003, rew=-0.20]                          \n"
          ]
        },
        {
          "output_type": "stream",
          "name": "stdout",
          "text": [
            "Epoch #37: test_reward: -0.260000 ± 0.438634, best_reward: -0.190000 ± 0.392301 in #25\n"
          ]
        },
        {
          "output_type": "stream",
          "name": "stderr",
          "text": [
            "Epoch #38: 1001it [00:01, 745.56it/s, env_step=38000, len=2, n/ep=18, n/st=50, player1/loss=0.231, player2/loss=0.973, rew=-0.28]                          \n"
          ]
        },
        {
          "output_type": "stream",
          "name": "stdout",
          "text": [
            "Epoch #38: test_reward: -0.170000 ± 0.375633, best_reward: -0.170000 ± 0.375633 in #38\n"
          ]
        },
        {
          "output_type": "stream",
          "name": "stderr",
          "text": [
            "Epoch #39: 1001it [00:01, 595.45it/s, env_step=39000, len=3, n/ep=16, n/st=50, player1/loss=0.240, player2/loss=0.943, rew=-0.31]                          \n"
          ]
        },
        {
          "output_type": "stream",
          "name": "stdout",
          "text": [
            "Epoch #39: test_reward: -0.270000 ± 0.443959, best_reward: -0.170000 ± 0.375633 in #38\n"
          ]
        },
        {
          "output_type": "stream",
          "name": "stderr",
          "text": [
            "Epoch #40: 1001it [00:02, 399.62it/s, env_step=40000, len=2, n/ep=18, n/st=50, player1/loss=0.256, player2/loss=1.006, rew=-0.28]                          \n"
          ]
        },
        {
          "output_type": "stream",
          "name": "stdout",
          "text": [
            "Epoch #40: test_reward: -0.220000 ± 0.414246, best_reward: -0.170000 ± 0.375633 in #38\n"
          ]
        },
        {
          "output_type": "stream",
          "name": "stderr",
          "text": [
            "Epoch #41: 1001it [00:01, 606.95it/s, env_step=41000, len=2, n/ep=18, n/st=50, player1/loss=0.271, player2/loss=1.055, rew=-0.33]                          \n"
          ]
        },
        {
          "output_type": "stream",
          "name": "stdout",
          "text": [
            "Epoch #41: test_reward: -0.280000 ± 0.448999, best_reward: -0.170000 ± 0.375633 in #38\n"
          ]
        },
        {
          "output_type": "stream",
          "name": "stderr",
          "text": [
            "Epoch #42: 1001it [00:01, 699.62it/s, env_step=42000, len=2, n/ep=20, n/st=50, player1/loss=0.255, player2/loss=0.970, rew=-0.20]                          \n"
          ]
        },
        {
          "output_type": "stream",
          "name": "stdout",
          "text": [
            "Epoch #42: test_reward: -0.250000 ± 0.433013, best_reward: -0.170000 ± 0.375633 in #38\n"
          ]
        },
        {
          "output_type": "stream",
          "name": "stderr",
          "text": [
            "Epoch #43: 1001it [00:01, 571.39it/s, env_step=43000, len=3, n/ep=17, n/st=50, player1/loss=0.266, player2/loss=1.003, rew=-0.29]                          \n"
          ]
        },
        {
          "output_type": "stream",
          "name": "stdout",
          "text": [
            "Epoch #43: test_reward: -0.190000 ± 0.392301, best_reward: -0.170000 ± 0.375633 in #38\n"
          ]
        },
        {
          "output_type": "stream",
          "name": "stderr",
          "text": [
            "Epoch #44: 1001it [00:01, 794.34it/s, env_step=44000, len=2, n/ep=18, n/st=50, player1/loss=0.261, player2/loss=1.020, rew=-0.39]                          \n"
          ]
        },
        {
          "output_type": "stream",
          "name": "stdout",
          "text": [
            "Epoch #44: test_reward: -0.210000 ± 0.407308, best_reward: -0.170000 ± 0.375633 in #38\n"
          ]
        },
        {
          "output_type": "stream",
          "name": "stderr",
          "text": [
            "Epoch #45: 1001it [00:01, 784.08it/s, env_step=45000, len=3, n/ep=17, n/st=50, player1/loss=0.277, player2/loss=1.065, rew=-0.18]                          \n"
          ]
        },
        {
          "output_type": "stream",
          "name": "stdout",
          "text": [
            "Epoch #45: test_reward: -0.120000 ± 0.324962, best_reward: -0.120000 ± 0.324962 in #45\n"
          ]
        },
        {
          "output_type": "stream",
          "name": "stderr",
          "text": [
            "Epoch #46: 1001it [00:01, 787.49it/s, env_step=46000, len=2, n/ep=16, n/st=50, player1/loss=0.265, player2/loss=1.093, rew=-0.44]                          \n"
          ]
        },
        {
          "output_type": "stream",
          "name": "stdout",
          "text": [
            "Epoch #46: test_reward: -0.250000 ± 0.433013, best_reward: -0.120000 ± 0.324962 in #45\n"
          ]
        },
        {
          "output_type": "stream",
          "name": "stderr",
          "text": [
            "Epoch #47: 1001it [00:01, 766.36it/s, env_step=47000, len=2, n/ep=19, n/st=50, player1/loss=0.295, player2/loss=1.131, rew=-0.26]                          \n"
          ]
        },
        {
          "output_type": "stream",
          "name": "stdout",
          "text": [
            "Epoch #47: test_reward: -0.320000 ± 0.466476, best_reward: -0.120000 ± 0.324962 in #45\n"
          ]
        },
        {
          "output_type": "stream",
          "name": "stderr",
          "text": [
            "Epoch #48: 1001it [00:01, 786.68it/s, env_step=48000, len=2, n/ep=18, n/st=50, player1/loss=0.319, player2/loss=1.062, rew=-0.28]                          \n"
          ]
        },
        {
          "output_type": "stream",
          "name": "stdout",
          "text": [
            "Epoch #48: test_reward: -0.250000 ± 0.433013, best_reward: -0.120000 ± 0.324962 in #45\n"
          ]
        },
        {
          "output_type": "stream",
          "name": "stderr",
          "text": [
            "Epoch #49: 1001it [00:01, 765.30it/s, env_step=49000, len=2, n/ep=20, n/st=50, player1/loss=0.299, player2/loss=1.059, rew=-0.25]                          \n"
          ]
        },
        {
          "output_type": "stream",
          "name": "stdout",
          "text": [
            "Epoch #49: test_reward: -0.260000 ± 0.438634, best_reward: -0.120000 ± 0.324962 in #45\n"
          ]
        },
        {
          "output_type": "stream",
          "name": "stderr",
          "text": [
            "Epoch #50: 1001it [00:01, 678.27it/s, env_step=50000, len=2, n/ep=20, n/st=50, player1/loss=0.278, player2/loss=1.115, rew=-0.40]                          \n"
          ]
        },
        {
          "output_type": "stream",
          "name": "stdout",
          "text": [
            "Epoch #50: test_reward: -0.240000 ± 0.427083, best_reward: -0.120000 ± 0.324962 in #45\n"
          ]
        },
        {
          "output_type": "stream",
          "name": "stderr",
          "text": [
            "Epoch #51: 1001it [00:01, 584.74it/s, env_step=51000, len=2, n/ep=21, n/st=50, player1/loss=0.316, player2/loss=1.028, rew=-0.24]                          \n"
          ]
        },
        {
          "output_type": "stream",
          "name": "stdout",
          "text": [
            "Epoch #51: test_reward: -0.240000 ± 0.427083, best_reward: -0.120000 ± 0.324962 in #45\n"
          ]
        },
        {
          "output_type": "stream",
          "name": "stderr",
          "text": [
            "Epoch #52: 1001it [00:01, 792.91it/s, env_step=52000, len=2, n/ep=17, n/st=50, player1/loss=0.319, player2/loss=1.130, rew=-0.24]                          \n"
          ]
        },
        {
          "output_type": "stream",
          "name": "stdout",
          "text": [
            "Epoch #52: test_reward: -0.170000 ± 0.375633, best_reward: -0.120000 ± 0.324962 in #45\n"
          ]
        },
        {
          "output_type": "stream",
          "name": "stderr",
          "text": [
            "Epoch #53: 1001it [00:01, 772.22it/s, env_step=53000, len=2, n/ep=18, n/st=50, player1/loss=0.292, player2/loss=1.120, rew=-0.22]                          \n"
          ]
        },
        {
          "output_type": "stream",
          "name": "stdout",
          "text": [
            "Epoch #53: test_reward: -0.220000 ± 0.414246, best_reward: -0.120000 ± 0.324962 in #45\n"
          ]
        },
        {
          "output_type": "stream",
          "name": "stderr",
          "text": [
            "Epoch #54: 1001it [00:01, 793.35it/s, env_step=54000, len=3, n/ep=17, n/st=50, player1/loss=0.311, player2/loss=1.142, rew=-0.12]                          \n"
          ]
        },
        {
          "output_type": "stream",
          "name": "stdout",
          "text": [
            "Epoch #54: test_reward: -0.210000 ± 0.407308, best_reward: -0.120000 ± 0.324962 in #45\n"
          ]
        },
        {
          "output_type": "stream",
          "name": "stderr",
          "text": [
            "Epoch #55: 1001it [00:01, 767.44it/s, env_step=55000, len=2, n/ep=18, n/st=50, player1/loss=0.286, player2/loss=1.111, rew=-0.50]                          \n"
          ]
        },
        {
          "output_type": "stream",
          "name": "stdout",
          "text": [
            "Epoch #55: test_reward: -0.220000 ± 0.414246, best_reward: -0.120000 ± 0.324962 in #45\n"
          ]
        },
        {
          "output_type": "stream",
          "name": "stderr",
          "text": [
            "Epoch #56: 1001it [00:01, 749.85it/s, env_step=56000, len=3, n/ep=18, n/st=50, player1/loss=0.315, player2/loss=1.090, rew=-0.11]                          \n"
          ]
        },
        {
          "output_type": "stream",
          "name": "stdout",
          "text": [
            "Epoch #56: test_reward: -0.180000 ± 0.384187, best_reward: -0.120000 ± 0.324962 in #45\n"
          ]
        },
        {
          "output_type": "stream",
          "name": "stderr",
          "text": [
            "Epoch #57: 1001it [00:01, 764.85it/s, env_step=57000, len=2, n/ep=15, n/st=50, player1/loss=0.313, player2/loss=1.053, rew=-0.27]                          \n"
          ]
        },
        {
          "output_type": "stream",
          "name": "stdout",
          "text": [
            "Epoch #57: test_reward: -0.290000 ± 0.453762, best_reward: -0.120000 ± 0.324962 in #45\n"
          ]
        },
        {
          "output_type": "stream",
          "name": "stderr",
          "text": [
            "Epoch #58: 1001it [00:01, 652.94it/s, env_step=58000, len=3, n/ep=17, n/st=50, player1/loss=0.299, player2/loss=1.157, rew=-0.24]                          \n"
          ]
        },
        {
          "output_type": "stream",
          "name": "stdout",
          "text": [
            "Epoch #58: test_reward: -0.280000 ± 0.448999, best_reward: -0.120000 ± 0.324962 in #45\n"
          ]
        },
        {
          "output_type": "stream",
          "name": "stderr",
          "text": [
            "Epoch #59: 1001it [00:01, 590.11it/s, env_step=59000, len=3, n/ep=15, n/st=50, player1/loss=0.306, player2/loss=1.191, rew=-0.20]                          \n"
          ]
        },
        {
          "output_type": "stream",
          "name": "stdout",
          "text": [
            "Epoch #59: test_reward: -0.270000 ± 0.443959, best_reward: -0.120000 ± 0.324962 in #45\n"
          ]
        },
        {
          "output_type": "stream",
          "name": "stderr",
          "text": [
            "Epoch #60: 1001it [00:01, 795.80it/s, env_step=60000, len=2, n/ep=17, n/st=50, player1/loss=0.313, player2/loss=1.078, rew=-0.24]                          \n"
          ]
        },
        {
          "output_type": "stream",
          "name": "stdout",
          "text": [
            "Epoch #60: test_reward: -0.310000 ± 0.462493, best_reward: -0.120000 ± 0.324962 in #45\n"
          ]
        },
        {
          "output_type": "stream",
          "name": "stderr",
          "text": [
            "Epoch #61: 1001it [00:01, 788.96it/s, env_step=61000, len=2, n/ep=18, n/st=50, player1/loss=0.305, player2/loss=1.119, rew=-0.22]                          \n"
          ]
        },
        {
          "output_type": "stream",
          "name": "stdout",
          "text": [
            "Epoch #61: test_reward: -0.300000 ± 0.458258, best_reward: -0.120000 ± 0.324962 in #45\n"
          ]
        },
        {
          "output_type": "stream",
          "name": "stderr",
          "text": [
            "Epoch #62: 1001it [00:01, 790.33it/s, env_step=62000, len=2, n/ep=18, n/st=50, player1/loss=0.325, player2/loss=1.102, rew=-0.39]                          \n"
          ]
        },
        {
          "output_type": "stream",
          "name": "stdout",
          "text": [
            "Epoch #62: test_reward: -0.220000 ± 0.414246, best_reward: -0.120000 ± 0.324962 in #45\n"
          ]
        },
        {
          "output_type": "stream",
          "name": "stderr",
          "text": [
            "Epoch #63: 1001it [00:01, 784.25it/s, env_step=63000, len=2, n/ep=19, n/st=50, player1/loss=0.322, player2/loss=1.041, rew=-0.26]                          \n"
          ]
        },
        {
          "output_type": "stream",
          "name": "stdout",
          "text": [
            "Epoch #63: test_reward: -0.240000 ± 0.427083, best_reward: -0.120000 ± 0.324962 in #45\n"
          ]
        },
        {
          "output_type": "stream",
          "name": "stderr",
          "text": [
            "Epoch #64: 1001it [00:01, 790.72it/s, env_step=64000, len=2, n/ep=18, n/st=50, player1/loss=0.338, player2/loss=1.204, rew=-0.28]                          \n"
          ]
        },
        {
          "output_type": "stream",
          "name": "stdout",
          "text": [
            "Epoch #64: test_reward: -0.280000 ± 0.448999, best_reward: -0.120000 ± 0.324962 in #45\n"
          ]
        },
        {
          "output_type": "stream",
          "name": "stderr",
          "text": [
            "Epoch #65: 1001it [00:01, 780.82it/s, env_step=65000, len=2, n/ep=19, n/st=50, player1/loss=0.306, player2/loss=1.119, rew=-0.16]                          \n"
          ]
        },
        {
          "output_type": "stream",
          "name": "stdout",
          "text": [
            "Epoch #65: test_reward: -0.260000 ± 0.438634, best_reward: -0.120000 ± 0.324962 in #45\n"
          ]
        },
        {
          "output_type": "stream",
          "name": "stderr",
          "text": [
            "Epoch #66: 1001it [00:01, 658.56it/s, env_step=66000, len=3, n/ep=17, n/st=50, player1/loss=0.321, player2/loss=1.256, rew=-0.41]                          \n"
          ]
        },
        {
          "output_type": "stream",
          "name": "stdout",
          "text": [
            "Epoch #66: test_reward: -0.220000 ± 0.414246, best_reward: -0.120000 ± 0.324962 in #45\n"
          ]
        },
        {
          "output_type": "stream",
          "name": "stderr",
          "text": [
            "Epoch #67: 1001it [00:01, 601.56it/s, env_step=67000, len=2, n/ep=19, n/st=50, player1/loss=0.326, player2/loss=1.079, rew=-0.26]                          \n"
          ]
        },
        {
          "output_type": "stream",
          "name": "stdout",
          "text": [
            "Epoch #67: test_reward: -0.230000 ± 0.420833, best_reward: -0.120000 ± 0.324962 in #45\n"
          ]
        },
        {
          "output_type": "stream",
          "name": "stderr",
          "text": [
            "Epoch #68: 1001it [00:01, 780.97it/s, env_step=68000, len=2, n/ep=18, n/st=50, player1/loss=0.340, player2/loss=1.166, rew=-0.33]                          \n"
          ]
        },
        {
          "output_type": "stream",
          "name": "stdout",
          "text": [
            "Epoch #68: test_reward: -0.170000 ± 0.375633, best_reward: -0.120000 ± 0.324962 in #45\n"
          ]
        },
        {
          "output_type": "stream",
          "name": "stderr",
          "text": [
            "Epoch #69: 1001it [00:01, 783.85it/s, env_step=69000, len=2, n/ep=16, n/st=50, player1/loss=0.335, player2/loss=1.156, rew=-0.06]                          \n"
          ]
        },
        {
          "output_type": "stream",
          "name": "stdout",
          "text": [
            "Epoch #69: test_reward: -0.300000 ± 0.458258, best_reward: -0.120000 ± 0.324962 in #45\n"
          ]
        },
        {
          "output_type": "stream",
          "name": "stderr",
          "text": [
            "Epoch #70: 1001it [00:01, 781.76it/s, env_step=70000, len=2, n/ep=17, n/st=50, player1/loss=0.311, player2/loss=1.138, rew=-0.24]                          \n"
          ]
        },
        {
          "output_type": "stream",
          "name": "stdout",
          "text": [
            "Epoch #70: test_reward: -0.210000 ± 0.407308, best_reward: -0.120000 ± 0.324962 in #45\n"
          ]
        },
        {
          "output_type": "stream",
          "name": "stderr",
          "text": [
            "Epoch #71: 1001it [00:01, 789.25it/s, env_step=71000, len=2, n/ep=19, n/st=50, player1/loss=0.350, player2/loss=1.140, rew=-0.16]                          \n"
          ]
        },
        {
          "output_type": "stream",
          "name": "stdout",
          "text": [
            "Epoch #71: test_reward: -0.250000 ± 0.433013, best_reward: -0.120000 ± 0.324962 in #45\n"
          ]
        },
        {
          "output_type": "stream",
          "name": "stderr",
          "text": [
            "Epoch #72: 1001it [00:01, 788.09it/s, env_step=72000, len=3, n/ep=17, n/st=50, player1/loss=0.314, player2/loss=1.112, rew=-0.24]                          \n"
          ]
        },
        {
          "output_type": "stream",
          "name": "stdout",
          "text": [
            "Epoch #72: test_reward: -0.210000 ± 0.407308, best_reward: -0.120000 ± 0.324962 in #45\n"
          ]
        },
        {
          "output_type": "stream",
          "name": "stderr",
          "text": [
            "Epoch #73: 1001it [00:01, 798.30it/s, env_step=73000, len=2, n/ep=17, n/st=50, player1/loss=0.328, player2/loss=1.192, rew=-0.18]                          \n"
          ]
        },
        {
          "output_type": "stream",
          "name": "stdout",
          "text": [
            "Epoch #73: test_reward: -0.260000 ± 0.438634, best_reward: -0.120000 ± 0.324962 in #45\n"
          ]
        },
        {
          "output_type": "stream",
          "name": "stderr",
          "text": [
            "Epoch #74: 1001it [00:01, 645.55it/s, env_step=74000, len=2, n/ep=17, n/st=50, player1/loss=0.354, player2/loss=1.174, rew=-0.47]                          \n"
          ]
        },
        {
          "output_type": "stream",
          "name": "stdout",
          "text": [
            "Epoch #74: test_reward: -0.350000 ± 0.476970, best_reward: -0.120000 ± 0.324962 in #45\n"
          ]
        },
        {
          "output_type": "stream",
          "name": "stderr",
          "text": [
            "Epoch #75: 1001it [00:01, 583.08it/s, env_step=75000, len=3, n/ep=14, n/st=50, player1/loss=0.333, player2/loss=1.219, rew=-0.14]                          \n"
          ]
        },
        {
          "output_type": "stream",
          "name": "stdout",
          "text": [
            "Epoch #75: test_reward: -0.250000 ± 0.433013, best_reward: -0.120000 ± 0.324962 in #45\n"
          ]
        },
        {
          "output_type": "stream",
          "name": "stderr",
          "text": [
            "Epoch #76: 1001it [00:01, 776.21it/s, env_step=76000, len=2, n/ep=20, n/st=50, player1/loss=0.332, player2/loss=1.155, rew=-0.15]                          \n"
          ]
        },
        {
          "output_type": "stream",
          "name": "stdout",
          "text": [
            "Epoch #76: test_reward: -0.270000 ± 0.443959, best_reward: -0.120000 ± 0.324962 in #45\n"
          ]
        },
        {
          "output_type": "stream",
          "name": "stderr",
          "text": [
            "Epoch #77: 1001it [00:01, 787.44it/s, env_step=77000, len=2, n/ep=17, n/st=50, player1/loss=0.328, player2/loss=1.228, rew=-0.06]                          \n"
          ]
        },
        {
          "output_type": "stream",
          "name": "stdout",
          "text": [
            "Epoch #77: test_reward: -0.290000 ± 0.453762, best_reward: -0.120000 ± 0.324962 in #45\n"
          ]
        },
        {
          "output_type": "stream",
          "name": "stderr",
          "text": [
            "Epoch #78: 1001it [00:01, 771.90it/s, env_step=78000, len=2, n/ep=17, n/st=50, player1/loss=0.358, player2/loss=1.266, rew=-0.12]                          \n"
          ]
        },
        {
          "output_type": "stream",
          "name": "stdout",
          "text": [
            "Epoch #78: test_reward: -0.280000 ± 0.448999, best_reward: -0.120000 ± 0.324962 in #45\n"
          ]
        },
        {
          "output_type": "stream",
          "name": "stderr",
          "text": [
            "Epoch #79: 1001it [00:01, 779.55it/s, env_step=79000, len=3, n/ep=16, n/st=50, player1/loss=0.342, player2/loss=1.262, rew=-0.31]                          \n"
          ]
        },
        {
          "output_type": "stream",
          "name": "stdout",
          "text": [
            "Epoch #79: test_reward: -0.200000 ± 0.400000, best_reward: -0.120000 ± 0.324962 in #45\n"
          ]
        },
        {
          "output_type": "stream",
          "name": "stderr",
          "text": [
            "Epoch #80: 1001it [00:01, 787.32it/s, env_step=80000, len=3, n/ep=16, n/st=50, player1/loss=0.374, player2/loss=1.183, rew=-0.25]                          \n"
          ]
        },
        {
          "output_type": "stream",
          "name": "stdout",
          "text": [
            "Epoch #80: test_reward: -0.210000 ± 0.407308, best_reward: -0.120000 ± 0.324962 in #45\n"
          ]
        },
        {
          "output_type": "stream",
          "name": "stderr",
          "text": [
            "Epoch #81: 1001it [00:01, 590.84it/s, env_step=81000, len=3, n/ep=16, n/st=50, player1/loss=0.379, player2/loss=1.246, rew=-0.25]                          \n"
          ]
        },
        {
          "output_type": "stream",
          "name": "stdout",
          "text": [
            "Epoch #81: test_reward: -0.230000 ± 0.420833, best_reward: -0.120000 ± 0.324962 in #45\n"
          ]
        },
        {
          "output_type": "stream",
          "name": "stderr",
          "text": [
            "Epoch #82: 1001it [00:03, 269.36it/s, env_step=82000, len=3, n/ep=16, n/st=50, player1/loss=0.396, player2/loss=1.384, rew=-0.31]                          \n"
          ]
        },
        {
          "output_type": "stream",
          "name": "stdout",
          "text": [
            "Epoch #82: test_reward: -0.170000 ± 0.375633, best_reward: -0.120000 ± 0.324962 in #45\n"
          ]
        },
        {
          "output_type": "stream",
          "name": "stderr",
          "text": [
            "Epoch #83: 1001it [00:01, 775.80it/s, env_step=83000, len=2, n/ep=18, n/st=50, player1/loss=0.404, player2/loss=1.275, rew=-0.11]                          \n"
          ]
        },
        {
          "output_type": "stream",
          "name": "stdout",
          "text": [
            "Epoch #83: test_reward: -0.260000 ± 0.438634, best_reward: -0.120000 ± 0.324962 in #45\n"
          ]
        },
        {
          "output_type": "stream",
          "name": "stderr",
          "text": [
            "Epoch #84: 1001it [00:01, 646.96it/s, env_step=84000, len=2, n/ep=17, n/st=50, player1/loss=0.381, player2/loss=1.298, rew=-0.35]                          \n"
          ]
        },
        {
          "output_type": "stream",
          "name": "stdout",
          "text": [
            "Epoch #84: test_reward: -0.290000 ± 0.453762, best_reward: -0.120000 ± 0.324962 in #45\n"
          ]
        },
        {
          "output_type": "stream",
          "name": "stderr",
          "text": [
            "Epoch #85: 1001it [00:01, 772.08it/s, env_step=85000, len=2, n/ep=19, n/st=50, player1/loss=0.400, player2/loss=1.292, rew=-0.37]                          \n"
          ]
        },
        {
          "output_type": "stream",
          "name": "stdout",
          "text": [
            "Epoch #85: test_reward: -0.270000 ± 0.443959, best_reward: -0.120000 ± 0.324962 in #45\n"
          ]
        },
        {
          "output_type": "stream",
          "name": "stderr",
          "text": [
            "Epoch #86: 1001it [00:01, 770.90it/s, env_step=86000, len=2, n/ep=19, n/st=50, player1/loss=0.389, player2/loss=1.291, rew=-0.21]                          \n"
          ]
        },
        {
          "output_type": "stream",
          "name": "stdout",
          "text": [
            "Epoch #86: test_reward: -0.200000 ± 0.400000, best_reward: -0.120000 ± 0.324962 in #45\n"
          ]
        },
        {
          "output_type": "stream",
          "name": "stderr",
          "text": [
            "Epoch #87: 1001it [00:01, 768.08it/s, env_step=87000, len=3, n/ep=17, n/st=50, player1/loss=0.401, player2/loss=1.319, rew=-0.24]                          \n"
          ]
        },
        {
          "output_type": "stream",
          "name": "stdout",
          "text": [
            "Epoch #87: test_reward: -0.270000 ± 0.443959, best_reward: -0.120000 ± 0.324962 in #45\n"
          ]
        },
        {
          "output_type": "stream",
          "name": "stderr",
          "text": [
            "Epoch #88: 1001it [00:01, 675.85it/s, env_step=88000, len=2, n/ep=19, n/st=50, player1/loss=0.421, player2/loss=1.355, rew=-0.21]                          \n"
          ]
        },
        {
          "output_type": "stream",
          "name": "stdout",
          "text": [
            "Epoch #88: test_reward: -0.220000 ± 0.414246, best_reward: -0.120000 ± 0.324962 in #45\n"
          ]
        },
        {
          "output_type": "stream",
          "name": "stderr",
          "text": [
            "Epoch #89: 1001it [00:01, 558.47it/s, env_step=89000, len=3, n/ep=16, n/st=50, player1/loss=0.445, player2/loss=1.490, rew=-0.25]                          \n"
          ]
        },
        {
          "output_type": "stream",
          "name": "stdout",
          "text": [
            "Epoch #89: test_reward: -0.180000 ± 0.384187, best_reward: -0.120000 ± 0.324962 in #45\n"
          ]
        },
        {
          "output_type": "stream",
          "name": "stderr",
          "text": [
            "Epoch #90: 1001it [00:01, 766.95it/s, env_step=90000, len=2, n/ep=19, n/st=50, player1/loss=0.437, player2/loss=1.454, rew=-0.26]                          \n"
          ]
        },
        {
          "output_type": "stream",
          "name": "stdout",
          "text": [
            "Epoch #90: test_reward: -0.290000 ± 0.453762, best_reward: -0.120000 ± 0.324962 in #45\n"
          ]
        },
        {
          "output_type": "stream",
          "name": "stderr",
          "text": [
            "Epoch #91: 1001it [00:01, 755.42it/s, env_step=91000, len=3, n/ep=15, n/st=50, player1/loss=0.454, player2/loss=1.484, rew=-0.07]                          \n"
          ]
        },
        {
          "output_type": "stream",
          "name": "stdout",
          "text": [
            "Epoch #91: test_reward: -0.210000 ± 0.407308, best_reward: -0.120000 ± 0.324962 in #45\n"
          ]
        },
        {
          "output_type": "stream",
          "name": "stderr",
          "text": [
            "Epoch #92: 1001it [00:01, 738.38it/s, env_step=92000, len=2, n/ep=18, n/st=50, player1/loss=0.418, player2/loss=1.521, rew=-0.39]                          \n"
          ]
        },
        {
          "output_type": "stream",
          "name": "stdout",
          "text": [
            "Epoch #92: test_reward: -0.270000 ± 0.443959, best_reward: -0.120000 ± 0.324962 in #45\n"
          ]
        },
        {
          "output_type": "stream",
          "name": "stderr",
          "text": [
            "Epoch #93: 1001it [00:01, 753.72it/s, env_step=93000, len=2, n/ep=19, n/st=50, player1/loss=0.470, player2/loss=1.591, rew=-0.26]                          \n"
          ]
        },
        {
          "output_type": "stream",
          "name": "stdout",
          "text": [
            "Epoch #93: test_reward: -0.190000 ± 0.392301, best_reward: -0.120000 ± 0.324962 in #45\n"
          ]
        },
        {
          "output_type": "stream",
          "name": "stderr",
          "text": [
            "Epoch #94: 1001it [00:01, 711.66it/s, env_step=94000, len=2, n/ep=17, n/st=50, player1/loss=0.433, player2/loss=1.538, rew=-0.29]                          \n"
          ]
        },
        {
          "output_type": "stream",
          "name": "stdout",
          "text": [
            "Epoch #94: test_reward: -0.260000 ± 0.438634, best_reward: -0.120000 ± 0.324962 in #45\n"
          ]
        },
        {
          "output_type": "stream",
          "name": "stderr",
          "text": [
            "Epoch #95: 1001it [00:01, 722.07it/s, env_step=95000, len=3, n/ep=18, n/st=50, player1/loss=0.468, player2/loss=1.563, rew=-0.28]                          \n"
          ]
        },
        {
          "output_type": "stream",
          "name": "stdout",
          "text": [
            "Epoch #95: test_reward: -0.250000 ± 0.433013, best_reward: -0.120000 ± 0.324962 in #45\n"
          ]
        },
        {
          "output_type": "stream",
          "name": "stderr",
          "text": [
            "Epoch #96: 1001it [00:01, 600.69it/s, env_step=96000, len=3, n/ep=16, n/st=50, player1/loss=0.492, player2/loss=1.587, rew=-0.31]                          \n"
          ]
        },
        {
          "output_type": "stream",
          "name": "stdout",
          "text": [
            "Epoch #96: test_reward: -0.190000 ± 0.392301, best_reward: -0.120000 ± 0.324962 in #45\n"
          ]
        },
        {
          "output_type": "stream",
          "name": "stderr",
          "text": [
            "Epoch #97: 1001it [00:01, 622.44it/s, env_step=97000, len=2, n/ep=20, n/st=50, player1/loss=0.474, player2/loss=1.610, rew=-0.20]                          \n"
          ]
        },
        {
          "output_type": "stream",
          "name": "stdout",
          "text": [
            "Epoch #97: test_reward: -0.160000 ± 0.366606, best_reward: -0.120000 ± 0.324962 in #45\n"
          ]
        },
        {
          "output_type": "stream",
          "name": "stderr",
          "text": [
            "Epoch #98: 1001it [00:01, 774.91it/s, env_step=98000, len=2, n/ep=18, n/st=50, player1/loss=0.499, player2/loss=1.690, rew=-0.11]                          \n"
          ]
        },
        {
          "output_type": "stream",
          "name": "stdout",
          "text": [
            "Epoch #98: test_reward: -0.220000 ± 0.414246, best_reward: -0.120000 ± 0.324962 in #45\n"
          ]
        },
        {
          "output_type": "stream",
          "name": "stderr",
          "text": [
            "Epoch #99: 1001it [00:01, 763.09it/s, env_step=99000, len=2, n/ep=17, n/st=50, player1/loss=0.458, player2/loss=1.690, rew=-0.35]                          \n"
          ]
        },
        {
          "output_type": "stream",
          "name": "stdout",
          "text": [
            "Epoch #99: test_reward: -0.210000 ± 0.407308, best_reward: -0.120000 ± 0.324962 in #45\n"
          ]
        },
        {
          "output_type": "stream",
          "name": "stderr",
          "text": [
            "Epoch #100: 1001it [00:01, 774.47it/s, env_step=100000, len=2, n/ep=19, n/st=50, player1/loss=0.468, player2/loss=1.664, rew=-0.32]                          \n"
          ]
        },
        {
          "output_type": "stream",
          "name": "stdout",
          "text": [
            "Epoch #100: test_reward: -0.150000 ± 0.357071, best_reward: -0.120000 ± 0.324962 in #45\n"
          ]
        },
        {
          "output_type": "execute_result",
          "data": {
            "text/plain": [
              "{'duration': '170.56s',\n",
              " 'train_time/model': '96.11s',\n",
              " 'test_step': 29062,\n",
              " 'test_episode': 10100,\n",
              " 'test_time': '25.23s',\n",
              " 'test_speed': '1151.79 step/s',\n",
              " 'best_reward': -0.12,\n",
              " 'best_result': '-0.12 ± 0.32',\n",
              " 'train_step': 100000,\n",
              " 'train_episode': 34718,\n",
              " 'train_time/collector': '49.22s',\n",
              " 'train_speed': '688.11 step/s'}"
            ]
          },
          "metadata": {},
          "execution_count": 22
        }
      ]
    },
    {
      "cell_type": "code",
      "source": [
        "#@title Eval DRL\n",
        "\n",
        "result = test_collector.collect(n_step=5000)\n",
        "arr = result[\"rews\"]\n",
        "death_rates = np.sum(arr, axis=0) / np.sum(arr, axis=0)[0]\n",
        "print(f\"death rate of player2: {(np.sum(arr, axis=0) / arr.shape[0])[-1] * -1:.3f}\")\n",
        "print(f\"ratio of death rate of player2 with respect to player1: {death_rates[-1]:.3f}\")\n",
        "plt.plot(arr.cumsum(axis=0))\n",
        "plt.legend((\"player1\", \"player2\"))\n",
        "plt.show()"
      ],
      "metadata": {
        "colab": {
          "base_uri": "https://localhost:8080/",
          "height": 522
        },
        "id": "kQ5-2veCd5ZV",
        "outputId": "82b87010-9e49-4e21-c405-c5274a4f7fec",
        "cellView": "form"
      },
      "execution_count": 23,
      "outputs": [
        {
          "output_type": "stream",
          "name": "stderr",
          "text": [
            "/usr/local/lib/python3.10/dist-packages/ipykernel/ipkernel.py:283: DeprecationWarning: `should_run_async` will not call `transform_cell` automatically in the future. Please pass the result to `transformed_cell` argument and any exception that happen during thetransform in `preprocessing_exc_tuple` in IPython 7.17 and above.\n",
            "  and should_run_async(code)\n"
          ]
        },
        {
          "output_type": "stream",
          "name": "stdout",
          "text": [
            "death rate of player2: 0.242\n",
            "ratio of death rate of player2 with respect to player1: 0.755\n"
          ]
        },
        {
          "output_type": "display_data",
          "data": {
            "text/plain": [
              "<Figure size 640x480 with 1 Axes>"
            ],
            "image/png": "[encoded data removed]"
          },
          "metadata": {}
        }
      ]
    },
    {
      "cell_type": "code",
      "source": [
        "#@title Load best model checkpoints\n",
        "\n",
        "model_save_path1 = os.path.join(\"log\", \"hommul\", \"dqn\", \"policy1.pth\")\n",
        "model_save_path2 = os.path.join(\"log\", \"hommul\", \"dqn\", \"policy2.pth\")\n",
        "if not hasattr(policy.policies[agents[0]], 'nolearn'):\n",
        "    policy.policies[agents[0]].load_state_dict(torch.load(model_save_path1))\n",
        "if not hasattr(policy.policies[agents[1]], 'nolearn'):\n",
        "    policy.policies[agents[1]].load_state_dict(torch.load(model_save_path2))"
      ],
      "metadata": {
        "id": "Wplc3x6cfEBz",
        "cellView": "form"
      },
      "execution_count": 24,
      "outputs": []
    },
    {
      "cell_type": "code",
      "source": [
        "#@title Eval DRL\n",
        "result = test_collector.collect(n_step=5000)\n",
        "arr = result[\"rews\"]\n",
        "death_rates = np.sum(arr, axis=0) / np.sum(arr, axis=0)[0]\n",
        "print(f\"death rate of player2: {(np.sum(arr, axis=0) / arr.shape[0])[-1] * -1:.3f}\")\n",
        "print(f\"ratio of death rate of player2 with respect to player1: {death_rates[-1]:.3f}\")\n",
        "plt.plot(arr.cumsum(axis=0))\n",
        "plt.legend((\"player1\", \"player2\"))\n",
        "plt.show()"
      ],
      "metadata": {
        "colab": {
          "base_uri": "https://localhost:8080/",
          "height": 466
        },
        "id": "zxXP-sbofD9M",
        "outputId": "d6e27b5b-da4c-4d62-868e-449ed9432c1b",
        "cellView": "form"
      },
      "execution_count": 25,
      "outputs": [
        {
          "output_type": "stream",
          "name": "stdout",
          "text": [
            "death rate of player2: 0.225\n",
            "ratio of death rate of player2 with respect to player1: 0.589\n"
          ]
        },
        {
          "output_type": "display_data",
          "data": {
            "text/plain": [
              "<Figure size 640x480 with 1 Axes>"
            ],
            "image/png": "[encoded data removed]"
          },
          "metadata": {}
        }
      ]
    },
    {
      "cell_type": "code",
      "source": [
        "#@title Save Policy as CSV\n",
        "\n",
        "df = []\n",
        "obs = []\n",
        "\n",
        "for days_left in range(1, 3):\n",
        "    for player1_life_points in range(4):\n",
        "        for player2_life_points in range(4):\n",
        "            for payoff in [0.2, 0.4]:\n",
        "                for player1_action in range(0, 3):\n",
        "                    for player2_action in range(0, 3):\n",
        "                        curr_obs = [\n",
        "                            days_left, \n",
        "                            player1_life_points, \n",
        "                            player2_life_points, \n",
        "                            payoff,\n",
        "                            payoff,\n",
        "                            player1_action, \n",
        "                            player2_action\n",
        "                        ]\n",
        "                        obs.append({\n",
        "                            'agent_id': 'player2',\n",
        "                            'obs': np.array([curr_obs], dtype='float32'),\n",
        "                            'mask': [True, True, False]\n",
        "                        })\n",
        "                        df.append(curr_obs)\n",
        "\n",
        "cols = [\n",
        "    \"days_left\", \n",
        "    \"player1_life_points\", \n",
        "    \"player2_life_points\", \n",
        "    \"player1_prob_payoff\",\n",
        "    \"player2_prob_payoff\",\n",
        "    \"player1_previous_action\", \n",
        "    \"player2_previous_action\"\n",
        "]\n",
        "df = pd.DataFrame(df, columns=cols)\n",
        "\n",
        "df[\"player2_predicted_action\"] = policy.policies[agents[1]](Batch(obs=obs, info={})).act\n",
        "df[\"player2_logit_wait\"] = policy.policies[agents[1]](Batch(obs=obs, info={})).logits.detach().cpu().numpy()[:, 0]\n",
        "df[\"player2_logit_play\"] = policy.policies[agents[1]](Batch(obs=obs, info={})).logits.detach().cpu().numpy()[:, 1]\n",
        "\n",
        "df[\"player1_previous_action\"] = df[\"player1_previous_action\"].map({0: \"wait\", 1: \"play\", 2: \"none\"})\n",
        "df[\"player2_previous_action\"] = df[\"player2_previous_action\"].map({0: \"wait\", 1: \"play\", 2: \"none\"})\n",
        "df[\"player2_predicted_action\"] = df[\"player2_predicted_action\"].map({0: \"wait\", 1: \"play\"})\n",
        "\n",
        "df.to_csv(\"outcome_table.csv\", index=False)\n",
        "\n",
        "df.head()"
      ],
      "metadata": {
        "colab": {
          "base_uri": "https://localhost:8080/",
          "height": 270
        },
        "id": "qqphMrZSd-JF",
        "outputId": "e37c1772-7a2b-466c-c7a4-ef29669aa59f",
        "cellView": "form"
      },
      "execution_count": 26,
      "outputs": [
        {
          "output_type": "execute_result",
          "data": {
            "text/plain": [
              "   days_left  player1_life_points  player2_life_points  player1_prob_payoff  \\\n",
              "0          1                    0                    0                  0.2   \n",
              "1          1                    0                    0                  0.2   \n",
              "2          1                    0                    0                  0.2   \n",
              "3          1                    0                    0                  0.2   \n",
              "4          1                    0                    0                  0.2   \n",
              "\n",
              "   player2_prob_payoff player1_previous_action player2_previous_action  \\\n",
              "0                  0.2                    wait                    wait   \n",
              "1                  0.2                    wait                    play   \n",
              "2                  0.2                    wait                    none   \n",
              "3                  0.2                    play                    wait   \n",
              "4                  0.2                    play                    play   \n",
              "\n",
              "  player2_predicted_action  player2_logit_wait  player2_logit_play  \n",
              "0                     play           -4.032372           -4.004742  \n",
              "1                     wait           -4.021855           -4.580068  \n",
              "2                     wait           -4.208619           -5.341010  \n",
              "3                     play           -4.635623           -4.137496  \n",
              "4                     play           -4.382897           -4.200639  "
            ],
            "text/html": [
              "\n",
              "  <div id=\"df-4540a636-b0a0-431c-b4d0-4584f2413b7d\">\n",
              "    <div class=\"colab-df-container\">\n",
              "      <div>\n",
              "<style scoped>\n",
              "    .dataframe tbody tr th:only-of-type {\n",
              "        vertical-align: middle;\n",
              "    }\n",
              "\n",
              "    .dataframe tbody tr th {\n",
              "        vertical-align: top;\n",
              "    }\n",
              "\n",
              "    .dataframe thead th {\n",
              "        text-align: right;\n",
              "    }\n",
              "</style>\n",
              "<table border=\"1\" class=\"dataframe\">\n",
              "  <thead>\n",
              "    <tr style=\"text-align: right;\">\n",
              "      <th></th>\n",
              "      <th>days_left</th>\n",
              "      <th>player1_life_points</th>\n",
              "      <th>player2_life_points</th>\n",
              "      <th>player1_prob_payoff</th>\n",
              "      <th>player2_prob_payoff</th>\n",
              "      <th>player1_previous_action</th>\n",
              "      <th>player2_previous_action</th>\n",
              "      <th>player2_predicted_action</th>\n",
              "      <th>player2_logit_wait</th>\n",
              "      <th>player2_logit_play</th>\n",
              "    </tr>\n",
              "  </thead>\n",
              "  <tbody>\n",
              "    <tr>\n",
              "      <th>0</th>\n",
              "      <td>1</td>\n",
              "      <td>0</td>\n",
              "      <td>0</td>\n",
              "      <td>0.2</td>\n",
              "      <td>0.2</td>\n",
              "      <td>wait</td>\n",
              "      <td>wait</td>\n",
              "      <td>play</td>\n",
              "      <td>-4.032372</td>\n",
              "      <td>-4.004742</td>\n",
              "    </tr>\n",
              "    <tr>\n",
              "      <th>1</th>\n",
              "      <td>1</td>\n",
              "      <td>0</td>\n",
              "      <td>0</td>\n",
              "      <td>0.2</td>\n",
              "      <td>0.2</td>\n",
              "      <td>wait</td>\n",
              "      <td>play</td>\n",
              "      <td>wait</td>\n",
              "      <td>-4.021855</td>\n",
              "      <td>-4.580068</td>\n",
              "    </tr>\n",
              "    <tr>\n",
              "      <th>2</th>\n",
              "      <td>1</td>\n",
              "      <td>0</td>\n",
              "      <td>0</td>\n",
              "      <td>0.2</td>\n",
              "      <td>0.2</td>\n",
              "      <td>wait</td>\n",
              "      <td>none</td>\n",
              "      <td>wait</td>\n",
              "      <td>-4.208619</td>\n",
              "      <td>-5.341010</td>\n",
              "    </tr>\n",
              "    <tr>\n",
              "      <th>3</th>\n",
              "      <td>1</td>\n",
              "      <td>0</td>\n",
              "      <td>0</td>\n",
              "      <td>0.2</td>\n",
              "      <td>0.2</td>\n",
              "      <td>play</td>\n",
              "      <td>wait</td>\n",
              "      <td>play</td>\n",
              "      <td>-4.635623</td>\n",
              "      <td>-4.137496</td>\n",
              "    </tr>\n",
              "    <tr>\n",
              "      <th>4</th>\n",
              "      <td>1</td>\n",
              "      <td>0</td>\n",
              "      <td>0</td>\n",
              "      <td>0.2</td>\n",
              "      <td>0.2</td>\n",
              "      <td>play</td>\n",
              "      <td>play</td>\n",
              "      <td>play</td>\n",
              "      <td>-4.382897</td>\n",
              "      <td>-4.200639</td>\n",
              "    </tr>\n",
              "  </tbody>\n",
              "</table>\n",
              "</div>\n",
              "      <button class=\"colab-df-convert\" onclick=\"convertToInteractive('df-4540a636-b0a0-431c-b4d0-4584f2413b7d')\"\n",
              "              title=\"Convert this dataframe to an interactive table.\"\n",
              "              style=\"display:none;\">\n",
              "        \n",
              "  <svg xmlns=\"http://www.w3.org/2000/svg\" height=\"24px\"viewBox=\"0 0 24 24\"\n",
              "       width=\"24px\">\n",
              "    <path d=\"M0 0h24v24H0V0z\" fill=\"none\"/>\n",
              "    <path d=\"M18.56 5.44l.94 2.06.94-2.06 2.06-.94-2.06-.94-.94-2.06-.94 2.06-2.06.94zm-11 1L8.5 8.5l.94-2.06 2.06-.94-2.06-.94L8.5 2.5l-.94 2.06-2.06.94zm10 10l.94 2.06.94-2.06 2.06-.94-2.06-.94-.94-2.06-.94 2.06-2.06.94z\"/><path d=\"M17.41 7.96l-1.37-1.37c-.4-.4-.92-.59-1.43-.59-.52 0-1.04.2-1.43.59L10.3 9.45l-7.72 7.72c-.78.78-.78 2.05 0 2.83L4 21.41c.39.39.9.59 1.41.59.51 0 1.02-.2 1.41-.59l7.78-7.78 2.81-2.81c.8-.78.8-2.07 0-2.86zM5.41 20L4 18.59l7.72-7.72 1.47 1.35L5.41 20z\"/>\n",
              "  </svg>\n",
              "      </button>\n",
              "      \n",
              "  <style>\n",
              "    .colab-df-container {\n",
              "      display:flex;\n",
              "      flex-wrap:wrap;\n",
              "      gap: 12px;\n",
              "    }\n",
              "\n",
              "    .colab-df-convert {\n",
              "      background-color: #E8F0FE;\n",
              "      border: none;\n",
              "      border-radius: 50%;\n",
              "      cursor: pointer;\n",
              "      display: none;\n",
              "      fill: #1967D2;\n",
              "      height: 32px;\n",
              "      padding: 0 0 0 0;\n",
              "      width: 32px;\n",
              "    }\n",
              "\n",
              "    .colab-df-convert:hover {\n",
              "      background-color: #E2EBFA;\n",
              "      box-shadow: 0px 1px 2px rgba(60, 64, 67, 0.3), 0px 1px 3px 1px rgba(60, 64, 67, 0.15);\n",
              "      fill: #174EA6;\n",
              "    }\n",
              "\n",
              "    [theme=dark] .colab-df-convert {\n",
              "      background-color: #3B4455;\n",
              "      fill: #D2E3FC;\n",
              "    }\n",
              "\n",
              "    [theme=dark] .colab-df-convert:hover {\n",
              "      background-color: #434B5C;\n",
              "      box-shadow: 0px 1px 3px 1px rgba(0, 0, 0, 0.15);\n",
              "      filter: drop-shadow(0px 1px 2px rgba(0, 0, 0, 0.3));\n",
              "      fill: #FFFFFF;\n",
              "    }\n",
              "  </style>\n",
              "\n",
              "      <script>\n",
              "        const buttonEl =\n",
              "          document.querySelector('#df-4540a636-b0a0-431c-b4d0-4584f2413b7d button.colab-df-convert');\n",
              "        buttonEl.style.display =\n",
              "          google.colab.kernel.accessAllowed ? 'block' : 'none';\n",
              "\n",
              "        async function convertToInteractive(key) {\n",
              "          const element = document.querySelector('#df-4540a636-b0a0-431c-b4d0-4584f2413b7d');\n",
              "          const dataTable =\n",
              "            await google.colab.kernel.invokeFunction('convertToInteractive',\n",
              "                                                     [key], {});\n",
              "          if (!dataTable) return;\n",
              "\n",
              "          const docLinkHtml = 'Like what you see? Visit the ' +\n",
              "            '<a target=\"_blank\" href=https://colab.research.google.com/notebooks/data_table.ipynb>data table notebook</a>'\n",
              "            + ' to learn more about interactive tables.';\n",
              "          element.innerHTML = '';\n",
              "          dataTable['output_type'] = 'display_data';\n",
              "          await google.colab.output.renderOutput(dataTable, element);\n",
              "          const docLink = document.createElement('div');\n",
              "          docLink.innerHTML = docLinkHtml;\n",
              "          element.appendChild(docLink);\n",
              "        }\n",
              "      </script>\n",
              "    </div>\n",
              "  </div>\n",
              "  "
            ]
          },
          "metadata": {},
          "execution_count": 26
        }
      ]
    },
    {
      "cell_type": "code",
      "source": [
        "#@title Visualize policy (mean gameplay)\n",
        "(df[\"player2_predicted_action\"] == \"play\").mean()"
      ],
      "metadata": {
        "colab": {
          "base_uri": "https://localhost:8080/"
        },
        "id": "KxAabY2fo4OL",
        "outputId": "b479e5dd-fd82-45f6-92df-ea9a27fc79a8",
        "cellView": "form"
      },
      "execution_count": 27,
      "outputs": [
        {
          "output_type": "stream",
          "name": "stderr",
          "text": [
            "/usr/local/lib/python3.10/dist-packages/ipykernel/ipkernel.py:283: DeprecationWarning: `should_run_async` will not call `transform_cell` automatically in the future. Please pass the result to `transformed_cell` argument and any exception that happen during thetransform in `preprocessing_exc_tuple` in IPython 7.17 and above.\n",
            "  and should_run_async(code)\n"
          ]
        },
        {
          "output_type": "execute_result",
          "data": {
            "text/plain": [
              "0.4548611111111111"
            ]
          },
          "metadata": {},
          "execution_count": 27
        }
      ]
    },
    {
      "cell_type": "code",
      "source": [
        "#@title Visualize policy\n",
        "df[df[\"player2_predicted_action\"] == \"play\"].tail(15)"
      ],
      "metadata": {
        "colab": {
          "base_uri": "https://localhost:8080/",
          "height": 584
        },
        "id": "YmNsJMKrpxVu",
        "outputId": "a354837e-dd9b-4f68-8d92-19443d57f4c6",
        "cellView": "form"
      },
      "execution_count": 28,
      "outputs": [
        {
          "output_type": "execute_result",
          "data": {
            "text/plain": [
              "     days_left  player1_life_points  player2_life_points  player1_prob_payoff  \\\n",
              "534          2                    3                    1                  0.4   \n",
              "535          2                    3                    1                  0.4   \n",
              "536          2                    3                    1                  0.4   \n",
              "537          2                    3                    1                  0.4   \n",
              "538          2                    3                    1                  0.4   \n",
              "539          2                    3                    1                  0.4   \n",
              "548          2                    3                    2                  0.2   \n",
              "549          2                    3                    2                  0.4   \n",
              "550          2                    3                    2                  0.4   \n",
              "552          2                    3                    2                  0.4   \n",
              "553          2                    3                    2                  0.4   \n",
              "554          2                    3                    2                  0.4   \n",
              "555          2                    3                    2                  0.4   \n",
              "556          2                    3                    2                  0.4   \n",
              "557          2                    3                    2                  0.4   \n",
              "\n",
              "     player2_prob_payoff player1_previous_action player2_previous_action  \\\n",
              "534                  0.4                    play                    wait   \n",
              "535                  0.4                    play                    play   \n",
              "536                  0.4                    play                    none   \n",
              "537                  0.4                    none                    wait   \n",
              "538                  0.4                    none                    play   \n",
              "539                  0.4                    none                    none   \n",
              "548                  0.2                    none                    none   \n",
              "549                  0.4                    wait                    wait   \n",
              "550                  0.4                    wait                    play   \n",
              "552                  0.4                    play                    wait   \n",
              "553                  0.4                    play                    play   \n",
              "554                  0.4                    play                    none   \n",
              "555                  0.4                    none                    wait   \n",
              "556                  0.4                    none                    play   \n",
              "557                  0.4                    none                    none   \n",
              "\n",
              "    player2_predicted_action  player2_logit_wait  player2_logit_play  \n",
              "534                     play           -3.708695           -2.518996  \n",
              "535                     play           -3.239169           -2.085048  \n",
              "536                     play           -3.077289           -2.215604  \n",
              "537                     play           -4.370569           -3.075722  \n",
              "538                     play           -3.649889           -2.065872  \n",
              "539                     play           -3.238898           -1.395882  \n",
              "548                     play           -2.071678           -2.064888  \n",
              "549                     play           -2.308504           -2.005066  \n",
              "550                     play           -2.268923           -1.987433  \n",
              "552                     play           -2.302989           -1.981344  \n",
              "553                     play           -2.090730           -1.597204  \n",
              "554                     play           -1.920758           -1.387136  \n",
              "555                     play           -2.632961           -2.257776  \n",
              "556                     play           -2.197876           -1.602026  \n",
              "557                     play           -2.008774           -1.183774  "
            ],
            "text/html": [
              "\n",
              "  <div id=\"df-bb9d891f-3fe2-49b9-8bc9-f6464ce734ea\">\n",
              "    <div class=\"colab-df-container\">\n",
              "      <div>\n",
              "<style scoped>\n",
              "    .dataframe tbody tr th:only-of-type {\n",
              "        vertical-align: middle;\n",
              "    }\n",
              "\n",
              "    .dataframe tbody tr th {\n",
              "        vertical-align: top;\n",
              "    }\n",
              "\n",
              "    .dataframe thead th {\n",
              "        text-align: right;\n",
              "    }\n",
              "</style>\n",
              "<table border=\"1\" class=\"dataframe\">\n",
              "  <thead>\n",
              "    <tr style=\"text-align: right;\">\n",
              "      <th></th>\n",
              "      <th>days_left</th>\n",
              "      <th>player1_life_points</th>\n",
              "      <th>player2_life_points</th>\n",
              "      <th>player1_prob_payoff</th>\n",
              "      <th>player2_prob_payoff</th>\n",
              "      <th>player1_previous_action</th>\n",
              "      <th>player2_previous_action</th>\n",
              "      <th>player2_predicted_action</th>\n",
              "      <th>player2_logit_wait</th>\n",
              "      <th>player2_logit_play</th>\n",
              "    </tr>\n",
              "  </thead>\n",
              "  <tbody>\n",
              "    <tr>\n",
              "      <th>534</th>\n",
              "      <td>2</td>\n",
              "      <td>3</td>\n",
              "      <td>1</td>\n",
              "      <td>0.4</td>\n",
              "      <td>0.4</td>\n",
              "      <td>play</td>\n",
              "      <td>wait</td>\n",
              "      <td>play</td>\n",
              "      <td>-3.708695</td>\n",
              "      <td>-2.518996</td>\n",
              "    </tr>\n",
              "    <tr>\n",
              "      <th>535</th>\n",
              "      <td>2</td>\n",
              "      <td>3</td>\n",
              "      <td>1</td>\n",
              "      <td>0.4</td>\n",
              "      <td>0.4</td>\n",
              "      <td>play</td>\n",
              "      <td>play</td>\n",
              "      <td>play</td>\n",
              "      <td>-3.239169</td>\n",
              "      <td>-2.085048</td>\n",
              "    </tr>\n",
              "    <tr>\n",
              "      <th>536</th>\n",
              "      <td>2</td>\n",
              "      <td>3</td>\n",
              "      <td>1</td>\n",
              "      <td>0.4</td>\n",
              "      <td>0.4</td>\n",
              "      <td>play</td>\n",
              "      <td>none</td>\n",
              "      <td>play</td>\n",
              "      <td>-3.077289</td>\n",
              "      <td>-2.215604</td>\n",
              "    </tr>\n",
              "    <tr>\n",
              "      <th>537</th>\n",
              "      <td>2</td>\n",
              "      <td>3</td>\n",
              "      <td>1</td>\n",
              "      <td>0.4</td>\n",
              "      <td>0.4</td>\n",
              "      <td>none</td>\n",
              "      <td>wait</td>\n",
              "      <td>play</td>\n",
              "      <td>-4.370569</td>\n",
              "      <td>-3.075722</td>\n",
              "    </tr>\n",
              "    <tr>\n",
              "      <th>538</th>\n",
              "      <td>2</td>\n",
              "      <td>3</td>\n",
              "      <td>1</td>\n",
              "      <td>0.4</td>\n",
              "      <td>0.4</td>\n",
              "      <td>none</td>\n",
              "      <td>play</td>\n",
              "      <td>play</td>\n",
              "      <td>-3.649889</td>\n",
              "      <td>-2.065872</td>\n",
              "    </tr>\n",
              "    <tr>\n",
              "      <th>539</th>\n",
              "      <td>2</td>\n",
              "      <td>3</td>\n",
              "      <td>1</td>\n",
              "      <td>0.4</td>\n",
              "      <td>0.4</td>\n",
              "      <td>none</td>\n",
              "      <td>none</td>\n",
              "      <td>play</td>\n",
              "      <td>-3.238898</td>\n",
              "      <td>-1.395882</td>\n",
              "    </tr>\n",
              "    <tr>\n",
              "      <th>548</th>\n",
              "      <td>2</td>\n",
              "      <td>3</td>\n",
              "      <td>2</td>\n",
              "      <td>0.2</td>\n",
              "      <td>0.2</td>\n",
              "      <td>none</td>\n",
              "      <td>none</td>\n",
              "      <td>play</td>\n",
              "      <td>-2.071678</td>\n",
              "      <td>-2.064888</td>\n",
              "    </tr>\n",
              "    <tr>\n",
              "      <th>549</th>\n",
              "      <td>2</td>\n",
              "      <td>3</td>\n",
              "      <td>2</td>\n",
              "      <td>0.4</td>\n",
              "      <td>0.4</td>\n",
              "      <td>wait</td>\n",
              "      <td>wait</td>\n",
              "      <td>play</td>\n",
              "      <td>-2.308504</td>\n",
              "      <td>-2.005066</td>\n",
              "    </tr>\n",
              "    <tr>\n",
              "      <th>550</th>\n",
              "      <td>2</td>\n",
              "      <td>3</td>\n",
              "      <td>2</td>\n",
              "      <td>0.4</td>\n",
              "      <td>0.4</td>\n",
              "      <td>wait</td>\n",
              "      <td>play</td>\n",
              "      <td>play</td>\n",
              "      <td>-2.268923</td>\n",
              "      <td>-1.987433</td>\n",
              "    </tr>\n",
              "    <tr>\n",
              "      <th>552</th>\n",
              "      <td>2</td>\n",
              "      <td>3</td>\n",
              "      <td>2</td>\n",
              "      <td>0.4</td>\n",
              "      <td>0.4</td>\n",
              "      <td>play</td>\n",
              "      <td>wait</td>\n",
              "      <td>play</td>\n",
              "      <td>-2.302989</td>\n",
              "      <td>-1.981344</td>\n",
              "    </tr>\n",
              "    <tr>\n",
              "      <th>553</th>\n",
              "      <td>2</td>\n",
              "      <td>3</td>\n",
              "      <td>2</td>\n",
              "      <td>0.4</td>\n",
              "      <td>0.4</td>\n",
              "      <td>play</td>\n",
              "      <td>play</td>\n",
              "      <td>play</td>\n",
              "      <td>-2.090730</td>\n",
              "      <td>-1.597204</td>\n",
              "    </tr>\n",
              "    <tr>\n",
              "      <th>554</th>\n",
              "      <td>2</td>\n",
              "      <td>3</td>\n",
              "      <td>2</td>\n",
              "      <td>0.4</td>\n",
              "      <td>0.4</td>\n",
              "      <td>play</td>\n",
              "      <td>none</td>\n",
              "      <td>play</td>\n",
              "      <td>-1.920758</td>\n",
              "      <td>-1.387136</td>\n",
              "    </tr>\n",
              "    <tr>\n",
              "      <th>555</th>\n",
              "      <td>2</td>\n",
              "      <td>3</td>\n",
              "      <td>2</td>\n",
              "      <td>0.4</td>\n",
              "      <td>0.4</td>\n",
              "      <td>none</td>\n",
              "      <td>wait</td>\n",
              "      <td>play</td>\n",
              "      <td>-2.632961</td>\n",
              "      <td>-2.257776</td>\n",
              "    </tr>\n",
              "    <tr>\n",
              "      <th>556</th>\n",
              "      <td>2</td>\n",
              "      <td>3</td>\n",
              "      <td>2</td>\n",
              "      <td>0.4</td>\n",
              "      <td>0.4</td>\n",
              "      <td>none</td>\n",
              "      <td>play</td>\n",
              "      <td>play</td>\n",
              "      <td>-2.197876</td>\n",
              "      <td>-1.602026</td>\n",
              "    </tr>\n",
              "    <tr>\n",
              "      <th>557</th>\n",
              "      <td>2</td>\n",
              "      <td>3</td>\n",
              "      <td>2</td>\n",
              "      <td>0.4</td>\n",
              "      <td>0.4</td>\n",
              "      <td>none</td>\n",
              "      <td>none</td>\n",
              "      <td>play</td>\n",
              "      <td>-2.008774</td>\n",
              "      <td>-1.183774</td>\n",
              "    </tr>\n",
              "  </tbody>\n",
              "</table>\n",
              "</div>\n",
              "      <button class=\"colab-df-convert\" onclick=\"convertToInteractive('df-bb9d891f-3fe2-49b9-8bc9-f6464ce734ea')\"\n",
              "              title=\"Convert this dataframe to an interactive table.\"\n",
              "              style=\"display:none;\">\n",
              "        \n",
              "  <svg xmlns=\"http://www.w3.org/2000/svg\" height=\"24px\"viewBox=\"0 0 24 24\"\n",
              "       width=\"24px\">\n",
              "    <path d=\"M0 0h24v24H0V0z\" fill=\"none\"/>\n",
              "    <path d=\"M18.56 5.44l.94 2.06.94-2.06 2.06-.94-2.06-.94-.94-2.06-.94 2.06-2.06.94zm-11 1L8.5 8.5l.94-2.06 2.06-.94-2.06-.94L8.5 2.5l-.94 2.06-2.06.94zm10 10l.94 2.06.94-2.06 2.06-.94-2.06-.94-.94-2.06-.94 2.06-2.06.94z\"/><path d=\"M17.41 7.96l-1.37-1.37c-.4-.4-.92-.59-1.43-.59-.52 0-1.04.2-1.43.59L10.3 9.45l-7.72 7.72c-.78.78-.78 2.05 0 2.83L4 21.41c.39.39.9.59 1.41.59.51 0 1.02-.2 1.41-.59l7.78-7.78 2.81-2.81c.8-.78.8-2.07 0-2.86zM5.41 20L4 18.59l7.72-7.72 1.47 1.35L5.41 20z\"/>\n",
              "  </svg>\n",
              "      </button>\n",
              "      \n",
              "  <style>\n",
              "    .colab-df-container {\n",
              "      display:flex;\n",
              "      flex-wrap:wrap;\n",
              "      gap: 12px;\n",
              "    }\n",
              "\n",
              "    .colab-df-convert {\n",
              "      background-color: #E8F0FE;\n",
              "      border: none;\n",
              "      border-radius: 50%;\n",
              "      cursor: pointer;\n",
              "      display: none;\n",
              "      fill: #1967D2;\n",
              "      height: 32px;\n",
              "      padding: 0 0 0 0;\n",
              "      width: 32px;\n",
              "    }\n",
              "\n",
              "    .colab-df-convert:hover {\n",
              "      background-color: #E2EBFA;\n",
              "      box-shadow: 0px 1px 2px rgba(60, 64, 67, 0.3), 0px 1px 3px 1px rgba(60, 64, 67, 0.15);\n",
              "      fill: #174EA6;\n",
              "    }\n",
              "\n",
              "    [theme=dark] .colab-df-convert {\n",
              "      background-color: #3B4455;\n",
              "      fill: #D2E3FC;\n",
              "    }\n",
              "\n",
              "    [theme=dark] .colab-df-convert:hover {\n",
              "      background-color: #434B5C;\n",
              "      box-shadow: 0px 1px 3px 1px rgba(0, 0, 0, 0.15);\n",
              "      filter: drop-shadow(0px 1px 2px rgba(0, 0, 0, 0.3));\n",
              "      fill: #FFFFFF;\n",
              "    }\n",
              "  </style>\n",
              "\n",
              "      <script>\n",
              "        const buttonEl =\n",
              "          document.querySelector('#df-bb9d891f-3fe2-49b9-8bc9-f6464ce734ea button.colab-df-convert');\n",
              "        buttonEl.style.display =\n",
              "          google.colab.kernel.accessAllowed ? 'block' : 'none';\n",
              "\n",
              "        async function convertToInteractive(key) {\n",
              "          const element = document.querySelector('#df-bb9d891f-3fe2-49b9-8bc9-f6464ce734ea');\n",
              "          const dataTable =\n",
              "            await google.colab.kernel.invokeFunction('convertToInteractive',\n",
              "                                                     [key], {});\n",
              "          if (!dataTable) return;\n",
              "\n",
              "          const docLinkHtml = 'Like what you see? Visit the ' +\n",
              "            '<a target=\"_blank\" href=https://colab.research.google.com/notebooks/data_table.ipynb>data table notebook</a>'\n",
              "            + ' to learn more about interactive tables.';\n",
              "          element.innerHTML = '';\n",
              "          dataTable['output_type'] = 'display_data';\n",
              "          await google.colab.output.renderOutput(dataTable, element);\n",
              "          const docLink = document.createElement('div');\n",
              "          docLink.innerHTML = docLinkHtml;\n",
              "          element.appendChild(docLink);\n",
              "        }\n",
              "      </script>\n",
              "    </div>\n",
              "  </div>\n",
              "  "
            ]
          },
          "metadata": {},
          "execution_count": 28
        }
      ]
    },
    {
      "cell_type": "code",
      "source": [
        "#@title Case - Optimal vs DRL\n",
        "policy = MultiAgentPolicyManager([OptimalPolicy(), agent_learn2],  _get_env())\n",
        "test_envs = DummyVectorEnv([_get_env for _ in range(2)])\n",
        "test_collector = Collector(policy, test_envs, exploration_noise=True)\n",
        "\n",
        "result = test_collector.collect(n_step=4*1000)\n",
        "arr = result[\"rews\"]\n",
        "death_rates = np.sum(arr, axis=0) / np.sum(arr, axis=0)[0]\n",
        "print(f\"death rate of player2: {(np.sum(arr, axis=0) / arr.shape[0])[-1] * -1:.3f}\")\n",
        "print(f\"ratio of death rate of player2 with respect to player1: {death_rates[-1]:.3f}\")\n",
        "plt.plot(arr.cumsum(axis=0))\n",
        "plt.legend((\"player1\", \"player2\"))\n",
        "plt.show()"
      ],
      "metadata": {
        "id": "DHJQl1CrtbzX",
        "outputId": "31f49652-c504-44a8-ad19-c65f9e091313",
        "colab": {
          "base_uri": "https://localhost:8080/",
          "height": 522
        },
        "cellView": "form"
      },
      "execution_count": 29,
      "outputs": [
        {
          "output_type": "stream",
          "name": "stderr",
          "text": [
            "/usr/local/lib/python3.10/dist-packages/ipykernel/ipkernel.py:283: DeprecationWarning: `should_run_async` will not call `transform_cell` automatically in the future. Please pass the result to `transformed_cell` argument and any exception that happen during thetransform in `preprocessing_exc_tuple` in IPython 7.17 and above.\n",
            "  and should_run_async(code)\n"
          ]
        },
        {
          "output_type": "stream",
          "name": "stdout",
          "text": [
            "death rate of player2: 0.262\n",
            "ratio of death rate of player2 with respect to player1: 0.716\n"
          ]
        },
        {
          "output_type": "display_data",
          "data": {
            "text/plain": [
              "<Figure size 640x480 with 1 Axes>"
            ],
            "image/png": "[encoded data removed]"
          },
          "metadata": {}
        }
      ]
    },
    {
      "cell_type": "code",
      "source": [
        "#@title Case - optimal vs optimal\n",
        "policy = MultiAgentPolicyManager([OptimalPolicy(), OptimalPolicy()],  _get_env())\n",
        "test_envs = DummyVectorEnv([_get_env for _ in range(2)])\n",
        "test_collector = Collector(policy, test_envs, exploration_noise=True)\n",
        "\n",
        "result = test_collector.collect(n_step=4*1000)\n",
        "arr = result[\"rews\"]\n",
        "death_rates = np.sum(arr, axis=0) / np.sum(arr, axis=0)[0]\n",
        "print(f\"death rate of player2: {(np.sum(arr, axis=0) / arr.shape[0])[-1] * -1:.3f}\")\n",
        "print(f\"ratio of death rate of player2 with respect to player1: {death_rates[-1]:.3f}\")\n",
        "plt.plot(arr.cumsum(axis=0))\n",
        "plt.legend((\"player1\", \"player2\"))\n",
        "plt.show()"
      ],
      "metadata": {
        "id": "iXU204WEtjgg",
        "outputId": "329c6cac-25b5-4a7a-8cbf-b35e2acaeff7",
        "colab": {
          "base_uri": "https://localhost:8080/",
          "height": 522
        },
        "cellView": "form"
      },
      "execution_count": 30,
      "outputs": [
        {
          "output_type": "stream",
          "name": "stderr",
          "text": [
            "/usr/local/lib/python3.10/dist-packages/ipykernel/ipkernel.py:283: DeprecationWarning: `should_run_async` will not call `transform_cell` automatically in the future. Please pass the result to `transformed_cell` argument and any exception that happen during thetransform in `preprocessing_exc_tuple` in IPython 7.17 and above.\n",
            "  and should_run_async(code)\n"
          ]
        },
        {
          "output_type": "stream",
          "name": "stdout",
          "text": [
            "death rate of player2: 0.188\n",
            "ratio of death rate of player2 with respect to player1: 0.587\n"
          ]
        },
        {
          "output_type": "display_data",
          "data": {
            "text/plain": [
              "<Figure size 640x480 with 1 Axes>"
            ],
            "image/png": "[encoded data removed]"
          },
          "metadata": {}
        }
      ]
    }
  ]
}