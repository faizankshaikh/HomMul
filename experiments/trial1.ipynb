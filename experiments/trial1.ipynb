{
  "nbformat": 4,
  "nbformat_minor": 0,
  "metadata": {
    "colab": {
      "provenance": [],
      "gpuType": "T4",
      "authorship_tag": "ABX9TyMoa3CoR5TVJI28JtTkqAi1",
      "include_colab_link": true
    },
    "kernelspec": {
      "name": "python3",
      "display_name": "Python 3"
    },
    "language_info": {
      "name": "python"
    },
    "accelerator": "GPU",
    "gpuClass": "standard"
  },
  "cells": [
    {
      "cell_type": "markdown",
      "metadata": {
        "id": "view-in-github",
        "colab_type": "text"
      },
      "source": [
        "<a href=\"https://colab.research.google.com/github/faizankshaikh/HomMul/blob/main/experiments/trial1.ipynb\" target=\"_parent\"><img src=\"https://colab.research.google.com/assets/colab-badge.svg\" alt=\"Open In Colab\"/></a>"
      ]
    },
    {
      "cell_type": "markdown",
      "source": [
        "# Experiments with Self-Playing Deep Reinforcement Learning\n"
      ],
      "metadata": {
        "id": "EG4U4ibl9Cnl"
      }
    },
    {
      "cell_type": "code",
      "execution_count": 1,
      "metadata": {
        "id": "V2BNDFAEr5fq",
        "cellView": "form"
      },
      "outputs": [],
      "source": [
        "#@title Required installation\n",
        "# !pip install -q black gymnasium pettingzoo==1.22.3 tianshou\n",
        "# !git clone https://github.com/faizankshaikh/HomMul.git"
      ]
    },
    {
      "cell_type": "code",
      "source": [
        "#@title Change working path\n",
        "%cd HomMul/"
      ],
      "metadata": {
        "colab": {
          "base_uri": "https://localhost:8080/"
        },
        "id": "NBShrrDlsJLP",
        "outputId": "131efa35-03f3-4305-d0d9-a7d5ac5d58ae",
        "cellView": "form"
      },
      "execution_count": 2,
      "outputs": [
        {
          "output_type": "stream",
          "name": "stdout",
          "text": [
            "/content/HomMul\n"
          ]
        }
      ]
    },
    {
      "cell_type": "code",
      "source": [
        "#@title Import libraries and modules\n",
        "%load_ext tensorboard\n",
        "\n",
        "import os\n",
        "import torch\n",
        "import numpy as np\n",
        "import pandas as pd\n",
        "import matplotlib.pyplot as plt\n",
        "\n",
        "from hommul.envs.hommul_v0 import HomMul\n",
        "\n",
        "from torch.optim import Adam\n",
        "\n",
        "from tianshou.data import Batch\n",
        "from tianshou.utils.net.common import Net\n",
        "from tianshou.utils import TensorboardLogger\n",
        "from tianshou.trainer import offpolicy_trainer\n",
        "from tianshou.data import Collector, VectorReplayBuffer\n",
        "from tianshou.env import DummyVectorEnv, PettingZooEnv\n",
        "from tianshou.policy import BasePolicy, DQNPolicy, MultiAgentPolicyManager\n",
        "\n",
        "from pettingzoo.utils import parallel_to_aec\n",
        "\n",
        "from torch.utils.tensorboard import SummaryWriter"
      ],
      "metadata": {
        "id": "othtAUgWs8MA",
        "cellView": "form"
      },
      "execution_count": 3,
      "outputs": []
    },
    {
      "cell_type": "code",
      "source": [
        "#@title Setup Gymnasium environment\n",
        "env = HomMul()\n",
        "original_env = HomMul(render_mode=\"human\")"
      ],
      "metadata": {
        "colab": {
          "base_uri": "https://localhost:8080/"
        },
        "id": "ZkPx4nCOuhXX",
        "outputId": "4006cb88-f5b6-4eeb-c724-669b1c5e87ff",
        "cellView": "form"
      },
      "execution_count": 4,
      "outputs": [
        {
          "output_type": "stream",
          "name": "stderr",
          "text": [
            "/usr/local/lib/python3.10/dist-packages/ipykernel/ipkernel.py:283: DeprecationWarning: `should_run_async` will not call `transform_cell` automatically in the future. Please pass the result to `transformed_cell` argument and any exception that happen during thetransform in `preprocessing_exc_tuple` in IPython 7.17 and above.\n",
            "  and should_run_async(code)\n"
          ]
        }
      ]
    },
    {
      "cell_type": "code",
      "source": [
        "#@title Example of gameplay\n",
        "episodes = 2\n",
        "\n",
        "for episode in range(episodes):\n",
        "    print(f\"Episode #{episode+1}\")\n",
        "    print(\"=\" * 10)\n",
        "    obs = original_env.reset()\n",
        "    print()\n",
        "\n",
        "    while original_env.agents:\n",
        "        acts = {\n",
        "            \"player1\": np.random.choice([0, 1]),\n",
        "            \"player2\": np.random.choice([0, 1])\n",
        "        }\n",
        "        print(f\"--Action taken by player 1: {original_env.action_dict[acts['player1']]}\")\n",
        "        print(f\"--Action taken by player 2: {original_env.action_dict[acts['player2']]}\")\n",
        "        print()\n",
        "\n",
        "        obs, rews, terms, truncs, infos = original_env.step(acts)\n",
        "        print()"
      ],
      "metadata": {
        "colab": {
          "base_uri": "https://localhost:8080/"
        },
        "id": "ANr_Vc2ouvVJ",
        "outputId": "549c2b8e-468a-40df-99c7-f3a051cfb400",
        "cellView": "form"
      },
      "execution_count": 5,
      "outputs": [
        {
          "output_type": "stream",
          "name": "stdout",
          "text": [
            "Episode #1\n",
            "==========\n",
            "--Days left: 2\n",
            "--Current life of agent 1: 3\n",
            "--Current life of agent 2: 1\n",
            "--Probability of payoff for agent 1: 0.4\n",
            "--Probability of payoff for agent 2: 0.4\n",
            "\n",
            "--Action taken by player 1: wait\n",
            "--Action taken by player 2: wait\n",
            "\n",
            "--Days left: 1\n",
            "--Current life of agent 1: 2\n",
            "--Current life of agent 2: 0\n",
            "--Probability of payoff for agent 1: 0.4\n",
            "--Probability of payoff for agent 2: 0.4\n",
            "--Previous action of agent 1: wait\n",
            "--Previous action of agent 2: wait\n",
            "\n",
            "--Action taken by player 1: play\n",
            "--Action taken by player 2: play\n",
            "\n",
            "--Days left: 0\n",
            "--Current life of agent 1: 3\n",
            "--Current life of agent 2: 0\n",
            "--Probability of payoff for agent 1: 0.4\n",
            "--Probability of payoff for agent 2: 0.4\n",
            "--Previous action of agent 1: play\n",
            "--Previous action of agent 2: play\n",
            "\n",
            "Episode #2\n",
            "==========\n",
            "--Days left: 1\n",
            "--Current life of agent 1: 3\n",
            "--Current life of agent 2: 3\n",
            "--Probability of payoff for agent 1: 0.2\n",
            "--Probability of payoff for agent 2: 0.2\n",
            "\n",
            "--Action taken by player 1: wait\n",
            "--Action taken by player 2: play\n",
            "\n",
            "--Days left: 0\n",
            "--Current life of agent 1: 2\n",
            "--Current life of agent 2: 1\n",
            "--Probability of payoff for agent 1: 0.4\n",
            "--Probability of payoff for agent 2: 0.4\n",
            "--Previous action of agent 1: wait\n",
            "--Previous action of agent 2: play\n",
            "\n"
          ]
        }
      ]
    },
    {
      "cell_type": "markdown",
      "source": [
        "## Heuristics Benchmarking\n"
      ],
      "metadata": {
        "id": "7QKl99aq9q4K"
      }
    },
    {
      "cell_type": "code",
      "source": [
        "#@title Case - both always play\n",
        "episodes = 1000\n",
        "\n",
        "episode_rews = []\n",
        "\n",
        "for _ in range(episodes):\n",
        "\n",
        "    obs = env.reset()\n",
        "    while env.agents:\n",
        "        acts = {\n",
        "            \"player1\": 1,\n",
        "            \"player2\": 1\n",
        "        }\n",
        "\n",
        "        obs, rews, terms, truncs, infos = env.step(acts)\n",
        "        # print(obs, rews)\n",
        "\n",
        "    episode_rews.append([rews['player1'], rews['player2']])\n",
        "\n",
        "arr = np.array(episode_rews)\n",
        "death_rates = np.sum(arr, axis=0) / np.sum(arr, axis=0)[0]\n",
        "print(f\"death rate of player2: {(np.sum(arr, axis=0) / arr.shape[0])[-1] * -1:.3f}\")\n",
        "print(f\"ratio of death rate of player2 with respect to player1: {death_rates[-1]:.3f}\")\n",
        "plt.plot(arr.cumsum(axis=0))\n",
        "plt.legend((\"player1\", \"player2\"))\n",
        "plt.show()"
      ],
      "metadata": {
        "colab": {
          "base_uri": "https://localhost:8080/",
          "height": 466
        },
        "id": "biogmPIWxNv3",
        "outputId": "9825eddf-a725-417f-d85b-9e45fbfe1f14",
        "cellView": "form"
      },
      "execution_count": 6,
      "outputs": [
        {
          "output_type": "stream",
          "name": "stdout",
          "text": [
            "death rate of player2: 0.351\n",
            "ratio of death rate of player2 with respect to player1: 0.900\n"
          ]
        },
        {
          "output_type": "display_data",
          "data": {
            "text/plain": [
              "<Figure size 640x480 with 1 Axes>"
            ],
            "image/png": "[encoded data removed]"
          },
          "metadata": {}
        }
      ]
    },
    {
      "cell_type": "code",
      "source": [
        "#@title Case - both always wait\n",
        "episodes = 1000\n",
        "\n",
        "episode_rews = []\n",
        "\n",
        "for _ in range(episodes):\n",
        "\n",
        "    obs = env.reset()\n",
        "    while env.agents:\n",
        "        acts = {\n",
        "            \"player1\": 0,\n",
        "            \"player2\": 0\n",
        "        }\n",
        "\n",
        "        obs, rews, terms, truncs, infos = env.step(acts)\n",
        "        # print(obs, rews)\n",
        "\n",
        "    episode_rews.append([rews['player1'], rews['player2']])\n",
        "\n",
        "arr = np.array(episode_rews)\n",
        "death_rates = np.sum(arr, axis=0) / np.sum(arr, axis=0)[0]\n",
        "print(f\"death rate of player2: {(np.sum(arr, axis=0) / arr.shape[0])[-1] * -1:.3f}\")\n",
        "print(f\"ratio of death rate of player2 with respect to player1: {death_rates[-1]:.3f}\")\n",
        "plt.plot(arr.cumsum(axis=0))\n",
        "plt.legend((\"player1\", \"player2\"))\n",
        "plt.show()"
      ],
      "metadata": {
        "colab": {
          "base_uri": "https://localhost:8080/",
          "height": 466
        },
        "id": "EpB7M86F3Nmk",
        "outputId": "731d19a7-bce0-40ca-80a4-01b2b0943742",
        "cellView": "form"
      },
      "execution_count": 7,
      "outputs": [
        {
          "output_type": "stream",
          "name": "stdout",
          "text": [
            "death rate of player2: 0.432\n",
            "ratio of death rate of player2 with respect to player1: 0.673\n"
          ]
        },
        {
          "output_type": "display_data",
          "data": {
            "text/plain": [
              "<Figure size 640x480 with 1 Axes>"
            ],
            "image/png": "[encoded data removed]"
          },
          "metadata": {}
        }
      ]
    },
    {
      "cell_type": "code",
      "source": [
        "#@title Case - player1 waits, player2 plays\n",
        "episodes = 1000\n",
        "\n",
        "episode_rews = []\n",
        "\n",
        "for _ in range(episodes):\n",
        "\n",
        "    obs = env.reset()\n",
        "    while env.agents:\n",
        "        acts = {\n",
        "            \"player1\": 0,\n",
        "            \"player2\": 1\n",
        "        }\n",
        "\n",
        "        obs, rews, terms, truncs, infos = env.step(acts)\n",
        "        # print(obs, rews)\n",
        "\n",
        "    episode_rews.append([rews['player1'], rews['player2']])\n",
        "\n",
        "arr = np.array(episode_rews)\n",
        "death_rates = np.sum(arr, axis=0) / np.sum(arr, axis=0)[0]\n",
        "print(f\"death rate of player2: {(np.sum(arr, axis=0) / arr.shape[0])[-1] * -1:.3f}\")\n",
        "print(f\"ratio of death rate of player2 with respect to player1: {death_rates[-1]:.3f}\")\n",
        "plt.plot(arr.cumsum(axis=0))\n",
        "plt.legend((\"player1\", \"player2\"))\n",
        "plt.show()"
      ],
      "metadata": {
        "colab": {
          "base_uri": "https://localhost:8080/",
          "height": 466
        },
        "id": "O2wI3VsI3Tc8",
        "outputId": "65d8f8c0-d166-4f18-ecf0-28d6a9509b64",
        "cellView": "form"
      },
      "execution_count": 8,
      "outputs": [
        {
          "output_type": "stream",
          "name": "stdout",
          "text": [
            "death rate of player2: 0.573\n",
            "ratio of death rate of player2 with respect to player1: 0.894\n"
          ]
        },
        {
          "output_type": "display_data",
          "data": {
            "text/plain": [
              "<Figure size 640x480 with 1 Axes>"
            ],
            "image/png": "[encoded data removed]"
          },
          "metadata": {}
        }
      ]
    },
    {
      "cell_type": "code",
      "source": [
        "#@title Case - player1 plays, player2 waits\n",
        "episodes = 1000\n",
        "\n",
        "episode_rews = []\n",
        "\n",
        "for _ in range(episodes):\n",
        "\n",
        "    obs = env.reset()\n",
        "    while env.agents:\n",
        "        acts = {\n",
        "            \"player1\": 1,\n",
        "            \"player2\": 0\n",
        "        }\n",
        "\n",
        "        obs, rews, terms, truncs, infos = env.step(acts)\n",
        "        # print(obs, rews)\n",
        "\n",
        "    episode_rews.append([rews['player1'], rews['player2']])\n",
        "\n",
        "arr = np.array(episode_rews)\n",
        "death_rates = np.sum(arr, axis=0) / np.sum(arr, axis=0)[0]\n",
        "print(f\"death rate of player2: {(np.sum(arr, axis=0) / arr.shape[0])[-1] * -1:.3f}\")\n",
        "print(f\"ratio of death rate of player2 with respect to player1: {death_rates[-1]:.3f}\")\n",
        "plt.plot(arr.cumsum(axis=0))\n",
        "plt.legend((\"player1\", \"player2\"))\n",
        "plt.show()"
      ],
      "metadata": {
        "colab": {
          "base_uri": "https://localhost:8080/",
          "height": 466
        },
        "id": "9eJWcQqC3Z99",
        "outputId": "28518d2e-7422-456b-d253-9403785545cd",
        "cellView": "form"
      },
      "execution_count": 9,
      "outputs": [
        {
          "output_type": "stream",
          "name": "stdout",
          "text": [
            "death rate of player2: 0.427\n",
            "ratio of death rate of player2 with respect to player1: 0.665\n"
          ]
        },
        {
          "output_type": "display_data",
          "data": {
            "text/plain": [
              "<Figure size 640x480 with 1 Axes>"
            ],
            "image/png": "[encoded data removed]"
          },
          "metadata": {}
        }
      ]
    },
    {
      "cell_type": "code",
      "source": [
        "#@title Case - Always play vs random agent\n",
        "episodes = 1000\n",
        "\n",
        "episode_rews = []\n",
        "\n",
        "for _ in range(episodes):\n",
        "\n",
        "    obs = env.reset()\n",
        "    while env.agents:\n",
        "        acts = {\n",
        "            \"player1\": 1,\n",
        "            \"player2\": np.random.choice([0, 1])\n",
        "        }\n",
        "\n",
        "        obs, rews, terms, truncs, infos = env.step(acts)\n",
        "        # print(obs, rews)\n",
        "\n",
        "    episode_rews.append([rews['player1'], rews['player2']])\n",
        "\n",
        "arr = np.array(episode_rews)\n",
        "death_rates = np.sum(arr, axis=0) / np.sum(arr, axis=0)[0]\n",
        "print(f\"death rate of player2: {(np.sum(arr, axis=0) / arr.shape[0])[-1] * -1:.3f}\")\n",
        "print(f\"ratio of death rate of player2 with respect to player1: {death_rates[-1]:.3f}\")\n",
        "plt.plot(arr.cumsum(axis=0))\n",
        "plt.legend((\"player1\", \"player2\"))\n",
        "plt.show()"
      ],
      "metadata": {
        "colab": {
          "base_uri": "https://localhost:8080/",
          "height": 466
        },
        "id": "FPLlpZUh3i8f",
        "outputId": "7136e485-e582-445b-b82a-d41d116ea37a",
        "cellView": "form"
      },
      "execution_count": 10,
      "outputs": [
        {
          "output_type": "stream",
          "name": "stdout",
          "text": [
            "death rate of player2: 0.368\n",
            "ratio of death rate of player2 with respect to player1: 0.748\n"
          ]
        },
        {
          "output_type": "display_data",
          "data": {
            "text/plain": [
              "<Figure size 640x480 with 1 Axes>"
            ],
            "image/png": "[encoded data removed]"
          },
          "metadata": {}
        }
      ]
    },
    {
      "cell_type": "code",
      "source": [
        "#@title Case - Always wait vs random agent\n",
        "episodes = 1000\n",
        "\n",
        "episode_rews = []\n",
        "\n",
        "for _ in range(episodes):\n",
        "\n",
        "    obs = env.reset()\n",
        "    while env.agents:\n",
        "        acts = {\n",
        "            \"player1\": 0,\n",
        "            \"player2\": np.random.choice([0, 1])\n",
        "        }\n",
        "\n",
        "        obs, rews, terms, truncs, infos = env.step(acts)\n",
        "        # print(obs, rews)\n",
        "\n",
        "    episode_rews.append([rews['player1'], rews['player2']])\n",
        "\n",
        "arr = np.array(episode_rews)\n",
        "death_rates = np.sum(arr, axis=0) / np.sum(arr, axis=0)[0]\n",
        "print(f\"death rate of player2: {(np.sum(arr, axis=0) / arr.shape[0])[-1] * -1:.3f}\")\n",
        "print(f\"ratio of death rate of player2 with respect to player1: {death_rates[-1]:.3f}\")\n",
        "plt.plot(arr.cumsum(axis=0))\n",
        "plt.legend((\"player1\", \"player2\"))\n",
        "plt.show()"
      ],
      "metadata": {
        "colab": {
          "base_uri": "https://localhost:8080/",
          "height": 466
        },
        "id": "A2Ei4LU75us9",
        "outputId": "e7309baa-2cdd-40c9-ee9f-ed0101163802",
        "cellView": "form"
      },
      "execution_count": 11,
      "outputs": [
        {
          "output_type": "stream",
          "name": "stdout",
          "text": [
            "death rate of player2: 0.518\n",
            "ratio of death rate of player2 with respect to player1: 0.817\n"
          ]
        },
        {
          "output_type": "display_data",
          "data": {
            "text/plain": [
              "<Figure size 640x480 with 1 Axes>"
            ],
            "image/png": "[encoded data removed]"
          },
          "metadata": {}
        }
      ]
    },
    {
      "cell_type": "code",
      "source": [
        "#@title Case - Always play vs hail mary\n",
        "episodes = 1000\n",
        "\n",
        "episode_rews = []\n",
        "\n",
        "for _ in range(episodes):\n",
        "\n",
        "    obs = env.reset()\n",
        "    while env.agents:\n",
        "        acts = {\n",
        "            \"player1\": 1,\n",
        "            \"player2\": 1 if obs[\"player2\"][\"observation\"][0, 2] <= 1 else 0\n",
        "        }\n",
        "\n",
        "        obs, rews, terms, truncs, infos = env.step(acts)\n",
        "        # print(obs, rews)\n",
        "\n",
        "    episode_rews.append([rews['player1'], rews['player2']])\n",
        "\n",
        "arr = np.array(episode_rews)\n",
        "death_rates = np.sum(arr, axis=0) / np.sum(arr, axis=0)[0]\n",
        "print(f\"death rate of player2: {(np.sum(arr, axis=0) / arr.shape[0])[-1] * -1:.3f}\")\n",
        "print(f\"ratio of death rate of player2 with respect to player1: {death_rates[-1]:.3f}\")\n",
        "plt.plot(arr.cumsum(axis=0))\n",
        "plt.legend((\"player1\", \"player2\"))\n",
        "plt.show()"
      ],
      "metadata": {
        "colab": {
          "base_uri": "https://localhost:8080/",
          "height": 466
        },
        "id": "onhvByjW51QN",
        "outputId": "5ef5f965-517e-4c1b-fcaf-4d758893c8a2",
        "cellView": "form"
      },
      "execution_count": 12,
      "outputs": [
        {
          "output_type": "stream",
          "name": "stdout",
          "text": [
            "death rate of player2: 0.200\n",
            "ratio of death rate of player2 with respect to player1: 0.361\n"
          ]
        },
        {
          "output_type": "display_data",
          "data": {
            "text/plain": [
              "<Figure size 640x480 with 1 Axes>"
            ],
            "image/png": "[encoded data removed]"
          },
          "metadata": {}
        }
      ]
    },
    {
      "cell_type": "code",
      "source": [
        "#@title Case - Always wait vs hail mary\n",
        "episodes = 1000\n",
        "\n",
        "episode_rews = []\n",
        "\n",
        "for _ in range(episodes):\n",
        "\n",
        "    obs = env.reset()\n",
        "    while env.agents:\n",
        "        acts = {\n",
        "            \"player1\": 0,\n",
        "            \"player2\": 1 if obs[\"player2\"][\"observation\"][0, 2] <= 1 else 0\n",
        "        }\n",
        "\n",
        "        obs, rews, terms, truncs, infos = env.step(acts)\n",
        "        # print(obs, rews)\n",
        "\n",
        "    episode_rews.append([rews['player1'], rews['player2']])\n",
        "\n",
        "arr = np.array(episode_rews)\n",
        "death_rates = np.sum(arr, axis=0) / np.sum(arr, axis=0)[0]\n",
        "print(f\"death rate of player2: {(np.sum(arr, axis=0) / arr.shape[0])[-1] * -1:.3f}\")\n",
        "print(f\"ratio of death rate of player2 with respect to player1: {death_rates[-1]:.3f}\")\n",
        "plt.plot(arr.cumsum(axis=0))\n",
        "plt.legend((\"player1\", \"player2\"))\n",
        "plt.show()"
      ],
      "metadata": {
        "colab": {
          "base_uri": "https://localhost:8080/",
          "height": 466
        },
        "id": "V8KQIrS76GRt",
        "outputId": "026e9e4d-1616-429b-c6b9-76c476d38005",
        "cellView": "form"
      },
      "execution_count": 13,
      "outputs": [
        {
          "output_type": "stream",
          "name": "stdout",
          "text": [
            "death rate of player2: 0.312\n",
            "ratio of death rate of player2 with respect to player1: 0.513\n"
          ]
        },
        {
          "output_type": "display_data",
          "data": {
            "text/plain": [
              "<Figure size 640x480 with 1 Axes>"
            ],
            "image/png": "[encoded data removed]"
          },
          "metadata": {}
        }
      ]
    },
    {
      "cell_type": "code",
      "source": [
        "#@title Load optimal policy\n",
        "\n",
        "def optimal(obs):\n",
        "    df = pd.read_csv(\"models/optimal_policy.csv\")\n",
        "    return df.loc[\n",
        "        (df[\"days_left\"] == obs[\"player1\"][\"observation\"][0][0]) &\n",
        "        (df[\"player1_life_points\"] == obs[\"player1\"][\"observation\"][0][1]) &\n",
        "        (df[\"player2_life_points\"] == obs[\"player1\"][\"observation\"][0][2]) &\n",
        "        (df[\"player1_prob_payoff\"] == obs[\"player1\"][\"observation\"][0][3])\n",
        "    ][\"action\"].values[0] - 1"
      ],
      "metadata": {
        "id": "QBM2c6-kc-AP",
        "cellView": "form"
      },
      "execution_count": 14,
      "outputs": []
    },
    {
      "cell_type": "code",
      "source": [
        "#@title Visualize optimal policy\n",
        "\n",
        "df = pd.read_csv(\"models/optimal_policy.csv\")\n",
        "\n",
        "fig, ((ax1, ax2), (ax3, ax4)) = plt.subplots(2, 2)\n",
        "\n",
        "arr = df.loc[(df[\"days_left\"] == 1) & (df[\"player1_prob_payoff\"] < 0.3), \"action\"].values\n",
        "arr = np.insert(arr, 0, 1, axis=0)\n",
        "\n",
        "ax1.imshow(np.reshape(arr, (4, 4)), cmap='bwr')\n",
        "ax1.set_title(\"Day->1 Env->Bad\")\n",
        "\n",
        "arr = df.loc[(df[\"days_left\"] == 2) & (df[\"player1_prob_payoff\"] < 0.3), \"action\"].values\n",
        "arr = np.insert(arr, 0, 1, axis=0)\n",
        "\n",
        "ax2.imshow(np.reshape(arr, (4, 4)), cmap='bwr')\n",
        "ax2.set_title(\"Day->2 Env->Bad\")\n",
        "\n",
        "arr = df.loc[(df[\"days_left\"] == 1) & (df[\"player1_prob_payoff\"] > 0.3), \"action\"].values\n",
        "arr = np.insert(arr, 0, 1, axis=0)\n",
        "\n",
        "ax3.imshow(np.reshape(arr, (4, 4)), cmap='bwr')\n",
        "ax3.set_title(\"Day->1 Env->Good\")\n",
        "\n",
        "arr = df.loc[(df[\"days_left\"] == 2) & (df[\"player1_prob_payoff\"] > 0.3), \"action\"].values\n",
        "arr = np.insert(arr, 0, 1, axis=0)\n",
        "\n",
        "ax4.imshow(np.reshape(arr, (4, 4)), cmap='bwr')\n",
        "ax4.set_title(\"Day->1 Env->Good\")\n",
        "\n",
        "fig.tight_layout()\n",
        "plt.show()"
      ],
      "metadata": {
        "cellView": "form",
        "id": "xU7SS8kS8hlm",
        "outputId": "d7d882b5-27ed-4ac9-c843-484f2ee56840",
        "colab": {
          "base_uri": "https://localhost:8080/",
          "height": 486
        }
      },
      "execution_count": 15,
      "outputs": [
        {
          "output_type": "display_data",
          "data": {
            "text/plain": [
              "<Figure size 640x480 with 4 Axes>"
            ],
            "image/png": "[encoded data removed]"
          },
          "metadata": {}
        }
      ]
    },
    {
      "cell_type": "code",
      "source": [
        "# fig, ((ax1, ax2), (ax3, ax4)) = plt.subplots(2, 2)\n",
        "# fig.suptitle('Sharing x per column, y per row')\n",
        "# ax1.plot(x, y)\n",
        "# ax2.plot(x, y**2, 'tab:orange')\n",
        "# ax3.plot(x, -y, 'tab:green')\n",
        "# ax4.plot(x, -y**2, 'tab:red')\n",
        "\n",
        "# for ax in fig.get_axes():\n",
        "#     ax.label_outer()"
      ],
      "metadata": {
        "id": "PU-ecPvv8RXK",
        "outputId": "3e039fa8-de8c-4b76-ac8b-6ff5fbad6845",
        "colab": {
          "base_uri": "https://localhost:8080/"
        }
      },
      "execution_count": 16,
      "outputs": [
        {
          "output_type": "stream",
          "name": "stderr",
          "text": [
            "/usr/local/lib/python3.10/dist-packages/ipykernel/ipkernel.py:283: DeprecationWarning: `should_run_async` will not call `transform_cell` automatically in the future. Please pass the result to `transformed_cell` argument and any exception that happen during thetransform in `preprocessing_exc_tuple` in IPython 7.17 and above.\n",
            "  and should_run_async(code)\n"
          ]
        }
      ]
    },
    {
      "cell_type": "code",
      "source": [],
      "metadata": {
        "id": "69tYbwv_8RVC"
      },
      "execution_count": 16,
      "outputs": []
    },
    {
      "cell_type": "code",
      "source": [],
      "metadata": {
        "id": "zKg3OMrm8RTa"
      },
      "execution_count": 16,
      "outputs": []
    },
    {
      "cell_type": "code",
      "source": [],
      "metadata": {
        "id": "QaSF2EkT8RQq"
      },
      "execution_count": 16,
      "outputs": []
    },
    {
      "cell_type": "code",
      "source": [],
      "metadata": {
        "id": "fFw5KQEs8ROK"
      },
      "execution_count": 16,
      "outputs": []
    },
    {
      "cell_type": "code",
      "source": [],
      "metadata": {
        "id": "9MFVHGwm8RMC"
      },
      "execution_count": 16,
      "outputs": []
    },
    {
      "cell_type": "code",
      "source": [
        "#@title Case - hail mary vs optimal\n",
        "episodes = 1000\n",
        "\n",
        "episode_rews = []\n",
        "\n",
        "for _ in range(episodes):\n",
        "\n",
        "    obs = env.reset()\n",
        "    while env.agents:\n",
        "        acts = {\n",
        "            \"player1\": 1 if obs[\"player2\"][\"observation\"][0, 2] <= 1 else 0,\n",
        "            \"player2\": optimal(obs)\n",
        "        }\n",
        "\n",
        "        obs, rews, terms, truncs, infos = env.step(acts)\n",
        "        # print(obs, rews)\n",
        "\n",
        "    episode_rews.append([rews['player1'], rews['player2']])\n",
        "\n",
        "arr = np.array(episode_rews)\n",
        "death_rates = np.sum(arr, axis=0) / np.sum(arr, axis=0)[0]\n",
        "print(f\"death rate of player2: {(np.sum(arr, axis=0) / arr.shape[0])[-1] * -1:.3f}\")\n",
        "print(f\"ratio of death rate of player2 with respect to player1: {death_rates[-1]:.3f}\")\n",
        "plt.plot(arr.cumsum(axis=0))\n",
        "plt.legend((\"player1\", \"player2\"))\n",
        "plt.show()"
      ],
      "metadata": {
        "id": "Rp5rTe78auBy",
        "outputId": "d85b75f7-b065-44ef-aded-efad711e1211",
        "colab": {
          "base_uri": "https://localhost:8080/",
          "height": 466
        },
        "cellView": "form"
      },
      "execution_count": 17,
      "outputs": [
        {
          "output_type": "stream",
          "name": "stdout",
          "text": [
            "death rate of player2: 0.237\n",
            "ratio of death rate of player2 with respect to player1: 0.467\n"
          ]
        },
        {
          "output_type": "display_data",
          "data": {
            "text/plain": [
              "<Figure size 640x480 with 1 Axes>"
            ],
            "image/png": "[encoded data removed]"
          },
          "metadata": {}
        }
      ]
    },
    {
      "cell_type": "code",
      "source": [
        "#@title Case - Always wait vs optimal\n",
        "episodes = 1000\n",
        "\n",
        "episode_rews = []\n",
        "\n",
        "for _ in range(episodes):\n",
        "\n",
        "    obs = env.reset()\n",
        "    while env.agents:\n",
        "        acts = {\n",
        "            \"player1\": 0,\n",
        "            \"player2\": optimal(obs)\n",
        "        }\n",
        "\n",
        "        obs, rews, terms, truncs, infos = env.step(acts)\n",
        "        # print(obs, rews)\n",
        "\n",
        "    episode_rews.append([rews['player1'], rews['player2']])\n",
        "\n",
        "arr = np.array(episode_rews)\n",
        "death_rates = np.sum(arr, axis=0) / np.sum(arr, axis=0)[0]\n",
        "print(f\"death rate of player2: {(np.sum(arr, axis=0) / arr.shape[0])[-1] * -1:.3f}\")\n",
        "print(f\"ratio of death rate of player2 with respect to player1: {death_rates[-1]:.3f}\")\n",
        "plt.plot(arr.cumsum(axis=0))\n",
        "plt.legend((\"player1\", \"player2\"))\n",
        "plt.show()"
      ],
      "metadata": {
        "id": "RL0wZWyMh7l9",
        "outputId": "d543d9b2-4226-4d4c-b4a1-04603419ffc4",
        "colab": {
          "base_uri": "https://localhost:8080/",
          "height": 522
        },
        "cellView": "form"
      },
      "execution_count": 18,
      "outputs": [
        {
          "output_type": "stream",
          "name": "stderr",
          "text": [
            "/usr/local/lib/python3.10/dist-packages/ipykernel/ipkernel.py:283: DeprecationWarning: `should_run_async` will not call `transform_cell` automatically in the future. Please pass the result to `transformed_cell` argument and any exception that happen during thetransform in `preprocessing_exc_tuple` in IPython 7.17 and above.\n",
            "  and should_run_async(code)\n"
          ]
        },
        {
          "output_type": "stream",
          "name": "stdout",
          "text": [
            "death rate of player2: 0.357\n",
            "ratio of death rate of player2 with respect to player1: 0.582\n"
          ]
        },
        {
          "output_type": "display_data",
          "data": {
            "text/plain": [
              "<Figure size 640x480 with 1 Axes>"
            ],
            "image/png": "[encoded data removed]"
          },
          "metadata": {}
        }
      ]
    },
    {
      "cell_type": "code",
      "source": [
        "#@title Case - Always play vs optimal\n",
        "episodes = 1000\n",
        "\n",
        "episode_rews = []\n",
        "\n",
        "for _ in range(episodes):\n",
        "\n",
        "    obs = env.reset()\n",
        "    while env.agents:\n",
        "        acts = {\n",
        "            \"player1\": 1,\n",
        "            \"player2\": optimal(obs)\n",
        "        }\n",
        "\n",
        "        obs, rews, terms, truncs, infos = env.step(acts)\n",
        "        # print(obs, rews)\n",
        "\n",
        "    episode_rews.append([rews['player1'], rews['player2']])\n",
        "\n",
        "arr = np.array(episode_rews)\n",
        "death_rates = np.sum(arr, axis=0) / np.sum(arr, axis=0)[0]\n",
        "print(f\"death rate of player2: {(np.sum(arr, axis=0) / arr.shape[0])[-1] * -1:.3f}\")\n",
        "print(f\"ratio of death rate of player2 with respect to player1: {death_rates[-1]:.3f}\")\n",
        "plt.plot(arr.cumsum(axis=0))\n",
        "plt.legend((\"player1\", \"player2\"))\n",
        "plt.show()"
      ],
      "metadata": {
        "id": "mUTFipKjh8O-",
        "outputId": "f5a0ab28-3570-4ce2-8f04-95fb0e9a4d7b",
        "colab": {
          "base_uri": "https://localhost:8080/",
          "height": 522
        },
        "cellView": "form"
      },
      "execution_count": 19,
      "outputs": [
        {
          "output_type": "stream",
          "name": "stderr",
          "text": [
            "/usr/local/lib/python3.10/dist-packages/ipykernel/ipkernel.py:283: DeprecationWarning: `should_run_async` will not call `transform_cell` automatically in the future. Please pass the result to `transformed_cell` argument and any exception that happen during thetransform in `preprocessing_exc_tuple` in IPython 7.17 and above.\n",
            "  and should_run_async(code)\n"
          ]
        },
        {
          "output_type": "stream",
          "name": "stdout",
          "text": [
            "death rate of player2: 0.199\n",
            "ratio of death rate of player2 with respect to player1: 0.416\n"
          ]
        },
        {
          "output_type": "display_data",
          "data": {
            "text/plain": [
              "<Figure size 640x480 with 1 Axes>"
            ],
            "image/png": "[encoded data removed]"
          },
          "metadata": {}
        }
      ]
    },
    {
      "cell_type": "markdown",
      "source": [
        "## Deep RL training\n"
      ],
      "metadata": {
        "id": "dvS0OTb5-cW2"
      }
    },
    {
      "cell_type": "code",
      "source": [
        "#@title Define heuristic algos in Tianshou\n",
        "## agent that always plays\n",
        "class AlwaysPlay(BasePolicy):\n",
        "    def __init__(self, **kwargs):\n",
        "        self.nolearn = True\n",
        "        super().__init__(**kwargs)\n",
        "    \n",
        "    def forward(self, batch, state = None):\n",
        "        mask = batch.obs.mask\n",
        "        logits = np.zeros(mask.shape)\n",
        "        logits[:, 1] = 1\n",
        "        logits[~mask] = -np.inf\n",
        "        return Batch(act=logits.argmax(axis=-1))\n",
        "\n",
        "    def learn(self, batch):\n",
        "        return {}\n",
        "\n",
        "## agent that always waits\n",
        "class AlwaysWait(BasePolicy):\n",
        "    def __init__(self, **kwargs):\n",
        "        self.nolearn = True\n",
        "        super().__init__(**kwargs)\n",
        "\n",
        "    def forward(self, batch, state = None):\n",
        "        mask = batch.obs.mask\n",
        "        logits = np.zeros(mask.shape)\n",
        "        logits[:, 0] = 1\n",
        "        logits[~mask] = -np.inf\n",
        "        return Batch(act=logits.argmax(axis=-1))\n",
        "\n",
        "    def learn(self, batch):\n",
        "        return {}\n",
        "\n",
        "## agent that waits for low health to play\n",
        "class HailMary(BasePolicy):\n",
        "    def __init__(self, **kwargs):\n",
        "        self.nolearn = True\n",
        "        super().__init__(**kwargs)\n",
        "\n",
        "    def forward(self, batch, state = None):\n",
        "        mask = batch.obs.mask\n",
        "        logits = np.zeros(mask.shape)\n",
        "        obs = batch.obs.obs\n",
        "\n",
        "        for i in range(mask.shape[0]):\n",
        "            if obs[i, :, 1] <= 1:\n",
        "                logits[i, 1] = 1\n",
        "            else:\n",
        "                logits[i, 0] = 1\n",
        "        logits[~mask] = -np.inf\n",
        "        return Batch(act=logits.argmax(axis=-1))\n",
        "\n",
        "    def learn(self, batch):\n",
        "        return {}\n",
        "\n",
        "## optimal agent \n",
        "class OptimalPolicy(BasePolicy):\n",
        "    def __init__(self, **kwargs):\n",
        "        self.nolearn = True\n",
        "        super().__init__(**kwargs)\n",
        "\n",
        "    def forward(self, batch, state = None):\n",
        "        mask = batch.obs.mask\n",
        "        logits = np.zeros(mask.shape)\n",
        "        obs = batch.obs.obs\n",
        "\n",
        "        df = pd.read_csv(\"models/optimal_policy.csv\")\n",
        "\n",
        "        for i in range(mask.shape[0]):\n",
        "            action = df.loc[\n",
        "                (df[\"days_left\"] == obs[i, :, 0][0]) &\n",
        "                (df[\"player1_life_points\"] == obs[i, :, 1][0]) &\n",
        "                (df[\"player2_life_points\"] == obs[i, :, 2][0]) &\n",
        "                (df[\"player1_prob_payoff\"] == obs[i, :, 3][0])\n",
        "            ][\"action\"].values[0] - 1\n",
        "            if action:\n",
        "                logits[i, 1] = 1\n",
        "            else:\n",
        "                logits[i, 0] = 1\n",
        "        logits[~mask] = -np.inf\n",
        "        return Batch(act=logits.argmax(axis=-1))\n",
        "\n",
        "    def learn(self, batch):\n",
        "        return {}\n",
        "\n",
        "## random agent\n",
        "class RandomAgent(BasePolicy):\n",
        "    def __init__(self, **kwargs):\n",
        "        self.nolearn = True\n",
        "        super().__init__(**kwargs)\n",
        "\n",
        "    def forward(self, batch, state = None):\n",
        "        mask = batch.obs.mask\n",
        "        logits = np.zeros(mask.shape)\n",
        "        logits[:, np.random.choice([0, 1])] = 1\n",
        "        logits[~mask] = -np.inf\n",
        "        return Batch(act=logits.argmax(axis=-1))\n",
        "\n",
        "    def learn(self, batch):\n",
        "        return {}"
      ],
      "metadata": {
        "id": "n5nzTky1bTJk",
        "cellView": "form",
        "colab": {
          "base_uri": "https://localhost:8080/"
        },
        "outputId": "22d3380a-cba5-4a25-adce-28ebd66a5f8c"
      },
      "execution_count": 20,
      "outputs": [
        {
          "output_type": "stream",
          "name": "stderr",
          "text": [
            "/usr/local/lib/python3.10/dist-packages/ipykernel/ipkernel.py:283: DeprecationWarning: `should_run_async` will not call `transform_cell` automatically in the future. Please pass the result to `transformed_cell` argument and any exception that happen during thetransform in `preprocessing_exc_tuple` in IPython 7.17 and above.\n",
            "  and should_run_async(code)\n"
          ]
        }
      ]
    },
    {
      "cell_type": "code",
      "source": [
        "#@title Prerequisites for training\n",
        "# Step 2: Wrap the environment for Tianshou interfacing\n",
        "def _get_env():\n",
        "    env = HomMul()\n",
        "    vec_env = parallel_to_aec(env)\n",
        "    return PettingZooEnv(vec_env)\n",
        "\n",
        "# seed\n",
        "seed = 42\n",
        "np.random.seed(seed)\n",
        "torch.manual_seed(seed)\n",
        "\n",
        "env = HomMul()\n",
        "agents =  env.agents[:]\n",
        "\n",
        "# Step 3: Define policies for each agent\n",
        "## learning agent\n",
        "def _get_agent(pretrained=False):\n",
        "    vec_env = _get_env()\n",
        "    net = Net(\n",
        "        state_shape=vec_env.observation_space.shape,\n",
        "        action_shape=vec_env.action_space.n,\n",
        "        hidden_sizes=[128, 128],\n",
        "        device=\"cuda\",\n",
        "    ).to(\"cuda\")\n",
        "    optim = Adam(net.parameters(), lr=1e-4)\n",
        "    model = DQNPolicy(\n",
        "        model=net,\n",
        "        optim=optim,\n",
        "        discount_factor=0.9,\n",
        "        estimation_step=3,\n",
        "        target_update_freq=50,\n",
        "    )\n",
        "\n",
        "    if pretrained:\n",
        "        model_save_path = os.path.join(\"models\", \"vs_hail_mary.pth\")\n",
        "        model.load_state_dict(torch.load(model_save_path))\n",
        "    return model\n",
        "\n",
        "agent_learn1 = _get_agent(pretrained=True)\n",
        "agent_learn2 = _get_agent(pretrained=True)\n",
        "\n",
        "policy = MultiAgentPolicyManager([agent_learn1, agent_learn2],  _get_env())\n",
        "\n",
        "train_envs = DummyVectorEnv([_get_env for _ in range(5)])\n",
        "test_envs = DummyVectorEnv([_get_env for _ in range(2)])\n",
        "train_envs.seed(seed)\n",
        "test_envs.seed(seed)\n",
        "\n",
        "# Step 4: Collector setup\n",
        "train_collector = Collector(\n",
        "    policy,\n",
        "    train_envs,\n",
        "    VectorReplayBuffer(20_000, len(train_envs)),\n",
        "    exploration_noise=True,\n",
        ")\n",
        "test_collector = Collector(policy, test_envs, exploration_noise=True)\n",
        "\n",
        "train_collector.collect(n_step=50)\n",
        "\n",
        "def save_best_fn(policy):\n",
        "    model_save_path1 = os.path.join(\"log\", \"hommul\", \"dqn\", \"policy1.pth\")\n",
        "    model_save_path2 = os.path.join(\"log\", \"hommul\", \"dqn\", \"policy2.pth\")\n",
        "    os.makedirs(os.path.join(\"log\", \"hommul\", \"dqn\"), exist_ok=True)\n",
        "    if not hasattr(policy.policies[agents[0]], 'nolearn'):\n",
        "        torch.save(policy.policies[agents[0]].state_dict(), model_save_path1)\n",
        "    if not hasattr(policy.policies[agents[1]], 'nolearn'):\n",
        "        torch.save(policy.policies[agents[1]].state_dict(), model_save_path2)\n",
        "\n",
        "def stop_fn(mean_rewards):\n",
        "    return mean_rewards >= 10\n",
        "\n",
        "def train_fn(epoch, env_step):\n",
        "    # freeze training for player1\n",
        "    if not hasattr(policy.policies[agents[0]], 'nolearn'):\n",
        "        policy.policies[agents[0]].set_eps(0.05)\n",
        "\n",
        "    if not hasattr(policy.policies[agents[1]], 'nolearn'):\n",
        "        policy.policies[agents[1]].set_eps(0.1)\n",
        "\n",
        "def test_fn(epoch, env_step):\n",
        "    if not hasattr(policy.policies[agents[0]], 'nolearn'):\n",
        "        policy.policies[agents[0]].set_eps(0.05)\n",
        "\n",
        "    if not hasattr(policy.policies[agents[1]], 'nolearn'):\n",
        "        policy.policies[agents[1]].set_eps(0.05)\n",
        "\n",
        "def reward_metric(rews):\n",
        "    return rews[:, 1]"
      ],
      "metadata": {
        "id": "Z-AOFEZAcNGV",
        "cellView": "form"
      },
      "execution_count": 21,
      "outputs": []
    },
    {
      "cell_type": "code",
      "source": [
        "#@title Clear logs and setup TensorBoard\n",
        "!rm -rf /content/HomMul/log\n",
        "\n",
        "log_path = os.path.join(\"log\", \"hommul\", \"dqn\")\n",
        "writer = SummaryWriter(log_path)\n",
        "logger = TensorboardLogger(writer)"
      ],
      "metadata": {
        "id": "t_dRm6ZTdV2v",
        "cellView": "form",
        "outputId": "42c4e71f-7553-4303-d5a4-a9cb09331419",
        "colab": {
          "base_uri": "https://localhost:8080/"
        }
      },
      "execution_count": 22,
      "outputs": [
        {
          "output_type": "stream",
          "name": "stderr",
          "text": [
            "/usr/local/lib/python3.10/dist-packages/ipykernel/ipkernel.py:283: DeprecationWarning: `should_run_async` will not call `transform_cell` automatically in the future. Please pass the result to `transformed_cell` argument and any exception that happen during thetransform in `preprocessing_exc_tuple` in IPython 7.17 and above.\n",
            "  and should_run_async(code)\n"
          ]
        }
      ]
    },
    {
      "cell_type": "code",
      "source": [
        "#@title Training\n",
        "# Step 5: Run trainer\n",
        "result = offpolicy_trainer(\n",
        "    policy=policy,\n",
        "    train_collector=train_collector,\n",
        "    test_collector=test_collector,\n",
        "    max_epoch=100,\n",
        "    step_per_epoch=1000,\n",
        "    step_per_collect=50,\n",
        "    episode_per_test=100,\n",
        "    batch_size=64,\n",
        "    train_fn=train_fn,\n",
        "    test_fn=test_fn,\n",
        "    stop_fn=stop_fn,\n",
        "    save_best_fn=save_best_fn,\n",
        "    update_per_step=0.1,\n",
        "    test_in_train=False,\n",
        "    reward_metric=reward_metric,\n",
        "    logger=logger\n",
        ")\n",
        "result"
      ],
      "metadata": {
        "colab": {
          "base_uri": "https://localhost:8080/"
        },
        "id": "69UICm9_dwdD",
        "outputId": "941f390a-0c15-474e-88c7-b36e3ac2d67f",
        "cellView": "form"
      },
      "execution_count": 23,
      "outputs": [
        {
          "output_type": "stream",
          "name": "stderr",
          "text": [
            "Epoch #1: 1001it [00:02, 369.39it/s, env_step=1000, len=3, n/ep=15, n/st=50, player1/loss=0.195, player2/loss=0.172, rew=-0.60]                          \n"
          ]
        },
        {
          "output_type": "stream",
          "name": "stdout",
          "text": [
            "Epoch #1: test_reward: -0.460000 ± 0.498397, best_reward: -0.220000 ± 0.414246 in #0\n"
          ]
        },
        {
          "output_type": "stream",
          "name": "stderr",
          "text": [
            "Epoch #2: 1001it [00:01, 733.62it/s, env_step=2000, len=2, n/ep=20, n/st=50, player1/loss=0.144, player2/loss=0.141, rew=-0.25]                          \n"
          ]
        },
        {
          "output_type": "stream",
          "name": "stdout",
          "text": [
            "Epoch #2: test_reward: -0.250000 ± 0.433013, best_reward: -0.220000 ± 0.414246 in #0\n"
          ]
        },
        {
          "output_type": "stream",
          "name": "stderr",
          "text": [
            "Epoch #3: 1001it [00:01, 737.15it/s, env_step=3000, len=3, n/ep=16, n/st=50, player1/loss=0.115, player2/loss=0.153, rew=-0.25]                          \n"
          ]
        },
        {
          "output_type": "stream",
          "name": "stdout",
          "text": [
            "Epoch #3: test_reward: -0.290000 ± 0.453762, best_reward: -0.220000 ± 0.414246 in #0\n"
          ]
        },
        {
          "output_type": "stream",
          "name": "stderr",
          "text": [
            "Epoch #4: 1001it [00:01, 734.01it/s, env_step=4000, len=3, n/ep=16, n/st=50, player1/loss=0.120, player2/loss=0.184, rew=-0.12]                          \n"
          ]
        },
        {
          "output_type": "stream",
          "name": "stdout",
          "text": [
            "Epoch #4: test_reward: -0.310000 ± 0.462493, best_reward: -0.220000 ± 0.414246 in #0\n"
          ]
        },
        {
          "output_type": "stream",
          "name": "stderr",
          "text": [
            "Epoch #5: 1001it [00:01, 546.17it/s, env_step=5000, len=2, n/ep=18, n/st=50, player1/loss=0.136, player2/loss=0.234, rew=-0.28]                          \n"
          ]
        },
        {
          "output_type": "stream",
          "name": "stdout",
          "text": [
            "Epoch #5: test_reward: -0.360000 ± 0.480000, best_reward: -0.220000 ± 0.414246 in #0\n"
          ]
        },
        {
          "output_type": "stream",
          "name": "stderr",
          "text": [
            "Epoch #6: 1001it [00:01, 649.15it/s, env_step=6000, len=2, n/ep=18, n/st=50, player1/loss=0.162, player2/loss=0.268, rew=-0.56]                          \n"
          ]
        },
        {
          "output_type": "stream",
          "name": "stdout",
          "text": [
            "Epoch #6: test_reward: -0.280000 ± 0.448999, best_reward: -0.220000 ± 0.414246 in #0\n"
          ]
        },
        {
          "output_type": "stream",
          "name": "stderr",
          "text": [
            "Epoch #7: 1001it [00:01, 755.85it/s, env_step=7000, len=3, n/ep=15, n/st=50, player1/loss=0.181, player2/loss=0.327, rew=-0.33]                          \n"
          ]
        },
        {
          "output_type": "stream",
          "name": "stdout",
          "text": [
            "Epoch #7: test_reward: -0.290000 ± 0.453762, best_reward: -0.220000 ± 0.414246 in #0\n"
          ]
        },
        {
          "output_type": "stream",
          "name": "stderr",
          "text": [
            "Epoch #8: 1001it [00:01, 722.88it/s, env_step=8000, len=3, n/ep=15, n/st=50, player1/loss=0.188, player2/loss=0.329, rew=-0.27]                          \n"
          ]
        },
        {
          "output_type": "stream",
          "name": "stdout",
          "text": [
            "Epoch #8: test_reward: -0.330000 ± 0.470213, best_reward: -0.220000 ± 0.414246 in #0\n"
          ]
        },
        {
          "output_type": "stream",
          "name": "stderr",
          "text": [
            "Epoch #9: 1001it [00:01, 739.09it/s, env_step=9000, len=2, n/ep=20, n/st=50, player1/loss=0.205, player2/loss=0.399, rew=-0.25]                          \n"
          ]
        },
        {
          "output_type": "stream",
          "name": "stdout",
          "text": [
            "Epoch #9: test_reward: -0.240000 ± 0.427083, best_reward: -0.220000 ± 0.414246 in #0\n"
          ]
        },
        {
          "output_type": "stream",
          "name": "stderr",
          "text": [
            "Epoch #10: 1001it [00:01, 742.13it/s, env_step=10000, len=2, n/ep=17, n/st=50, player1/loss=0.231, player2/loss=0.412, rew=-0.12]                          \n"
          ]
        },
        {
          "output_type": "stream",
          "name": "stdout",
          "text": [
            "Epoch #10: test_reward: -0.300000 ± 0.458258, best_reward: -0.220000 ± 0.414246 in #0\n"
          ]
        },
        {
          "output_type": "stream",
          "name": "stderr",
          "text": [
            "Epoch #11: 1001it [00:01, 730.54it/s, env_step=11000, len=3, n/ep=16, n/st=50, player1/loss=0.251, player2/loss=0.400, rew=-0.50]                          \n"
          ]
        },
        {
          "output_type": "stream",
          "name": "stdout",
          "text": [
            "Epoch #11: test_reward: -0.310000 ± 0.462493, best_reward: -0.220000 ± 0.414246 in #0\n"
          ]
        },
        {
          "output_type": "stream",
          "name": "stderr",
          "text": [
            "Epoch #12: 1001it [00:01, 681.45it/s, env_step=12000, len=2, n/ep=18, n/st=50, player1/loss=0.257, player2/loss=0.404, rew=-0.33]                          \n"
          ]
        },
        {
          "output_type": "stream",
          "name": "stdout",
          "text": [
            "Epoch #12: test_reward: -0.190000 ± 0.392301, best_reward: -0.190000 ± 0.392301 in #12\n"
          ]
        },
        {
          "output_type": "stream",
          "name": "stderr",
          "text": [
            "Epoch #13: 1001it [00:01, 547.14it/s, env_step=13000, len=3, n/ep=16, n/st=50, player1/loss=0.255, player2/loss=0.410, rew=-0.38]                          \n"
          ]
        },
        {
          "output_type": "stream",
          "name": "stdout",
          "text": [
            "Epoch #13: test_reward: -0.280000 ± 0.448999, best_reward: -0.190000 ± 0.392301 in #12\n"
          ]
        },
        {
          "output_type": "stream",
          "name": "stderr",
          "text": [
            "Epoch #14: 1001it [00:01, 753.83it/s, env_step=14000, len=3, n/ep=17, n/st=50, player1/loss=0.272, player2/loss=0.444, rew=-0.35]                          \n"
          ]
        },
        {
          "output_type": "stream",
          "name": "stdout",
          "text": [
            "Epoch #14: test_reward: -0.260000 ± 0.438634, best_reward: -0.190000 ± 0.392301 in #12\n"
          ]
        },
        {
          "output_type": "stream",
          "name": "stderr",
          "text": [
            "Epoch #15: 1001it [00:01, 737.90it/s, env_step=15000, len=2, n/ep=17, n/st=50, player1/loss=0.290, player2/loss=0.456, rew=-0.18]                          \n"
          ]
        },
        {
          "output_type": "stream",
          "name": "stdout",
          "text": [
            "Epoch #15: test_reward: -0.260000 ± 0.438634, best_reward: -0.190000 ± 0.392301 in #12\n"
          ]
        },
        {
          "output_type": "stream",
          "name": "stderr",
          "text": [
            "Epoch #16: 1001it [00:01, 751.05it/s, env_step=16000, len=2, n/ep=17, n/st=50, player1/loss=0.275, player2/loss=0.457, rew=-0.24]                          \n"
          ]
        },
        {
          "output_type": "stream",
          "name": "stdout",
          "text": [
            "Epoch #16: test_reward: -0.290000 ± 0.453762, best_reward: -0.190000 ± 0.392301 in #12\n"
          ]
        },
        {
          "output_type": "stream",
          "name": "stderr",
          "text": [
            "Epoch #17: 1001it [00:01, 715.63it/s, env_step=17000, len=3, n/ep=16, n/st=50, player1/loss=0.298, player2/loss=0.450, rew=-0.25]                          \n"
          ]
        },
        {
          "output_type": "stream",
          "name": "stdout",
          "text": [
            "Epoch #17: test_reward: -0.300000 ± 0.458258, best_reward: -0.190000 ± 0.392301 in #12\n"
          ]
        },
        {
          "output_type": "stream",
          "name": "stderr",
          "text": [
            "Epoch #18: 1001it [00:01, 772.52it/s, env_step=18000, len=3, n/ep=17, n/st=50, player1/loss=0.289, player2/loss=0.469, rew=-0.29]                          \n"
          ]
        },
        {
          "output_type": "stream",
          "name": "stdout",
          "text": [
            "Epoch #18: test_reward: -0.300000 ± 0.458258, best_reward: -0.190000 ± 0.392301 in #12\n"
          ]
        },
        {
          "output_type": "stream",
          "name": "stderr",
          "text": [
            "Epoch #19: 1001it [00:01, 756.87it/s, env_step=19000, len=2, n/ep=17, n/st=50, player1/loss=0.323, player2/loss=0.458, rew=-0.29]                          \n"
          ]
        },
        {
          "output_type": "stream",
          "name": "stdout",
          "text": [
            "Epoch #19: test_reward: -0.290000 ± 0.453762, best_reward: -0.190000 ± 0.392301 in #12\n"
          ]
        },
        {
          "output_type": "stream",
          "name": "stderr",
          "text": [
            "Epoch #20: 1001it [00:01, 581.29it/s, env_step=20000, len=2, n/ep=18, n/st=50, player1/loss=0.319, player2/loss=0.476, rew=-0.44]                          \n"
          ]
        },
        {
          "output_type": "stream",
          "name": "stdout",
          "text": [
            "Epoch #20: test_reward: -0.200000 ± 0.400000, best_reward: -0.190000 ± 0.392301 in #12\n"
          ]
        },
        {
          "output_type": "stream",
          "name": "stderr",
          "text": [
            "Epoch #21: 1001it [00:01, 585.79it/s, env_step=21000, len=2, n/ep=18, n/st=50, player1/loss=0.331, player2/loss=0.449, rew=-0.17]                          \n"
          ]
        },
        {
          "output_type": "stream",
          "name": "stdout",
          "text": [
            "Epoch #21: test_reward: -0.280000 ± 0.448999, best_reward: -0.190000 ± 0.392301 in #12\n"
          ]
        },
        {
          "output_type": "stream",
          "name": "stderr",
          "text": [
            "Epoch #22: 1001it [00:01, 764.93it/s, env_step=22000, len=3, n/ep=17, n/st=50, player1/loss=0.328, player2/loss=0.480, rew=-0.24]                          \n"
          ]
        },
        {
          "output_type": "stream",
          "name": "stdout",
          "text": [
            "Epoch #22: test_reward: -0.200000 ± 0.400000, best_reward: -0.190000 ± 0.392301 in #12\n"
          ]
        },
        {
          "output_type": "stream",
          "name": "stderr",
          "text": [
            "Epoch #23: 1001it [00:01, 739.14it/s, env_step=23000, len=3, n/ep=16, n/st=50, player1/loss=0.357, player2/loss=0.485, rew=-0.25]                          \n"
          ]
        },
        {
          "output_type": "stream",
          "name": "stdout",
          "text": [
            "Epoch #23: test_reward: -0.230000 ± 0.420833, best_reward: -0.190000 ± 0.392301 in #12\n"
          ]
        },
        {
          "output_type": "stream",
          "name": "stderr",
          "text": [
            "Epoch #24: 1001it [00:01, 734.84it/s, env_step=24000, len=2, n/ep=17, n/st=50, player1/loss=0.364, player2/loss=0.483, rew=-0.24]                          \n"
          ]
        },
        {
          "output_type": "stream",
          "name": "stdout",
          "text": [
            "Epoch #24: test_reward: -0.250000 ± 0.433013, best_reward: -0.190000 ± 0.392301 in #12\n"
          ]
        },
        {
          "output_type": "stream",
          "name": "stderr",
          "text": [
            "Epoch #25: 1001it [00:01, 759.66it/s, env_step=25000, len=2, n/ep=18, n/st=50, player1/loss=0.371, player2/loss=0.494, rew=-0.33]                          \n"
          ]
        },
        {
          "output_type": "stream",
          "name": "stdout",
          "text": [
            "Epoch #25: test_reward: -0.270000 ± 0.443959, best_reward: -0.190000 ± 0.392301 in #12\n"
          ]
        },
        {
          "output_type": "stream",
          "name": "stderr",
          "text": [
            "Epoch #26: 1001it [00:01, 739.02it/s, env_step=26000, len=2, n/ep=18, n/st=50, player1/loss=0.348, player2/loss=0.497, rew=-0.22]                          \n"
          ]
        },
        {
          "output_type": "stream",
          "name": "stdout",
          "text": [
            "Epoch #26: test_reward: -0.300000 ± 0.458258, best_reward: -0.190000 ± 0.392301 in #12\n"
          ]
        },
        {
          "output_type": "stream",
          "name": "stderr",
          "text": [
            "Epoch #27: 1001it [00:01, 654.04it/s, env_step=27000, len=2, n/ep=19, n/st=50, player1/loss=0.385, player2/loss=0.525, rew=-0.32]                          \n"
          ]
        },
        {
          "output_type": "stream",
          "name": "stdout",
          "text": [
            "Epoch #27: test_reward: -0.240000 ± 0.427083, best_reward: -0.190000 ± 0.392301 in #12\n"
          ]
        },
        {
          "output_type": "stream",
          "name": "stderr",
          "text": [
            "Epoch #28: 1001it [00:01, 530.52it/s, env_step=28000, len=2, n/ep=19, n/st=50, player1/loss=0.386, player2/loss=0.519, rew=-0.26]                          \n"
          ]
        },
        {
          "output_type": "stream",
          "name": "stdout",
          "text": [
            "Epoch #28: test_reward: -0.310000 ± 0.462493, best_reward: -0.190000 ± 0.392301 in #12\n"
          ]
        },
        {
          "output_type": "stream",
          "name": "stderr",
          "text": [
            "Epoch #29: 1001it [00:01, 712.25it/s, env_step=29000, len=3, n/ep=17, n/st=50, player1/loss=0.393, player2/loss=0.490, rew=-0.24]                          \n"
          ]
        },
        {
          "output_type": "stream",
          "name": "stdout",
          "text": [
            "Epoch #29: test_reward: -0.280000 ± 0.448999, best_reward: -0.190000 ± 0.392301 in #12\n"
          ]
        },
        {
          "output_type": "stream",
          "name": "stderr",
          "text": [
            "Epoch #30: 1001it [00:01, 741.97it/s, env_step=30000, len=3, n/ep=15, n/st=50, player1/loss=0.379, player2/loss=0.501, rew=-0.13]                          \n"
          ]
        },
        {
          "output_type": "stream",
          "name": "stdout",
          "text": [
            "Epoch #30: test_reward: -0.200000 ± 0.400000, best_reward: -0.190000 ± 0.392301 in #12\n"
          ]
        },
        {
          "output_type": "stream",
          "name": "stderr",
          "text": [
            "Epoch #31: 1001it [00:01, 699.45it/s, env_step=31000, len=2, n/ep=18, n/st=50, player1/loss=0.375, player2/loss=0.525, rew=-0.44]                          \n"
          ]
        },
        {
          "output_type": "stream",
          "name": "stdout",
          "text": [
            "Epoch #31: test_reward: -0.350000 ± 0.476970, best_reward: -0.190000 ± 0.392301 in #12\n"
          ]
        },
        {
          "output_type": "stream",
          "name": "stderr",
          "text": [
            "Epoch #32: 1001it [00:01, 745.68it/s, env_step=32000, len=2, n/ep=17, n/st=50, player1/loss=0.380, player2/loss=0.480, rew=-0.18]                          \n"
          ]
        },
        {
          "output_type": "stream",
          "name": "stdout",
          "text": [
            "Epoch #32: test_reward: -0.320000 ± 0.466476, best_reward: -0.190000 ± 0.392301 in #12\n"
          ]
        },
        {
          "output_type": "stream",
          "name": "stderr",
          "text": [
            "Epoch #33: 1001it [00:01, 732.09it/s, env_step=33000, len=2, n/ep=18, n/st=50, player1/loss=0.369, player2/loss=0.492, rew=-0.50]                          \n"
          ]
        },
        {
          "output_type": "stream",
          "name": "stdout",
          "text": [
            "Epoch #33: test_reward: -0.250000 ± 0.433013, best_reward: -0.190000 ± 0.392301 in #12\n"
          ]
        },
        {
          "output_type": "stream",
          "name": "stderr",
          "text": [
            "Epoch #34: 1001it [00:01, 738.20it/s, env_step=34000, len=2, n/ep=19, n/st=50, player1/loss=0.395, player2/loss=0.524, rew=-0.26]                          \n"
          ]
        },
        {
          "output_type": "stream",
          "name": "stdout",
          "text": [
            "Epoch #34: test_reward: -0.230000 ± 0.420833, best_reward: -0.190000 ± 0.392301 in #12\n"
          ]
        },
        {
          "output_type": "stream",
          "name": "stderr",
          "text": [
            "Epoch #35: 1001it [00:01, 564.44it/s, env_step=35000, len=3, n/ep=18, n/st=50, player1/loss=0.399, player2/loss=0.529, rew=-0.39]                          \n"
          ]
        },
        {
          "output_type": "stream",
          "name": "stdout",
          "text": [
            "Epoch #35: test_reward: -0.220000 ± 0.414246, best_reward: -0.190000 ± 0.392301 in #12\n"
          ]
        },
        {
          "output_type": "stream",
          "name": "stderr",
          "text": [
            "Epoch #36: 1001it [00:01, 606.25it/s, env_step=36000, len=3, n/ep=16, n/st=50, player1/loss=0.406, player2/loss=0.525, rew=-0.31]                          \n"
          ]
        },
        {
          "output_type": "stream",
          "name": "stdout",
          "text": [
            "Epoch #36: test_reward: -0.340000 ± 0.473709, best_reward: -0.190000 ± 0.392301 in #12\n"
          ]
        },
        {
          "output_type": "stream",
          "name": "stderr",
          "text": [
            "Epoch #37: 1001it [00:01, 735.06it/s, env_step=37000, len=2, n/ep=17, n/st=50, player1/loss=0.397, player2/loss=0.547, rew=-0.24]                          \n"
          ]
        },
        {
          "output_type": "stream",
          "name": "stdout",
          "text": [
            "Epoch #37: test_reward: -0.290000 ± 0.453762, best_reward: -0.190000 ± 0.392301 in #12\n"
          ]
        },
        {
          "output_type": "stream",
          "name": "stderr",
          "text": [
            "Epoch #38: 1001it [00:01, 765.34it/s, env_step=38000, len=3, n/ep=17, n/st=50, player1/loss=0.392, player2/loss=0.537, rew=-0.24]                          \n"
          ]
        },
        {
          "output_type": "stream",
          "name": "stdout",
          "text": [
            "Epoch #38: test_reward: -0.270000 ± 0.443959, best_reward: -0.190000 ± 0.392301 in #12\n"
          ]
        },
        {
          "output_type": "stream",
          "name": "stderr",
          "text": [
            "Epoch #39: 1001it [00:01, 730.25it/s, env_step=39000, len=2, n/ep=20, n/st=50, player1/loss=0.418, player2/loss=0.531, rew=-0.50]                          \n"
          ]
        },
        {
          "output_type": "stream",
          "name": "stdout",
          "text": [
            "Epoch #39: test_reward: -0.210000 ± 0.407308, best_reward: -0.190000 ± 0.392301 in #12\n"
          ]
        },
        {
          "output_type": "stream",
          "name": "stderr",
          "text": [
            "Epoch #40: 1001it [00:01, 749.43it/s, env_step=40000, len=2, n/ep=19, n/st=50, player1/loss=0.406, player2/loss=0.566, rew=-0.21]                          \n"
          ]
        },
        {
          "output_type": "stream",
          "name": "stdout",
          "text": [
            "Epoch #40: test_reward: -0.320000 ± 0.466476, best_reward: -0.190000 ± 0.392301 in #12\n"
          ]
        },
        {
          "output_type": "stream",
          "name": "stderr",
          "text": [
            "Epoch #41: 1001it [00:01, 749.70it/s, env_step=41000, len=2, n/ep=17, n/st=50, player1/loss=0.426, player2/loss=0.541, rew=-0.12]                          \n"
          ]
        },
        {
          "output_type": "stream",
          "name": "stdout",
          "text": [
            "Epoch #41: test_reward: -0.270000 ± 0.443959, best_reward: -0.190000 ± 0.392301 in #12\n"
          ]
        },
        {
          "output_type": "stream",
          "name": "stderr",
          "text": [
            "Epoch #42: 1001it [00:01, 696.82it/s, env_step=42000, len=3, n/ep=18, n/st=50, player1/loss=0.440, player2/loss=0.544, rew=-0.17]                          \n"
          ]
        },
        {
          "output_type": "stream",
          "name": "stdout",
          "text": [
            "Epoch #42: test_reward: -0.300000 ± 0.458258, best_reward: -0.190000 ± 0.392301 in #12\n"
          ]
        },
        {
          "output_type": "stream",
          "name": "stderr",
          "text": [
            "Epoch #43: 1001it [00:02, 455.80it/s, env_step=43000, len=3, n/ep=18, n/st=50, player1/loss=0.447, player2/loss=0.561, rew=-0.39]                          \n"
          ]
        },
        {
          "output_type": "stream",
          "name": "stdout",
          "text": [
            "Epoch #43: test_reward: -0.220000 ± 0.414246, best_reward: -0.190000 ± 0.392301 in #12\n"
          ]
        },
        {
          "output_type": "stream",
          "name": "stderr",
          "text": [
            "Epoch #44: 1001it [00:01, 703.74it/s, env_step=44000, len=3, n/ep=18, n/st=50, player1/loss=0.438, player2/loss=0.607, rew=-0.28]                          \n"
          ]
        },
        {
          "output_type": "stream",
          "name": "stdout",
          "text": [
            "Epoch #44: test_reward: -0.270000 ± 0.443959, best_reward: -0.190000 ± 0.392301 in #12\n"
          ]
        },
        {
          "output_type": "stream",
          "name": "stderr",
          "text": [
            "Epoch #45: 1001it [00:01, 733.15it/s, env_step=45000, len=2, n/ep=19, n/st=50, player1/loss=0.424, player2/loss=0.604, rew=-0.47]                          \n"
          ]
        },
        {
          "output_type": "stream",
          "name": "stdout",
          "text": [
            "Epoch #45: test_reward: -0.270000 ± 0.443959, best_reward: -0.190000 ± 0.392301 in #12\n"
          ]
        },
        {
          "output_type": "stream",
          "name": "stderr",
          "text": [
            "Epoch #46: 1001it [00:01, 721.52it/s, env_step=46000, len=2, n/ep=18, n/st=50, player1/loss=0.443, player2/loss=0.555, rew=-0.17]                          \n"
          ]
        },
        {
          "output_type": "stream",
          "name": "stdout",
          "text": [
            "Epoch #46: test_reward: -0.230000 ± 0.420833, best_reward: -0.190000 ± 0.392301 in #12\n"
          ]
        },
        {
          "output_type": "stream",
          "name": "stderr",
          "text": [
            "Epoch #47: 1001it [00:01, 570.50it/s, env_step=47000, len=3, n/ep=16, n/st=50, player1/loss=0.430, player2/loss=0.582, rew=-0.25]                          \n"
          ]
        },
        {
          "output_type": "stream",
          "name": "stdout",
          "text": [
            "Epoch #47: test_reward: -0.270000 ± 0.443959, best_reward: -0.190000 ± 0.392301 in #12\n"
          ]
        },
        {
          "output_type": "stream",
          "name": "stderr",
          "text": [
            "Epoch #48: 1001it [00:01, 725.90it/s, env_step=48000, len=2, n/ep=21, n/st=50, player1/loss=0.422, player2/loss=0.546, rew=-0.33]                          \n"
          ]
        },
        {
          "output_type": "stream",
          "name": "stdout",
          "text": [
            "Epoch #48: test_reward: -0.300000 ± 0.458258, best_reward: -0.190000 ± 0.392301 in #12\n"
          ]
        },
        {
          "output_type": "stream",
          "name": "stderr",
          "text": [
            "Epoch #49: 1001it [00:01, 722.65it/s, env_step=49000, len=2, n/ep=17, n/st=50, player1/loss=0.435, player2/loss=0.530, rew=-0.06]                          \n"
          ]
        },
        {
          "output_type": "stream",
          "name": "stdout",
          "text": [
            "Epoch #49: test_reward: -0.290000 ± 0.453762, best_reward: -0.190000 ± 0.392301 in #12\n"
          ]
        },
        {
          "output_type": "stream",
          "name": "stderr",
          "text": [
            "Epoch #50: 1001it [00:01, 538.33it/s, env_step=50000, len=2, n/ep=20, n/st=50, player1/loss=0.478, player2/loss=0.554, rew=-0.55]                          \n"
          ]
        },
        {
          "output_type": "stream",
          "name": "stdout",
          "text": [
            "Epoch #50: test_reward: -0.340000 ± 0.473709, best_reward: -0.190000 ± 0.392301 in #12\n"
          ]
        },
        {
          "output_type": "stream",
          "name": "stderr",
          "text": [
            "Epoch #51: 1001it [00:01, 662.16it/s, env_step=51000, len=2, n/ep=18, n/st=50, player1/loss=0.473, player2/loss=0.614, rew=-0.17]                          \n"
          ]
        },
        {
          "output_type": "stream",
          "name": "stdout",
          "text": [
            "Epoch #51: test_reward: -0.210000 ± 0.407308, best_reward: -0.190000 ± 0.392301 in #12\n"
          ]
        },
        {
          "output_type": "stream",
          "name": "stderr",
          "text": [
            "Epoch #52: 1001it [00:01, 741.24it/s, env_step=52000, len=2, n/ep=19, n/st=50, player1/loss=0.450, player2/loss=0.621, rew=-0.26]                          \n"
          ]
        },
        {
          "output_type": "stream",
          "name": "stdout",
          "text": [
            "Epoch #52: test_reward: -0.200000 ± 0.400000, best_reward: -0.190000 ± 0.392301 in #12\n"
          ]
        },
        {
          "output_type": "stream",
          "name": "stderr",
          "text": [
            "Epoch #53: 1001it [00:01, 741.44it/s, env_step=53000, len=3, n/ep=16, n/st=50, player1/loss=0.508, player2/loss=0.623, rew=-0.31]                          \n"
          ]
        },
        {
          "output_type": "stream",
          "name": "stdout",
          "text": [
            "Epoch #53: test_reward: -0.210000 ± 0.407308, best_reward: -0.190000 ± 0.392301 in #12\n"
          ]
        },
        {
          "output_type": "stream",
          "name": "stderr",
          "text": [
            "Epoch #54: 1001it [00:01, 733.04it/s, env_step=54000, len=2, n/ep=18, n/st=50, player1/loss=0.486, player2/loss=0.654, rew=-0.06]                          \n"
          ]
        },
        {
          "output_type": "stream",
          "name": "stdout",
          "text": [
            "Epoch #54: test_reward: -0.180000 ± 0.384187, best_reward: -0.180000 ± 0.384187 in #54\n"
          ]
        },
        {
          "output_type": "stream",
          "name": "stderr",
          "text": [
            "Epoch #55: 1001it [00:01, 742.29it/s, env_step=55000, len=2, n/ep=19, n/st=50, player1/loss=0.493, player2/loss=0.636, rew=-0.26]                          \n"
          ]
        },
        {
          "output_type": "stream",
          "name": "stdout",
          "text": [
            "Epoch #55: test_reward: -0.230000 ± 0.420833, best_reward: -0.180000 ± 0.384187 in #54\n"
          ]
        },
        {
          "output_type": "stream",
          "name": "stderr",
          "text": [
            "Epoch #56: 1001it [00:01, 734.26it/s, env_step=56000, len=3, n/ep=14, n/st=50, player1/loss=0.490, player2/loss=0.625, rew=-0.50]                          \n"
          ]
        },
        {
          "output_type": "stream",
          "name": "stdout",
          "text": [
            "Epoch #56: test_reward: -0.230000 ± 0.420833, best_reward: -0.180000 ± 0.384187 in #54\n"
          ]
        },
        {
          "output_type": "stream",
          "name": "stderr",
          "text": [
            "Epoch #57: 1001it [00:01, 603.24it/s, env_step=57000, len=3, n/ep=16, n/st=50, player1/loss=0.543, player2/loss=0.688, rew=-0.25]                          \n"
          ]
        },
        {
          "output_type": "stream",
          "name": "stdout",
          "text": [
            "Epoch #57: test_reward: -0.280000 ± 0.448999, best_reward: -0.180000 ± 0.384187 in #54\n"
          ]
        },
        {
          "output_type": "stream",
          "name": "stderr",
          "text": [
            "Epoch #58: 1001it [00:01, 555.28it/s, env_step=58000, len=3, n/ep=15, n/st=50, player1/loss=0.538, player2/loss=0.681, rew=-0.13]                          \n"
          ]
        },
        {
          "output_type": "stream",
          "name": "stdout",
          "text": [
            "Epoch #58: test_reward: -0.320000 ± 0.466476, best_reward: -0.180000 ± 0.384187 in #54\n"
          ]
        },
        {
          "output_type": "stream",
          "name": "stderr",
          "text": [
            "Epoch #59: 1001it [00:01, 738.07it/s, env_step=59000, len=3, n/ep=18, n/st=50, player1/loss=0.527, player2/loss=0.679, rew=-0.17]                          \n"
          ]
        },
        {
          "output_type": "stream",
          "name": "stdout",
          "text": [
            "Epoch #59: test_reward: -0.260000 ± 0.438634, best_reward: -0.180000 ± 0.384187 in #54\n"
          ]
        },
        {
          "output_type": "stream",
          "name": "stderr",
          "text": [
            "Epoch #60: 1001it [00:01, 734.23it/s, env_step=60000, len=2, n/ep=19, n/st=50, player1/loss=0.493, player2/loss=0.631, rew=-0.21]                          \n"
          ]
        },
        {
          "output_type": "stream",
          "name": "stdout",
          "text": [
            "Epoch #60: test_reward: -0.270000 ± 0.443959, best_reward: -0.180000 ± 0.384187 in #54\n"
          ]
        },
        {
          "output_type": "stream",
          "name": "stderr",
          "text": [
            "Epoch #61: 1001it [00:01, 727.22it/s, env_step=61000, len=3, n/ep=18, n/st=50, player1/loss=0.524, player2/loss=0.661, rew=-0.28]                          \n"
          ]
        },
        {
          "output_type": "stream",
          "name": "stdout",
          "text": [
            "Epoch #61: test_reward: -0.300000 ± 0.458258, best_reward: -0.180000 ± 0.384187 in #54\n"
          ]
        },
        {
          "output_type": "stream",
          "name": "stderr",
          "text": [
            "Epoch #62: 1001it [00:01, 638.92it/s, env_step=62000, len=3, n/ep=18, n/st=50, player1/loss=0.554, player2/loss=0.702, rew=-0.28]                          \n"
          ]
        },
        {
          "output_type": "stream",
          "name": "stdout",
          "text": [
            "Epoch #62: test_reward: -0.250000 ± 0.433013, best_reward: -0.180000 ± 0.384187 in #54\n"
          ]
        },
        {
          "output_type": "stream",
          "name": "stderr",
          "text": [
            "Epoch #63: 1001it [00:01, 591.55it/s, env_step=63000, len=2, n/ep=20, n/st=50, player1/loss=0.545, player2/loss=0.698, rew=-0.35]                          \n"
          ]
        },
        {
          "output_type": "stream",
          "name": "stdout",
          "text": [
            "Epoch #63: test_reward: -0.210000 ± 0.407308, best_reward: -0.180000 ± 0.384187 in #54\n"
          ]
        },
        {
          "output_type": "stream",
          "name": "stderr",
          "text": [
            "Epoch #64: 1001it [00:01, 645.33it/s, env_step=64000, len=3, n/ep=15, n/st=50, player1/loss=0.568, player2/loss=0.705, rew=-0.27]                          \n"
          ]
        },
        {
          "output_type": "stream",
          "name": "stdout",
          "text": [
            "Epoch #64: test_reward: -0.260000 ± 0.438634, best_reward: -0.180000 ± 0.384187 in #54\n"
          ]
        },
        {
          "output_type": "stream",
          "name": "stderr",
          "text": [
            "Epoch #65: 1001it [00:01, 542.22it/s, env_step=65000, len=2, n/ep=17, n/st=50, player1/loss=0.549, player2/loss=0.806, rew=-0.18]                          \n"
          ]
        },
        {
          "output_type": "stream",
          "name": "stdout",
          "text": [
            "Epoch #65: test_reward: -0.270000 ± 0.443959, best_reward: -0.180000 ± 0.384187 in #54\n"
          ]
        },
        {
          "output_type": "stream",
          "name": "stderr",
          "text": [
            "Epoch #66: 1001it [00:01, 745.96it/s, env_step=66000, len=3, n/ep=17, n/st=50, player1/loss=0.550, player2/loss=0.761, rew=-0.35]                          \n"
          ]
        },
        {
          "output_type": "stream",
          "name": "stdout",
          "text": [
            "Epoch #66: test_reward: -0.300000 ± 0.458258, best_reward: -0.180000 ± 0.384187 in #54\n"
          ]
        },
        {
          "output_type": "stream",
          "name": "stderr",
          "text": [
            "Epoch #67: 1001it [00:01, 727.26it/s, env_step=67000, len=2, n/ep=19, n/st=50, player1/loss=0.572, player2/loss=0.829, rew=-0.16]                          \n"
          ]
        },
        {
          "output_type": "stream",
          "name": "stdout",
          "text": [
            "Epoch #67: test_reward: -0.290000 ± 0.453762, best_reward: -0.180000 ± 0.384187 in #54\n"
          ]
        },
        {
          "output_type": "stream",
          "name": "stderr",
          "text": [
            "Epoch #68: 1001it [00:01, 717.29it/s, env_step=68000, len=3, n/ep=16, n/st=50, player1/loss=0.601, player2/loss=0.806, rew=-0.25]                          \n"
          ]
        },
        {
          "output_type": "stream",
          "name": "stdout",
          "text": [
            "Epoch #68: test_reward: -0.280000 ± 0.448999, best_reward: -0.180000 ± 0.384187 in #54\n"
          ]
        },
        {
          "output_type": "stream",
          "name": "stderr",
          "text": [
            "Epoch #69: 1001it [00:01, 733.99it/s, env_step=69000, len=2, n/ep=18, n/st=50, player1/loss=0.582, player2/loss=0.757, rew=-0.11]                          \n"
          ]
        },
        {
          "output_type": "stream",
          "name": "stdout",
          "text": [
            "Epoch #69: test_reward: -0.210000 ± 0.407308, best_reward: -0.180000 ± 0.384187 in #54\n"
          ]
        },
        {
          "output_type": "stream",
          "name": "stderr",
          "text": [
            "Epoch #70: 1001it [00:01, 730.40it/s, env_step=70000, len=2, n/ep=19, n/st=50, player1/loss=0.636, player2/loss=0.761, rew=-0.21]                          \n"
          ]
        },
        {
          "output_type": "stream",
          "name": "stdout",
          "text": [
            "Epoch #70: test_reward: -0.320000 ± 0.466476, best_reward: -0.180000 ± 0.384187 in #54\n"
          ]
        },
        {
          "output_type": "stream",
          "name": "stderr",
          "text": [
            "Epoch #71: 1001it [00:01, 733.95it/s, env_step=71000, len=2, n/ep=17, n/st=50, player1/loss=0.601, player2/loss=0.832, rew=-0.24]                          \n"
          ]
        },
        {
          "output_type": "stream",
          "name": "stdout",
          "text": [
            "Epoch #71: test_reward: -0.290000 ± 0.453762, best_reward: -0.180000 ± 0.384187 in #54\n"
          ]
        },
        {
          "output_type": "stream",
          "name": "stderr",
          "text": [
            "Epoch #72: 1001it [00:01, 542.72it/s, env_step=72000, len=2, n/ep=20, n/st=50, player1/loss=0.593, player2/loss=0.854, rew=-0.30]                          \n"
          ]
        },
        {
          "output_type": "stream",
          "name": "stdout",
          "text": [
            "Epoch #72: test_reward: -0.180000 ± 0.384187, best_reward: -0.180000 ± 0.384187 in #54\n"
          ]
        },
        {
          "output_type": "stream",
          "name": "stderr",
          "text": [
            "Epoch #73: 1001it [00:01, 623.58it/s, env_step=73000, len=2, n/ep=17, n/st=50, player1/loss=0.598, player2/loss=0.867, rew=-0.12]                          \n"
          ]
        },
        {
          "output_type": "stream",
          "name": "stdout",
          "text": [
            "Epoch #73: test_reward: -0.280000 ± 0.448999, best_reward: -0.180000 ± 0.384187 in #54\n"
          ]
        },
        {
          "output_type": "stream",
          "name": "stderr",
          "text": [
            "Epoch #74: 1001it [00:01, 699.55it/s, env_step=74000, len=2, n/ep=18, n/st=50, player1/loss=0.621, player2/loss=0.881, rew=-0.33]                          \n"
          ]
        },
        {
          "output_type": "stream",
          "name": "stdout",
          "text": [
            "Epoch #74: test_reward: -0.230000 ± 0.420833, best_reward: -0.180000 ± 0.384187 in #54\n"
          ]
        },
        {
          "output_type": "stream",
          "name": "stderr",
          "text": [
            "Epoch #75: 1001it [00:01, 754.96it/s, env_step=75000, len=2, n/ep=18, n/st=50, player1/loss=0.638, player2/loss=0.832, rew=-0.11]                          \n"
          ]
        },
        {
          "output_type": "stream",
          "name": "stdout",
          "text": [
            "Epoch #75: test_reward: -0.240000 ± 0.427083, best_reward: -0.180000 ± 0.384187 in #54\n"
          ]
        },
        {
          "output_type": "stream",
          "name": "stderr",
          "text": [
            "Epoch #76: 1001it [00:01, 748.83it/s, env_step=76000, len=3, n/ep=15, n/st=50, player1/loss=0.650, player2/loss=0.856, rew=-0.13]                          \n"
          ]
        },
        {
          "output_type": "stream",
          "name": "stdout",
          "text": [
            "Epoch #76: test_reward: -0.160000 ± 0.366606, best_reward: -0.160000 ± 0.366606 in #76\n"
          ]
        },
        {
          "output_type": "stream",
          "name": "stderr",
          "text": [
            "Epoch #77: 1001it [00:01, 735.29it/s, env_step=77000, len=2, n/ep=19, n/st=50, player1/loss=0.664, player2/loss=0.876, rew=-0.11]                          \n"
          ]
        },
        {
          "output_type": "stream",
          "name": "stdout",
          "text": [
            "Epoch #77: test_reward: -0.240000 ± 0.427083, best_reward: -0.160000 ± 0.366606 in #76\n"
          ]
        },
        {
          "output_type": "stream",
          "name": "stderr",
          "text": [
            "Epoch #78: 1001it [00:01, 727.79it/s, env_step=78000, len=3, n/ep=14, n/st=50, player1/loss=0.654, player2/loss=0.914, rew=-0.50]                          \n"
          ]
        },
        {
          "output_type": "stream",
          "name": "stdout",
          "text": [
            "Epoch #78: test_reward: -0.150000 ± 0.357071, best_reward: -0.150000 ± 0.357071 in #78\n"
          ]
        },
        {
          "output_type": "stream",
          "name": "stderr",
          "text": [
            "Epoch #79: 1001it [00:01, 600.39it/s, env_step=79000, len=3, n/ep=16, n/st=50, player1/loss=0.673, player2/loss=0.923, rew=-0.19]                          \n"
          ]
        },
        {
          "output_type": "stream",
          "name": "stdout",
          "text": [
            "Epoch #79: test_reward: -0.200000 ± 0.400000, best_reward: -0.150000 ± 0.357071 in #78\n"
          ]
        },
        {
          "output_type": "stream",
          "name": "stderr",
          "text": [
            "Epoch #80: 1001it [00:01, 524.56it/s, env_step=80000, len=3, n/ep=16, n/st=50, player1/loss=0.643, player2/loss=0.930, rew=-0.25]                          \n"
          ]
        },
        {
          "output_type": "stream",
          "name": "stdout",
          "text": [
            "Epoch #80: test_reward: -0.270000 ± 0.443959, best_reward: -0.150000 ± 0.357071 in #78\n"
          ]
        },
        {
          "output_type": "stream",
          "name": "stderr",
          "text": [
            "Epoch #81: 1001it [00:01, 712.02it/s, env_step=81000, len=2, n/ep=18, n/st=50, player1/loss=0.676, player2/loss=0.960, rew=-0.39]                          \n"
          ]
        },
        {
          "output_type": "stream",
          "name": "stdout",
          "text": [
            "Epoch #81: test_reward: -0.280000 ± 0.448999, best_reward: -0.150000 ± 0.357071 in #78\n"
          ]
        },
        {
          "output_type": "stream",
          "name": "stderr",
          "text": [
            "Epoch #82: 1001it [00:01, 736.83it/s, env_step=82000, len=3, n/ep=14, n/st=50, player1/loss=0.680, player2/loss=0.941, rew=-0.36]                          \n"
          ]
        },
        {
          "output_type": "stream",
          "name": "stdout",
          "text": [
            "Epoch #82: test_reward: -0.270000 ± 0.443959, best_reward: -0.150000 ± 0.357071 in #78\n"
          ]
        },
        {
          "output_type": "stream",
          "name": "stderr",
          "text": [
            "Epoch #83: 1001it [00:01, 728.82it/s, env_step=83000, len=3, n/ep=16, n/st=50, player1/loss=0.720, player2/loss=0.953, rew=-0.06]                          \n"
          ]
        },
        {
          "output_type": "stream",
          "name": "stdout",
          "text": [
            "Epoch #83: test_reward: -0.260000 ± 0.438634, best_reward: -0.150000 ± 0.357071 in #78\n"
          ]
        },
        {
          "output_type": "stream",
          "name": "stderr",
          "text": [
            "Epoch #84: 1001it [00:01, 711.71it/s, env_step=84000, len=3, n/ep=17, n/st=50, player1/loss=0.734, player2/loss=0.952, rew=-0.59]                          \n"
          ]
        },
        {
          "output_type": "stream",
          "name": "stdout",
          "text": [
            "Epoch #84: test_reward: -0.190000 ± 0.392301, best_reward: -0.150000 ± 0.357071 in #78\n"
          ]
        },
        {
          "output_type": "stream",
          "name": "stderr",
          "text": [
            "Epoch #85: 1001it [00:01, 705.42it/s, env_step=85000, len=3, n/ep=16, n/st=50, player1/loss=0.750, player2/loss=0.929, rew=-0.31]                          \n"
          ]
        },
        {
          "output_type": "stream",
          "name": "stdout",
          "text": [
            "Epoch #85: test_reward: -0.170000 ± 0.375633, best_reward: -0.150000 ± 0.357071 in #78\n"
          ]
        },
        {
          "output_type": "stream",
          "name": "stderr",
          "text": [
            "Epoch #86: 1001it [00:01, 694.45it/s, env_step=86000, len=3, n/ep=17, n/st=50, player1/loss=0.704, player2/loss=0.930, rew=-0.35]                          \n"
          ]
        },
        {
          "output_type": "stream",
          "name": "stdout",
          "text": [
            "Epoch #86: test_reward: -0.280000 ± 0.448999, best_reward: -0.150000 ± 0.357071 in #78\n"
          ]
        },
        {
          "output_type": "stream",
          "name": "stderr",
          "text": [
            "Epoch #87: 1001it [00:01, 530.47it/s, env_step=87000, len=2, n/ep=17, n/st=50, player1/loss=0.685, player2/loss=0.988, rew=-0.47]                          \n"
          ]
        },
        {
          "output_type": "stream",
          "name": "stdout",
          "text": [
            "Epoch #87: test_reward: -0.280000 ± 0.448999, best_reward: -0.150000 ± 0.357071 in #78\n"
          ]
        },
        {
          "output_type": "stream",
          "name": "stderr",
          "text": [
            "Epoch #88: 1001it [00:01, 672.30it/s, env_step=88000, len=3, n/ep=16, n/st=50, player1/loss=0.737, player2/loss=1.042, rew=-0.19]                          \n"
          ]
        },
        {
          "output_type": "stream",
          "name": "stdout",
          "text": [
            "Epoch #88: test_reward: -0.260000 ± 0.438634, best_reward: -0.150000 ± 0.357071 in #78\n"
          ]
        },
        {
          "output_type": "stream",
          "name": "stderr",
          "text": [
            "Epoch #89: 1001it [00:01, 709.53it/s, env_step=89000, len=3, n/ep=17, n/st=50, player1/loss=0.737, player2/loss=1.000, rew=-0.41]                          \n"
          ]
        },
        {
          "output_type": "stream",
          "name": "stdout",
          "text": [
            "Epoch #89: test_reward: -0.260000 ± 0.438634, best_reward: -0.150000 ± 0.357071 in #78\n"
          ]
        },
        {
          "output_type": "stream",
          "name": "stderr",
          "text": [
            "Epoch #90: 1001it [00:01, 731.58it/s, env_step=90000, len=2, n/ep=18, n/st=50, player1/loss=0.794, player2/loss=1.073, rew=-0.11]                          \n"
          ]
        },
        {
          "output_type": "stream",
          "name": "stdout",
          "text": [
            "Epoch #90: test_reward: -0.280000 ± 0.448999, best_reward: -0.150000 ± 0.357071 in #78\n"
          ]
        },
        {
          "output_type": "stream",
          "name": "stderr",
          "text": [
            "Epoch #91: 1001it [00:01, 728.52it/s, env_step=91000, len=3, n/ep=15, n/st=50, player1/loss=0.797, player2/loss=1.089, rew=-0.13]                          \n"
          ]
        },
        {
          "output_type": "stream",
          "name": "stdout",
          "text": [
            "Epoch #91: test_reward: -0.210000 ± 0.407308, best_reward: -0.150000 ± 0.357071 in #78\n"
          ]
        },
        {
          "output_type": "stream",
          "name": "stderr",
          "text": [
            "Epoch #92: 1001it [00:01, 721.63it/s, env_step=92000, len=3, n/ep=14, n/st=50, player1/loss=0.872, player2/loss=1.066, rew=-0.36]                          \n"
          ]
        },
        {
          "output_type": "stream",
          "name": "stdout",
          "text": [
            "Epoch #92: test_reward: -0.310000 ± 0.462493, best_reward: -0.150000 ± 0.357071 in #78\n"
          ]
        },
        {
          "output_type": "stream",
          "name": "stderr",
          "text": [
            "Epoch #93: 1001it [00:01, 741.18it/s, env_step=93000, len=3, n/ep=14, n/st=50, player1/loss=0.823, player2/loss=1.042, rew=-0.36]                          \n"
          ]
        },
        {
          "output_type": "stream",
          "name": "stdout",
          "text": [
            "Epoch #93: test_reward: -0.160000 ± 0.366606, best_reward: -0.150000 ± 0.357071 in #78\n"
          ]
        },
        {
          "output_type": "stream",
          "name": "stderr",
          "text": [
            "Epoch #94: 1001it [00:01, 581.57it/s, env_step=94000, len=3, n/ep=17, n/st=50, player1/loss=0.782, player2/loss=1.078, rew=-0.24]                          \n"
          ]
        },
        {
          "output_type": "stream",
          "name": "stdout",
          "text": [
            "Epoch #94: test_reward: -0.300000 ± 0.458258, best_reward: -0.150000 ± 0.357071 in #78\n"
          ]
        },
        {
          "output_type": "stream",
          "name": "stderr",
          "text": [
            "Epoch #95: 1001it [00:01, 554.59it/s, env_step=95000, len=3, n/ep=15, n/st=50, player1/loss=0.817, player2/loss=1.071, rew=-0.13]                          \n"
          ]
        },
        {
          "output_type": "stream",
          "name": "stdout",
          "text": [
            "Epoch #95: test_reward: -0.230000 ± 0.420833, best_reward: -0.150000 ± 0.357071 in #78\n"
          ]
        },
        {
          "output_type": "stream",
          "name": "stderr",
          "text": [
            "Epoch #96: 1001it [00:01, 720.93it/s, env_step=96000, len=2, n/ep=19, n/st=50, player1/loss=0.826, player2/loss=1.117, rew=-0.32]                          \n"
          ]
        },
        {
          "output_type": "stream",
          "name": "stdout",
          "text": [
            "Epoch #96: test_reward: -0.200000 ± 0.400000, best_reward: -0.150000 ± 0.357071 in #78\n"
          ]
        },
        {
          "output_type": "stream",
          "name": "stderr",
          "text": [
            "Epoch #97: 1001it [00:01, 731.81it/s, env_step=97000, len=2, n/ep=18, n/st=50, player1/loss=0.824, player2/loss=1.099, rew=-0.22]                          \n"
          ]
        },
        {
          "output_type": "stream",
          "name": "stdout",
          "text": [
            "Epoch #97: test_reward: -0.240000 ± 0.427083, best_reward: -0.150000 ± 0.357071 in #78\n"
          ]
        },
        {
          "output_type": "stream",
          "name": "stderr",
          "text": [
            "Epoch #98: 1001it [00:01, 720.68it/s, env_step=98000, len=3, n/ep=16, n/st=50, player1/loss=0.815, player2/loss=1.212, rew=-0.31]                          \n"
          ]
        },
        {
          "output_type": "stream",
          "name": "stdout",
          "text": [
            "Epoch #98: test_reward: -0.230000 ± 0.420833, best_reward: -0.150000 ± 0.357071 in #78\n"
          ]
        },
        {
          "output_type": "stream",
          "name": "stderr",
          "text": [
            "Epoch #99: 1001it [00:01, 735.08it/s, env_step=99000, len=3, n/ep=16, n/st=50, player1/loss=0.758, player2/loss=1.057, rew=-0.31]                          \n"
          ]
        },
        {
          "output_type": "stream",
          "name": "stdout",
          "text": [
            "Epoch #99: test_reward: -0.300000 ± 0.458258, best_reward: -0.150000 ± 0.357071 in #78\n"
          ]
        },
        {
          "output_type": "stream",
          "name": "stderr",
          "text": [
            "Epoch #100: 1001it [00:01, 738.21it/s, env_step=100000, len=2, n/ep=19, n/st=50, player1/loss=0.787, player2/loss=1.135, rew=-0.16]                          \n"
          ]
        },
        {
          "output_type": "stream",
          "name": "stdout",
          "text": [
            "Epoch #100: test_reward: -0.230000 ± 0.420833, best_reward: -0.150000 ± 0.357071 in #78\n"
          ]
        },
        {
          "output_type": "execute_result",
          "data": {
            "text/plain": [
              "{'duration': '176.58s',\n",
              " 'train_time/model': '97.01s',\n",
              " 'test_step': 29254,\n",
              " 'test_episode': 10100,\n",
              " 'test_time': '27.30s',\n",
              " 'test_speed': '1071.70 step/s',\n",
              " 'best_reward': -0.15,\n",
              " 'best_result': '-0.15 ± 0.36',\n",
              " 'train_step': 100000,\n",
              " 'train_episode': 34725,\n",
              " 'train_time/collector': '52.27s',\n",
              " 'train_speed': '669.88 step/s'}"
            ]
          },
          "metadata": {},
          "execution_count": 23
        }
      ]
    },
    {
      "cell_type": "code",
      "source": [
        "#@title Eval DRL\n",
        "\n",
        "result = test_collector.collect(n_step=5000)\n",
        "arr = result[\"rews\"]\n",
        "death_rates = np.sum(arr, axis=0) / np.sum(arr, axis=0)[0]\n",
        "print(f\"death rate of player2: {(np.sum(arr, axis=0) / arr.shape[0])[-1] * -1:.3f}\")\n",
        "print(f\"ratio of death rate of player2 with respect to player1: {death_rates[-1]:.3f}\")\n",
        "plt.plot(arr.cumsum(axis=0))\n",
        "plt.legend((\"player1\", \"player2\"))\n",
        "plt.show()"
      ],
      "metadata": {
        "colab": {
          "base_uri": "https://localhost:8080/",
          "height": 522
        },
        "id": "kQ5-2veCd5ZV",
        "outputId": "222976c2-0653-4f55-cc6b-9265a557eae3",
        "cellView": "form"
      },
      "execution_count": 24,
      "outputs": [
        {
          "output_type": "stream",
          "name": "stderr",
          "text": [
            "/usr/local/lib/python3.10/dist-packages/ipykernel/ipkernel.py:283: DeprecationWarning: `should_run_async` will not call `transform_cell` automatically in the future. Please pass the result to `transformed_cell` argument and any exception that happen during thetransform in `preprocessing_exc_tuple` in IPython 7.17 and above.\n",
            "  and should_run_async(code)\n"
          ]
        },
        {
          "output_type": "stream",
          "name": "stdout",
          "text": [
            "death rate of player2: 0.237\n",
            "ratio of death rate of player2 with respect to player1: 0.687\n"
          ]
        },
        {
          "output_type": "display_data",
          "data": {
            "text/plain": [
              "<Figure size 640x480 with 1 Axes>"
            ],
            "image/png": "[encoded data removed]"
          },
          "metadata": {}
        }
      ]
    },
    {
      "cell_type": "code",
      "source": [
        "#@title Load best model checkpoints\n",
        "\n",
        "model_save_path1 = os.path.join(\"log\", \"hommul\", \"dqn\", \"policy1.pth\")\n",
        "model_save_path2 = os.path.join(\"log\", \"hommul\", \"dqn\", \"policy2.pth\")\n",
        "if not hasattr(policy.policies[agents[0]], 'nolearn'):\n",
        "    policy.policies[agents[0]].load_state_dict(torch.load(model_save_path1))\n",
        "if not hasattr(policy.policies[agents[1]], 'nolearn'):\n",
        "    policy.policies[agents[1]].load_state_dict(torch.load(model_save_path2))"
      ],
      "metadata": {
        "id": "Wplc3x6cfEBz",
        "cellView": "form"
      },
      "execution_count": 25,
      "outputs": []
    },
    {
      "cell_type": "code",
      "source": [
        "#@title Eval DRL\n",
        "result = test_collector.collect(n_step=5000)\n",
        "arr = result[\"rews\"]\n",
        "death_rates = np.sum(arr, axis=0) / np.sum(arr, axis=0)[0]\n",
        "print(f\"death rate of player2: {(np.sum(arr, axis=0) / arr.shape[0])[-1] * -1:.3f}\")\n",
        "print(f\"ratio of death rate of player2 with respect to player1: {death_rates[-1]:.3f}\")\n",
        "plt.plot(arr.cumsum(axis=0))\n",
        "plt.legend((\"player1\", \"player2\"))\n",
        "plt.show()"
      ],
      "metadata": {
        "colab": {
          "base_uri": "https://localhost:8080/",
          "height": 466
        },
        "id": "zxXP-sbofD9M",
        "outputId": "f15a902d-336b-43d6-ff0a-e706b67c0e4e",
        "cellView": "form"
      },
      "execution_count": 26,
      "outputs": [
        {
          "output_type": "stream",
          "name": "stdout",
          "text": [
            "death rate of player2: 0.237\n",
            "ratio of death rate of player2 with respect to player1: 0.701\n"
          ]
        },
        {
          "output_type": "display_data",
          "data": {
            "text/plain": [
              "<Figure size 640x480 with 1 Axes>"
            ],
            "image/png": "[encoded data removed]"
          },
          "metadata": {}
        }
      ]
    },
    {
      "cell_type": "code",
      "source": [
        "#@title Save Policy as CSV\n",
        "\n",
        "df = []\n",
        "obs = []\n",
        "\n",
        "for days_left in range(1, 3):\n",
        "    for player1_life_points in range(4):\n",
        "        for player2_life_points in range(4):\n",
        "            for payoff in [0.2, 0.4]:\n",
        "                for player1_action in range(0, 3):\n",
        "                    for player2_action in range(0, 3):\n",
        "                        curr_obs = [\n",
        "                            days_left, \n",
        "                            player1_life_points, \n",
        "                            player2_life_points, \n",
        "                            payoff,\n",
        "                            payoff,\n",
        "                            player1_action, \n",
        "                            player2_action\n",
        "                        ]\n",
        "                        obs.append({\n",
        "                            'agent_id': 'player2',\n",
        "                            'obs': np.array([curr_obs], dtype='float32'),\n",
        "                            'mask': [True, True, False]\n",
        "                        })\n",
        "                        df.append(curr_obs)\n",
        "\n",
        "cols = [\n",
        "    \"days_left\", \n",
        "    \"player1_life_points\", \n",
        "    \"player2_life_points\", \n",
        "    \"player1_prob_payoff\",\n",
        "    \"player2_prob_payoff\",\n",
        "    \"player1_previous_action\", \n",
        "    \"player2_previous_action\"\n",
        "]\n",
        "df = pd.DataFrame(df, columns=cols)\n",
        "\n",
        "df[\"player2_predicted_action\"] = policy.policies[agents[1]](Batch(obs=obs, info={})).act\n",
        "df[\"player2_logit_wait\"] = policy.policies[agents[1]](Batch(obs=obs, info={})).logits.detach().cpu().numpy()[:, 0]\n",
        "df[\"player2_logit_play\"] = policy.policies[agents[1]](Batch(obs=obs, info={})).logits.detach().cpu().numpy()[:, 1]\n",
        "\n",
        "df[\"player1_previous_action\"] = df[\"player1_previous_action\"].map({0: \"wait\", 1: \"play\", 2: \"none\"})\n",
        "df[\"player2_previous_action\"] = df[\"player2_previous_action\"].map({0: \"wait\", 1: \"play\", 2: \"none\"})\n",
        "df[\"player2_predicted_action\"] = df[\"player2_predicted_action\"].map({0: \"wait\", 1: \"play\"})\n",
        "\n",
        "df.to_csv(\"outcome_table.csv\", index=False)\n",
        "\n",
        "df.head()"
      ],
      "metadata": {
        "colab": {
          "base_uri": "https://localhost:8080/",
          "height": 270
        },
        "id": "qqphMrZSd-JF",
        "outputId": "3471aa34-0a0e-4bd8-cc95-cbef3b049a97",
        "cellView": "form"
      },
      "execution_count": 27,
      "outputs": [
        {
          "output_type": "execute_result",
          "data": {
            "text/plain": [
              "   days_left  player1_life_points  player2_life_points  player1_prob_payoff  \\\n",
              "0          1                    0                    0                  0.2   \n",
              "1          1                    0                    0                  0.2   \n",
              "2          1                    0                    0                  0.2   \n",
              "3          1                    0                    0                  0.2   \n",
              "4          1                    0                    0                  0.2   \n",
              "\n",
              "   player2_prob_payoff player1_previous_action player2_previous_action  \\\n",
              "0                  0.2                    wait                    wait   \n",
              "1                  0.2                    wait                    play   \n",
              "2                  0.2                    wait                    none   \n",
              "3                  0.2                    play                    wait   \n",
              "4                  0.2                    play                    play   \n",
              "\n",
              "  player2_predicted_action  player2_logit_wait  player2_logit_play  \n",
              "0                     play           -3.383634           -2.777827  \n",
              "1                     wait           -3.192888           -3.362276  \n",
              "2                     wait           -3.090687           -4.077516  \n",
              "3                     play           -3.566372           -2.875346  \n",
              "4                     play           -3.353635           -2.836636  "
            ],
            "text/html": [
              "\n",
              "  <div id=\"df-f0fbd5b6-396a-4535-b6cf-0a05b7a06a08\">\n",
              "    <div class=\"colab-df-container\">\n",
              "      <div>\n",
              "<style scoped>\n",
              "    .dataframe tbody tr th:only-of-type {\n",
              "        vertical-align: middle;\n",
              "    }\n",
              "\n",
              "    .dataframe tbody tr th {\n",
              "        vertical-align: top;\n",
              "    }\n",
              "\n",
              "    .dataframe thead th {\n",
              "        text-align: right;\n",
              "    }\n",
              "</style>\n",
              "<table border=\"1\" class=\"dataframe\">\n",
              "  <thead>\n",
              "    <tr style=\"text-align: right;\">\n",
              "      <th></th>\n",
              "      <th>days_left</th>\n",
              "      <th>player1_life_points</th>\n",
              "      <th>player2_life_points</th>\n",
              "      <th>player1_prob_payoff</th>\n",
              "      <th>player2_prob_payoff</th>\n",
              "      <th>player1_previous_action</th>\n",
              "      <th>player2_previous_action</th>\n",
              "      <th>player2_predicted_action</th>\n",
              "      <th>player2_logit_wait</th>\n",
              "      <th>player2_logit_play</th>\n",
              "    </tr>\n",
              "  </thead>\n",
              "  <tbody>\n",
              "    <tr>\n",
              "      <th>0</th>\n",
              "      <td>1</td>\n",
              "      <td>0</td>\n",
              "      <td>0</td>\n",
              "      <td>0.2</td>\n",
              "      <td>0.2</td>\n",
              "      <td>wait</td>\n",
              "      <td>wait</td>\n",
              "      <td>play</td>\n",
              "      <td>-3.383634</td>\n",
              "      <td>-2.777827</td>\n",
              "    </tr>\n",
              "    <tr>\n",
              "      <th>1</th>\n",
              "      <td>1</td>\n",
              "      <td>0</td>\n",
              "      <td>0</td>\n",
              "      <td>0.2</td>\n",
              "      <td>0.2</td>\n",
              "      <td>wait</td>\n",
              "      <td>play</td>\n",
              "      <td>wait</td>\n",
              "      <td>-3.192888</td>\n",
              "      <td>-3.362276</td>\n",
              "    </tr>\n",
              "    <tr>\n",
              "      <th>2</th>\n",
              "      <td>1</td>\n",
              "      <td>0</td>\n",
              "      <td>0</td>\n",
              "      <td>0.2</td>\n",
              "      <td>0.2</td>\n",
              "      <td>wait</td>\n",
              "      <td>none</td>\n",
              "      <td>wait</td>\n",
              "      <td>-3.090687</td>\n",
              "      <td>-4.077516</td>\n",
              "    </tr>\n",
              "    <tr>\n",
              "      <th>3</th>\n",
              "      <td>1</td>\n",
              "      <td>0</td>\n",
              "      <td>0</td>\n",
              "      <td>0.2</td>\n",
              "      <td>0.2</td>\n",
              "      <td>play</td>\n",
              "      <td>wait</td>\n",
              "      <td>play</td>\n",
              "      <td>-3.566372</td>\n",
              "      <td>-2.875346</td>\n",
              "    </tr>\n",
              "    <tr>\n",
              "      <th>4</th>\n",
              "      <td>1</td>\n",
              "      <td>0</td>\n",
              "      <td>0</td>\n",
              "      <td>0.2</td>\n",
              "      <td>0.2</td>\n",
              "      <td>play</td>\n",
              "      <td>play</td>\n",
              "      <td>play</td>\n",
              "      <td>-3.353635</td>\n",
              "      <td>-2.836636</td>\n",
              "    </tr>\n",
              "  </tbody>\n",
              "</table>\n",
              "</div>\n",
              "      <button class=\"colab-df-convert\" onclick=\"convertToInteractive('df-f0fbd5b6-396a-4535-b6cf-0a05b7a06a08')\"\n",
              "              title=\"Convert this dataframe to an interactive table.\"\n",
              "              style=\"display:none;\">\n",
              "        \n",
              "  <svg xmlns=\"http://www.w3.org/2000/svg\" height=\"24px\"viewBox=\"0 0 24 24\"\n",
              "       width=\"24px\">\n",
              "    <path d=\"M0 0h24v24H0V0z\" fill=\"none\"/>\n",
              "    <path d=\"M18.56 5.44l.94 2.06.94-2.06 2.06-.94-2.06-.94-.94-2.06-.94 2.06-2.06.94zm-11 1L8.5 8.5l.94-2.06 2.06-.94-2.06-.94L8.5 2.5l-.94 2.06-2.06.94zm10 10l.94 2.06.94-2.06 2.06-.94-2.06-.94-.94-2.06-.94 2.06-2.06.94z\"/><path d=\"M17.41 7.96l-1.37-1.37c-.4-.4-.92-.59-1.43-.59-.52 0-1.04.2-1.43.59L10.3 9.45l-7.72 7.72c-.78.78-.78 2.05 0 2.83L4 21.41c.39.39.9.59 1.41.59.51 0 1.02-.2 1.41-.59l7.78-7.78 2.81-2.81c.8-.78.8-2.07 0-2.86zM5.41 20L4 18.59l7.72-7.72 1.47 1.35L5.41 20z\"/>\n",
              "  </svg>\n",
              "      </button>\n",
              "      \n",
              "  <style>\n",
              "    .colab-df-container {\n",
              "      display:flex;\n",
              "      flex-wrap:wrap;\n",
              "      gap: 12px;\n",
              "    }\n",
              "\n",
              "    .colab-df-convert {\n",
              "      background-color: #E8F0FE;\n",
              "      border: none;\n",
              "      border-radius: 50%;\n",
              "      cursor: pointer;\n",
              "      display: none;\n",
              "      fill: #1967D2;\n",
              "      height: 32px;\n",
              "      padding: 0 0 0 0;\n",
              "      width: 32px;\n",
              "    }\n",
              "\n",
              "    .colab-df-convert:hover {\n",
              "      background-color: #E2EBFA;\n",
              "      box-shadow: 0px 1px 2px rgba(60, 64, 67, 0.3), 0px 1px 3px 1px rgba(60, 64, 67, 0.15);\n",
              "      fill: #174EA6;\n",
              "    }\n",
              "\n",
              "    [theme=dark] .colab-df-convert {\n",
              "      background-color: #3B4455;\n",
              "      fill: #D2E3FC;\n",
              "    }\n",
              "\n",
              "    [theme=dark] .colab-df-convert:hover {\n",
              "      background-color: #434B5C;\n",
              "      box-shadow: 0px 1px 3px 1px rgba(0, 0, 0, 0.15);\n",
              "      filter: drop-shadow(0px 1px 2px rgba(0, 0, 0, 0.3));\n",
              "      fill: #FFFFFF;\n",
              "    }\n",
              "  </style>\n",
              "\n",
              "      <script>\n",
              "        const buttonEl =\n",
              "          document.querySelector('#df-f0fbd5b6-396a-4535-b6cf-0a05b7a06a08 button.colab-df-convert');\n",
              "        buttonEl.style.display =\n",
              "          google.colab.kernel.accessAllowed ? 'block' : 'none';\n",
              "\n",
              "        async function convertToInteractive(key) {\n",
              "          const element = document.querySelector('#df-f0fbd5b6-396a-4535-b6cf-0a05b7a06a08');\n",
              "          const dataTable =\n",
              "            await google.colab.kernel.invokeFunction('convertToInteractive',\n",
              "                                                     [key], {});\n",
              "          if (!dataTable) return;\n",
              "\n",
              "          const docLinkHtml = 'Like what you see? Visit the ' +\n",
              "            '<a target=\"_blank\" href=https://colab.research.google.com/notebooks/data_table.ipynb>data table notebook</a>'\n",
              "            + ' to learn more about interactive tables.';\n",
              "          element.innerHTML = '';\n",
              "          dataTable['output_type'] = 'display_data';\n",
              "          await google.colab.output.renderOutput(dataTable, element);\n",
              "          const docLink = document.createElement('div');\n",
              "          docLink.innerHTML = docLinkHtml;\n",
              "          element.appendChild(docLink);\n",
              "        }\n",
              "      </script>\n",
              "    </div>\n",
              "  </div>\n",
              "  "
            ]
          },
          "metadata": {},
          "execution_count": 27
        }
      ]
    },
    {
      "cell_type": "code",
      "source": [
        "#@title Visualize policy (mean gameplay)\n",
        "(df[\"player2_predicted_action\"] == \"play\").mean()"
      ],
      "metadata": {
        "colab": {
          "base_uri": "https://localhost:8080/"
        },
        "id": "KxAabY2fo4OL",
        "outputId": "79f100ca-2946-478c-b180-ecfcf3e3018b",
        "cellView": "form"
      },
      "execution_count": 28,
      "outputs": [
        {
          "output_type": "stream",
          "name": "stderr",
          "text": [
            "/usr/local/lib/python3.10/dist-packages/ipykernel/ipkernel.py:283: DeprecationWarning: `should_run_async` will not call `transform_cell` automatically in the future. Please pass the result to `transformed_cell` argument and any exception that happen during thetransform in `preprocessing_exc_tuple` in IPython 7.17 and above.\n",
            "  and should_run_async(code)\n"
          ]
        },
        {
          "output_type": "execute_result",
          "data": {
            "text/plain": [
              "0.5520833333333334"
            ]
          },
          "metadata": {},
          "execution_count": 28
        }
      ]
    },
    {
      "cell_type": "code",
      "source": [
        "# #@title Visualize policy\n",
        "df.loc[(df[\"days_left\"] == 1) & (df[\"player1_prob_payoff\"] < 0.3) & (df[\"player1_previous_action\"] == \"none\") & (df[\"player2_previous_action\"] == \"none\"), \"player2_predicted_action\"].values\n",
        "\n",
        "\n",
        "# # df[df[\"player2_predicted_action\"] == \"play\"].tail(15)\n",
        "\n",
        "# fig, ((ax1, ax2), (ax3, ax4)) = plt.subplots(2, 2)\n",
        "\n",
        "# arr = df.loc[(df[\"days_left\"] == 1) & (df[\"player1_prob_payoff\"] < 0.3), \"action\"].values\n",
        "# arr = np.insert(arr, 0, 1, axis=0)\n",
        "\n",
        "# ax1.imshow(np.reshape(arr, (4, 4)), cmap='bwr')\n",
        "# ax1.set_title(\"Day->1 Env->Bad\")\n",
        "\n",
        "# arr = df.loc[(df[\"days_left\"] == 2) & (df[\"player1_prob_payoff\"] < 0.3), \"action\"].values\n",
        "# arr = np.insert(arr, 0, 1, axis=0)\n",
        "\n",
        "# ax2.imshow(np.reshape(arr, (4, 4)), cmap='bwr')\n",
        "# ax2.set_title(\"Day->2 Env->Bad\")\n",
        "\n",
        "# arr = df.loc[(df[\"days_left\"] == 1) & (df[\"player1_prob_payoff\"] > 0.3), \"action\"].values\n",
        "# arr = np.insert(arr, 0, 1, axis=0)\n",
        "\n",
        "# ax3.imshow(np.reshape(arr, (4, 4)), cmap='bwr')\n",
        "# ax3.set_title(\"Day->1 Env->Good\")\n",
        "\n",
        "# arr = df.loc[(df[\"days_left\"] == 2) & (df[\"player1_prob_payoff\"] > 0.3), \"action\"].values\n",
        "# arr = np.insert(arr, 0, 1, axis=0)\n",
        "\n",
        "# ax4.imshow(np.reshape(arr, (4, 4)), cmap='bwr')\n",
        "# ax4.set_title(\"Day->1 Env->Good\")\n",
        "\n",
        "# fig.tight_layout()\n",
        "# plt.show()"
      ],
      "metadata": {
        "colab": {
          "base_uri": "https://localhost:8080/",
          "height": 584
        },
        "id": "YmNsJMKrpxVu",
        "outputId": "e01abbb3-b457-43f2-9586-b822f728ae32"
      },
      "execution_count": 29,
      "outputs": [
        {
          "output_type": "execute_result",
          "data": {
            "text/plain": [
              "     days_left  player1_life_points  player2_life_points  player1_prob_payoff  \\\n",
              "547          2                    3                    2                  0.2   \n",
              "549          2                    3                    2                  0.4   \n",
              "550          2                    3                    2                  0.4   \n",
              "551          2                    3                    2                  0.4   \n",
              "552          2                    3                    2                  0.4   \n",
              "553          2                    3                    2                  0.4   \n",
              "554          2                    3                    2                  0.4   \n",
              "555          2                    3                    2                  0.4   \n",
              "556          2                    3                    2                  0.4   \n",
              "557          2                    3                    2                  0.4   \n",
              "570          2                    3                    3                  0.4   \n",
              "571          2                    3                    3                  0.4   \n",
              "572          2                    3                    3                  0.4   \n",
              "574          2                    3                    3                  0.4   \n",
              "575          2                    3                    3                  0.4   \n",
              "\n",
              "     player2_prob_payoff player1_previous_action player2_previous_action  \\\n",
              "547                  0.2                    none                    play   \n",
              "549                  0.4                    wait                    wait   \n",
              "550                  0.4                    wait                    play   \n",
              "551                  0.4                    wait                    none   \n",
              "552                  0.4                    play                    wait   \n",
              "553                  0.4                    play                    play   \n",
              "554                  0.4                    play                    none   \n",
              "555                  0.4                    none                    wait   \n",
              "556                  0.4                    none                    play   \n",
              "557                  0.4                    none                    none   \n",
              "570                  0.4                    play                    wait   \n",
              "571                  0.4                    play                    play   \n",
              "572                  0.4                    play                    none   \n",
              "574                  0.4                    none                    play   \n",
              "575                  0.4                    none                    none   \n",
              "\n",
              "    player2_predicted_action  player2_logit_wait  player2_logit_play  \n",
              "547                     play           -1.243760           -1.175949  \n",
              "549                     play           -1.798275           -1.064658  \n",
              "550                     play           -1.824508           -1.108078  \n",
              "551                     play           -1.519920           -1.411538  \n",
              "552                     play           -1.698489           -0.784635  \n",
              "553                     play           -1.524901           -0.682997  \n",
              "554                     play           -1.259896           -0.710160  \n",
              "555                     play           -1.624023           -0.796999  \n",
              "556                     play           -1.344220           -0.480805  \n",
              "557                     play           -1.148120           -0.403004  \n",
              "570                     play           -0.343371           -0.338440  \n",
              "571                     play           -0.357246           -0.281139  \n",
              "572                     play           -0.328873           -0.245449  \n",
              "574                     play           -0.367648           -0.076656  \n",
              "575                     play           -0.257458           -0.102440  "
            ],
            "text/html": [
              "\n",
              "  <div id=\"df-400ed2ec-d234-4ad0-bb6d-b7fdfb8dff1c\">\n",
              "    <div class=\"colab-df-container\">\n",
              "      <div>\n",
              "<style scoped>\n",
              "    .dataframe tbody tr th:only-of-type {\n",
              "        vertical-align: middle;\n",
              "    }\n",
              "\n",
              "    .dataframe tbody tr th {\n",
              "        vertical-align: top;\n",
              "    }\n",
              "\n",
              "    .dataframe thead th {\n",
              "        text-align: right;\n",
              "    }\n",
              "</style>\n",
              "<table border=\"1\" class=\"dataframe\">\n",
              "  <thead>\n",
              "    <tr style=\"text-align: right;\">\n",
              "      <th></th>\n",
              "      <th>days_left</th>\n",
              "      <th>player1_life_points</th>\n",
              "      <th>player2_life_points</th>\n",
              "      <th>player1_prob_payoff</th>\n",
              "      <th>player2_prob_payoff</th>\n",
              "      <th>player1_previous_action</th>\n",
              "      <th>player2_previous_action</th>\n",
              "      <th>player2_predicted_action</th>\n",
              "      <th>player2_logit_wait</th>\n",
              "      <th>player2_logit_play</th>\n",
              "    </tr>\n",
              "  </thead>\n",
              "  <tbody>\n",
              "    <tr>\n",
              "      <th>547</th>\n",
              "      <td>2</td>\n",
              "      <td>3</td>\n",
              "      <td>2</td>\n",
              "      <td>0.2</td>\n",
              "      <td>0.2</td>\n",
              "      <td>none</td>\n",
              "      <td>play</td>\n",
              "      <td>play</td>\n",
              "      <td>-1.243760</td>\n",
              "      <td>-1.175949</td>\n",
              "    </tr>\n",
              "    <tr>\n",
              "      <th>549</th>\n",
              "      <td>2</td>\n",
              "      <td>3</td>\n",
              "      <td>2</td>\n",
              "      <td>0.4</td>\n",
              "      <td>0.4</td>\n",
              "      <td>wait</td>\n",
              "      <td>wait</td>\n",
              "      <td>play</td>\n",
              "      <td>-1.798275</td>\n",
              "      <td>-1.064658</td>\n",
              "    </tr>\n",
              "    <tr>\n",
              "      <th>550</th>\n",
              "      <td>2</td>\n",
              "      <td>3</td>\n",
              "      <td>2</td>\n",
              "      <td>0.4</td>\n",
              "      <td>0.4</td>\n",
              "      <td>wait</td>\n",
              "      <td>play</td>\n",
              "      <td>play</td>\n",
              "      <td>-1.824508</td>\n",
              "      <td>-1.108078</td>\n",
              "    </tr>\n",
              "    <tr>\n",
              "      <th>551</th>\n",
              "      <td>2</td>\n",
              "      <td>3</td>\n",
              "      <td>2</td>\n",
              "      <td>0.4</td>\n",
              "      <td>0.4</td>\n",
              "      <td>wait</td>\n",
              "      <td>none</td>\n",
              "      <td>play</td>\n",
              "      <td>-1.519920</td>\n",
              "      <td>-1.411538</td>\n",
              "    </tr>\n",
              "    <tr>\n",
              "      <th>552</th>\n",
              "      <td>2</td>\n",
              "      <td>3</td>\n",
              "      <td>2</td>\n",
              "      <td>0.4</td>\n",
              "      <td>0.4</td>\n",
              "      <td>play</td>\n",
              "      <td>wait</td>\n",
              "      <td>play</td>\n",
              "      <td>-1.698489</td>\n",
              "      <td>-0.784635</td>\n",
              "    </tr>\n",
              "    <tr>\n",
              "      <th>553</th>\n",
              "      <td>2</td>\n",
              "      <td>3</td>\n",
              "      <td>2</td>\n",
              "      <td>0.4</td>\n",
              "      <td>0.4</td>\n",
              "      <td>play</td>\n",
              "      <td>play</td>\n",
              "      <td>play</td>\n",
              "      <td>-1.524901</td>\n",
              "      <td>-0.682997</td>\n",
              "    </tr>\n",
              "    <tr>\n",
              "      <th>554</th>\n",
              "      <td>2</td>\n",
              "      <td>3</td>\n",
              "      <td>2</td>\n",
              "      <td>0.4</td>\n",
              "      <td>0.4</td>\n",
              "      <td>play</td>\n",
              "      <td>none</td>\n",
              "      <td>play</td>\n",
              "      <td>-1.259896</td>\n",
              "      <td>-0.710160</td>\n",
              "    </tr>\n",
              "    <tr>\n",
              "      <th>555</th>\n",
              "      <td>2</td>\n",
              "      <td>3</td>\n",
              "      <td>2</td>\n",
              "      <td>0.4</td>\n",
              "      <td>0.4</td>\n",
              "      <td>none</td>\n",
              "      <td>wait</td>\n",
              "      <td>play</td>\n",
              "      <td>-1.624023</td>\n",
              "      <td>-0.796999</td>\n",
              "    </tr>\n",
              "    <tr>\n",
              "      <th>556</th>\n",
              "      <td>2</td>\n",
              "      <td>3</td>\n",
              "      <td>2</td>\n",
              "      <td>0.4</td>\n",
              "      <td>0.4</td>\n",
              "      <td>none</td>\n",
              "      <td>play</td>\n",
              "      <td>play</td>\n",
              "      <td>-1.344220</td>\n",
              "      <td>-0.480805</td>\n",
              "    </tr>\n",
              "    <tr>\n",
              "      <th>557</th>\n",
              "      <td>2</td>\n",
              "      <td>3</td>\n",
              "      <td>2</td>\n",
              "      <td>0.4</td>\n",
              "      <td>0.4</td>\n",
              "      <td>none</td>\n",
              "      <td>none</td>\n",
              "      <td>play</td>\n",
              "      <td>-1.148120</td>\n",
              "      <td>-0.403004</td>\n",
              "    </tr>\n",
              "    <tr>\n",
              "      <th>570</th>\n",
              "      <td>2</td>\n",
              "      <td>3</td>\n",
              "      <td>3</td>\n",
              "      <td>0.4</td>\n",
              "      <td>0.4</td>\n",
              "      <td>play</td>\n",
              "      <td>wait</td>\n",
              "      <td>play</td>\n",
              "      <td>-0.343371</td>\n",
              "      <td>-0.338440</td>\n",
              "    </tr>\n",
              "    <tr>\n",
              "      <th>571</th>\n",
              "      <td>2</td>\n",
              "      <td>3</td>\n",
              "      <td>3</td>\n",
              "      <td>0.4</td>\n",
              "      <td>0.4</td>\n",
              "      <td>play</td>\n",
              "      <td>play</td>\n",
              "      <td>play</td>\n",
              "      <td>-0.357246</td>\n",
              "      <td>-0.281139</td>\n",
              "    </tr>\n",
              "    <tr>\n",
              "      <th>572</th>\n",
              "      <td>2</td>\n",
              "      <td>3</td>\n",
              "      <td>3</td>\n",
              "      <td>0.4</td>\n",
              "      <td>0.4</td>\n",
              "      <td>play</td>\n",
              "      <td>none</td>\n",
              "      <td>play</td>\n",
              "      <td>-0.328873</td>\n",
              "      <td>-0.245449</td>\n",
              "    </tr>\n",
              "    <tr>\n",
              "      <th>574</th>\n",
              "      <td>2</td>\n",
              "      <td>3</td>\n",
              "      <td>3</td>\n",
              "      <td>0.4</td>\n",
              "      <td>0.4</td>\n",
              "      <td>none</td>\n",
              "      <td>play</td>\n",
              "      <td>play</td>\n",
              "      <td>-0.367648</td>\n",
              "      <td>-0.076656</td>\n",
              "    </tr>\n",
              "    <tr>\n",
              "      <th>575</th>\n",
              "      <td>2</td>\n",
              "      <td>3</td>\n",
              "      <td>3</td>\n",
              "      <td>0.4</td>\n",
              "      <td>0.4</td>\n",
              "      <td>none</td>\n",
              "      <td>none</td>\n",
              "      <td>play</td>\n",
              "      <td>-0.257458</td>\n",
              "      <td>-0.102440</td>\n",
              "    </tr>\n",
              "  </tbody>\n",
              "</table>\n",
              "</div>\n",
              "      <button class=\"colab-df-convert\" onclick=\"convertToInteractive('df-400ed2ec-d234-4ad0-bb6d-b7fdfb8dff1c')\"\n",
              "              title=\"Convert this dataframe to an interactive table.\"\n",
              "              style=\"display:none;\">\n",
              "        \n",
              "  <svg xmlns=\"http://www.w3.org/2000/svg\" height=\"24px\"viewBox=\"0 0 24 24\"\n",
              "       width=\"24px\">\n",
              "    <path d=\"M0 0h24v24H0V0z\" fill=\"none\"/>\n",
              "    <path d=\"M18.56 5.44l.94 2.06.94-2.06 2.06-.94-2.06-.94-.94-2.06-.94 2.06-2.06.94zm-11 1L8.5 8.5l.94-2.06 2.06-.94-2.06-.94L8.5 2.5l-.94 2.06-2.06.94zm10 10l.94 2.06.94-2.06 2.06-.94-2.06-.94-.94-2.06-.94 2.06-2.06.94z\"/><path d=\"M17.41 7.96l-1.37-1.37c-.4-.4-.92-.59-1.43-.59-.52 0-1.04.2-1.43.59L10.3 9.45l-7.72 7.72c-.78.78-.78 2.05 0 2.83L4 21.41c.39.39.9.59 1.41.59.51 0 1.02-.2 1.41-.59l7.78-7.78 2.81-2.81c.8-.78.8-2.07 0-2.86zM5.41 20L4 18.59l7.72-7.72 1.47 1.35L5.41 20z\"/>\n",
              "  </svg>\n",
              "      </button>\n",
              "      \n",
              "  <style>\n",
              "    .colab-df-container {\n",
              "      display:flex;\n",
              "      flex-wrap:wrap;\n",
              "      gap: 12px;\n",
              "    }\n",
              "\n",
              "    .colab-df-convert {\n",
              "      background-color: #E8F0FE;\n",
              "      border: none;\n",
              "      border-radius: 50%;\n",
              "      cursor: pointer;\n",
              "      display: none;\n",
              "      fill: #1967D2;\n",
              "      height: 32px;\n",
              "      padding: 0 0 0 0;\n",
              "      width: 32px;\n",
              "    }\n",
              "\n",
              "    .colab-df-convert:hover {\n",
              "      background-color: #E2EBFA;\n",
              "      box-shadow: 0px 1px 2px rgba(60, 64, 67, 0.3), 0px 1px 3px 1px rgba(60, 64, 67, 0.15);\n",
              "      fill: #174EA6;\n",
              "    }\n",
              "\n",
              "    [theme=dark] .colab-df-convert {\n",
              "      background-color: #3B4455;\n",
              "      fill: #D2E3FC;\n",
              "    }\n",
              "\n",
              "    [theme=dark] .colab-df-convert:hover {\n",
              "      background-color: #434B5C;\n",
              "      box-shadow: 0px 1px 3px 1px rgba(0, 0, 0, 0.15);\n",
              "      filter: drop-shadow(0px 1px 2px rgba(0, 0, 0, 0.3));\n",
              "      fill: #FFFFFF;\n",
              "    }\n",
              "  </style>\n",
              "\n",
              "      <script>\n",
              "        const buttonEl =\n",
              "          document.querySelector('#df-400ed2ec-d234-4ad0-bb6d-b7fdfb8dff1c button.colab-df-convert');\n",
              "        buttonEl.style.display =\n",
              "          google.colab.kernel.accessAllowed ? 'block' : 'none';\n",
              "\n",
              "        async function convertToInteractive(key) {\n",
              "          const element = document.querySelector('#df-400ed2ec-d234-4ad0-bb6d-b7fdfb8dff1c');\n",
              "          const dataTable =\n",
              "            await google.colab.kernel.invokeFunction('convertToInteractive',\n",
              "                                                     [key], {});\n",
              "          if (!dataTable) return;\n",
              "\n",
              "          const docLinkHtml = 'Like what you see? Visit the ' +\n",
              "            '<a target=\"_blank\" href=https://colab.research.google.com/notebooks/data_table.ipynb>data table notebook</a>'\n",
              "            + ' to learn more about interactive tables.';\n",
              "          element.innerHTML = '';\n",
              "          dataTable['output_type'] = 'display_data';\n",
              "          await google.colab.output.renderOutput(dataTable, element);\n",
              "          const docLink = document.createElement('div');\n",
              "          docLink.innerHTML = docLinkHtml;\n",
              "          element.appendChild(docLink);\n",
              "        }\n",
              "      </script>\n",
              "    </div>\n",
              "  </div>\n",
              "  "
            ]
          },
          "metadata": {},
          "execution_count": 29
        }
      ]
    },
    {
      "cell_type": "code",
      "source": [
        "#@title Case - Optimal vs DRL\n",
        "policy = MultiAgentPolicyManager([OptimalPolicy(), agent_learn2],  _get_env())\n",
        "test_envs = DummyVectorEnv([_get_env for _ in range(2)])\n",
        "test_collector = Collector(policy, test_envs, exploration_noise=True)\n",
        "\n",
        "result = test_collector.collect(n_step=4*1000)\n",
        "arr = result[\"rews\"]\n",
        "death_rates = np.sum(arr, axis=0) / np.sum(arr, axis=0)[0]\n",
        "print(f\"death rate of player2: {(np.sum(arr, axis=0) / arr.shape[0])[-1] * -1:.3f}\")\n",
        "print(f\"ratio of death rate of player2 with respect to player1: {death_rates[-1]:.3f}\")\n",
        "plt.plot(arr.cumsum(axis=0))\n",
        "plt.legend((\"player1\", \"player2\"))\n",
        "plt.show()"
      ],
      "metadata": {
        "id": "DHJQl1CrtbzX",
        "outputId": "cf016d59-e5d6-416f-9771-fb5f2cd295e3",
        "colab": {
          "base_uri": "https://localhost:8080/",
          "height": 522
        },
        "cellView": "form"
      },
      "execution_count": 30,
      "outputs": [
        {
          "output_type": "stream",
          "name": "stderr",
          "text": [
            "/usr/local/lib/python3.10/dist-packages/ipykernel/ipkernel.py:283: DeprecationWarning: `should_run_async` will not call `transform_cell` automatically in the future. Please pass the result to `transformed_cell` argument and any exception that happen during thetransform in `preprocessing_exc_tuple` in IPython 7.17 and above.\n",
            "  and should_run_async(code)\n"
          ]
        },
        {
          "output_type": "stream",
          "name": "stdout",
          "text": [
            "death rate of player2: 0.288\n",
            "ratio of death rate of player2 with respect to player1: 0.841\n"
          ]
        },
        {
          "output_type": "display_data",
          "data": {
            "text/plain": [
              "<Figure size 640x480 with 1 Axes>"
            ],
            "image/png": "[encoded data removed]"
          },
          "metadata": {}
        }
      ]
    },
    {
      "cell_type": "code",
      "source": [
        "#@title Case - optimal vs optimal\n",
        "policy = MultiAgentPolicyManager([OptimalPolicy(), OptimalPolicy()],  _get_env())\n",
        "test_envs = DummyVectorEnv([_get_env for _ in range(2)])\n",
        "test_collector = Collector(policy, test_envs, exploration_noise=True)\n",
        "\n",
        "result = test_collector.collect(n_step=4*1000)\n",
        "arr = result[\"rews\"]\n",
        "death_rates = np.sum(arr, axis=0) / np.sum(arr, axis=0)[0]\n",
        "print(f\"death rate of player2: {(np.sum(arr, axis=0) / arr.shape[0])[-1] * -1:.3f}\")\n",
        "print(f\"ratio of death rate of player2 with respect to player1: {death_rates[-1]:.3f}\")\n",
        "plt.plot(arr.cumsum(axis=0))\n",
        "plt.legend((\"player1\", \"player2\"))\n",
        "plt.show()"
      ],
      "metadata": {
        "id": "iXU204WEtjgg",
        "outputId": "7ee3dd8a-ef6f-404f-dbec-2eeba5b5fa1f",
        "colab": {
          "base_uri": "https://localhost:8080/",
          "height": 522
        },
        "cellView": "form"
      },
      "execution_count": 31,
      "outputs": [
        {
          "output_type": "stream",
          "name": "stderr",
          "text": [
            "/usr/local/lib/python3.10/dist-packages/ipykernel/ipkernel.py:283: DeprecationWarning: `should_run_async` will not call `transform_cell` automatically in the future. Please pass the result to `transformed_cell` argument and any exception that happen during thetransform in `preprocessing_exc_tuple` in IPython 7.17 and above.\n",
            "  and should_run_async(code)\n"
          ]
        },
        {
          "output_type": "stream",
          "name": "stdout",
          "text": [
            "death rate of player2: 0.173\n",
            "ratio of death rate of player2 with respect to player1: 0.547\n"
          ]
        },
        {
          "output_type": "display_data",
          "data": {
            "text/plain": [
              "<Figure size 640x480 with 1 Axes>"
            ],
            "image/png": "[encoded data removed]"
          },
          "metadata": {}
        }
      ]
    },
    {
      "cell_type": "code",
      "source": [
        "#@title Case - optimal vs Hail Mary\n",
        "policy = MultiAgentPolicyManager([OptimalPolicy(), HailMary()],  _get_env())\n",
        "test_envs = DummyVectorEnv([_get_env for _ in range(2)])\n",
        "test_collector = Collector(policy, test_envs, exploration_noise=True)\n",
        "\n",
        "result = test_collector.collect(n_step=4*1000)\n",
        "arr = result[\"rews\"]\n",
        "death_rates = np.sum(arr, axis=0) / np.sum(arr, axis=0)[0]\n",
        "print(f\"death rate of player2: {(np.sum(arr, axis=0) / arr.shape[0])[-1] * -1:.3f}\")\n",
        "print(f\"ratio of death rate of player2 with respect to player1: {death_rates[-1]:.3f}\")\n",
        "plt.plot(arr.cumsum(axis=0))\n",
        "plt.legend((\"player1\", \"player2\"))\n",
        "plt.show()"
      ],
      "metadata": {
        "colab": {
          "base_uri": "https://localhost:8080/",
          "height": 522
        },
        "cellView": "form",
        "id": "WB5v7wpg3E_Q",
        "outputId": "122cc6c7-3648-4cdf-d3dd-22dbc56bf90c"
      },
      "execution_count": 32,
      "outputs": [
        {
          "output_type": "stream",
          "name": "stderr",
          "text": [
            "/usr/local/lib/python3.10/dist-packages/ipykernel/ipkernel.py:283: DeprecationWarning: `should_run_async` will not call `transform_cell` automatically in the future. Please pass the result to `transformed_cell` argument and any exception that happen during thetransform in `preprocessing_exc_tuple` in IPython 7.17 and above.\n",
            "  and should_run_async(code)\n"
          ]
        },
        {
          "output_type": "stream",
          "name": "stdout",
          "text": [
            "death rate of player2: 0.359\n",
            "ratio of death rate of player2 with respect to player1: 0.959\n"
          ]
        },
        {
          "output_type": "display_data",
          "data": {
            "text/plain": [
              "<Figure size 640x480 with 1 Axes>"
            ],
            "image/png": "[encoded data removed]"
          },
          "metadata": {}
        }
      ]
    },
    {
      "cell_type": "code",
      "source": [
        "#@title Case - optimal vs random agent\n",
        "policy = MultiAgentPolicyManager([OptimalPolicy(), RandomAgent()],  _get_env())\n",
        "test_envs = DummyVectorEnv([_get_env for _ in range(2)])\n",
        "test_collector = Collector(policy, test_envs, exploration_noise=True)\n",
        "\n",
        "result = test_collector.collect(n_step=4*1000)\n",
        "arr = result[\"rews\"]\n",
        "death_rates = np.sum(arr, axis=0) / np.sum(arr, axis=0)[0]\n",
        "print(f\"death rate of player2: {(np.sum(arr, axis=0) / arr.shape[0])[-1] * -1:.3f}\")\n",
        "print(f\"ratio of death rate of player2 with respect to player1: {death_rates[-1]:.3f}\")\n",
        "plt.plot(arr.cumsum(axis=0))\n",
        "plt.legend((\"player1\", \"player2\"))\n",
        "plt.show()"
      ],
      "metadata": {
        "cellView": "form",
        "colab": {
          "base_uri": "https://localhost:8080/",
          "height": 522
        },
        "id": "10IOrfyY3LVZ",
        "outputId": "f6aaf73c-e244-4ed9-e008-5f9a18bccf72"
      },
      "execution_count": 33,
      "outputs": [
        {
          "output_type": "stream",
          "name": "stderr",
          "text": [
            "/usr/local/lib/python3.10/dist-packages/ipykernel/ipkernel.py:283: DeprecationWarning: `should_run_async` will not call `transform_cell` automatically in the future. Please pass the result to `transformed_cell` argument and any exception that happen during thetransform in `preprocessing_exc_tuple` in IPython 7.17 and above.\n",
            "  and should_run_async(code)\n"
          ]
        },
        {
          "output_type": "stream",
          "name": "stdout",
          "text": [
            "death rate of player2: 0.413\n",
            "ratio of death rate of player2 with respect to player1: 0.993\n"
          ]
        },
        {
          "output_type": "display_data",
          "data": {
            "text/plain": [
              "<Figure size 640x480 with 1 Axes>"
            ],
            "image/png": "[encoded data removed]"
          },
          "metadata": {}
        }
      ]
    },
    {
      "cell_type": "code",
      "source": [],
      "metadata": {
        "colab": {
          "base_uri": "https://localhost:8080/"
        },
        "id": "P_UUU6Tz3Tr5",
        "outputId": "56ebd4fb-b79f-4051-896c-54e5e5cf17f8"
      },
      "execution_count": 33,
      "outputs": [
        {
          "output_type": "stream",
          "name": "stderr",
          "text": [
            "/usr/local/lib/python3.10/dist-packages/ipykernel/ipkernel.py:283: DeprecationWarning: `should_run_async` will not call `transform_cell` automatically in the future. Please pass the result to `transformed_cell` argument and any exception that happen during thetransform in `preprocessing_exc_tuple` in IPython 7.17 and above.\n",
            "  and should_run_async(code)\n"
          ]
        }
      ]
    }
  ]
}