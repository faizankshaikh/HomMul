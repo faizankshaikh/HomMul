{
  "nbformat": 4,
  "nbformat_minor": 0,
  "metadata": {
    "colab": {
      "provenance": [],
      "gpuType": "T4",
      "authorship_tag": "ABX9TyMmw0pWeTvQvd5jy9c1KUAP",
      "include_colab_link": true
    },
    "kernelspec": {
      "name": "python3",
      "display_name": "Python 3"
    },
    "language_info": {
      "name": "python"
    },
    "accelerator": "GPU",
    "gpuClass": "standard"
  },
  "cells": [
    {
      "cell_type": "markdown",
      "metadata": {
        "id": "view-in-github",
        "colab_type": "text"
      },
      "source": [
        "<a href=\"https://colab.research.google.com/github/faizankshaikh/HomMul/blob/main/experiments/trial1.ipynb\" target=\"_parent\"><img src=\"https://colab.research.google.com/assets/colab-badge.svg\" alt=\"Open In Colab\"/></a>"
      ]
    },
    {
      "cell_type": "markdown",
      "source": [
        "# Experiments with Self-Playing Deep Reinforcement Learning\n"
      ],
      "metadata": {
        "id": "EG4U4ibl9Cnl"
      }
    },
    {
      "cell_type": "code",
      "execution_count": 1,
      "metadata": {
        "id": "V2BNDFAEr5fq",
        "cellView": "form"
      },
      "outputs": [],
      "source": [
        "#@title Required installation\n",
        "# !pip install -q black gymnasium pettingzoo==1.22.3 tianshou\n",
        "# !git clone https://github.com/faizankshaikh/HomMul.git"
      ]
    },
    {
      "cell_type": "code",
      "source": [
        "#@title Change working path\n",
        "%cd HomMul/"
      ],
      "metadata": {
        "colab": {
          "base_uri": "https://localhost:8080/"
        },
        "id": "NBShrrDlsJLP",
        "outputId": "ae965328-6a13-43e1-d50b-dd9693c7f9e6",
        "cellView": "form"
      },
      "execution_count": 2,
      "outputs": [
        {
          "output_type": "stream",
          "name": "stdout",
          "text": [
            "/content/HomMul\n"
          ]
        }
      ]
    },
    {
      "cell_type": "code",
      "source": [
        "#@title Import libraries and modules\n",
        "%load_ext tensorboard\n",
        "\n",
        "import os\n",
        "import torch\n",
        "import numpy as np\n",
        "import pandas as pd\n",
        "import matplotlib.pyplot as plt\n",
        "\n",
        "from hommul.envs.hommul_v0 import HomMul\n",
        "\n",
        "from torch.optim import Adam\n",
        "\n",
        "from tianshou.data import Batch\n",
        "from tianshou.utils.net.common import Net\n",
        "from tianshou.utils import TensorboardLogger\n",
        "from tianshou.trainer import offpolicy_trainer\n",
        "from tianshou.data import Collector, VectorReplayBuffer\n",
        "from tianshou.env import DummyVectorEnv, PettingZooEnv\n",
        "from tianshou.policy import BasePolicy, DQNPolicy, MultiAgentPolicyManager\n",
        "\n",
        "from pettingzoo.utils import parallel_to_aec\n",
        "\n",
        "from torch.utils.tensorboard import SummaryWriter"
      ],
      "metadata": {
        "id": "othtAUgWs8MA",
        "cellView": "form"
      },
      "execution_count": 3,
      "outputs": []
    },
    {
      "cell_type": "code",
      "source": [
        "#@title Setup Gymnasium environment\n",
        "env = HomMul()\n",
        "original_env = HomMul(render_mode=\"human\")"
      ],
      "metadata": {
        "colab": {
          "base_uri": "https://localhost:8080/"
        },
        "id": "ZkPx4nCOuhXX",
        "outputId": "1ff93db7-d2f4-4b76-d8b7-9285d1be69b2",
        "cellView": "form"
      },
      "execution_count": 4,
      "outputs": [
        {
          "output_type": "stream",
          "name": "stderr",
          "text": [
            "/usr/local/lib/python3.10/dist-packages/ipykernel/ipkernel.py:283: DeprecationWarning: `should_run_async` will not call `transform_cell` automatically in the future. Please pass the result to `transformed_cell` argument and any exception that happen during thetransform in `preprocessing_exc_tuple` in IPython 7.17 and above.\n",
            "  and should_run_async(code)\n"
          ]
        }
      ]
    },
    {
      "cell_type": "code",
      "source": [
        "#@title Example of gameplay\n",
        "episodes = 2\n",
        "\n",
        "for episode in range(episodes):\n",
        "    print(f\"Episode #{episode+1}\")\n",
        "    print(\"=\" * 10)\n",
        "    obs = original_env.reset()\n",
        "    print()\n",
        "\n",
        "    while original_env.agents:\n",
        "        acts = {\n",
        "            \"player1\": np.random.choice([0, 1]),\n",
        "            \"player2\": np.random.choice([0, 1])\n",
        "        }\n",
        "        print(f\"--Action taken by player 1: {original_env.action_dict[acts['player1']]}\")\n",
        "        print(f\"--Action taken by player 2: {original_env.action_dict[acts['player2']]}\")\n",
        "        print()\n",
        "\n",
        "        obs, rews, terms, truncs, infos = original_env.step(acts)\n",
        "        print()"
      ],
      "metadata": {
        "colab": {
          "base_uri": "https://localhost:8080/"
        },
        "id": "ANr_Vc2ouvVJ",
        "outputId": "5ad991f5-8e0f-4719-890f-ebc608c62625",
        "cellView": "form"
      },
      "execution_count": 5,
      "outputs": [
        {
          "output_type": "stream",
          "name": "stdout",
          "text": [
            "Episode #1\n",
            "==========\n",
            "--Days left: 2\n",
            "--Current life of agent 1: 1\n",
            "--Current life of agent 2: 2\n",
            "--Probability of payoff for agent 1: 0.2\n",
            "--Probability of payoff for agent 2: 0.2\n",
            "\n",
            "--Action taken by player 1: play\n",
            "--Action taken by player 2: play\n",
            "\n",
            "--Days left: 1\n",
            "--Current life of agent 1: 0\n",
            "--Current life of agent 2: 0\n",
            "--Probability of payoff for agent 1: 0.2\n",
            "--Probability of payoff for agent 2: 0.2\n",
            "--Previous action of agent 1: play\n",
            "--Previous action of agent 2: play\n",
            "\n",
            "Episode #2\n",
            "==========\n",
            "--Days left: 2\n",
            "--Current life of agent 1: 3\n",
            "--Current life of agent 2: 2\n",
            "--Probability of payoff for agent 1: 0.4\n",
            "--Probability of payoff for agent 2: 0.4\n",
            "\n",
            "--Action taken by player 1: wait\n",
            "--Action taken by player 2: play\n",
            "\n",
            "--Days left: 1\n",
            "--Current life of agent 1: 2\n",
            "--Current life of agent 2: 0\n",
            "--Probability of payoff for agent 1: 0.2\n",
            "--Probability of payoff for agent 2: 0.2\n",
            "--Previous action of agent 1: wait\n",
            "--Previous action of agent 2: play\n",
            "\n",
            "--Action taken by player 1: play\n",
            "--Action taken by player 2: play\n",
            "\n",
            "--Days left: 0\n",
            "--Current life of agent 1: 0\n",
            "--Current life of agent 2: 0\n",
            "--Probability of payoff for agent 1: 0.4\n",
            "--Probability of payoff for agent 2: 0.4\n",
            "--Previous action of agent 1: play\n",
            "--Previous action of agent 2: play\n",
            "\n"
          ]
        }
      ]
    },
    {
      "cell_type": "markdown",
      "source": [
        "## Heuristics Benchmarking\n"
      ],
      "metadata": {
        "id": "7QKl99aq9q4K"
      }
    },
    {
      "cell_type": "code",
      "source": [
        "#@title Case - both always play\n",
        "episodes = 1000\n",
        "\n",
        "episode_rews = []\n",
        "\n",
        "for _ in range(episodes):\n",
        "\n",
        "    obs = env.reset()\n",
        "    while env.agents:\n",
        "        acts = {\n",
        "            \"player1\": 1,\n",
        "            \"player2\": 1\n",
        "        }\n",
        "\n",
        "        obs, rews, terms, truncs, infos = env.step(acts)\n",
        "        # print(obs, rews)\n",
        "\n",
        "    episode_rews.append([rews['player1'], rews['player2']])\n",
        "\n",
        "arr = np.array(episode_rews)\n",
        "death_rates = np.sum(arr, axis=0) / np.sum(arr, axis=0)[0]\n",
        "print(f\"death rate of player2: {(np.sum(arr, axis=0) / arr.shape[0])[-1] * -1:.3f}\")\n",
        "print(f\"ratio of death rate of player2 with respect to player1: {death_rates[-1]:.3f}\")\n",
        "plt.plot(arr.cumsum(axis=0))\n",
        "plt.legend((\"player1\", \"player2\"))\n",
        "plt.show()"
      ],
      "metadata": {
        "colab": {
          "base_uri": "https://localhost:8080/",
          "height": 90
        },
        "id": "biogmPIWxNv3",
        "outputId": "5d6328e4-eb8a-4336-ec47-e53033ca56af",
        "cellView": "form"
      },
      "execution_count": 6,
      "outputs": [
        {
          "output_type": "stream",
          "name": "stdout",
          "text": [
            "death rate of player2: 0.315\n",
            "ratio of death rate of player2 with respect to player1: 0.873\n"
          ]
        },
        {
          "output_type": "display_data",
          "data": {
            "text/plain": [
              "<Figure size 640x480 with 1 Axes>"
            ],
            "image/png": "[encoded data removed]"
          },
          "metadata": {}
        }
      ]
    },
    {
      "cell_type": "code",
      "source": [
        "#@title Case - both always wait\n",
        "episodes = 1000\n",
        "\n",
        "episode_rews = []\n",
        "\n",
        "for _ in range(episodes):\n",
        "\n",
        "    obs = env.reset()\n",
        "    while env.agents:\n",
        "        acts = {\n",
        "            \"player1\": 0,\n",
        "            \"player2\": 0\n",
        "        }\n",
        "\n",
        "        obs, rews, terms, truncs, infos = env.step(acts)\n",
        "        # print(obs, rews)\n",
        "\n",
        "    episode_rews.append([rews['player1'], rews['player2']])\n",
        "\n",
        "arr = np.array(episode_rews)\n",
        "death_rates = np.sum(arr, axis=0) / np.sum(arr, axis=0)[0]\n",
        "print(f\"death rate of player2: {(np.sum(arr, axis=0) / arr.shape[0])[-1] * -1:.3f}\")\n",
        "print(f\"ratio of death rate of player2 with respect to player1: {death_rates[-1]:.3f}\")\n",
        "plt.plot(arr.cumsum(axis=0))\n",
        "plt.legend((\"player1\", \"player2\"))\n",
        "plt.show()"
      ],
      "metadata": {
        "colab": {
          "base_uri": "https://localhost:8080/",
          "height": 90
        },
        "id": "EpB7M86F3Nmk",
        "outputId": "d5632820-0be4-40a7-b801-82725cd34999",
        "cellView": "form"
      },
      "execution_count": 7,
      "outputs": [
        {
          "output_type": "stream",
          "name": "stdout",
          "text": [
            "death rate of player2: 0.436\n",
            "ratio of death rate of player2 with respect to player1: 0.669\n"
          ]
        },
        {
          "output_type": "display_data",
          "data": {
            "text/plain": [
              "<Figure size 640x480 with 1 Axes>"
            ],
            "image/png": "[encoded data removed]"
          },
          "metadata": {}
        }
      ]
    },
    {
      "cell_type": "code",
      "source": [
        "#@title Case - player1 waits, player2 plays\n",
        "episodes = 1000\n",
        "\n",
        "episode_rews = []\n",
        "\n",
        "for _ in range(episodes):\n",
        "\n",
        "    obs = env.reset()\n",
        "    while env.agents:\n",
        "        acts = {\n",
        "            \"player1\": 0,\n",
        "            \"player2\": 1\n",
        "        }\n",
        "\n",
        "        obs, rews, terms, truncs, infos = env.step(acts)\n",
        "        # print(obs, rews)\n",
        "\n",
        "    episode_rews.append([rews['player1'], rews['player2']])\n",
        "\n",
        "arr = np.array(episode_rews)\n",
        "death_rates = np.sum(arr, axis=0) / np.sum(arr, axis=0)[0]\n",
        "print(f\"death rate of player2: {(np.sum(arr, axis=0) / arr.shape[0])[-1] * -1:.3f}\")\n",
        "print(f\"ratio of death rate of player2 with respect to player1: {death_rates[-1]:.3f}\")\n",
        "plt.plot(arr.cumsum(axis=0))\n",
        "plt.legend((\"player1\", \"player2\"))\n",
        "plt.show()"
      ],
      "metadata": {
        "colab": {
          "base_uri": "https://localhost:8080/",
          "height": 90
        },
        "id": "O2wI3VsI3Tc8",
        "outputId": "3f53c74c-5fce-40c4-c43f-eb9255864d5f",
        "cellView": "form"
      },
      "execution_count": 8,
      "outputs": [
        {
          "output_type": "stream",
          "name": "stdout",
          "text": [
            "death rate of player2: 0.552\n",
            "ratio of death rate of player2 with respect to player1: 0.857\n"
          ]
        },
        {
          "output_type": "display_data",
          "data": {
            "text/plain": [
              "<Figure size 640x480 with 1 Axes>"
            ],
            "image/png": "[encoded data removed]"
          },
          "metadata": {}
        }
      ]
    },
    {
      "cell_type": "code",
      "source": [
        "#@title Case - player1 plays, player2 waits\n",
        "episodes = 1000\n",
        "\n",
        "episode_rews = []\n",
        "\n",
        "for _ in range(episodes):\n",
        "\n",
        "    obs = env.reset()\n",
        "    while env.agents:\n",
        "        acts = {\n",
        "            \"player1\": 1,\n",
        "            \"player2\": 0\n",
        "        }\n",
        "\n",
        "        obs, rews, terms, truncs, infos = env.step(acts)\n",
        "        # print(obs, rews)\n",
        "\n",
        "    episode_rews.append([rews['player1'], rews['player2']])\n",
        "\n",
        "arr = np.array(episode_rews)\n",
        "death_rates = np.sum(arr, axis=0) / np.sum(arr, axis=0)[0]\n",
        "print(f\"death rate of player2: {(np.sum(arr, axis=0) / arr.shape[0])[-1] * -1:.3f}\")\n",
        "print(f\"ratio of death rate of player2 with respect to player1: {death_rates[-1]:.3f}\")\n",
        "plt.plot(arr.cumsum(axis=0))\n",
        "plt.legend((\"player1\", \"player2\"))\n",
        "plt.show()"
      ],
      "metadata": {
        "colab": {
          "base_uri": "https://localhost:8080/",
          "height": 90
        },
        "id": "9eJWcQqC3Z99",
        "outputId": "658ecc15-3e56-4f5e-db58-7468106faff5",
        "cellView": "form"
      },
      "execution_count": 9,
      "outputs": [
        {
          "output_type": "stream",
          "name": "stdout",
          "text": [
            "death rate of player2: 0.437\n",
            "ratio of death rate of player2 with respect to player1: 0.696\n"
          ]
        },
        {
          "output_type": "display_data",
          "data": {
            "text/plain": [
              "<Figure size 640x480 with 1 Axes>"
            ],
            "image/png": "[encoded data removed]"
          },
          "metadata": {}
        }
      ]
    },
    {
      "cell_type": "code",
      "source": [
        "#@title Case - Always play vs random agent\n",
        "episodes = 1000\n",
        "\n",
        "episode_rews = []\n",
        "\n",
        "for _ in range(episodes):\n",
        "\n",
        "    obs = env.reset()\n",
        "    while env.agents:\n",
        "        acts = {\n",
        "            \"player1\": 1,\n",
        "            \"player2\": np.random.choice([0, 1])\n",
        "        }\n",
        "\n",
        "        obs, rews, terms, truncs, infos = env.step(acts)\n",
        "        # print(obs, rews)\n",
        "\n",
        "    episode_rews.append([rews['player1'], rews['player2']])\n",
        "\n",
        "arr = np.array(episode_rews)\n",
        "death_rates = np.sum(arr, axis=0) / np.sum(arr, axis=0)[0]\n",
        "print(f\"death rate of player2: {(np.sum(arr, axis=0) / arr.shape[0])[-1] * -1:.3f}\")\n",
        "print(f\"ratio of death rate of player2 with respect to player1: {death_rates[-1]:.3f}\")\n",
        "plt.plot(arr.cumsum(axis=0))\n",
        "plt.legend((\"player1\", \"player2\"))\n",
        "plt.show()"
      ],
      "metadata": {
        "colab": {
          "base_uri": "https://localhost:8080/",
          "height": 90
        },
        "id": "FPLlpZUh3i8f",
        "outputId": "3832d96e-28c8-4364-81fd-15ace2326fa4",
        "cellView": "form"
      },
      "execution_count": 10,
      "outputs": [
        {
          "output_type": "stream",
          "name": "stdout",
          "text": [
            "death rate of player2: 0.378\n",
            "ratio of death rate of player2 with respect to player1: 0.751\n"
          ]
        },
        {
          "output_type": "display_data",
          "data": {
            "text/plain": [
              "<Figure size 640x480 with 1 Axes>"
            ],
            "image/png": "[encoded data removed]"
          },
          "metadata": {}
        }
      ]
    },
    {
      "cell_type": "code",
      "source": [
        "#@title Case - Always wait vs random agent\n",
        "episodes = 1000\n",
        "\n",
        "episode_rews = []\n",
        "\n",
        "for _ in range(episodes):\n",
        "\n",
        "    obs = env.reset()\n",
        "    while env.agents:\n",
        "        acts = {\n",
        "            \"player1\": 0,\n",
        "            \"player2\": np.random.choice([0, 1])\n",
        "        }\n",
        "\n",
        "        obs, rews, terms, truncs, infos = env.step(acts)\n",
        "        # print(obs, rews)\n",
        "\n",
        "    episode_rews.append([rews['player1'], rews['player2']])\n",
        "\n",
        "arr = np.array(episode_rews)\n",
        "death_rates = np.sum(arr, axis=0) / np.sum(arr, axis=0)[0]\n",
        "print(f\"death rate of player2: {(np.sum(arr, axis=0) / arr.shape[0])[-1] * -1:.3f}\")\n",
        "print(f\"ratio of death rate of player2 with respect to player1: {death_rates[-1]:.3f}\")\n",
        "plt.plot(arr.cumsum(axis=0))\n",
        "plt.legend((\"player1\", \"player2\"))\n",
        "plt.show()"
      ],
      "metadata": {
        "colab": {
          "base_uri": "https://localhost:8080/",
          "height": 90
        },
        "id": "A2Ei4LU75us9",
        "outputId": "62355c46-7cc0-450b-869e-7ddd53db2f3b",
        "cellView": "form"
      },
      "execution_count": 11,
      "outputs": [
        {
          "output_type": "stream",
          "name": "stdout",
          "text": [
            "death rate of player2: 0.504\n",
            "ratio of death rate of player2 with respect to player1: 0.816\n"
          ]
        },
        {
          "output_type": "display_data",
          "data": {
            "text/plain": [
              "<Figure size 640x480 with 1 Axes>"
            ],
            "image/png": "[encoded data removed]"
          },
          "metadata": {}
        }
      ]
    },
    {
      "cell_type": "code",
      "source": [
        "#@title Case - Always play vs hail mary\n",
        "episodes = 1000\n",
        "\n",
        "episode_rews = []\n",
        "\n",
        "for _ in range(episodes):\n",
        "\n",
        "    obs = env.reset()\n",
        "    while env.agents:\n",
        "        acts = {\n",
        "            \"player1\": 1,\n",
        "            \"player2\": 1 if obs[\"player2\"][\"observation\"][0, 2] <= 1 else 0\n",
        "        }\n",
        "\n",
        "        obs, rews, terms, truncs, infos = env.step(acts)\n",
        "        # print(obs, rews)\n",
        "\n",
        "    episode_rews.append([rews['player1'], rews['player2']])\n",
        "\n",
        "arr = np.array(episode_rews)\n",
        "death_rates = np.sum(arr, axis=0) / np.sum(arr, axis=0)[0]\n",
        "print(f\"death rate of player2: {(np.sum(arr, axis=0) / arr.shape[0])[-1] * -1:.3f}\")\n",
        "print(f\"ratio of death rate of player2 with respect to player1: {death_rates[-1]:.3f}\")\n",
        "plt.plot(arr.cumsum(axis=0))\n",
        "plt.legend((\"player1\", \"player2\"))\n",
        "plt.show()"
      ],
      "metadata": {
        "colab": {
          "base_uri": "https://localhost:8080/",
          "height": 90
        },
        "id": "onhvByjW51QN",
        "outputId": "8e9ccf9c-2846-4f4b-a089-a561104fdf33",
        "cellView": "form"
      },
      "execution_count": 12,
      "outputs": [
        {
          "output_type": "stream",
          "name": "stdout",
          "text": [
            "death rate of player2: 0.196\n",
            "ratio of death rate of player2 with respect to player1: 0.341\n"
          ]
        },
        {
          "output_type": "display_data",
          "data": {
            "text/plain": [
              "<Figure size 640x480 with 1 Axes>"
            ],
            "image/png": "[encoded data removed]"
          },
          "metadata": {}
        }
      ]
    },
    {
      "cell_type": "code",
      "source": [
        "#@title Case - Always wait vs hail mary\n",
        "episodes = 1000\n",
        "\n",
        "episode_rews = []\n",
        "\n",
        "for _ in range(episodes):\n",
        "\n",
        "    obs = env.reset()\n",
        "    while env.agents:\n",
        "        acts = {\n",
        "            \"player1\": 0,\n",
        "            \"player2\": 1 if obs[\"player2\"][\"observation\"][0, 2] <= 1 else 0\n",
        "        }\n",
        "\n",
        "        obs, rews, terms, truncs, infos = env.step(acts)\n",
        "        # print(obs, rews)\n",
        "\n",
        "    episode_rews.append([rews['player1'], rews['player2']])\n",
        "\n",
        "arr = np.array(episode_rews)\n",
        "death_rates = np.sum(arr, axis=0) / np.sum(arr, axis=0)[0]\n",
        "print(f\"death rate of player2: {(np.sum(arr, axis=0) / arr.shape[0])[-1] * -1:.3f}\")\n",
        "print(f\"ratio of death rate of player2 with respect to player1: {death_rates[-1]:.3f}\")\n",
        "plt.plot(arr.cumsum(axis=0))\n",
        "plt.legend((\"player1\", \"player2\"))\n",
        "plt.show()"
      ],
      "metadata": {
        "colab": {
          "base_uri": "https://localhost:8080/",
          "height": 90
        },
        "id": "V8KQIrS76GRt",
        "outputId": "7f679a64-ce10-4202-9068-2cb8d40791c2",
        "cellView": "form"
      },
      "execution_count": 13,
      "outputs": [
        {
          "output_type": "stream",
          "name": "stdout",
          "text": [
            "death rate of player2: 0.308\n",
            "ratio of death rate of player2 with respect to player1: 0.501\n"
          ]
        },
        {
          "output_type": "display_data",
          "data": {
            "text/plain": [
              "<Figure size 640x480 with 1 Axes>"
            ],
            "image/png": "[encoded data removed]"
          },
          "metadata": {}
        }
      ]
    },
    {
      "cell_type": "code",
      "source": [
        "#@title Load optimal policy\n",
        "\n",
        "def optimal(obs):\n",
        "    df = pd.read_csv(\"models/optimal_policy.csv\")\n",
        "    return df.loc[\n",
        "        (df[\"days_left\"] == obs[\"player1\"][\"observation\"][0][0]) &\n",
        "        (df[\"player1_life_points\"] == obs[\"player1\"][\"observation\"][0][1]) &\n",
        "        (df[\"player2_life_points\"] == obs[\"player1\"][\"observation\"][0][2]) &\n",
        "        (df[\"player1_prob_payoff\"] == obs[\"player1\"][\"observation\"][0][3])\n",
        "    ][\"action\"].values[0] - 1"
      ],
      "metadata": {
        "id": "QBM2c6-kc-AP",
        "cellView": "form"
      },
      "execution_count": 14,
      "outputs": []
    },
    {
      "cell_type": "code",
      "source": [
        "#@title Case - hail mary vs optimal\n",
        "episodes = 1000\n",
        "\n",
        "episode_rews = []\n",
        "\n",
        "for _ in range(episodes):\n",
        "\n",
        "    obs = env.reset()\n",
        "    while env.agents:\n",
        "        acts = {\n",
        "            \"player1\": 1 if obs[\"player2\"][\"observation\"][0, 2] <= 1 else 0,\n",
        "            \"player2\": optimal(obs)\n",
        "        }\n",
        "\n",
        "        obs, rews, terms, truncs, infos = env.step(acts)\n",
        "        # print(obs, rews)\n",
        "\n",
        "    episode_rews.append([rews['player1'], rews['player2']])\n",
        "\n",
        "arr = np.array(episode_rews)\n",
        "death_rates = np.sum(arr, axis=0) / np.sum(arr, axis=0)[0]\n",
        "print(f\"death rate of player2: {(np.sum(arr, axis=0) / arr.shape[0])[-1] * -1:.3f}\")\n",
        "print(f\"ratio of death rate of player2 with respect to player1: {death_rates[-1]:.3f}\")\n",
        "plt.plot(arr.cumsum(axis=0))\n",
        "plt.legend((\"player1\", \"player2\"))\n",
        "plt.show()"
      ],
      "metadata": {
        "id": "Rp5rTe78auBy",
        "outputId": "4484da32-43ea-415d-aa28-4a3072046e41",
        "colab": {
          "base_uri": "https://localhost:8080/",
          "height": 90
        },
        "cellView": "form"
      },
      "execution_count": 15,
      "outputs": [
        {
          "output_type": "stream",
          "name": "stdout",
          "text": [
            "death rate of player2: 0.251\n",
            "ratio of death rate of player2 with respect to player1: 0.472\n"
          ]
        },
        {
          "output_type": "display_data",
          "data": {
            "text/plain": [
              "<Figure size 640x480 with 1 Axes>"
            ],
            "image/png": "[encoded data removed]"
          },
          "metadata": {}
        }
      ]
    },
    {
      "cell_type": "code",
      "source": [
        "#@title Case - Always wait vs optimal\n",
        "episodes = 1000\n",
        "\n",
        "episode_rews = []\n",
        "\n",
        "for _ in range(episodes):\n",
        "\n",
        "    obs = env.reset()\n",
        "    while env.agents:\n",
        "        acts = {\n",
        "            \"player1\": 0,\n",
        "            \"player2\": optimal(obs)\n",
        "        }\n",
        "\n",
        "        obs, rews, terms, truncs, infos = env.step(acts)\n",
        "        # print(obs, rews)\n",
        "\n",
        "    episode_rews.append([rews['player1'], rews['player2']])\n",
        "\n",
        "arr = np.array(episode_rews)\n",
        "death_rates = np.sum(arr, axis=0) / np.sum(arr, axis=0)[0]\n",
        "print(f\"death rate of player2: {(np.sum(arr, axis=0) / arr.shape[0])[-1] * -1:.3f}\")\n",
        "print(f\"ratio of death rate of player2 with respect to player1: {death_rates[-1]:.3f}\")\n",
        "plt.plot(arr.cumsum(axis=0))\n",
        "plt.legend((\"player1\", \"player2\"))\n",
        "plt.show()"
      ],
      "metadata": {
        "id": "RL0wZWyMh7l9",
        "outputId": "ce1c4316-bec1-4402-84cb-9fd049dd0126",
        "colab": {
          "base_uri": "https://localhost:8080/",
          "height": 126
        },
        "cellView": "form"
      },
      "execution_count": 16,
      "outputs": [
        {
          "output_type": "stream",
          "name": "stderr",
          "text": [
            "/usr/local/lib/python3.10/dist-packages/ipykernel/ipkernel.py:283: DeprecationWarning: `should_run_async` will not call `transform_cell` automatically in the future. Please pass the result to `transformed_cell` argument and any exception that happen during thetransform in `preprocessing_exc_tuple` in IPython 7.17 and above.\n",
            "  and should_run_async(code)\n"
          ]
        },
        {
          "output_type": "stream",
          "name": "stdout",
          "text": [
            "death rate of player2: 0.379\n",
            "ratio of death rate of player2 with respect to player1: 0.625\n"
          ]
        },
        {
          "output_type": "display_data",
          "data": {
            "text/plain": [
              "<Figure size 640x480 with 1 Axes>"
            ],
            "image/png": "[encoded data removed]"
          },
          "metadata": {}
        }
      ]
    },
    {
      "cell_type": "code",
      "source": [
        "#@title Case - Always play vs optimal\n",
        "episodes = 1000\n",
        "\n",
        "episode_rews = []\n",
        "\n",
        "for _ in range(episodes):\n",
        "\n",
        "    obs = env.reset()\n",
        "    while env.agents:\n",
        "        acts = {\n",
        "            \"player1\": 1,\n",
        "            \"player2\": optimal(obs)\n",
        "        }\n",
        "\n",
        "        obs, rews, terms, truncs, infos = env.step(acts)\n",
        "        # print(obs, rews)\n",
        "\n",
        "    episode_rews.append([rews['player1'], rews['player2']])\n",
        "\n",
        "arr = np.array(episode_rews)\n",
        "death_rates = np.sum(arr, axis=0) / np.sum(arr, axis=0)[0]\n",
        "print(f\"death rate of player2: {(np.sum(arr, axis=0) / arr.shape[0])[-1] * -1:.3f}\")\n",
        "print(f\"ratio of death rate of player2 with respect to player1: {death_rates[-1]:.3f}\")\n",
        "plt.plot(arr.cumsum(axis=0))\n",
        "plt.legend((\"player1\", \"player2\"))\n",
        "plt.show()"
      ],
      "metadata": {
        "id": "mUTFipKjh8O-",
        "outputId": "bd1d0a12-8fd5-4b39-c947-68fec8c33435",
        "colab": {
          "base_uri": "https://localhost:8080/",
          "height": 126
        },
        "cellView": "form"
      },
      "execution_count": 17,
      "outputs": [
        {
          "output_type": "stream",
          "name": "stderr",
          "text": [
            "/usr/local/lib/python3.10/dist-packages/ipykernel/ipkernel.py:283: DeprecationWarning: `should_run_async` will not call `transform_cell` automatically in the future. Please pass the result to `transformed_cell` argument and any exception that happen during thetransform in `preprocessing_exc_tuple` in IPython 7.17 and above.\n",
            "  and should_run_async(code)\n"
          ]
        },
        {
          "output_type": "stream",
          "name": "stdout",
          "text": [
            "death rate of player2: 0.200\n",
            "ratio of death rate of player2 with respect to player1: 0.418\n"
          ]
        },
        {
          "output_type": "display_data",
          "data": {
            "text/plain": [
              "<Figure size 640x480 with 1 Axes>"
            ],
            "image/png": "[encoded data removed]"
          },
          "metadata": {}
        }
      ]
    },
    {
      "cell_type": "markdown",
      "source": [
        "## Deep RL training\n"
      ],
      "metadata": {
        "id": "dvS0OTb5-cW2"
      }
    },
    {
      "cell_type": "code",
      "source": [
        "#@title Define heuristic algos in Tianshou\n",
        "## agent that always plays\n",
        "class AlwaysPlay(BasePolicy):\n",
        "    def __init__(self, **kwargs):\n",
        "        self.nolearn = True\n",
        "        super().__init__(**kwargs)\n",
        "    \n",
        "    def forward(self, batch, state = None):\n",
        "        mask = batch.obs.mask\n",
        "        logits = np.zeros(mask.shape)\n",
        "        logits[:, 1] = 1\n",
        "        logits[~mask] = -np.inf\n",
        "        return Batch(act=logits.argmax(axis=-1))\n",
        "\n",
        "    def learn(self, batch):\n",
        "        return {}\n",
        "\n",
        "## agent that always waits\n",
        "class AlwaysWait(BasePolicy):\n",
        "    def __init__(self, **kwargs):\n",
        "        self.nolearn = True\n",
        "        super().__init__(**kwargs)\n",
        "\n",
        "    def forward(self, batch, state = None):\n",
        "        mask = batch.obs.mask\n",
        "        logits = np.zeros(mask.shape)\n",
        "        logits[:, 0] = 1\n",
        "        logits[~mask] = -np.inf\n",
        "        return Batch(act=logits.argmax(axis=-1))\n",
        "\n",
        "    def learn(self, batch):\n",
        "        return {}\n",
        "\n",
        "## agent that waits for low health to play\n",
        "class HailMary(BasePolicy):\n",
        "    def __init__(self, **kwargs):\n",
        "        self.nolearn = True\n",
        "        super().__init__(**kwargs)\n",
        "\n",
        "    def forward(self, batch, state = None):\n",
        "        mask = batch.obs.mask\n",
        "        logits = np.zeros(mask.shape)\n",
        "        obs = batch.obs.obs\n",
        "\n",
        "        for i in range(mask.shape[0]):\n",
        "            if obs[i, :, 1] <= 1:\n",
        "                logits[i, 1] = 1\n",
        "            else:\n",
        "                logits[i, 0] = 1\n",
        "        logits[~mask] = -np.inf\n",
        "        return Batch(act=logits.argmax(axis=-1))\n",
        "\n",
        "    def learn(self, batch):\n",
        "        return {}\n",
        "\n",
        "## optimal agent \n",
        "class OptimalPolicy(BasePolicy):\n",
        "    def __init__(self, **kwargs):\n",
        "        self.nolearn = True\n",
        "        super().__init__(**kwargs)\n",
        "\n",
        "    def forward(self, batch, state = None):\n",
        "        mask = batch.obs.mask\n",
        "        logits = np.zeros(mask.shape)\n",
        "        obs = batch.obs.obs\n",
        "\n",
        "        df = pd.read_csv(\"models/optimal_policy.csv\")\n",
        "\n",
        "        for i in range(mask.shape[0]):\n",
        "            action = df.loc[\n",
        "                (df[\"days_left\"] == obs[i, :, 0][0]) &\n",
        "                (df[\"player1_life_points\"] == obs[i, :, 1][0]) &\n",
        "                (df[\"player2_life_points\"] == obs[i, :, 2][0]) &\n",
        "                (df[\"player1_prob_payoff\"] == obs[i, :, 3][0])\n",
        "            ][\"action\"].values[0] - 1\n",
        "            if action:\n",
        "                logits[i, 1] = 1\n",
        "            else:\n",
        "                logits[i, 0] = 1\n",
        "        logits[~mask] = -np.inf\n",
        "        return Batch(act=logits.argmax(axis=-1))\n",
        "\n",
        "    def learn(self, batch):\n",
        "        return {}\n",
        "\n",
        "## random agent\n",
        "class RandomAgent(BasePolicy):\n",
        "    def __init__(self, **kwargs):\n",
        "        self.nolearn = True\n",
        "        super().__init__(**kwargs)\n",
        "\n",
        "    def forward(self, batch, state = None):\n",
        "        mask = batch.obs.mask\n",
        "        logits = np.zeros(mask.shape)\n",
        "        logits[:, np.random.choice([0, 1])] = 1\n",
        "        logits[~mask] = -np.inf\n",
        "        return Batch(act=logits.argmax(axis=-1))\n",
        "\n",
        "    def learn(self, batch):\n",
        "        return {}"
      ],
      "metadata": {
        "id": "n5nzTky1bTJk",
        "cellView": "form",
        "outputId": "1a949ef0-f4a0-477d-9fe2-acc30ef3e633",
        "colab": {
          "base_uri": "https://localhost:8080/"
        }
      },
      "execution_count": 18,
      "outputs": [
        {
          "output_type": "stream",
          "name": "stderr",
          "text": [
            "/usr/local/lib/python3.10/dist-packages/ipykernel/ipkernel.py:283: DeprecationWarning: `should_run_async` will not call `transform_cell` automatically in the future. Please pass the result to `transformed_cell` argument and any exception that happen during thetransform in `preprocessing_exc_tuple` in IPython 7.17 and above.\n",
            "  and should_run_async(code)\n"
          ]
        }
      ]
    },
    {
      "cell_type": "code",
      "source": [
        "#@title Prerequisites for training\n",
        "# Step 2: Wrap the environment for Tianshou interfacing\n",
        "def _get_env():\n",
        "    env = HomMul()\n",
        "    vec_env = parallel_to_aec(env)\n",
        "    return PettingZooEnv(vec_env)\n",
        "\n",
        "# seed\n",
        "seed = 42\n",
        "np.random.seed(seed)\n",
        "torch.manual_seed(seed)\n",
        "\n",
        "env = HomMul()\n",
        "agents =  env.agents[:]\n",
        "\n",
        "# Step 3: Define policies for each agent\n",
        "## learning agent\n",
        "def _get_agent(pretrained=False):\n",
        "    vec_env = _get_env()\n",
        "    net = Net(\n",
        "        state_shape=vec_env.observation_space.shape,\n",
        "        action_shape=vec_env.action_space.n,\n",
        "        hidden_sizes=[128, 128],\n",
        "        device=\"cuda\",\n",
        "    ).to(\"cuda\")\n",
        "    optim = Adam(net.parameters(), lr=1e-4)\n",
        "    model = DQNPolicy(\n",
        "        model=net,\n",
        "        optim=optim,\n",
        "        discount_factor=0.9,\n",
        "        estimation_step=3,\n",
        "        target_update_freq=50,\n",
        "    )\n",
        "\n",
        "    if pretrained:\n",
        "        model_save_path = os.path.join(\"models\", \"vs_hail_mary.pth\")\n",
        "        model.load_state_dict(torch.load(model_save_path))\n",
        "    return model\n",
        "\n",
        "agent_learn1 = _get_agent(pretrained=True)\n",
        "agent_learn2 = _get_agent(pretrained=True)\n",
        "\n",
        "policy = MultiAgentPolicyManager([agent_learn1, agent_learn2],  _get_env())\n",
        "\n",
        "train_envs = DummyVectorEnv([_get_env for _ in range(5)])\n",
        "test_envs = DummyVectorEnv([_get_env for _ in range(2)])\n",
        "train_envs.seed(seed)\n",
        "test_envs.seed(seed)\n",
        "\n",
        "# Step 4: Collector setup\n",
        "train_collector = Collector(\n",
        "    policy,\n",
        "    train_envs,\n",
        "    VectorReplayBuffer(20_000, len(train_envs)),\n",
        "    exploration_noise=True,\n",
        ")\n",
        "test_collector = Collector(policy, test_envs, exploration_noise=True)\n",
        "\n",
        "train_collector.collect(n_step=50)\n",
        "\n",
        "def save_best_fn(policy):\n",
        "    model_save_path1 = os.path.join(\"log\", \"hommul\", \"dqn\", \"policy1.pth\")\n",
        "    model_save_path2 = os.path.join(\"log\", \"hommul\", \"dqn\", \"policy2.pth\")\n",
        "    os.makedirs(os.path.join(\"log\", \"hommul\", \"dqn\"), exist_ok=True)\n",
        "    if not hasattr(policy.policies[agents[0]], 'nolearn'):\n",
        "        torch.save(policy.policies[agents[0]].state_dict(), model_save_path1)\n",
        "    if not hasattr(policy.policies[agents[1]], 'nolearn'):\n",
        "        torch.save(policy.policies[agents[1]].state_dict(), model_save_path2)\n",
        "\n",
        "def stop_fn(mean_rewards):\n",
        "    return mean_rewards >= 10\n",
        "\n",
        "def train_fn(epoch, env_step):\n",
        "    # freeze training for player1\n",
        "    if not hasattr(policy.policies[agents[0]], 'nolearn'):\n",
        "        policy.policies[agents[0]].set_eps(0.05)\n",
        "\n",
        "    if not hasattr(policy.policies[agents[1]], 'nolearn'):\n",
        "        policy.policies[agents[1]].set_eps(0.1)\n",
        "\n",
        "def test_fn(epoch, env_step):\n",
        "    if not hasattr(policy.policies[agents[0]], 'nolearn'):\n",
        "        policy.policies[agents[0]].set_eps(0.05)\n",
        "\n",
        "    if not hasattr(policy.policies[agents[1]], 'nolearn'):\n",
        "        policy.policies[agents[1]].set_eps(0.05)\n",
        "\n",
        "def reward_metric(rews):\n",
        "    return rews[:, 1]"
      ],
      "metadata": {
        "id": "Z-AOFEZAcNGV",
        "cellView": "form"
      },
      "execution_count": 19,
      "outputs": []
    },
    {
      "cell_type": "code",
      "source": [
        "#@title Clear logs and setup TensorBoard\n",
        "!rm -rf /content/HomMul/log\n",
        "\n",
        "log_path = os.path.join(\"log\", \"hommul\", \"dqn\")\n",
        "writer = SummaryWriter(log_path)\n",
        "logger = TensorboardLogger(writer)"
      ],
      "metadata": {
        "id": "t_dRm6ZTdV2v",
        "cellView": "form",
        "outputId": "575c7f3a-513b-4b2d-daa6-9523a5c5d6cb",
        "colab": {
          "base_uri": "https://localhost:8080/"
        }
      },
      "execution_count": 20,
      "outputs": [
        {
          "output_type": "stream",
          "name": "stderr",
          "text": [
            "/usr/local/lib/python3.10/dist-packages/ipykernel/ipkernel.py:283: DeprecationWarning: `should_run_async` will not call `transform_cell` automatically in the future. Please pass the result to `transformed_cell` argument and any exception that happen during thetransform in `preprocessing_exc_tuple` in IPython 7.17 and above.\n",
            "  and should_run_async(code)\n"
          ]
        }
      ]
    },
    {
      "cell_type": "code",
      "source": [
        "#@title Training\n",
        "# Step 5: Run trainer\n",
        "result = offpolicy_trainer(\n",
        "    policy=policy,\n",
        "    train_collector=train_collector,\n",
        "    test_collector=test_collector,\n",
        "    max_epoch=100,\n",
        "    step_per_epoch=1000,\n",
        "    step_per_collect=50,\n",
        "    episode_per_test=100,\n",
        "    batch_size=64,\n",
        "    train_fn=train_fn,\n",
        "    test_fn=test_fn,\n",
        "    stop_fn=stop_fn,\n",
        "    save_best_fn=save_best_fn,\n",
        "    update_per_step=0.1,\n",
        "    test_in_train=False,\n",
        "    reward_metric=reward_metric,\n",
        "    logger=logger\n",
        ")\n",
        "result"
      ],
      "metadata": {
        "colab": {
          "base_uri": "https://localhost:8080/"
        },
        "id": "69UICm9_dwdD",
        "outputId": "c0de9b1a-888a-4e22-91c4-d72e9deca583",
        "cellView": "form"
      },
      "execution_count": 21,
      "outputs": [
        {
          "output_type": "stream",
          "name": "stderr",
          "text": [
            "Epoch #1: 1001it [00:03, 331.75it/s, env_step=1000, len=3, n/ep=15, n/st=50, player1/loss=0.198, player2/loss=0.181, rew=-0.53]                          \n"
          ]
        },
        {
          "output_type": "stream",
          "name": "stdout",
          "text": [
            "Epoch #1: test_reward: -0.430000 ± 0.495076, best_reward: -0.230000 ± 0.420833 in #0\n"
          ]
        },
        {
          "output_type": "stream",
          "name": "stderr",
          "text": [
            "Epoch #2: 1001it [00:01, 719.45it/s, env_step=2000, len=2, n/ep=20, n/st=50, player1/loss=0.146, player2/loss=0.149, rew=-0.30]                          \n"
          ]
        },
        {
          "output_type": "stream",
          "name": "stdout",
          "text": [
            "Epoch #2: test_reward: -0.230000 ± 0.420833, best_reward: -0.230000 ± 0.420833 in #0\n"
          ]
        },
        {
          "output_type": "stream",
          "name": "stderr",
          "text": [
            "Epoch #3: 1001it [00:01, 816.01it/s, env_step=3000, len=3, n/ep=16, n/st=50, player1/loss=0.119, player2/loss=0.176, rew=-0.31]                          \n"
          ]
        },
        {
          "output_type": "stream",
          "name": "stdout",
          "text": [
            "Epoch #3: test_reward: -0.250000 ± 0.433013, best_reward: -0.230000 ± 0.420833 in #0\n"
          ]
        },
        {
          "output_type": "stream",
          "name": "stderr",
          "text": [
            "Epoch #4: 1001it [00:01, 850.21it/s, env_step=4000, len=2, n/ep=18, n/st=50, player1/loss=0.124, player2/loss=0.211, rew=-0.39]                          \n"
          ]
        },
        {
          "output_type": "stream",
          "name": "stdout",
          "text": [
            "Epoch #4: test_reward: -0.220000 ± 0.414246, best_reward: -0.220000 ± 0.414246 in #4\n"
          ]
        },
        {
          "output_type": "stream",
          "name": "stderr",
          "text": [
            "Epoch #5: 1001it [00:01, 828.45it/s, env_step=5000, len=2, n/ep=18, n/st=50, player1/loss=0.134, player2/loss=0.256, rew=-0.33]                          \n"
          ]
        },
        {
          "output_type": "stream",
          "name": "stdout",
          "text": [
            "Epoch #5: test_reward: -0.330000 ± 0.470213, best_reward: -0.220000 ± 0.414246 in #4\n"
          ]
        },
        {
          "output_type": "stream",
          "name": "stderr",
          "text": [
            "Epoch #6: 1001it [00:01, 818.43it/s, env_step=6000, len=3, n/ep=16, n/st=50, player1/loss=0.138, player2/loss=0.270, rew=-0.19]                          \n"
          ]
        },
        {
          "output_type": "stream",
          "name": "stdout",
          "text": [
            "Epoch #6: test_reward: -0.310000 ± 0.462493, best_reward: -0.220000 ± 0.414246 in #4\n"
          ]
        },
        {
          "output_type": "stream",
          "name": "stderr",
          "text": [
            "Epoch #7: 1001it [00:01, 797.65it/s, env_step=7000, len=2, n/ep=18, n/st=50, player1/loss=0.154, player2/loss=0.324, rew=-0.11]                          \n"
          ]
        },
        {
          "output_type": "stream",
          "name": "stdout",
          "text": [
            "Epoch #7: test_reward: -0.270000 ± 0.443959, best_reward: -0.220000 ± 0.414246 in #4\n"
          ]
        },
        {
          "output_type": "stream",
          "name": "stderr",
          "text": [
            "Epoch #8: 1001it [00:01, 810.04it/s, env_step=8000, len=2, n/ep=19, n/st=50, player1/loss=0.176, player2/loss=0.342, rew=-0.26]                          \n"
          ]
        },
        {
          "output_type": "stream",
          "name": "stdout",
          "text": [
            "Epoch #8: test_reward: -0.320000 ± 0.466476, best_reward: -0.220000 ± 0.414246 in #4\n"
          ]
        },
        {
          "output_type": "stream",
          "name": "stderr",
          "text": [
            "Epoch #9: 1001it [00:01, 609.09it/s, env_step=9000, len=2, n/ep=17, n/st=50, player1/loss=0.177, player2/loss=0.357, rew=-0.29]                          \n"
          ]
        },
        {
          "output_type": "stream",
          "name": "stdout",
          "text": [
            "Epoch #9: test_reward: -0.220000 ± 0.414246, best_reward: -0.220000 ± 0.414246 in #4\n"
          ]
        },
        {
          "output_type": "stream",
          "name": "stderr",
          "text": [
            "Epoch #10: 1001it [00:01, 690.77it/s, env_step=10000, len=2, n/ep=16, n/st=50, player1/loss=0.185, player2/loss=0.374, rew=-0.25]                          \n"
          ]
        },
        {
          "output_type": "stream",
          "name": "stdout",
          "text": [
            "Epoch #10: test_reward: -0.300000 ± 0.458258, best_reward: -0.220000 ± 0.414246 in #4\n"
          ]
        },
        {
          "output_type": "stream",
          "name": "stderr",
          "text": [
            "Epoch #11: 1001it [00:01, 815.50it/s, env_step=11000, len=2, n/ep=19, n/st=50, player1/loss=0.212, player2/loss=0.345, rew=-0.21]                          \n"
          ]
        },
        {
          "output_type": "stream",
          "name": "stdout",
          "text": [
            "Epoch #11: test_reward: -0.200000 ± 0.400000, best_reward: -0.200000 ± 0.400000 in #11\n"
          ]
        },
        {
          "output_type": "stream",
          "name": "stderr",
          "text": [
            "Epoch #12: 1001it [00:01, 795.72it/s, env_step=12000, len=2, n/ep=19, n/st=50, player1/loss=0.216, player2/loss=0.378, rew=-0.26]                          \n"
          ]
        },
        {
          "output_type": "stream",
          "name": "stdout",
          "text": [
            "Epoch #12: test_reward: -0.240000 ± 0.427083, best_reward: -0.200000 ± 0.400000 in #11\n"
          ]
        },
        {
          "output_type": "stream",
          "name": "stderr",
          "text": [
            "Epoch #13: 1001it [00:01, 792.19it/s, env_step=13000, len=2, n/ep=19, n/st=50, player1/loss=0.237, player2/loss=0.389, rew=-0.16]                          \n"
          ]
        },
        {
          "output_type": "stream",
          "name": "stdout",
          "text": [
            "Epoch #13: test_reward: -0.120000 ± 0.324962, best_reward: -0.120000 ± 0.324962 in #13\n"
          ]
        },
        {
          "output_type": "stream",
          "name": "stderr",
          "text": [
            "Epoch #14: 1001it [00:01, 795.39it/s, env_step=14000, len=2, n/ep=17, n/st=50, player1/loss=0.234, player2/loss=0.430, rew=-0.35]                          \n"
          ]
        },
        {
          "output_type": "stream",
          "name": "stdout",
          "text": [
            "Epoch #14: test_reward: -0.360000 ± 0.480000, best_reward: -0.120000 ± 0.324962 in #13\n"
          ]
        },
        {
          "output_type": "stream",
          "name": "stderr",
          "text": [
            "Epoch #15: 1001it [00:01, 818.37it/s, env_step=15000, len=2, n/ep=18, n/st=50, player1/loss=0.221, player2/loss=0.403, rew=-0.28]                          \n"
          ]
        },
        {
          "output_type": "stream",
          "name": "stdout",
          "text": [
            "Epoch #15: test_reward: -0.270000 ± 0.443959, best_reward: -0.120000 ± 0.324962 in #13\n"
          ]
        },
        {
          "output_type": "stream",
          "name": "stderr",
          "text": [
            "Epoch #16: 1001it [00:01, 795.00it/s, env_step=16000, len=2, n/ep=22, n/st=50, player1/loss=0.223, player2/loss=0.391, rew=-0.14]                          \n"
          ]
        },
        {
          "output_type": "stream",
          "name": "stdout",
          "text": [
            "Epoch #16: test_reward: -0.250000 ± 0.433013, best_reward: -0.120000 ± 0.324962 in #13\n"
          ]
        },
        {
          "output_type": "stream",
          "name": "stderr",
          "text": [
            "Epoch #17: 1001it [00:01, 625.89it/s, env_step=17000, len=2, n/ep=19, n/st=50, player1/loss=0.241, player2/loss=0.444, rew=-0.11]                          \n"
          ]
        },
        {
          "output_type": "stream",
          "name": "stdout",
          "text": [
            "Epoch #17: test_reward: -0.190000 ± 0.392301, best_reward: -0.120000 ± 0.324962 in #13\n"
          ]
        },
        {
          "output_type": "stream",
          "name": "stderr",
          "text": [
            "Epoch #18: 1001it [00:01, 679.34it/s, env_step=18000, len=2, n/ep=18, n/st=50, player1/loss=0.244, player2/loss=0.423, rew=-0.28]                          \n"
          ]
        },
        {
          "output_type": "stream",
          "name": "stdout",
          "text": [
            "Epoch #18: test_reward: -0.240000 ± 0.427083, best_reward: -0.120000 ± 0.324962 in #13\n"
          ]
        },
        {
          "output_type": "stream",
          "name": "stderr",
          "text": [
            "Epoch #19: 1001it [00:01, 764.96it/s, env_step=19000, len=2, n/ep=19, n/st=50, player1/loss=0.237, player2/loss=0.449, rew=-0.37]                          \n"
          ]
        },
        {
          "output_type": "stream",
          "name": "stdout",
          "text": [
            "Epoch #19: test_reward: -0.280000 ± 0.448999, best_reward: -0.120000 ± 0.324962 in #13\n"
          ]
        },
        {
          "output_type": "stream",
          "name": "stderr",
          "text": [
            "Epoch #20: 1001it [00:01, 792.76it/s, env_step=20000, len=2, n/ep=19, n/st=50, player1/loss=0.244, player2/loss=0.453, rew=-0.26]                          \n"
          ]
        },
        {
          "output_type": "stream",
          "name": "stdout",
          "text": [
            "Epoch #20: test_reward: -0.310000 ± 0.462493, best_reward: -0.120000 ± 0.324962 in #13\n"
          ]
        },
        {
          "output_type": "stream",
          "name": "stderr",
          "text": [
            "Epoch #21: 1001it [00:01, 822.62it/s, env_step=21000, len=2, n/ep=20, n/st=50, player1/loss=0.272, player2/loss=0.444, rew=-0.25]                          \n"
          ]
        },
        {
          "output_type": "stream",
          "name": "stdout",
          "text": [
            "Epoch #21: test_reward: -0.220000 ± 0.414246, best_reward: -0.120000 ± 0.324962 in #13\n"
          ]
        },
        {
          "output_type": "stream",
          "name": "stderr",
          "text": [
            "Epoch #22: 1001it [00:01, 817.87it/s, env_step=22000, len=3, n/ep=15, n/st=50, player1/loss=0.257, player2/loss=0.438, rew=-0.13]                          \n"
          ]
        },
        {
          "output_type": "stream",
          "name": "stdout",
          "text": [
            "Epoch #22: test_reward: -0.270000 ± 0.443959, best_reward: -0.120000 ± 0.324962 in #13\n"
          ]
        },
        {
          "output_type": "stream",
          "name": "stderr",
          "text": [
            "Epoch #23: 1001it [00:01, 813.00it/s, env_step=23000, len=3, n/ep=16, n/st=50, player1/loss=0.287, player2/loss=0.451, rew=-0.50]                          \n"
          ]
        },
        {
          "output_type": "stream",
          "name": "stdout",
          "text": [
            "Epoch #23: test_reward: -0.350000 ± 0.476970, best_reward: -0.120000 ± 0.324962 in #13\n"
          ]
        },
        {
          "output_type": "stream",
          "name": "stderr",
          "text": [
            "Epoch #24: 1001it [00:01, 822.83it/s, env_step=24000, len=3, n/ep=17, n/st=50, player1/loss=0.308, player2/loss=0.480, rew=-0.18]                          \n"
          ]
        },
        {
          "output_type": "stream",
          "name": "stdout",
          "text": [
            "Epoch #24: test_reward: -0.240000 ± 0.427083, best_reward: -0.120000 ± 0.324962 in #13\n"
          ]
        },
        {
          "output_type": "stream",
          "name": "stderr",
          "text": [
            "Epoch #25: 1001it [00:01, 651.02it/s, env_step=25000, len=2, n/ep=17, n/st=50, player1/loss=0.296, player2/loss=0.449, rew=-0.24]                          \n"
          ]
        },
        {
          "output_type": "stream",
          "name": "stdout",
          "text": [
            "Epoch #25: test_reward: -0.360000 ± 0.480000, best_reward: -0.120000 ± 0.324962 in #13\n"
          ]
        },
        {
          "output_type": "stream",
          "name": "stderr",
          "text": [
            "Epoch #26: 1001it [00:02, 423.38it/s, env_step=26000, len=2, n/ep=16, n/st=50, player1/loss=0.294, player2/loss=0.480, rew=-0.38]                          \n"
          ]
        },
        {
          "output_type": "stream",
          "name": "stdout",
          "text": [
            "Epoch #26: test_reward: -0.270000 ± 0.443959, best_reward: -0.120000 ± 0.324962 in #13\n"
          ]
        },
        {
          "output_type": "stream",
          "name": "stderr",
          "text": [
            "Epoch #27: 1001it [00:01, 633.18it/s, env_step=27000, len=3, n/ep=15, n/st=50, player1/loss=0.316, player2/loss=0.491, rew=-0.27]                          \n"
          ]
        },
        {
          "output_type": "stream",
          "name": "stdout",
          "text": [
            "Epoch #27: test_reward: -0.220000 ± 0.414246, best_reward: -0.120000 ± 0.324962 in #13\n"
          ]
        },
        {
          "output_type": "stream",
          "name": "stderr",
          "text": [
            "Epoch #28: 1001it [00:01, 796.74it/s, env_step=28000, len=3, n/ep=16, n/st=50, player1/loss=0.336, player2/loss=0.484, rew=-0.25]                          \n"
          ]
        },
        {
          "output_type": "stream",
          "name": "stdout",
          "text": [
            "Epoch #28: test_reward: -0.340000 ± 0.473709, best_reward: -0.120000 ± 0.324962 in #13\n"
          ]
        },
        {
          "output_type": "stream",
          "name": "stderr",
          "text": [
            "Epoch #29: 1001it [00:01, 807.11it/s, env_step=29000, len=2, n/ep=17, n/st=50, player1/loss=0.329, player2/loss=0.509, rew=-0.29]                          \n"
          ]
        },
        {
          "output_type": "stream",
          "name": "stdout",
          "text": [
            "Epoch #29: test_reward: -0.320000 ± 0.466476, best_reward: -0.120000 ± 0.324962 in #13\n"
          ]
        },
        {
          "output_type": "stream",
          "name": "stderr",
          "text": [
            "Epoch #30: 1001it [00:01, 814.65it/s, env_step=30000, len=2, n/ep=18, n/st=50, player1/loss=0.344, player2/loss=0.560, rew=-0.44]                          \n"
          ]
        },
        {
          "output_type": "stream",
          "name": "stdout",
          "text": [
            "Epoch #30: test_reward: -0.340000 ± 0.473709, best_reward: -0.120000 ± 0.324962 in #13\n"
          ]
        },
        {
          "output_type": "stream",
          "name": "stderr",
          "text": [
            "Epoch #31: 1001it [00:01, 801.83it/s, env_step=31000, len=2, n/ep=20, n/st=50, player1/loss=0.334, player2/loss=0.531, rew=-0.35]                          \n"
          ]
        },
        {
          "output_type": "stream",
          "name": "stdout",
          "text": [
            "Epoch #31: test_reward: -0.260000 ± 0.438634, best_reward: -0.120000 ± 0.324962 in #13\n"
          ]
        },
        {
          "output_type": "stream",
          "name": "stderr",
          "text": [
            "Epoch #32: 1001it [00:01, 773.58it/s, env_step=32000, len=2, n/ep=19, n/st=50, player1/loss=0.331, player2/loss=0.582, rew=-0.32]                          \n"
          ]
        },
        {
          "output_type": "stream",
          "name": "stdout",
          "text": [
            "Epoch #32: test_reward: -0.320000 ± 0.466476, best_reward: -0.120000 ± 0.324962 in #13\n"
          ]
        },
        {
          "output_type": "stream",
          "name": "stderr",
          "text": [
            "Epoch #33: 1001it [00:01, 622.88it/s, env_step=33000, len=2, n/ep=18, n/st=50, player1/loss=0.346, player2/loss=0.587, rew=-0.33]                          \n"
          ]
        },
        {
          "output_type": "stream",
          "name": "stdout",
          "text": [
            "Epoch #33: test_reward: -0.320000 ± 0.466476, best_reward: -0.120000 ± 0.324962 in #13\n"
          ]
        },
        {
          "output_type": "stream",
          "name": "stderr",
          "text": [
            "Epoch #34: 1001it [00:01, 772.90it/s, env_step=34000, len=2, n/ep=18, n/st=50, player1/loss=0.338, player2/loss=0.572, rew=-0.28]                          \n"
          ]
        },
        {
          "output_type": "stream",
          "name": "stdout",
          "text": [
            "Epoch #34: test_reward: -0.250000 ± 0.433013, best_reward: -0.120000 ± 0.324962 in #13\n"
          ]
        },
        {
          "output_type": "stream",
          "name": "stderr",
          "text": [
            "Epoch #35: 1001it [00:01, 769.70it/s, env_step=35000, len=2, n/ep=20, n/st=50, player1/loss=0.353, player2/loss=0.597, rew=-0.25]                          \n"
          ]
        },
        {
          "output_type": "stream",
          "name": "stdout",
          "text": [
            "Epoch #35: test_reward: -0.220000 ± 0.414246, best_reward: -0.120000 ± 0.324962 in #13\n"
          ]
        },
        {
          "output_type": "stream",
          "name": "stderr",
          "text": [
            "Epoch #36: 1001it [00:01, 814.71it/s, env_step=36000, len=2, n/ep=16, n/st=50, player1/loss=0.363, player2/loss=0.616, rew=-0.31]                          \n"
          ]
        },
        {
          "output_type": "stream",
          "name": "stdout",
          "text": [
            "Epoch #36: test_reward: -0.330000 ± 0.470213, best_reward: -0.120000 ± 0.324962 in #13\n"
          ]
        },
        {
          "output_type": "stream",
          "name": "stderr",
          "text": [
            "Epoch #37: 1001it [00:01, 796.90it/s, env_step=37000, len=2, n/ep=18, n/st=50, player1/loss=0.355, player2/loss=0.590, rew=-0.22]                          \n"
          ]
        },
        {
          "output_type": "stream",
          "name": "stdout",
          "text": [
            "Epoch #37: test_reward: -0.270000 ± 0.443959, best_reward: -0.120000 ± 0.324962 in #13\n"
          ]
        },
        {
          "output_type": "stream",
          "name": "stderr",
          "text": [
            "Epoch #38: 1001it [00:01, 800.96it/s, env_step=38000, len=2, n/ep=17, n/st=50, player1/loss=0.363, player2/loss=0.632, rew=-0.59]                          \n"
          ]
        },
        {
          "output_type": "stream",
          "name": "stdout",
          "text": [
            "Epoch #38: test_reward: -0.320000 ± 0.466476, best_reward: -0.120000 ± 0.324962 in #13\n"
          ]
        },
        {
          "output_type": "stream",
          "name": "stderr",
          "text": [
            "Epoch #39: 1001it [00:01, 805.71it/s, env_step=39000, len=2, n/ep=19, n/st=50, player1/loss=0.400, player2/loss=0.619, rew=-0.16]                          \n"
          ]
        },
        {
          "output_type": "stream",
          "name": "stdout",
          "text": [
            "Epoch #39: test_reward: -0.290000 ± 0.453762, best_reward: -0.120000 ± 0.324962 in #13\n"
          ]
        },
        {
          "output_type": "stream",
          "name": "stderr",
          "text": [
            "Epoch #40: 1001it [00:01, 810.97it/s, env_step=40000, len=2, n/ep=20, n/st=50, player1/loss=0.387, player2/loss=0.642, rew=-0.60]                          \n"
          ]
        },
        {
          "output_type": "stream",
          "name": "stdout",
          "text": [
            "Epoch #40: test_reward: -0.300000 ± 0.458258, best_reward: -0.120000 ± 0.324962 in #13\n"
          ]
        },
        {
          "output_type": "stream",
          "name": "stderr",
          "text": [
            "Epoch #41: 1001it [00:01, 610.02it/s, env_step=41000, len=3, n/ep=15, n/st=50, player1/loss=0.378, player2/loss=0.658, rew=-0.13]                          \n"
          ]
        },
        {
          "output_type": "stream",
          "name": "stdout",
          "text": [
            "Epoch #41: test_reward: -0.280000 ± 0.448999, best_reward: -0.120000 ± 0.324962 in #13\n"
          ]
        },
        {
          "output_type": "stream",
          "name": "stderr",
          "text": [
            "Epoch #42: 1001it [00:01, 727.90it/s, env_step=42000, len=2, n/ep=18, n/st=50, player1/loss=0.386, player2/loss=0.660, rew=-0.22]                          \n"
          ]
        },
        {
          "output_type": "stream",
          "name": "stdout",
          "text": [
            "Epoch #42: test_reward: -0.180000 ± 0.384187, best_reward: -0.120000 ± 0.324962 in #13\n"
          ]
        },
        {
          "output_type": "stream",
          "name": "stderr",
          "text": [
            "Epoch #43: 1001it [00:01, 803.04it/s, env_step=43000, len=3, n/ep=18, n/st=50, player1/loss=0.348, player2/loss=0.650, rew=-0.06]                          \n"
          ]
        },
        {
          "output_type": "stream",
          "name": "stdout",
          "text": [
            "Epoch #43: test_reward: -0.170000 ± 0.375633, best_reward: -0.120000 ± 0.324962 in #13\n"
          ]
        },
        {
          "output_type": "stream",
          "name": "stderr",
          "text": [
            "Epoch #44: 1001it [00:01, 794.87it/s, env_step=44000, len=3, n/ep=16, n/st=50, player1/loss=0.357, player2/loss=0.717, rew=-0.25]                          \n"
          ]
        },
        {
          "output_type": "stream",
          "name": "stdout",
          "text": [
            "Epoch #44: test_reward: -0.250000 ± 0.433013, best_reward: -0.120000 ± 0.324962 in #13\n"
          ]
        },
        {
          "output_type": "stream",
          "name": "stderr",
          "text": [
            "Epoch #45: 1001it [00:01, 798.67it/s, env_step=45000, len=2, n/ep=17, n/st=50, player1/loss=0.400, player2/loss=0.664, rew=-0.41]                          \n"
          ]
        },
        {
          "output_type": "stream",
          "name": "stdout",
          "text": [
            "Epoch #45: test_reward: -0.230000 ± 0.420833, best_reward: -0.120000 ± 0.324962 in #13\n"
          ]
        },
        {
          "output_type": "stream",
          "name": "stderr",
          "text": [
            "Epoch #46: 1001it [00:01, 801.85it/s, env_step=46000, len=2, n/ep=17, n/st=50, player1/loss=0.382, player2/loss=0.665, rew=-0.41]                          \n"
          ]
        },
        {
          "output_type": "stream",
          "name": "stdout",
          "text": [
            "Epoch #46: test_reward: -0.180000 ± 0.384187, best_reward: -0.120000 ± 0.324962 in #13\n"
          ]
        },
        {
          "output_type": "stream",
          "name": "stderr",
          "text": [
            "Epoch #47: 1001it [00:01, 800.19it/s, env_step=47000, len=3, n/ep=16, n/st=50, player1/loss=0.392, player2/loss=0.683, rew=-0.12]                          \n"
          ]
        },
        {
          "output_type": "stream",
          "name": "stdout",
          "text": [
            "Epoch #47: test_reward: -0.250000 ± 0.433013, best_reward: -0.120000 ± 0.324962 in #13\n"
          ]
        },
        {
          "output_type": "stream",
          "name": "stderr",
          "text": [
            "Epoch #48: 1001it [00:01, 800.86it/s, env_step=48000, len=2, n/ep=16, n/st=50, player1/loss=0.373, player2/loss=0.695, rew=-0.12]                          \n"
          ]
        },
        {
          "output_type": "stream",
          "name": "stdout",
          "text": [
            "Epoch #48: test_reward: -0.200000 ± 0.400000, best_reward: -0.120000 ± 0.324962 in #13\n"
          ]
        },
        {
          "output_type": "stream",
          "name": "stderr",
          "text": [
            "Epoch #49: 1001it [00:01, 613.68it/s, env_step=49000, len=3, n/ep=15, n/st=50, player1/loss=0.388, player2/loss=0.715, rew=-0.27]                          \n"
          ]
        },
        {
          "output_type": "stream",
          "name": "stdout",
          "text": [
            "Epoch #49: test_reward: -0.330000 ± 0.470213, best_reward: -0.120000 ± 0.324962 in #13\n"
          ]
        },
        {
          "output_type": "stream",
          "name": "stderr",
          "text": [
            "Epoch #50: 1001it [00:01, 737.71it/s, env_step=50000, len=2, n/ep=17, n/st=50, player1/loss=0.385, player2/loss=0.727, rew=-0.24]                          \n"
          ]
        },
        {
          "output_type": "stream",
          "name": "stdout",
          "text": [
            "Epoch #50: test_reward: -0.320000 ± 0.466476, best_reward: -0.120000 ± 0.324962 in #13\n"
          ]
        },
        {
          "output_type": "stream",
          "name": "stderr",
          "text": [
            "Epoch #51: 1001it [00:01, 792.26it/s, env_step=51000, len=3, n/ep=15, n/st=50, player1/loss=0.386, player2/loss=0.707, rew=-0.20]                          \n"
          ]
        },
        {
          "output_type": "stream",
          "name": "stdout",
          "text": [
            "Epoch #51: test_reward: -0.230000 ± 0.420833, best_reward: -0.120000 ± 0.324962 in #13\n"
          ]
        },
        {
          "output_type": "stream",
          "name": "stderr",
          "text": [
            "Epoch #52: 1001it [00:01, 798.64it/s, env_step=52000, len=2, n/ep=16, n/st=50, player1/loss=0.390, player2/loss=0.753, rew=-0.25]                          \n"
          ]
        },
        {
          "output_type": "stream",
          "name": "stdout",
          "text": [
            "Epoch #52: test_reward: -0.280000 ± 0.448999, best_reward: -0.120000 ± 0.324962 in #13\n"
          ]
        },
        {
          "output_type": "stream",
          "name": "stderr",
          "text": [
            "Epoch #53: 1001it [00:01, 798.46it/s, env_step=53000, len=3, n/ep=17, n/st=50, player1/loss=0.384, player2/loss=0.730, rew=-0.12]                          \n"
          ]
        },
        {
          "output_type": "stream",
          "name": "stdout",
          "text": [
            "Epoch #53: test_reward: -0.290000 ± 0.453762, best_reward: -0.120000 ± 0.324962 in #13\n"
          ]
        },
        {
          "output_type": "stream",
          "name": "stderr",
          "text": [
            "Epoch #54: 1001it [00:01, 806.56it/s, env_step=54000, len=2, n/ep=16, n/st=50, player1/loss=0.387, player2/loss=0.793, rew=-0.25]                          \n"
          ]
        },
        {
          "output_type": "stream",
          "name": "stdout",
          "text": [
            "Epoch #54: test_reward: -0.260000 ± 0.438634, best_reward: -0.120000 ± 0.324962 in #13\n"
          ]
        },
        {
          "output_type": "stream",
          "name": "stderr",
          "text": [
            "Epoch #55: 1001it [00:01, 815.84it/s, env_step=55000, len=2, n/ep=16, n/st=50, player1/loss=0.410, player2/loss=0.818, rew=-0.31]                          \n"
          ]
        },
        {
          "output_type": "stream",
          "name": "stdout",
          "text": [
            "Epoch #55: test_reward: -0.260000 ± 0.438634, best_reward: -0.120000 ± 0.324962 in #13\n"
          ]
        },
        {
          "output_type": "stream",
          "name": "stderr",
          "text": [
            "Epoch #56: 1001it [00:01, 814.81it/s, env_step=56000, len=3, n/ep=18, n/st=50, player1/loss=0.421, player2/loss=0.817, rew=-0.28]                          \n"
          ]
        },
        {
          "output_type": "stream",
          "name": "stdout",
          "text": [
            "Epoch #56: test_reward: -0.260000 ± 0.438634, best_reward: -0.120000 ± 0.324962 in #13\n"
          ]
        },
        {
          "output_type": "stream",
          "name": "stderr",
          "text": [
            "Epoch #57: 1001it [00:01, 609.72it/s, env_step=57000, len=2, n/ep=19, n/st=50, player1/loss=0.398, player2/loss=0.852, rew=-0.37]                          \n"
          ]
        },
        {
          "output_type": "stream",
          "name": "stdout",
          "text": [
            "Epoch #57: test_reward: -0.270000 ± 0.443959, best_reward: -0.120000 ± 0.324962 in #13\n"
          ]
        },
        {
          "output_type": "stream",
          "name": "stderr",
          "text": [
            "Epoch #58: 1001it [00:01, 708.44it/s, env_step=58000, len=2, n/ep=18, n/st=50, player1/loss=0.418, player2/loss=0.903, rew=-0.22]                          \n"
          ]
        },
        {
          "output_type": "stream",
          "name": "stdout",
          "text": [
            "Epoch #58: test_reward: -0.240000 ± 0.427083, best_reward: -0.120000 ± 0.324962 in #13\n"
          ]
        },
        {
          "output_type": "stream",
          "name": "stderr",
          "text": [
            "Epoch #59: 1001it [00:01, 757.19it/s, env_step=59000, len=2, n/ep=18, n/st=50, player1/loss=0.380, player2/loss=0.823, rew=-0.06]                          \n"
          ]
        },
        {
          "output_type": "stream",
          "name": "stdout",
          "text": [
            "Epoch #59: test_reward: -0.340000 ± 0.473709, best_reward: -0.120000 ± 0.324962 in #13\n"
          ]
        },
        {
          "output_type": "stream",
          "name": "stderr",
          "text": [
            "Epoch #60: 1001it [00:01, 780.85it/s, env_step=60000, len=3, n/ep=18, n/st=50, player1/loss=0.420, player2/loss=0.892, rew=-0.28]                          \n"
          ]
        },
        {
          "output_type": "stream",
          "name": "stdout",
          "text": [
            "Epoch #60: test_reward: -0.310000 ± 0.462493, best_reward: -0.120000 ± 0.324962 in #13\n"
          ]
        },
        {
          "output_type": "stream",
          "name": "stderr",
          "text": [
            "Epoch #61: 1001it [00:01, 822.41it/s, env_step=61000, len=2, n/ep=20, n/st=50, player1/loss=0.430, player2/loss=0.879, rew=-0.30]                          \n"
          ]
        },
        {
          "output_type": "stream",
          "name": "stdout",
          "text": [
            "Epoch #61: test_reward: -0.190000 ± 0.392301, best_reward: -0.120000 ± 0.324962 in #13\n"
          ]
        },
        {
          "output_type": "stream",
          "name": "stderr",
          "text": [
            "Epoch #62: 1001it [00:01, 816.67it/s, env_step=62000, len=3, n/ep=15, n/st=50, player1/loss=0.457, player2/loss=0.835, rew=-0.27]                          \n"
          ]
        },
        {
          "output_type": "stream",
          "name": "stdout",
          "text": [
            "Epoch #62: test_reward: -0.190000 ± 0.392301, best_reward: -0.120000 ± 0.324962 in #13\n"
          ]
        },
        {
          "output_type": "stream",
          "name": "stderr",
          "text": [
            "Epoch #63: 1001it [00:01, 820.68it/s, env_step=63000, len=3, n/ep=17, n/st=50, player1/loss=0.435, player2/loss=0.925, rew=-0.41]                          \n"
          ]
        },
        {
          "output_type": "stream",
          "name": "stdout",
          "text": [
            "Epoch #63: test_reward: -0.160000 ± 0.366606, best_reward: -0.120000 ± 0.324962 in #13\n"
          ]
        },
        {
          "output_type": "stream",
          "name": "stderr",
          "text": [
            "Epoch #64: 1001it [00:01, 808.86it/s, env_step=64000, len=2, n/ep=19, n/st=50, player1/loss=0.439, player2/loss=0.914, rew=-0.21]                          \n"
          ]
        },
        {
          "output_type": "stream",
          "name": "stdout",
          "text": [
            "Epoch #64: test_reward: -0.230000 ± 0.420833, best_reward: -0.120000 ± 0.324962 in #13\n"
          ]
        },
        {
          "output_type": "stream",
          "name": "stderr",
          "text": [
            "Epoch #65: 1001it [00:01, 614.00it/s, env_step=65000, len=3, n/ep=17, n/st=50, player1/loss=0.455, player2/loss=0.867, rew=-0.53]                          \n"
          ]
        },
        {
          "output_type": "stream",
          "name": "stdout",
          "text": [
            "Epoch #65: test_reward: -0.290000 ± 0.453762, best_reward: -0.120000 ± 0.324962 in #13\n"
          ]
        },
        {
          "output_type": "stream",
          "name": "stderr",
          "text": [
            "Epoch #66: 1001it [00:01, 680.28it/s, env_step=66000, len=2, n/ep=15, n/st=50, player1/loss=0.471, player2/loss=0.967, rew=-0.27]                          \n"
          ]
        },
        {
          "output_type": "stream",
          "name": "stdout",
          "text": [
            "Epoch #66: test_reward: -0.270000 ± 0.443959, best_reward: -0.120000 ± 0.324962 in #13\n"
          ]
        },
        {
          "output_type": "stream",
          "name": "stderr",
          "text": [
            "Epoch #67: 1001it [00:01, 793.53it/s, env_step=67000, len=3, n/ep=16, n/st=50, player1/loss=0.527, player2/loss=0.969, rew=-0.19]                          \n"
          ]
        },
        {
          "output_type": "stream",
          "name": "stdout",
          "text": [
            "Epoch #67: test_reward: -0.320000 ± 0.466476, best_reward: -0.120000 ± 0.324962 in #13\n"
          ]
        },
        {
          "output_type": "stream",
          "name": "stderr",
          "text": [
            "Epoch #68: 1001it [00:01, 789.58it/s, env_step=68000, len=3, n/ep=15, n/st=50, player1/loss=0.450, player2/loss=0.969, rew=-0.27]                          \n"
          ]
        },
        {
          "output_type": "stream",
          "name": "stdout",
          "text": [
            "Epoch #68: test_reward: -0.230000 ± 0.420833, best_reward: -0.120000 ± 0.324962 in #13\n"
          ]
        },
        {
          "output_type": "stream",
          "name": "stderr",
          "text": [
            "Epoch #69: 1001it [00:01, 792.69it/s, env_step=69000, len=2, n/ep=17, n/st=50, player1/loss=0.470, player2/loss=0.943, rew=-0.24]                          \n"
          ]
        },
        {
          "output_type": "stream",
          "name": "stdout",
          "text": [
            "Epoch #69: test_reward: -0.290000 ± 0.453762, best_reward: -0.120000 ± 0.324962 in #13\n"
          ]
        },
        {
          "output_type": "stream",
          "name": "stderr",
          "text": [
            "Epoch #70: 1001it [00:01, 794.26it/s, env_step=70000, len=3, n/ep=17, n/st=50, player1/loss=0.514, player2/loss=0.965, rew=-0.35]                          \n"
          ]
        },
        {
          "output_type": "stream",
          "name": "stdout",
          "text": [
            "Epoch #70: test_reward: -0.220000 ± 0.414246, best_reward: -0.120000 ± 0.324962 in #13\n"
          ]
        },
        {
          "output_type": "stream",
          "name": "stderr",
          "text": [
            "Epoch #71: 1001it [00:01, 805.15it/s, env_step=71000, len=2, n/ep=21, n/st=50, player1/loss=0.498, player2/loss=0.916, rew=-0.29]                          \n"
          ]
        },
        {
          "output_type": "stream",
          "name": "stdout",
          "text": [
            "Epoch #71: test_reward: -0.220000 ± 0.414246, best_reward: -0.120000 ± 0.324962 in #13\n"
          ]
        },
        {
          "output_type": "stream",
          "name": "stderr",
          "text": [
            "Epoch #72: 1001it [00:01, 812.28it/s, env_step=72000, len=3, n/ep=16, n/st=50, player1/loss=0.495, player2/loss=0.987, rew=-0.12]                          \n"
          ]
        },
        {
          "output_type": "stream",
          "name": "stdout",
          "text": [
            "Epoch #72: test_reward: -0.220000 ± 0.414246, best_reward: -0.120000 ± 0.324962 in #13\n"
          ]
        },
        {
          "output_type": "stream",
          "name": "stderr",
          "text": [
            "Epoch #73: 1001it [00:01, 629.92it/s, env_step=73000, len=2, n/ep=18, n/st=50, player1/loss=0.475, player2/loss=1.054, rew=-0.17]                          \n"
          ]
        },
        {
          "output_type": "stream",
          "name": "stdout",
          "text": [
            "Epoch #73: test_reward: -0.240000 ± 0.427083, best_reward: -0.120000 ± 0.324962 in #13\n"
          ]
        },
        {
          "output_type": "stream",
          "name": "stderr",
          "text": [
            "Epoch #74: 1001it [00:01, 658.93it/s, env_step=74000, len=2, n/ep=16, n/st=50, player1/loss=0.479, player2/loss=1.061, rew=-0.19]                          \n"
          ]
        },
        {
          "output_type": "stream",
          "name": "stdout",
          "text": [
            "Epoch #74: test_reward: -0.300000 ± 0.458258, best_reward: -0.120000 ± 0.324962 in #13\n"
          ]
        },
        {
          "output_type": "stream",
          "name": "stderr",
          "text": [
            "Epoch #75: 1001it [00:01, 791.38it/s, env_step=75000, len=2, n/ep=17, n/st=50, player1/loss=0.445, player2/loss=1.029, rew=-0.18]                          \n"
          ]
        },
        {
          "output_type": "stream",
          "name": "stdout",
          "text": [
            "Epoch #75: test_reward: -0.180000 ± 0.384187, best_reward: -0.120000 ± 0.324962 in #13\n"
          ]
        },
        {
          "output_type": "stream",
          "name": "stderr",
          "text": [
            "Epoch #76: 1001it [00:01, 777.39it/s, env_step=76000, len=3, n/ep=18, n/st=50, player1/loss=0.507, player2/loss=1.039, rew=-0.28]                          \n"
          ]
        },
        {
          "output_type": "stream",
          "name": "stdout",
          "text": [
            "Epoch #76: test_reward: -0.250000 ± 0.433013, best_reward: -0.120000 ± 0.324962 in #13\n"
          ]
        },
        {
          "output_type": "stream",
          "name": "stderr",
          "text": [
            "Epoch #77: 1001it [00:01, 803.14it/s, env_step=77000, len=2, n/ep=20, n/st=50, player1/loss=0.476, player2/loss=1.136, rew=-0.15]                          \n"
          ]
        },
        {
          "output_type": "stream",
          "name": "stdout",
          "text": [
            "Epoch #77: test_reward: -0.310000 ± 0.462493, best_reward: -0.120000 ± 0.324962 in #13\n"
          ]
        },
        {
          "output_type": "stream",
          "name": "stderr",
          "text": [
            "Epoch #78: 1001it [00:01, 798.42it/s, env_step=78000, len=3, n/ep=15, n/st=50, player1/loss=0.558, player2/loss=1.105, rew=-0.27]                          \n"
          ]
        },
        {
          "output_type": "stream",
          "name": "stdout",
          "text": [
            "Epoch #78: test_reward: -0.190000 ± 0.392301, best_reward: -0.120000 ± 0.324962 in #13\n"
          ]
        },
        {
          "output_type": "stream",
          "name": "stderr",
          "text": [
            "Epoch #79: 1001it [00:01, 796.36it/s, env_step=79000, len=2, n/ep=16, n/st=50, player1/loss=0.529, player2/loss=1.203, rew=-0.19]                          \n"
          ]
        },
        {
          "output_type": "stream",
          "name": "stdout",
          "text": [
            "Epoch #79: test_reward: -0.220000 ± 0.414246, best_reward: -0.120000 ± 0.324962 in #13\n"
          ]
        },
        {
          "output_type": "stream",
          "name": "stderr",
          "text": [
            "Epoch #80: 1001it [00:01, 812.05it/s, env_step=80000, len=2, n/ep=18, n/st=50, player1/loss=0.540, player2/loss=1.249, rew=-0.28]                          \n"
          ]
        },
        {
          "output_type": "stream",
          "name": "stdout",
          "text": [
            "Epoch #80: test_reward: -0.280000 ± 0.448999, best_reward: -0.120000 ± 0.324962 in #13\n"
          ]
        },
        {
          "output_type": "stream",
          "name": "stderr",
          "text": [
            "Epoch #81: 1001it [00:01, 669.29it/s, env_step=81000, len=3, n/ep=18, n/st=50, player1/loss=0.534, player2/loss=1.218, rew=-0.33]                          \n"
          ]
        },
        {
          "output_type": "stream",
          "name": "stdout",
          "text": [
            "Epoch #81: test_reward: -0.310000 ± 0.462493, best_reward: -0.120000 ± 0.324962 in #13\n"
          ]
        },
        {
          "output_type": "stream",
          "name": "stderr",
          "text": [
            "Epoch #82: 1001it [00:01, 634.47it/s, env_step=82000, len=3, n/ep=16, n/st=50, player1/loss=0.521, player2/loss=1.209, rew=-0.25]                          \n"
          ]
        },
        {
          "output_type": "stream",
          "name": "stdout",
          "text": [
            "Epoch #82: test_reward: -0.220000 ± 0.414246, best_reward: -0.120000 ± 0.324962 in #13\n"
          ]
        },
        {
          "output_type": "stream",
          "name": "stderr",
          "text": [
            "Epoch #83: 1001it [00:01, 799.26it/s, env_step=83000, len=2, n/ep=19, n/st=50, player1/loss=0.483, player2/loss=1.185, rew=-0.11]                          \n"
          ]
        },
        {
          "output_type": "stream",
          "name": "stdout",
          "text": [
            "Epoch #83: test_reward: -0.290000 ± 0.453762, best_reward: -0.120000 ± 0.324962 in #13\n"
          ]
        },
        {
          "output_type": "stream",
          "name": "stderr",
          "text": [
            "Epoch #84: 1001it [00:01, 813.42it/s, env_step=84000, len=2, n/ep=19, n/st=50, player1/loss=0.522, player2/loss=1.232, rew=-0.11]                          \n"
          ]
        },
        {
          "output_type": "stream",
          "name": "stdout",
          "text": [
            "Epoch #84: test_reward: -0.190000 ± 0.392301, best_reward: -0.120000 ± 0.324962 in #13\n"
          ]
        },
        {
          "output_type": "stream",
          "name": "stderr",
          "text": [
            "Epoch #85: 1001it [00:01, 800.73it/s, env_step=85000, len=3, n/ep=18, n/st=50, player1/loss=0.538, player2/loss=1.301, rew=-0.22]                          \n"
          ]
        },
        {
          "output_type": "stream",
          "name": "stdout",
          "text": [
            "Epoch #85: test_reward: -0.210000 ± 0.407308, best_reward: -0.120000 ± 0.324962 in #13\n"
          ]
        },
        {
          "output_type": "stream",
          "name": "stderr",
          "text": [
            "Epoch #86: 1001it [00:01, 817.89it/s, env_step=86000, len=3, n/ep=15, n/st=50, player1/loss=0.481, player2/loss=1.317, rew=-0.20]                          \n"
          ]
        },
        {
          "output_type": "stream",
          "name": "stdout",
          "text": [
            "Epoch #86: test_reward: -0.310000 ± 0.462493, best_reward: -0.120000 ± 0.324962 in #13\n"
          ]
        },
        {
          "output_type": "stream",
          "name": "stderr",
          "text": [
            "Epoch #87: 1001it [00:01, 813.24it/s, env_step=87000, len=2, n/ep=19, n/st=50, player1/loss=0.490, player2/loss=1.240, rew=-0.26]                          \n"
          ]
        },
        {
          "output_type": "stream",
          "name": "stdout",
          "text": [
            "Epoch #87: test_reward: -0.250000 ± 0.433013, best_reward: -0.120000 ± 0.324962 in #13\n"
          ]
        },
        {
          "output_type": "stream",
          "name": "stderr",
          "text": [
            "Epoch #88: 1001it [00:01, 810.59it/s, env_step=88000, len=3, n/ep=14, n/st=50, player1/loss=0.473, player2/loss=1.267, rew=-0.29]                          \n"
          ]
        },
        {
          "output_type": "stream",
          "name": "stdout",
          "text": [
            "Epoch #88: test_reward: -0.250000 ± 0.433013, best_reward: -0.120000 ± 0.324962 in #13\n"
          ]
        },
        {
          "output_type": "stream",
          "name": "stderr",
          "text": [
            "Epoch #89: 1001it [00:01, 684.86it/s, env_step=89000, len=2, n/ep=18, n/st=50, player1/loss=0.501, player2/loss=1.219, rew=-0.22]                          \n"
          ]
        },
        {
          "output_type": "stream",
          "name": "stdout",
          "text": [
            "Epoch #89: test_reward: -0.230000 ± 0.420833, best_reward: -0.120000 ± 0.324962 in #13\n"
          ]
        },
        {
          "output_type": "stream",
          "name": "stderr",
          "text": [
            "Epoch #90: 1001it [00:01, 595.41it/s, env_step=90000, len=2, n/ep=19, n/st=50, player1/loss=0.523, player2/loss=1.359, rew=-0.42]                          \n"
          ]
        },
        {
          "output_type": "stream",
          "name": "stdout",
          "text": [
            "Epoch #90: test_reward: -0.190000 ± 0.392301, best_reward: -0.120000 ± 0.324962 in #13\n"
          ]
        },
        {
          "output_type": "stream",
          "name": "stderr",
          "text": [
            "Epoch #91: 1001it [00:01, 803.21it/s, env_step=91000, len=2, n/ep=20, n/st=50, player1/loss=0.524, player2/loss=1.297, rew=-0.05]                          \n"
          ]
        },
        {
          "output_type": "stream",
          "name": "stdout",
          "text": [
            "Epoch #91: test_reward: -0.210000 ± 0.407308, best_reward: -0.120000 ± 0.324962 in #13\n"
          ]
        },
        {
          "output_type": "stream",
          "name": "stderr",
          "text": [
            "Epoch #92: 1001it [00:01, 796.13it/s, env_step=92000, len=3, n/ep=16, n/st=50, player1/loss=0.536, player2/loss=1.239, rew=-0.56]                          \n"
          ]
        },
        {
          "output_type": "stream",
          "name": "stdout",
          "text": [
            "Epoch #92: test_reward: -0.250000 ± 0.433013, best_reward: -0.120000 ± 0.324962 in #13\n"
          ]
        },
        {
          "output_type": "stream",
          "name": "stderr",
          "text": [
            "Epoch #93: 1001it [00:01, 803.68it/s, env_step=93000, len=2, n/ep=18, n/st=50, player1/loss=0.526, player2/loss=1.333, rew=-0.22]                          \n"
          ]
        },
        {
          "output_type": "stream",
          "name": "stdout",
          "text": [
            "Epoch #93: test_reward: -0.150000 ± 0.357071, best_reward: -0.120000 ± 0.324962 in #13\n"
          ]
        },
        {
          "output_type": "stream",
          "name": "stderr",
          "text": [
            "Epoch #94: 1001it [00:01, 798.06it/s, env_step=94000, len=3, n/ep=16, n/st=50, player1/loss=0.484, player2/loss=1.291, rew=-0.06]                          \n"
          ]
        },
        {
          "output_type": "stream",
          "name": "stdout",
          "text": [
            "Epoch #94: test_reward: -0.260000 ± 0.438634, best_reward: -0.120000 ± 0.324962 in #13\n"
          ]
        },
        {
          "output_type": "stream",
          "name": "stderr",
          "text": [
            "Epoch #95: 1001it [00:01, 792.52it/s, env_step=95000, len=2, n/ep=18, n/st=50, player1/loss=0.458, player2/loss=1.271, rew=-0.22]                          \n"
          ]
        },
        {
          "output_type": "stream",
          "name": "stdout",
          "text": [
            "Epoch #95: test_reward: -0.290000 ± 0.453762, best_reward: -0.120000 ± 0.324962 in #13\n"
          ]
        },
        {
          "output_type": "stream",
          "name": "stderr",
          "text": [
            "Epoch #96: 1001it [00:01, 782.99it/s, env_step=96000, len=3, n/ep=16, n/st=50, player1/loss=0.516, player2/loss=1.302, rew=-0.19]                          \n"
          ]
        },
        {
          "output_type": "stream",
          "name": "stdout",
          "text": [
            "Epoch #96: test_reward: -0.280000 ± 0.448999, best_reward: -0.120000 ± 0.324962 in #13\n"
          ]
        },
        {
          "output_type": "stream",
          "name": "stderr",
          "text": [
            "Epoch #97: 1001it [00:01, 685.50it/s, env_step=97000, len=2, n/ep=20, n/st=50, player1/loss=0.493, player2/loss=1.359, rew=-0.20]                          \n"
          ]
        },
        {
          "output_type": "stream",
          "name": "stdout",
          "text": [
            "Epoch #97: test_reward: -0.260000 ± 0.438634, best_reward: -0.120000 ± 0.324962 in #13\n"
          ]
        },
        {
          "output_type": "stream",
          "name": "stderr",
          "text": [
            "Epoch #98: 1001it [00:01, 574.41it/s, env_step=98000, len=3, n/ep=16, n/st=50, player1/loss=0.483, player2/loss=1.399, rew=-0.19]                          \n"
          ]
        },
        {
          "output_type": "stream",
          "name": "stdout",
          "text": [
            "Epoch #98: test_reward: -0.190000 ± 0.392301, best_reward: -0.120000 ± 0.324962 in #13\n"
          ]
        },
        {
          "output_type": "stream",
          "name": "stderr",
          "text": [
            "Epoch #99: 1001it [00:01, 789.60it/s, env_step=99000, len=2, n/ep=21, n/st=50, player1/loss=0.507, player2/loss=1.398, rew=-0.29]                          \n"
          ]
        },
        {
          "output_type": "stream",
          "name": "stdout",
          "text": [
            "Epoch #99: test_reward: -0.260000 ± 0.438634, best_reward: -0.120000 ± 0.324962 in #13\n"
          ]
        },
        {
          "output_type": "stream",
          "name": "stderr",
          "text": [
            "Epoch #100: 1001it [00:01, 800.92it/s, env_step=100000, len=2, n/ep=18, n/st=50, player1/loss=0.460, player2/loss=1.339, rew=-0.17]                          \n"
          ]
        },
        {
          "output_type": "stream",
          "name": "stdout",
          "text": [
            "Epoch #100: test_reward: -0.200000 ± 0.400000, best_reward: -0.120000 ± 0.324962 in #13\n"
          ]
        },
        {
          "output_type": "execute_result",
          "data": {
            "text/plain": [
              "{'duration': '159.74s',\n",
              " 'train_time/model': '89.58s',\n",
              " 'test_step': 29188,\n",
              " 'test_episode': 10100,\n",
              " 'test_time': '23.89s',\n",
              " 'test_speed': '1221.92 step/s',\n",
              " 'best_reward': -0.12,\n",
              " 'best_result': '-0.12 ± 0.32',\n",
              " 'train_step': 100000,\n",
              " 'train_episode': 34756,\n",
              " 'train_time/collector': '46.27s',\n",
              " 'train_speed': '736.10 step/s'}"
            ]
          },
          "metadata": {},
          "execution_count": 21
        }
      ]
    },
    {
      "cell_type": "code",
      "source": [
        "#@title Eval DRL\n",
        "\n",
        "result = test_collector.collect(n_step=5000)\n",
        "arr = result[\"rews\"]\n",
        "death_rates = np.sum(arr, axis=0) / np.sum(arr, axis=0)[0]\n",
        "print(f\"death rate of player2: {(np.sum(arr, axis=0) / arr.shape[0])[-1] * -1:.3f}\")\n",
        "print(f\"ratio of death rate of player2 with respect to player1: {death_rates[-1]:.3f}\")\n",
        "plt.plot(arr.cumsum(axis=0))\n",
        "plt.legend((\"player1\", \"player2\"))\n",
        "plt.show()"
      ],
      "metadata": {
        "colab": {
          "base_uri": "https://localhost:8080/",
          "height": 522
        },
        "id": "kQ5-2veCd5ZV",
        "outputId": "0cd51d11-d4bc-4fd1-e10e-23c5029ea1b7",
        "cellView": "form"
      },
      "execution_count": 22,
      "outputs": [
        {
          "output_type": "stream",
          "name": "stderr",
          "text": [
            "/usr/local/lib/python3.10/dist-packages/ipykernel/ipkernel.py:283: DeprecationWarning: `should_run_async` will not call `transform_cell` automatically in the future. Please pass the result to `transformed_cell` argument and any exception that happen during thetransform in `preprocessing_exc_tuple` in IPython 7.17 and above.\n",
            "  and should_run_async(code)\n"
          ]
        },
        {
          "output_type": "stream",
          "name": "stdout",
          "text": [
            "death rate of player2: 0.250\n",
            "ratio of death rate of player2 with respect to player1: 0.755\n"
          ]
        },
        {
          "output_type": "display_data",
          "data": {
            "text/plain": [
              "<Figure size 640x480 with 1 Axes>"
            ],
            "image/png": "[encoded data removed]"
          },
          "metadata": {}
        }
      ]
    },
    {
      "cell_type": "code",
      "source": [
        "#@title Load best model checkpoints\n",
        "\n",
        "model_save_path1 = os.path.join(\"log\", \"hommul\", \"dqn\", \"policy1.pth\")\n",
        "model_save_path2 = os.path.join(\"log\", \"hommul\", \"dqn\", \"policy2.pth\")\n",
        "if not hasattr(policy.policies[agents[0]], 'nolearn'):\n",
        "    policy.policies[agents[0]].load_state_dict(torch.load(model_save_path1))\n",
        "if not hasattr(policy.policies[agents[1]], 'nolearn'):\n",
        "    policy.policies[agents[1]].load_state_dict(torch.load(model_save_path2))"
      ],
      "metadata": {
        "id": "Wplc3x6cfEBz",
        "cellView": "form"
      },
      "execution_count": 23,
      "outputs": []
    },
    {
      "cell_type": "code",
      "source": [
        "#@title Eval DRL\n",
        "result = test_collector.collect(n_step=5000)\n",
        "arr = result[\"rews\"]\n",
        "death_rates = np.sum(arr, axis=0) / np.sum(arr, axis=0)[0]\n",
        "print(f\"death rate of player2: {(np.sum(arr, axis=0) / arr.shape[0])[-1] * -1:.3f}\")\n",
        "print(f\"ratio of death rate of player2 with respect to player1: {death_rates[-1]:.3f}\")\n",
        "plt.plot(arr.cumsum(axis=0))\n",
        "plt.legend((\"player1\", \"player2\"))\n",
        "plt.show()"
      ],
      "metadata": {
        "colab": {
          "base_uri": "https://localhost:8080/",
          "height": 466
        },
        "id": "zxXP-sbofD9M",
        "outputId": "9b9914c2-b8eb-4195-ac5f-6e5ecef65357",
        "cellView": "form"
      },
      "execution_count": 24,
      "outputs": [
        {
          "output_type": "stream",
          "name": "stdout",
          "text": [
            "death rate of player2: 0.225\n",
            "ratio of death rate of player2 with respect to player1: 0.575\n"
          ]
        },
        {
          "output_type": "display_data",
          "data": {
            "text/plain": [
              "<Figure size 640x480 with 1 Axes>"
            ],
            "image/png": "[encoded data removed]"
          },
          "metadata": {}
        }
      ]
    },
    {
      "cell_type": "code",
      "source": [
        "#@title Save Policy as CSV\n",
        "\n",
        "df = []\n",
        "obs = []\n",
        "\n",
        "for days_left in range(1, 3):\n",
        "    for player1_life_points in range(4):\n",
        "        for player2_life_points in range(4):\n",
        "            for payoff in [0.2, 0.4]:\n",
        "                for player1_action in range(0, 3):\n",
        "                    for player2_action in range(0, 3):\n",
        "                        curr_obs = [\n",
        "                            days_left, \n",
        "                            player1_life_points, \n",
        "                            player2_life_points, \n",
        "                            payoff,\n",
        "                            payoff,\n",
        "                            player1_action, \n",
        "                            player2_action\n",
        "                        ]\n",
        "                        obs.append({\n",
        "                            'agent_id': 'player2',\n",
        "                            'obs': np.array([curr_obs], dtype='float32'),\n",
        "                            'mask': [True, True, False]\n",
        "                        })\n",
        "                        df.append(curr_obs)\n",
        "\n",
        "cols = [\n",
        "    \"days_left\", \n",
        "    \"player1_life_points\", \n",
        "    \"player2_life_points\", \n",
        "    \"player1_prob_payoff\",\n",
        "    \"player2_prob_payoff\",\n",
        "    \"player1_previous_action\", \n",
        "    \"player2_previous_action\"\n",
        "]\n",
        "df = pd.DataFrame(df, columns=cols)\n",
        "\n",
        "df[\"player2_predicted_action\"] = policy.policies[agents[1]](Batch(obs=obs, info={})).act\n",
        "df[\"player2_logit_wait\"] = policy.policies[agents[1]](Batch(obs=obs, info={})).logits.detach().cpu().numpy()[:, 0]\n",
        "df[\"player2_logit_play\"] = policy.policies[agents[1]](Batch(obs=obs, info={})).logits.detach().cpu().numpy()[:, 1]\n",
        "\n",
        "df[\"player1_previous_action\"] = df[\"player1_previous_action\"].map({0: \"wait\", 1: \"play\", 2: \"none\"})\n",
        "df[\"player2_previous_action\"] = df[\"player2_previous_action\"].map({0: \"wait\", 1: \"play\", 2: \"none\"})\n",
        "df[\"player2_predicted_action\"] = df[\"player2_predicted_action\"].map({0: \"wait\", 1: \"play\"})\n",
        "\n",
        "df.to_csv(\"outcome_table.csv\", index=False)\n",
        "\n",
        "df.head()"
      ],
      "metadata": {
        "colab": {
          "base_uri": "https://localhost:8080/",
          "height": 270
        },
        "id": "qqphMrZSd-JF",
        "outputId": "4e27713c-6e0c-4abb-b5a1-7ba18257d761",
        "cellView": "form"
      },
      "execution_count": 25,
      "outputs": [
        {
          "output_type": "execute_result",
          "data": {
            "text/plain": [
              "   days_left  player1_life_points  player2_life_points  player1_prob_payoff  \\\n",
              "0          1                    0                    0                  0.2   \n",
              "1          1                    0                    0                  0.2   \n",
              "2          1                    0                    0                  0.2   \n",
              "3          1                    0                    0                  0.2   \n",
              "4          1                    0                    0                  0.2   \n",
              "\n",
              "   player2_prob_payoff player1_previous_action player2_previous_action  \\\n",
              "0                  0.2                    wait                    wait   \n",
              "1                  0.2                    wait                    play   \n",
              "2                  0.2                    wait                    none   \n",
              "3                  0.2                    play                    wait   \n",
              "4                  0.2                    play                    play   \n",
              "\n",
              "  player2_predicted_action  player2_logit_wait  player2_logit_play  \n",
              "0                     play           -2.659876           -2.212778  \n",
              "1                     play           -2.783238           -2.571137  \n",
              "2                     wait           -3.074692           -3.131446  \n",
              "3                     play           -2.660012           -1.979891  \n",
              "4                     play           -2.681406           -2.113536  "
            ],
            "text/html": [
              "\n",
              "  <div id=\"df-1bbdf975-4f7f-4b01-b5cc-ee58bf9e19d1\">\n",
              "    <div class=\"colab-df-container\">\n",
              "      <div>\n",
              "<style scoped>\n",
              "    .dataframe tbody tr th:only-of-type {\n",
              "        vertical-align: middle;\n",
              "    }\n",
              "\n",
              "    .dataframe tbody tr th {\n",
              "        vertical-align: top;\n",
              "    }\n",
              "\n",
              "    .dataframe thead th {\n",
              "        text-align: right;\n",
              "    }\n",
              "</style>\n",
              "<table border=\"1\" class=\"dataframe\">\n",
              "  <thead>\n",
              "    <tr style=\"text-align: right;\">\n",
              "      <th></th>\n",
              "      <th>days_left</th>\n",
              "      <th>player1_life_points</th>\n",
              "      <th>player2_life_points</th>\n",
              "      <th>player1_prob_payoff</th>\n",
              "      <th>player2_prob_payoff</th>\n",
              "      <th>player1_previous_action</th>\n",
              "      <th>player2_previous_action</th>\n",
              "      <th>player2_predicted_action</th>\n",
              "      <th>player2_logit_wait</th>\n",
              "      <th>player2_logit_play</th>\n",
              "    </tr>\n",
              "  </thead>\n",
              "  <tbody>\n",
              "    <tr>\n",
              "      <th>0</th>\n",
              "      <td>1</td>\n",
              "      <td>0</td>\n",
              "      <td>0</td>\n",
              "      <td>0.2</td>\n",
              "      <td>0.2</td>\n",
              "      <td>wait</td>\n",
              "      <td>wait</td>\n",
              "      <td>play</td>\n",
              "      <td>-2.659876</td>\n",
              "      <td>-2.212778</td>\n",
              "    </tr>\n",
              "    <tr>\n",
              "      <th>1</th>\n",
              "      <td>1</td>\n",
              "      <td>0</td>\n",
              "      <td>0</td>\n",
              "      <td>0.2</td>\n",
              "      <td>0.2</td>\n",
              "      <td>wait</td>\n",
              "      <td>play</td>\n",
              "      <td>play</td>\n",
              "      <td>-2.783238</td>\n",
              "      <td>-2.571137</td>\n",
              "    </tr>\n",
              "    <tr>\n",
              "      <th>2</th>\n",
              "      <td>1</td>\n",
              "      <td>0</td>\n",
              "      <td>0</td>\n",
              "      <td>0.2</td>\n",
              "      <td>0.2</td>\n",
              "      <td>wait</td>\n",
              "      <td>none</td>\n",
              "      <td>wait</td>\n",
              "      <td>-3.074692</td>\n",
              "      <td>-3.131446</td>\n",
              "    </tr>\n",
              "    <tr>\n",
              "      <th>3</th>\n",
              "      <td>1</td>\n",
              "      <td>0</td>\n",
              "      <td>0</td>\n",
              "      <td>0.2</td>\n",
              "      <td>0.2</td>\n",
              "      <td>play</td>\n",
              "      <td>wait</td>\n",
              "      <td>play</td>\n",
              "      <td>-2.660012</td>\n",
              "      <td>-1.979891</td>\n",
              "    </tr>\n",
              "    <tr>\n",
              "      <th>4</th>\n",
              "      <td>1</td>\n",
              "      <td>0</td>\n",
              "      <td>0</td>\n",
              "      <td>0.2</td>\n",
              "      <td>0.2</td>\n",
              "      <td>play</td>\n",
              "      <td>play</td>\n",
              "      <td>play</td>\n",
              "      <td>-2.681406</td>\n",
              "      <td>-2.113536</td>\n",
              "    </tr>\n",
              "  </tbody>\n",
              "</table>\n",
              "</div>\n",
              "      <button class=\"colab-df-convert\" onclick=\"convertToInteractive('df-1bbdf975-4f7f-4b01-b5cc-ee58bf9e19d1')\"\n",
              "              title=\"Convert this dataframe to an interactive table.\"\n",
              "              style=\"display:none;\">\n",
              "        \n",
              "  <svg xmlns=\"http://www.w3.org/2000/svg\" height=\"24px\"viewBox=\"0 0 24 24\"\n",
              "       width=\"24px\">\n",
              "    <path d=\"M0 0h24v24H0V0z\" fill=\"none\"/>\n",
              "    <path d=\"M18.56 5.44l.94 2.06.94-2.06 2.06-.94-2.06-.94-.94-2.06-.94 2.06-2.06.94zm-11 1L8.5 8.5l.94-2.06 2.06-.94-2.06-.94L8.5 2.5l-.94 2.06-2.06.94zm10 10l.94 2.06.94-2.06 2.06-.94-2.06-.94-.94-2.06-.94 2.06-2.06.94z\"/><path d=\"M17.41 7.96l-1.37-1.37c-.4-.4-.92-.59-1.43-.59-.52 0-1.04.2-1.43.59L10.3 9.45l-7.72 7.72c-.78.78-.78 2.05 0 2.83L4 21.41c.39.39.9.59 1.41.59.51 0 1.02-.2 1.41-.59l7.78-7.78 2.81-2.81c.8-.78.8-2.07 0-2.86zM5.41 20L4 18.59l7.72-7.72 1.47 1.35L5.41 20z\"/>\n",
              "  </svg>\n",
              "      </button>\n",
              "      \n",
              "  <style>\n",
              "    .colab-df-container {\n",
              "      display:flex;\n",
              "      flex-wrap:wrap;\n",
              "      gap: 12px;\n",
              "    }\n",
              "\n",
              "    .colab-df-convert {\n",
              "      background-color: #E8F0FE;\n",
              "      border: none;\n",
              "      border-radius: 50%;\n",
              "      cursor: pointer;\n",
              "      display: none;\n",
              "      fill: #1967D2;\n",
              "      height: 32px;\n",
              "      padding: 0 0 0 0;\n",
              "      width: 32px;\n",
              "    }\n",
              "\n",
              "    .colab-df-convert:hover {\n",
              "      background-color: #E2EBFA;\n",
              "      box-shadow: 0px 1px 2px rgba(60, 64, 67, 0.3), 0px 1px 3px 1px rgba(60, 64, 67, 0.15);\n",
              "      fill: #174EA6;\n",
              "    }\n",
              "\n",
              "    [theme=dark] .colab-df-convert {\n",
              "      background-color: #3B4455;\n",
              "      fill: #D2E3FC;\n",
              "    }\n",
              "\n",
              "    [theme=dark] .colab-df-convert:hover {\n",
              "      background-color: #434B5C;\n",
              "      box-shadow: 0px 1px 3px 1px rgba(0, 0, 0, 0.15);\n",
              "      filter: drop-shadow(0px 1px 2px rgba(0, 0, 0, 0.3));\n",
              "      fill: #FFFFFF;\n",
              "    }\n",
              "  </style>\n",
              "\n",
              "      <script>\n",
              "        const buttonEl =\n",
              "          document.querySelector('#df-1bbdf975-4f7f-4b01-b5cc-ee58bf9e19d1 button.colab-df-convert');\n",
              "        buttonEl.style.display =\n",
              "          google.colab.kernel.accessAllowed ? 'block' : 'none';\n",
              "\n",
              "        async function convertToInteractive(key) {\n",
              "          const element = document.querySelector('#df-1bbdf975-4f7f-4b01-b5cc-ee58bf9e19d1');\n",
              "          const dataTable =\n",
              "            await google.colab.kernel.invokeFunction('convertToInteractive',\n",
              "                                                     [key], {});\n",
              "          if (!dataTable) return;\n",
              "\n",
              "          const docLinkHtml = 'Like what you see? Visit the ' +\n",
              "            '<a target=\"_blank\" href=https://colab.research.google.com/notebooks/data_table.ipynb>data table notebook</a>'\n",
              "            + ' to learn more about interactive tables.';\n",
              "          element.innerHTML = '';\n",
              "          dataTable['output_type'] = 'display_data';\n",
              "          await google.colab.output.renderOutput(dataTable, element);\n",
              "          const docLink = document.createElement('div');\n",
              "          docLink.innerHTML = docLinkHtml;\n",
              "          element.appendChild(docLink);\n",
              "        }\n",
              "      </script>\n",
              "    </div>\n",
              "  </div>\n",
              "  "
            ]
          },
          "metadata": {},
          "execution_count": 25
        }
      ]
    },
    {
      "cell_type": "code",
      "source": [
        "#@title Visualize policy (mean gameplay)\n",
        "(df[\"player2_predicted_action\"] == \"play\").mean()"
      ],
      "metadata": {
        "colab": {
          "base_uri": "https://localhost:8080/"
        },
        "id": "KxAabY2fo4OL",
        "outputId": "c20cbb07-f690-4367-a2cf-7e0ed795ec12",
        "cellView": "form"
      },
      "execution_count": 26,
      "outputs": [
        {
          "output_type": "stream",
          "name": "stderr",
          "text": [
            "/usr/local/lib/python3.10/dist-packages/ipykernel/ipkernel.py:283: DeprecationWarning: `should_run_async` will not call `transform_cell` automatically in the future. Please pass the result to `transformed_cell` argument and any exception that happen during thetransform in `preprocessing_exc_tuple` in IPython 7.17 and above.\n",
            "  and should_run_async(code)\n"
          ]
        },
        {
          "output_type": "execute_result",
          "data": {
            "text/plain": [
              "0.4635416666666667"
            ]
          },
          "metadata": {},
          "execution_count": 26
        }
      ]
    },
    {
      "cell_type": "code",
      "source": [
        "#@title Visualize policy\n",
        "df[df[\"player2_predicted_action\"] == \"play\"].tail(15)"
      ],
      "metadata": {
        "colab": {
          "base_uri": "https://localhost:8080/",
          "height": 584
        },
        "id": "YmNsJMKrpxVu",
        "outputId": "762f8bfc-5f1b-42ad-922e-16f95fbd55a1",
        "cellView": "form"
      },
      "execution_count": 27,
      "outputs": [
        {
          "output_type": "execute_result",
          "data": {
            "text/plain": [
              "     days_left  player1_life_points  player2_life_points  player1_prob_payoff  \\\n",
              "527          2                    3                    1                  0.2   \n",
              "528          2                    3                    1                  0.2   \n",
              "529          2                    3                    1                  0.2   \n",
              "530          2                    3                    1                  0.2   \n",
              "531          2                    3                    1                  0.4   \n",
              "532          2                    3                    1                  0.4   \n",
              "534          2                    3                    1                  0.4   \n",
              "535          2                    3                    1                  0.4   \n",
              "536          2                    3                    1                  0.4   \n",
              "537          2                    3                    1                  0.4   \n",
              "538          2                    3                    1                  0.4   \n",
              "539          2                    3                    1                  0.4   \n",
              "548          2                    3                    2                  0.2   \n",
              "556          2                    3                    2                  0.4   \n",
              "557          2                    3                    2                  0.4   \n",
              "\n",
              "     player2_prob_payoff player1_previous_action player2_previous_action  \\\n",
              "527                  0.2                    play                    none   \n",
              "528                  0.2                    none                    wait   \n",
              "529                  0.2                    none                    play   \n",
              "530                  0.2                    none                    none   \n",
              "531                  0.4                    wait                    wait   \n",
              "532                  0.4                    wait                    play   \n",
              "534                  0.4                    play                    wait   \n",
              "535                  0.4                    play                    play   \n",
              "536                  0.4                    play                    none   \n",
              "537                  0.4                    none                    wait   \n",
              "538                  0.4                    none                    play   \n",
              "539                  0.4                    none                    none   \n",
              "548                  0.2                    none                    none   \n",
              "556                  0.4                    none                    play   \n",
              "557                  0.4                    none                    none   \n",
              "\n",
              "    player2_predicted_action  player2_logit_wait  player2_logit_play  \n",
              "527                     play           -2.623579           -2.506845  \n",
              "528                     play           -2.800943           -2.373681  \n",
              "529                     play           -2.477022           -2.008962  \n",
              "530                     play           -2.274092           -1.889014  \n",
              "531                     play           -3.249925           -3.043656  \n",
              "532                     play           -3.088605           -3.062900  \n",
              "534                     play           -2.945251           -2.536741  \n",
              "535                     play           -2.678582           -2.358937  \n",
              "536                     play           -2.643734           -2.476829  \n",
              "537                     play           -2.828171           -2.352279  \n",
              "538                     play           -2.485009           -1.964374  \n",
              "539                     play           -2.278791           -1.819307  \n",
              "548                     play           -1.509914           -1.484909  \n",
              "556                     play           -1.592010           -1.571241  \n",
              "557                     play           -1.544803           -1.432308  "
            ],
            "text/html": [
              "\n",
              "  <div id=\"df-3d4cc866-3dc9-4ae7-a915-6a84ea0434a6\">\n",
              "    <div class=\"colab-df-container\">\n",
              "      <div>\n",
              "<style scoped>\n",
              "    .dataframe tbody tr th:only-of-type {\n",
              "        vertical-align: middle;\n",
              "    }\n",
              "\n",
              "    .dataframe tbody tr th {\n",
              "        vertical-align: top;\n",
              "    }\n",
              "\n",
              "    .dataframe thead th {\n",
              "        text-align: right;\n",
              "    }\n",
              "</style>\n",
              "<table border=\"1\" class=\"dataframe\">\n",
              "  <thead>\n",
              "    <tr style=\"text-align: right;\">\n",
              "      <th></th>\n",
              "      <th>days_left</th>\n",
              "      <th>player1_life_points</th>\n",
              "      <th>player2_life_points</th>\n",
              "      <th>player1_prob_payoff</th>\n",
              "      <th>player2_prob_payoff</th>\n",
              "      <th>player1_previous_action</th>\n",
              "      <th>player2_previous_action</th>\n",
              "      <th>player2_predicted_action</th>\n",
              "      <th>player2_logit_wait</th>\n",
              "      <th>player2_logit_play</th>\n",
              "    </tr>\n",
              "  </thead>\n",
              "  <tbody>\n",
              "    <tr>\n",
              "      <th>527</th>\n",
              "      <td>2</td>\n",
              "      <td>3</td>\n",
              "      <td>1</td>\n",
              "      <td>0.2</td>\n",
              "      <td>0.2</td>\n",
              "      <td>play</td>\n",
              "      <td>none</td>\n",
              "      <td>play</td>\n",
              "      <td>-2.623579</td>\n",
              "      <td>-2.506845</td>\n",
              "    </tr>\n",
              "    <tr>\n",
              "      <th>528</th>\n",
              "      <td>2</td>\n",
              "      <td>3</td>\n",
              "      <td>1</td>\n",
              "      <td>0.2</td>\n",
              "      <td>0.2</td>\n",
              "      <td>none</td>\n",
              "      <td>wait</td>\n",
              "      <td>play</td>\n",
              "      <td>-2.800943</td>\n",
              "      <td>-2.373681</td>\n",
              "    </tr>\n",
              "    <tr>\n",
              "      <th>529</th>\n",
              "      <td>2</td>\n",
              "      <td>3</td>\n",
              "      <td>1</td>\n",
              "      <td>0.2</td>\n",
              "      <td>0.2</td>\n",
              "      <td>none</td>\n",
              "      <td>play</td>\n",
              "      <td>play</td>\n",
              "      <td>-2.477022</td>\n",
              "      <td>-2.008962</td>\n",
              "    </tr>\n",
              "    <tr>\n",
              "      <th>530</th>\n",
              "      <td>2</td>\n",
              "      <td>3</td>\n",
              "      <td>1</td>\n",
              "      <td>0.2</td>\n",
              "      <td>0.2</td>\n",
              "      <td>none</td>\n",
              "      <td>none</td>\n",
              "      <td>play</td>\n",
              "      <td>-2.274092</td>\n",
              "      <td>-1.889014</td>\n",
              "    </tr>\n",
              "    <tr>\n",
              "      <th>531</th>\n",
              "      <td>2</td>\n",
              "      <td>3</td>\n",
              "      <td>1</td>\n",
              "      <td>0.4</td>\n",
              "      <td>0.4</td>\n",
              "      <td>wait</td>\n",
              "      <td>wait</td>\n",
              "      <td>play</td>\n",
              "      <td>-3.249925</td>\n",
              "      <td>-3.043656</td>\n",
              "    </tr>\n",
              "    <tr>\n",
              "      <th>532</th>\n",
              "      <td>2</td>\n",
              "      <td>3</td>\n",
              "      <td>1</td>\n",
              "      <td>0.4</td>\n",
              "      <td>0.4</td>\n",
              "      <td>wait</td>\n",
              "      <td>play</td>\n",
              "      <td>play</td>\n",
              "      <td>-3.088605</td>\n",
              "      <td>-3.062900</td>\n",
              "    </tr>\n",
              "    <tr>\n",
              "      <th>534</th>\n",
              "      <td>2</td>\n",
              "      <td>3</td>\n",
              "      <td>1</td>\n",
              "      <td>0.4</td>\n",
              "      <td>0.4</td>\n",
              "      <td>play</td>\n",
              "      <td>wait</td>\n",
              "      <td>play</td>\n",
              "      <td>-2.945251</td>\n",
              "      <td>-2.536741</td>\n",
              "    </tr>\n",
              "    <tr>\n",
              "      <th>535</th>\n",
              "      <td>2</td>\n",
              "      <td>3</td>\n",
              "      <td>1</td>\n",
              "      <td>0.4</td>\n",
              "      <td>0.4</td>\n",
              "      <td>play</td>\n",
              "      <td>play</td>\n",
              "      <td>play</td>\n",
              "      <td>-2.678582</td>\n",
              "      <td>-2.358937</td>\n",
              "    </tr>\n",
              "    <tr>\n",
              "      <th>536</th>\n",
              "      <td>2</td>\n",
              "      <td>3</td>\n",
              "      <td>1</td>\n",
              "      <td>0.4</td>\n",
              "      <td>0.4</td>\n",
              "      <td>play</td>\n",
              "      <td>none</td>\n",
              "      <td>play</td>\n",
              "      <td>-2.643734</td>\n",
              "      <td>-2.476829</td>\n",
              "    </tr>\n",
              "    <tr>\n",
              "      <th>537</th>\n",
              "      <td>2</td>\n",
              "      <td>3</td>\n",
              "      <td>1</td>\n",
              "      <td>0.4</td>\n",
              "      <td>0.4</td>\n",
              "      <td>none</td>\n",
              "      <td>wait</td>\n",
              "      <td>play</td>\n",
              "      <td>-2.828171</td>\n",
              "      <td>-2.352279</td>\n",
              "    </tr>\n",
              "    <tr>\n",
              "      <th>538</th>\n",
              "      <td>2</td>\n",
              "      <td>3</td>\n",
              "      <td>1</td>\n",
              "      <td>0.4</td>\n",
              "      <td>0.4</td>\n",
              "      <td>none</td>\n",
              "      <td>play</td>\n",
              "      <td>play</td>\n",
              "      <td>-2.485009</td>\n",
              "      <td>-1.964374</td>\n",
              "    </tr>\n",
              "    <tr>\n",
              "      <th>539</th>\n",
              "      <td>2</td>\n",
              "      <td>3</td>\n",
              "      <td>1</td>\n",
              "      <td>0.4</td>\n",
              "      <td>0.4</td>\n",
              "      <td>none</td>\n",
              "      <td>none</td>\n",
              "      <td>play</td>\n",
              "      <td>-2.278791</td>\n",
              "      <td>-1.819307</td>\n",
              "    </tr>\n",
              "    <tr>\n",
              "      <th>548</th>\n",
              "      <td>2</td>\n",
              "      <td>3</td>\n",
              "      <td>2</td>\n",
              "      <td>0.2</td>\n",
              "      <td>0.2</td>\n",
              "      <td>none</td>\n",
              "      <td>none</td>\n",
              "      <td>play</td>\n",
              "      <td>-1.509914</td>\n",
              "      <td>-1.484909</td>\n",
              "    </tr>\n",
              "    <tr>\n",
              "      <th>556</th>\n",
              "      <td>2</td>\n",
              "      <td>3</td>\n",
              "      <td>2</td>\n",
              "      <td>0.4</td>\n",
              "      <td>0.4</td>\n",
              "      <td>none</td>\n",
              "      <td>play</td>\n",
              "      <td>play</td>\n",
              "      <td>-1.592010</td>\n",
              "      <td>-1.571241</td>\n",
              "    </tr>\n",
              "    <tr>\n",
              "      <th>557</th>\n",
              "      <td>2</td>\n",
              "      <td>3</td>\n",
              "      <td>2</td>\n",
              "      <td>0.4</td>\n",
              "      <td>0.4</td>\n",
              "      <td>none</td>\n",
              "      <td>none</td>\n",
              "      <td>play</td>\n",
              "      <td>-1.544803</td>\n",
              "      <td>-1.432308</td>\n",
              "    </tr>\n",
              "  </tbody>\n",
              "</table>\n",
              "</div>\n",
              "      <button class=\"colab-df-convert\" onclick=\"convertToInteractive('df-3d4cc866-3dc9-4ae7-a915-6a84ea0434a6')\"\n",
              "              title=\"Convert this dataframe to an interactive table.\"\n",
              "              style=\"display:none;\">\n",
              "        \n",
              "  <svg xmlns=\"http://www.w3.org/2000/svg\" height=\"24px\"viewBox=\"0 0 24 24\"\n",
              "       width=\"24px\">\n",
              "    <path d=\"M0 0h24v24H0V0z\" fill=\"none\"/>\n",
              "    <path d=\"M18.56 5.44l.94 2.06.94-2.06 2.06-.94-2.06-.94-.94-2.06-.94 2.06-2.06.94zm-11 1L8.5 8.5l.94-2.06 2.06-.94-2.06-.94L8.5 2.5l-.94 2.06-2.06.94zm10 10l.94 2.06.94-2.06 2.06-.94-2.06-.94-.94-2.06-.94 2.06-2.06.94z\"/><path d=\"M17.41 7.96l-1.37-1.37c-.4-.4-.92-.59-1.43-.59-.52 0-1.04.2-1.43.59L10.3 9.45l-7.72 7.72c-.78.78-.78 2.05 0 2.83L4 21.41c.39.39.9.59 1.41.59.51 0 1.02-.2 1.41-.59l7.78-7.78 2.81-2.81c.8-.78.8-2.07 0-2.86zM5.41 20L4 18.59l7.72-7.72 1.47 1.35L5.41 20z\"/>\n",
              "  </svg>\n",
              "      </button>\n",
              "      \n",
              "  <style>\n",
              "    .colab-df-container {\n",
              "      display:flex;\n",
              "      flex-wrap:wrap;\n",
              "      gap: 12px;\n",
              "    }\n",
              "\n",
              "    .colab-df-convert {\n",
              "      background-color: #E8F0FE;\n",
              "      border: none;\n",
              "      border-radius: 50%;\n",
              "      cursor: pointer;\n",
              "      display: none;\n",
              "      fill: #1967D2;\n",
              "      height: 32px;\n",
              "      padding: 0 0 0 0;\n",
              "      width: 32px;\n",
              "    }\n",
              "\n",
              "    .colab-df-convert:hover {\n",
              "      background-color: #E2EBFA;\n",
              "      box-shadow: 0px 1px 2px rgba(60, 64, 67, 0.3), 0px 1px 3px 1px rgba(60, 64, 67, 0.15);\n",
              "      fill: #174EA6;\n",
              "    }\n",
              "\n",
              "    [theme=dark] .colab-df-convert {\n",
              "      background-color: #3B4455;\n",
              "      fill: #D2E3FC;\n",
              "    }\n",
              "\n",
              "    [theme=dark] .colab-df-convert:hover {\n",
              "      background-color: #434B5C;\n",
              "      box-shadow: 0px 1px 3px 1px rgba(0, 0, 0, 0.15);\n",
              "      filter: drop-shadow(0px 1px 2px rgba(0, 0, 0, 0.3));\n",
              "      fill: #FFFFFF;\n",
              "    }\n",
              "  </style>\n",
              "\n",
              "      <script>\n",
              "        const buttonEl =\n",
              "          document.querySelector('#df-3d4cc866-3dc9-4ae7-a915-6a84ea0434a6 button.colab-df-convert');\n",
              "        buttonEl.style.display =\n",
              "          google.colab.kernel.accessAllowed ? 'block' : 'none';\n",
              "\n",
              "        async function convertToInteractive(key) {\n",
              "          const element = document.querySelector('#df-3d4cc866-3dc9-4ae7-a915-6a84ea0434a6');\n",
              "          const dataTable =\n",
              "            await google.colab.kernel.invokeFunction('convertToInteractive',\n",
              "                                                     [key], {});\n",
              "          if (!dataTable) return;\n",
              "\n",
              "          const docLinkHtml = 'Like what you see? Visit the ' +\n",
              "            '<a target=\"_blank\" href=https://colab.research.google.com/notebooks/data_table.ipynb>data table notebook</a>'\n",
              "            + ' to learn more about interactive tables.';\n",
              "          element.innerHTML = '';\n",
              "          dataTable['output_type'] = 'display_data';\n",
              "          await google.colab.output.renderOutput(dataTable, element);\n",
              "          const docLink = document.createElement('div');\n",
              "          docLink.innerHTML = docLinkHtml;\n",
              "          element.appendChild(docLink);\n",
              "        }\n",
              "      </script>\n",
              "    </div>\n",
              "  </div>\n",
              "  "
            ]
          },
          "metadata": {},
          "execution_count": 27
        }
      ]
    },
    {
      "cell_type": "code",
      "source": [
        "#@title Case - Optimal vs DRL\n",
        "policy = MultiAgentPolicyManager([OptimalPolicy(), agent_learn2],  _get_env())\n",
        "test_envs = DummyVectorEnv([_get_env for _ in range(2)])\n",
        "test_collector = Collector(policy, test_envs, exploration_noise=True)\n",
        "\n",
        "result = test_collector.collect(n_step=4*1000)\n",
        "arr = result[\"rews\"]\n",
        "death_rates = np.sum(arr, axis=0) / np.sum(arr, axis=0)[0]\n",
        "print(f\"death rate of player2: {(np.sum(arr, axis=0) / arr.shape[0])[-1] * -1:.3f}\")\n",
        "print(f\"ratio of death rate of player2 with respect to player1: {death_rates[-1]:.3f}\")\n",
        "plt.plot(arr.cumsum(axis=0))\n",
        "plt.legend((\"player1\", \"player2\"))\n",
        "plt.show()"
      ],
      "metadata": {
        "id": "DHJQl1CrtbzX",
        "outputId": "f2c00886-9e6b-4515-96d4-45dee86da96b",
        "colab": {
          "base_uri": "https://localhost:8080/",
          "height": 522
        },
        "cellView": "form"
      },
      "execution_count": 28,
      "outputs": [
        {
          "output_type": "stream",
          "name": "stderr",
          "text": [
            "/usr/local/lib/python3.10/dist-packages/ipykernel/ipkernel.py:283: DeprecationWarning: `should_run_async` will not call `transform_cell` automatically in the future. Please pass the result to `transformed_cell` argument and any exception that happen during thetransform in `preprocessing_exc_tuple` in IPython 7.17 and above.\n",
            "  and should_run_async(code)\n"
          ]
        },
        {
          "output_type": "stream",
          "name": "stdout",
          "text": [
            "death rate of player2: 0.201\n",
            "ratio of death rate of player2 with respect to player1: 0.495\n"
          ]
        },
        {
          "output_type": "display_data",
          "data": {
            "text/plain": [
              "<Figure size 640x480 with 1 Axes>"
            ],
            "image/png": "[encoded data removed]"
          },
          "metadata": {}
        }
      ]
    },
    {
      "cell_type": "code",
      "source": [
        "#@title Case - optimal vs optimal\n",
        "policy = MultiAgentPolicyManager([OptimalPolicy(), OptimalPolicy()],  _get_env())\n",
        "test_envs = DummyVectorEnv([_get_env for _ in range(2)])\n",
        "test_collector = Collector(policy, test_envs, exploration_noise=True)\n",
        "\n",
        "result = test_collector.collect(n_step=4*1000)\n",
        "arr = result[\"rews\"]\n",
        "death_rates = np.sum(arr, axis=0) / np.sum(arr, axis=0)[0]\n",
        "print(f\"death rate of player2: {(np.sum(arr, axis=0) / arr.shape[0])[-1] * -1:.3f}\")\n",
        "print(f\"ratio of death rate of player2 with respect to player1: {death_rates[-1]:.3f}\")\n",
        "plt.plot(arr.cumsum(axis=0))\n",
        "plt.legend((\"player1\", \"player2\"))\n",
        "plt.show()"
      ],
      "metadata": {
        "id": "iXU204WEtjgg",
        "outputId": "bbcc32e3-07b3-41c6-f488-c551d7c3fdcd",
        "colab": {
          "base_uri": "https://localhost:8080/",
          "height": 522
        },
        "cellView": "form"
      },
      "execution_count": 29,
      "outputs": [
        {
          "output_type": "stream",
          "name": "stderr",
          "text": [
            "/usr/local/lib/python3.10/dist-packages/ipykernel/ipkernel.py:283: DeprecationWarning: `should_run_async` will not call `transform_cell` automatically in the future. Please pass the result to `transformed_cell` argument and any exception that happen during thetransform in `preprocessing_exc_tuple` in IPython 7.17 and above.\n",
            "  and should_run_async(code)\n"
          ]
        },
        {
          "output_type": "stream",
          "name": "stdout",
          "text": [
            "death rate of player2: 0.179\n",
            "ratio of death rate of player2 with respect to player1: 0.587\n"
          ]
        },
        {
          "output_type": "display_data",
          "data": {
            "text/plain": [
              "<Figure size 640x480 with 1 Axes>"
            ],
            "image/png": "[encoded data removed]"
          },
          "metadata": {}
        }
      ]
    },
    {
      "cell_type": "code",
      "source": [
        "#@title Case - optimal vs Hail Mary\n",
        "policy = MultiAgentPolicyManager([OptimalPolicy(), HailMary()],  _get_env())\n",
        "test_envs = DummyVectorEnv([_get_env for _ in range(2)])\n",
        "test_collector = Collector(policy, test_envs, exploration_noise=True)\n",
        "\n",
        "result = test_collector.collect(n_step=4*1000)\n",
        "arr = result[\"rews\"]\n",
        "death_rates = np.sum(arr, axis=0) / np.sum(arr, axis=0)[0]\n",
        "print(f\"death rate of player2: {(np.sum(arr, axis=0) / arr.shape[0])[-1] * -1:.3f}\")\n",
        "print(f\"ratio of death rate of player2 with respect to player1: {death_rates[-1]:.3f}\")\n",
        "plt.plot(arr.cumsum(axis=0))\n",
        "plt.legend((\"player1\", \"player2\"))\n",
        "plt.show()"
      ],
      "metadata": {
        "id": "WB5v7wpg3E_Q",
        "outputId": "4dc7b94e-cdca-4b1b-d20e-05f33318b0c0",
        "colab": {
          "base_uri": "https://localhost:8080/",
          "height": 466
        }
      },
      "execution_count": 30,
      "outputs": [
        {
          "output_type": "stream",
          "name": "stdout",
          "text": [
            "death rate of player2: 0.377\n",
            "ratio of death rate of player2 with respect to player1: 0.959\n"
          ]
        },
        {
          "output_type": "display_data",
          "data": {
            "text/plain": [
              "<Figure size 640x480 with 1 Axes>"
            ],
            "image/png": "[encoded data removed]"
          },
          "metadata": {}
        }
      ]
    },
    {
      "cell_type": "code",
      "source": [
        "#@title Case - optimal vs random agent\n",
        "policy = MultiAgentPolicyManager([OptimalPolicy(), RandomAgent()],  _get_env())\n",
        "test_envs = DummyVectorEnv([_get_env for _ in range(2)])\n",
        "test_collector = Collector(policy, test_envs, exploration_noise=True)\n",
        "\n",
        "result = test_collector.collect(n_step=4*1000)\n",
        "arr = result[\"rews\"]\n",
        "death_rates = np.sum(arr, axis=0) / np.sum(arr, axis=0)[0]\n",
        "print(f\"death rate of player2: {(np.sum(arr, axis=0) / arr.shape[0])[-1] * -1:.3f}\")\n",
        "print(f\"ratio of death rate of player2 with respect to player1: {death_rates[-1]:.3f}\")\n",
        "plt.plot(arr.cumsum(axis=0))\n",
        "plt.legend((\"player1\", \"player2\"))\n",
        "plt.show()"
      ],
      "metadata": {
        "cellView": "form",
        "id": "10IOrfyY3LVZ",
        "outputId": "6235aa16-d0bd-40e6-b51f-8276cb939b09",
        "colab": {
          "base_uri": "https://localhost:8080/",
          "height": 522
        }
      },
      "execution_count": 31,
      "outputs": [
        {
          "output_type": "stream",
          "name": "stderr",
          "text": [
            "/usr/local/lib/python3.10/dist-packages/ipykernel/ipkernel.py:283: DeprecationWarning: `should_run_async` will not call `transform_cell` automatically in the future. Please pass the result to `transformed_cell` argument and any exception that happen during thetransform in `preprocessing_exc_tuple` in IPython 7.17 and above.\n",
            "  and should_run_async(code)\n"
          ]
        },
        {
          "output_type": "stream",
          "name": "stdout",
          "text": [
            "death rate of player2: 0.396\n",
            "ratio of death rate of player2 with respect to player1: 0.938\n"
          ]
        },
        {
          "output_type": "display_data",
          "data": {
            "text/plain": [
              "<Figure size 640x480 with 1 Axes>"
            ],
            "image/png": "[encoded data removed]"
          },
          "metadata": {}
        }
      ]
    },
    {
      "cell_type": "code",
      "source": [],
      "metadata": {
        "id": "P_UUU6Tz3Tr5"
      },
      "execution_count": null,
      "outputs": []
    }
  ]
}