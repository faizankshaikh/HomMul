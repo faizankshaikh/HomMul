{
  "nbformat": 4,
  "nbformat_minor": 0,
  "metadata": {
    "colab": {
      "provenance": [],
      "authorship_tag": "ABX9TyPpSYLgjFLJaXCF6vWEyQ6O",
      "include_colab_link": true
    },
    "kernelspec": {
      "name": "python3",
      "display_name": "Python 3"
    },
    "language_info": {
      "name": "python"
    }
  },
  "cells": [
    {
      "cell_type": "markdown",
      "metadata": {
        "id": "view-in-github",
        "colab_type": "text"
      },
      "source": [
        "<a href=\"https://colab.research.google.com/github/faizankshaikh/HomMul/blob/main/trial1.ipynb\" target=\"_parent\"><img src=\"https://colab.research.google.com/assets/colab-badge.svg\" alt=\"Open In Colab\"/></a>"
      ]
    },
    {
      "cell_type": "code",
      "execution_count": 4,
      "metadata": {
        "colab": {
          "base_uri": "https://localhost:8080/"
        },
        "id": "V2BNDFAEr5fq",
        "outputId": "25e3fa43-ff90-4614-cbae-085bcebdb1d5"
      },
      "outputs": [
        {
          "output_type": "stream",
          "name": "stdout",
          "text": [
            "\u001b[?25l     \u001b[90m━━━━━━━━━━━━━━━━━━━━━━━━━━━━━━━━━━━━━━━━\u001b[0m \u001b[32m0.0/1.7 MB\u001b[0m \u001b[31m?\u001b[0m eta \u001b[36m-:--:--\u001b[0m\r\u001b[2K     \u001b[91m━━━━━━\u001b[0m\u001b[91m╸\u001b[0m\u001b[90m━━━━━━━━━━━━━━━━━━━━━━━━━━━━━━━━━\u001b[0m \u001b[32m0.3/1.7 MB\u001b[0m \u001b[31m8.7 MB/s\u001b[0m eta \u001b[36m0:00:01\u001b[0m\r\u001b[2K     \u001b[91m━━━━━━━━━━━━━━━━━━━━━━━━━━━━━━━━━━━━━━━\u001b[0m\u001b[91m╸\u001b[0m \u001b[32m1.6/1.7 MB\u001b[0m \u001b[31m27.2 MB/s\u001b[0m eta \u001b[36m0:00:01\u001b[0m\r\u001b[2K     \u001b[90m━━━━━━━━━━━━━━━━━━━━━━━━━━━━━━━━━━━━━━━━\u001b[0m \u001b[32m1.7/1.7 MB\u001b[0m \u001b[31m20.7 MB/s\u001b[0m eta \u001b[36m0:00:00\u001b[0m\n",
            "\u001b[?25h"
          ]
        }
      ],
      "source": [
        "# !pip install -q black gymnasium pettingzoo tianshou\n",
        "# !git clone https://github.com/faizankshaikh/HomMul.git"
      ]
    },
    {
      "cell_type": "code",
      "source": [
        "%cd HomMul/"
      ],
      "metadata": {
        "colab": {
          "base_uri": "https://localhost:8080/"
        },
        "id": "NBShrrDlsJLP",
        "outputId": "fff8cd4e-298f-4f4c-a02c-4b2202ea6f58"
      },
      "execution_count": 1,
      "outputs": [
        {
          "output_type": "stream",
          "name": "stdout",
          "text": [
            "/content/HomMul\n"
          ]
        }
      ]
    },
    {
      "cell_type": "code",
      "source": [
        "%load_ext tensorboard\n",
        "\n",
        "import os\n",
        "import torch\n",
        "import numpy as np\n",
        "import pandas as pd\n",
        "import matplotlib.pyplot as plt\n",
        "\n",
        "from hommul.envs.hommul_v0 import HomMul\n",
        "\n",
        "from torch.optim import Adam\n",
        "\n",
        "from tianshou.data import Batch\n",
        "from tianshou.utils.net.common import Net\n",
        "from tianshou.utils import TensorboardLogger\n",
        "from tianshou.trainer import offpolicy_trainer\n",
        "from tianshou.data import Collector, VectorReplayBuffer\n",
        "from tianshou.env import DummyVectorEnv, PettingZooEnv\n",
        "from tianshou.policy import BasePolicy, DQNPolicy, MultiAgentPolicyManager\n",
        "\n",
        "from pettingzoo.utils import parallel_to_aec\n",
        "\n",
        "from torch.utils.tensorboard import SummaryWriter"
      ],
      "metadata": {
        "id": "othtAUgWs8MA"
      },
      "execution_count": 2,
      "outputs": []
    },
    {
      "cell_type": "code",
      "source": [
        "env = HomMul()\n",
        "original_env = HomMul(render_mode=\"human\")"
      ],
      "metadata": {
        "colab": {
          "base_uri": "https://localhost:8080/"
        },
        "id": "ZkPx4nCOuhXX",
        "outputId": "15dfe3ab-6816-4876-d614-4265f4d69b6a"
      },
      "execution_count": 3,
      "outputs": [
        {
          "output_type": "stream",
          "name": "stderr",
          "text": [
            "/usr/local/lib/python3.10/dist-packages/ipykernel/ipkernel.py:283: DeprecationWarning: `should_run_async` will not call `transform_cell` automatically in the future. Please pass the result to `transformed_cell` argument and any exception that happen during thetransform in `preprocessing_exc_tuple` in IPython 7.17 and above.\n",
            "  and should_run_async(code)\n"
          ]
        }
      ]
    },
    {
      "cell_type": "code",
      "source": [
        "# example of gameplay\n",
        "episodes = 5\n",
        "\n",
        "for episode in range(episodes):\n",
        "    print(f\"Episode #{episode+1}\")\n",
        "    print(\"=\" * 10)\n",
        "    obs = original_env.reset()\n",
        "    print()\n",
        "\n",
        "    while original_env.agents:\n",
        "        acts = {\n",
        "            \"player1\": np.random.choice([0, 1]),\n",
        "            \"player2\": np.random.choice([0, 1])\n",
        "        }\n",
        "        print(f\"--Action taken by player 1: {original_env.action_dict[acts['player1']]}\")\n",
        "        print(f\"--Action taken by player 2: {original_env.action_dict[acts['player2']]}\")\n",
        "        print()\n",
        "\n",
        "        obs, rews, terms, truncs, infos = original_env.step(acts)\n",
        "        print()"
      ],
      "metadata": {
        "colab": {
          "base_uri": "https://localhost:8080/"
        },
        "id": "ANr_Vc2ouvVJ",
        "outputId": "0129f531-f595-4631-cf55-c93f95292a7a"
      },
      "execution_count": 6,
      "outputs": [
        {
          "output_type": "stream",
          "name": "stdout",
          "text": [
            "Episode #1\n",
            "==========\n",
            "--Days left: 2\n",
            "--Current life of agent 1: 2\n",
            "--Current life of agent 2: 3\n",
            "--Probability of payoff for agent 1: 0.4\n",
            "--Probability of payoff for agent 2: 0.4\n",
            "\n",
            "--Action taken by player 1: wait\n",
            "--Action taken by player 2: play\n",
            "\n",
            "--Days left: 1\n",
            "--Current life of agent 1: 1\n",
            "--Current life of agent 2: 1\n",
            "--Probability of payoff for agent 1: 0.4\n",
            "--Probability of payoff for agent 2: 0.4\n",
            "--Previous action of agent 1: wait\n",
            "--Previous action of agent 2: play\n",
            "\n",
            "--Action taken by player 1: wait\n",
            "--Action taken by player 2: play\n",
            "\n",
            "--Days left: 0\n",
            "--Current life of agent 1: 0\n",
            "--Current life of agent 2: 2\n",
            "--Probability of payoff for agent 1: 0.4\n",
            "--Probability of payoff for agent 2: 0.4\n",
            "--Previous action of agent 1: wait\n",
            "--Previous action of agent 2: play\n",
            "\n",
            "Episode #2\n",
            "==========\n",
            "--Days left: 1\n",
            "--Current life of agent 1: 2\n",
            "--Current life of agent 2: 2\n",
            "--Probability of payoff for agent 1: 0.4\n",
            "--Probability of payoff for agent 2: 0.4\n",
            "\n",
            "--Action taken by player 1: wait\n",
            "--Action taken by player 2: play\n",
            "\n",
            "--Days left: 0\n",
            "--Current life of agent 1: 1\n",
            "--Current life of agent 2: 0\n",
            "--Probability of payoff for agent 1: 0.4\n",
            "--Probability of payoff for agent 2: 0.4\n",
            "--Previous action of agent 1: wait\n",
            "--Previous action of agent 2: play\n",
            "\n",
            "Episode #3\n",
            "==========\n",
            "--Days left: 2\n",
            "--Current life of agent 1: 1\n",
            "--Current life of agent 2: 1\n",
            "--Probability of payoff for agent 1: 0.2\n",
            "--Probability of payoff for agent 2: 0.2\n",
            "\n",
            "--Action taken by player 1: wait\n",
            "--Action taken by player 2: play\n",
            "\n",
            "--Days left: 1\n",
            "--Current life of agent 1: 0\n",
            "--Current life of agent 2: 0\n",
            "--Probability of payoff for agent 1: 0.2\n",
            "--Probability of payoff for agent 2: 0.2\n",
            "--Previous action of agent 1: wait\n",
            "--Previous action of agent 2: play\n",
            "\n",
            "--Action taken by player 1: wait\n",
            "--Action taken by player 2: play\n",
            "\n",
            "--Days left: 0\n",
            "--Current life of agent 1: 0\n",
            "--Current life of agent 2: 0\n",
            "--Probability of payoff for agent 1: 0.2\n",
            "--Probability of payoff for agent 2: 0.2\n",
            "--Previous action of agent 1: wait\n",
            "--Previous action of agent 2: play\n",
            "\n",
            "Episode #4\n",
            "==========\n",
            "--Days left: 2\n",
            "--Current life of agent 1: 1\n",
            "--Current life of agent 2: 2\n",
            "--Probability of payoff for agent 1: 0.2\n",
            "--Probability of payoff for agent 2: 0.2\n",
            "\n",
            "--Action taken by player 1: wait\n",
            "--Action taken by player 2: play\n",
            "\n",
            "--Days left: 1\n",
            "--Current life of agent 1: 0\n",
            "--Current life of agent 2: 0\n",
            "--Probability of payoff for agent 1: 0.2\n",
            "--Probability of payoff for agent 2: 0.2\n",
            "--Previous action of agent 1: wait\n",
            "--Previous action of agent 2: play\n",
            "\n",
            "--Action taken by player 1: wait\n",
            "--Action taken by player 2: play\n",
            "\n",
            "--Days left: 0\n",
            "--Current life of agent 1: 0\n",
            "--Current life of agent 2: 0\n",
            "--Probability of payoff for agent 1: 0.2\n",
            "--Probability of payoff for agent 2: 0.2\n",
            "--Previous action of agent 1: wait\n",
            "--Previous action of agent 2: play\n",
            "\n",
            "Episode #5\n",
            "==========\n",
            "--Days left: 1\n",
            "--Current life of agent 1: 2\n",
            "--Current life of agent 2: 2\n",
            "--Probability of payoff for agent 1: 0.2\n",
            "--Probability of payoff for agent 2: 0.2\n",
            "\n",
            "--Action taken by player 1: wait\n",
            "--Action taken by player 2: play\n",
            "\n",
            "--Days left: 0\n",
            "--Current life of agent 1: 1\n",
            "--Current life of agent 2: 3\n",
            "--Probability of payoff for agent 1: 0.2\n",
            "--Probability of payoff for agent 2: 0.2\n",
            "--Previous action of agent 1: wait\n",
            "--Previous action of agent 2: play\n",
            "\n"
          ]
        }
      ]
    },
    {
      "cell_type": "code",
      "source": [],
      "metadata": {
        "id": "biogmPIWxNv3"
      },
      "execution_count": null,
      "outputs": []
    }
  ]
}